{
 "cells": [
  {
   "cell_type": "markdown",
   "metadata": {
    "collapsed": true
   },
   "source": [
    "Les exercices du partiel sont calqués sur les *Acquis d'apprentissages visés*, vous trouverez des exemples d'exercices et d'anciens partiels dans la section *Entrainement*.\n",
    "\n",
    "Chaque exercice reçoit une note : \"A\" \"B\" \"C\" \"D\" ou \"E\". (\"Z\" = exercice non fait)\n",
    "\n",
    "Les fonctions suivantes permettent de calculer votre note finale en fonction des notes obtenues aux exercices."
   ]
  },
  {
   "cell_type": "code",
   "execution_count": 7,
   "metadata": {
    "collapsed": true
   },
   "outputs": [],
   "source": [
    "bareme = {\"A\": 20, \"B\": 16, \"C\": 11, \"D\": 8, \"E\": 1, \"Z\":0}\n",
    "valide = {\"A\",\"B\",\"C\"}\n",
    "ca_passe = {\"A\", \"B\", \"C\", \"D\"}"
   ]
  },
  {
   "cell_type": "markdown",
   "metadata": {},
   "source": [
    "Le premier partiel (décembre) contient 7 exercices : 6 exercices correspondant aux 6 AAV de la première partie de l'année et un exercice \"bonus\" de niveau 2. Pour valider le partiel, il faut obtenir au moins **4 exercices avec \"C\"** obtenir au  \"D\" ou plus sur tous les exercices sauf le bonus (pas de \"E\").\n",
    "\n",
    "Par ailleurs :\n",
    " * si vous obtenez **E** sur 2 exercices ou plus, votre note sera **au maximum 6** quelque soit votre réussite au reste\n",
    " * si vous obtenez **E** sur un 1 exercice ou **D** sur 3 exercices ou plus, votre note sera **au maximum 9** quelque soit votre réussite au reste\n",
    " * si vous obtenez **D** sur 2 exercices, votre note sera **au maximum 12** quelque soit votre réussite au reste.\n",
    "\n"
   ]
  },
  {
   "cell_type": "code",
   "execution_count": 8,
   "metadata": {
    "collapsed": true
   },
   "outputs": [],
   "source": [
    "def note_max(notes):\n",
    "    \"\"\"\n",
    "    Retourne la note maximale en fonction de la liste des résultats aux différents exercices\n",
    "    Input :\n",
    "        - une liste de taille 7 contenant les notes aux 7 exercices\n",
    "    \"\"\"\n",
    "    assert(len(notes) == 7)\n",
    "    notes = notes [:-1] # le bonus n'est pas pris en compte pour la validation\n",
    "    d = {k:0 for k in bareme}\n",
    "    for k in notes:\n",
    "        d[k]+=1\n",
    "    if d[\"E\"] + d[\"Z\"] >= 2:\n",
    "        return 6\n",
    "    if d[\"E\"] >= 1 or d[\"Z\"] >= 1 or d[\"D\"] + d[\"E\"] >= 3:\n",
    "        return 9\n",
    "    if d[\"D\"] >= 2:\n",
    "        return 12\n",
    "    return 20"
   ]
  },
  {
   "cell_type": "code",
   "execution_count": 10,
   "metadata": {},
   "outputs": [],
   "source": [
    "assert note_max([\"A\",\"B\",\"D\",\"A\",\"C\",\"A\",\"Z\"]) == 20\n",
    "assert note_max([\"A\",\"B\",\"D\",\"A\",\"C\",\"D\",\"Z\"]) == 12\n",
    "assert note_max([\"A\",\"A\",\"C\",\"D\",\"D\",\"E\",\"Z\"]) == 9\n",
    "assert note_max([\"C\",\"D\",\"D\",\"C\",\"C\",\"D\",\"Z\"]) == 9\n",
    "assert note_max([\"A\",\"B\",\"D\",\"D\",\"D\",\"D\",\"Z\"]) == 9\n",
    "assert note_max([\"A\",\"B\",\"E\",\"A\",\"C\",\"E\",\"Z\"]) == 6\n",
    "assert note_max([\"A\",\"Z\",\"D\",\"Z\",\"D\",\"D\",\"Z\"]) == 6\n",
    "assert note_max([\"A\",\"Z\",\"E\",\"D\",\"D\",\"D\",\"Z\"]) == 6"
   ]
  },
  {
   "cell_type": "code",
   "execution_count": 11,
   "metadata": {
    "collapsed": true
   },
   "outputs": [],
   "source": [
    "def valide_Partiel(notes):\n",
    "    \"\"\"\n",
    "    Retourne si le partiel est validé ou non en fonction de la \n",
    "    liste des resultats aux differents exercices.\n",
    "    Input :\n",
    "        - une liste de taille 7 contenant les notes aux 7 exercices\n",
    "    \"\"\"\n",
    "    return note_max(notes) >= 10"
   ]
  },
  {
   "cell_type": "code",
   "execution_count": 14,
   "metadata": {},
   "outputs": [],
   "source": [
    "assert valide_Partiel([\"A\",\"B\",\"D\",\"A\",\"C\",\"D\",\"Z\"])\n",
    "assert not valide_Partiel([\"A\",\"A\",\"C\",\"D\",\"D\",\"E\",\"Z\"])\n",
    "assert not valide_Partiel([\"C\",\"D\",\"D\",\"C\",\"C\",\"E\",\"Z\"]) \n",
    "assert not valide_Partiel([\"A\",\"B\",\"E\",\"A\",\"C\",\"E\",\"Z\"])\n",
    "assert not valide_Partiel([\"A\",\"B\",\"D\",\"D\",\"D\",\"D\",\"Z\"])\n",
    "assert not valide_Partiel([\"A\",\"B\",\"E\",\"C\",\"C\",\"C\",\"Z\"])\n",
    "assert not valide_Partiel([\"A\",\"B\",\"C\",\"D\",\"D\",\"D\",\"Z\"])"
   ]
  },
  {
   "cell_type": "code",
   "execution_count": 15,
   "metadata": {
    "collapsed": true
   },
   "outputs": [],
   "source": [
    "def calcule_note(notes, coeffs):\n",
    "    \"\"\"\n",
    "    Retourne la note sur 20 en fonction de la \n",
    "    liste des resultats aux differents exercices.\n",
    "    Input :\n",
    "        - une liste de taille 7 contenant les notes aux 7 exercices\n",
    "        - les coefficients associés\n",
    "    \"\"\"\n",
    "    mx = note_max(notes)\n",
    "    mn = 10\n",
    "    if mx < 10:\n",
    "        notes = notes[:-1] # on ne compte pas le bonus\n",
    "        coeffs = coeffs[:-1]\n",
    "        mn = 0\n",
    "\n",
    "    notes = [bareme[notes[i]]*coeffs[i] for i in range(len(notes))]\n",
    "    #print(sum(notes)/sum(coeffs))\n",
    "    return max(mn,min(mx, sum(notes)/sum(coeffs)))"
   ]
  },
  {
   "cell_type": "code",
   "execution_count": 16,
   "metadata": {
    "collapsed": true
   },
   "outputs": [],
   "source": [
    "def calcule_note_partiel1(notes):\n",
    "    return calcule_note(notes, [2,2,2,2,2,2,1])"
   ]
  },
  {
   "cell_type": "code",
   "execution_count": 17,
   "metadata": {
    "collapsed": true
   },
   "outputs": [],
   "source": [
    "def calcule_note_partiel2(notes):\n",
    "    return calcule_note(notes, [2,2,1,2,2,2,1])"
   ]
  },
  {
   "cell_type": "code",
   "execution_count": 18,
   "metadata": {},
   "outputs": [
    {
     "data": {
      "text/plain": [
       "6"
      ]
     },
     "execution_count": 18,
     "metadata": {},
     "output_type": "execute_result"
    }
   ],
   "source": [
    "calcule_note_partiel1([\"A\",\"C\",\"E\",\"E\",\"B\",\"B\",\"Z\"]) # 6"
   ]
  },
  {
   "cell_type": "code",
   "execution_count": 19,
   "metadata": {},
   "outputs": [
    {
     "data": {
      "text/plain": [
       "9"
      ]
     },
     "execution_count": 19,
     "metadata": {},
     "output_type": "execute_result"
    }
   ],
   "source": [
    "calcule_note_partiel1([\"A\",\"C\",\"D\",\"E\",\"B\",\"B\",\"Z\"]) # 9"
   ]
  },
  {
   "cell_type": "code",
   "execution_count": 20,
   "metadata": {},
   "outputs": [
    {
     "data": {
      "text/plain": [
       "12"
      ]
     },
     "execution_count": 20,
     "metadata": {},
     "output_type": "execute_result"
    }
   ],
   "source": [
    "calcule_note_partiel1([\"A\",\"C\",\"D\",\"D\",\"B\",\"B\",\"Z\"]) # 12"
   ]
  },
  {
   "cell_type": "code",
   "execution_count": 21,
   "metadata": {},
   "outputs": [
    {
     "data": {
      "text/plain": [
       "9"
      ]
     },
     "execution_count": 21,
     "metadata": {},
     "output_type": "execute_result"
    }
   ],
   "source": [
    "calcule_note_partiel1([\"D\",\"C\",\"D\",\"D\",\"D\",\"B\",\"Z\"]) # 9"
   ]
  },
  {
   "cell_type": "code",
   "execution_count": 22,
   "metadata": {},
   "outputs": [
    {
     "data": {
      "text/plain": [
       "9"
      ]
     },
     "execution_count": 22,
     "metadata": {},
     "output_type": "execute_result"
    }
   ],
   "source": [
    "calcule_note_partiel1([\"D\",\"D\",\"D\",\"C\",\"B\",\"B\",\"Z\"]) # 9"
   ]
  },
  {
   "cell_type": "code",
   "execution_count": 23,
   "metadata": {},
   "outputs": [
    {
     "data": {
      "text/plain": [
       "20"
      ]
     },
     "execution_count": 23,
     "metadata": {},
     "output_type": "execute_result"
    }
   ],
   "source": [
    "calcule_note_partiel1([\"A\",\"A\",\"A\",\"A\",\"A\",\"A\",\"A\"]) # 20"
   ]
  },
  {
   "cell_type": "code",
   "execution_count": 24,
   "metadata": {},
   "outputs": [
    {
     "data": {
      "text/plain": [
       "15.307692307692308"
      ]
     },
     "execution_count": 24,
     "metadata": {},
     "output_type": "execute_result"
    }
   ],
   "source": [
    "calcule_note_partiel1([\"A\",\"C\",\"A\",\"C\",\"B\",\"B\",\"C\"]) #15.3"
   ]
  },
  {
   "cell_type": "code",
   "execution_count": 25,
   "metadata": {},
   "outputs": [
    {
     "data": {
      "text/plain": [
       "14.692307692307692"
      ]
     },
     "execution_count": 25,
     "metadata": {},
     "output_type": "execute_result"
    }
   ],
   "source": [
    "calcule_note_partiel1([\"C\",\"C\",\"A\",\"B\",\"B\",\"B\",\"C\"]) "
   ]
  },
  {
   "cell_type": "code",
   "execution_count": 62,
   "metadata": {},
   "outputs": [
    {
     "data": {
      "text/plain": [
       "13.833333333333334"
      ]
     },
     "execution_count": 62,
     "metadata": {},
     "output_type": "execute_result"
    }
   ],
   "source": [
    "calcule_note_partiel2([\"C\",\"A\",\"A\",\"C\",\"C\",\"A\",\"Z\"])"
   ]
  },
  {
   "cell_type": "code",
   "execution_count": 52,
   "metadata": {},
   "outputs": [
    {
     "data": {
      "text/plain": [
       "20"
      ]
     },
     "execution_count": 52,
     "metadata": {},
     "output_type": "execute_result"
    }
   ],
   "source": [
    "note_max([\"C\",\"A\",\"A\",\"A\",\"A\",\"A\",\"B\"])"
   ]
  },
  {
   "cell_type": "code",
   "execution_count": null,
   "metadata": {
    "collapsed": true
   },
   "outputs": [],
   "source": []
  }
 ],
 "metadata": {
  "kernelspec": {
   "display_name": "Python 3",
   "language": "python",
   "name": "python3"
  },
  "language_info": {
   "codemirror_mode": {
    "name": "ipython",
    "version": 3
   },
   "file_extension": ".py",
   "mimetype": "text/x-python",
   "name": "python",
   "nbconvert_exporter": "python",
   "pygments_lexer": "ipython3",
   "version": "3.6.7"
  }
 },
 "nbformat": 4,
 "nbformat_minor": 2
}
