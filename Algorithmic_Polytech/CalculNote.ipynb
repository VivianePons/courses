{
 "cells": [
  {
   "cell_type": "markdown",
   "metadata": {
    "collapsed": true
   },
   "source": [
    "Les exercices du partiel sont calqués sur les *Acquis d'apprentissages visés*, vous trouverez des exemples d'exercices et d'anciens partiels dans la section *Entrainement*.\n",
    "\n",
    "Chaque exercice reçoit une note : \"A\" \"B\" \"C\" \"D\" ou \"E\".\n",
    "\n",
    "Les fonctions suivantes permettent de calculer votre note finale en fonction des notes obtenues aux exercices."
   ]
  },
  {
   "cell_type": "code",
   "execution_count": 5,
   "metadata": {
    "collapsed": true
   },
   "outputs": [],
   "source": [
    "bareme = {\"A\": 20, \"B\": 16, \"C\": 11, \"D\": 8, \"E\": 1, \"Z\":0}\n",
    "valide = {\"A\",\"B\",\"C\"}\n",
    "ca_passe = {\"A\", \"B\", \"C\", \"D\"}"
   ]
  },
  {
   "cell_type": "markdown",
   "metadata": {},
   "source": [
    "Le premier partiel (décembre) contient 7 exercices : 6 exercices correspondant aux 6 AAV de la première partie de l'année et un exercice \"bonus\" de niveau 2. Pour valider le partiel, il faut obtenir au moins 3 exercices avec \"C\" ou plus et au moins 5 exercices avec \"D\" ou plus (max 1 \"E\"). "
   ]
  },
  {
   "cell_type": "code",
   "execution_count": 4,
   "metadata": {
    "collapsed": true
   },
   "outputs": [],
   "source": [
    "def valide_Partiel1(notes):\n",
    "    \"\"\"\n",
    "    Retourne si le partiel est validé ou non en fonction de la \n",
    "    liste des resultats aux differents exercices.\n",
    "    Input :\n",
    "        - une liste de taille 7 contenant les notes aux 7 exercices\n",
    "    \"\"\"\n",
    "    assert(len(notes) == 7)\n",
    "    notes = notes [:-1] # le bonus n'est pas pris en compte pour la validation\n",
    "    return len([k for k in notes if k in valide]) >= 3 and len([k for k in notes if k in ca_passe]) >=5"
   ]
  },
  {
   "cell_type": "code",
   "execution_count": 7,
   "metadata": {
    "collapsed": true
   },
   "outputs": [],
   "source": [
    "assert(valide_Partiel1([\"A\",\"B\",\"D\",\"A\",\"C\",\"D\",\"Z\"]))\n",
    "assert(valide_Partiel1([\"A\",\"A\",\"C\",\"D\",\"D\",\"E\",\"Z\"]))\n",
    "assert(valide_Partiel1([\"C\",\"D\",\"D\",\"C\",\"C\",\"E\",\"Z\"]))\n",
    "assert(not valide_Partiel1([\"A\",\"B\",\"E\",\"A\",\"C\",\"E\",\"Z\"]))\n",
    "assert(not valide_Partiel1([\"A\",\"B\",\"D\",\"D\",\"D\",\"D\",\"Z\"]))"
   ]
  },
  {
   "cell_type": "code",
   "execution_count": 8,
   "metadata": {
    "collapsed": true
   },
   "outputs": [],
   "source": [
    "def calcule_note(notes):\n",
    "    \"\"\"\n",
    "    Retourne la note sur 20 en fonction de la \n",
    "    liste des resultats aux differents exercices.\n",
    "    Input :\n",
    "        - une liste de taille 7 contenant les notes aux 7 exercices\n",
    "    \"\"\"\n",
    "    coeffs = [2,2,2,2,2,2,1]\n",
    "    v = valide_Partiel1(notes)\n",
    "    if not v:\n",
    "        notes = notes[:-1] # on ne compte pas le bonus\n",
    "        notes = [bareme[k] for k in notes]\n",
    "        return min(9.5, sum(notes)/ len(notes))\n",
    "    notes = [bareme[notes[i]]*coeffs[i] for i in range(len(notes))]\n",
    "    return max(10, sum(notes)/sum(coeffs))"
   ]
  },
  {
   "cell_type": "code",
   "execution_count": 11,
   "metadata": {},
   "outputs": [
    {
     "data": {
      "text/plain": [
       "12.153846153846153"
      ]
     },
     "execution_count": 11,
     "metadata": {},
     "output_type": "execute_result"
    }
   ],
   "source": [
    "calcule_note([\"A\",\"C\",\"D\",\"D\",\"B\",\"B\",\"Z\"]) # 12.15"
   ]
  },
  {
   "cell_type": "code",
   "execution_count": 12,
   "metadata": {},
   "outputs": [
    {
     "data": {
      "text/plain": [
       "9.5"
      ]
     },
     "execution_count": 12,
     "metadata": {},
     "output_type": "execute_result"
    }
   ],
   "source": [
    "calcule_note([\"D\",\"C\",\"D\",\"D\",\"D\",\"B\",\"Z\"]) # 9.5"
   ]
  },
  {
   "cell_type": "code",
   "execution_count": 13,
   "metadata": {},
   "outputs": [
    {
     "data": {
      "text/plain": [
       "10.307692307692308"
      ]
     },
     "execution_count": 13,
     "metadata": {},
     "output_type": "execute_result"
    }
   ],
   "source": [
    "calcule_note([\"D\",\"D\",\"D\",\"C\",\"B\",\"B\",\"Z\"]) # 10.3"
   ]
  },
  {
   "cell_type": "code",
   "execution_count": 14,
   "metadata": {},
   "outputs": [
    {
     "data": {
      "text/plain": [
       "20.0"
      ]
     },
     "execution_count": 14,
     "metadata": {},
     "output_type": "execute_result"
    }
   ],
   "source": [
    "calcule_note([\"A\",\"A\",\"A\",\"A\",\"A\",\"A\",\"A\"])"
   ]
  },
  {
   "cell_type": "code",
   "execution_count": 15,
   "metadata": {},
   "outputs": [
    {
     "data": {
      "text/plain": [
       "15.307692307692308"
      ]
     },
     "execution_count": 15,
     "metadata": {},
     "output_type": "execute_result"
    }
   ],
   "source": [
    "calcule_note([\"A\",\"C\",\"A\",\"C\",\"B\",\"B\",\"C\"]) #15.3"
   ]
  },
  {
   "cell_type": "code",
   "execution_count": null,
   "metadata": {
    "collapsed": true
   },
   "outputs": [],
   "source": []
  }
 ],
 "metadata": {
  "kernelspec": {
   "display_name": "Python 3",
   "language": "python",
   "name": "python3"
  },
  "language_info": {
   "codemirror_mode": {
    "name": "ipython",
    "version": 3
   },
   "file_extension": ".py",
   "mimetype": "text/x-python",
   "name": "python",
   "nbconvert_exporter": "python",
   "pygments_lexer": "ipython3",
   "version": "3.6.1"
  }
 },
 "nbformat": 4,
 "nbformat_minor": 2
}
