{
 "cells": [
  {
   "cell_type": "markdown",
   "metadata": {},
   "source": [
    "# Introduction au python"
   ]
  },
  {
   "cell_type": "markdown",
   "metadata": {},
   "source": [
    "Le but de ce TP est de se familiariser avec le langage python que l'on utilisera tout au long du semestre."
   ]
  },
  {
   "cell_type": "markdown",
   "metadata": {},
   "source": [
    "## L'environnement IPython / Jupyter"
   ]
  },
  {
   "cell_type": "markdown",
   "metadata": {},
   "source": [
    "Nous effectuons ce TP dans un environnement de notebook **Jupyter**. Les différentes cellules peuvent contenir du code que l'on envoie à un noyeau python. Le noyeau les exécute et nous donne éventuellement un retour à afficher.\n",
    "\n",
    "Pour exécuter une cellule, cliquez dessus puis tapez \"Maj + Entrée\""
   ]
  },
  {
   "cell_type": "code",
   "execution_count": 1,
   "metadata": {},
   "outputs": [],
   "source": [
    "39 + 3"
   ]
  },
  {
   "cell_type": "markdown",
   "metadata": {},
   "source": [
    "L'environnement est *persistant*. C'est à dire que je peux utiliser les mêmes variables et fonctions dans différentes cellules.\n",
    "\n",
    "Par exemple, dans la cellule suivante, j'initialise une variable que j'affiche dans une autre cellule."
   ]
  },
  {
   "cell_type": "code",
   "execution_count": 2,
   "metadata": {},
   "outputs": [],
   "source": [
    "a = 6"
   ]
  },
  {
   "cell_type": "code",
   "execution_count": 4,
   "metadata": {},
   "outputs": [],
   "source": [
    "print(a)"
   ]
  },
  {
   "cell_type": "markdown",
   "metadata": {},
   "source": [
    "L'ordre dans lequel on exécute les cellules est important. Par exemple, si vous changez la valeur de $a$ puis ré-exécuter les deux cellules, le print sera modifié."
   ]
  },
  {
   "cell_type": "markdown",
   "metadata": {},
   "source": [
    "## La base de la base"
   ]
  },
  {
   "cell_type": "markdown",
   "metadata": {},
   "source": [
    "### Structure de tests ###"
   ]
  },
  {
   "cell_type": "markdown",
   "metadata": {},
   "source": [
    "En python, un bloc est délimité par une instruction terminant par deux points \":\" suivie d'un retour à la ligne avec **indentation**. Plus qu'une convention, l'indentation fait partie de la syntaxe du langage. Voici des exemples avec les blocs  *if*, *else* et *elif*. **Exécutez les cellules pour plusieurs valeurs de $a$**."
   ]
  },
  {
   "cell_type": "code",
   "execution_count": 5,
   "metadata": {},
   "outputs": [],
   "source": [
    "a = 10\n",
    "if a < 0:\n",
    "    print(-a)\n",
    "else:\n",
    "    print(a)"
   ]
  },
  {
   "cell_type": "code",
   "execution_count": 6,
   "metadata": {},
   "outputs": [],
   "source": [
    "a = 10\n",
    "if a < 0:\n",
    "    print(\"a est négatif\")\n",
    "elif a<=10:\n",
    "    print(\"a est positif, plus petit ou égal à 10\")\n",
    "else:\n",
    "    print(\"a est plus grand que 10\")"
   ]
  },
  {
   "cell_type": "markdown",
   "metadata": {},
   "source": [
    "Voici un bloc mal indenté, si vous l'exécutez il vous retournera une erreur. Observez l'erreur car vous risquez de la rencontrer régulièrement !"
   ]
  },
  {
   "cell_type": "code",
   "execution_count": 7,
   "metadata": {},
   "outputs": [],
   "source": [
    "a = 10\n",
    "if a < 0:\n",
    "print(-a)\n",
    "else:\n",
    "print(a)"
   ]
  },
  {
   "cell_type": "markdown",
   "metadata": {},
   "source": [
    "**Exercice : corrigez l'indentation des cellules suivantes**"
   ]
  },
  {
   "cell_type": "code",
   "execution_count": 0,
   "metadata": {
    "collapsed": true
   },
   "outputs": [],
   "source": [
    "a = 10\n",
    " b = 5\n",
    "    if a < b:\n",
    "        print(a)\n",
    "        else:\n",
    "            print(b)"
   ]
  },
  {
   "cell_type": "code",
   "execution_count": 9,
   "metadata": {},
   "outputs": [],
   "source": [
    "a = 100\n",
    "b = 30\n",
    "if a > b:\n",
    "    q = a/b\n",
    "     r = a%b\n",
    "    if r != 0:\n",
    "        print(a, \" = \",q,\"*\",b,\" + \",r)\n",
    "    else:\n",
    "        print(a, \" est divisible par \", b)"
   ]
  },
  {
   "cell_type": "code",
   "execution_count": 10,
   "metadata": {},
   "outputs": [],
   "source": [
    "m = 12342\n",
    "h = 0\n",
    "if m > 60:\n",
    "    h = m/60\n",
    "    m = m%60\n",
    "  print(h,\":\",m)"
   ]
  },
  {
   "cell_type": "code",
   "execution_count": 11,
   "metadata": {},
   "outputs": [],
   "source": [
    "a = 5\n",
    "b = 6\n",
    "if a > 5:\n",
    "    if b > 5:\n",
    "        print(\"a et b sont supérieurs à 5\")\n",
    "     else:\n",
    "        print(\"seul a est supérieur à 5\")\n",
    " else:\n",
    "    if b > 5:\n",
    "        print(\"seul b est supérieur à 5\")\n",
    "    else:\n",
    "        print(\"a et b sont inférieurs à 5\")"
   ]
  },
  {
   "cell_type": "markdown",
   "metadata": {},
   "source": [
    "Les valeurs booléennes peuvent être combinées à l'aide des opérateurs **and** et **or**. Voici quelques rappels sur les booléens."
   ]
  },
  {
   "cell_type": "code",
   "execution_count": 12,
   "metadata": {},
   "outputs": [],
   "source": [
    "print(True and True)\n",
    "print(True and False)\n",
    "print(True or True)\n",
    "print(True or False)"
   ]
  },
  {
   "cell_type": "markdown",
   "metadata": {},
   "source": [
    "Il existe aussi un opérateur unaire **not**."
   ]
  },
  {
   "cell_type": "code",
   "execution_count": 13,
   "metadata": {},
   "outputs": [],
   "source": [
    "print(not True)\n",
    "print(not False)"
   ]
  },
  {
   "cell_type": "markdown",
   "metadata": {},
   "source": [
    "**Exercice : voici 3 variables qui représentent une date. Testez si cette date est valide. Testez aussi avec d'autres valeurs.**"
   ]
  },
  {
   "cell_type": "markdown",
   "metadata": {},
   "source": [
    "Rappel : les années bissextiles sont celles qui sont divisbles par 4 mais pas par 100 ou alors divisbles par 400. Par exemple, 1996, et 2004 sont des années bissextiles (divisibles par 4 et pas par 100), 2000 aussi car divisble par 400, par contre pas 2100. "
   ]
  },
  {
   "cell_type": "code",
   "execution_count": 27,
   "metadata": {},
   "outputs": [],
   "source": [
    "j = 31\n",
    "m = 6\n",
    "annee = 2017"
   ]
  },
  {
   "cell_type": "code",
   "execution_count": 28,
   "metadata": {},
   "outputs": [],
   "source": []
  },
  {
   "cell_type": "code",
   "execution_count": 0,
   "metadata": {
    "collapsed": true
   },
   "outputs": [],
   "source": []
  },
  {
   "cell_type": "code",
   "execution_count": 0,
   "metadata": {
    "collapsed": true
   },
   "outputs": [],
   "source": []
  },
  {
   "cell_type": "markdown",
   "metadata": {},
   "source": [
    "### Boucle while"
   ]
  },
  {
   "cell_type": "markdown",
   "metadata": {},
   "source": [
    "La boucle while python est très similaire à celles des autres langages, sa syntaxe suit la logique python (avec \":\" et indentation). Voici un premier exemple."
   ]
  },
  {
   "cell_type": "code",
   "execution_count": 29,
   "metadata": {},
   "outputs": [],
   "source": [
    "a = 0\n",
    "while a < 10:\n",
    "    a+=1\n",
    "    print(a)"
   ]
  },
  {
   "cell_type": "markdown",
   "metadata": {},
   "source": [
    "**Exercice : recopier et compléter le schéma ci-dessous pour que le nombre d'affichage soit :**\n",
    " 1. **égal à $n/2$**\n",
    " 2. **égal à $\\log(n)$**\n",
    " 3. **égal à $\\sqrt(n)$**"
   ]
  },
  {
   "cell_type": "code",
   "execution_count": 0,
   "metadata": {
    "collapsed": true
   },
   "outputs": [],
   "source": [
    "a = ??\n",
    "n = 100\n",
    "while ?? < n:\n",
    "    print(a)\n",
    "    ??"
   ]
  },
  {
   "cell_type": "code",
   "execution_count": 30,
   "metadata": {},
   "outputs": [],
   "source": []
  },
  {
   "cell_type": "code",
   "execution_count": 0,
   "metadata": {
    "collapsed": true
   },
   "outputs": [],
   "source": []
  },
  {
   "cell_type": "code",
   "execution_count": 31,
   "metadata": {},
   "outputs": [],
   "source": []
  },
  {
   "cell_type": "code",
   "execution_count": 32,
   "metadata": {},
   "outputs": [],
   "source": []
  },
  {
   "cell_type": "markdown",
   "metadata": {},
   "source": [
    "### types de variables"
   ]
  },
  {
   "cell_type": "markdown",
   "metadata": {},
   "source": [
    "Même si on ne les déclare pas, les variables python ont un type. Simplement, ce type est **dynamique** c'est-à-dire que le type de la variable s'adapte à la valeur qu'elle prend."
   ]
  },
  {
   "cell_type": "code",
   "execution_count": 33,
   "metadata": {},
   "outputs": [],
   "source": [
    "a = 10\n",
    "print(type(a))\n",
    "a = \"test\"\n",
    "print(type(a))"
   ]
  },
  {
   "cell_type": "markdown",
   "metadata": {},
   "source": [
    "Voici quelques types de base : int, long, float, string, bool. \n",
    "\n",
    "**Exercice : créez des variables et jouez sur les valeurs pour obtenir différents types. Pour chacun des types, essayez ce que donne l'addition avec d'autres types ou avec eux mêmes quand le résultat n'est pas évident.**"
   ]
  },
  {
   "cell_type": "code",
   "execution_count": 0,
   "metadata": {},
   "outputs": [],
   "source": []
  },
  {
   "cell_type": "code",
   "execution_count": 0,
   "metadata": {},
   "outputs": [],
   "source": []
  },
  {
   "cell_type": "code",
   "execution_count": 0,
   "metadata": {},
   "outputs": [],
   "source": []
  },
  {
   "cell_type": "code",
   "execution_count": 0,
   "metadata": {
    "collapsed": true
   },
   "outputs": [],
   "source": []
  },
  {
   "cell_type": "code",
   "execution_count": 0,
   "metadata": {
    "collapsed": true
   },
   "outputs": [],
   "source": []
  },
  {
   "cell_type": "markdown",
   "metadata": {},
   "source": [
    "Les entiers python n'ont pas de limite de taille : ils peuvent prendre des valeurs aussi grandes que la mémoire du programme le permet. Cependant, plus ils grossissent et plus ils prennent de place et plus les calculs peuvents être longs, mettant à mal le modèle de complexité que nous avons vu en classe où les opérations de base sont supposées en temps constant.\n",
    "\n",
    "On cherche à savoir à quel moment on dépasse la capacité d'un entier C. "
   ]
  },
  {
   "cell_type": "code",
   "execution_count": 44,
   "metadata": {},
   "outputs": [],
   "source": [
    "from ctypes import c_int"
   ]
  },
  {
   "cell_type": "code",
   "execution_count": 45,
   "metadata": {},
   "outputs": [],
   "source": [
    "c_int(123).value"
   ]
  },
  {
   "cell_type": "code",
   "execution_count": 49,
   "metadata": {},
   "outputs": [],
   "source": [
    "c_int(123000000000).value # un nombre négatif... On a dépassé la capacité"
   ]
  },
  {
   "cell_type": "markdown",
   "metadata": {},
   "source": [
    "**Exercice : écrivez une boucle qui trouve le premier entier tel i tel que `c_int(i).value` soit inférieur à 0 (dépassement de capacité)**"
   ]
  },
  {
   "cell_type": "code",
   "execution_count": 55,
   "metadata": {},
   "outputs": [],
   "source": []
  },
  {
   "cell_type": "code",
   "execution_count": 0,
   "metadata": {},
   "outputs": [],
   "source": []
  },
  {
   "cell_type": "code",
   "execution_count": 57,
   "metadata": {},
   "outputs": [],
   "source": []
  },
  {
   "cell_type": "markdown",
   "metadata": {},
   "source": [
    "Votre boucle prend trop de temps ? Vous pouvez la stopper avec le bouton stop \"interupt kernel\" marqué d'un carré en haut du notebook. Et surtout, vous pouvez trouver plus efficace..."
   ]
  },
  {
   "cell_type": "code",
   "execution_count": 4,
   "metadata": {},
   "outputs": [],
   "source": []
  },
  {
   "cell_type": "code",
   "execution_count": 0,
   "metadata": {},
   "outputs": [],
   "source": []
  },
  {
   "cell_type": "code",
   "execution_count": 0,
   "metadata": {},
   "outputs": [],
   "source": []
  },
  {
   "cell_type": "markdown",
   "metadata": {},
   "source": [
    "## Listes et for"
   ]
  },
  {
   "cell_type": "markdown",
   "metadata": {
    "collapsed": true
   },
   "source": [
    "Les boucles for en python sont très différentes de la version que l'on trouve par exemple, en C, java ou C++. En fait, ce sont par défaut des boucles *foreach*. Pour pouvoir les utilsier correctement, on va d'abord apprendre à se servir d'une structure fondamentale en python : les listes."
   ]
  },
  {
   "cell_type": "markdown",
   "metadata": {},
   "source": [
    "### Listes"
   ]
  },
  {
   "cell_type": "markdown",
   "metadata": {},
   "source": [
    "Les listes python sont en fait l'équivalent des tableaux. Comme on l'a vu en cours, elles sont codées par des systèmes de tableaux dynamiques. En particulier, ce ne sont pas des listes chaînées. \n",
    "\n",
    "Voici comment l'on crée une liste, la liste vide :"
   ]
  },
  {
   "cell_type": "code",
   "execution_count": 3,
   "metadata": {},
   "outputs": [],
   "source": [
    "l = []\n",
    "print(l)"
   ]
  },
  {
   "cell_type": "markdown",
   "metadata": {},
   "source": [
    "liste contenant des valeurs :"
   ]
  },
  {
   "cell_type": "code",
   "execution_count": 4,
   "metadata": {},
   "outputs": [],
   "source": [
    "l = [1,2,3]\n",
    "print(l)"
   ]
  },
  {
   "cell_type": "markdown",
   "metadata": {},
   "source": [
    "On peut accéder aux différentes valeurs grâce à leur indice :"
   ]
  },
  {
   "cell_type": "code",
   "execution_count": 5,
   "metadata": {},
   "outputs": [],
   "source": [
    "print(l[0])\n",
    "print(l[1])\n",
    "print(l[2])"
   ]
  },
  {
   "cell_type": "markdown",
   "metadata": {},
   "source": [
    "Contrairement au C ou au C++, le python vérifie que l'indice ne dépasse pas la taille de la liste."
   ]
  },
  {
   "cell_type": "code",
   "execution_count": 6,
   "metadata": {},
   "outputs": [],
   "source": [
    "print(l[3])"
   ]
  },
  {
   "cell_type": "markdown",
   "metadata": {},
   "source": [
    "Pour connaître la taille de la liste, on utilise la fonction *len*."
   ]
  },
  {
   "cell_type": "code",
   "execution_count": 7,
   "metadata": {},
   "outputs": [],
   "source": [
    "len(l)"
   ]
  },
  {
   "cell_type": "markdown",
   "metadata": {},
   "source": [
    "** Exercice : Créez une liste et écrivez une boucle while qui affiche les différentes valeurs de la liste **"
   ]
  },
  {
   "cell_type": "code",
   "execution_count": 0,
   "metadata": {},
   "outputs": [],
   "source": []
  },
  {
   "cell_type": "code",
   "execution_count": 0,
   "metadata": {
    "collapsed": true
   },
   "outputs": [],
   "source": []
  },
  {
   "cell_type": "markdown",
   "metadata": {},
   "source": [
    "De nombreuses opérations sont possibles sur les listes.\n",
    "\n",
    "Ajout d'un élément :"
   ]
  },
  {
   "cell_type": "code",
   "execution_count": 8,
   "metadata": {},
   "outputs": [],
   "source": [
    "l.append(5)\n",
    "print(l)"
   ]
  },
  {
   "cell_type": "markdown",
   "metadata": {},
   "source": [
    "Extension par une autre liste :"
   ]
  },
  {
   "cell_type": "code",
   "execution_count": 9,
   "metadata": {},
   "outputs": [],
   "source": [
    "l.extend([4,4,3])\n",
    "print(l)"
   ]
  },
  {
   "cell_type": "markdown",
   "metadata": {},
   "source": [
    "Somme de 2 listes :"
   ]
  },
  {
   "cell_type": "code",
   "execution_count": 10,
   "metadata": {},
   "outputs": [],
   "source": [
    "[1,2,3] + [4,5,6]"
   ]
  },
  {
   "cell_type": "markdown",
   "metadata": {},
   "source": [
    "Attention cependant, cette seconde méthode est moins efficace que la première, elle nécessite la création d'une troisième liste dans laquelle on recopie les valeurs des deux listes additionnées."
   ]
  },
  {
   "cell_type": "markdown",
   "metadata": {},
   "source": [
    "** Exercice : créez une liste vide et ajoutez lui tous les nombres pairs jusqu'à 100 à l'aide d'une boucle while **"
   ]
  },
  {
   "cell_type": "code",
   "execution_count": 0,
   "metadata": {
    "collapsed": true
   },
   "outputs": [],
   "source": []
  },
  {
   "cell_type": "markdown",
   "metadata": {},
   "source": [
    "### La fonction range"
   ]
  },
  {
   "cell_type": "markdown",
   "metadata": {},
   "source": [
    "La fonction *range* retourne un itérateur qui permet de créer des listes d'entiers "
   ]
  },
  {
   "cell_type": "code",
   "execution_count": 11,
   "metadata": {},
   "outputs": [],
   "source": [
    "list(range(10))"
   ]
  },
  {
   "cell_type": "markdown",
   "metadata": {},
   "source": [
    "On peut l'utiliser de différentes façons :\n",
    "* *range*(n) -- les entiers de 0 à n-1\n",
    "* *range*(i,j) -- les entiers de i à j-1\n",
    "* *range*(i,j,k) -- les entiers de i à j-1 avec un pas de k\n",
    "\n",
    "Quelques exemples :"
   ]
  },
  {
   "cell_type": "code",
   "execution_count": 12,
   "metadata": {},
   "outputs": [],
   "source": [
    "list(range(2,15))"
   ]
  },
  {
   "cell_type": "code",
   "execution_count": 13,
   "metadata": {},
   "outputs": [],
   "source": [
    "list(range(2,15,3))"
   ]
  },
  {
   "cell_type": "markdown",
   "metadata": {},
   "source": [
    "** Exercice : créez la liste **\n",
    "1. **des entiers de 0 à 19,**\n",
    "2. **des entiers de 1 à 10,**\n",
    "3. **des entiers pairs de 0 à 20**\n",
    "4. **des entiers de 10 à 1**\n",
    "5. **des entiers négatifs de -20 à -1**\n",
    "6. **des entiers négatifs de -1 à -20**"
   ]
  },
  {
   "cell_type": "code",
   "execution_count": 14,
   "metadata": {},
   "outputs": [],
   "source": []
  },
  {
   "cell_type": "code",
   "execution_count": 15,
   "metadata": {},
   "outputs": [],
   "source": []
  },
  {
   "cell_type": "code",
   "execution_count": 18,
   "metadata": {},
   "outputs": [],
   "source": []
  },
  {
   "cell_type": "code",
   "execution_count": 19,
   "metadata": {},
   "outputs": [],
   "source": []
  },
  {
   "cell_type": "code",
   "execution_count": 20,
   "metadata": {},
   "outputs": [],
   "source": []
  },
  {
   "cell_type": "code",
   "execution_count": 21,
   "metadata": {},
   "outputs": [],
   "source": []
  },
  {
   "cell_type": "markdown",
   "metadata": {},
   "source": [
    "### La boucle for"
   ]
  },
  {
   "cell_type": "markdown",
   "metadata": {},
   "source": [
    "Comme je l'ai écrit plus haut, la boucle *for* est en fait un *foreach*, elle permet de parcourir les valeurs d'une liste."
   ]
  },
  {
   "cell_type": "code",
   "execution_count": 22,
   "metadata": {},
   "outputs": [],
   "source": [
    "l = [2,2,4,2,3]\n",
    "for v in l:\n",
    "    print(v)"
   ]
  },
  {
   "cell_type": "markdown",
   "metadata": {
    "collapsed": true
   },
   "source": [
    "En la combinant avec la fonction *range*, on obtient le comportement classique de la boucle for.\n",
    "\n",
    "Ainsi on traduit le \n",
    "\n",
    "*Pour i allant de 0 à n-1*\n",
    "\n",
    "par"
   ]
  },
  {
   "cell_type": "code",
   "execution_count": 23,
   "metadata": {},
   "outputs": [],
   "source": [
    "n=10\n",
    "for i in range(n):\n",
    "    print(i)"
   ]
  },
  {
   "cell_type": "markdown",
   "metadata": {},
   "source": [
    "Remarque : *range* retourne un itérateur pour éviter de charger *l'ensemble de la liste e mémoire* quand ce n'est pas nécessaire. Par exemple, ci-dessous, la liste de taille 1000000 n'est jamais créee, on en parcourt simplement les éléments."
   ]
  },
  {
   "cell_type": "code",
   "execution_count": 29,
   "metadata": {},
   "outputs": [],
   "source": [
    "for i in range(1000000):\n",
    "    # du code (je fais pas de print, ça prendrait trop de place)\n",
    "    pass\n",
    "print(i)"
   ]
  },
  {
   "cell_type": "code",
   "execution_count": 0,
   "metadata": {},
   "outputs": [],
   "source": []
  },
  {
   "cell_type": "markdown",
   "metadata": {},
   "source": [
    "** Exercice : utilisez une boucle for pour afficher le carré des entiers de 1 à 10**"
   ]
  },
  {
   "cell_type": "code",
   "execution_count": 31,
   "metadata": {},
   "outputs": [],
   "source": []
  },
  {
   "cell_type": "code",
   "execution_count": 0,
   "metadata": {
    "collapsed": true
   },
   "outputs": [],
   "source": []
  },
  {
   "cell_type": "markdown",
   "metadata": {},
   "source": [
    "** Ecrivez une boucle pour compter le nombre d'occurences de a dans la liste ci-dessous**"
   ]
  },
  {
   "cell_type": "code",
   "execution_count": 32,
   "metadata": {},
   "outputs": [],
   "source": [
    "l = [2,3,3,2,4,4,2,3,2,4,5,2,2,3]\n",
    "a = 3"
   ]
  },
  {
   "cell_type": "code",
   "execution_count": 33,
   "metadata": {},
   "outputs": [],
   "source": []
  },
  {
   "cell_type": "code",
   "execution_count": 0,
   "metadata": {
    "collapsed": true
   },
   "outputs": [],
   "source": []
  },
  {
   "cell_type": "markdown",
   "metadata": {},
   "source": [
    "### La compréhension de liste"
   ]
  },
  {
   "cell_type": "markdown",
   "metadata": {},
   "source": [
    "La compréhension de liste (*list comprehension* en anglais) est un outil particulièrement pratique du python. Elle permet de combiner la création de liste avec une boucle *for* pour créer directement des listes spécifiques.\n",
    "\n",
    "Exemple :\n",
    "\n",
    "Les entiers pairs de 0 à 99 :"
   ]
  },
  {
   "cell_type": "code",
   "execution_count": 34,
   "metadata": {},
   "outputs": [],
   "source": [
    "l = [2*i for i in range(50)]\n",
    "print(l)"
   ]
  },
  {
   "cell_type": "markdown",
   "metadata": {},
   "source": [
    "** Exercice : en utilisant une syntaxe similare, créez la liste des $i^2$ pour $0 \\leq i < 50$ ainsi que la liste des nombres impairs plus petits que 100**"
   ]
  },
  {
   "cell_type": "code",
   "execution_count": 35,
   "metadata": {},
   "outputs": [],
   "source": []
  },
  {
   "cell_type": "code",
   "execution_count": 36,
   "metadata": {},
   "outputs": [],
   "source": []
  },
  {
   "cell_type": "markdown",
   "metadata": {},
   "source": [
    "Par ailleurs, on peut même rajouter des *if* dans la compréhension de liste. Voici une autre façon de créer les entiers pairs inférieurs à 100 :"
   ]
  },
  {
   "cell_type": "code",
   "execution_count": 37,
   "metadata": {},
   "outputs": [],
   "source": [
    "l = [i for i in range(100) if i%2==0]\n",
    "print(l)"
   ]
  },
  {
   "cell_type": "markdown",
   "metadata": {},
   "source": [
    "La condition à respecter se place après le *for* un peu comme dans un ensemble mathématique :\n",
    "\n",
    "$$\\lbrace i; i \\in [[0,99]], i\\text{ est pair}\\rbrace$$"
   ]
  },
  {
   "cell_type": "markdown",
   "metadata": {},
   "source": [
    "**Exercice : en utilisant une syntaxe similaire, créez la liste des entiers plus petits que 100 divisibles par 3, puis la liste des entiers divisibles à la fois par 2 et par 3**"
   ]
  },
  {
   "cell_type": "code",
   "execution_count": 38,
   "metadata": {},
   "outputs": [],
   "source": []
  },
  {
   "cell_type": "code",
   "execution_count": 39,
   "metadata": {},
   "outputs": [],
   "source": []
  },
  {
   "cell_type": "markdown",
   "metadata": {},
   "source": [
    "## Fonctions"
   ]
  },
  {
   "cell_type": "markdown",
   "metadata": {},
   "source": [
    "La dernière notion que nous verrons aujourd'hui est celle de **fonction**. Elle n'est pas différente en python de ce qu'on voit dans d'autres langages. La syntaxe suit la logique des autres blocs python."
   ]
  },
  {
   "cell_type": "code",
   "execution_count": 40,
   "metadata": {},
   "outputs": [],
   "source": [
    "def maFonction(a, b):\n",
    "    if a > b:\n",
    "        return a\n",
    "    else:\n",
    "        return b"
   ]
  },
  {
   "cell_type": "markdown",
   "metadata": {},
   "source": [
    "L'exécution du bloc ci-dessus n'a rien affiché, mais elle a permis de définir *maFonction* que l'on pourra utiliser par la suite."
   ]
  },
  {
   "cell_type": "code",
   "execution_count": 41,
   "metadata": {},
   "outputs": [],
   "source": [
    "print(maFonction(4,5))\n",
    "print(maFonction(40,-2))\n",
    "print(maFonction(-5,-6))\n",
    "print(maFonction(0.222,4))"
   ]
  },
  {
   "cell_type": "markdown",
   "metadata": {},
   "source": [
    "Si on essaie d'affecter à une variable un appel de fonction qui ne retourne pas de valeur, on récupère un objet null représenté par le mot clé python *none*."
   ]
  },
  {
   "cell_type": "code",
   "execution_count": 42,
   "metadata": {},
   "outputs": [],
   "source": [
    "def rienDuTout(a):\n",
    "    return"
   ]
  },
  {
   "cell_type": "code",
   "execution_count": 43,
   "metadata": {},
   "outputs": [],
   "source": [
    "b = rienDuTout(10)\n",
    "print(b)\n",
    "print(b is None)"
   ]
  },
  {
   "cell_type": "markdown",
   "metadata": {},
   "source": [
    "**Exercice :  Voici un prototype de fonction très basique. Lisez la documentation, complétez le corps de la fonction, exécutez là puis exécutez les tests en dessous.**\n",
    "\n",
    "(Notez que les triples guillemets sont utilisés en python pour écrire des blocs de commentaires, pour une simple ligne de commentaire, on utilisera le caractère #)"
   ]
  },
  {
   "cell_type": "code",
   "execution_count": 44,
   "metadata": {},
   "outputs": [],
   "source": [
    "def absolue(a):\n",
    "    \"\"\"\n",
    "    Retourne la valeur absolue d'en entier\n",
    "    Input :\n",
    "        - a, un entier\n",
    "    \"\"\"\n",
    "    # écrire le code\n"
   ]
  },
  {
   "cell_type": "code",
   "execution_count": 46,
   "metadata": {},
   "outputs": [],
   "source": [
    "assert absolue(4)==4\n",
    "assert absolue(-3)==3\n",
    "assert absolue(0)==0\n",
    "print(\"Les tests passent !\")"
   ]
  },
  {
   "cell_type": "markdown",
   "metadata": {},
   "source": [
    "L'instruction *assert* vérifie simplement qu'une expression est *True*. Si c'est le cas, rien ne se passe, sinon, cela lève une exception."
   ]
  },
  {
   "cell_type": "code",
   "execution_count": 47,
   "metadata": {},
   "outputs": [],
   "source": [
    "assert True"
   ]
  },
  {
   "cell_type": "code",
   "execution_count": 48,
   "metadata": {},
   "outputs": [],
   "source": [
    "assert False"
   ]
  },
  {
   "cell_type": "markdown",
   "metadata": {},
   "source": [
    "** Exercice : même chose pour les fonctions suivantes **"
   ]
  },
  {
   "cell_type": "code",
   "execution_count": 49,
   "metadata": {},
   "outputs": [],
   "source": [
    "def puissance(a,b):\n",
    "    \"\"\"\n",
    "    Retourne a à la puissance b\n",
    "    Input :\n",
    "        - a, un nombre (entier ou float)\n",
    "        - b, un entier positif\n",
    "    \"\"\"\n",
    "    # pour l'instant, on se contente de la version en O(n) avec une simple boucle\n"
   ]
  },
  {
   "cell_type": "code",
   "execution_count": 50,
   "metadata": {},
   "outputs": [],
   "source": [
    "assert puissance(2,3)==2**3\n",
    "assert puissance(3,4)==3**4\n",
    "assert puissance(-1,5)==-1\n",
    "print(\"Les tests passent !\")"
   ]
  },
  {
   "cell_type": "code",
   "execution_count": 53,
   "metadata": {},
   "outputs": [],
   "source": [
    "def sommen(n):\n",
    "    \"\"\"\n",
    "    Retourne la somme des entiers de 1 à n (inclus)\n",
    "    Input :\n",
    "        - n, un entier\n",
    "    \"\"\"\n",
    "    # écrire le code\n"
   ]
  },
  {
   "cell_type": "code",
   "execution_count": 54,
   "metadata": {},
   "outputs": [],
   "source": [
    "assert sommen(10)==55\n",
    "assert sommen(13)==91\n",
    "print(\"Les tests passent !\")"
   ]
  },
  {
   "cell_type": "code",
   "execution_count": 57,
   "metadata": {},
   "outputs": [],
   "source": [
    "def maximumListe(l):\n",
    "    \"\"\"\n",
    "    Retourne l'élément maximum d'une liste\n",
    "    Input :\n",
    "        - l, une liste\n",
    "    \"\"\"\n",
    "    # écrire le code\n"
   ]
  },
  {
   "cell_type": "code",
   "execution_count": 58,
   "metadata": {},
   "outputs": [],
   "source": [
    "assert maximumListe([2,4,2,5,7,7,2])==7\n",
    "assert maximumListe([14,4,2,5,7,7,2])==14\n",
    "assert maximumListe([2,4,2,5,7,7,23])==23"
   ]
  },
  {
   "cell_type": "code",
   "execution_count": 0,
   "metadata": {
    "collapsed": true
   },
   "outputs": [],
   "source": []
  }
 ],
 "metadata": {
  "kernelspec": {
   "display_name": "Python 3",
   "language": "python",
   "name": "python3"
  },
  "language_info": {
   "codemirror_mode": {
    "name": "ipython",
    "version": 3
   },
   "file_extension": ".py",
   "mimetype": "text/x-python",
   "name": "python",
   "nbconvert_exporter": "python",
   "pygments_lexer": "ipython3",
   "version": "3.6.1"
  },
  "name": "TP0.ipynb"
 },
 "nbformat": 4,
 "nbformat_minor": 1
}
