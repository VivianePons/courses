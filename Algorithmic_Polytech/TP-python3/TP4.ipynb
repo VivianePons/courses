{
 "cells": [
  {
   "cell_type": "markdown",
   "metadata": {
    "collapsed": false
   },
   "source": [
    "# Tris"
   ]
  },
  {
   "cell_type": "markdown",
   "metadata": {
    "collapsed": false
   },
   "source": [
    "## Les plus simples"
   ]
  },
  {
   "cell_type": "markdown",
   "metadata": {
    "collapsed": false
   },
   "source": [
    "Implanter les trois tris classiques suivants, selon les algorithmes vus en cours.\n",
    "\n",
    "**Remarque : en python on peut échanger deux variables comme ça **"
   ]
  },
  {
   "cell_type": "code",
   "execution_count": 1,
   "metadata": {
    "collapsed": false
   },
   "outputs": [
   ],
   "source": [
    "a = 5\n",
    "b = 6\n",
    "a,b = b,a\n",
    "print(a)\n",
    "print(b)"
   ]
  },
  {
   "cell_type": "code",
   "execution_count": 4,
   "metadata": {
    "collapsed": false
   },
   "outputs": [
   ],
   "source": [
    "def triSelection(t):\n",
    "    \"\"\"\n",
    "    Tri sélection\n",
    "    Sélectionne un élément maximal à chaque itération\n",
    "    Input :\n",
    "        - t un tableau\n",
    "    \"\"\"\n",
    "    # écrire le code\n"
   ]
  },
  {
   "cell_type": "code",
   "execution_count": 6,
   "metadata": {
    "collapsed": false
   },
   "outputs": [
   ],
   "source": [
    "t = []\n",
    "triSelection(t)\n",
    "assert t == []\n",
    "t = [5,4,3,2,1]\n",
    "triSelection(t)\n",
    "assert t == [1,2,3,4,5]\n",
    "triSelection(t)\n",
    "assert t == [1,2,3,4,5]\n",
    "t = [1,5,2,13,4,2,4,13,4,5,7,6]\n",
    "triSelection(t)\n",
    "assert t == [1, 2, 2, 4, 4, 4, 5, 5, 6, 7, 13, 13]"
   ]
  },
  {
   "cell_type": "code",
   "execution_count": 8,
   "metadata": {
    "collapsed": false
   },
   "outputs": [
   ],
   "source": [
    "def triBulles(t):\n",
    "    \"\"\"\n",
    "    Tri Bulles\n",
    "    Parcours autant de fois que nécessaire les couples de valeurs adjacentes\n",
    "    Input :\n",
    "        - t un tableau\n",
    "    \"\"\"\n",
    "    # écrire le code\n"
   ]
  },
  {
   "cell_type": "code",
   "execution_count": 9,
   "metadata": {
    "collapsed": false
   },
   "outputs": [
   ],
   "source": [
    "t = []\n",
    "triBulles(t)\n",
    "assert t == []\n",
    "t = [5,4,3,2,1]\n",
    "triBulles(t)\n",
    "assert t == [1,2,3,4,5]\n",
    "triBulles(t)\n",
    "assert t == [1,2,3,4,5]\n",
    "t = [1,5,2,13,4,2,4,13,4,5,7,6]\n",
    "triBulles(t)\n",
    "assert t == [1, 2, 2, 4, 4, 4, 5, 5, 6, 7, 13, 13]"
   ]
  },
  {
   "cell_type": "code",
   "execution_count": 10,
   "metadata": {
    "collapsed": false
   },
   "outputs": [
   ],
   "source": [
    "def triInsertion(t):\n",
    "    \"\"\"\n",
    "    Tri Insertion\n",
    "    Insère dans la partie gauche triée du tableau\n",
    "    Input :\n",
    "        - t un tableau\n",
    "    \"\"\"\n",
    "    # écrire le code\n"
   ]
  },
  {
   "cell_type": "code",
   "execution_count": 11,
   "metadata": {
    "collapsed": false
   },
   "outputs": [
   ],
   "source": [
    "t = []\n",
    "triInsertion(t)\n",
    "assert t == []\n",
    "t = [5,4,3,2,1]\n",
    "triInsertion(t)\n",
    "assert t == [1,2,3,4,5]\n",
    "triInsertion(t)\n",
    "assert t == [1,2,3,4,5]\n",
    "t = [1,5,2,13,4,2,4,13,4,5,7,6]\n",
    "triInsertion(t)\n",
    "assert t == [1, 2, 2, 4, 4, 4, 5, 5, 6, 7, 13, 13]"
   ]
  },
  {
   "cell_type": "markdown",
   "metadata": {
    "collapsed": false
   },
   "source": [
    "Reprendre les fonctions précédentes, mais cette fois chaque fonction doit retourner 2 valeurs : nombre de comparaisons d'éléments du tableau et nombre d'écriture dans le tableau.\n",
    "\n",
    "**Remarque 1 : ** Les fonctions python peuvent retourner plusieurs valeurs en même temps sous la forme de ***tuples***"
   ]
  },
  {
   "cell_type": "code",
   "execution_count": 12,
   "metadata": {
    "collapsed": false
   },
   "outputs": [
   ],
   "source": [
    "def maFonction():\n",
    "    return 1,2\n",
    "\n",
    "v = maFonction()\n",
    "print(v)\n",
    "print(v[0])\n",
    "print(v[1])"
   ]
  },
  {
   "cell_type": "markdown",
   "metadata": {
    "collapsed": false
   },
   "source": [
    "**Remarque 2 :** L'inversion de deux valeurs du tableau $a,b = b, a$ effectue **2 écritures** dans le tableau.\n",
    "\n",
    "**Remarque 3 :** Il se peut que votre algorithme soit légèrement différent du mien et que le comptage (et les tests) aussi. Si vous modifiez les tests, assurez-vous de bien comprendre ce que vous comptez !"
   ]
  },
  {
   "cell_type": "code",
   "execution_count": 13,
   "metadata": {
    "collapsed": false
   },
   "outputs": [
   ],
   "source": [
    "def comptageTriSelection(t):\n",
    "    \"\"\"\n",
    "    Tri sélection\n",
    "    Sélectionne le minimum à chaque tour\n",
    "    Input :\n",
    "        - t un tableau\n",
    "    Output :\n",
    "        a,b avec a le nombre de comparaisons et b le nombre d'écritures\n",
    "    \"\"\"\n",
    "    # écrire le code\n"
   ]
  },
  {
   "cell_type": "code",
   "execution_count": 14,
   "metadata": {
    "collapsed": false
   },
   "outputs": [
   ],
   "source": [
    "t = []\n",
    "assert comptageTriSelection(t) == (0,0)\n",
    "assert t == []\n",
    "t = [5,4,3,2,1]\n",
    "assert comptageTriSelection(t) == (10,8)\n",
    "assert t == [1,2,3,4,5]\n",
    "assert comptageTriSelection(t) == (10,8)\n",
    "assert t == [1,2,3,4,5]\n",
    "t = [1,5,2,13,4,2,4,13,4,5,7,6]\n",
    "assert comptageTriSelection(t) == (66,22)\n",
    "assert t == [1, 2, 2, 4, 4, 4, 5, 5, 6, 7, 13, 13]"
   ]
  },
  {
   "cell_type": "code",
   "execution_count": 15,
   "metadata": {
    "collapsed": false
   },
   "outputs": [
   ],
   "source": [
    "def comptageTriBulles(t):\n",
    "    \"\"\"\n",
    "    Tri Bulles\n",
    "    Parcours autant de fois que nécessaire les couples de valeurs adjacentes\n",
    "    Input :\n",
    "        - t un tableau\n",
    "    Output :\n",
    "        a,b avec a le nombre de comparaisons et b le nombre d'écritures\n",
    "    \"\"\"\n",
    "    # écrire le code\n"
   ]
  },
  {
   "cell_type": "code",
   "execution_count": 16,
   "metadata": {
    "collapsed": false
   },
   "outputs": [
   ],
   "source": [
    "t = []\n",
    "assert comptageTriBulles(t) == (0,0)\n",
    "assert t == []\n",
    "t = [5,4,3,2,1]\n",
    "assert comptageTriBulles(t) == (10,20)\n",
    "assert t == [1,2,3,4,5]\n",
    "assert comptageTriBulles(t) == (4,0)\n",
    "assert t == [1,2,3,4,5]\n",
    "t = [1,5,2,13,4,2,4,13,4,5,7,6]\n",
    "assert comptageTriBulles(t) == (38,36)\n",
    "assert t == [1, 2, 2, 4, 4, 4, 5, 5, 6, 7, 13, 13]"
   ]
  },
  {
   "cell_type": "code",
   "execution_count": 17,
   "metadata": {
    "collapsed": false
   },
   "outputs": [
   ],
   "source": [
    "def comptageTriInsertion(t):\n",
    "    \"\"\"\n",
    "    Tri Insertion\n",
    "    Insère successivement les éléments dans la partie gauche triée du tableau\n",
    "    Input :\n",
    "        - t un tableau\n",
    "    Output :\n",
    "        a,b avec a le nombre de comparaisons et b le nombre d'écritures\n",
    "\n",
    "    Remarque : pour la boucle interne, on comptera exactement une comparaison de plus que d'entrée dans la boucle\n",
    "    \"\"\"\n",
    "    # écrire le code\n"
   ]
  },
  {
   "cell_type": "code",
   "execution_count": 18,
   "metadata": {
    "collapsed": false
   },
   "outputs": [
   ],
   "source": [
    "t = []\n",
    "assert comptageTriInsertion(t) == (0,0)\n",
    "assert t == []\n",
    "t = [5,4,3,2,1]\n",
    "assert comptageTriInsertion(t) == (14,14)\n",
    "assert t == [1,2,3,4,5]\n",
    "assert comptageTriInsertion(t) == (4,4)\n",
    "assert t == [1,2,3,4,5]\n",
    "t = [1,5,2,13,4,2,4,13,4,5,7,6]\n",
    "assert comptageTriInsertion(t) == (29,29)\n",
    "assert t == [1, 2, 2, 4, 4, 4, 5, 5, 6, 7, 13, 13]"
   ]
  },
  {
   "cell_type": "markdown",
   "metadata": {
    "collapsed": false
   },
   "source": [
    "## Le tri rapide"
   ]
  },
  {
   "cell_type": "markdown",
   "metadata": {
    "collapsed": false
   },
   "source": [
    "Commencez par implanter une fonction de pivot."
   ]
  },
  {
   "cell_type": "code",
   "execution_count": 19,
   "metadata": {
    "collapsed": false
   },
   "outputs": [
   ],
   "source": [
    "def pivot(t, deb, fin):\n",
    "    \"\"\"\n",
    "    Pivot sur un intervalle [deb, fin[ d'un tableau\n",
    "    Agit sur les valeurs entre l'indice deb (inclus) et fin (exclus)\n",
    "    Choisit la première valeur t[deb] du tableau comme pivot et réorganise \n",
    "    le tableau telle que toutes les valeurs plus petites ou égales à t[dev] \n",
    "    soit à gauche et toutes les valeurs plus grandes à droite.\n",
    "    Input :\n",
    "        - t un tableau\n",
    "        - deb, l'indice de départ (inclus)\n",
    "        - fin, l'indice de fin (exclus)\n",
    "    Output :\n",
    "        l'indice final du pivot\n",
    "    \"\"\"\n",
    "    # écrire le code\n"
   ]
  },
  {
   "cell_type": "code",
   "execution_count": 21,
   "metadata": {
    "collapsed": false
   },
   "outputs": [
   ],
   "source": [
    "t = [1,2,3,4,5]\n",
    "assert pivot(t,0,5) == 0\n",
    "assert all(t[i] > t[0] for i in range(1,5))\n",
    "t = [5,4,3,2,1]\n",
    "assert pivot(t,0,5) == 4\n",
    "assert all(t[i] <= t[4] for i in range(4))\n",
    "t = [4,5,2,13,4,2,4,13,4,5,7,6]\n",
    "assert pivot(t,0,len(t)) == 5\n",
    "assert all(t[i] <= t[5] for i in range(5))\n",
    "assert all(t[i] > t[5] for i in range(6,len(t)))"
   ]
  },
  {
   "cell_type": "markdown",
   "metadata": {
    "collapsed": false
   },
   "source": [
    "Implanter l'algorithme de tri rapide vu en classe en utilisant votre fonction de pivot"
   ]
  },
  {
   "cell_type": "code",
   "execution_count": 22,
   "metadata": {
    "collapsed": false
   },
   "outputs": [
   ],
   "source": [
    "def triRapide(t,deb,fin):\n",
    "    \"\"\"\n",
    "    Tri Rapide\n",
    "    Tri récursif reposant sur la fonction pivot\n",
    "    Input :\n",
    "        - t un tableau\n",
    "        - deb l'indice de départ (inclus)\n",
    "        - fin l'indice de fin (exclus)\n",
    "    \"\"\"\n",
    "    # écrire le code\n"
   ]
  },
  {
   "cell_type": "code",
   "execution_count": 23,
   "metadata": {
    "collapsed": false
   },
   "outputs": [
   ],
   "source": [
    "t = []\n",
    "triRapide(t,0, len(t))\n",
    "assert t == []\n",
    "t = [5,4,3,2,1]\n",
    "triRapide(t, 0, len(t))\n",
    "assert t == [1,2,3,4,5]\n",
    "triRapide(t,0,len(t))\n",
    "assert t == [1,2,3,4,5]\n",
    "t = [1,5,2,13,4,2,4,13,4,5,7,6]\n",
    "triRapide(t,0,len(t))\n",
    "assert t == [1, 2, 2, 4, 4, 4, 5, 5, 6, 7, 13, 13]"
   ]
  },
  {
   "cell_type": "markdown",
   "metadata": {
    "collapsed": false
   },
   "source": [
    "De la même façon que pour les autres tris, comptez les comparaisons / écritures effectuées par le tri. \n",
    "\n",
    "Pour la fonction pivot, vous devrez donc retourner 3 valeurs : position du pivot, nombre de comparaisons, nombre d'écritures. On peut le faire de cette manière"
   ]
  },
  {
   "cell_type": "code",
   "execution_count": 24,
   "metadata": {
    "collapsed": false
   },
   "outputs": [
   ],
   "source": [
    "def maFonction():\n",
    "    return 1,2,3\n",
    "\n",
    "a,b,c = maFonction()\n",
    "print(a)\n",
    "print(b)\n",
    "print(c)"
   ]
  },
  {
   "cell_type": "code",
   "execution_count": 25,
   "metadata": {
    "collapsed": false
   },
   "outputs": [
   ],
   "source": [
    "def comptagePivot(t, deb, fin):\n",
    "    \"\"\"\n",
    "    Pivot sur une partie de tableau\n",
    "    Agit sur les valeurs entre l'indice deb (inclus) et fin (exclus)\n",
    "    Choisit la première valeur t[deb] du tableau comme pivot et réorganise \n",
    "    le tableau telle que toutes les valeurs plus petites ou égales à t[dev] \n",
    "    soit à gauche et toutes les valeurs plus grandes à droite.\n",
    "    Input :\n",
    "        - t un tableau\n",
    "        - deb, l'indice de départ (inclus)\n",
    "        - fin, l'indice de fin (exclus)\n",
    "    Output :\n",
    "        l'indice final du pivot, le nombre de comparaisons, le nombre d'écritures\n",
    "    \"\"\"\n",
    "    # écrire le code\n"
   ]
  },
  {
   "cell_type": "code",
   "execution_count": 26,
   "metadata": {
    "collapsed": false
   },
   "outputs": [
   ],
   "source": [
    "# ces tests ont été écrits pour l'algo du pivot du cours, \n",
    "# si votre algorithme est différent, vous obtiendrez des valeurs différentes\n",
    "t = [1,2,3,4,5]\n",
    "assert comptagePivot(t,0,5) == (0,6,2)\n",
    "t = [5,4,3,2,1]\n",
    "assert comptagePivot(t,0,5) == (4,6,2)\n",
    "t = [4,5,2,13,4,2,4,13,4,5,7,6]\n",
    "assert comptagePivot(t,0,len(t)) == (5,13,6)"
   ]
  },
  {
   "cell_type": "code",
   "execution_count": 27,
   "metadata": {
    "collapsed": false
   },
   "outputs": [
   ],
   "source": [
    "def comptageTriRapide(t,deb,fin):\n",
    "    \"\"\"\n",
    "    Tri Rapide\n",
    "    Tri récursif reposant sur la fonction pivot\n",
    "    Input :\n",
    "        - t un tableau\n",
    "        - deb l'indice de départ (inclus)\n",
    "        - fin l'indice de fin (exclus)\n",
    "    Output :\n",
    "       a,b avec a le nombre de comparaisons et b le nombre d'écritures\n",
    "    \"\"\"\n",
    "    # écrire le code\n"
   ]
  },
  {
   "cell_type": "code",
   "execution_count": 28,
   "metadata": {
    "collapsed": false
   },
   "outputs": [
   ],
   "source": [
    "t = []\n",
    "assert comptageTriRapide(t,0, len(t)) == (0,0)\n",
    "t = [5,4,3,2,1]\n",
    "assert comptageTriRapide(t,0, len(t)) == (18,8)\n",
    "assert t == [1,2,3,4,5]\n",
    "assert comptageTriRapide(t,0, len(t)) == (18,8)\n",
    "t = [1,5,2,13,4,2,4,13,4,5,7,6]\n",
    "assert comptageTriRapide(t,0, len(t)) == (50,22)"
   ]
  },
  {
   "cell_type": "markdown",
   "metadata": {
    "collapsed": false
   },
   "source": [
    "## Comparaisons de tris"
   ]
  },
  {
   "cell_type": "markdown",
   "metadata": {
    "collapsed": false
   },
   "source": [
    "Écrire une fonction qui prend en paramètre un tableau, le tri selon les différentes méthodes et retourne la plus efficace en nombre de comparaisons.\n",
    "\n",
    "** Attention : les tris se font sur place, il faut donc copier le tableau orginal à chaque fois avant d'appliquer le tri pour pouvoir comparer les algorithmes**"
   ]
  },
  {
   "cell_type": "code",
   "execution_count": 29,
   "metadata": {
    "collapsed": false
   },
   "outputs": [
   ],
   "source": [
    "# rappel syntaxe copier un tableau\n",
    "t = [1,2,3]\n",
    "tcopie = list(t)\n",
    "tcopie[0] = 10\n",
    "print(t)\n",
    "print(tcopie)"
   ]
  },
  {
   "cell_type": "code",
   "execution_count": 30,
   "metadata": {
    "collapsed": false
   },
   "outputs": [
   ],
   "source": [
    "def meilleurTriComparaison(t):\n",
    "    \"\"\"\n",
    "    Meilleur tri -- comparaisons\n",
    "    Input :\n",
    "        - t un tableau\n",
    "    Output :\n",
    "        le tri le plus efficace en terme de comparaisons : \"Selection\", \"Bulles\", \"Insertion\" ou \"Rapide\"\n",
    "    \"\"\"\n",
    "    # écrire le code\n"
   ]
  },
  {
   "cell_type": "code",
   "execution_count": 31,
   "metadata": {
    "collapsed": false
   },
   "outputs": [
   ],
   "source": [
    "t = [1,2,3,4,5]\n",
    "assert meilleurTriComparaison(t) in {\"Bulles\", \"Insertion\"}\n",
    "t = [2,3,4,5,6,7,8,9,1]\n",
    "assert meilleurTriComparaison(t) == \"Insertion\"\n",
    "t = [12,16,5,2,14,13,15,7,1,19,3,9,10,18,6,20]\n",
    "assert meilleurTriComparaison(t) == \"Rapide\""
   ]
  },
  {
   "cell_type": "code",
   "execution_count": 32,
   "metadata": {
    "collapsed": false
   },
   "outputs": [
   ],
   "source": [
    "def meilleurTriEcriture(t):\n",
    "    \"\"\"\n",
    "    Meilleur tri -- écritures\n",
    "    Input :\n",
    "        - t un tableau\n",
    "    Output :\n",
    "        le tri le plus efficace en terme d'écritures : \"Selection\", \"Bulles\", \"Insertion\" ou \"Rapide\"\n",
    "    \"\"\"\n",
    "    # écrire le code\n"
   ]
  },
  {
   "cell_type": "code",
   "execution_count": 33,
   "metadata": {
    "collapsed": false
   },
   "outputs": [
   ],
   "source": [
    "t = [1,2,3,4,5]\n",
    "assert meilleurTriEcriture(t) == \"Bulles\" # éventuellement insertion\n",
    "t = [12,16,5,2,14,13,15,7,1,19,3,9,10,18,6,20]\n",
    "assert meilleurTriEcriture(t) == \"Selection\""
   ]
  },
  {
   "cell_type": "markdown",
   "metadata": {
    "collapsed": false
   },
   "source": [
    "On va maintenant pouvoir observer l'efficacité des tris sur des tirages aléatoires. La fonction suivante permet de générer un tableau aléatoire de taille n. Tirer des tableaux de différentes tailles et observer quels tris sont les plus efficaces avec vos fonctions précédentes."
   ]
  },
  {
   "cell_type": "code",
   "execution_count": 36,
   "metadata": {
    "collapsed": false
   },
   "outputs": [
   ],
   "source": [
    "def randomTableau(n):\n",
    "    \"\"\"\n",
    "    Retourne un tableau aléatoire de taille n (chaque valeur est choisie uniformément sur [[0,n]])\n",
    "    \"\"\"\n",
    "    import random\n",
    "    return [random.randint(0,n) for i in range(n)]"
   ]
  },
  {
   "cell_type": "code",
   "execution_count": 37,
   "metadata": {
    "collapsed": false
   },
   "outputs": [
   ],
   "source": [
    "t = randomTableau(1000)\n",
    "print(meilleurTriComparaison(t))\n",
    "print(meilleurTriEcriture(t))"
   ]
  },
  {
   "cell_type": "markdown",
   "metadata": {
    "collapsed": false
   },
   "source": [
    "Implanter une fonction qui retourne un histogramme sous forme de dictionnaire python des tris qui ont été plus efficaces. \n",
    "\n",
    "Un dictionnaire python est un objet où l'on peut associer des valeurs à des clés. Par exemple :"
   ]
  },
  {
   "cell_type": "code",
   "execution_count": 38,
   "metadata": {
    "collapsed": false
   },
   "outputs": [
   ],
   "source": [
    "d = {}\n",
    "d[\"Rapide\"] = 3\n",
    "d[\"Insertion\"] = 2\n",
    "d[\"Selection\"] = 1\n",
    "d[\"Bulles\"] = 0\n",
    "\n",
    "d"
   ]
  },
  {
   "cell_type": "markdown",
   "metadata": {
    "collapsed": false
   },
   "source": [
    "Le but de la fonction est de créer un dictionnaire où chaque valeur représente le nombre de fois où ce tri a été le plus rapide."
   ]
  },
  {
   "cell_type": "code",
   "execution_count": 41,
   "metadata": {
    "collapsed": false
   },
   "outputs": [
   ],
   "source": [
    "def histogrammeComparaisons(n, m):\n",
    "    \"\"\"\n",
    "    Histogramme -- comparaisons\n",
    "    Input :\n",
    "        - n, la taille des tableaux aléatoires\n",
    "        - m, le nombre de tirages à effectuer\n",
    "    Output :\n",
    "        un dictionnaire python qui représente l'histogramme des tris les plus efficaces sur les m tirages\n",
    "    \"\"\"\n",
    "    # écrire le code\n"
   ]
  },
  {
   "cell_type": "code",
   "execution_count": 42,
   "metadata": {
    "collapsed": false
   },
   "outputs": [
   ],
   "source": [
    "histogrammeComparaisons(10,100) # entre rapide et insertion"
   ]
  },
  {
   "cell_type": "code",
   "execution_count": 43,
   "metadata": {
    "collapsed": false
   },
   "outputs": [
   ],
   "source": [
    "histogrammeComparaisons(100,100) # que du rapide"
   ]
  },
  {
   "cell_type": "code",
   "execution_count": 44,
   "metadata": {
    "collapsed": false
   },
   "outputs": [
   ],
   "source": [
    "histogrammeComparaisons(1000,10) # que du rapide"
   ]
  },
  {
   "cell_type": "code",
   "execution_count": 45,
   "metadata": {
    "collapsed": false
   },
   "outputs": [
   ],
   "source": [
    "def histogrammeEcritures(n, m):\n",
    "    \"\"\"\n",
    "    Histogramme -- ecritures\n",
    "    Input :\n",
    "        - n, la taille des tableaux aléatoires\n",
    "        - m, le nombre de tirages à effectuer\n",
    "    Output :\n",
    "        un dictionnaire python qui représente l'histogramme des tris les plus efficaces sur les m tirages\n",
    "    \"\"\"\n",
    "    # écrire le code\n"
   ]
  },
  {
   "cell_type": "code",
   "execution_count": 46,
   "metadata": {
    "collapsed": false
   },
   "outputs": [
   ],
   "source": [
    "histogrammeEcritures(10,100) # entre rapide et selection"
   ]
  },
  {
   "cell_type": "code",
   "execution_count": 47,
   "metadata": {
    "collapsed": false
   },
   "outputs": [
   ],
   "source": [
    "histogrammeEcritures(100,100) # que du selection"
   ]
  },
  {
   "cell_type": "code",
   "execution_count": 48,
   "metadata": {
    "collapsed": false
   },
   "outputs": [
   ],
   "source": [
    "histogrammeEcritures(1000,10) # que du selection"
   ]
  },
  {
   "cell_type": "markdown",
   "metadata": {
    "collapsed": false
   },
   "source": [
    "On va maintenant utiliser une autre fonction aléatoire qui, cette fois, crée des tableaux \"presque\" triés, avec un paramètre de mélange."
   ]
  },
  {
   "cell_type": "code",
   "execution_count": 51,
   "metadata": {
    "collapsed": false
   },
   "outputs": [
   ],
   "source": [
    "def randomTableauPresqueTrie(n, k):\n",
    "    \"\"\"\n",
    "    Retourne un tableau ou chaque valeur d'indice i est choisie uniformément entre i - k, i + k\n",
    "    Input :\n",
    "        - n la taille du tableau\n",
    "        - k le rayon possible pour chaque valeur\n",
    "    \"\"\"\n",
    "    import random\n",
    "    return [random.randint(i-k,i+k) for i in range(n)]"
   ]
  },
  {
   "cell_type": "code",
   "execution_count": 52,
   "metadata": {
    "collapsed": false
   },
   "outputs": [
   ],
   "source": [
    "t = randomTableauPresqueTrie(10,0)\n",
    "t"
   ]
  },
  {
   "cell_type": "code",
   "execution_count": 53,
   "metadata": {
    "collapsed": false
   },
   "outputs": [
   ],
   "source": [
    "t = randomTableauPresqueTrie(10,5)\n",
    "t"
   ]
  },
  {
   "cell_type": "code",
   "execution_count": 54,
   "metadata": {
    "collapsed": false
   },
   "outputs": [
   ],
   "source": [
    "t = randomTableauPresqueTrie(10,10)\n",
    "t"
   ]
  },
  {
   "cell_type": "code",
   "execution_count": 55,
   "metadata": {
    "collapsed": false
   },
   "outputs": [
   ],
   "source": [
    "t = randomTableauPresqueTrie(10,100)\n",
    "t"
   ]
  },
  {
   "cell_type": "code",
   "execution_count": 56,
   "metadata": {
    "collapsed": false
   },
   "outputs": [
   ],
   "source": [
    "t = randomTableauPresqueTrie(100,10)\n",
    "print(meilleurTriComparaison(t))\n",
    "print(meilleurTriEcriture(t))"
   ]
  },
  {
   "cell_type": "code",
   "execution_count": 0,
   "metadata": {
    "collapsed": true
   },
   "outputs": [
   ],
   "source": [
   ]
  },
  {
   "cell_type": "markdown",
   "metadata": {
    "collapsed": false
   },
   "source": [
    "Ecrivez de nouvelles fonctions histogrammes en utilisant cette fonction et observez la différence !"
   ]
  },
  {
   "cell_type": "code",
   "execution_count": 57,
   "metadata": {
    "collapsed": false
   },
   "outputs": [
   ],
   "source": [
    "def histogrammeComparaisonsPresqueTrie(n, k, m):\n",
    "    \"\"\"\n",
    "    Histogramme -- comparaisons\n",
    "    Input :\n",
    "        - n, la taille des tableaux aléatoires\n",
    "        - k, le nombre d'inversions aléatoires\n",
    "        - m, le nombre de tirages à effectuer\n",
    "    Output :\n",
    "        un dictionnaire python qui représente l'histogramme des tris les plus efficaces sur les m tirages\n",
    "    \"\"\"\n",
    "    # écrire le code\n"
   ]
  },
  {
   "cell_type": "code",
   "execution_count": 58,
   "metadata": {
    "collapsed": false
   },
   "outputs": [
   ],
   "source": [
    "histogrammeComparaisonsPresqueTrie(10,3,100)"
   ]
  },
  {
   "cell_type": "code",
   "execution_count": 59,
   "metadata": {
    "collapsed": false
   },
   "outputs": [
   ],
   "source": [
    "histogrammeComparaisonsPresqueTrie(100,10,100)"
   ]
  },
  {
   "cell_type": "code",
   "execution_count": 60,
   "metadata": {
    "collapsed": false
   },
   "outputs": [
   ],
   "source": [
    "histogrammeComparaisonsPresqueTrie(100,30,100)"
   ]
  },
  {
   "cell_type": "code",
   "execution_count": 61,
   "metadata": {
    "collapsed": false
   },
   "outputs": [
   ],
   "source": [
    "histogrammeComparaisonsPresqueTrie(100,50,100)"
   ]
  },
  {
   "cell_type": "markdown",
   "metadata": {
    "collapsed": false
   },
   "source": [
    "Cela se traduit-il sur le temps de calcul ? Exécuter le code ci-dessous et expérimenter."
   ]
  },
  {
   "cell_type": "code",
   "execution_count": 62,
   "metadata": {
    "collapsed": false
   },
   "outputs": [
   ],
   "source": [
    "t = randomTableau(100)"
   ]
  },
  {
   "cell_type": "code",
   "execution_count": 63,
   "metadata": {
    "collapsed": false
   },
   "outputs": [
   ],
   "source": [
    "tcopie = list(t)"
   ]
  },
  {
   "cell_type": "code",
   "execution_count": 64,
   "metadata": {
    "collapsed": false
   },
   "outputs": [
   ],
   "source": [
    "time triRapide(tcopie, 0, len(tcopie))"
   ]
  },
  {
   "cell_type": "code",
   "execution_count": 65,
   "metadata": {
    "collapsed": false
   },
   "outputs": [
   ],
   "source": [
    "tcopie = list(t)"
   ]
  },
  {
   "cell_type": "code",
   "execution_count": 66,
   "metadata": {
    "collapsed": false
   },
   "outputs": [
   ],
   "source": [
    "time triInsertion(tcopie)"
   ]
  },
  {
   "cell_type": "code",
   "execution_count": 67,
   "metadata": {
    "collapsed": false
   },
   "outputs": [
   ],
   "source": [
    "t = randomTableauPresqueTrie(100,10)"
   ]
  },
  {
   "cell_type": "code",
   "execution_count": 68,
   "metadata": {
    "collapsed": false
   },
   "outputs": [
   ],
   "source": [
    "tcopie = list(t)"
   ]
  },
  {
   "cell_type": "code",
   "execution_count": 69,
   "metadata": {
    "collapsed": false
   },
   "outputs": [
   ],
   "source": [
    "time triRapide(tcopie, 0, len(tcopie))"
   ]
  },
  {
   "cell_type": "code",
   "execution_count": 70,
   "metadata": {
    "collapsed": false
   },
   "outputs": [
   ],
   "source": [
    "tcopie = list(t)"
   ]
  },
  {
   "cell_type": "code",
   "execution_count": 71,
   "metadata": {
    "collapsed": false
   },
   "outputs": [
   ],
   "source": [
    "time triInsertion(tcopie)"
   ]
  },
  {
   "cell_type": "code",
   "execution_count": 0,
   "metadata": {
    "collapsed": true
   },
   "outputs": [
   ],
   "source": [
   ]
  },
  {
   "cell_type": "code",
   "execution_count": 0,
   "metadata": {
    "collapsed": true
   },
   "outputs": [
   ],
   "source": [
   ]
  },
  {
   "cell_type": "code",
   "execution_count": 0,
   "metadata": {
    "collapsed": true
   },
   "outputs": [
   ],
   "source": [
   ]
  },
  {
   "cell_type": "markdown",
   "metadata": {
    "collapsed": false
   },
   "source": [
    "Qu'en est-il de la fonction *sort* de python ? Comparer les vitesses d'exécutions de vol algorithmes sur des tableaux aléatoires triés et presque triés avec la fonction *sort*"
   ]
  },
  {
   "cell_type": "code",
   "execution_count": 72,
   "metadata": {
    "collapsed": false
   },
   "outputs": [
   ],
   "source": [
    "t = randomTableau(100)\n",
    "tcopie = list(t)"
   ]
  },
  {
   "cell_type": "code",
   "execution_count": 73,
   "metadata": {
    "collapsed": false
   },
   "outputs": [
   ],
   "source": [
    "time tcopie.sort()"
   ]
  },
  {
   "cell_type": "code",
   "execution_count": 74,
   "metadata": {
    "collapsed": false
   },
   "outputs": [
   ],
   "source": [
    "time triRapide(t, 0, len(t))"
   ]
  },
  {
   "cell_type": "code",
   "execution_count": 0,
   "metadata": {
    "collapsed": true
   },
   "outputs": [
   ],
   "source": [
   ]
  },
  {
   "cell_type": "code",
   "execution_count": 0,
   "metadata": {
    "collapsed": true
   },
   "outputs": [
   ],
   "source": [
   ]
  },
  {
   "cell_type": "code",
   "execution_count": 0,
   "metadata": {
    "collapsed": true
   },
   "outputs": [
   ],
   "source": [
   ]
  },
  {
   "cell_type": "code",
   "execution_count": 0,
   "metadata": {
    "collapsed": true
   },
   "outputs": [
   ],
   "source": [
   ]
  },
  {
   "cell_type": "code",
   "execution_count": 0,
   "metadata": {
    "collapsed": true
   },
   "outputs": [
   ],
   "source": [
   ]
  },
  {
   "cell_type": "code",
   "execution_count": 0,
   "metadata": {
    "collapsed": true
   },
   "outputs": [
   ],
   "source": [
   ]
  },
  {
   "cell_type": "markdown",
   "metadata": {
    "collapsed": true
   },
   "source": [
    "# Autour de Quicksort\n",
    "\n",
    "## k selection\n",
    "\n",
    "On veut trouver l'élément médian d'un tableau de $n$ valeurs.\n",
    "\n",
    "**Rappel:** le médian d'un ensemble de valeur est une valeur permettant de couper l'ensemble en deux parties égales: l'une contenant tous les éléments inférieur, et les autres les éléments supérieurs."
   ]
  },
  {
   "cell_type": "code",
   "execution_count": 84,
   "metadata": {
    "collapsed": false
   },
   "outputs": [
   ],
   "source": [
    "def kSelectionNaif(tab, k):\n",
    "    \"\"\"\n",
    "    kSelectionNaif\n",
    "    Renvoie le kième plus petit élément d'un tableau sans utiliser la fonction pivot.\n",
    "    Algorithme: trouver le plus petit élément, le sortir, et itérer k fois.\n",
    "    \n",
    "    Remarque : on a le droit de modifier le tableau\n",
    "\n",
    "    Input:\n",
    "        - tab un tableau\n",
    "        - k un entier strictement positif\n",
    "    \"\"\"\n",
    "    # écrire le code\n"
   ]
  },
  {
   "cell_type": "code",
   "execution_count": 85,
   "metadata": {
    "collapsed": false
   },
   "outputs": [
   ],
   "source": [
    "tab = [6,1,3,2,2,9,14]\n",
    "assert kSelectionNaif(tab, 1) == 1\n",
    "tab = [6,1,3,2,2,9,14]\n",
    "assert kSelectionNaif(tab, 5) == 6"
   ]
  },
  {
   "cell_type": "markdown",
   "metadata": {
    "collapsed": false
   },
   "source": [
    "Il est possible d'écrire un algorithme plus efficace en utilisant la fonction *pivot* écrite plus tôt.\n",
    "\n",
    "Indications : \n",
    " * imaginons que vous cherchez le 3ème plus petit élement de votre tableau et que, par chance, la fonction pivot vous renvoie l'indice \"2\", que pouvez vous en déduire ?\n",
    " * mainteant, imaginez que vous cherchez l'élément maximum du tableau, et que la fonction pivot vous renvoie l'indice \"2\", où chercher l'élément maximal ?"
   ]
  },
  {
   "cell_type": "code",
   "execution_count": 87,
   "metadata": {
    "collapsed": false
   },
   "outputs": [
   ],
   "source": [
    "def kSelection(tab, k):\n",
    "    \"\"\"\n",
    "    kSelection\n",
    "    Utilise la fonction de pivot pour trouver le kième élément d'un tableau dans l'ordre croissant\n",
    "\n",
    "    Remarque : on a le droit de modifier le tableau\n",
    "\n",
    "    Input:\n",
    "        - tab un tableau\n",
    "        - un entier strictement positif\n",
    "    Output:\n",
    "        - le kième élément du tableau dans l'ordre croisant\n",
    "    \"\"\"\n",
    "    # écrire le code\n"
   ]
  },
  {
   "cell_type": "code",
   "execution_count": 88,
   "metadata": {
    "collapsed": false
   },
   "outputs": [
   ],
   "source": [
    "tab = [6,1,3,2,2,9,14]\n",
    "assert kSelection(tab, 1) == 1\n",
    "assert kSelection(tab, 5) == 6\n",
    "t = randomTableau(100)\n",
    "tcopy = t[:]\n",
    "assert kSelection(t, 50) == kSelectionNaif(tcopy, 50)"
   ]
  },
  {
   "cell_type": "code",
   "execution_count": 0,
   "metadata": {
    "collapsed": false
   },
   "outputs": [
   ],
   "source": [
   ]
  },
  {
   "cell_type": "markdown",
   "metadata": {
    "collapsed": false
   },
   "source": [
    "Comparer les deux algorithmes ci dessus. Lequel est le plus efficace?"
   ]
  },
  {
   "cell_type": "code",
   "execution_count": 89,
   "metadata": {
    "collapsed": false
   },
   "outputs": [
   ],
   "source": [
    "t = randomTableau(2000)\n",
    "tcopy = t[:]"
   ]
  },
  {
   "cell_type": "code",
   "execution_count": 90,
   "metadata": {
    "collapsed": false
   },
   "outputs": [
   ],
   "source": [
    "time kSelection(t, 1000)"
   ]
  },
  {
   "cell_type": "code",
   "execution_count": 91,
   "metadata": {
    "collapsed": false
   },
   "outputs": [
   ],
   "source": [
    "time kSelectionNaif(tcopy, 1000)"
   ]
  },
  {
   "cell_type": "markdown",
   "metadata": {
    "collapsed": false
   },
   "source": [
    "## Optimisation pivotage\n",
    "\n",
    "Comme vous l'avez remarqué, le choix du pivot est crucial dans le déroulement de l'algorithme de tri rapide.\n",
    "Si le pivot \"tombe\" trop près du bord de l'intervalle c'est une catastrophe...\n",
    "\n",
    "Si tout se passait bien on espérerait pouvoir couper en deux à chaque fois, ce qui donnerait un algorithme en $O(n\\ ln\\, n)$ (pourquoi ?)\n",
    "\n",
    "Par exemple, pour le pivot, on pourrait choisir trois éléments au hasard dans le tableau et prendre le médian des trois.\n",
    "Écrire une telle fonction de pivotage et un tri rapide. Comparer avec votre première version."
   ]
  },
  {
   "cell_type": "code",
   "execution_count": 92,
   "metadata": {
    "collapsed": false
   },
   "outputs": [
   ],
   "source": [
    "# 3 comparaisons: optimal\n",
    "def median3(a, b, c):\n",
    "    \"\"\"\n",
    "    Renvoie le median de trois éléments\n",
    "\n",
    "    Input:\n",
    "        - a, b, c trois valeurs\n",
    "    Output:\n",
    "        - le médiant de a, b, c\n",
    "    \"\"\"\n",
    "    # écrire le code\n"
   ]
  },
  {
   "cell_type": "code",
   "execution_count": 93,
   "metadata": {
    "collapsed": false
   },
   "outputs": [
   ],
   "source": [
    "assert median3(1,2,3) == 2\n",
    "assert median3(3,1,2) == 2\n",
    "assert median3(2,3,1) == 2"
   ]
  },
  {
   "cell_type": "code",
   "execution_count": 94,
   "metadata": {
    "collapsed": false
   },
   "outputs": [
   ],
   "source": [
    "def pivot3(t, deb, fin):\n",
    "    \"\"\"\n",
    "    Fonction pivot améliorée : le pivot est l'élément médian entre le premier élément, le dernier et celui du milieu\n",
    "    Input :\n",
    "        - t un tableau\n",
    "        - deb, l'indice de départ (inclus)\n",
    "        - fin, l'indice de fin (exclus)\n",
    "    Output :\n",
    "        l'indice final du pivot\n",
    "    \"\"\"\n",
    "    # écrire le code\n"
   ]
  },
  {
   "cell_type": "code",
   "execution_count": 95,
   "metadata": {
    "collapsed": false
   },
   "outputs": [
   ],
   "source": [
    "def triRapide3(t, deb, fin):\n",
    "    \"\"\"\n",
    "    Tri Rapide utilisant le pivot amélioré\n",
    "    Input :\n",
    "        - t un tableau\n",
    "        - deb l'indice de départ (inclus)\n",
    "        - fin l'indice de fin (exclus)\n",
    "    \"\"\"\n",
    "    # écrire le code\n"
   ]
  },
  {
   "cell_type": "markdown",
   "metadata": {
    "collapsed": false
   },
   "source": [
    "Proposer d'autres optimisations."
   ]
  },
  {
   "cell_type": "code",
   "execution_count": 96,
   "metadata": {
    "collapsed": false
   },
   "outputs": [
   ],
   "source": [
    "t = randomTableau(20000)\n",
    "tcopy = t[:]"
   ]
  },
  {
   "cell_type": "code",
   "execution_count": 97,
   "metadata": {
    "collapsed": false
   },
   "outputs": [
   ],
   "source": [
    "time triRapide(t, 0, len(t))"
   ]
  },
  {
   "cell_type": "code",
   "execution_count": 98,
   "metadata": {
    "collapsed": false
   },
   "outputs": [
   ],
   "source": [
    "time triRapide3(tcopy, 0, len(tcopy))"
   ]
  },
  {
   "cell_type": "code",
   "execution_count": 99,
   "metadata": {
    "collapsed": false
   },
   "outputs": [
   ],
   "source": [
    "t = randomTableau(1000)\n",
    "t.sort()"
   ]
  },
  {
   "cell_type": "code",
   "execution_count": 100,
   "metadata": {
    "collapsed": false
   },
   "outputs": [
   ],
   "source": [
    "time triRapide3(t, 0, len(t))"
   ]
  },
  {
   "cell_type": "code",
   "execution_count": 101,
   "metadata": {
    "collapsed": false
   },
   "outputs": [
   ],
   "source": [
    "time triRapide(t, 0, len(t))"
   ]
  },
  {
   "cell_type": "markdown",
   "metadata": {
    "collapsed": true
   },
   "source": [
    "## Tri Fusion et listes chaînées"
   ]
  },
  {
   "cell_type": "markdown",
   "metadata": {
    "collapsed": false
   },
   "source": [
    "Comme on l'a vu en cours, le tri fusion a un défaut majeur : sur un tableau, le tri nécessite de l'allocation mémoire. Cependant, quand on travail sur des **listes chaînées**, ce n'est plus le cas."
   ]
  },
  {
   "cell_type": "markdown",
   "metadata": {
    "collapsed": false
   },
   "source": [
    "Ci dessous, la structure de liste du TP2 légèrement améliorée que l'on va réutiliser."
   ]
  },
  {
   "cell_type": "code",
   "execution_count": 102,
   "metadata": {
    "collapsed": false
   },
   "outputs": [
   ],
   "source": [
    "class Cellule:\n",
    "    \n",
    "    def __init__(self, valeur):\n",
    "        self.valeur = valeur\n",
    "        self.suivante = None\n",
    "    \n",
    "    def __repr__(self):\n",
    "        return str(self.valeur)\n",
    "\n",
    "class Liste:\n",
    "    \n",
    "    def __init__(self, tab = None):\n",
    "        \"\"\"\n",
    "        Initialisation d'une liste (vide ou avec tableau)\n",
    "        Input :\n",
    "            - tab (optionnel) un itérable contenant des valeurs\n",
    "        \"\"\"\n",
    "        self.premiere = None\n",
    "        if not tab is None:\n",
    "            c = None\n",
    "            for v in tab:\n",
    "                if c is None:\n",
    "                    self.premiere = Cellule(v)\n",
    "                    c = self.premiere\n",
    "                else:\n",
    "                    c.suivante = Cellule(v)\n",
    "                    c = c.suivante\n",
    "    \n",
    "    def __repr__(self):\n",
    "        s = \"[\"\n",
    "        c = self.premiere\n",
    "        while not c is None:\n",
    "            s += str(c)\n",
    "            if c.suivante is not None:\n",
    "                s+=\" -> \"\n",
    "            c = c.suivante\n",
    "        s+=\"]\"\n",
    "        return s\n",
    "    \n",
    "    def ajouteCelluleEnTete(self, c):\n",
    "        \"\"\"\n",
    "        Ajoute une cellule en tête de liste\n",
    "        Input :\n",
    "            - c, une cellule\n",
    "        \"\"\"\n",
    "        c.suivante = self.premiere\n",
    "        self.premiere = c\n",
    "        \n",
    "    def ajouteValeurEnTete(self, v):\n",
    "        \"\"\"\n",
    "        Alloue une nouvelle cellule de valeur v et l'ajoute en en tête de liste\n",
    "        Input :\n",
    "            - v une valeur\n",
    "        \"\"\"\n",
    "        self.ajouteCelluleEnTete(Cellule(v))"
   ]
  },
  {
   "cell_type": "code",
   "execution_count": 103,
   "metadata": {
    "collapsed": false
   },
   "outputs": [
   ],
   "source": [
    "L = Liste([1,2,3])\n",
    "L"
   ]
  },
  {
   "cell_type": "code",
   "execution_count": 104,
   "metadata": {
    "collapsed": false
   },
   "outputs": [
   ],
   "source": [
    "L.ajouteValeurEnTete(4)\n",
    "L"
   ]
  },
  {
   "cell_type": "markdown",
   "metadata": {
    "collapsed": false
   },
   "source": [
    "**Ecrire une fonction qui découpe une liste en deux à partir d'un indice donné et retourne la liste obenue avec les valeurs coupées**\n",
    "\n",
    "Remarque : vous n'avez besoin de parcourir les valeurs qu'une seule fois et seulement jusqu'à $i$. **Dans tous les cas, la complexité ne doit pas dépasser O(n)**."
   ]
  },
  {
   "cell_type": "code",
   "execution_count": 105,
   "metadata": {
    "collapsed": false
   },
   "outputs": [
   ],
   "source": [
    "def coupeListe(L, i):\n",
    "    \"\"\"\n",
    "    Coupe une liste à l'indice i (exclus)\n",
    "    Input :\n",
    "        - L la liste à couper\n",
    "        - i l'indice\n",
    "    Output :\n",
    "        La liste des valeurs d'indice >= i ou la liste vide si la taille de L est <= à i\n",
    "    \"\"\"\n",
    "    # écrire le code\n",
    "        "
   ]
  },
  {
   "cell_type": "code",
   "execution_count": 108,
   "metadata": {
    "collapsed": false
   },
   "outputs": [
   ],
   "source": [
    "L = Liste([1,2,3,4,5])\n",
    "L2 = coupeListe(L,0)\n",
    "assert str(L) == \"[]\"\n",
    "assert str(L2) == \"[1 -> 2 -> 3 -> 4 -> 5]\"\n",
    "L = Liste([1,2,3,4,5])\n",
    "L2 = coupeListe(L,1)\n",
    "assert str(L) == \"[1]\"\n",
    "assert str(L2) == \"[2 -> 3 -> 4 -> 5]\"\n",
    "L = Liste([1,2,3,4,5])\n",
    "L2 = coupeListe(L,3)\n",
    "assert str(L) == \"[1 -> 2 -> 3]\"\n",
    "assert str(L2) == \"[4 -> 5]\"\n",
    "L = Liste([1,2,3,4,5])\n",
    "L2 = coupeListe(L,5)\n",
    "assert str(L) == \"[1 -> 2 -> 3 -> 4 -> 5]\"\n",
    "assert str(L2) == \"[]\"\n",
    "L = Liste([1,2,3,4,5])\n",
    "L2 = coupeListe(L,7)\n",
    "assert str(L) == \"[1 -> 2 -> 3 -> 4 -> 5]\"\n",
    "assert str(L2) == \"[]\""
   ]
  },
  {
   "cell_type": "markdown",
   "metadata": {
    "collapsed": false
   },
   "source": [
    "On va écrire un algorithme de fusion de deux listes chaînées triées. Pour des raisons pratiques, il est préférable de prendre en paramètre des **cellules** et non des listes. Cela permet d'écrire l'algorithme de façon récursive. \n",
    "\n",
    "Adapter l'algorithme *Fusion* vu en classe pour les tableau aux listes chaînées : on écrira un algorithme récursif qui prend en paramètre deux cellules. On considère ces cellules comme des têtes de listes triées. L'algortihme doit retourner la première cellule de la liste triée résultat."
   ]
  },
  {
   "cell_type": "code",
   "execution_count": 109,
   "metadata": {
    "collapsed": false
   },
   "outputs": [
   ],
   "source": [
    "def fusionCellules(c1, c2):\n",
    "    \"\"\"\n",
    "    Fusion de deux listes triées par cellules de têtes\n",
    "    Input :\n",
    "        - c1 la première cellule de la liste 1 (ou none si liste vide)\n",
    "        - c2, la première celule de la liste 2 (ou none si liste vide)\n",
    "    Output :\n",
    "        La première cellule de la liste triée contenant toutes les cellules atteintes par c1 et c2\n",
    "    \"\"\"\n",
    "    # écrire le code\n",
    "\n",
    "def fusionListes(L1, L2):\n",
    "    \"\"\"\n",
    "    Fusion de deux listes triées\n",
    "    On utilise la fonction fusionCellules pour fusionner les deux listes, puis on \n",
    "    rattache la nouvelle tete de liste à L1.\n",
    "    Donc à la fin de la fonction, L1 contient l'ensemble de la liste fusionnée et L2\n",
    "    est vide.\n",
    "    Input :\n",
    "        - L1, la première liste\n",
    "        - L2, la deuxième liste\n",
    "    \"\"\"\n",
    "    L1.premiere = fusionCellules(L1.premiere, L2.premiere)\n",
    "    L2.premiere = None"
   ]
  },
  {
   "cell_type": "code",
   "execution_count": 112,
   "metadata": {
    "collapsed": false
   },
   "outputs": [
   ],
   "source": [
    "L1 = Liste([1,1,3,3,4,5])\n",
    "L2 = Liste([2,4,4,5,6])\n",
    "fusionListes(L1,L2)\n",
    "assert str(L1) == \"[1 -> 1 -> 2 -> 3 -> 3 -> 4 -> 4 -> 4 -> 5 -> 5 -> 6]\"\n",
    "assert str(L2) == \"[]\"\n",
    "L1 = Liste([1,1,3,3,4,5])\n",
    "LVide = Liste()\n",
    "fusionListes(L1,LVide)\n",
    "assert str(L1) == \"[1 -> 1 -> 3 -> 3 -> 4 -> 5]\"\n",
    "assert str(LVide) == \"[]\"\n",
    "L1 = Liste([1,1,3,3,4,5])\n",
    "LVide = Liste()\n",
    "L3 = fusionListes(LVide,L1)\n",
    "assert str(LVide) == \"[1 -> 1 -> 3 -> 3 -> 4 -> 5]\"\n",
    "assert str(L1) == \"[]\""
   ]
  },
  {
   "cell_type": "markdown",
   "metadata": {
    "collapsed": false
   },
   "source": [
    "On a maintenant tous les outils pour écrire un tri fusion sur les listes."
   ]
  },
  {
   "cell_type": "code",
   "execution_count": 113,
   "metadata": {
    "collapsed": false
   },
   "outputs": [
   ],
   "source": [
    "def triFusion(L, n):\n",
    "    \"\"\"\n",
    "    Tri Fusion\n",
    "    Input :\n",
    "        - L une liste \n",
    "        - n la taille de la liste\n",
    "    \"\"\"\n",
    "    # écrire le code\n"
   ]
  },
  {
   "cell_type": "code",
   "execution_count": 114,
   "metadata": {
    "collapsed": false
   },
   "outputs": [
   ],
   "source": [
    "L = Liste([5,1,4,2,4,3,2,4,8])\n",
    "triFusion(L,9)\n",
    "assert str(L) == \"[1 -> 2 -> 2 -> 3 -> 4 -> 4 -> 4 -> 5 -> 8]\"\n",
    "L = Liste()\n",
    "triFusion(L,0)\n",
    "assert str(L) == \"[]\"\n",
    "L = Liste([1])\n",
    "triFusion(L,0)\n",
    "assert str(L) == \"[1]\""
   ]
  },
  {
   "cell_type": "code",
   "execution_count": 115,
   "metadata": {
    "collapsed": false
   },
   "outputs": [
   ],
   "source": [
    "t = randomTableau(50)\n",
    "L1 = Liste(t)\n",
    "triFusion(L1,50)\n",
    "t.sort()\n",
    "L2 = Liste(t)\n",
    "assert str(L1) == str(L2)"
   ]
  },
  {
   "cell_type": "code",
   "execution_count": 0,
   "metadata": {
    "collapsed": true
   },
   "outputs": [
   ],
   "source": [
   ]
  }
 ],
 "metadata": {
  "kernelspec": {
   "display_name": "Python 3 (Ubuntu Linux)",
   "language": "python",
   "name": "python3"
  },
  "language_info": {
   "codemirror_mode": {
    "name": "ipython",
    "version": 3
   },
   "file_extension": ".py",
   "mimetype": "text/x-python",
   "name": "python",
   "nbconvert_exporter": "python",
   "pygments_lexer": "ipython3",
   "version": "3.5.2"
  },
  "name": "TP4Corrige.ipynb"
 },
 "nbformat": 4,
 "nbformat_minor": 0
}