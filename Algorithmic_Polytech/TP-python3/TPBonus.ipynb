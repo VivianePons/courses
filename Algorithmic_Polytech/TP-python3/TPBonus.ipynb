{
 "cells": [
  {
   "cell_type": "markdown",
   "metadata": {},
   "source": [
    "**Ce TP a été conçu pour être réalisé après la dernière séance cours. Mais, cette 5ème séance n'existe plus dans les emplois du temps. Ce TP est donc mis à votre disposition pour entrainement / révision. Il ne sera pas noté.**"
   ]
  },
  {
   "cell_type": "markdown",
   "metadata": {},
   "source": [
    "# Arbres\n",
    "\n",
    "On utilisera la structure suivante."
   ]
  },
  {
   "cell_type": "code",
   "execution_count": 39,
   "metadata": {},
   "outputs": [],
   "source": [
    "class Arbre():\n",
    "    \n",
    "    def __init__(self, x): # constructeur\n",
    "        self.valeur = x\n",
    "        self.fils = []\n",
    "        \n",
    "    def __repr__(self): # affichage\n",
    "        s = str(self.valeur) + str(self.fils)\n",
    "        return s"
   ]
  },
  {
   "cell_type": "code",
   "execution_count": 43,
   "metadata": {},
   "outputs": [],
   "source": [
    "A = Arbre(4)\n",
    "A # un arbre avec un seul noeud de valeur 4"
   ]
  },
  {
   "cell_type": "code",
   "execution_count": 44,
   "metadata": {},
   "outputs": [],
   "source": [
    "A.fils.append(Arbre(2))\n",
    "A.fils.append(Arbre(5))\n",
    "A.fils.append(Arbre(1))\n",
    "A # Un arbre avec une racide et 3 fils"
   ]
  },
  {
   "cell_type": "code",
   "execution_count": 45,
   "metadata": {},
   "outputs": [],
   "source": [
    "A.fils[1].fils.append(Arbre(3)) # on rajoute un fils au fils du milieu\n",
    "A"
   ]
  },
  {
   "cell_type": "markdown",
   "metadata": {},
   "source": [
    "Compléter les fonctions suivantes."
   ]
  },
  {
   "cell_type": "code",
   "execution_count": 50,
   "metadata": {},
   "outputs": [],
   "source": [
    "def hauteur(A):\n",
    "    \"\"\"\n",
    "    Renvoie la hauteur de l'arbre\n",
    "    Input : un arbre A\n",
    "    Output : un entier\n",
    "    \"\"\"\n"
   ]
  },
  {
   "cell_type": "code",
   "execution_count": 51,
   "metadata": {},
   "outputs": [],
   "source": [
    "assert hauteur(A) == 3"
   ]
  },
  {
   "cell_type": "code",
   "execution_count": 52,
   "metadata": {},
   "outputs": [],
   "source": [
    "def taille(A):\n",
    "    \"\"\"\n",
    "    Renvoie le nombre de noeuds dans l'arbre\n",
    "    Input : un arbre A\n",
    "    Output : un entier\n",
    "    \"\"\"\n"
   ]
  },
  {
   "cell_type": "code",
   "execution_count": 53,
   "metadata": {},
   "outputs": [],
   "source": [
    "assert taille(A) == 5"
   ]
  },
  {
   "cell_type": "code",
   "execution_count": 54,
   "metadata": {},
   "outputs": [],
   "source": [
    "def parcoursProfondeur(A):\n",
    "    \"\"\"\n",
    "    Affiche les noeuds de A par un parcours en profondeur\n",
    "    Input : un arbre A\n",
    "    \"\"\"\n"
   ]
  },
  {
   "cell_type": "code",
   "execution_count": 55,
   "metadata": {},
   "outputs": [],
   "source": [
    "parcoursProfondeur(A) # doit afficher : 4 2 5 3 1"
   ]
  },
  {
   "cell_type": "code",
   "execution_count": 56,
   "metadata": {},
   "outputs": [],
   "source": [
    "def parcoursLargeur(A):\n",
    "    \"\"\"\n",
    "    Affiche les noeuds de A par un parcours en largeur\n",
    "    Input : un arbre A\n",
    "    \"\"\"\n"
   ]
  },
  {
   "cell_type": "code",
   "execution_count": 58,
   "metadata": {},
   "outputs": [],
   "source": [
    "parcoursLargeur(A) # doit afficher : 4 2 5 1 3"
   ]
  },
  {
   "cell_type": "markdown",
   "metadata": {},
   "source": [
    "# Arbre binaire de Recherche"
   ]
  },
  {
   "cell_type": "markdown",
   "metadata": {},
   "source": [
    "Le but de ce TP est de manipuler des *Arbres Binaires de Recherche*. Rappel : ce sont des arbres binaires dont les noeuds contiennent des valeurs telles que pour chaque noeud $n$ de valeur $x$ :\n",
    "* les valeurs du sous arbres gauche de $n$ sont inférieures ou égales à $x$\n",
    "* les valeurs du sous arbre droit de $n$ sont strictement supérieures à $x$"
   ]
  },
  {
   "cell_type": "markdown",
   "metadata": {},
   "source": [
    "### Rappel: Papier et crayon sont des outils souvent indispensables à l'informaticien·ne."
   ]
  },
  {
   "cell_type": "markdown",
   "metadata": {},
   "source": [
    "## Structure"
   ]
  },
  {
   "cell_type": "markdown",
   "metadata": {},
   "source": [
    "On utilisera la classe suivante qui donne une implatantion minimale des arbres binaires."
   ]
  },
  {
   "cell_type": "code",
   "execution_count": 1,
   "metadata": {},
   "outputs": [],
   "source": [
    "class ArbreBinaire():\n",
    "    \n",
    "    def __init__(self, x, filsG = None, filsD = None): # constructeur\n",
    "        self.valeur = x\n",
    "        self.filsG = filsG\n",
    "        self.filsD = filsD\n",
    "        \n",
    "    def __repr__(self): # affichage\n",
    "        if self.filsG is None and self.filsD is None:\n",
    "            return str(self.valeur)\n",
    "        s = str(self.valeur) + \"[\" + str(self.filsG) + \", \" + str(self.filsD) + \"]\"\n",
    "        s = s.replace(\"None\",\".\") # pour alléger l'affichage\n",
    "        return s"
   ]
  },
  {
   "cell_type": "markdown",
   "metadata": {},
   "source": [
    "Voilà par exemple la création d'un arbre binaire de racine 3, avec un fils gauche de valeur 1 et un fils droit de valeur 4."
   ]
  },
  {
   "cell_type": "code",
   "execution_count": 2,
   "metadata": {},
   "outputs": [],
   "source": [
    "N1 = ArbreBinaire(1)\n",
    "N4 = ArbreBinaire(4)\n",
    "N3 = ArbreBinaire(3,N1,N4)\n",
    "N3"
   ]
  },
  {
   "cell_type": "markdown",
   "metadata": {},
   "source": [
    "En voici un autre, cette fois, 4 a aussi un fil droit de valeur 5."
   ]
  },
  {
   "cell_type": "code",
   "execution_count": 3,
   "metadata": {},
   "outputs": [],
   "source": [
    "N1 = ArbreBinaire(1)\n",
    "N5 = ArbreBinaire(5)\n",
    "N4 = ArbreBinaire(4,None,N5)\n",
    "N3 = ArbreBinaire(3,N1,N4)\n",
    "N3"
   ]
  },
  {
   "cell_type": "markdown",
   "metadata": {},
   "source": [
    "On peut accéder aux différents champs de cette façon :"
   ]
  },
  {
   "cell_type": "code",
   "execution_count": 5,
   "metadata": {},
   "outputs": [],
   "source": [
    "print(N3.valeur)\n",
    "print(N3.filsG)\n",
    "print(N3.filsD)"
   ]
  },
  {
   "cell_type": "markdown",
   "metadata": {},
   "source": [
    "**Exercice :** créer l'ABR où l'on a rajouté 2 comme fils droit du sous-arbre enraciné en 1 de l'exemple précédent."
   ]
  },
  {
   "cell_type": "code",
   "execution_count": 6,
   "metadata": {},
   "outputs": [],
   "source": []
  },
  {
   "cell_type": "markdown",
   "metadata": {},
   "source": [
    "## Insertion\n",
    "\n",
    "On rappelle l'algorithme d'insertion dans un arbre binaire de recherche :\n",
    "* l'insertion dans un noeud vide renvoie l'arbre contenant le noeud à insérer,\n",
    "* sinon, on compare la valeur à insérer à la valeur du noeud, on insère à gauche si la valeur est plus petite ou égale et à droite sinon"
   ]
  },
  {
   "cell_type": "code",
   "execution_count": 7,
   "metadata": {},
   "outputs": [],
   "source": [
    "def insertABR(A,v):\n",
    "    \"\"\"\n",
    "    Insertion dans un ABR\n",
    "    Input :\n",
    "        - A, l'arbre binaire de recherche (peut être None)\n",
    "        - v, la valeur à insérer\n",
    "    Output :\n",
    "        la nouvelle racine de l'arbre\n",
    "    \"\"\"\n"
   ]
  },
  {
   "cell_type": "code",
   "execution_count": 8,
   "metadata": {},
   "outputs": [],
   "source": [
    "A = insertABR(None,3)\n",
    "assert str(A) == \"3\"\n",
    "A = insertABR(A,1)\n",
    "assert str(A) == \"3[1, .]\"\n",
    "A = insertABR(A,4)\n",
    "assert str(A) == \"3[1, 4]\"\n",
    "A = insertABR(A,5)\n",
    "assert str(A) == \"3[1, 4[., 5]]\"\n",
    "A = insertABR(A,2)\n",
    "assert str(A) == \"3[1[., 2], 4[., 5]]\"\n",
    "A = insertABR(A,1)\n",
    "assert str(A) == \"3[1[1, 2], 4[., 5]]\""
   ]
  },
  {
   "cell_type": "code",
   "execution_count": 9,
   "metadata": {},
   "outputs": [],
   "source": [
    "def insertListABR(L):\n",
    "    \"\"\"\n",
    "    Insertion d'une liste dans un ABR\n",
    "\n",
    "    Input :\n",
    "        - L, une liste de valeurs\n",
    "    Output :\n",
    "        L'arbre binaire obtenu en insérant les éléments un à un\n",
    "    \"\"\"\n"
   ]
  },
  {
   "cell_type": "code",
   "execution_count": 10,
   "metadata": {},
   "outputs": [],
   "source": [
    "A = insertListABR([3,1,4,5,2,1])\n",
    "assert str(A) == \"3[1[1, 2], 4[., 5]]\"\n",
    "A = insertListABR([3,4,5,1,2,1])\n",
    "assert str(A) == \"3[1[1, 2], 4[., 5]]\"\n",
    "A = insertListABR([5,1,4,2,5,8,5,6,7,2,5])\n",
    "assert str(A) == \"5[1[., 4[2[2, .], 5[5[5, .], .]]], 8[6[., 7], .]]\""
   ]
  },
  {
   "cell_type": "markdown",
   "metadata": {},
   "source": [
    "On vous donne la fonction suivante qui permet de récupérer les éléments de l'arbre en ordre infixe et de les mettre dans une liste.\n",
    "\n",
    "Techniquement on utilise le fantastique système de générateurs en Python. On utilise l'instruction *yield* qui permet d'énumérer l'ensemble à générer. L'instruction *yield* agit un peu comme un *return* qui n'arête pas l'exécution du programme, mais le met en pause jusqu'à son prochain appel."
   ]
  },
  {
   "cell_type": "code",
   "execution_count": 11,
   "metadata": {},
   "outputs": [],
   "source": [
    "def infixeGenerator(A):\n",
    "    if A is None:\n",
    "        return\n",
    "    for v in infixeGenerator(A.filsG):\n",
    "        yield v\n",
    "    yield A.valeur\n",
    "    for v in infixeGenerator(A.filsD):\n",
    "        yield v\n",
    "        \n",
    "def infixeList(A):\n",
    "    return list(infixeGenerator(A))"
   ]
  },
  {
   "cell_type": "markdown",
   "metadata": {},
   "source": [
    "On peut maintenant vérifier que le tri par ABR... trie bien les valeurs comme escompté!"
   ]
  },
  {
   "cell_type": "code",
   "execution_count": 12,
   "metadata": {},
   "outputs": [],
   "source": [
    "A = insertListABR([3,1,4,5,2,1])\n",
    "assert infixeList(A) == [1,1,2,3,4,5]\n",
    "A = insertListABR([3,4,5,1,2,1])\n",
    "assert infixeList(A) == [1,1,2,3,4,5]\n",
    "A = insertListABR([5,1,4,2,5,8,5,6,7,2,5])\n",
    "assert infixeList(A) == [1,2,2,4,5,5,5,5,6,7,8]"
   ]
  },
  {
   "cell_type": "markdown",
   "metadata": {},
   "source": [
    "## Rotations"
   ]
  },
  {
   "cell_type": "markdown",
   "metadata": {},
   "source": [
    "Reprenez les algorithmes (vus en TD) de *rotation droite* et *rotation gauche* et implantez les."
   ]
  },
  {
   "cell_type": "code",
   "execution_count": 13,
   "metadata": {},
   "outputs": [],
   "source": [
    "def rightRotation(T):\n",
    "    \"\"\"\n",
    "    Rotation droite\n",
    "    Effectue une rotation droite à la racine de l'arbre donné en argument.\n",
    "    Si l'arbre est vide ou si son sous-arbre gauche est vide, la rotation ne fait rien.\n",
    "\n",
    "    Input :\n",
    "        - T un ABR\n",
    "    Output:\n",
    "        La nouvelle racine de l'arbre\n",
    "    \"\"\"\n"
   ]
  },
  {
   "cell_type": "code",
   "execution_count": 14,
   "metadata": {},
   "outputs": [],
   "source": [
    "T = None\n",
    "assert rightRotation(T) == T\n",
    "T = ArbreBinaire(2)\n",
    "assert rightRotation(T) == T\n",
    "T = ArbreBinaire(2,None, ArbreBinaire(3))\n",
    "assert rightRotation(T) == T\n",
    "T = ArbreBinaire(2, ArbreBinaire(1), None)\n",
    "T = rightRotation(T)\n",
    "assert str(T) == \"1[., 2]\"\n",
    "T = insertListABR([5,7,3,4,1,6,2])\n",
    "assert str(T) == \"5[3[1[., 2], 4], 7[6, .]]\"\n",
    "T = rightRotation(T)\n",
    "assert str(T) == \"3[1[., 2], 5[4, 7[6, .]]]\"\n",
    "T = insertListABR([4,5,7,3,2,1,6])\n",
    "assert str(T) == \"4[3[2[1, .], .], 5[., 7[6, .]]]\"\n",
    "T = rightRotation(T)\n",
    "assert str(T) == \"3[2[1, .], 4[., 5[., 7[6, .]]]]\"\n",
    "T = insertListABR([5,2,7,4,3,6,1])\n",
    "assert str(T) == \"5[2[1, 4[3, .]], 7[6, .]]\"\n",
    "T = rightRotation(T)\n",
    "assert str(T) == \"2[1, 5[4[3, .], 7[6, .]]]\""
   ]
  },
  {
   "cell_type": "code",
   "execution_count": 15,
   "metadata": {},
   "outputs": [],
   "source": [
    "def leftRotation(T):\n",
    "    \"\"\"\n",
    "    Rotation gauche\n",
    "    Effectue une rotation gauche à la racine de l'arbre donné en argument.\n",
    "    Si l'arbre est vide ou si son sous-arbre droit est vide, la rotation ne fait rien.\n",
    "\n",
    "    Input :\n",
    "        - T un ABR\n",
    "    Output:\n",
    "        La nouvelle racine de l'arbre\n",
    "    \"\"\"\n"
   ]
  },
  {
   "cell_type": "code",
   "execution_count": 16,
   "metadata": {},
   "outputs": [],
   "source": [
    "T = None\n",
    "assert leftRotation(T) == T\n",
    "T = ArbreBinaire(2)\n",
    "assert leftRotation(T) == T\n",
    "T = ArbreBinaire(2,ArbreBinaire(1), None)\n",
    "assert leftRotation(T) == T\n",
    "T = ArbreBinaire(2, None, ArbreBinaire(3))\n",
    "T = leftRotation(T)\n",
    "assert str(T) == \"3[2, .]\"\n",
    "T = insertListABR([3,1,5,2,4,7,6])\n",
    "assert str(T) == \"3[1[., 2], 5[4, 7[6, .]]]\"\n",
    "T = leftRotation(T)\n",
    "assert str(T) == \"5[3[1[., 2], 4], 7[6, .]]\"\n",
    "T = insertListABR([3,4,5,2,7,6,1])\n",
    "assert str(T) == \"3[2[1, .], 4[., 5[., 7[6, .]]]]\"\n",
    "T = leftRotation(T)\n",
    "assert str(T) == \"4[3[2[1, .], .], 5[., 7[6, .]]]\"\n",
    "T = insertListABR([2,5,7,1,6,4,3])\n",
    "assert str(T) == \"2[1, 5[4[3, .], 7[6, .]]]\"\n",
    "T = leftRotation(T)\n",
    "assert str(T) == \"5[2[1, 4[3, .]], 7[6, .]]\""
   ]
  },
  {
   "cell_type": "markdown",
   "metadata": {},
   "source": [
    "## Equilibre"
   ]
  },
  {
   "cell_type": "markdown",
   "metadata": {},
   "source": [
    "**Cette section dépasse le cadre du programme de cette année. Les exercices suivants sont très intéressants (et vous pouvez y revenir si jamais vos futurs cours d'algo vous amènent du côté des AVL) mais ils ne sont pas nécessaires pour le partiel**\n",
    "\n",
    "On dit qu'un ABR est équilibré si la différence de hauteur à gauche et à droite de tous les noeuds est strictement ingérieure à 2 (donc -1, 0 ou 1).\n",
    "\n",
    "Le but de cette section est d'écrire un algorithme d'insertion dans les arbres équilibrés, qui préserve cet propriété.\n",
    "Pour cela, on va sauvegarder *au niveau de chaque noeud* la hauteur du sous-arbre issu du noeud. Cela permetra de connaitre en temps constant l'état d'équilibre d'un arbre.\n",
    "\n",
    "Dans la littérature, on appelle *AVL* cette classe d'ABR.\n",
    "Le nom *AVL* provient du nom des deux auteurs de l'algorithme: Georgii Adelson-Velsky et Evguenii Landis.\n",
    "\n",
    "On crée une nouvelle classe *AVL* pour les arbres avec paramètres de hauteur."
   ]
  },
  {
   "cell_type": "code",
   "execution_count": 17,
   "metadata": {},
   "outputs": [],
   "source": [
    "class AVL():\n",
    "    \n",
    "    def __init__(self, x): # constructeur\n",
    "        self.valeur = x\n",
    "        self.hauteur = 1\n",
    "        self.filsG = None #  On ne permet plus l'initialisation de filsG et filsD\n",
    "        self.filsD = None #  ils ne seront modifés que par l'insertion\n",
    "        \n",
    "    def __repr__(self): # affichage\n",
    "        if self.filsG is None and self.filsD is None:\n",
    "            return str(self.valeur)\n",
    "        s = str(self.valeur) + \"[\" + str(self.filsG) + \", \" + str(self.filsD) + \"]\"\n",
    "        s = s.replace(\"None\",\".\") # pour alléger l'affichage\n",
    "        return s\n",
    "    \n",
    "    def equilibre(self):\n",
    "        \"\"\"\n",
    "        Retourne la valeur d'équilibre de l'arbre en fonction des hauteurs sauvegardées\n",
    "        \"\"\"\n",
    "        hg = 0\n",
    "        if not self.filsG is None:\n",
    "            hg = self.filsG.hauteur\n",
    "        hd = 0\n",
    "        if not self.filsD is None:\n",
    "            hd = self.filsD.hauteur\n",
    "        return hg - hd\n",
    "    \n",
    "    # la méthode suivante va nous permettre de vérifier que le paramètre de hauteur est mis correctement à jour\n",
    "\n",
    "    def checkHauteur(self):\n",
    "        \"\"\"\n",
    "        Calcule récursivement la hauteur et vérifie la cohérence des valeurs sauvegardées\n",
    "        \n",
    "        Output:\n",
    "            - True ou False selon que les valeurs de hauteur correspondent à la vrai hauteur de l'arbre\n",
    "            - la hauteur de l'arbre calculée par l'algorithme\n",
    "        \"\"\"\n",
    "        if not self.filsG is None:\n",
    "            cg, hg = self.filsG.checkHauteur()\n",
    "        else:\n",
    "            cg, hg = True, 0 # fils vide\n",
    "        if not self.filsD is None:\n",
    "            cd, hd = self.filsD.checkHauteur()\n",
    "        else:\n",
    "            cd, hd = True, 0 # fils vide\n",
    "        h = max(hg,hd) +1\n",
    "        if not cg or not cd: # les valeurs sont incohérentes sur les fils\n",
    "            return False, h\n",
    "        if not self.hauteur == h:\n",
    "            return False, h\n",
    "        return True, h\n",
    "    \n",
    "    def checkAVL(self):\n",
    "        \"\"\"\n",
    "        Vérifie que l'arbre est un AVL en utilisant les valeurs des hauteurs stockées.\n",
    "        \"\"\"\n",
    "        return self.equilibre() > -2 and self.equilibre() < 2 and (self.filsG is None or self.filsG.checkAVL()) and (self.filsD is None or self.filsD.checkAVL())"
   ]
  },
  {
   "cell_type": "markdown",
   "metadata": {},
   "source": [
    "Il faut maintenant modifier légèrement notre algorithme d'insertion pour prendre en compte la mise à jour du paramètre de hauteur. On effectue une insertion classique puis on calcule le nouveau paramètre en fonction de celui des fils.\n",
    "\n",
    " * Dans le cas où l'arbre est vide, je retourne un nouvel objet AVL (la hauteur est donc 1 et correspondant bien au paramaètre hauteur du noeud)\n",
    " * Si j'effectue une insertion : je met à jour le paramètre hauteur du noeud qui doit etre égaule aux mximums des hauteurs des fils +1, pour cela j'utilise les PARAMETRES hauteur des noeuds fils (remarque : seul la hauteur du fils dans lequel j'insère est suceptible d'être modifiée)\n",
    " \n",
    "**Remarque** Pour l'instant, on se contente de mettre à jour les hauteur, on ne s'occupe pas de savoir si les arbres sont équilibrés ou non, en particulier, on ne fabrique pas encore de vrais AVL. \n"
   ]
  },
  {
   "cell_type": "code",
   "execution_count": 18,
   "metadata": {},
   "outputs": [],
   "source": [
    "def insertHauteur(T, v):\n",
    "    \"\"\"\n",
    "    Insertion avec mise à jour de la hauteur\n",
    "\n",
    "    Input :\n",
    "        - T, un arbre binaire de la classe AVL\n",
    "        - v, la valeur à insérer\n",
    "    \"\"\"\n"
   ]
  },
  {
   "cell_type": "code",
   "execution_count": 20,
   "metadata": {},
   "outputs": [],
   "source": [
    "A = insertHauteur(None,3)\n",
    "assert str(A) == \"3\"\n",
    "assert A.checkHauteur()[0]\n",
    "A = insertHauteur(A,1)\n",
    "assert str(A) == \"3[1, .]\"\n",
    "assert A.checkHauteur()[0]\n",
    "A = insertHauteur(A,4)\n",
    "assert str(A) == \"3[1, 4]\"\n",
    "assert A.checkHauteur()[0]\n",
    "A = insertHauteur(A,5)\n",
    "assert str(A) == \"3[1, 4[., 5]]\"\n",
    "assert A.checkHauteur()[0]\n",
    "A = insertHauteur(A,2)\n",
    "assert str(A) == \"3[1[., 2], 4[., 5]]\"\n",
    "assert A.checkHauteur()[0]\n",
    "A = insertHauteur(A,1)\n",
    "assert str(A) == \"3[1[1, 2], 4[., 5]]\"\n",
    "assert A.checkHauteur()[0]"
   ]
  },
  {
   "cell_type": "code",
   "execution_count": 0,
   "metadata": {},
   "outputs": [],
   "source": []
  },
  {
   "cell_type": "code",
   "execution_count": 21,
   "metadata": {},
   "outputs": [],
   "source": [
    "def insertListHauteur(L):\n",
    "    \"\"\"\n",
    "    Insertion d'une liste dans un Arbre binaire avec mise à jour des hauteurs\n",
    "\n",
    "    Input :\n",
    "        - L, une liste de valeur\n",
    "    Output :\n",
    "        L'arbre binaire obtenu de classe AVL\n",
    "    \"\"\"\n"
   ]
  },
  {
   "cell_type": "code",
   "execution_count": 23,
   "metadata": {},
   "outputs": [],
   "source": [
    "A = insertListHauteur([3,1,4,5,2,1])\n",
    "assert infixeList(A) == [1,1,2,3,4,5]\n",
    "assert A.checkHauteur()[0]\n",
    "A = insertListHauteur([3,4,5,1,2,1])\n",
    "assert infixeList(A) == [1,1,2,3,4,5]\n",
    "assert A.checkHauteur()[0]\n",
    "A = insertListHauteur([5,1,4,2,5,8,5,6,7,2,5])\n",
    "assert infixeList(A) == [1,2,2,4,5,5,5,5,6,7,8]\n",
    "assert A.checkHauteur()[0]"
   ]
  },
  {
   "cell_type": "markdown",
   "metadata": {},
   "source": [
    "Pour écrire l'algortihme d'insertion dans un AVL tel que l'équilibre des hauteurs soit conservés, on a besoin des rotations gauches et droites.\n",
    "\n",
    "Cependant, il faut faire attention à ce que les rotation modifient les hauteurs des différents noeuds. \n",
    "\n",
    "Reprennez l'algorithme de rotation vu en cours. Vous remarquereez que la hautaur des sous arbres $A$, $B$ et $C$ n'est pas modifiée. Seule la hauteur des sous arbres $x$ et $y$ est suceptible de changer. On fait donc les choses dans cet ordre :\n",
    " * rotation classique\n",
    " * mise à jour des hauteurs de $x$ et $y$ en utilisant les PARAMETRES hauteurs de leurs fils (ou 0 si les fils sont vide). **Attention** à l'ordre étant donné que les hauteurs de $x$ et $y$ dépendent l'une de l'autre.\n",
    "\n"
   ]
  },
  {
   "cell_type": "code",
   "execution_count": 24,
   "metadata": {},
   "outputs": [],
   "source": [
    "def rightRotationHauteur(T):\n",
    "    \"\"\"\n",
    "    Rotation droite avec mise à jour des hauteurs\n",
    "    Effectue une rotation droite à la racine de l'arbre donné en argument et met à jour les valeurs de hauteur\n",
    "\n",
    "    Input :\n",
    "        - T un objet de type AVL\n",
    "    Output:\n",
    "        La nouvelle racine de l'arbre\n",
    "    \"\"\"\n",
    "    # end solution\n",
    "    if T is None or T.filsG is None:\n",
    "        return T\n",
    "    x,y = T.filsG,T\n",
    "    A,B,C = x.filsG, x.filsD, y.filsD\n",
    "    hA,hB,hC = 0,0,0\n",
    "    if A != None:\n",
    "        hA = A.hauteur\n",
    "    if B != None:\n",
    "        hB = B.hauteur\n",
    "    if C != None:\n",
    "        hC = C.hauteur\n",
    "    x.filsD = y\n",
    "    y.filsG = B\n",
    "    y.hauteur = max(hB,hC) + 1\n",
    "    x.hauteur = max(hA,y.hauteur) +1\n",
    "    return x\n",
    "    # end solution"
   ]
  },
  {
   "cell_type": "code",
   "execution_count": 25,
   "metadata": {},
   "outputs": [],
   "source": [
    "T = insertListHauteur([5,7,3,4,1,6,2])\n",
    "assert str(T) == \"5[3[1[., 2], 4], 7[6, .]]\"\n",
    "T = rightRotationHauteur(T)\n",
    "assert str(T) == \"3[1[., 2], 5[4, 7[6, .]]]\"\n",
    "assert T.checkHauteur()[0]\n",
    "T = insertListHauteur([4,5,7,3,2,1,6])\n",
    "assert str(T) == \"4[3[2[1, .], .], 5[., 7[6, .]]]\"\n",
    "T = rightRotationHauteur(T)\n",
    "assert str(T) == \"3[2[1, .], 4[., 5[., 7[6, .]]]]\"\n",
    "assert T.checkHauteur()[0]\n",
    "T = insertListHauteur([5,2,7,4,3,6,1])\n",
    "assert str(T) == \"5[2[1, 4[3, .]], 7[6, .]]\"\n",
    "T = rightRotationHauteur(T)\n",
    "assert str(T) == \"2[1, 5[4[3, .], 7[6, .]]]\"\n",
    "assert T.checkHauteur()[0]"
   ]
  },
  {
   "cell_type": "code",
   "execution_count": 31,
   "metadata": {},
   "outputs": [],
   "source": [
    "def leftRotationHauteur(T):\n",
    "    \"\"\"\n",
    "    Rotation gauche avec mise à jour des hauteurs\n",
    "    Effectue une rotation gauche à la racine de l'arbre donné en argument et met à jour les valeurs de hauteur.\n",
    "    Si l'arbre est vide ou si son sous-arbre droit est vide, la rotation ne fait rien.\n",
    "\n",
    "    Input :\n",
    "        - T un AVL\n",
    "    Output:\n",
    "        La nouvelle racine de l'arbre\n",
    "    \"\"\"\n"
   ]
  },
  {
   "cell_type": "code",
   "execution_count": 32,
   "metadata": {},
   "outputs": [],
   "source": [
    "T = insertListHauteur([3,1,5,2,4,7,6])\n",
    "assert str(T) == \"3[1[., 2], 5[4, 7[6, .]]]\"\n",
    "T = leftRotationHauteur(T)\n",
    "assert str(T) == \"5[3[1[., 2], 4], 7[6, .]]\"\n",
    "assert T.checkHauteur()[0]\n",
    "T = insertListHauteur([3,4,5,2,7,6,1])\n",
    "assert str(T) == \"3[2[1, .], 4[., 5[., 7[6, .]]]]\"\n",
    "T = leftRotationHauteur(T)\n",
    "assert str(T) == \"4[3[2[1, .], .], 5[., 7[6, .]]]\"\n",
    "assert T.checkHauteur()[0]\n",
    "T = insertListHauteur([2,5,7,1,6,4,3])\n",
    "assert str(T) == \"2[1, 5[4[3, .], 7[6, .]]]\"\n",
    "T = leftRotationHauteur(T)\n",
    "assert str(T) == \"5[2[1, 4[3, .]], 7[6, .]]\"\n",
    "assert T.checkHauteur()[0]"
   ]
  },
  {
   "cell_type": "markdown",
   "metadata": {},
   "source": [
    "On a maintenant tous les outils pour écrire une vraie insertion AVL, c'est-à-dire, une insertion qui conserve des arbres équilibrés. Le principe est le suivant : on suppose que l'on est sur un noeud $n$ et l'insertion a modifié sa valeur d'équilibre pour l'amener à 2 ou -2, on supose que les sous-arbres ont déjà été rééquilibrés. Plusieurs cas sont possibles :\n",
    "* l'équilibre de $n$ est de 2 et l'équilibre de son fils gauche est de 1 : **on applique une rotation droite sur $n$**\n",
    "* l'équilibre de $n$ est de 2 et l'équilibre de son fils gauche est de -1 : **on applique une rotation gauche sur le fils gauche puis une rotation droite sur $n$**\n",
    "* l'équilibre de $n$ est de -2 et l'équilibre de son fils droit est de -1 : **on applique une rotation gauche sur $n$**\n",
    "* l'équilibre de $n$ est de -2 et l'équilibre de son fils droit est de 1 : **on applique une rotation droite sur le fils droit puis une rotation gauche sur $n$**.\n",
    "\n",
    "Il est possible de montrer que ce sont les **seules possibilités**, vous pouvez essayer de voir vous-même pourquoi (un excellent exercice). Remarquez que lorsqu'on insère, les sous-arbres sont rééquilibrés avant la racine. Donc l'algorithme d'insertion dans un arbre non vide est le suivant :\n",
    "* on insère à gauche ou à droite en fonction de la valeur à insérer,\n",
    "* on met à jour la valeur de hauteur du noeud\n",
    "* si l'arbre obtenu est déséquilibré, on le rééquilibre avec l'algorithme décrit ci-dessus."
   ]
  },
  {
   "cell_type": "code",
   "execution_count": 33,
   "metadata": {},
   "outputs": [],
   "source": [
    "def insertAVL(T, v):\n",
    "    \"\"\"\n",
    "    Insertion AVL \n",
    "    insertion d'une valeur dans un AVL avec rééquilibrage\n",
    "\n",
    "    Input :\n",
    "        - T, un arbre binaire de la classe AVL\n",
    "        - v, la valeur à insérer\n",
    "    \"\"\"\n"
   ]
  },
  {
   "cell_type": "code",
   "execution_count": 34,
   "metadata": {},
   "outputs": [],
   "source": [
    "def insertListAVL(L):\n",
    "    \"\"\"\n",
    "    Insertion d'une liste dans un AVL\n",
    "\n",
    "    Input :\n",
    "        - L, une liste de valeur\n",
    "    Output :\n",
    "        L'AVL obtenu \n",
    "    \"\"\"\n"
   ]
  },
  {
   "cell_type": "code",
   "execution_count": 35,
   "metadata": {},
   "outputs": [],
   "source": [
    "A = insertListAVL([3,1,4,5,2])\n",
    "assert infixeList(A) == [1,2,3,4,5]\n",
    "assert A.checkHauteur()[0]\n",
    "assert A.checkAVL()\n",
    "A = insertListAVL([3,4,5,1,2])\n",
    "assert infixeList(A) == [1,2,3,4,5]\n",
    "assert A.checkHauteur()[0]\n",
    "assert A.checkAVL()\n",
    "A = insertListAVL([1,2,3,4,5,6,7,8,9,10,11])\n",
    "assert infixeList(A) == [1,2,3,4,5,6,7,8,9,10,11]\n",
    "assert A.checkHauteur()[0]\n",
    "assert A.checkAVL()\n",
    "A = insertListAVL([11,10,9,8,7,6,5,4,3,2,1])\n",
    "assert infixeList(A) == [1,2,3,4,5,6,7,8,9,10,11]\n",
    "assert A.checkHauteur()[0]\n",
    "assert A.checkAVL()\n",
    "A = insertListAVL([11,1,10,2,9,3,8,4,7,5,6])\n",
    "assert infixeList(A) == [1,2,3,4,5,6,7,8,9,10,11]\n",
    "assert A.checkHauteur()[0]\n",
    "assert A.checkAVL()"
   ]
  },
  {
   "cell_type": "code",
   "execution_count": 0,
   "metadata": {},
   "outputs": [],
   "source": []
  },
  {
   "cell_type": "code",
   "execution_count": 0,
   "metadata": {},
   "outputs": [],
   "source": []
  },
  {
   "cell_type": "code",
   "execution_count": 0,
   "metadata": {},
   "outputs": [],
   "source": []
  },
  {
   "cell_type": "code",
   "execution_count": 0,
   "metadata": {},
   "outputs": [],
   "source": []
  },
  {
   "cell_type": "code",
   "execution_count": 0,
   "metadata": {},
   "outputs": [],
   "source": []
  },
  {
   "cell_type": "code",
   "execution_count": 0,
   "metadata": {
    "collapsed": true
   },
   "outputs": [],
   "source": []
  },
  {
   "cell_type": "code",
   "execution_count": 0,
   "metadata": {},
   "outputs": [],
   "source": []
  },
  {
   "cell_type": "code",
   "execution_count": 0,
   "metadata": {},
   "outputs": [],
   "source": []
  },
  {
   "cell_type": "code",
   "execution_count": 0,
   "metadata": {},
   "outputs": [],
   "source": []
  },
  {
   "cell_type": "code",
   "execution_count": 0,
   "metadata": {
    "collapsed": true
   },
   "outputs": [],
   "source": []
  }
 ],
 "metadata": {
  "kernelspec": {
   "display_name": "Python 3",
   "language": "python",
   "name": "python3"
  },
  "language_info": {
   "codemirror_mode": {
    "name": "ipython",
    "version": 3
   },
   "file_extension": ".py",
   "mimetype": "text/x-python",
   "name": "python",
   "nbconvert_exporter": "python",
   "pygments_lexer": "ipython3",
   "version": "3.6.7"
  }
 },
 "nbformat": 4,
 "nbformat_minor": 1
}
