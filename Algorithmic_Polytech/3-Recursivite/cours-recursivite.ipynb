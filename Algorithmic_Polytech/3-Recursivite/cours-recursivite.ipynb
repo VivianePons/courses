{
 "cells": [
  {
   "cell_type": "markdown",
   "metadata": {
    "collapsed": false
   },
   "source": [
    "# Cours 3 : Récursivité\n",
    "\n",
    "## Rappel : la pile d'exécution\n",
    "\n",
    "Au cours de l'exécution d'un programme les variables sont stockées dans la mémoire sous forme d'une **pile**. A chaque appel de fonction, un espace mémoire est réservé pour les variables de la fonction.\n",
    "\n",
    "**Exemple** "
   ]
  },
  {
   "cell_type": "code",
   "execution_count": 1,
   "metadata": {
    "collapsed": false
   },
   "outputs": [
    {
     "data": {
      "text/plain": [
       "5"
      ]
     },
     "execution_count": 1,
     "metadata": {
     },
     "output_type": "execute_result"
    }
   ],
   "source": [
    "def fonction1(a):\n",
    "    c = a + 1\n",
    "    return c\n",
    "\n",
    "def fonction2(b):\n",
    "    return fonction1(b+1)\n",
    "\n",
    "a = fonction2(3)\n",
    "a"
   ]
  },
  {
   "cell_type": "markdown",
   "metadata": {
    "collapsed": false
   },
   "source": [
    "Voici une image simplifiée de l'évolution de la pile lors de l'exécution"
   ]
  },
  {
   "cell_type": "markdown",
   "metadata": {
    "collapsed": false
   },
   "source": [
    "![Evolution de la pile lors de l'exécution](pile1.png)"
   ]
  },
  {
   "cell_type": "markdown",
   "metadata": {
    "collapsed": false
   },
   "source": [
    "On va utiliser le petit bout de code suivant pour suivre en direct les appels de fonctions, exécutez la cellule qui définit la fonction `printAppelsFonctions` puis regardons comment on l'applique sur notre petit bout de code."
   ]
  },
  {
   "cell_type": "code",
   "execution_count": 2,
   "metadata": {
    "collapsed": false
   },
   "outputs": [
   ],
   "source": [
    "import functools\n",
    "\n",
    "def printAppelsFonctions(func):\n",
    "    \"\"\"Print the function signature and return value\"\"\"\n",
    "    @functools.wraps(func)\n",
    "    def wrapper_debug(*args, **kwargs):\n",
    "        args_repr = [repr(a) for a in args]                      \n",
    "        kwargs_repr = [f\"{k}={v!r}\" for k, v in kwargs.items()]  \n",
    "        signature = \", \".join(args_repr + kwargs_repr)           \n",
    "        print(f\"Appel de {func.__name__}({signature})\")\n",
    "        value = func(*args, **kwargs)\n",
    "        print(f\"valeur de retour {value!r}\")\n",
    "        print(f\"Fin de {func.__name__}({signature})\")           \n",
    "        return value\n",
    "    return wrapper_debug"
   ]
  },
  {
   "cell_type": "code",
   "execution_count": 3,
   "metadata": {
    "collapsed": false
   },
   "outputs": [
    {
     "name": "stdout",
     "output_type": "stream",
     "text": [
      "Appel de fonction2(3)\n",
      "Appel de fonction1(4)\n",
      "valeur de retour 5\n",
      "Fin de fonction1(4)\n",
      "valeur de retour 5\n",
      "Fin de fonction2(3)\n"
     ]
    },
    {
     "data": {
      "text/plain": [
       "5"
      ]
     },
     "execution_count": 3,
     "metadata": {
     },
     "output_type": "execute_result"
    }
   ],
   "source": [
    "@printAppelsFonctions\n",
    "def fonction1(a):\n",
    "    c = a + 1\n",
    "    return c\n",
    "\n",
    "@printAppelsFonctions\n",
    "def fonction2(b):\n",
    "    return fonction1(b+1)\n",
    "\n",
    "a = fonction2(3)\n",
    "a"
   ]
  },
  {
   "cell_type": "markdown",
   "metadata": {
    "collapsed": false
   },
   "source": [
    "**Exemple**\n",
    "\n",
    "que se passe-t-il dans le cas suivant ?"
   ]
  },
  {
   "cell_type": "code",
   "execution_count": 4,
   "metadata": {
    "collapsed": false
   },
   "outputs": [
    {
     "ename": "RecursionError",
     "evalue": "maximum recursion depth exceeded",
     "output_type": "error",
     "traceback": [
      "\u001b[0;31m---------------------------------------------------------------------------\u001b[0m",
      "\u001b[0;31mRecursionError\u001b[0m                            Traceback (most recent call last)",
      "\u001b[0;32m<ipython-input-4-21c1aad30985>\u001b[0m in \u001b[0;36m<module>\u001b[0;34m\u001b[0m\n\u001b[1;32m      2\u001b[0m     \u001b[0mfonction1\u001b[0m\u001b[0;34m(\u001b[0m\u001b[0ma\u001b[0m\u001b[0;34m)\u001b[0m\u001b[0;34m\u001b[0m\u001b[0;34m\u001b[0m\u001b[0m\n\u001b[1;32m      3\u001b[0m \u001b[0;34m\u001b[0m\u001b[0m\n\u001b[0;32m----> 4\u001b[0;31m \u001b[0mfonction1\u001b[0m\u001b[0;34m(\u001b[0m\u001b[0;36m3\u001b[0m\u001b[0;34m)\u001b[0m\u001b[0;34m\u001b[0m\u001b[0;34m\u001b[0m\u001b[0m\n\u001b[0m",
      "\u001b[0;32m<ipython-input-4-21c1aad30985>\u001b[0m in \u001b[0;36mfonction1\u001b[0;34m(a)\u001b[0m\n\u001b[1;32m      1\u001b[0m \u001b[0;32mdef\u001b[0m \u001b[0mfonction1\u001b[0m\u001b[0;34m(\u001b[0m\u001b[0ma\u001b[0m\u001b[0;34m)\u001b[0m\u001b[0;34m:\u001b[0m\u001b[0;34m\u001b[0m\u001b[0;34m\u001b[0m\u001b[0m\n\u001b[0;32m----> 2\u001b[0;31m     \u001b[0mfonction1\u001b[0m\u001b[0;34m(\u001b[0m\u001b[0ma\u001b[0m\u001b[0;34m)\u001b[0m\u001b[0;34m\u001b[0m\u001b[0;34m\u001b[0m\u001b[0m\n\u001b[0m\u001b[1;32m      3\u001b[0m \u001b[0;34m\u001b[0m\u001b[0m\n\u001b[1;32m      4\u001b[0m \u001b[0mfonction1\u001b[0m\u001b[0;34m(\u001b[0m\u001b[0;36m3\u001b[0m\u001b[0;34m)\u001b[0m\u001b[0;34m\u001b[0m\u001b[0;34m\u001b[0m\u001b[0m\n",
      "... last 1 frames repeated, from the frame below ...\n",
      "\u001b[0;32m<ipython-input-4-21c1aad30985>\u001b[0m in \u001b[0;36mfonction1\u001b[0;34m(a)\u001b[0m\n\u001b[1;32m      1\u001b[0m \u001b[0;32mdef\u001b[0m \u001b[0mfonction1\u001b[0m\u001b[0;34m(\u001b[0m\u001b[0ma\u001b[0m\u001b[0;34m)\u001b[0m\u001b[0;34m:\u001b[0m\u001b[0;34m\u001b[0m\u001b[0;34m\u001b[0m\u001b[0m\n\u001b[0;32m----> 2\u001b[0;31m     \u001b[0mfonction1\u001b[0m\u001b[0;34m(\u001b[0m\u001b[0ma\u001b[0m\u001b[0;34m)\u001b[0m\u001b[0;34m\u001b[0m\u001b[0;34m\u001b[0m\u001b[0m\n\u001b[0m\u001b[1;32m      3\u001b[0m \u001b[0;34m\u001b[0m\u001b[0m\n\u001b[1;32m      4\u001b[0m \u001b[0mfonction1\u001b[0m\u001b[0;34m(\u001b[0m\u001b[0;36m3\u001b[0m\u001b[0;34m)\u001b[0m\u001b[0;34m\u001b[0m\u001b[0;34m\u001b[0m\u001b[0m\n",
      "\u001b[0;31mRecursionError\u001b[0m: maximum recursion depth exceeded"
     ]
    }
   ],
   "source": [
    "def fonction1(a):\n",
    "    fonction1(a)\n",
    "\n",
    "fonction1(3)"
   ]
  },
  {
   "cell_type": "code",
   "execution_count": 0,
   "metadata": {
    "collapsed": false
   },
   "outputs": [
   ],
   "source": [
    "@printAppelsFonctions\n",
    "def fonction1(a):\n",
    "    fonction1(a)\n",
    "\n",
    "fonction1(3)"
   ]
  },
  {
   "cell_type": "markdown",
   "metadata": {
    "collapsed": false
   },
   "source": [
    "## Définition\n",
    "\n",
    "Un algorithme *récursif* est un algorithme qui fait appel à lui même. Lorsqu'un algorithme n'est pas récursif, on dit qu'il est *itératif*.\n",
    "\n",
    "Pour éviter une boucle infinie, il faudra impérativement définir **une condition d'arrêt**.\n",
    "\n",
    "**Exemple**\n",
    "\n",
    "Le calcul de $n! = n \\times (n-1) \\times \\dots \\times 1$. Tout d'abord la version itérative"
   ]
  },
  {
   "cell_type": "code",
   "execution_count": 4,
   "metadata": {
    "collapsed": false
   },
   "outputs": [
   ],
   "source": [
    "def factorielleIterative(n):\n",
    "    r = 1\n",
    "    for i in range(1,n+1):\n",
    "        r = r*i\n",
    "    return r"
   ]
  },
  {
   "cell_type": "code",
   "execution_count": 5,
   "metadata": {
    "collapsed": false
   },
   "outputs": [
    {
     "data": {
      "text/plain": [
       "6"
      ]
     },
     "execution_count": 5,
     "metadata": {
     },
     "output_type": "execute_result"
    }
   ],
   "source": [
    "factorielleIterative(3)"
   ]
  },
  {
   "cell_type": "code",
   "execution_count": 6,
   "metadata": {
    "collapsed": false
   },
   "outputs": [
    {
     "data": {
      "text/plain": [
       "120"
      ]
     },
     "execution_count": 6,
     "metadata": {
     },
     "output_type": "execute_result"
    }
   ],
   "source": [
    "factorielleIterative(5)"
   ]
  },
  {
   "cell_type": "markdown",
   "metadata": {
    "collapsed": false
   },
   "source": [
    "La version récursive se base sur le principe suivant :\n",
    "\n",
    "$n! = \\begin{cases}\n",
    "1 & \\text{si } n = 0 \\\\\n",
    "n \\times (n-1)! & \\text{sinon}\n",
    "\\end{cases}$"
   ]
  },
  {
   "cell_type": "code",
   "execution_count": 7,
   "metadata": {
    "collapsed": false
   },
   "outputs": [
   ],
   "source": [
    "def factorielleRecursive(n):\n",
    "    if n == 0:\n",
    "        return 1\n",
    "    return n * factorielleRecursive(n-1)"
   ]
  },
  {
   "cell_type": "code",
   "execution_count": 8,
   "metadata": {
    "collapsed": false
   },
   "outputs": [
    {
     "data": {
      "text/plain": [
       "6"
      ]
     },
     "execution_count": 8,
     "metadata": {
     },
     "output_type": "execute_result"
    }
   ],
   "source": [
    "factorielleRecursive(3)"
   ]
  },
  {
   "cell_type": "code",
   "execution_count": 9,
   "metadata": {
    "collapsed": false
   },
   "outputs": [
    {
     "data": {
      "text/plain": [
       "120"
      ]
     },
     "execution_count": 9,
     "metadata": {
     },
     "output_type": "execute_result"
    }
   ],
   "source": [
    "factorielleRecursive(5)"
   ]
  },
  {
   "cell_type": "markdown",
   "metadata": {
    "collapsed": false
   },
   "source": [
    "Que se passe-t-il au niveau de la pile ?"
   ]
  },
  {
   "cell_type": "code",
   "execution_count": 10,
   "metadata": {
    "collapsed": false
   },
   "outputs": [
   ],
   "source": [
    "@printAppelsFonctions\n",
    "def factorielleRecursive(n):\n",
    "    if n == 0:\n",
    "        return 1\n",
    "    return n * factorielleRecursive(n-1)\n"
   ]
  },
  {
   "cell_type": "code",
   "execution_count": 11,
   "metadata": {
    "collapsed": false
   },
   "outputs": [
    {
     "name": "stdout",
     "output_type": "stream",
     "text": [
      "Appel de factorielleRecursive(3)\n",
      "Appel de factorielleRecursive(2)\n",
      "Appel de factorielleRecursive(1)\n",
      "Appel de factorielleRecursive(0)\n",
      "valeur de retour 1\n",
      "Fin de factorielleRecursive(0)\n",
      "valeur de retour 1\n",
      "Fin de factorielleRecursive(1)\n",
      "valeur de retour 2\n",
      "Fin de factorielleRecursive(2)\n",
      "valeur de retour 6\n",
      "Fin de factorielleRecursive(3)\n"
     ]
    },
    {
     "data": {
      "text/plain": [
       "6"
      ]
     },
     "execution_count": 11,
     "metadata": {
     },
     "output_type": "execute_result"
    }
   ],
   "source": [
    "factorielleRecursive(3)"
   ]
  },
  {
   "cell_type": "markdown",
   "metadata": {
    "collapsed": false
   },
   "source": [
    "Attention, sur certaines valeurs, on obtient des appels récurisfs à l'infini. Ici, la *fonction termine* sur l'ensemble des entiers positifs mais pas sur les négatifs"
   ]
  },
  {
   "cell_type": "code",
   "execution_count": 0,
   "metadata": {
    "collapsed": false
   },
   "outputs": [
   ],
   "source": [
    "factorielleRecursive(-2)"
   ]
  },
  {
   "cell_type": "markdown",
   "metadata": {
    "collapsed": false
   },
   "source": [
    "## Comment définir une fonction récursive ?\n",
    "\n",
    "Le principe d'une fonction récursive est assez similaire à la notion de **récurrence** mathématique. On ne cherche pas à calculer le problème dans son ensemble mais simplement à le définir en fonction d'un problème de taille plus petite. Tout comme en mathématique le fait de prouver l'état initial et une seule étape permet de prouver la propriété, dans un algorithme, le fait de calculer l'état initial et une étape permet de calculer n'importe quelle valeur. \n",
    "\n",
    "Un algorithme récursif s'écrira toujours de cette façon :"
   ]
  },
  {
   "cell_type": "raw",
   "metadata": {
    "collapsed": false
   },
   "source": [
    "Input : des paramètres\n",
    "Processus:\n",
    "    Si les paramètres correspondent à la condition d'arret (cas simple):\n",
    "        Actions cas d'arret\n",
    "    Sinon\n",
    "        Appel(s) récursifs sur de nouveaux paramètres"
   ]
  },
  {
   "cell_type": "markdown",
   "metadata": {
    "collapsed": false
   },
   "source": [
    "Pour être sûr que l'algorithme termine, les nouveaux paramètres doivent se rapprocher de la condition d'arrêt."
   ]
  },
  {
   "cell_type": "markdown",
   "metadata": {
    "collapsed": false
   },
   "source": [
    "## Exercices"
   ]
  },
  {
   "cell_type": "markdown",
   "metadata": {
    "collapsed": false
   },
   "source": [
    "### Exercice 1\n",
    "\n",
    "1. Donner un algorithme récursif qui affiche les entiers de 1 à $n$\n",
    "1. Même chose de $n$ à 1\n",
    "3. Puis-je modifier ces algorithmes pour qu'ils rajoutent \"fin\" à la fin de la liste"
   ]
  },
  {
   "cell_type": "code",
   "execution_count": 0,
   "metadata": {
    "collapsed": false
   },
   "outputs": [
   ],
   "source": [
   ]
  },
  {
   "cell_type": "code",
   "execution_count": 0,
   "metadata": {
    "collapsed": false
   },
   "outputs": [
   ],
   "source": [
   ]
  },
  {
   "cell_type": "code",
   "execution_count": 0,
   "metadata": {
    "collapsed": false
   },
   "outputs": [
   ],
   "source": [
   ]
  },
  {
   "cell_type": "code",
   "execution_count": 0,
   "metadata": {
    "collapsed": false
   },
   "outputs": [
   ],
   "source": [
   ]
  },
  {
   "cell_type": "code",
   "execution_count": 0,
   "metadata": {
    "collapsed": false
   },
   "outputs": [
   ],
   "source": [
   ]
  },
  {
   "cell_type": "markdown",
   "metadata": {
    "collapsed": false
   },
   "source": [
    "### Exercice 2\n",
    "\n",
    "Pour chacun des algorithmes suivants :\n",
    "\n",
    "1. Déterminez pour quelles valeurs d'entrée l'algorithme termine (= ne fait pas de boucles infinies)\n",
    "2. Calculez un exemple à la main\n",
    "3. Expliquez ce que calcule l'algorithme"
   ]
  },
  {
   "cell_type": "code",
   "execution_count": 23,
   "metadata": {
    "collapsed": false
   },
   "outputs": [
   ],
   "source": [
    "def fonction1(n):\n",
    "    if n == 0:\n",
    "        return 1\n",
    "    return fonction1(n+1)"
   ]
  },
  {
   "cell_type": "code",
   "execution_count": 0,
   "metadata": {
    "collapsed": false
   },
   "outputs": [
   ],
   "source": [
   ]
  },
  {
   "cell_type": "code",
   "execution_count": 25,
   "metadata": {
    "collapsed": false
   },
   "outputs": [
   ],
   "source": [
    "def fonction2(n):\n",
    "    if n == 0:\n",
    "        return 0\n",
    "    return fonction2(n-1)+n"
   ]
  },
  {
   "cell_type": "code",
   "execution_count": 0,
   "metadata": {
    "collapsed": false
   },
   "outputs": [
   ],
   "source": [
   ]
  },
  {
   "cell_type": "code",
   "execution_count": 27,
   "metadata": {
    "collapsed": false
   },
   "outputs": [
   ],
   "source": [
    "def fonction3(n):\n",
    "    if n == 0:\n",
    "        return 0\n",
    "    return fonction3(n-1) - n"
   ]
  },
  {
   "cell_type": "code",
   "execution_count": 0,
   "metadata": {
    "collapsed": false
   },
   "outputs": [
   ],
   "source": [
   ]
  },
  {
   "cell_type": "code",
   "execution_count": 29,
   "metadata": {
    "collapsed": false
   },
   "outputs": [
   ],
   "source": [
    "def fonction4(n):\n",
    "    if n == 0:\n",
    "        return 0\n",
    "    if n < 0:\n",
    "        return n + fonction4(-n)\n",
    "    return n + fonction4(-n+1)"
   ]
  },
  {
   "cell_type": "code",
   "execution_count": 0,
   "metadata": {
    "collapsed": false
   },
   "outputs": [
   ],
   "source": [
   ]
  },
  {
   "cell_type": "code",
   "execution_count": 33,
   "metadata": {
    "collapsed": false
   },
   "outputs": [
   ],
   "source": [
    "def fonction5(n):\n",
    "    if n <= 1:\n",
    "        return 0\n",
    "    return 1 + fonction5(n-2)"
   ]
  },
  {
   "cell_type": "code",
   "execution_count": 0,
   "metadata": {
    "collapsed": false
   },
   "outputs": [
   ],
   "source": [
   ]
  },
  {
   "cell_type": "markdown",
   "metadata": {
    "collapsed": false
   },
   "source": [
    "### Exercice 3\n",
    "\n",
    "La fonction de fibonacci est définie par :\n",
    "\n",
    "$U_0 = 1$\n",
    "\n",
    "$U_1 = 1$\n",
    "\n",
    "$U_n = U_{n-1} + U_{n-2}$ si $n \\geq 2$\n",
    "\n",
    "Ces premières valeurs sont donc : 1, 1, 2, 3, 5, 8, 13, ...\n",
    "\n",
    "Donner deux algorithmes, un itératif et un récursif, qui calculent la valeur $n$ de la suite.\n"
   ]
  },
  {
   "cell_type": "code",
   "execution_count": 0,
   "metadata": {
    "collapsed": false
   },
   "outputs": [
   ],
   "source": [
   ]
  },
  {
   "cell_type": "code",
   "execution_count": 0,
   "metadata": {
    "collapsed": false
   },
   "outputs": [
   ],
   "source": [
   ]
  },
  {
   "cell_type": "code",
   "execution_count": 0,
   "metadata": {
    "collapsed": false
   },
   "outputs": [
   ],
   "source": [
   ]
  },
  {
   "cell_type": "markdown",
   "metadata": {
    "collapsed": false
   },
   "source": [
    "### Exercice 4\n",
    "\n",
    "On rappelle sur un exemple le principe de l'algorithme d'Euclide du calcul du pgcd (plus grand diviseur commun). \n",
    "\n",
    "Calcul du pgcd de 2145 et 630 : On commence par effectuer la division euclidienne de 2145 par 630\n",
    "\n",
    "$2145 = 630 * 3 + 255$\n",
    "\n",
    "puis on effectue la division de 630 par le reste obtenu 255\n",
    "\n",
    "$630 = 255 * 2 + 120$\n",
    "\n",
    "On continue jusqu'à ce que l'on trouve un reste nul.\n",
    "\n",
    "$\\begin{align*}\n",
    "255 &= 120 *2 + 15 \\\\\n",
    "120 &= 15 * 8\n",
    "\\end{align*}$\n",
    "\n",
    "Le pgcd est le dernier reste non nul, c'est-à-dire **15**.\n",
    "\n",
    "Donner un algorithme récursif qui calcule le pgcd de deux nombres."
   ]
  },
  {
   "cell_type": "code",
   "execution_count": 0,
   "metadata": {
    "collapsed": false
   },
   "outputs": [
   ],
   "source": [
   ]
  },
  {
   "cell_type": "code",
   "execution_count": 0,
   "metadata": {
    "collapsed": false
   },
   "outputs": [
   ],
   "source": [
   ]
  },
  {
   "cell_type": "code",
   "execution_count": 0,
   "metadata": {
    "collapsed": false
   },
   "outputs": [
   ],
   "source": [
   ]
  },
  {
   "cell_type": "markdown",
   "metadata": {
    "collapsed": false
   },
   "source": [
    "### Exercice 5\n",
    "\n",
    "Reprendre l'algorithme de recherche dichotomique dans un tableau trié vu dans le TD1 et donner une version récursive."
   ]
  },
  {
   "cell_type": "code",
   "execution_count": 0,
   "metadata": {
    "collapsed": false
   },
   "outputs": [
   ],
   "source": [
   ]
  },
  {
   "cell_type": "code",
   "execution_count": 0,
   "metadata": {
    "collapsed": false
   },
   "outputs": [
   ],
   "source": [
   ]
  },
  {
   "cell_type": "code",
   "execution_count": 0,
   "metadata": {
    "collapsed": false
   },
   "outputs": [
   ],
   "source": [
   ]
  },
  {
   "cell_type": "code",
   "execution_count": 0,
   "metadata": {
    "collapsed": false
   },
   "outputs": [
   ],
   "source": [
   ]
  },
  {
   "cell_type": "markdown",
   "metadata": {
    "collapsed": false
   },
   "source": [
    "### Exemple avancé : les Tours de Hanoï\n",
    "\n",
    "![Tour de Hanoï](hanoi.jpg)\n",
    "\n",
    "Problème : on possède trois pics sur lesquels sont empilés des disques de tailles décroissantes (tous sur le premier pic). On souhaite déplacer la pile sur le second pic en suivant les règles suivantes:\n",
    "\n",
    "* on ne peut déplacer qu'un seul disque à la fois, celui du haut de la pile,\n",
    "* on ne peut poser un disque que sur un disque plus grand.\n",
    "\n",
    "\n",
    "On suppose donc que l'on dispose d'une seule action possible :"
   ]
  },
  {
   "cell_type": "raw",
   "metadata": {
    "collapsed": false
   },
   "source": [
    "Fonction Déplacer\n",
    "Input : \n",
    "    - le pic de départ\n",
    "    - le pic d'arrivée\n",
    "Processus :\n",
    "    Si départ n'est pas vide:\n",
    "        D <- disque retiré au sommet de départ\n",
    "    Sinon:\n",
    "        Erreur \"Départ est vide\"\n",
    "    Si D < disque au sommet d'arrivée:\n",
    "        Poser D au sommet d'arrivée\n",
    "    Sinon:\n",
    "        Erreur \"Action impossible\""
   ]
  },
  {
   "cell_type": "markdown",
   "metadata": {
    "collapsed": false
   },
   "source": [
    "En python, on utilisera l'interface suivante :"
   ]
  },
  {
   "cell_type": "code",
   "execution_count": 39,
   "metadata": {
    "collapsed": false
   },
   "outputs": [
   ],
   "source": [
    "class Towers:\n",
    "    \n",
    "    def __init__(self,n):\n",
    "        self.towers = (list(range(n,0,-1)),[],[])\n",
    "        self.size = n\n",
    "    \n",
    "    def move(self,i,j):\n",
    "        t1,t2 = self.towers[i], self.towers[j]\n",
    "        if len(t1) == 0 or (len(t2) != 0 and t1[-1]>t2[-1]):\n",
    "            raise ValueError(\"Invalid action\")\n",
    "        print(\"Move from Tower \" + str(i) + \" to Tower \" + str(j))\n",
    "        t2.append(t1.pop())\n",
    "    \n",
    "    def __repr__(self):\n",
    "        res = \"\"\n",
    "        n = self.size\n",
    "        for i in range(n):\n",
    "            line = \"\"\n",
    "            for t in self.towers:\n",
    "                if len(t) > i:\n",
    "                    v = t[i]\n",
    "                else:\n",
    "                    v = 0\n",
    "                stars = v*\"*\"\n",
    "                spaces = (n-v)*\" \"\n",
    "                line+= spaces + stars + \"|\" + stars + spaces + \" \"\n",
    "            line+=\"\\n\"\n",
    "            res = line + res\n",
    "        return res"
   ]
  },
  {
   "cell_type": "code",
   "execution_count": 40,
   "metadata": {
    "collapsed": false
   },
   "outputs": [
    {
     "data": {
      "text/plain": [
       "  *|*      |       |    \n",
       " **|**     |       |    \n",
       "***|***    |       |    "
      ]
     },
     "execution_count": 40,
     "metadata": {
     },
     "output_type": "execute_result"
    }
   ],
   "source": [
    "T = Towers(3)\n",
    "T"
   ]
  },
  {
   "cell_type": "code",
   "execution_count": 41,
   "metadata": {
    "collapsed": false
   },
   "outputs": [
    {
     "name": "stdout",
     "output_type": "stream",
     "text": [
      "Move from Tower 0 to Tower 1\n"
     ]
    },
    {
     "data": {
      "text/plain": [
       "   |       |       |    \n",
       " **|**     |       |    \n",
       "***|***   *|*      |    "
      ]
     },
     "execution_count": 41,
     "metadata": {
     },
     "output_type": "execute_result"
    }
   ],
   "source": [
    "T.move(0,1)\n",
    "T"
   ]
  },
  {
   "cell_type": "markdown",
   "metadata": {
    "collapsed": false
   },
   "source": [
    "**Comment résoudre le problème ?**\n",
    "\n",
    "Pour résoudre un problème de façon récursive, il faut répondre à plusieurs questions :\n",
    "\n",
    "1. Quelle est la taille de mon problème ?\n",
    "2. Quelle est la plus petite taille possible ? (condition d'arrêt)\n",
    "3. Comment résoudre le problème dans ce cas là ? (action d'arrêt)\n",
    "4. Si je suppose que je sais résoudre le problème pour toutes les tailles $k < n$, comment le résoudre pour la taille $n$ ?\n"
   ]
  },
  {
   "cell_type": "code",
   "execution_count": 0,
   "metadata": {
    "collapsed": false
   },
   "outputs": [
   ],
   "source": [
   ]
  },
  {
   "cell_type": "code",
   "execution_count": 0,
   "metadata": {
    "collapsed": false
   },
   "outputs": [
   ],
   "source": [
   ]
  },
  {
   "cell_type": "code",
   "execution_count": 0,
   "metadata": {
    "collapsed": false
   },
   "outputs": [
   ],
   "source": [
   ]
  },
  {
   "cell_type": "code",
   "execution_count": 0,
   "metadata": {
    "collapsed": false
   },
   "outputs": [
   ],
   "source": [
   ]
  },
  {
   "cell_type": "markdown",
   "metadata": {
    "collapsed": false
   },
   "source": [
    "## Complexité d'un algorithme récursif\n",
    "\n",
    "### méthode de calcul\n",
    "\n",
    "Reprenons le schéma de base d'un algorithme récursif  que l'on précise légèrement:"
   ]
  },
  {
   "cell_type": "raw",
   "metadata": {
    "collapsed": false
   },
   "source": [
    "Fonction R\n",
    "Input : des paramètres\n",
    "Processus:\n",
    "    Si les paramètres correspondent à la condition d'arret (cas simple):\n",
    "        Actions cas d'arret\n",
    "    Sinon\n",
    "        Actions itératives et \n",
    "        k Appel(s) récursifs: R(p1), R(p2), ..., R(pk)"
   ]
  },
  {
   "cell_type": "markdown",
   "metadata": {
    "collapsed": false
   },
   "source": [
    "On veut compter le nombre d'actions de base. Chaque appel de fonction est une action de base. Soit $f$ la complexité de l'algorithme. Pour simplifier l'écriture, on suppose que les paramètres de l'algorithme correspondent à la taille $n$ du problème. La condition d'arrêt est obtenue quand $n=0$ et correspond à une complexité constante $c_0$. On obtient une définition récursive de $f$\n",
    "\n",
    "$\\begin{align}\n",
    "f(0) &= c_0 \\\\\n",
    "f(n) &= g(n) + \\sum_{i=0}^k f(p_i)\n",
    "\\end{align}$\n",
    "\n",
    "où $g$ est la complexité de la partie itérative. La complexité dépend donc du \\textbf{nombre d'appels récursifs} à chaque étape et de la **taille des paramètres**. Il peut être plus ou moins simple de *développer* la fonction $f$ pour obtenir une formule close (non récursive).\n",
    "\n",
    "### Cas classiques\n",
    "\n",
    "On va regarder quelques cas classiques et compter le nombre d'appels de fonction. Pour cela, on utilise la fonctionnalité suivante (exécuter la cellule)"
   ]
  },
  {
   "cell_type": "code",
   "execution_count": 52,
   "metadata": {
    "collapsed": false
   },
   "outputs": [
   ],
   "source": [
    "import functools\n",
    "\n",
    "COMPTEUR = 0\n",
    "STACK = 0\n",
    "\n",
    "def compteAppels(func):\n",
    "    c = 0\n",
    "    \"\"\"Print the function signature and return value\"\"\"\n",
    "    @functools.wraps(func)\n",
    "    def wrapper_debug(*args, **kwargs):\n",
    "        global COMPTEUR, STACK\n",
    "        COMPTEUR +=1\n",
    "        STACK += 1\n",
    "        value = func(*args, **kwargs)\n",
    "        STACK -=1\n",
    "        if STACK == 0:\n",
    "            print(f\"{COMPTEUR} appels à la fonction {func.__name__}\")\n",
    "            COMPTEUR = 0\n",
    "        return value\n",
    "    return wrapper_debug"
   ]
  },
  {
   "cell_type": "markdown",
   "metadata": {
    "collapsed": false
   },
   "source": [
    "**Exemple : cas linéaire**\n",
    "\n",
    "On reprend la fonction factorielle vue précédemment."
   ]
  },
  {
   "cell_type": "code",
   "execution_count": 53,
   "metadata": {
    "collapsed": false
   },
   "outputs": [
   ],
   "source": [
    "@compteAppels\n",
    "def factorielle(n):\n",
    "    if n <= 0:\n",
    "        return 1\n",
    "    return n*factorielle(n-1)"
   ]
  },
  {
   "cell_type": "code",
   "execution_count": 55,
   "metadata": {
    "collapsed": false
   },
   "outputs": [
    {
     "name": "stdout",
     "output_type": "stream",
     "text": [
      "4 appels à la fonction factorielle\n"
     ]
    },
    {
     "data": {
      "text/plain": [
       "6"
      ]
     },
     "execution_count": 55,
     "metadata": {
     },
     "output_type": "execute_result"
    }
   ],
   "source": [
    "factorielle(3)"
   ]
  },
  {
   "cell_type": "markdown",
   "metadata": {
    "collapsed": false
   },
   "source": [
    "Lorsqu'on appelle `factorielle(n)` on génère $n+1$ appels de fonctions. On est sur le schéma suivant :"
   ]
  },
  {
   "cell_type": "raw",
   "metadata": {
    "collapsed": false
   },
   "source": [
    "Fonction R\n",
    "Input : un entier n\n",
    "Processus:\n",
    "    Si n=0:\n",
    "        Actions cas d'arret\n",
    "    Sinon\n",
    "        Appel de R(n-1)"
   ]
  },
  {
   "cell_type": "markdown",
   "metadata": {
    "collapsed": false
   },
   "source": [
    "Dans ce cas on a \n",
    "\n",
    "$\\begin{align}\n",
    "f(0) &= O(1) \\\\\n",
    "f(n) &= 1 + f(n-1)\n",
    "\\end{align}$\n",
    "\n",
    "Lorsqu'on développe, on obtient\n",
    "\n",
    "$\\begin{equation}\n",
    "f(n) = 1 + 1 + 1 + \\dots + 1 \n",
    "\\end{equation}$\n",
    "\n",
    "$n+1$ fois.\n",
    "\n",
    "Conclusion : la complexité est en $O(n)$."
   ]
  },
  {
   "cell_type": "markdown",
   "metadata": {
    "collapsed": false
   },
   "source": [
    "**Exemple : cas exponentiel**\n",
    "\n",
    "Reprenons l'exemple des Tours de Hanoï. Combien d'appels de fonctions sont réalisés pour la taille $n$ ?"
   ]
  },
  {
   "cell_type": "code",
   "execution_count": 49,
   "metadata": {
    "collapsed": false
   },
   "outputs": [
   ],
   "source": [
    "@compteAppels\n",
    "def Hanoi(n, T, depart, arrivee, inter):\n",
    "    if n == 0:\n",
    "        return\n",
    "    Hanoi(n-1, T, depart, inter, arrivee)\n",
    "    T.move(depart, arrivee)\n",
    "    Hanoi(n-1, T, inter, arrivee, depart)"
   ]
  },
  {
   "cell_type": "code",
   "execution_count": 60,
   "metadata": {
    "collapsed": false
   },
   "outputs": [
    {
     "name": "stdout",
     "output_type": "stream",
     "text": [
      "Move from Tower 0 to Tower 1\n",
      "3 appels à la fonction Hanoi\n"
     ]
    },
    {
     "data": {
      "text/plain": [
       " |  *|*  |  "
      ]
     },
     "execution_count": 60,
     "metadata": {
     },
     "output_type": "execute_result"
    }
   ],
   "source": [
    "n = 1\n",
    "T = Towers(n)\n",
    "Hanoi(n,T,0,1,2)\n",
    "T"
   ]
  },
  {
   "cell_type": "markdown",
   "metadata": {
    "collapsed": false
   },
   "source": [
    "On est sur le schéma suivant :"
   ]
  },
  {
   "cell_type": "raw",
   "metadata": {
    "collapsed": false
   },
   "source": [
    "Fonction R\n",
    "Input : un entier n\n",
    "Processus:\n",
    "    Si n=0:\n",
    "        Actions cas d'arret\n",
    "    Sinon:\n",
    "        2 appels de R(n-1)"
   ]
  },
  {
   "cell_type": "markdown",
   "metadata": {
    "collapsed": false
   },
   "source": [
    "Dans ce cas, la complexité est donnée par le nombre d'appels $f$ avec\n",
    "\n",
    "$\\begin{align}\n",
    "f(0) &= 1 \\\\\n",
    "f(n) &= 1 + 2 \\times f(n-1).\n",
    "\\end{align}$\n",
    "\n",
    "Par exemple, pour $n=3$ :\n",
    "\n",
    "$\\begin{align}\n",
    "f(3) &= 1 + 2f(2) = 1 + 2(1 + 2f(1)) = 1 + 2(1 + 2(1 + 2))\\\\\n",
    " &= 15 = 2^4 - 1.\n",
    "\\end{align}$\n",
    "\n",
    "On prouve facilement par récurrence que\n",
    "$\\begin{equation}\n",
    "f(n) = 2^{n+1} - 1.\n",
    "\\end{equation}$\n",
    "\n",
    "En effet, $f(0) = 1 = 2^1 - 1$ et si on suppose la formule vraie pour $n$, on obtient pour $n+1$\n",
    "\n",
    "$f(n+1) = 1 + 2 f(n) = 1 + 2(2^{n+1} -1) = 1 + 2^{n+2} - 2 = 2^{n+2} - 1$\n",
    "\n",
    "On est dans le cas d'une complexité exponentielle en $O(2^n)$."
   ]
  },
  {
   "cell_type": "markdown",
   "metadata": {
    "collapsed": false
   },
   "source": [
    "**Exemple : cas logarithmique**\n",
    "\n",
    "Reprenons l'exemple de la fonction de recherche dichotomique. Combien d'appels sont réalisés ici ?"
   ]
  },
  {
   "cell_type": "code",
   "execution_count": 63,
   "metadata": {
    "collapsed": false
   },
   "outputs": [
   ],
   "source": [
    "@compteAppels\n",
    "def rechercheDich(T,v,deb, fin):\n",
    "    m = (deb+fin)//2\n",
    "    if deb == fin:\n",
    "        return False\n",
    "    if T[m] == v:\n",
    "        return True\n",
    "    if v < T[m]:\n",
    "        return rechercheDich(T,v,deb,m)\n",
    "    return rechercheDich(T,v,m+1,fin)"
   ]
  },
  {
   "cell_type": "code",
   "execution_count": 78,
   "metadata": {
    "collapsed": false
   },
   "outputs": [
    {
     "name": "stdout",
     "output_type": "stream",
     "text": [
      "4 appels à la fonction rechercheDich\n"
     ]
    },
    {
     "data": {
      "text/plain": [
       "False"
      ]
     },
     "execution_count": 78,
     "metadata": {
     },
     "output_type": "execute_result"
    }
   ],
   "source": [
    "n = 7\n",
    "T = list(range(n))\n",
    "v = 0.5\n",
    "rechercheDich(T,v,0,n)"
   ]
  },
  {
   "cell_type": "markdown",
   "metadata": {
    "collapsed": false
   },
   "source": [
    "On est sur le schéma suivant"
   ]
  },
  {
   "cell_type": "raw",
   "metadata": {
    "collapsed": false
   },
   "source": [
    "Fonction R\n",
    "Input : un entier n\n",
    "Processus:\n",
    "    Si n=0:\n",
    "        Actions cas d'arret\n",
    "    Sinon:\n",
    "        Appel de R(n/2)"
   ]
  },
  {
   "cell_type": "markdown",
   "metadata": {
    "collapsed": false
   },
   "source": [
    "Dans ce cas, si $f$ est le nombre d'appels, on a\n",
    "\n",
    "$\\begin{align}\n",
    "f(0) &= 1 \\\\\n",
    "f(n) &= 1 + f(\\lfloor n/2 \\rfloor).\n",
    "\\end{align}$\n",
    "\n",
    "Développons sur un exemple :\n",
    "\n",
    "$\\begin{align}\n",
    "f(10) &= 1 + f(5) = 2 + f(2) = 3 + f(1) = 5 \\\\\n",
    "&= \\log(10) + 2.\n",
    "\\end{align}$\n",
    "\n",
    "(on prend le $\\log$ en base 2)\n",
    "\n",
    "On prouve par récurrence\n",
    "$\\begin{equation}\n",
    "f(n) = \\lfloor \\log(n) \\rfloor + 2.\n",
    "\\end{equation}$\n",
    "\n",
    "En effet, \n",
    "\n",
    "$f(1) = 1 + f(0) = 2 = \\log(1) + 2$ \n",
    "\n",
    "En supposant la formule correcte pour toute valeur inférieure stricte à $n$, on obtient\n",
    "\n",
    "$\\begin{align}\n",
    "f(n) &= 1 + f(\\lfloor n/2 \\rfloor) \\\\\n",
    "&= 1 + \\lfloor \\log(\\lfloor  n/2 \\rfloor) \\rfloor + 2\n",
    "\\end{align}$\n",
    "\n",
    "Supposons $n$ pair, si $k = \\lfloor \\log(n/2) \\rfloor$, cela signifie\n",
    "\n",
    "$2^k \\leq \\frac{n}{2} < 2^{k+1}$, c'est à dire\n",
    "\n",
    "$2^{k+1} \\leq n < 2^{k+2}$\n",
    "\n",
    "On peut obtenir une inégalité similaire dans le cas de $n$ impair. Cela signifie que :\n",
    "\n",
    "$\\lfloor \\log(\\lfloor  n/2 \\rfloor) \\rfloor = \\lfloor \\log(n) \\rfloor - 1$ \n",
    "\n",
    "et donc\n",
    "\n",
    "$f(n) = 1 + \\lfloor \\log(n) \\rfloor - 1 + 2 = \\lfloor \\log(n) \\rfloor + 2$\n",
    "\n",
    "On a donc une complexité en $O(log(n))$."
   ]
  },
  {
   "cell_type": "markdown",
   "metadata": {
    "collapsed": false
   },
   "source": [
    "### Conclusion : calcul de complexité\n",
    "\n",
    "Si l'on simplifie le problème aux cas où la partie itérative de la fonction est en $O(1)$ (comme dans les exemples précédents). La complexité est donnée entièrement par le nombre d'appels récursifs, $f$ on a 3 cas de figures. ($v$ et $k$ sont des constantes qui ne dépendent pas de $n$)\n",
    "\n",
    "$f(n) =  1 + f(n-v) \\rightarrow$ complexité linéaire $O(n)$\n",
    "\n",
    "$f(n) = 1 + k f(n - v) \\rightarrow$ complexité exponentielle $O(k^n)$\n",
    "\n",
    "$f(n) = 1 + f(n/k) \\rightarrow$ complexité logarithmique $O(\\log(n))$ (la constante $k$ agit sur la base dans laquelle on prend le logarithme, ce qui ne change pas la classe de complexité)"
   ]
  },
  {
   "cell_type": "markdown",
   "metadata": {
    "collapsed": false
   },
   "source": [
    "## Exercices\n",
    "\n",
    "### Exercice 6\n",
    "\n",
    "Dans la fonction suivante du calcul des nombres de Fibonacci, combien d'appels de fonctions sont réalisés pour un $n$ donné ? Quelle est la complexité ?"
   ]
  },
  {
   "cell_type": "code",
   "execution_count": 79,
   "metadata": {
    "collapsed": false
   },
   "outputs": [
   ],
   "source": [
    "def fibo(n):\n",
    "    if n <= 1:\n",
    "        return 1\n",
    "    return fibo(n-1) + fibo(n-2)"
   ]
  },
  {
   "cell_type": "code",
   "execution_count": 82,
   "metadata": {
    "collapsed": false
   },
   "outputs": [
    {
     "data": {
      "text/plain": [
       "8"
      ]
     },
     "execution_count": 82,
     "metadata": {
     },
     "output_type": "execute_result"
    }
   ],
   "source": [
    "fibo(5)"
   ]
  },
  {
   "cell_type": "markdown",
   "metadata": {
    "collapsed": false
   },
   "source": [
    "### Exercice 7\n",
    "\n",
    "Il existe deux définitions récursives de la fonction puissance :\n",
    "\n",
    "$\\begin{align*}\n",
    "a^b &= \\begin{cases}\n",
    "1 &\\text{si }b=0 \\\\\n",
    "a \\times a^{b-1} &\\text{sinon}\n",
    "\\end{cases} \\\\\n",
    "a^b &= \\begin{cases}\n",
    "1 &\\text{si }b=0 \\\\\n",
    "a \\times a^{b-1} &\\text{si }b\\text{ est impair} \\\\\n",
    "a^{\\frac{b}{2}}a^{\\frac{b}{2}} &\\text{si }b\\text{ est pair}\n",
    "\\end{cases}\n",
    "\\end{align*}$\n",
    "\n",
    "Pour chacune des définitions, donner l'algorithme récursif correspondant ainsi que sa complexité."
   ]
  },
  {
   "cell_type": "code",
   "execution_count": 0,
   "metadata": {
    "collapsed": false
   },
   "outputs": [
   ],
   "source": [
   ]
  },
  {
   "cell_type": "code",
   "execution_count": 0,
   "metadata": {
    "collapsed": false
   },
   "outputs": [
   ],
   "source": [
   ]
  },
  {
   "cell_type": "code",
   "execution_count": 0,
   "metadata": {
    "collapsed": false
   },
   "outputs": [
   ],
   "source": [
   ]
  },
  {
   "cell_type": "code",
   "execution_count": 0,
   "metadata": {
    "collapsed": false
   },
   "outputs": [
   ],
   "source": [
   ]
  },
  {
   "cell_type": "markdown",
   "metadata": {
    "collapsed": false
   },
   "source": [
    "## Pour finir : itératif ou récursif ?\n",
    "\n",
    "En terme de complexité, la récursivité ne permet pas par défaut d'obtenir des algorithmes plus efficaces. Quand elle est mal utilisée, elle peut même donner des complexité **plus mauvaise** : exemple de Fibonacci. Par ailleurs, on peut prouver qu'il existe **toujours** une version itérative d'un algorithme récursif : il suffit de déplier la pile !\n",
    "\n",
    "**Qu'en est-il de la complexité mémoire ?** Reprendre l'exemple de la fonction exponentielle en itératif et en récursif. La complexité mémoire de l'algorithme récursif est en $O(n)$ tandis qu'il est en $O(1)$ pour l'itératif.\n",
    "\n",
    "**Alors pourquoi on fait du récursif ?** Sur de nombreux problèmes, les algorithmes récursifs sont beaucoup plus simples à concevoir que les algorithmes itératifs. C'est le cas de l'algorithme des Tour de Hanoi. Ils donnent des codes plus courts et plus lisibles. Par ailleurs, certaines **structure de données** ont elles-mêmes des **définition récursives** et sont particulièrement adaptés aux algorithmes récursifs : les arbres, les graphes, les listes chaînées. "
   ]
  },
  {
   "cell_type": "code",
   "execution_count": 0,
   "metadata": {
    "collapsed": false
   },
   "outputs": [
   ],
   "source": [
   ]
  }
 ],
 "metadata": {
  "kernelspec": {
   "display_name": "Python 3 (system-wide)",
   "language": "python",
   "metadata": {
    "cocalc": {
     "description": "Python 3 programming language",
     "priority": 100,
     "url": "https://www.python.org/"
    }
   },
   "name": "python3"
  },
  "language_info": {
   "codemirror_mode": {
    "name": "ipython",
    "version": 3
   },
   "file_extension": ".py",
   "mimetype": "text/x-python",
   "name": "python",
   "nbconvert_exporter": "python",
   "pygments_lexer": "ipython3",
   "version": "3.8.5"
  }
 },
 "nbformat": 4,
 "nbformat_minor": 4
}