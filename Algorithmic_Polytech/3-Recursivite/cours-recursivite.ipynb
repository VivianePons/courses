{
 "cells": [
  {
   "cell_type": "markdown",
   "metadata": {},
   "source": [
    "# Cours 3 : Récursivité\n",
    "\n",
    "## Rappel : la pile d'exécution\n",
    "\n",
    "Au cours de l'exécution d'un programme les variables sont stockées dans la mémoire sous forme d'une **pile**. A chaque appel de fonction, un espace mémoire est réservé pour les variables de la fonction.\n",
    "\n",
    "**Exemple** "
   ]
  },
  {
   "cell_type": "code",
   "execution_count": 3,
   "metadata": {},
   "outputs": [
    {
     "data": {
      "text/plain": [
       "5"
      ]
     },
     "execution_count": 3,
     "metadata": {},
     "output_type": "execute_result"
    }
   ],
   "source": [
    "def fonction1(a):\n",
    "    c = a + 1\n",
    "    return c\n",
    "\n",
    "def fonction2(b):\n",
    "    return fonction1(b+1)\n",
    "\n",
    "a = fonction2(3)\n",
    "a"
   ]
  },
  {
   "cell_type": "markdown",
   "metadata": {},
   "source": [
    "Voici une image simplifiée de l'évolution de la pile lors de l'exécution"
   ]
  },
  {
   "cell_type": "markdown",
   "metadata": {},
   "source": [
    "![Evolution de la pile lors de l'exécution](pile1.png)"
   ]
  },
  {
   "cell_type": "markdown",
   "metadata": {},
   "source": [
    "On va utiliser le petit bout de code suivant pour suivre en direct les appels de fonctions, exécutez la cellule qui définit la fonction `printAppelsFonctions` puis regardons comment on l'applique sur notre petit bout de code."
   ]
  },
  {
   "cell_type": "code",
   "execution_count": 4,
   "metadata": {
    "collapsed": true
   },
   "outputs": [],
   "source": [
    "import functools\n",
    "\n",
    "def printAppelsFonctions(func):\n",
    "    \"\"\"Print the function signature and return value\"\"\"\n",
    "    @functools.wraps(func)\n",
    "    def wrapper_debug(*args, **kwargs):\n",
    "        args_repr = [repr(a) for a in args]                      \n",
    "        kwargs_repr = [f\"{k}={v!r}\" for k, v in kwargs.items()]  \n",
    "        signature = \", \".join(args_repr + kwargs_repr)           \n",
    "        print(f\"Appel de {func.__name__}({signature})\")\n",
    "        value = func(*args, **kwargs)\n",
    "        print(f\"valeur de retour {value!r}\")\n",
    "        print(f\"Fin de {func.__name__}({signature})\")           \n",
    "        return value\n",
    "    return wrapper_debug"
   ]
  },
  {
   "cell_type": "code",
   "execution_count": 5,
   "metadata": {},
   "outputs": [
    {
     "name": "stdout",
     "output_type": "stream",
     "text": [
      "Appel de fonction2(3)\n",
      "Appel de fonction1(4)\n",
      "valeur de retour 5\n",
      "Fin de fonction1(4)\n",
      "valeur de retour 5\n",
      "Fin de fonction2(3)\n"
     ]
    },
    {
     "data": {
      "text/plain": [
       "5"
      ]
     },
     "execution_count": 5,
     "metadata": {},
     "output_type": "execute_result"
    }
   ],
   "source": [
    "@printAppelsFonctions\n",
    "def fonction1(a):\n",
    "    c = a + 1\n",
    "    return c\n",
    "\n",
    "@printAppelsFonctions\n",
    "def fonction2(b):\n",
    "    return fonction1(b+1)\n",
    "\n",
    "a = fonction2(3)\n",
    "a"
   ]
  },
  {
   "cell_type": "markdown",
   "metadata": {},
   "source": [
    "**Exemple**\n",
    "\n",
    "que se passe-t-il dans le cas suivant ?"
   ]
  },
  {
   "cell_type": "code",
   "execution_count": 6,
   "metadata": {},
   "outputs": [
    {
     "ename": "RecursionError",
     "evalue": "maximum recursion depth exceeded",
     "output_type": "error",
     "traceback": [
      "\u001b[0;31m---------------------------------------------------------------------------\u001b[0m",
      "\u001b[0;31mRecursionError\u001b[0m                            Traceback (most recent call last)",
      "\u001b[0;32m<ipython-input-6-56ba8a8c4b50>\u001b[0m in \u001b[0;36m<module>\u001b[0;34m()\u001b[0m\n\u001b[1;32m      2\u001b[0m     \u001b[0mfonction1\u001b[0m\u001b[0;34m(\u001b[0m\u001b[0ma\u001b[0m\u001b[0;34m)\u001b[0m\u001b[0;34m\u001b[0m\u001b[0;34m\u001b[0m\u001b[0m\n\u001b[1;32m      3\u001b[0m \u001b[0;34m\u001b[0m\u001b[0m\n\u001b[0;32m----> 4\u001b[0;31m \u001b[0mfonction1\u001b[0m\u001b[0;34m(\u001b[0m\u001b[0;36m3\u001b[0m\u001b[0;34m)\u001b[0m\u001b[0;34m\u001b[0m\u001b[0;34m\u001b[0m\u001b[0m\n\u001b[0m",
      "\u001b[0;32m<ipython-input-6-56ba8a8c4b50>\u001b[0m in \u001b[0;36mfonction1\u001b[0;34m(a)\u001b[0m\n\u001b[1;32m      1\u001b[0m \u001b[0;32mdef\u001b[0m \u001b[0mfonction1\u001b[0m\u001b[0;34m(\u001b[0m\u001b[0ma\u001b[0m\u001b[0;34m)\u001b[0m\u001b[0;34m:\u001b[0m\u001b[0;34m\u001b[0m\u001b[0;34m\u001b[0m\u001b[0m\n\u001b[0;32m----> 2\u001b[0;31m     \u001b[0mfonction1\u001b[0m\u001b[0;34m(\u001b[0m\u001b[0ma\u001b[0m\u001b[0;34m)\u001b[0m\u001b[0;34m\u001b[0m\u001b[0;34m\u001b[0m\u001b[0m\n\u001b[0m\u001b[1;32m      3\u001b[0m \u001b[0;34m\u001b[0m\u001b[0m\n\u001b[1;32m      4\u001b[0m \u001b[0mfonction1\u001b[0m\u001b[0;34m(\u001b[0m\u001b[0;36m3\u001b[0m\u001b[0;34m)\u001b[0m\u001b[0;34m\u001b[0m\u001b[0;34m\u001b[0m\u001b[0m\n",
      "... last 1 frames repeated, from the frame below ...\n",
      "\u001b[0;32m<ipython-input-6-56ba8a8c4b50>\u001b[0m in \u001b[0;36mfonction1\u001b[0;34m(a)\u001b[0m\n\u001b[1;32m      1\u001b[0m \u001b[0;32mdef\u001b[0m \u001b[0mfonction1\u001b[0m\u001b[0;34m(\u001b[0m\u001b[0ma\u001b[0m\u001b[0;34m)\u001b[0m\u001b[0;34m:\u001b[0m\u001b[0;34m\u001b[0m\u001b[0;34m\u001b[0m\u001b[0m\n\u001b[0;32m----> 2\u001b[0;31m     \u001b[0mfonction1\u001b[0m\u001b[0;34m(\u001b[0m\u001b[0ma\u001b[0m\u001b[0;34m)\u001b[0m\u001b[0;34m\u001b[0m\u001b[0;34m\u001b[0m\u001b[0m\n\u001b[0m\u001b[1;32m      3\u001b[0m \u001b[0;34m\u001b[0m\u001b[0m\n\u001b[1;32m      4\u001b[0m \u001b[0mfonction1\u001b[0m\u001b[0;34m(\u001b[0m\u001b[0;36m3\u001b[0m\u001b[0;34m)\u001b[0m\u001b[0;34m\u001b[0m\u001b[0;34m\u001b[0m\u001b[0m\n",
      "\u001b[0;31mRecursionError\u001b[0m: maximum recursion depth exceeded"
     ]
    }
   ],
   "source": [
    "def fonction1(a):\n",
    "    fonction1(a)\n",
    "\n",
    "fonction1(3)"
   ]
  },
  {
   "cell_type": "code",
   "execution_count": 7,
   "metadata": {},
   "outputs": [
    {
     "name": "stdout",
     "output_type": "stream",
     "text": [
      "Appel de fonction1(3)\n",
      "Appel de fonction1(3)\n",
      "Appel de fonction1(3)\n",
      "Appel de fonction1(3)\n",
      "Appel de fonction1(3)\n",
      "Appel de fonction1(3)\n",
      "Appel de fonction1(3)\n",
      "Appel de fonction1(3)\n",
      "Appel de fonction1(3)\n",
      "Appel de fonction1(3)\n",
      "Appel de fonction1(3)\n",
      "Appel de fonction1(3)\n",
      "Appel de fonction1(3)\n",
      "Appel de fonction1(3)\n",
      "Appel de fonction1(3)\n",
      "Appel de fonction1(3)\n",
      "Appel de fonction1(3)\n",
      "Appel de fonction1(3)\n",
      "Appel de fonction1(3)\n",
      "Appel de fonction1(3)\n",
      "Appel de fonction1(3)\n",
      "Appel de fonction1(3)\n",
      "Appel de fonction1(3)\n",
      "Appel de fonction1(3)\n",
      "Appel de fonction1(3)\n",
      "Appel de fonction1(3)\n",
      "Appel de fonction1(3)\n",
      "Appel de fonction1(3)\n",
      "Appel de fonction1(3)\n",
      "Appel de fonction1(3)\n",
      "Appel de fonction1(3)\n",
      "Appel de fonction1(3)\n",
      "Appel de fonction1(3)\n",
      "Appel de fonction1(3)\n",
      "Appel de fonction1(3)\n",
      "Appel de fonction1(3)\n",
      "Appel de fonction1(3)\n",
      "Appel de fonction1(3)\n",
      "Appel de fonction1(3)\n",
      "Appel de fonction1(3)\n",
      "Appel de fonction1(3)\n",
      "Appel de fonction1(3)\n",
      "Appel de fonction1(3)\n",
      "Appel de fonction1(3)\n",
      "Appel de fonction1(3)\n",
      "Appel de fonction1(3)\n",
      "Appel de fonction1(3)\n",
      "Appel de fonction1(3)\n",
      "Appel de fonction1(3)\n",
      "Appel de fonction1(3)\n",
      "Appel de fonction1(3)\n",
      "Appel de fonction1(3)\n",
      "Appel de fonction1(3)\n",
      "Appel de fonction1(3)\n",
      "Appel de fonction1(3)\n",
      "Appel de fonction1(3)\n",
      "Appel de fonction1(3)\n",
      "Appel de fonction1(3)\n",
      "Appel de fonction1(3)\n",
      "Appel de fonction1(3)\n",
      "Appel de fonction1(3)\n",
      "Appel de fonction1(3)\n",
      "Appel de fonction1(3)\n",
      "Appel de fonction1(3)\n",
      "Appel de fonction1(3)\n",
      "Appel de fonction1(3)\n",
      "Appel de fonction1(3)\n",
      "Appel de fonction1(3)\n",
      "Appel de fonction1(3)\n",
      "Appel de fonction1(3)\n",
      "Appel de fonction1(3)\n",
      "Appel de fonction1(3)\n",
      "Appel de fonction1(3)\n",
      "Appel de fonction1(3)\n",
      "Appel de fonction1(3)\n",
      "Appel de fonction1(3)\n",
      "Appel de fonction1(3)\n",
      "Appel de fonction1(3)\n",
      "Appel de fonction1(3)\n",
      "Appel de fonction1(3)\n",
      "Appel de fonction1(3)\n",
      "Appel de fonction1(3)\n",
      "Appel de fonction1(3)\n",
      "Appel de fonction1(3)\n",
      "Appel de fonction1(3)\n",
      "Appel de fonction1(3)\n",
      "Appel de fonction1(3)\n",
      "Appel de fonction1(3)\n",
      "Appel de fonction1(3)\n",
      "Appel de fonction1(3)\n",
      "Appel de fonction1(3)\n",
      "Appel de fonction1(3)\n",
      "Appel de fonction1(3)\n",
      "Appel de fonction1(3)\n",
      "Appel de fonction1(3)\n",
      "Appel de fonction1(3)\n",
      "Appel de fonction1(3)\n",
      "Appel de fonction1(3)\n",
      "Appel de fonction1(3)\n",
      "Appel de fonction1(3)\n",
      "Appel de fonction1(3)\n",
      "Appel de fonction1(3)\n",
      "Appel de fonction1(3)\n",
      "Appel de fonction1(3)\n",
      "Appel de fonction1(3)\n",
      "Appel de fonction1(3)\n",
      "Appel de fonction1(3)\n",
      "Appel de fonction1(3)\n",
      "Appel de fonction1(3)\n",
      "Appel de fonction1(3)\n",
      "Appel de fonction1(3)\n",
      "Appel de fonction1(3)\n",
      "Appel de fonction1(3)\n",
      "Appel de fonction1(3)\n",
      "Appel de fonction1(3)\n",
      "Appel de fonction1(3)\n",
      "Appel de fonction1(3)\n",
      "Appel de fonction1(3)\n",
      "Appel de fonction1(3)\n",
      "Appel de fonction1(3)\n",
      "Appel de fonction1(3)\n",
      "Appel de fonction1(3)\n",
      "Appel de fonction1(3)\n",
      "Appel de fonction1(3)\n",
      "Appel de fonction1(3)\n",
      "Appel de fonction1(3)\n",
      "Appel de fonction1(3)\n",
      "Appel de fonction1(3)\n",
      "Appel de fonction1(3)\n",
      "Appel de fonction1(3)\n",
      "Appel de fonction1(3)\n",
      "Appel de fonction1(3)\n",
      "Appel de fonction1(3)\n",
      "Appel de fonction1(3)\n",
      "Appel de fonction1(3)\n",
      "Appel de fonction1(3)\n",
      "Appel de fonction1(3)\n",
      "Appel de fonction1(3)\n",
      "Appel de fonction1(3)\n",
      "Appel de fonction1(3)\n",
      "Appel de fonction1(3)\n",
      "Appel de fonction1(3)\n",
      "Appel de fonction1(3)\n",
      "Appel de fonction1(3)\n",
      "Appel de fonction1(3)\n",
      "Appel de fonction1(3)\n",
      "Appel de fonction1(3)\n",
      "Appel de fonction1(3)\n",
      "Appel de fonction1(3)\n",
      "Appel de fonction1(3)\n",
      "Appel de fonction1(3)\n",
      "Appel de fonction1(3)\n",
      "Appel de fonction1(3)\n",
      "Appel de fonction1(3)\n",
      "Appel de fonction1(3)\n",
      "Appel de fonction1(3)\n",
      "Appel de fonction1(3)\n",
      "Appel de fonction1(3)\n",
      "Appel de fonction1(3)\n",
      "Appel de fonction1(3)\n",
      "Appel de fonction1(3)\n",
      "Appel de fonction1(3)\n",
      "Appel de fonction1(3)\n",
      "Appel de fonction1(3)\n",
      "Appel de fonction1(3)\n",
      "Appel de fonction1(3)\n",
      "Appel de fonction1(3)\n",
      "Appel de fonction1(3)\n",
      "Appel de fonction1(3)\n",
      "Appel de fonction1(3)\n",
      "Appel de fonction1(3)\n",
      "Appel de fonction1(3)\n",
      "Appel de fonction1(3)\n",
      "Appel de fonction1(3)\n",
      "Appel de fonction1(3)\n",
      "Appel de fonction1(3)\n",
      "Appel de fonction1(3)\n",
      "Appel de fonction1(3)\n",
      "Appel de fonction1(3)\n",
      "Appel de fonction1(3)\n",
      "Appel de fonction1(3)\n",
      "Appel de fonction1(3)\n",
      "Appel de fonction1(3)\n",
      "Appel de fonction1(3)\n",
      "Appel de fonction1(3)\n",
      "Appel de fonction1(3)\n",
      "Appel de fonction1(3)\n",
      "Appel de fonction1(3)\n",
      "Appel de fonction1(3)\n",
      "Appel de fonction1(3)\n",
      "Appel de fonction1(3)\n",
      "Appel de fonction1(3)\n",
      "Appel de fonction1(3)\n",
      "Appel de fonction1(3)\n",
      "Appel de fonction1(3)\n",
      "Appel de fonction1(3)\n",
      "Appel de fonction1(3)\n",
      "Appel de fonction1(3)\n",
      "Appel de fonction1(3)\n",
      "Appel de fonction1(3)\n",
      "Appel de fonction1(3)\n",
      "Appel de fonction1(3)\n",
      "Appel de fonction1(3)\n",
      "Appel de fonction1(3)\n",
      "Appel de fonction1(3)\n",
      "Appel de fonction1(3)\n",
      "Appel de fonction1(3)\n",
      "Appel de fonction1(3)\n",
      "Appel de fonction1(3)\n",
      "Appel de fonction1(3)\n",
      "Appel de fonction1(3)\n",
      "Appel de fonction1(3)\n",
      "Appel de fonction1(3)\n",
      "Appel de fonction1(3)\n",
      "Appel de fonction1(3)\n",
      "Appel de fonction1(3)\n",
      "Appel de fonction1(3)\n",
      "Appel de fonction1(3)\n",
      "Appel de fonction1(3)\n",
      "Appel de fonction1(3)\n",
      "Appel de fonction1(3)\n",
      "Appel de fonction1(3)\n",
      "Appel de fonction1(3)\n",
      "Appel de fonction1(3)\n",
      "Appel de fonction1(3)\n",
      "Appel de fonction1(3)\n",
      "Appel de fonction1(3)\n",
      "Appel de fonction1(3)\n",
      "Appel de fonction1(3)\n",
      "Appel de fonction1(3)\n",
      "Appel de fonction1(3)\n",
      "Appel de fonction1(3)\n",
      "Appel de fonction1(3)\n",
      "Appel de fonction1(3)\n",
      "Appel de fonction1(3)\n",
      "Appel de fonction1(3)\n",
      "Appel de fonction1(3)\n",
      "Appel de fonction1(3)\n",
      "Appel de fonction1(3)\n",
      "Appel de fonction1(3)\n",
      "Appel de fonction1(3)\n",
      "Appel de fonction1(3)\n",
      "Appel de fonction1(3)\n",
      "Appel de fonction1(3)\n",
      "Appel de fonction1(3)\n",
      "Appel de fonction1(3)\n",
      "Appel de fonction1(3)\n",
      "Appel de fonction1(3)\n",
      "Appel de fonction1(3)\n",
      "Appel de fonction1(3)\n",
      "Appel de fonction1(3)\n",
      "Appel de fonction1(3)\n",
      "Appel de fonction1(3)\n",
      "Appel de fonction1(3)\n",
      "Appel de fonction1(3)\n",
      "Appel de fonction1(3)\n",
      "Appel de fonction1(3)\n",
      "Appel de fonction1(3)\n",
      "Appel de fonction1(3)\n",
      "Appel de fonction1(3)\n",
      "Appel de fonction1(3)\n",
      "Appel de fonction1(3)\n",
      "Appel de fonction1(3)\n",
      "Appel de fonction1(3)\n",
      "Appel de fonction1(3)\n",
      "Appel de fonction1(3)\n",
      "Appel de fonction1(3)\n",
      "Appel de fonction1(3)\n",
      "Appel de fonction1(3)\n",
      "Appel de fonction1(3)\n",
      "Appel de fonction1(3)\n",
      "Appel de fonction1(3)\n",
      "Appel de fonction1(3)\n",
      "Appel de fonction1(3)\n",
      "Appel de fonction1(3)\n",
      "Appel de fonction1(3)\n",
      "Appel de fonction1(3)\n",
      "Appel de fonction1(3)\n",
      "Appel de fonction1(3)\n",
      "Appel de fonction1(3)\n",
      "Appel de fonction1(3)\n",
      "Appel de fonction1(3)\n",
      "Appel de fonction1(3)\n",
      "Appel de fonction1(3)\n",
      "Appel de fonction1(3)\n",
      "Appel de fonction1(3)\n",
      "Appel de fonction1(3)\n",
      "Appel de fonction1(3)\n",
      "Appel de fonction1(3)\n",
      "Appel de fonction1(3)\n",
      "Appel de fonction1(3)\n",
      "Appel de fonction1(3)\n",
      "Appel de fonction1(3)\n",
      "Appel de fonction1(3)\n",
      "Appel de fonction1(3)\n",
      "Appel de fonction1(3)\n",
      "Appel de fonction1(3)\n",
      "Appel de fonction1(3)\n",
      "Appel de fonction1(3)\n",
      "Appel de fonction1(3)\n",
      "Appel de fonction1(3)\n",
      "Appel de fonction1(3)\n",
      "Appel de fonction1(3)\n",
      "Appel de fonction1(3)\n",
      "Appel de fonction1(3)\n",
      "Appel de fonction1(3)\n",
      "Appel de fonction1(3)\n",
      "Appel de fonction1(3)\n",
      "Appel de fonction1(3)\n",
      "Appel de fonction1(3)\n",
      "Appel de fonction1(3)\n",
      "Appel de fonction1(3)\n",
      "Appel de fonction1(3)\n",
      "Appel de fonction1(3)\n",
      "Appel de fonction1(3)\n",
      "Appel de fonction1(3)\n",
      "Appel de fonction1(3)\n",
      "Appel de fonction1(3)\n",
      "Appel de fonction1(3)\n",
      "Appel de fonction1(3)\n",
      "Appel de fonction1(3)\n",
      "Appel de fonction1(3)\n",
      "Appel de fonction1(3)\n",
      "Appel de fonction1(3)\n",
      "Appel de fonction1(3)\n",
      "Appel de fonction1(3)\n",
      "Appel de fonction1(3)\n",
      "Appel de fonction1(3)\n",
      "Appel de fonction1(3)\n",
      "Appel de fonction1(3)\n",
      "Appel de fonction1(3)\n",
      "Appel de fonction1(3)\n",
      "Appel de fonction1(3)\n",
      "Appel de fonction1(3)\n",
      "Appel de fonction1(3)\n",
      "Appel de fonction1(3)\n",
      "Appel de fonction1(3)\n",
      "Appel de fonction1(3)\n",
      "Appel de fonction1(3)\n",
      "Appel de fonction1(3)\n",
      "Appel de fonction1(3)\n",
      "Appel de fonction1(3)\n",
      "Appel de fonction1(3)\n",
      "Appel de fonction1(3)\n",
      "Appel de fonction1(3)\n",
      "Appel de fonction1(3)\n",
      "Appel de fonction1(3)\n",
      "Appel de fonction1(3)\n",
      "Appel de fonction1(3)\n",
      "Appel de fonction1(3)\n",
      "Appel de fonction1(3)\n",
      "Appel de fonction1(3)\n",
      "Appel de fonction1(3)\n",
      "Appel de fonction1(3)\n",
      "Appel de fonction1(3)\n",
      "Appel de fonction1(3)\n",
      "Appel de fonction1(3)\n",
      "Appel de fonction1(3)\n",
      "Appel de fonction1(3)\n",
      "Appel de fonction1(3)\n",
      "Appel de fonction1(3)\n",
      "Appel de fonction1(3)\n",
      "Appel de fonction1(3)\n",
      "Appel de fonction1(3)\n",
      "Appel de fonction1(3)\n",
      "Appel de fonction1(3)\n",
      "Appel de fonction1(3)\n",
      "Appel de fonction1(3)\n",
      "Appel de fonction1(3)\n",
      "Appel de fonction1(3)\n",
      "Appel de fonction1(3)\n",
      "Appel de fonction1(3)\n",
      "Appel de fonction1(3)\n",
      "Appel de fonction1(3)\n",
      "Appel de fonction1(3)\n",
      "Appel de fonction1(3)\n",
      "Appel de fonction1(3)\n",
      "Appel de fonction1(3)\n",
      "Appel de fonction1(3)\n",
      "Appel de fonction1(3)\n",
      "Appel de fonction1(3)\n",
      "Appel de fonction1(3)\n",
      "Appel de fonction1(3)\n",
      "Appel de fonction1(3)\n",
      "Appel de fonction1(3)\n",
      "Appel de fonction1(3)\n",
      "Appel de fonction1(3)\n",
      "Appel de fonction1(3)\n",
      "Appel de fonction1(3)\n",
      "Appel de fonction1(3)\n",
      "Appel de fonction1(3)\n",
      "Appel de fonction1(3)\n",
      "Appel de fonction1(3)\n",
      "Appel de fonction1(3)\n",
      "Appel de fonction1(3)\n",
      "Appel de fonction1(3)\n",
      "Appel de fonction1(3)\n",
      "Appel de fonction1(3)\n",
      "Appel de fonction1(3)\n",
      "Appel de fonction1(3)\n",
      "Appel de fonction1(3)\n",
      "Appel de fonction1(3)\n",
      "Appel de fonction1(3)\n",
      "Appel de fonction1(3)\n",
      "Appel de fonction1(3)\n",
      "Appel de fonction1(3)\n",
      "Appel de fonction1(3)\n",
      "Appel de fonction1(3)\n",
      "Appel de fonction1(3)\n",
      "Appel de fonction1(3)\n",
      "Appel de fonction1(3)\n",
      "Appel de fonction1(3)\n",
      "Appel de fonction1(3)\n",
      "Appel de fonction1(3)\n",
      "Appel de fonction1(3)\n",
      "Appel de fonction1(3)\n",
      "Appel de fonction1(3)\n",
      "Appel de fonction1(3)\n",
      "Appel de fonction1(3)\n",
      "Appel de fonction1(3)\n",
      "Appel de fonction1(3)\n",
      "Appel de fonction1(3)\n",
      "Appel de fonction1(3)\n",
      "Appel de fonction1(3)\n",
      "Appel de fonction1(3)\n",
      "Appel de fonction1(3)\n",
      "Appel de fonction1(3)\n",
      "Appel de fonction1(3)\n",
      "Appel de fonction1(3)\n",
      "Appel de fonction1(3)\n",
      "Appel de fonction1(3)\n",
      "Appel de fonction1(3)\n",
      "Appel de fonction1(3)\n",
      "Appel de fonction1(3)\n",
      "Appel de fonction1(3)\n",
      "Appel de fonction1(3)\n",
      "Appel de fonction1(3)\n",
      "Appel de fonction1(3)\n",
      "Appel de fonction1(3)\n",
      "Appel de fonction1(3)\n",
      "Appel de fonction1(3)\n",
      "Appel de fonction1(3)\n",
      "Appel de fonction1(3)\n",
      "Appel de fonction1(3)\n",
      "Appel de fonction1(3)\n",
      "Appel de fonction1(3)\n",
      "Appel de fonction1(3)\n",
      "Appel de fonction1(3)\n",
      "Appel de fonction1(3)\n",
      "Appel de fonction1(3)\n",
      "Appel de fonction1(3)\n",
      "Appel de fonction1(3)\n",
      "Appel de fonction1(3)\n",
      "Appel de fonction1(3)\n",
      "Appel de fonction1(3)\n",
      "Appel de fonction1(3)\n",
      "Appel de fonction1(3)\n",
      "Appel de fonction1(3)\n",
      "Appel de fonction1(3)\n",
      "Appel de fonction1(3)\n",
      "Appel de fonction1(3)\n",
      "Appel de fonction1(3)\n",
      "Appel de fonction1(3)\n",
      "Appel de fonction1(3)\n",
      "Appel de fonction1(3)\n",
      "Appel de fonction1(3)\n",
      "Appel de fonction1(3)\n",
      "Appel de fonction1(3)\n",
      "Appel de fonction1(3)\n",
      "Appel de fonction1(3)\n",
      "Appel de fonction1(3)\n",
      "Appel de fonction1(3)\n",
      "Appel de fonction1(3)\n",
      "Appel de fonction1(3)\n",
      "Appel de fonction1(3)\n",
      "Appel de fonction1(3)\n",
      "Appel de fonction1(3)\n",
      "Appel de fonction1(3)\n",
      "Appel de fonction1(3)\n",
      "Appel de fonction1(3)\n",
      "Appel de fonction1(3)\n",
      "Appel de fonction1(3)\n",
      "Appel de fonction1(3)\n",
      "Appel de fonction1(3)\n",
      "Appel de fonction1(3)\n",
      "Appel de fonction1(3)\n",
      "Appel de fonction1(3)\n"
     ]
    },
    {
     "name": "stdout",
     "output_type": "stream",
     "text": [
      "Appel de fonction1(3)\n",
      "Appel de fonction1(3)\n",
      "Appel de fonction1(3)\n",
      "Appel de fonction1(3)\n",
      "Appel de fonction1(3)\n",
      "Appel de fonction1(3)\n",
      "Appel de fonction1(3)\n",
      "Appel de fonction1(3)\n",
      "Appel de fonction1(3)\n",
      "Appel de fonction1(3)\n",
      "Appel de fonction1(3)\n",
      "Appel de fonction1(3)\n",
      "Appel de fonction1(3)\n",
      "Appel de fonction1(3)\n",
      "Appel de fonction1(3)\n",
      "Appel de fonction1(3)\n",
      "Appel de fonction1(3)\n",
      "Appel de fonction1(3)\n",
      "Appel de fonction1(3)\n",
      "Appel de fonction1(3)\n",
      "Appel de fonction1(3)\n",
      "Appel de fonction1(3)\n",
      "Appel de fonction1(3)\n",
      "Appel de fonction1(3)\n",
      "Appel de fonction1(3)\n",
      "Appel de fonction1(3)\n",
      "Appel de fonction1(3)\n",
      "Appel de fonction1(3)\n",
      "Appel de fonction1(3)\n",
      "Appel de fonction1(3)\n",
      "Appel de fonction1(3)\n",
      "Appel de fonction1(3)\n",
      "Appel de fonction1(3)\n",
      "Appel de fonction1(3)\n",
      "Appel de fonction1(3)\n",
      "Appel de fonction1(3)\n",
      "Appel de fonction1(3)\n",
      "Appel de fonction1(3)\n",
      "Appel de fonction1(3)\n",
      "Appel de fonction1(3)\n",
      "Appel de fonction1(3)\n",
      "Appel de fonction1(3)\n",
      "Appel de fonction1(3)\n",
      "Appel de fonction1(3)\n",
      "Appel de fonction1(3)\n",
      "Appel de fonction1(3)\n",
      "Appel de fonction1(3)\n",
      "Appel de fonction1(3)\n",
      "Appel de fonction1(3)\n",
      "Appel de fonction1(3)\n",
      "Appel de fonction1(3)\n",
      "Appel de fonction1(3)\n",
      "Appel de fonction1(3)\n",
      "Appel de fonction1(3)\n",
      "Appel de fonction1(3)\n",
      "Appel de fonction1(3)\n",
      "Appel de fonction1(3)\n",
      "Appel de fonction1(3)\n",
      "Appel de fonction1(3)\n",
      "Appel de fonction1(3)\n",
      "Appel de fonction1(3)\n",
      "Appel de fonction1(3)\n",
      "Appel de fonction1(3)\n",
      "Appel de fonction1(3)\n",
      "Appel de fonction1(3)\n",
      "Appel de fonction1(3)\n",
      "Appel de fonction1(3)\n",
      "Appel de fonction1(3)\n",
      "Appel de fonction1(3)\n",
      "Appel de fonction1(3)\n",
      "Appel de fonction1(3)\n",
      "Appel de fonction1(3)\n",
      "Appel de fonction1(3)\n",
      "Appel de fonction1(3)\n",
      "Appel de fonction1(3)\n",
      "Appel de fonction1(3)\n",
      "Appel de fonction1(3)\n",
      "Appel de fonction1(3)\n",
      "Appel de fonction1(3)\n",
      "Appel de fonction1(3)\n",
      "Appel de fonction1(3)\n",
      "Appel de fonction1(3)\n",
      "Appel de fonction1(3)\n",
      "Appel de fonction1(3)\n",
      "Appel de fonction1(3)\n",
      "Appel de fonction1(3)\n",
      "Appel de fonction1(3)\n",
      "Appel de fonction1(3)\n",
      "Appel de fonction1(3)\n",
      "Appel de fonction1(3)\n",
      "Appel de fonction1(3)\n",
      "Appel de fonction1(3)\n",
      "Appel de fonction1(3)\n",
      "Appel de fonction1(3)\n",
      "Appel de fonction1(3)\n",
      "Appel de fonction1(3)\n",
      "Appel de fonction1(3)\n",
      "Appel de fonction1(3)\n",
      "Appel de fonction1(3)\n",
      "Appel de fonction1(3)\n",
      "Appel de fonction1(3)\n",
      "Appel de fonction1(3)\n",
      "Appel de fonction1(3)\n",
      "Appel de fonction1(3)\n",
      "Appel de fonction1(3)\n",
      "Appel de fonction1(3)\n",
      "Appel de fonction1(3)\n",
      "Appel de fonction1(3)\n",
      "Appel de fonction1(3)\n",
      "Appel de fonction1(3)\n",
      "Appel de fonction1(3)\n",
      "Appel de fonction1(3)\n",
      "Appel de fonction1(3)\n",
      "Appel de fonction1(3)\n",
      "Appel de fonction1(3)\n",
      "Appel de fonction1(3)\n",
      "Appel de fonction1(3)\n",
      "Appel de fonction1(3)\n",
      "Appel de fonction1(3)\n",
      "Appel de fonction1(3)\n",
      "Appel de fonction1(3)\n",
      "Appel de fonction1(3)\n",
      "Appel de fonction1(3)\n",
      "Appel de fonction1(3)\n",
      "Appel de fonction1(3)\n",
      "Appel de fonction1(3)\n",
      "Appel de fonction1(3)\n",
      "Appel de fonction1(3)\n",
      "Appel de fonction1(3)\n",
      "Appel de fonction1(3)\n",
      "Appel de fonction1(3)\n",
      "Appel de fonction1(3)\n",
      "Appel de fonction1(3)\n",
      "Appel de fonction1(3)\n",
      "Appel de fonction1(3)\n",
      "Appel de fonction1(3)\n",
      "Appel de fonction1(3)\n",
      "Appel de fonction1(3)\n",
      "Appel de fonction1(3)\n",
      "Appel de fonction1(3)\n",
      "Appel de fonction1(3)\n",
      "Appel de fonction1(3)\n",
      "Appel de fonction1(3)\n",
      "Appel de fonction1(3)\n",
      "Appel de fonction1(3)\n",
      "Appel de fonction1(3)\n",
      "Appel de fonction1(3)\n",
      "Appel de fonction1(3)\n",
      "Appel de fonction1(3)\n",
      "Appel de fonction1(3)\n",
      "Appel de fonction1(3)\n",
      "Appel de fonction1(3)\n",
      "Appel de fonction1(3)\n",
      "Appel de fonction1(3)\n",
      "Appel de fonction1(3)\n",
      "Appel de fonction1(3)\n",
      "Appel de fonction1(3)\n",
      "Appel de fonction1(3)\n",
      "Appel de fonction1(3)\n",
      "Appel de fonction1(3)\n",
      "Appel de fonction1(3)\n",
      "Appel de fonction1(3)\n",
      "Appel de fonction1(3)\n",
      "Appel de fonction1(3)\n",
      "Appel de fonction1(3)\n",
      "Appel de fonction1(3)\n",
      "Appel de fonction1(3)\n",
      "Appel de fonction1(3)\n"
     ]
    },
    {
     "ename": "RecursionError",
     "evalue": "maximum recursion depth exceeded in comparison",
     "output_type": "error",
     "traceback": [
      "\u001b[0;31m---------------------------------------------------------------------------\u001b[0m",
      "\u001b[0;31mRecursionError\u001b[0m                            Traceback (most recent call last)",
      "\u001b[0;32m<ipython-input-7-67d2a0c3e0f0>\u001b[0m in \u001b[0;36m<module>\u001b[0;34m()\u001b[0m\n\u001b[1;32m      3\u001b[0m     \u001b[0mfonction1\u001b[0m\u001b[0;34m(\u001b[0m\u001b[0ma\u001b[0m\u001b[0;34m)\u001b[0m\u001b[0;34m\u001b[0m\u001b[0;34m\u001b[0m\u001b[0m\n\u001b[1;32m      4\u001b[0m \u001b[0;34m\u001b[0m\u001b[0m\n\u001b[0;32m----> 5\u001b[0;31m \u001b[0mfonction1\u001b[0m\u001b[0;34m(\u001b[0m\u001b[0;36m3\u001b[0m\u001b[0;34m)\u001b[0m\u001b[0;34m\u001b[0m\u001b[0;34m\u001b[0m\u001b[0m\n\u001b[0m",
      "\u001b[0;32m<ipython-input-4-b6cb0444cfd0>\u001b[0m in \u001b[0;36mwrapper_debug\u001b[0;34m(*args, **kwargs)\u001b[0m\n\u001b[1;32m      9\u001b[0m         \u001b[0msignature\u001b[0m \u001b[0;34m=\u001b[0m \u001b[0;34m\", \"\u001b[0m\u001b[0;34m.\u001b[0m\u001b[0mjoin\u001b[0m\u001b[0;34m(\u001b[0m\u001b[0margs_repr\u001b[0m \u001b[0;34m+\u001b[0m \u001b[0mkwargs_repr\u001b[0m\u001b[0;34m)\u001b[0m\u001b[0;34m\u001b[0m\u001b[0;34m\u001b[0m\u001b[0m\n\u001b[1;32m     10\u001b[0m         \u001b[0mprint\u001b[0m\u001b[0;34m(\u001b[0m\u001b[0;34mf\"Appel de {func.__name__}({signature})\"\u001b[0m\u001b[0;34m)\u001b[0m\u001b[0;34m\u001b[0m\u001b[0;34m\u001b[0m\u001b[0m\n\u001b[0;32m---> 11\u001b[0;31m         \u001b[0mvalue\u001b[0m \u001b[0;34m=\u001b[0m \u001b[0mfunc\u001b[0m\u001b[0;34m(\u001b[0m\u001b[0;34m*\u001b[0m\u001b[0margs\u001b[0m\u001b[0;34m,\u001b[0m \u001b[0;34m**\u001b[0m\u001b[0mkwargs\u001b[0m\u001b[0;34m)\u001b[0m\u001b[0;34m\u001b[0m\u001b[0;34m\u001b[0m\u001b[0m\n\u001b[0m\u001b[1;32m     12\u001b[0m         \u001b[0mprint\u001b[0m\u001b[0;34m(\u001b[0m\u001b[0;34mf\"valeur de retour {value!r}\"\u001b[0m\u001b[0;34m)\u001b[0m\u001b[0;34m\u001b[0m\u001b[0;34m\u001b[0m\u001b[0m\n\u001b[1;32m     13\u001b[0m         \u001b[0mprint\u001b[0m\u001b[0;34m(\u001b[0m\u001b[0;34mf\"Fin de {func.__name__}({signature})\"\u001b[0m\u001b[0;34m)\u001b[0m\u001b[0;34m\u001b[0m\u001b[0;34m\u001b[0m\u001b[0m\n",
      "\u001b[0;32m<ipython-input-7-67d2a0c3e0f0>\u001b[0m in \u001b[0;36mfonction1\u001b[0;34m(a)\u001b[0m\n\u001b[1;32m      1\u001b[0m \u001b[0;34m@\u001b[0m\u001b[0mprintAppelsFonctions\u001b[0m\u001b[0;34m\u001b[0m\u001b[0;34m\u001b[0m\u001b[0m\n\u001b[1;32m      2\u001b[0m \u001b[0;32mdef\u001b[0m \u001b[0mfonction1\u001b[0m\u001b[0;34m(\u001b[0m\u001b[0ma\u001b[0m\u001b[0;34m)\u001b[0m\u001b[0;34m:\u001b[0m\u001b[0;34m\u001b[0m\u001b[0;34m\u001b[0m\u001b[0m\n\u001b[0;32m----> 3\u001b[0;31m     \u001b[0mfonction1\u001b[0m\u001b[0;34m(\u001b[0m\u001b[0ma\u001b[0m\u001b[0;34m)\u001b[0m\u001b[0;34m\u001b[0m\u001b[0;34m\u001b[0m\u001b[0m\n\u001b[0m\u001b[1;32m      4\u001b[0m \u001b[0;34m\u001b[0m\u001b[0m\n\u001b[1;32m      5\u001b[0m \u001b[0mfonction1\u001b[0m\u001b[0;34m(\u001b[0m\u001b[0;36m3\u001b[0m\u001b[0;34m)\u001b[0m\u001b[0;34m\u001b[0m\u001b[0;34m\u001b[0m\u001b[0m\n",
      "... last 2 frames repeated, from the frame below ...\n",
      "\u001b[0;32m<ipython-input-4-b6cb0444cfd0>\u001b[0m in \u001b[0;36mwrapper_debug\u001b[0;34m(*args, **kwargs)\u001b[0m\n\u001b[1;32m      9\u001b[0m         \u001b[0msignature\u001b[0m \u001b[0;34m=\u001b[0m \u001b[0;34m\", \"\u001b[0m\u001b[0;34m.\u001b[0m\u001b[0mjoin\u001b[0m\u001b[0;34m(\u001b[0m\u001b[0margs_repr\u001b[0m \u001b[0;34m+\u001b[0m \u001b[0mkwargs_repr\u001b[0m\u001b[0;34m)\u001b[0m\u001b[0;34m\u001b[0m\u001b[0;34m\u001b[0m\u001b[0m\n\u001b[1;32m     10\u001b[0m         \u001b[0mprint\u001b[0m\u001b[0;34m(\u001b[0m\u001b[0;34mf\"Appel de {func.__name__}({signature})\"\u001b[0m\u001b[0;34m)\u001b[0m\u001b[0;34m\u001b[0m\u001b[0;34m\u001b[0m\u001b[0m\n\u001b[0;32m---> 11\u001b[0;31m         \u001b[0mvalue\u001b[0m \u001b[0;34m=\u001b[0m \u001b[0mfunc\u001b[0m\u001b[0;34m(\u001b[0m\u001b[0;34m*\u001b[0m\u001b[0margs\u001b[0m\u001b[0;34m,\u001b[0m \u001b[0;34m**\u001b[0m\u001b[0mkwargs\u001b[0m\u001b[0;34m)\u001b[0m\u001b[0;34m\u001b[0m\u001b[0;34m\u001b[0m\u001b[0m\n\u001b[0m\u001b[1;32m     12\u001b[0m         \u001b[0mprint\u001b[0m\u001b[0;34m(\u001b[0m\u001b[0;34mf\"valeur de retour {value!r}\"\u001b[0m\u001b[0;34m)\u001b[0m\u001b[0;34m\u001b[0m\u001b[0;34m\u001b[0m\u001b[0m\n\u001b[1;32m     13\u001b[0m         \u001b[0mprint\u001b[0m\u001b[0;34m(\u001b[0m\u001b[0;34mf\"Fin de {func.__name__}({signature})\"\u001b[0m\u001b[0;34m)\u001b[0m\u001b[0;34m\u001b[0m\u001b[0;34m\u001b[0m\u001b[0m\n",
      "\u001b[0;31mRecursionError\u001b[0m: maximum recursion depth exceeded in comparison"
     ]
    }
   ],
   "source": [
    "@printAppelsFonctions\n",
    "def fonction1(a):\n",
    "    fonction1(a)\n",
    "\n",
    "fonction1(3)"
   ]
  },
  {
   "cell_type": "markdown",
   "metadata": {},
   "source": [
    "## Définition\n",
    "\n",
    "Un algorithme *récursif* est un algorithme qui fait appel à lui même. Lorsqu'un algorithme n'est pas récursif, on dit qu'il est *itératif*.\n",
    "\n",
    "Pour éviter une boucle infinie, il faudra impérativement définir **une condition d'arrêt**.\n",
    "\n",
    "**Exemple**\n",
    "\n",
    "Le calcul de $n! = n \\times (n-1) \\times \\dots \\times 1$. Tout d'abord la version itérative"
   ]
  },
  {
   "cell_type": "code",
   "execution_count": 8,
   "metadata": {
    "collapsed": true
   },
   "outputs": [],
   "source": [
    "def factorielleIterative(n):\n",
    "    r = 1\n",
    "    for i in range(1,n+1):\n",
    "        r = r*i\n",
    "    return r"
   ]
  },
  {
   "cell_type": "code",
   "execution_count": 9,
   "metadata": {},
   "outputs": [
    {
     "data": {
      "text/plain": [
       "6"
      ]
     },
     "execution_count": 9,
     "metadata": {},
     "output_type": "execute_result"
    }
   ],
   "source": [
    "factorielleIterative(3)"
   ]
  },
  {
   "cell_type": "code",
   "execution_count": 10,
   "metadata": {},
   "outputs": [
    {
     "data": {
      "text/plain": [
       "120"
      ]
     },
     "execution_count": 10,
     "metadata": {},
     "output_type": "execute_result"
    }
   ],
   "source": [
    "factorielleIterative(5)"
   ]
  },
  {
   "cell_type": "markdown",
   "metadata": {},
   "source": [
    "La version récursive se base sur le principe suivant :\n",
    "\n",
    "$n! = \\begin{cases}\n",
    "1 & \\text{si } n = 0 \\\\\n",
    "n \\times (n-1)! & \\text{sinon}\n",
    "\\end{cases}$"
   ]
  },
  {
   "cell_type": "code",
   "execution_count": 11,
   "metadata": {
    "collapsed": true
   },
   "outputs": [],
   "source": [
    "def factorielleRecursive(n):\n",
    "    if n == 0:\n",
    "        return 1\n",
    "    return n * factorielleRecursive(n-1)"
   ]
  },
  {
   "cell_type": "code",
   "execution_count": 12,
   "metadata": {},
   "outputs": [
    {
     "data": {
      "text/plain": [
       "6"
      ]
     },
     "execution_count": 12,
     "metadata": {},
     "output_type": "execute_result"
    }
   ],
   "source": [
    "factorielleRecursive(3)"
   ]
  },
  {
   "cell_type": "code",
   "execution_count": 13,
   "metadata": {},
   "outputs": [
    {
     "data": {
      "text/plain": [
       "120"
      ]
     },
     "execution_count": 13,
     "metadata": {},
     "output_type": "execute_result"
    }
   ],
   "source": [
    "factorielleRecursive(5)"
   ]
  },
  {
   "cell_type": "markdown",
   "metadata": {},
   "source": [
    "Que se passe-t-il au niveau de la pile ?"
   ]
  },
  {
   "cell_type": "code",
   "execution_count": 14,
   "metadata": {
    "collapsed": true
   },
   "outputs": [],
   "source": [
    "@printAppelsFonctions\n",
    "def factorielleRecursive(n):\n",
    "    if n == 0:\n",
    "        return 1\n",
    "    return n * factorielleRecursive(n-1)\n"
   ]
  },
  {
   "cell_type": "code",
   "execution_count": 15,
   "metadata": {},
   "outputs": [
    {
     "name": "stdout",
     "output_type": "stream",
     "text": [
      "Appel de factorielleRecursive(3)\n",
      "Appel de factorielleRecursive(2)\n",
      "Appel de factorielleRecursive(1)\n",
      "Appel de factorielleRecursive(0)\n",
      "valeur de retour 1\n",
      "Fin de factorielleRecursive(0)\n",
      "valeur de retour 1\n",
      "Fin de factorielleRecursive(1)\n",
      "valeur de retour 2\n",
      "Fin de factorielleRecursive(2)\n",
      "valeur de retour 6\n",
      "Fin de factorielleRecursive(3)\n"
     ]
    },
    {
     "data": {
      "text/plain": [
       "6"
      ]
     },
     "execution_count": 15,
     "metadata": {},
     "output_type": "execute_result"
    }
   ],
   "source": [
    "factorielleRecursive(3)"
   ]
  },
  {
   "cell_type": "markdown",
   "metadata": {},
   "source": [
    "Attention, sur certaines valeurs, on obtient des appels récurisfs à l'infini. Ici, la *fonction termine* sur l'ensemble des entiers positifs mais pas sur les négatifs"
   ]
  },
  {
   "cell_type": "code",
   "execution_count": 16,
   "metadata": {},
   "outputs": [
    {
     "name": "stdout",
     "output_type": "stream",
     "text": [
      "Appel de factorielleRecursive(-2)\n",
      "Appel de factorielleRecursive(-3)\n",
      "Appel de factorielleRecursive(-4)\n",
      "Appel de factorielleRecursive(-5)\n",
      "Appel de factorielleRecursive(-6)\n",
      "Appel de factorielleRecursive(-7)\n",
      "Appel de factorielleRecursive(-8)\n",
      "Appel de factorielleRecursive(-9)\n",
      "Appel de factorielleRecursive(-10)\n",
      "Appel de factorielleRecursive(-11)\n",
      "Appel de factorielleRecursive(-12)\n",
      "Appel de factorielleRecursive(-13)\n",
      "Appel de factorielleRecursive(-14)\n",
      "Appel de factorielleRecursive(-15)\n",
      "Appel de factorielleRecursive(-16)\n",
      "Appel de factorielleRecursive(-17)\n",
      "Appel de factorielleRecursive(-18)\n",
      "Appel de factorielleRecursive(-19)\n",
      "Appel de factorielleRecursive(-20)\n",
      "Appel de factorielleRecursive(-21)\n",
      "Appel de factorielleRecursive(-22)\n",
      "Appel de factorielleRecursive(-23)\n",
      "Appel de factorielleRecursive(-24)\n",
      "Appel de factorielleRecursive(-25)\n",
      "Appel de factorielleRecursive(-26)\n",
      "Appel de factorielleRecursive(-27)\n",
      "Appel de factorielleRecursive(-28)\n",
      "Appel de factorielleRecursive(-29)\n",
      "Appel de factorielleRecursive(-30)\n",
      "Appel de factorielleRecursive(-31)\n",
      "Appel de factorielleRecursive(-32)\n",
      "Appel de factorielleRecursive(-33)\n",
      "Appel de factorielleRecursive(-34)\n",
      "Appel de factorielleRecursive(-35)\n",
      "Appel de factorielleRecursive(-36)\n",
      "Appel de factorielleRecursive(-37)\n",
      "Appel de factorielleRecursive(-38)\n",
      "Appel de factorielleRecursive(-39)\n",
      "Appel de factorielleRecursive(-40)\n",
      "Appel de factorielleRecursive(-41)\n",
      "Appel de factorielleRecursive(-42)\n",
      "Appel de factorielleRecursive(-43)\n",
      "Appel de factorielleRecursive(-44)\n",
      "Appel de factorielleRecursive(-45)\n",
      "Appel de factorielleRecursive(-46)\n",
      "Appel de factorielleRecursive(-47)\n",
      "Appel de factorielleRecursive(-48)\n",
      "Appel de factorielleRecursive(-49)\n",
      "Appel de factorielleRecursive(-50)\n",
      "Appel de factorielleRecursive(-51)\n",
      "Appel de factorielleRecursive(-52)\n",
      "Appel de factorielleRecursive(-53)\n",
      "Appel de factorielleRecursive(-54)\n",
      "Appel de factorielleRecursive(-55)\n",
      "Appel de factorielleRecursive(-56)\n",
      "Appel de factorielleRecursive(-57)\n",
      "Appel de factorielleRecursive(-58)\n",
      "Appel de factorielleRecursive(-59)\n",
      "Appel de factorielleRecursive(-60)\n",
      "Appel de factorielleRecursive(-61)\n",
      "Appel de factorielleRecursive(-62)\n",
      "Appel de factorielleRecursive(-63)\n",
      "Appel de factorielleRecursive(-64)\n",
      "Appel de factorielleRecursive(-65)\n",
      "Appel de factorielleRecursive(-66)\n",
      "Appel de factorielleRecursive(-67)\n",
      "Appel de factorielleRecursive(-68)\n",
      "Appel de factorielleRecursive(-69)\n",
      "Appel de factorielleRecursive(-70)\n",
      "Appel de factorielleRecursive(-71)\n",
      "Appel de factorielleRecursive(-72)\n",
      "Appel de factorielleRecursive(-73)\n",
      "Appel de factorielleRecursive(-74)\n",
      "Appel de factorielleRecursive(-75)\n",
      "Appel de factorielleRecursive(-76)\n",
      "Appel de factorielleRecursive(-77)\n",
      "Appel de factorielleRecursive(-78)\n",
      "Appel de factorielleRecursive(-79)\n",
      "Appel de factorielleRecursive(-80)\n",
      "Appel de factorielleRecursive(-81)\n",
      "Appel de factorielleRecursive(-82)\n",
      "Appel de factorielleRecursive(-83)\n",
      "Appel de factorielleRecursive(-84)\n",
      "Appel de factorielleRecursive(-85)\n",
      "Appel de factorielleRecursive(-86)\n",
      "Appel de factorielleRecursive(-87)\n",
      "Appel de factorielleRecursive(-88)\n",
      "Appel de factorielleRecursive(-89)\n",
      "Appel de factorielleRecursive(-90)\n",
      "Appel de factorielleRecursive(-91)\n",
      "Appel de factorielleRecursive(-92)\n",
      "Appel de factorielleRecursive(-93)\n",
      "Appel de factorielleRecursive(-94)\n",
      "Appel de factorielleRecursive(-95)\n",
      "Appel de factorielleRecursive(-96)\n",
      "Appel de factorielleRecursive(-97)\n",
      "Appel de factorielleRecursive(-98)\n",
      "Appel de factorielleRecursive(-99)\n",
      "Appel de factorielleRecursive(-100)\n",
      "Appel de factorielleRecursive(-101)\n",
      "Appel de factorielleRecursive(-102)\n",
      "Appel de factorielleRecursive(-103)\n",
      "Appel de factorielleRecursive(-104)\n",
      "Appel de factorielleRecursive(-105)\n",
      "Appel de factorielleRecursive(-106)\n",
      "Appel de factorielleRecursive(-107)\n",
      "Appel de factorielleRecursive(-108)\n",
      "Appel de factorielleRecursive(-109)\n",
      "Appel de factorielleRecursive(-110)\n",
      "Appel de factorielleRecursive(-111)\n",
      "Appel de factorielleRecursive(-112)\n",
      "Appel de factorielleRecursive(-113)\n",
      "Appel de factorielleRecursive(-114)\n",
      "Appel de factorielleRecursive(-115)\n",
      "Appel de factorielleRecursive(-116)\n",
      "Appel de factorielleRecursive(-117)\n",
      "Appel de factorielleRecursive(-118)\n",
      "Appel de factorielleRecursive(-119)\n",
      "Appel de factorielleRecursive(-120)\n",
      "Appel de factorielleRecursive(-121)\n",
      "Appel de factorielleRecursive(-122)\n",
      "Appel de factorielleRecursive(-123)\n",
      "Appel de factorielleRecursive(-124)\n",
      "Appel de factorielleRecursive(-125)\n",
      "Appel de factorielleRecursive(-126)\n",
      "Appel de factorielleRecursive(-127)\n",
      "Appel de factorielleRecursive(-128)\n",
      "Appel de factorielleRecursive(-129)\n",
      "Appel de factorielleRecursive(-130)\n",
      "Appel de factorielleRecursive(-131)\n",
      "Appel de factorielleRecursive(-132)\n",
      "Appel de factorielleRecursive(-133)\n",
      "Appel de factorielleRecursive(-134)\n",
      "Appel de factorielleRecursive(-135)\n",
      "Appel de factorielleRecursive(-136)\n",
      "Appel de factorielleRecursive(-137)\n",
      "Appel de factorielleRecursive(-138)\n",
      "Appel de factorielleRecursive(-139)\n",
      "Appel de factorielleRecursive(-140)\n",
      "Appel de factorielleRecursive(-141)\n",
      "Appel de factorielleRecursive(-142)\n",
      "Appel de factorielleRecursive(-143)\n",
      "Appel de factorielleRecursive(-144)\n",
      "Appel de factorielleRecursive(-145)\n",
      "Appel de factorielleRecursive(-146)\n",
      "Appel de factorielleRecursive(-147)\n",
      "Appel de factorielleRecursive(-148)\n",
      "Appel de factorielleRecursive(-149)\n",
      "Appel de factorielleRecursive(-150)\n",
      "Appel de factorielleRecursive(-151)\n",
      "Appel de factorielleRecursive(-152)\n",
      "Appel de factorielleRecursive(-153)\n",
      "Appel de factorielleRecursive(-154)\n",
      "Appel de factorielleRecursive(-155)\n",
      "Appel de factorielleRecursive(-156)\n",
      "Appel de factorielleRecursive(-157)\n",
      "Appel de factorielleRecursive(-158)\n",
      "Appel de factorielleRecursive(-159)\n",
      "Appel de factorielleRecursive(-160)\n",
      "Appel de factorielleRecursive(-161)\n",
      "Appel de factorielleRecursive(-162)\n",
      "Appel de factorielleRecursive(-163)\n",
      "Appel de factorielleRecursive(-164)\n",
      "Appel de factorielleRecursive(-165)\n",
      "Appel de factorielleRecursive(-166)\n",
      "Appel de factorielleRecursive(-167)\n",
      "Appel de factorielleRecursive(-168)\n",
      "Appel de factorielleRecursive(-169)\n",
      "Appel de factorielleRecursive(-170)\n",
      "Appel de factorielleRecursive(-171)\n",
      "Appel de factorielleRecursive(-172)\n",
      "Appel de factorielleRecursive(-173)\n",
      "Appel de factorielleRecursive(-174)\n",
      "Appel de factorielleRecursive(-175)\n",
      "Appel de factorielleRecursive(-176)\n",
      "Appel de factorielleRecursive(-177)\n",
      "Appel de factorielleRecursive(-178)\n",
      "Appel de factorielleRecursive(-179)\n",
      "Appel de factorielleRecursive(-180)\n",
      "Appel de factorielleRecursive(-181)\n",
      "Appel de factorielleRecursive(-182)\n",
      "Appel de factorielleRecursive(-183)\n",
      "Appel de factorielleRecursive(-184)\n",
      "Appel de factorielleRecursive(-185)\n",
      "Appel de factorielleRecursive(-186)\n",
      "Appel de factorielleRecursive(-187)\n",
      "Appel de factorielleRecursive(-188)\n",
      "Appel de factorielleRecursive(-189)\n",
      "Appel de factorielleRecursive(-190)\n",
      "Appel de factorielleRecursive(-191)\n",
      "Appel de factorielleRecursive(-192)\n",
      "Appel de factorielleRecursive(-193)\n",
      "Appel de factorielleRecursive(-194)\n",
      "Appel de factorielleRecursive(-195)\n",
      "Appel de factorielleRecursive(-196)\n",
      "Appel de factorielleRecursive(-197)\n",
      "Appel de factorielleRecursive(-198)\n",
      "Appel de factorielleRecursive(-199)\n",
      "Appel de factorielleRecursive(-200)\n",
      "Appel de factorielleRecursive(-201)\n",
      "Appel de factorielleRecursive(-202)\n",
      "Appel de factorielleRecursive(-203)\n",
      "Appel de factorielleRecursive(-204)\n",
      "Appel de factorielleRecursive(-205)\n",
      "Appel de factorielleRecursive(-206)\n",
      "Appel de factorielleRecursive(-207)\n",
      "Appel de factorielleRecursive(-208)\n",
      "Appel de factorielleRecursive(-209)\n",
      "Appel de factorielleRecursive(-210)\n",
      "Appel de factorielleRecursive(-211)\n",
      "Appel de factorielleRecursive(-212)\n",
      "Appel de factorielleRecursive(-213)\n",
      "Appel de factorielleRecursive(-214)\n",
      "Appel de factorielleRecursive(-215)\n",
      "Appel de factorielleRecursive(-216)\n",
      "Appel de factorielleRecursive(-217)\n",
      "Appel de factorielleRecursive(-218)\n",
      "Appel de factorielleRecursive(-219)\n",
      "Appel de factorielleRecursive(-220)\n",
      "Appel de factorielleRecursive(-221)\n",
      "Appel de factorielleRecursive(-222)\n",
      "Appel de factorielleRecursive(-223)\n",
      "Appel de factorielleRecursive(-224)\n",
      "Appel de factorielleRecursive(-225)\n",
      "Appel de factorielleRecursive(-226)\n",
      "Appel de factorielleRecursive(-227)\n",
      "Appel de factorielleRecursive(-228)\n",
      "Appel de factorielleRecursive(-229)\n",
      "Appel de factorielleRecursive(-230)\n",
      "Appel de factorielleRecursive(-231)\n",
      "Appel de factorielleRecursive(-232)\n",
      "Appel de factorielleRecursive(-233)\n",
      "Appel de factorielleRecursive(-234)\n",
      "Appel de factorielleRecursive(-235)\n",
      "Appel de factorielleRecursive(-236)\n",
      "Appel de factorielleRecursive(-237)\n",
      "Appel de factorielleRecursive(-238)\n",
      "Appel de factorielleRecursive(-239)\n",
      "Appel de factorielleRecursive(-240)\n",
      "Appel de factorielleRecursive(-241)\n",
      "Appel de factorielleRecursive(-242)\n",
      "Appel de factorielleRecursive(-243)\n",
      "Appel de factorielleRecursive(-244)\n",
      "Appel de factorielleRecursive(-245)\n",
      "Appel de factorielleRecursive(-246)\n",
      "Appel de factorielleRecursive(-247)\n",
      "Appel de factorielleRecursive(-248)\n",
      "Appel de factorielleRecursive(-249)\n",
      "Appel de factorielleRecursive(-250)\n",
      "Appel de factorielleRecursive(-251)\n",
      "Appel de factorielleRecursive(-252)\n",
      "Appel de factorielleRecursive(-253)\n",
      "Appel de factorielleRecursive(-254)\n",
      "Appel de factorielleRecursive(-255)\n",
      "Appel de factorielleRecursive(-256)\n",
      "Appel de factorielleRecursive(-257)\n",
      "Appel de factorielleRecursive(-258)\n",
      "Appel de factorielleRecursive(-259)\n",
      "Appel de factorielleRecursive(-260)\n",
      "Appel de factorielleRecursive(-261)\n",
      "Appel de factorielleRecursive(-262)\n",
      "Appel de factorielleRecursive(-263)\n",
      "Appel de factorielleRecursive(-264)\n",
      "Appel de factorielleRecursive(-265)\n",
      "Appel de factorielleRecursive(-266)\n",
      "Appel de factorielleRecursive(-267)\n",
      "Appel de factorielleRecursive(-268)\n",
      "Appel de factorielleRecursive(-269)\n",
      "Appel de factorielleRecursive(-270)\n",
      "Appel de factorielleRecursive(-271)\n",
      "Appel de factorielleRecursive(-272)\n",
      "Appel de factorielleRecursive(-273)\n",
      "Appel de factorielleRecursive(-274)\n",
      "Appel de factorielleRecursive(-275)\n",
      "Appel de factorielleRecursive(-276)\n",
      "Appel de factorielleRecursive(-277)\n",
      "Appel de factorielleRecursive(-278)\n",
      "Appel de factorielleRecursive(-279)\n",
      "Appel de factorielleRecursive(-280)\n",
      "Appel de factorielleRecursive(-281)\n",
      "Appel de factorielleRecursive(-282)\n",
      "Appel de factorielleRecursive(-283)\n",
      "Appel de factorielleRecursive(-284)\n",
      "Appel de factorielleRecursive(-285)\n",
      "Appel de factorielleRecursive(-286)\n",
      "Appel de factorielleRecursive(-287)\n",
      "Appel de factorielleRecursive(-288)\n",
      "Appel de factorielleRecursive(-289)\n",
      "Appel de factorielleRecursive(-290)\n",
      "Appel de factorielleRecursive(-291)\n",
      "Appel de factorielleRecursive(-292)\n",
      "Appel de factorielleRecursive(-293)\n",
      "Appel de factorielleRecursive(-294)\n",
      "Appel de factorielleRecursive(-295)\n",
      "Appel de factorielleRecursive(-296)\n",
      "Appel de factorielleRecursive(-297)\n",
      "Appel de factorielleRecursive(-298)\n",
      "Appel de factorielleRecursive(-299)\n",
      "Appel de factorielleRecursive(-300)\n",
      "Appel de factorielleRecursive(-301)\n",
      "Appel de factorielleRecursive(-302)\n",
      "Appel de factorielleRecursive(-303)\n",
      "Appel de factorielleRecursive(-304)\n",
      "Appel de factorielleRecursive(-305)\n",
      "Appel de factorielleRecursive(-306)\n",
      "Appel de factorielleRecursive(-307)\n",
      "Appel de factorielleRecursive(-308)\n",
      "Appel de factorielleRecursive(-309)\n",
      "Appel de factorielleRecursive(-310)\n",
      "Appel de factorielleRecursive(-311)\n",
      "Appel de factorielleRecursive(-312)\n",
      "Appel de factorielleRecursive(-313)\n",
      "Appel de factorielleRecursive(-314)\n",
      "Appel de factorielleRecursive(-315)\n",
      "Appel de factorielleRecursive(-316)\n",
      "Appel de factorielleRecursive(-317)\n",
      "Appel de factorielleRecursive(-318)\n",
      "Appel de factorielleRecursive(-319)\n",
      "Appel de factorielleRecursive(-320)\n",
      "Appel de factorielleRecursive(-321)\n",
      "Appel de factorielleRecursive(-322)\n",
      "Appel de factorielleRecursive(-323)\n",
      "Appel de factorielleRecursive(-324)\n",
      "Appel de factorielleRecursive(-325)\n",
      "Appel de factorielleRecursive(-326)\n",
      "Appel de factorielleRecursive(-327)\n",
      "Appel de factorielleRecursive(-328)\n",
      "Appel de factorielleRecursive(-329)\n",
      "Appel de factorielleRecursive(-330)\n",
      "Appel de factorielleRecursive(-331)\n",
      "Appel de factorielleRecursive(-332)\n",
      "Appel de factorielleRecursive(-333)\n",
      "Appel de factorielleRecursive(-334)\n",
      "Appel de factorielleRecursive(-335)\n",
      "Appel de factorielleRecursive(-336)\n",
      "Appel de factorielleRecursive(-337)\n",
      "Appel de factorielleRecursive(-338)\n",
      "Appel de factorielleRecursive(-339)\n",
      "Appel de factorielleRecursive(-340)\n",
      "Appel de factorielleRecursive(-341)\n",
      "Appel de factorielleRecursive(-342)\n",
      "Appel de factorielleRecursive(-343)\n",
      "Appel de factorielleRecursive(-344)\n",
      "Appel de factorielleRecursive(-345)\n",
      "Appel de factorielleRecursive(-346)\n",
      "Appel de factorielleRecursive(-347)\n",
      "Appel de factorielleRecursive(-348)\n",
      "Appel de factorielleRecursive(-349)\n",
      "Appel de factorielleRecursive(-350)\n",
      "Appel de factorielleRecursive(-351)\n",
      "Appel de factorielleRecursive(-352)\n",
      "Appel de factorielleRecursive(-353)\n",
      "Appel de factorielleRecursive(-354)\n",
      "Appel de factorielleRecursive(-355)\n",
      "Appel de factorielleRecursive(-356)\n",
      "Appel de factorielleRecursive(-357)\n",
      "Appel de factorielleRecursive(-358)\n",
      "Appel de factorielleRecursive(-359)\n",
      "Appel de factorielleRecursive(-360)\n",
      "Appel de factorielleRecursive(-361)\n",
      "Appel de factorielleRecursive(-362)\n",
      "Appel de factorielleRecursive(-363)\n",
      "Appel de factorielleRecursive(-364)\n",
      "Appel de factorielleRecursive(-365)\n",
      "Appel de factorielleRecursive(-366)\n",
      "Appel de factorielleRecursive(-367)\n",
      "Appel de factorielleRecursive(-368)\n",
      "Appel de factorielleRecursive(-369)\n",
      "Appel de factorielleRecursive(-370)\n",
      "Appel de factorielleRecursive(-371)\n",
      "Appel de factorielleRecursive(-372)\n",
      "Appel de factorielleRecursive(-373)\n",
      "Appel de factorielleRecursive(-374)\n",
      "Appel de factorielleRecursive(-375)\n",
      "Appel de factorielleRecursive(-376)\n",
      "Appel de factorielleRecursive(-377)\n",
      "Appel de factorielleRecursive(-378)\n",
      "Appel de factorielleRecursive(-379)\n",
      "Appel de factorielleRecursive(-380)\n",
      "Appel de factorielleRecursive(-381)\n",
      "Appel de factorielleRecursive(-382)\n",
      "Appel de factorielleRecursive(-383)\n",
      "Appel de factorielleRecursive(-384)\n",
      "Appel de factorielleRecursive(-385)\n",
      "Appel de factorielleRecursive(-386)\n",
      "Appel de factorielleRecursive(-387)\n",
      "Appel de factorielleRecursive(-388)\n",
      "Appel de factorielleRecursive(-389)\n",
      "Appel de factorielleRecursive(-390)\n",
      "Appel de factorielleRecursive(-391)\n",
      "Appel de factorielleRecursive(-392)\n",
      "Appel de factorielleRecursive(-393)\n",
      "Appel de factorielleRecursive(-394)\n",
      "Appel de factorielleRecursive(-395)\n",
      "Appel de factorielleRecursive(-396)\n",
      "Appel de factorielleRecursive(-397)\n",
      "Appel de factorielleRecursive(-398)\n",
      "Appel de factorielleRecursive(-399)\n",
      "Appel de factorielleRecursive(-400)\n",
      "Appel de factorielleRecursive(-401)\n",
      "Appel de factorielleRecursive(-402)\n",
      "Appel de factorielleRecursive(-403)\n",
      "Appel de factorielleRecursive(-404)\n",
      "Appel de factorielleRecursive(-405)\n",
      "Appel de factorielleRecursive(-406)\n",
      "Appel de factorielleRecursive(-407)\n",
      "Appel de factorielleRecursive(-408)\n",
      "Appel de factorielleRecursive(-409)\n",
      "Appel de factorielleRecursive(-410)\n",
      "Appel de factorielleRecursive(-411)\n",
      "Appel de factorielleRecursive(-412)\n",
      "Appel de factorielleRecursive(-413)\n",
      "Appel de factorielleRecursive(-414)\n",
      "Appel de factorielleRecursive(-415)\n",
      "Appel de factorielleRecursive(-416)\n",
      "Appel de factorielleRecursive(-417)\n",
      "Appel de factorielleRecursive(-418)\n",
      "Appel de factorielleRecursive(-419)\n",
      "Appel de factorielleRecursive(-420)\n",
      "Appel de factorielleRecursive(-421)\n",
      "Appel de factorielleRecursive(-422)\n",
      "Appel de factorielleRecursive(-423)\n",
      "Appel de factorielleRecursive(-424)\n",
      "Appel de factorielleRecursive(-425)\n",
      "Appel de factorielleRecursive(-426)\n",
      "Appel de factorielleRecursive(-427)\n",
      "Appel de factorielleRecursive(-428)\n",
      "Appel de factorielleRecursive(-429)\n",
      "Appel de factorielleRecursive(-430)\n",
      "Appel de factorielleRecursive(-431)\n",
      "Appel de factorielleRecursive(-432)\n",
      "Appel de factorielleRecursive(-433)\n",
      "Appel de factorielleRecursive(-434)\n",
      "Appel de factorielleRecursive(-435)\n",
      "Appel de factorielleRecursive(-436)\n",
      "Appel de factorielleRecursive(-437)\n"
     ]
    },
    {
     "name": "stdout",
     "output_type": "stream",
     "text": [
      "Appel de factorielleRecursive(-438)\n",
      "Appel de factorielleRecursive(-439)\n",
      "Appel de factorielleRecursive(-440)\n",
      "Appel de factorielleRecursive(-441)\n",
      "Appel de factorielleRecursive(-442)\n",
      "Appel de factorielleRecursive(-443)\n",
      "Appel de factorielleRecursive(-444)\n",
      "Appel de factorielleRecursive(-445)\n",
      "Appel de factorielleRecursive(-446)\n",
      "Appel de factorielleRecursive(-447)\n",
      "Appel de factorielleRecursive(-448)\n",
      "Appel de factorielleRecursive(-449)\n",
      "Appel de factorielleRecursive(-450)\n",
      "Appel de factorielleRecursive(-451)\n",
      "Appel de factorielleRecursive(-452)\n",
      "Appel de factorielleRecursive(-453)\n",
      "Appel de factorielleRecursive(-454)\n",
      "Appel de factorielleRecursive(-455)\n",
      "Appel de factorielleRecursive(-456)\n",
      "Appel de factorielleRecursive(-457)\n",
      "Appel de factorielleRecursive(-458)\n",
      "Appel de factorielleRecursive(-459)\n",
      "Appel de factorielleRecursive(-460)\n",
      "Appel de factorielleRecursive(-461)\n",
      "Appel de factorielleRecursive(-462)\n",
      "Appel de factorielleRecursive(-463)\n",
      "Appel de factorielleRecursive(-464)\n",
      "Appel de factorielleRecursive(-465)\n",
      "Appel de factorielleRecursive(-466)\n",
      "Appel de factorielleRecursive(-467)\n",
      "Appel de factorielleRecursive(-468)\n",
      "Appel de factorielleRecursive(-469)\n",
      "Appel de factorielleRecursive(-470)\n",
      "Appel de factorielleRecursive(-471)\n",
      "Appel de factorielleRecursive(-472)\n",
      "Appel de factorielleRecursive(-473)\n",
      "Appel de factorielleRecursive(-474)\n",
      "Appel de factorielleRecursive(-475)\n",
      "Appel de factorielleRecursive(-476)\n",
      "Appel de factorielleRecursive(-477)\n",
      "Appel de factorielleRecursive(-478)\n",
      "Appel de factorielleRecursive(-479)\n",
      "Appel de factorielleRecursive(-480)\n",
      "Appel de factorielleRecursive(-481)\n",
      "Appel de factorielleRecursive(-482)\n",
      "Appel de factorielleRecursive(-483)\n",
      "Appel de factorielleRecursive(-484)\n",
      "Appel de factorielleRecursive(-485)\n",
      "Appel de factorielleRecursive(-486)\n",
      "Appel de factorielleRecursive(-487)\n",
      "Appel de factorielleRecursive(-488)\n",
      "Appel de factorielleRecursive(-489)\n",
      "Appel de factorielleRecursive(-490)\n",
      "Appel de factorielleRecursive(-491)\n",
      "Appel de factorielleRecursive(-492)\n",
      "Appel de factorielleRecursive(-493)\n",
      "Appel de factorielleRecursive(-494)\n",
      "Appel de factorielleRecursive(-495)\n",
      "Appel de factorielleRecursive(-496)\n",
      "Appel de factorielleRecursive(-497)\n",
      "Appel de factorielleRecursive(-498)\n",
      "Appel de factorielleRecursive(-499)\n",
      "Appel de factorielleRecursive(-500)\n",
      "Appel de factorielleRecursive(-501)\n",
      "Appel de factorielleRecursive(-502)\n",
      "Appel de factorielleRecursive(-503)\n",
      "Appel de factorielleRecursive(-504)\n",
      "Appel de factorielleRecursive(-505)\n",
      "Appel de factorielleRecursive(-506)\n",
      "Appel de factorielleRecursive(-507)\n",
      "Appel de factorielleRecursive(-508)\n",
      "Appel de factorielleRecursive(-509)\n",
      "Appel de factorielleRecursive(-510)\n",
      "Appel de factorielleRecursive(-511)\n",
      "Appel de factorielleRecursive(-512)\n",
      "Appel de factorielleRecursive(-513)\n",
      "Appel de factorielleRecursive(-514)\n",
      "Appel de factorielleRecursive(-515)\n",
      "Appel de factorielleRecursive(-516)\n",
      "Appel de factorielleRecursive(-517)\n",
      "Appel de factorielleRecursive(-518)\n",
      "Appel de factorielleRecursive(-519)\n",
      "Appel de factorielleRecursive(-520)\n",
      "Appel de factorielleRecursive(-521)\n",
      "Appel de factorielleRecursive(-522)\n",
      "Appel de factorielleRecursive(-523)\n",
      "Appel de factorielleRecursive(-524)\n",
      "Appel de factorielleRecursive(-525)\n",
      "Appel de factorielleRecursive(-526)\n",
      "Appel de factorielleRecursive(-527)\n",
      "Appel de factorielleRecursive(-528)\n",
      "Appel de factorielleRecursive(-529)\n",
      "Appel de factorielleRecursive(-530)\n",
      "Appel de factorielleRecursive(-531)\n",
      "Appel de factorielleRecursive(-532)\n",
      "Appel de factorielleRecursive(-533)\n",
      "Appel de factorielleRecursive(-534)\n",
      "Appel de factorielleRecursive(-535)\n",
      "Appel de factorielleRecursive(-536)\n",
      "Appel de factorielleRecursive(-537)\n",
      "Appel de factorielleRecursive(-538)\n",
      "Appel de factorielleRecursive(-539)\n",
      "Appel de factorielleRecursive(-540)\n",
      "Appel de factorielleRecursive(-541)\n",
      "Appel de factorielleRecursive(-542)\n",
      "Appel de factorielleRecursive(-543)\n",
      "Appel de factorielleRecursive(-544)\n",
      "Appel de factorielleRecursive(-545)\n",
      "Appel de factorielleRecursive(-546)\n",
      "Appel de factorielleRecursive(-547)\n",
      "Appel de factorielleRecursive(-548)\n",
      "Appel de factorielleRecursive(-549)\n",
      "Appel de factorielleRecursive(-550)\n",
      "Appel de factorielleRecursive(-551)\n",
      "Appel de factorielleRecursive(-552)\n",
      "Appel de factorielleRecursive(-553)\n",
      "Appel de factorielleRecursive(-554)\n",
      "Appel de factorielleRecursive(-555)\n",
      "Appel de factorielleRecursive(-556)\n",
      "Appel de factorielleRecursive(-557)\n",
      "Appel de factorielleRecursive(-558)\n",
      "Appel de factorielleRecursive(-559)\n",
      "Appel de factorielleRecursive(-560)\n",
      "Appel de factorielleRecursive(-561)\n",
      "Appel de factorielleRecursive(-562)\n",
      "Appel de factorielleRecursive(-563)\n",
      "Appel de factorielleRecursive(-564)\n",
      "Appel de factorielleRecursive(-565)\n",
      "Appel de factorielleRecursive(-566)\n",
      "Appel de factorielleRecursive(-567)\n",
      "Appel de factorielleRecursive(-568)\n",
      "Appel de factorielleRecursive(-569)\n",
      "Appel de factorielleRecursive(-570)\n",
      "Appel de factorielleRecursive(-571)\n",
      "Appel de factorielleRecursive(-572)\n",
      "Appel de factorielleRecursive(-573)\n",
      "Appel de factorielleRecursive(-574)\n",
      "Appel de factorielleRecursive(-575)\n",
      "Appel de factorielleRecursive(-576)\n",
      "Appel de factorielleRecursive(-577)\n",
      "Appel de factorielleRecursive(-578)\n",
      "Appel de factorielleRecursive(-579)\n",
      "Appel de factorielleRecursive(-580)\n",
      "Appel de factorielleRecursive(-581)\n",
      "Appel de factorielleRecursive(-582)\n",
      "Appel de factorielleRecursive(-583)\n",
      "Appel de factorielleRecursive(-584)\n",
      "Appel de factorielleRecursive(-585)\n",
      "Appel de factorielleRecursive(-586)\n",
      "Appel de factorielleRecursive(-587)\n",
      "Appel de factorielleRecursive(-588)\n",
      "Appel de factorielleRecursive(-589)\n",
      "Appel de factorielleRecursive(-590)\n",
      "Appel de factorielleRecursive(-591)\n",
      "Appel de factorielleRecursive(-592)\n",
      "Appel de factorielleRecursive(-593)\n",
      "Appel de factorielleRecursive(-594)\n",
      "Appel de factorielleRecursive(-595)\n",
      "Appel de factorielleRecursive(-596)\n",
      "Appel de factorielleRecursive(-597)\n",
      "Appel de factorielleRecursive(-598)\n",
      "Appel de factorielleRecursive(-599)\n",
      "Appel de factorielleRecursive(-600)\n",
      "Appel de factorielleRecursive(-601)\n",
      "Appel de factorielleRecursive(-602)\n",
      "Appel de factorielleRecursive(-603)\n",
      "Appel de factorielleRecursive(-604)\n",
      "Appel de factorielleRecursive(-605)\n",
      "Appel de factorielleRecursive(-606)\n",
      "Appel de factorielleRecursive(-607)\n",
      "Appel de factorielleRecursive(-608)\n",
      "Appel de factorielleRecursive(-609)\n",
      "Appel de factorielleRecursive(-610)\n",
      "Appel de factorielleRecursive(-611)\n",
      "Appel de factorielleRecursive(-612)\n",
      "Appel de factorielleRecursive(-613)\n",
      "Appel de factorielleRecursive(-614)\n",
      "Appel de factorielleRecursive(-615)\n",
      "Appel de factorielleRecursive(-616)\n",
      "Appel de factorielleRecursive(-617)\n",
      "Appel de factorielleRecursive(-618)\n",
      "Appel de factorielleRecursive(-619)\n",
      "Appel de factorielleRecursive(-620)\n",
      "Appel de factorielleRecursive(-621)\n",
      "Appel de factorielleRecursive(-622)\n",
      "Appel de factorielleRecursive(-623)\n",
      "Appel de factorielleRecursive(-624)\n",
      "Appel de factorielleRecursive(-625)\n",
      "Appel de factorielleRecursive(-626)\n",
      "Appel de factorielleRecursive(-627)\n",
      "Appel de factorielleRecursive(-628)\n",
      "Appel de factorielleRecursive(-629)\n",
      "Appel de factorielleRecursive(-630)\n",
      "Appel de factorielleRecursive(-631)\n",
      "Appel de factorielleRecursive(-632)\n",
      "Appel de factorielleRecursive(-633)\n",
      "Appel de factorielleRecursive(-634)\n",
      "Appel de factorielleRecursive(-635)\n",
      "Appel de factorielleRecursive(-636)\n",
      "Appel de factorielleRecursive(-637)\n",
      "Appel de factorielleRecursive(-638)\n",
      "Appel de factorielleRecursive(-639)\n",
      "Appel de factorielleRecursive(-640)\n",
      "Appel de factorielleRecursive(-641)\n",
      "Appel de factorielleRecursive(-642)\n",
      "Appel de factorielleRecursive(-643)\n",
      "Appel de factorielleRecursive(-644)\n",
      "Appel de factorielleRecursive(-645)\n",
      "Appel de factorielleRecursive(-646)\n",
      "Appel de factorielleRecursive(-647)\n",
      "Appel de factorielleRecursive(-648)\n",
      "Appel de factorielleRecursive(-649)\n",
      "Appel de factorielleRecursive(-650)\n",
      "Appel de factorielleRecursive(-651)\n",
      "Appel de factorielleRecursive(-652)\n",
      "Appel de factorielleRecursive(-653)\n",
      "Appel de factorielleRecursive(-654)\n",
      "Appel de factorielleRecursive(-655)\n",
      "Appel de factorielleRecursive(-656)\n"
     ]
    },
    {
     "ename": "RecursionError",
     "evalue": "maximum recursion depth exceeded in comparison",
     "output_type": "error",
     "traceback": [
      "\u001b[0;31m---------------------------------------------------------------------------\u001b[0m",
      "\u001b[0;31mRecursionError\u001b[0m                            Traceback (most recent call last)",
      "\u001b[0;32m<ipython-input-16-bd0a1921d938>\u001b[0m in \u001b[0;36m<module>\u001b[0;34m()\u001b[0m\n\u001b[0;32m----> 1\u001b[0;31m \u001b[0mfactorielleRecursive\u001b[0m\u001b[0;34m(\u001b[0m\u001b[0;34m-\u001b[0m\u001b[0;36m2\u001b[0m\u001b[0;34m)\u001b[0m\u001b[0;34m\u001b[0m\u001b[0;34m\u001b[0m\u001b[0m\n\u001b[0m",
      "\u001b[0;32m<ipython-input-4-b6cb0444cfd0>\u001b[0m in \u001b[0;36mwrapper_debug\u001b[0;34m(*args, **kwargs)\u001b[0m\n\u001b[1;32m      9\u001b[0m         \u001b[0msignature\u001b[0m \u001b[0;34m=\u001b[0m \u001b[0;34m\", \"\u001b[0m\u001b[0;34m.\u001b[0m\u001b[0mjoin\u001b[0m\u001b[0;34m(\u001b[0m\u001b[0margs_repr\u001b[0m \u001b[0;34m+\u001b[0m \u001b[0mkwargs_repr\u001b[0m\u001b[0;34m)\u001b[0m\u001b[0;34m\u001b[0m\u001b[0;34m\u001b[0m\u001b[0m\n\u001b[1;32m     10\u001b[0m         \u001b[0mprint\u001b[0m\u001b[0;34m(\u001b[0m\u001b[0;34mf\"Appel de {func.__name__}({signature})\"\u001b[0m\u001b[0;34m)\u001b[0m\u001b[0;34m\u001b[0m\u001b[0;34m\u001b[0m\u001b[0m\n\u001b[0;32m---> 11\u001b[0;31m         \u001b[0mvalue\u001b[0m \u001b[0;34m=\u001b[0m \u001b[0mfunc\u001b[0m\u001b[0;34m(\u001b[0m\u001b[0;34m*\u001b[0m\u001b[0margs\u001b[0m\u001b[0;34m,\u001b[0m \u001b[0;34m**\u001b[0m\u001b[0mkwargs\u001b[0m\u001b[0;34m)\u001b[0m\u001b[0;34m\u001b[0m\u001b[0;34m\u001b[0m\u001b[0m\n\u001b[0m\u001b[1;32m     12\u001b[0m         \u001b[0mprint\u001b[0m\u001b[0;34m(\u001b[0m\u001b[0;34mf\"valeur de retour {value!r}\"\u001b[0m\u001b[0;34m)\u001b[0m\u001b[0;34m\u001b[0m\u001b[0;34m\u001b[0m\u001b[0m\n\u001b[1;32m     13\u001b[0m         \u001b[0mprint\u001b[0m\u001b[0;34m(\u001b[0m\u001b[0;34mf\"Fin de {func.__name__}({signature})\"\u001b[0m\u001b[0;34m)\u001b[0m\u001b[0;34m\u001b[0m\u001b[0;34m\u001b[0m\u001b[0m\n",
      "\u001b[0;32m<ipython-input-14-810a9c449631>\u001b[0m in \u001b[0;36mfactorielleRecursive\u001b[0;34m(n)\u001b[0m\n\u001b[1;32m      3\u001b[0m     \u001b[0;32mif\u001b[0m \u001b[0mn\u001b[0m \u001b[0;34m==\u001b[0m \u001b[0;36m0\u001b[0m\u001b[0;34m:\u001b[0m\u001b[0;34m\u001b[0m\u001b[0;34m\u001b[0m\u001b[0m\n\u001b[1;32m      4\u001b[0m         \u001b[0;32mreturn\u001b[0m \u001b[0;36m1\u001b[0m\u001b[0;34m\u001b[0m\u001b[0;34m\u001b[0m\u001b[0m\n\u001b[0;32m----> 5\u001b[0;31m     \u001b[0;32mreturn\u001b[0m \u001b[0mn\u001b[0m \u001b[0;34m*\u001b[0m \u001b[0mfactorielleRecursive\u001b[0m\u001b[0;34m(\u001b[0m\u001b[0mn\u001b[0m\u001b[0;34m-\u001b[0m\u001b[0;36m1\u001b[0m\u001b[0;34m)\u001b[0m\u001b[0;34m\u001b[0m\u001b[0;34m\u001b[0m\u001b[0m\n\u001b[0m",
      "... last 2 frames repeated, from the frame below ...\n",
      "\u001b[0;32m<ipython-input-4-b6cb0444cfd0>\u001b[0m in \u001b[0;36mwrapper_debug\u001b[0;34m(*args, **kwargs)\u001b[0m\n\u001b[1;32m      9\u001b[0m         \u001b[0msignature\u001b[0m \u001b[0;34m=\u001b[0m \u001b[0;34m\", \"\u001b[0m\u001b[0;34m.\u001b[0m\u001b[0mjoin\u001b[0m\u001b[0;34m(\u001b[0m\u001b[0margs_repr\u001b[0m \u001b[0;34m+\u001b[0m \u001b[0mkwargs_repr\u001b[0m\u001b[0;34m)\u001b[0m\u001b[0;34m\u001b[0m\u001b[0;34m\u001b[0m\u001b[0m\n\u001b[1;32m     10\u001b[0m         \u001b[0mprint\u001b[0m\u001b[0;34m(\u001b[0m\u001b[0;34mf\"Appel de {func.__name__}({signature})\"\u001b[0m\u001b[0;34m)\u001b[0m\u001b[0;34m\u001b[0m\u001b[0;34m\u001b[0m\u001b[0m\n\u001b[0;32m---> 11\u001b[0;31m         \u001b[0mvalue\u001b[0m \u001b[0;34m=\u001b[0m \u001b[0mfunc\u001b[0m\u001b[0;34m(\u001b[0m\u001b[0;34m*\u001b[0m\u001b[0margs\u001b[0m\u001b[0;34m,\u001b[0m \u001b[0;34m**\u001b[0m\u001b[0mkwargs\u001b[0m\u001b[0;34m)\u001b[0m\u001b[0;34m\u001b[0m\u001b[0;34m\u001b[0m\u001b[0m\n\u001b[0m\u001b[1;32m     12\u001b[0m         \u001b[0mprint\u001b[0m\u001b[0;34m(\u001b[0m\u001b[0;34mf\"valeur de retour {value!r}\"\u001b[0m\u001b[0;34m)\u001b[0m\u001b[0;34m\u001b[0m\u001b[0;34m\u001b[0m\u001b[0m\n\u001b[1;32m     13\u001b[0m         \u001b[0mprint\u001b[0m\u001b[0;34m(\u001b[0m\u001b[0;34mf\"Fin de {func.__name__}({signature})\"\u001b[0m\u001b[0;34m)\u001b[0m\u001b[0;34m\u001b[0m\u001b[0;34m\u001b[0m\u001b[0m\n",
      "\u001b[0;31mRecursionError\u001b[0m: maximum recursion depth exceeded in comparison"
     ]
    }
   ],
   "source": [
    "factorielleRecursive(-2)"
   ]
  },
  {
   "cell_type": "markdown",
   "metadata": {},
   "source": [
    "## Comment définir une fonction récursive ?\n",
    "\n",
    "Le principe d'une fonction récursive est assez similaire à la notion de **récurrence** mathématique. On ne cherche pas à calculer le problème dans son ensemble mais simplement à le définir en fonction d'un problème de taille plus petite. Tout comme en mathématique le fait de prouver l'état initial et une seule étape permet de prouver la propriété, dans un algorithme, le fait de calculer l'état initial et une étape permet de calculer n'importe quelle valeur. \n",
    "\n",
    "Un algorithme récursif s'écrira toujours de cette façon :"
   ]
  },
  {
   "cell_type": "raw",
   "metadata": {},
   "source": [
    "Input : des paramètres\n",
    "Processus:\n",
    "    Si les paramètres correspondent à la condition d'arret (cas simple):\n",
    "        Actions cas d'arret\n",
    "    Sinon\n",
    "        Appel(s) récursifs sur de nouveaux paramètres"
   ]
  },
  {
   "cell_type": "markdown",
   "metadata": {},
   "source": [
    "Pour être sûr que l'algorithme termine, les nouveaux paramètres doivent se rapprocher de la condition d'arrêt."
   ]
  },
  {
   "cell_type": "markdown",
   "metadata": {},
   "source": [
    "## Exercices"
   ]
  },
  {
   "cell_type": "markdown",
   "metadata": {},
   "source": [
    "### Exercice 1\n",
    "\n",
    "1. Donner un algorithme récursif qui affiche les entiers de 1 à $n$\n",
    "1. Même chose de $n$ à 1\n",
    "3. Puis-je modifier ces algorithmes pour qu'ils rajoutent \"fin\" à la fin de la liste"
   ]
  },
  {
   "cell_type": "code",
   "execution_count": 37,
   "metadata": {
    "collapsed": true
   },
   "outputs": [],
   "source": [
    "@printAppelsFonctions\n",
    "def affiche1n(n):\n",
    "    if n == 0:\n",
    "        print(\"fin\")\n",
    "        return\n",
    "    affiche1n(n-1)\n",
    "    print(n)"
   ]
  },
  {
   "cell_type": "code",
   "execution_count": 38,
   "metadata": {},
   "outputs": [
    {
     "name": "stdout",
     "output_type": "stream",
     "text": [
      "Appel de affiche1n(10)\n",
      "Appel de affiche1n(9)\n",
      "Appel de affiche1n(8)\n",
      "Appel de affiche1n(7)\n",
      "Appel de affiche1n(6)\n",
      "Appel de affiche1n(5)\n",
      "Appel de affiche1n(4)\n",
      "Appel de affiche1n(3)\n",
      "Appel de affiche1n(2)\n",
      "Appel de affiche1n(1)\n",
      "Appel de affiche1n(0)\n",
      "fin\n",
      "valeur de retour None\n",
      "Fin de affiche1n(0)\n",
      "1\n",
      "valeur de retour None\n",
      "Fin de affiche1n(1)\n",
      "2\n",
      "valeur de retour None\n",
      "Fin de affiche1n(2)\n",
      "3\n",
      "valeur de retour None\n",
      "Fin de affiche1n(3)\n",
      "4\n",
      "valeur de retour None\n",
      "Fin de affiche1n(4)\n",
      "5\n",
      "valeur de retour None\n",
      "Fin de affiche1n(5)\n",
      "6\n",
      "valeur de retour None\n",
      "Fin de affiche1n(6)\n",
      "7\n",
      "valeur de retour None\n",
      "Fin de affiche1n(7)\n",
      "8\n",
      "valeur de retour None\n",
      "Fin de affiche1n(8)\n",
      "9\n",
      "valeur de retour None\n",
      "Fin de affiche1n(9)\n",
      "10\n",
      "valeur de retour None\n",
      "Fin de affiche1n(10)\n"
     ]
    }
   ],
   "source": [
    "affiche1n(10)"
   ]
  },
  {
   "cell_type": "code",
   "execution_count": 39,
   "metadata": {
    "collapsed": true
   },
   "outputs": [],
   "source": [
    "def affichen1(n):\n",
    "    if n == 0:\n",
    "        print(\"fin\")\n",
    "        return\n",
    "    print(n)\n",
    "    affichen1(n-1)\n",
    "    "
   ]
  },
  {
   "cell_type": "code",
   "execution_count": 40,
   "metadata": {},
   "outputs": [
    {
     "name": "stdout",
     "output_type": "stream",
     "text": [
      "10\n",
      "9\n",
      "8\n",
      "7\n",
      "6\n",
      "5\n",
      "4\n",
      "3\n",
      "2\n",
      "1\n",
      "fin\n"
     ]
    }
   ],
   "source": [
    "affichen1(10)"
   ]
  },
  {
   "cell_type": "code",
   "execution_count": 33,
   "metadata": {
    "collapsed": true
   },
   "outputs": [],
   "source": [
    "def concat1n(n):\n",
    "    if n == 0:\n",
    "        return \"\"\n",
    "    return concat1n(n-1) + \" \" + str(n) + \" fin \""
   ]
  },
  {
   "cell_type": "code",
   "execution_count": 34,
   "metadata": {},
   "outputs": [
    {
     "data": {
      "text/plain": [
       "' 1 fin  2 fin  3 fin  4 fin  5 fin  6 fin  7 fin  8 fin  9 fin  10 fin '"
      ]
     },
     "execution_count": 34,
     "metadata": {},
     "output_type": "execute_result"
    }
   ],
   "source": [
    "concat1n(10)"
   ]
  },
  {
   "cell_type": "code",
   "execution_count": 29,
   "metadata": {
    "collapsed": true
   },
   "outputs": [],
   "source": [
    "def concatn1(n):\n",
    "    if n == 0:\n",
    "        return \"\"\n",
    "    return str(n) + \" \" + concatn1(n-1)"
   ]
  },
  {
   "cell_type": "code",
   "execution_count": 30,
   "metadata": {},
   "outputs": [
    {
     "data": {
      "text/plain": [
       "'10 9 8 7 6 5 4 3 2 1 '"
      ]
     },
     "execution_count": 30,
     "metadata": {},
     "output_type": "execute_result"
    }
   ],
   "source": [
    "concatn1(10)"
   ]
  },
  {
   "cell_type": "code",
   "execution_count": null,
   "metadata": {
    "collapsed": true
   },
   "outputs": [],
   "source": []
  },
  {
   "cell_type": "markdown",
   "metadata": {},
   "source": [
    "### Exercice 2\n",
    "\n",
    "Pour chacun des algorithmes suivants :\n",
    "\n",
    "1. Déterminez pour quelles valeurs d'entrée l'algorithme termine (= ne fait pas de boucles infinies)\n",
    "2. Calculez un exemple à la main\n",
    "3. Expliquez ce que calcule l'algorithme"
   ]
  },
  {
   "cell_type": "code",
   "execution_count": 41,
   "metadata": {
    "collapsed": true
   },
   "outputs": [],
   "source": [
    "def fonction1(n):\n",
    "    if n == 0:\n",
    "        return 1\n",
    "    return fonction1(n+1)"
   ]
  },
  {
   "cell_type": "markdown",
   "metadata": {},
   "source": [
    "La fonction va terminer sur les valeurs négatives et renvoie toujours 1\n",
    "Boucle infinie sur les strictements positifs\n"
   ]
  },
  {
   "cell_type": "code",
   "execution_count": 42,
   "metadata": {},
   "outputs": [
    {
     "data": {
      "text/plain": [
       "1"
      ]
     },
     "execution_count": 42,
     "metadata": {},
     "output_type": "execute_result"
    }
   ],
   "source": [
    "fonction1(-6)"
   ]
  },
  {
   "cell_type": "code",
   "execution_count": 44,
   "metadata": {
    "collapsed": true
   },
   "outputs": [],
   "source": [
    "def fonction2(n):\n",
    "    if n == 0:\n",
    "        return 0\n",
    "    return fonction2(n-1)+n"
   ]
  },
  {
   "cell_type": "markdown",
   "metadata": {},
   "source": [
    "Termine pour les nombres positifs (boucle infinie sur les strictement négatifs)\n",
    "Calcule la somme des nombres de 1 à n"
   ]
  },
  {
   "cell_type": "code",
   "execution_count": 45,
   "metadata": {},
   "outputs": [
    {
     "data": {
      "text/plain": [
       "15"
      ]
     },
     "execution_count": 45,
     "metadata": {},
     "output_type": "execute_result"
    }
   ],
   "source": [
    "fonction2(5)"
   ]
  },
  {
   "cell_type": "code",
   "execution_count": 46,
   "metadata": {
    "collapsed": true
   },
   "outputs": [],
   "source": [
    "def fonction3(n):\n",
    "    if n == 0:\n",
    "        return 0\n",
    "    return fonction3(n-1) - n"
   ]
  },
  {
   "cell_type": "markdown",
   "metadata": {},
   "source": [
    "Termine pour les nombres positifs (boucle infinie sur les strictement négatifs)\n",
    "Calcule -(la somme des nombres de 1 à n)"
   ]
  },
  {
   "cell_type": "code",
   "execution_count": 47,
   "metadata": {},
   "outputs": [
    {
     "data": {
      "text/plain": [
       "-15"
      ]
     },
     "execution_count": 47,
     "metadata": {},
     "output_type": "execute_result"
    }
   ],
   "source": [
    "fonction3(5)"
   ]
  },
  {
   "cell_type": "code",
   "execution_count": 48,
   "metadata": {
    "collapsed": true
   },
   "outputs": [],
   "source": [
    "def fonction4(n):\n",
    "    if n == 0:\n",
    "        return 0\n",
    "    if n < 0:\n",
    "        return n + fonction4(-n)\n",
    "    return n + fonction4(-n+1)"
   ]
  },
  {
   "cell_type": "markdown",
   "metadata": {},
   "source": [
    "Termine pour tous les entiers\n",
    "Calcule pour les positifs :\n",
    "\n",
    "exemple 5\n",
    "\n",
    "$5 + -4 + 4 + -3 + 3 + -2 + 2 + -1 + 1 + 0 = 5$\n",
    "\n",
    "Pour les négatifs : 0"
   ]
  },
  {
   "cell_type": "code",
   "execution_count": 53,
   "metadata": {},
   "outputs": [
    {
     "data": {
      "text/plain": [
       "0"
      ]
     },
     "execution_count": 53,
     "metadata": {},
     "output_type": "execute_result"
    }
   ],
   "source": [
    "fonction4(-10)"
   ]
  },
  {
   "cell_type": "code",
   "execution_count": 55,
   "metadata": {
    "collapsed": true
   },
   "outputs": [],
   "source": [
    "def fonction5(n):\n",
    "    if n <= 1:\n",
    "        return 0\n",
    "    return 1 + fonction5(n-2)"
   ]
  },
  {
   "cell_type": "markdown",
   "metadata": {},
   "source": [
    "Termine pour tous les entiers \n",
    "\n",
    "Calcule n//2"
   ]
  },
  {
   "cell_type": "code",
   "execution_count": 57,
   "metadata": {},
   "outputs": [
    {
     "data": {
      "text/plain": [
       "5"
      ]
     },
     "execution_count": 57,
     "metadata": {},
     "output_type": "execute_result"
    }
   ],
   "source": [
    "fonction5(11)"
   ]
  },
  {
   "cell_type": "markdown",
   "metadata": {},
   "source": [
    "### Exercice 3\n",
    "\n",
    "La fonction de fibonacci est définie par :\n",
    "\n",
    "$U_0 = 1$\n",
    "\n",
    "$U_1 = 1$\n",
    "\n",
    "$U_n = U_{n-1} + U_{n-2}$ si $n \\geq 2$\n",
    "\n",
    "Ces premières valeurs sont donc : 1, 1, 2, 3, 5, 8, 13, ...\n",
    "\n",
    "Donner deux algorithmes, un itératif et un récursif, qui calculent la valeur $n$ de la suite.\n"
   ]
  },
  {
   "cell_type": "code",
   "execution_count": 61,
   "metadata": {
    "collapsed": true
   },
   "outputs": [],
   "source": [
    "def fiboIteratif(n):\n",
    "    u0 = 1\n",
    "    u1 = 1\n",
    "    for i in range(2,n+1):\n",
    "        u0, u1 = u1, u0 + u1\n",
    "    return u1"
   ]
  },
  {
   "cell_type": "code",
   "execution_count": 67,
   "metadata": {},
   "outputs": [
    {
     "data": {
      "text/plain": [
       "[1, 1, 2, 3, 5, 8, 13, 21, 34, 55]"
      ]
     },
     "execution_count": 67,
     "metadata": {},
     "output_type": "execute_result"
    }
   ],
   "source": [
    "[fiboIteratif(i) for i in range(10)]"
   ]
  },
  {
   "cell_type": "code",
   "execution_count": 68,
   "metadata": {
    "collapsed": true
   },
   "outputs": [],
   "source": [
    "def fiboRec(n):\n",
    "    if n <= 1:\n",
    "        return 1\n",
    "    return fiboRec(n-1) + fiboRec(n-2)"
   ]
  },
  {
   "cell_type": "code",
   "execution_count": 69,
   "metadata": {},
   "outputs": [
    {
     "data": {
      "text/plain": [
       "8"
      ]
     },
     "execution_count": 69,
     "metadata": {},
     "output_type": "execute_result"
    }
   ],
   "source": [
    "fiboRec(5)"
   ]
  },
  {
   "cell_type": "code",
   "execution_count": 70,
   "metadata": {},
   "outputs": [
    {
     "data": {
      "text/plain": [
       "[1, 1, 2, 3, 5, 8, 13, 21, 34, 55]"
      ]
     },
     "execution_count": 70,
     "metadata": {},
     "output_type": "execute_result"
    }
   ],
   "source": [
    "[fiboRec(i) for i in range(10)]"
   ]
  },
  {
   "cell_type": "markdown",
   "metadata": {},
   "source": [
    "### Exercice 4\n",
    "\n",
    "On rappelle sur un exemple le principe de l'algorithme d'Euclide du calcul du pgcd (plus grand diviseur commun). \n",
    "\n",
    "Calcul du pgcd de 2145 et 630 : On commence par effectuer la division euclidienne de 2145 par 630\n",
    "\n",
    "$2145 = 630 * 3 + 255$\n",
    "\n",
    "puis on effectue la division de 630 par le reste obtenu 255\n",
    "\n",
    "$630 = 255 * 2 + 120$\n",
    "\n",
    "On continue jusqu'à ce que l'on trouve un reste nul.\n",
    "\n",
    "$\\begin{align*}\n",
    "255 &= 120 *2 + 15 \\\\\n",
    "120 &= 15 * 8\n",
    "\\end{align*}$\n",
    "\n",
    "Le pgcd est le dernier reste non nul, c'est-à-dire **15**.\n",
    "\n",
    "Donner un algorithme récursif qui calcule le pgcd de deux nombres."
   ]
  },
  {
   "cell_type": "code",
   "execution_count": null,
   "metadata": {
    "collapsed": true
   },
   "outputs": [],
   "source": []
  },
  {
   "cell_type": "code",
   "execution_count": null,
   "metadata": {
    "collapsed": true
   },
   "outputs": [],
   "source": []
  },
  {
   "cell_type": "code",
   "execution_count": null,
   "metadata": {
    "collapsed": true
   },
   "outputs": [],
   "source": []
  },
  {
   "cell_type": "markdown",
   "metadata": {},
   "source": [
    "### Exercice 5\n",
    "\n",
    "Reprendre l'algorithme de recherche dichotomique dans un tableau trié vu dans le TD1 et donner une version récursive."
   ]
  },
  {
   "cell_type": "code",
   "execution_count": 58,
   "metadata": {},
   "outputs": [
    {
     "data": {
      "text/plain": [
       "[1, 2, 3, 3, 4]"
      ]
     },
     "execution_count": 58,
     "metadata": {},
     "output_type": "execute_result"
    }
   ],
   "source": [
    "T = [1,2,3,3,4]\n",
    "T"
   ]
  },
  {
   "cell_type": "code",
   "execution_count": 59,
   "metadata": {},
   "outputs": [
    {
     "data": {
      "text/plain": [
       "1"
      ]
     },
     "execution_count": 59,
     "metadata": {},
     "output_type": "execute_result"
    }
   ],
   "source": [
    "T[0]"
   ]
  },
  {
   "cell_type": "code",
   "execution_count": 60,
   "metadata": {},
   "outputs": [
    {
     "data": {
      "text/plain": [
       "5"
      ]
     },
     "execution_count": 60,
     "metadata": {},
     "output_type": "execute_result"
    }
   ],
   "source": [
    "len(T)"
   ]
  },
  {
   "cell_type": "code",
   "execution_count": 71,
   "metadata": {
    "collapsed": true
   },
   "outputs": [],
   "source": [
    "def dicho(T, deb, fin, x):\n",
    "    if deb == fin:\n",
    "        return False\n",
    "    m = (deb + fin)//2\n",
    "    if x == T[m]:\n",
    "        return True\n",
    "    if x < T[m]:\n",
    "        return dicho(T,deb,m,x)\n",
    "    return dicho(T,m+1,fin,x)"
   ]
  },
  {
   "cell_type": "code",
   "execution_count": 72,
   "metadata": {},
   "outputs": [
    {
     "data": {
      "text/plain": [
       "True"
      ]
     },
     "execution_count": 72,
     "metadata": {},
     "output_type": "execute_result"
    }
   ],
   "source": [
    "T = [1,2,3,3,4]\n",
    "dicho(T,0,len(T),2)"
   ]
  },
  {
   "cell_type": "code",
   "execution_count": 73,
   "metadata": {},
   "outputs": [
    {
     "data": {
      "text/plain": [
       "False"
      ]
     },
     "execution_count": 73,
     "metadata": {},
     "output_type": "execute_result"
    }
   ],
   "source": [
    "dicho(T,0,len(T),3.5)"
   ]
  },
  {
   "cell_type": "code",
   "execution_count": 74,
   "metadata": {},
   "outputs": [
    {
     "data": {
      "text/plain": [
       "False"
      ]
     },
     "execution_count": 74,
     "metadata": {},
     "output_type": "execute_result"
    }
   ],
   "source": [
    "dicho(T,0,len(T),6)"
   ]
  },
  {
   "cell_type": "code",
   "execution_count": 75,
   "metadata": {},
   "outputs": [
    {
     "data": {
      "text/plain": [
       "False"
      ]
     },
     "execution_count": 75,
     "metadata": {},
     "output_type": "execute_result"
    }
   ],
   "source": [
    "dicho(T,0,len(T),-3)"
   ]
  },
  {
   "cell_type": "markdown",
   "metadata": {},
   "source": [
    "### Exemple avancé : les Tours de Hanoï\n",
    "\n",
    "![Tour de Hanoï](hanoi.jpg)\n",
    "\n",
    "Problème : on possède trois pics sur lesquels sont empilés des disques de tailles décroissantes (tous sur le premier pic). On souhaite déplacer la pile sur le second pic en suivant les règles suivantes:\n",
    "\n",
    "* on ne peut déplacer qu'un seul disque à la fois, celui du haut de la pile,\n",
    "* on ne peut poser un disque que sur un disque plus grand.\n",
    "\n",
    "\n",
    "On suppose donc que l'on dispose d'une seule action possible :"
   ]
  },
  {
   "cell_type": "raw",
   "metadata": {},
   "source": [
    "Fonction Déplacer\n",
    "Input : \n",
    "    - le pic de départ\n",
    "    - le pic d'arrivée\n",
    "Processus :\n",
    "    Si départ n'est pas vide:\n",
    "        D <- disque retiré au sommet de départ\n",
    "    Sinon:\n",
    "        Erreur \"Départ est vide\"\n",
    "    Si D < disque au sommet d'arrivée:\n",
    "        Poser D au sommet d'arrivée\n",
    "    Sinon:\n",
    "        Erreur \"Action impossible\""
   ]
  },
  {
   "cell_type": "markdown",
   "metadata": {},
   "source": [
    "En python, on utilisera l'interface suivante :"
   ]
  },
  {
   "cell_type": "code",
   "execution_count": 102,
   "metadata": {
    "collapsed": true
   },
   "outputs": [],
   "source": [
    "class Towers:\n",
    "    \n",
    "    def __init__(self,n):\n",
    "        self.towers = (list(range(n,0,-1)),[],[])\n",
    "        self.size = n\n",
    "    \n",
    "    def move(self,i,j):\n",
    "        t1,t2 = self.towers[i], self.towers[j]\n",
    "        if len(t1) == 0 or (len(t2) != 0 and t1[-1]>t2[-1]):\n",
    "            raise ValueError(\"Invalid action\")\n",
    "        print(\"Move from Tower \" + str(i) + \" to Tower \" + str(j))\n",
    "        t2.append(t1.pop())\n",
    "    \n",
    "    def __repr__(self):\n",
    "        res = \"\"\n",
    "        n = self.size\n",
    "        for i in range(n):\n",
    "            line = \"\"\n",
    "            for t in self.towers:\n",
    "                if len(t) > i:\n",
    "                    v = t[i]\n",
    "                else:\n",
    "                    v = 0\n",
    "                stars = v*\"*\"\n",
    "                spaces = (n-v)*\" \"\n",
    "                line+= spaces + stars + \"|\" + stars + spaces + \" \"\n",
    "            line+=\"\\n\"\n",
    "            res = line + res\n",
    "        return res"
   ]
  },
  {
   "cell_type": "code",
   "execution_count": 77,
   "metadata": {},
   "outputs": [
    {
     "data": {
      "text/plain": [
       "  *|*      |       |    \n",
       " **|**     |       |    \n",
       "***|***    |       |    "
      ]
     },
     "execution_count": 77,
     "metadata": {},
     "output_type": "execute_result"
    }
   ],
   "source": [
    "T = Towers(3)\n",
    "T"
   ]
  },
  {
   "cell_type": "code",
   "execution_count": 78,
   "metadata": {},
   "outputs": [
    {
     "name": "stdout",
     "output_type": "stream",
     "text": [
      "Move from Tower 0 to Tower 1\n"
     ]
    },
    {
     "data": {
      "text/plain": [
       "   |       |       |    \n",
       " **|**     |       |    \n",
       "***|***   *|*      |    "
      ]
     },
     "execution_count": 78,
     "metadata": {},
     "output_type": "execute_result"
    }
   ],
   "source": [
    "T.move(0,1)\n",
    "T"
   ]
  },
  {
   "cell_type": "code",
   "execution_count": 79,
   "metadata": {},
   "outputs": [
    {
     "name": "stdout",
     "output_type": "stream",
     "text": [
      "Move from Tower 0 to Tower 2\n"
     ]
    },
    {
     "data": {
      "text/plain": [
       "   |       |       |    \n",
       "   |       |       |    \n",
       "***|***   *|*    **|**  "
      ]
     },
     "execution_count": 79,
     "metadata": {},
     "output_type": "execute_result"
    }
   ],
   "source": [
    "T.move(0,2)\n",
    "T"
   ]
  },
  {
   "cell_type": "code",
   "execution_count": 80,
   "metadata": {},
   "outputs": [
    {
     "name": "stdout",
     "output_type": "stream",
     "text": [
      "Move from Tower 1 to Tower 2\n"
     ]
    },
    {
     "data": {
      "text/plain": [
       "   |       |       |    \n",
       "   |       |      *|*   \n",
       "***|***    |     **|**  "
      ]
     },
     "execution_count": 80,
     "metadata": {},
     "output_type": "execute_result"
    }
   ],
   "source": [
    "T.move(1,2)\n",
    "T"
   ]
  },
  {
   "cell_type": "code",
   "execution_count": 81,
   "metadata": {},
   "outputs": [
    {
     "name": "stdout",
     "output_type": "stream",
     "text": [
      "Move from Tower 0 to Tower 1\n"
     ]
    },
    {
     "data": {
      "text/plain": [
       "   |       |       |    \n",
       "   |       |      *|*   \n",
       "   |    ***|***  **|**  "
      ]
     },
     "execution_count": 81,
     "metadata": {},
     "output_type": "execute_result"
    }
   ],
   "source": [
    "T.move(0,1)\n",
    "T"
   ]
  },
  {
   "cell_type": "code",
   "execution_count": 82,
   "metadata": {},
   "outputs": [
    {
     "name": "stdout",
     "output_type": "stream",
     "text": [
      "Move from Tower 2 to Tower 0\n"
     ]
    },
    {
     "data": {
      "text/plain": [
       "   |       |       |    \n",
       "   |       |       |    \n",
       "  *|*   ***|***  **|**  "
      ]
     },
     "execution_count": 82,
     "metadata": {},
     "output_type": "execute_result"
    }
   ],
   "source": [
    "T.move(2,0)\n",
    "T"
   ]
  },
  {
   "cell_type": "code",
   "execution_count": 83,
   "metadata": {},
   "outputs": [
    {
     "name": "stdout",
     "output_type": "stream",
     "text": [
      "Move from Tower 2 to Tower 1\n"
     ]
    },
    {
     "data": {
      "text/plain": [
       "   |       |       |    \n",
       "   |     **|**     |    \n",
       "  *|*   ***|***    |    "
      ]
     },
     "execution_count": 83,
     "metadata": {},
     "output_type": "execute_result"
    }
   ],
   "source": [
    "T.move(2,1)\n",
    "T"
   ]
  },
  {
   "cell_type": "code",
   "execution_count": 84,
   "metadata": {},
   "outputs": [
    {
     "name": "stdout",
     "output_type": "stream",
     "text": [
      "Move from Tower 0 to Tower 1\n"
     ]
    },
    {
     "data": {
      "text/plain": [
       "   |      *|*      |    \n",
       "   |     **|**     |    \n",
       "   |    ***|***    |    "
      ]
     },
     "execution_count": 84,
     "metadata": {},
     "output_type": "execute_result"
    }
   ],
   "source": [
    "T.move(0,1)\n",
    "T"
   ]
  },
  {
   "cell_type": "code",
   "execution_count": null,
   "metadata": {
    "collapsed": true
   },
   "outputs": [],
   "source": []
  },
  {
   "cell_type": "code",
   "execution_count": null,
   "metadata": {
    "collapsed": true
   },
   "outputs": [],
   "source": []
  },
  {
   "cell_type": "markdown",
   "metadata": {},
   "source": [
    "**Comment résoudre le problème ?**\n",
    "\n",
    "Pour résoudre un problème de façon récursive, il faut répondre à plusieurs questions :\n",
    "\n",
    "1. Quelle est la taille de mon problème ?\n",
    "2. Quelle est la plus petite taille possible ? (condition d'arrêt)\n",
    "3. Comment résoudre le problème dans ce cas là ? (action d'arrêt)\n",
    "4. Si je suppose que je sais résoudre le problème pour toutes les tailles $k < n$, comment le résoudre pour la taille $n$ ?\n"
   ]
  },
  {
   "cell_type": "code",
   "execution_count": 118,
   "metadata": {
    "collapsed": true
   },
   "outputs": [],
   "source": [
    "@compteAppels\n",
    "def hanoi(T,n,dep, arrivee, inter):\n",
    "    if n == 1:\n",
    "        T.move(dep,arrivee)\n",
    "        print(T)\n",
    "    else:\n",
    "        hanoi(T,n-1,dep,inter,arrivee)\n",
    "        T.move(dep,arrivee)\n",
    "        print(T)\n",
    "        hanoi(T,n-1,inter,arrivee,dep)"
   ]
  },
  {
   "cell_type": "code",
   "execution_count": 119,
   "metadata": {},
   "outputs": [
    {
     "name": "stdout",
     "output_type": "stream",
     "text": [
      "Move from Tower 0 to Tower 1\n",
      "   |       |       |    \n",
      " **|**     |       |    \n",
      "***|***   *|*      |    \n",
      "\n",
      "Move from Tower 0 to Tower 2\n",
      "   |       |       |    \n",
      "   |       |       |    \n",
      "***|***   *|*    **|**  \n",
      "\n",
      "Move from Tower 1 to Tower 2\n",
      "   |       |       |    \n",
      "   |       |      *|*   \n",
      "***|***    |     **|**  \n",
      "\n",
      "Move from Tower 0 to Tower 1\n",
      "   |       |       |    \n",
      "   |       |      *|*   \n",
      "   |    ***|***  **|**  \n",
      "\n",
      "Move from Tower 2 to Tower 0\n",
      "   |       |       |    \n",
      "   |       |       |    \n",
      "  *|*   ***|***  **|**  \n",
      "\n",
      "Move from Tower 2 to Tower 1\n",
      "   |       |       |    \n",
      "   |     **|**     |    \n",
      "  *|*   ***|***    |    \n",
      "\n",
      "Move from Tower 0 to Tower 1\n",
      "   |      *|*      |    \n",
      "   |     **|**     |    \n",
      "   |    ***|***    |    \n",
      "\n",
      "7 appels à la fonction hanoi\n"
     ]
    }
   ],
   "source": [
    "hanoi(Towers(3),3,0,1,2)"
   ]
  },
  {
   "cell_type": "code",
   "execution_count": null,
   "metadata": {
    "collapsed": true
   },
   "outputs": [],
   "source": []
  },
  {
   "cell_type": "code",
   "execution_count": null,
   "metadata": {
    "collapsed": true
   },
   "outputs": [],
   "source": []
  },
  {
   "cell_type": "markdown",
   "metadata": {},
   "source": [
    "## Complexité d'un algorithme récursif\n",
    "\n",
    "### méthode de calcul\n",
    "\n",
    "Reprenons le schéma de base d'un algorithme récursif  que l'on précise légèrement:"
   ]
  },
  {
   "cell_type": "raw",
   "metadata": {},
   "source": [
    "Fonction R\n",
    "Input : des paramètres\n",
    "Processus:\n",
    "    Si les paramètres correspondent à la condition d'arret (cas simple):\n",
    "        Actions cas d'arret\n",
    "    Sinon\n",
    "        Actions itératives et \n",
    "        k Appel(s) récursifs: R(p1), R(p2), ..., R(pk)"
   ]
  },
  {
   "cell_type": "markdown",
   "metadata": {},
   "source": [
    "On veut compter le nombre d'actions de base. Chaque appel de fonction est une action de base. Soit $f$ la complexité de l'algorithme. Pour simplifier l'écriture, on suppose que les paramètres de l'algorithme correspondent à la taille $n$ du problème. La condition d'arrêt est obtenue quand $n=0$ et correspond à une complexité constante $c_0$. On obtient une définition récursive de $f$\n",
    "\n",
    "$\\begin{align}\n",
    "f(0) &= c_0 \\\\\n",
    "f(n) &= g(n) + \\sum_{i=0}^k f(p_i)\n",
    "\\end{align}$\n",
    "\n",
    "où $g$ est la complexité de la partie itérative. La complexité dépend donc du **nombre d'appels récursifs** à chaque étape et de la **taille des paramètres**. Il peut être plus ou moins simple de *développer* la fonction $f$ pour obtenir une formule close (non récursive).\n",
    "\n",
    "### Cas classiques\n",
    "\n",
    "On va regarder quelques cas classiques et compter le nombre d'appels de fonction. Pour cela, on utilise la fonctionnalité suivante (exécuter la cellule)"
   ]
  },
  {
   "cell_type": "code",
   "execution_count": 195,
   "metadata": {
    "collapsed": true
   },
   "outputs": [],
   "source": [
    "import functools\n",
    "\n",
    "COMPTEUR = 0\n",
    "STACK = 0\n",
    "\n",
    "def compteAppels(func):\n",
    "    c = 0\n",
    "    \"\"\"Print the function signature and return value\"\"\"\n",
    "    @functools.wraps(func)\n",
    "    def wrapper_debug(*args, **kwargs):\n",
    "        global COMPTEUR, STACK\n",
    "        COMPTEUR +=1\n",
    "        STACK += 1\n",
    "        value = func(*args, **kwargs)\n",
    "        STACK -=1\n",
    "        if STACK == 0:\n",
    "            print(f\"{COMPTEUR} appels à la fonction {func.__name__}\")\n",
    "            COMPTEUR = 0\n",
    "        return value\n",
    "    return wrapper_debug"
   ]
  },
  {
   "cell_type": "markdown",
   "metadata": {},
   "source": [
    "**Exemple : cas linéaire**\n",
    "\n",
    "On reprend la fonction factorielle vue précédemment."
   ]
  },
  {
   "cell_type": "code",
   "execution_count": 108,
   "metadata": {
    "collapsed": true
   },
   "outputs": [],
   "source": [
    "@compteAppels\n",
    "def factorielle(n):\n",
    "    if n <= 0:\n",
    "        return 1\n",
    "    return n*factorielle(n-1)"
   ]
  },
  {
   "cell_type": "code",
   "execution_count": 110,
   "metadata": {},
   "outputs": [
    {
     "name": "stdout",
     "output_type": "stream",
     "text": [
      "11 appels à la fonction factorielle\n"
     ]
    },
    {
     "data": {
      "text/plain": [
       "3628800"
      ]
     },
     "execution_count": 110,
     "metadata": {},
     "output_type": "execute_result"
    }
   ],
   "source": [
    "factorielle(10)"
   ]
  },
  {
   "cell_type": "markdown",
   "metadata": {},
   "source": [
    "Lorsqu'on appelle `factorielle(n)` on génère $n+1$ appels de fonctions. On est sur le schéma suivant :"
   ]
  },
  {
   "cell_type": "raw",
   "metadata": {},
   "source": [
    "Fonction R\n",
    "Input : un entier n\n",
    "Processus:\n",
    "    Si n=0:\n",
    "        Actions cas d'arret\n",
    "    Sinon\n",
    "        Appel de R(n-1)"
   ]
  },
  {
   "cell_type": "markdown",
   "metadata": {},
   "source": [
    "Dans ce cas, si $f$ est le nombre d'appels, on a \n",
    "\n",
    "$\\begin{align}\n",
    "f(0) &= 1 \\\\\n",
    "f(n) &= 1 + f(n-1)\n",
    "\\end{align}$\n",
    "\n",
    "Lorsqu'on développe, on obtient\n",
    "\n",
    "$\\begin{equation}\n",
    "f(n) = 1 + 1 + 1 + \\dots + 1 = n+1\n",
    "\\end{equation}$\n",
    "\n",
    "$n+1$ fois.\n",
    "\n",
    "Conclusion : la complexité est en $O(n)$."
   ]
  },
  {
   "cell_type": "markdown",
   "metadata": {},
   "source": [
    "**Exemple : cas exponentiel**\n",
    "\n",
    "Reprenons l'exemple des Tours de Hanoï. Combien d'appels de fonctions sont réalisés pour la taille $n$ ?"
   ]
  },
  {
   "cell_type": "code",
   "execution_count": 125,
   "metadata": {
    "collapsed": true
   },
   "outputs": [],
   "source": [
    "@compteAppels\n",
    "def Hanoi(n, T, depart, arrivee, inter):\n",
    "    if n == 0:\n",
    "        return\n",
    "    Hanoi(n-1, T, depart, inter, arrivee)\n",
    "    T.move(depart, arrivee)\n",
    "    Hanoi(n-1, T, inter, arrivee, depart)"
   ]
  },
  {
   "cell_type": "code",
   "execution_count": 126,
   "metadata": {},
   "outputs": [
    {
     "name": "stdout",
     "output_type": "stream",
     "text": [
      "Move from Tower 0 to Tower 1\n",
      "Move from Tower 0 to Tower 2\n",
      "Move from Tower 1 to Tower 2\n",
      "Move from Tower 0 to Tower 1\n",
      "Move from Tower 2 to Tower 0\n",
      "Move from Tower 2 to Tower 1\n",
      "Move from Tower 0 to Tower 1\n",
      "15 appels à la fonction Hanoi\n"
     ]
    },
    {
     "data": {
      "text/plain": [
       "   |      *|*      |    \n",
       "   |     **|**     |    \n",
       "   |    ***|***    |    "
      ]
     },
     "execution_count": 126,
     "metadata": {},
     "output_type": "execute_result"
    }
   ],
   "source": [
    "n = 3\n",
    "T = Towers(n)\n",
    "Hanoi(n,T,0,1,2)\n",
    "T"
   ]
  },
  {
   "cell_type": "markdown",
   "metadata": {},
   "source": [
    "On est sur le schéma suivant :"
   ]
  },
  {
   "cell_type": "raw",
   "metadata": {},
   "source": [
    "Fonction R\n",
    "Input : un entier n\n",
    "Processus:\n",
    "    Si n=0:\n",
    "        Actions cas d'arret\n",
    "    Sinon:\n",
    "        2 appels de R(n-1)"
   ]
  },
  {
   "cell_type": "markdown",
   "metadata": {},
   "source": [
    "Dans ce cas, la complexité est donnée par le nombre d'appels $f$ avec\n",
    "\n",
    "$\\begin{align}\n",
    "f(0) &= 1 \\\\\n",
    "f(n) &= 1 + 2 \\times f(n-1).\n",
    "\\end{align}$\n",
    "\n",
    "Par exemple, pour $n=3$ :\n",
    "\n",
    "$\\begin{align}\n",
    "f(3) &= 1 + 2f(2) = 1 + 2(1 + 2f(1)) = 1 + 2(1 + 2(1 + 2))\\\\\n",
    " &= 15 = 2^4 - 1.\n",
    "\\end{align}$\n",
    "\n",
    "On prouve facilement par récurrence que\n",
    "$\\begin{equation}\n",
    "f(n) = 2^{n+1} - 1.\n",
    "\\end{equation}$\n",
    "\n",
    "En effet, $f(0) = 1 = 2^1 - 1$ et si on suppose la formule vraie pour $n$, on obtient pour $n+1$\n",
    "\n",
    "$f(n+1) = 1 + 2 f(n) = 1 + 2(2^{n+1} -1) = 1 + 2^{n+2} - 2 = 2^{n+2} - 1$\n",
    "\n",
    "On est dans le cas d'une complexité exponentielle en $O(2^n)$."
   ]
  },
  {
   "cell_type": "markdown",
   "metadata": {},
   "source": [
    "**Exemple : cas logarithmique**\n",
    "\n",
    "Reprenons l'exemple de la fonction de recherche dichotomique. Combien d'appels sont réalisés ici ?"
   ]
  },
  {
   "cell_type": "code",
   "execution_count": 128,
   "metadata": {
    "collapsed": true
   },
   "outputs": [],
   "source": [
    "@compteAppels\n",
    "def rechercheDich(T,v,deb, fin):\n",
    "    m = (deb+fin)//2\n",
    "    if deb == fin:\n",
    "        return False\n",
    "    if T[m] == v:\n",
    "        return True\n",
    "    if v < T[m]:\n",
    "        return rechercheDich(T,v,deb,m)\n",
    "    return rechercheDich(T,v,m+1,fin)"
   ]
  },
  {
   "cell_type": "code",
   "execution_count": 146,
   "metadata": {},
   "outputs": [
    {
     "name": "stdout",
     "output_type": "stream",
     "text": [
      "25 appels à la fonction rechercheDich\n"
     ]
    },
    {
     "data": {
      "text/plain": [
       "False"
      ]
     },
     "execution_count": 146,
     "metadata": {},
     "output_type": "execute_result"
    }
   ],
   "source": [
    "n = 10000000\n",
    "T = list(range(n))\n",
    "v = 0.5\n",
    "rechercheDich(T,v,0,n)"
   ]
  },
  {
   "cell_type": "markdown",
   "metadata": {},
   "source": [
    "On est sur le schéma suivant"
   ]
  },
  {
   "cell_type": "raw",
   "metadata": {},
   "source": [
    "Fonction R\n",
    "Input : un entier n\n",
    "Processus:\n",
    "    Si n=0:\n",
    "        Actions cas d'arret\n",
    "    Sinon:\n",
    "        Appel de R(n/2)"
   ]
  },
  {
   "cell_type": "markdown",
   "metadata": {},
   "source": [
    "Dans ce cas, si $f$ est le nombre d'appels, on a\n",
    "\n",
    "$\\begin{align}\n",
    "f(0) &= 1 \\\\\n",
    "f(n) &= 1 + f(\\lfloor n/2 \\rfloor).\n",
    "\\end{align}$\n",
    "\n",
    "Développons sur un exemple :\n",
    "\n",
    "$\\begin{align}\n",
    "f(10) &= 1 + f(5) = 2 + f(2) = 3 + f(1) = 5 \\\\\n",
    "&= \\log(10) + 2.\n",
    "\\end{align}$\n",
    "\n",
    "(on prend le $\\log$ en base 2)\n",
    "\n",
    "On prouve par récurrence\n",
    "$\\begin{equation}\n",
    "f(n) = \\lfloor \\log(n) \\rfloor + 2.\n",
    "\\end{equation}$\n",
    "\n",
    "En effet, \n",
    "\n",
    "$f(1) = 1 + f(0) = 2 = \\log(1) + 2$ \n",
    "\n",
    "En supposant la formule correcte pour toute valeur inférieure stricte à $n$, on obtient\n",
    "\n",
    "$\\begin{align}\n",
    "f(n) &= 1 + f(\\lfloor n/2 \\rfloor) \\\\\n",
    "&= 1 + \\lfloor \\log(\\lfloor  n/2 \\rfloor) \\rfloor + 2\n",
    "\\end{align}$\n",
    "\n",
    "Supposons $n$ pair, si $k = \\lfloor \\log(n/2) \\rfloor$, cela signifie\n",
    "\n",
    "$2^k \\leq \\frac{n}{2} < 2^{k+1}$, c'est à dire\n",
    "\n",
    "$2^{k+1} \\leq n < 2^{k+2}$\n",
    "\n",
    "On peut obtenir une inégalité similaire dans le cas de $n$ impair. Cela signifie que :\n",
    "\n",
    "$\\lfloor \\log(\\lfloor  n/2 \\rfloor) \\rfloor = \\lfloor \\log(n) \\rfloor - 1$ \n",
    "\n",
    "et donc\n",
    "\n",
    "$f(n) = 1 + \\lfloor \\log(n) \\rfloor - 1 + 2 = \\lfloor \\log(n) \\rfloor + 2$\n",
    "\n",
    "On a donc une complexité en $O(log(n))$."
   ]
  },
  {
   "cell_type": "markdown",
   "metadata": {},
   "source": [
    "### Conclusion : calcul de complexité\n",
    "\n",
    "Si l'on simplifie le problème aux cas où la partie itérative de la fonction est en $O(1)$ (comme dans les exemples précédents). La complexité est donnée entièrement par le nombre d'appels récursifs, $f$ on a 3 cas de figures. ($v \\geq 1$ et $k \\geq 2$ sont des constantes qui ne dépendent pas de $n$)\n",
    "\n",
    "$f(n) =  1 + f(n-v) \\rightarrow$ complexité linéaire $O(n)$\n",
    "\n",
    "$f(n) = 1 + k f(n - v) \\rightarrow$ complexité exponentielle $O(k^n)$\n",
    "\n",
    "$f(n) = 1 + f(n/k) \\rightarrow$ complexité logarithmique $O(\\log(n))$ (la constante $k$ agit sur la base dans laquelle on prend le logarithme, ce qui ne change pas la classe de complexité)"
   ]
  },
  {
   "cell_type": "markdown",
   "metadata": {},
   "source": [
    "## Exercices\n",
    "\n",
    "### Exercice 6\n",
    "\n",
    "Dans la fonction suivante du calcul des nombres de Fibonacci, combien d'appels de fonctions sont réalisés pour un $n$ donné ? Quelle est la complexité ?"
   ]
  },
  {
   "cell_type": "code",
   "execution_count": 147,
   "metadata": {
    "collapsed": true
   },
   "outputs": [],
   "source": [
    "@compteAppels\n",
    "def fibo(n):\n",
    "    if n <= 1:\n",
    "        return 1\n",
    "    return fibo(n-1) + fibo(n-2)"
   ]
  },
  {
   "cell_type": "markdown",
   "metadata": {},
   "source": [
    "Le nombre d'appels est donné par\n",
    "\n",
    "$f(0) = f(1) = 1$\n",
    "\n",
    "$f(n) = 1 + f(n-1) + f(n-2)$"
   ]
  },
  {
   "cell_type": "code",
   "execution_count": 166,
   "metadata": {},
   "outputs": [
    {
     "name": "stdout",
     "output_type": "stream",
     "text": [
      "21891 appels à la fonction fibo\n"
     ]
    },
    {
     "data": {
      "text/plain": [
       "10946"
      ]
     },
     "execution_count": 166,
     "metadata": {},
     "output_type": "execute_result"
    }
   ],
   "source": [
    "fibo(20)"
   ]
  },
  {
   "cell_type": "code",
   "execution_count": 160,
   "metadata": {
    "collapsed": true
   },
   "outputs": [],
   "source": [
    "def fiboIteratif(n):\n",
    "    u0 = 1\n",
    "    u1 = 1\n",
    "    for i in range(2,n+1):\n",
    "        u0, u1 = u1, u0 + u1\n",
    "    return u1"
   ]
  },
  {
   "cell_type": "code",
   "execution_count": 161,
   "metadata": {},
   "outputs": [
    {
     "data": {
      "text/plain": [
       "573147844013817084101"
      ]
     },
     "execution_count": 161,
     "metadata": {},
     "output_type": "execute_result"
    }
   ],
   "source": [
    "fiboIteratif(100)"
   ]
  },
  {
   "cell_type": "code",
   "execution_count": null,
   "metadata": {
    "collapsed": true
   },
   "outputs": [],
   "source": []
  },
  {
   "cell_type": "code",
   "execution_count": null,
   "metadata": {
    "collapsed": true
   },
   "outputs": [],
   "source": []
  },
  {
   "cell_type": "markdown",
   "metadata": {},
   "source": [
    "### Exercice 7\n",
    "\n",
    "Il existe deux définitions récursives de la fonction puissance :\n",
    "\n",
    "$\\begin{align*}\n",
    "a^b &= \\begin{cases}\n",
    "1 &\\text{si }b=0 \\\\\n",
    "a \\times a^{b-1} &\\text{sinon}\n",
    "\\end{cases} \\\\\n",
    "a^b &= \\begin{cases}\n",
    "1 &\\text{si }b=0 \\\\\n",
    "a \\times a^{b-1} &\\text{si }b\\text{ est impair} \\\\\n",
    "a^{\\frac{b}{2}}a^{\\frac{b}{2}} &\\text{si }b\\text{ est pair}\n",
    "\\end{cases}\n",
    "\\end{align*}$\n",
    "\n",
    "Pour chacune des définitions, donner l'algorithme récursif correspondant ainsi que sa complexité."
   ]
  },
  {
   "cell_type": "code",
   "execution_count": 193,
   "metadata": {
    "collapsed": true
   },
   "outputs": [],
   "source": [
    "@compteAppels\n",
    "def puissance1(a,b):\n",
    "    if b == 0:\n",
    "        return 1\n",
    "    return a * puissance1(a,b-1)"
   ]
  },
  {
   "cell_type": "code",
   "execution_count": 196,
   "metadata": {},
   "outputs": [
    {
     "name": "stdout",
     "output_type": "stream",
     "text": [
      "101 appels à la fonction puissance1\n"
     ]
    },
    {
     "data": {
      "text/plain": [
       "1267650600228229401496703205376"
      ]
     },
     "execution_count": 196,
     "metadata": {},
     "output_type": "execute_result"
    }
   ],
   "source": [
    "puissance1(2,100)"
   ]
  },
  {
   "cell_type": "code",
   "execution_count": 199,
   "metadata": {
    "collapsed": true
   },
   "outputs": [],
   "source": [
    "@compteAppels\n",
    "def puissance2(a,b):\n",
    "    if b == 0:\n",
    "        return 1\n",
    "    if b%2 == 1:\n",
    "        res = puissance2(a,(b-1)//2)\n",
    "        return a * res * res\n",
    "    res = puissance2(a,b//2)\n",
    "    return res * res\n",
    "    #return puissance2(a,b//2) * puissance2(a,b//2)"
   ]
  },
  {
   "cell_type": "code",
   "execution_count": 200,
   "metadata": {},
   "outputs": [
    {
     "name": "stdout",
     "output_type": "stream",
     "text": [
      "15 appels à la fonction puissance2\n"
     ]
    },
    {
     "data": {
      "text/plain": [
       "19950631168807583848837421626835850838234968318861924548520089498529438830221946631919961684036194597899331129423209124271556491349413781117593785932096323957855730046793794526765246551266059895520550086918193311542508608460618104685509074866089624888090489894838009253941633257850621568309473902556912388065225096643874441046759871626985453222868538161694315775629640762836880760732228535091641476183956381458969463899410840960536267821064621427333394036525565649530603142680234969400335934316651459297773279665775606172582031407994198179607378245683762280037302885487251900834464581454650557929601414833921615734588139257095379769119277800826957735674444123062018757836325502728323789270710373802866393031428133241401624195671690574061419654342324638801248856147305207431992259611796250130992860241708340807605932320161268492288496255841312844061536738951487114256315111089745514203313820202931640957596464756010405845841566072044962867016515061920631004186422275908670900574606417856951911456055068251250406007519842261898059237118054444788072906395242548339221982707404473162376760846613033778706039803413197133493654622700563169937455508241780972810983291314403571877524768509857276937926433221599399876886660808368837838027643282775172273657572744784112294389733810861607423253291974813120197604178281965697475898164531258434135959862784130128185406283476649088690521047580882615823961985770122407044330583075869039319604603404973156583208672105913300903752823415539745394397715257455290510212310947321610753474825740775273986348298498340756937955646638621874569499279016572103701364433135817214311791398222983845847334440270964182851005072927748364550578634501100852987812389473928699540834346158807043959118985815145779177143619698728131459483783202081474982171858011389071228250905826817436220577475921417653715687725614904582904992461028630081535583308130101987675856234343538955409175623400844887526162643568648833519463720377293240094456246923254350400678027273837755376406726898636241037491410966718557050759098100246789880178271925953381282421954028302759408448955014676668389697996886241636313376393903373455801407636741877711055384225739499110186468219696581651485130494222369947714763069155468217682876200362777257723781365331611196811280792669481887201298643660768551639860534602297871557517947385246369446923087894265948217008051120322365496288169035739121368338393591756418733850510970271613915439590991598154654417336311656936031122249937969999226781732358023111862644575299135758175008199839236284615249881088960232244362173771618086357015468484058622329792853875623486556440536962622018963571028812361567512543338303270029097668650568557157505516727518899194129711337690149916181315171544007728650573189557450920330185304847113818315407324053319038462084036421763703911550639789000742853672196280903477974533320468368795868580237952218629120080742819551317948157624448298518461509704888027274721574688131594750409732115080498190455803416826949787141316063210686391511681774304792596709376"
      ]
     },
     "execution_count": 200,
     "metadata": {},
     "output_type": "execute_result"
    }
   ],
   "source": [
    "puissance2(2,10000)"
   ]
  },
  {
   "cell_type": "markdown",
   "metadata": {},
   "source": [
    "## Pour finir : itératif ou récursif ?\n",
    "\n",
    "En terme de complexité, la récursivité ne permet pas par défaut d'obtenir des algorithmes plus efficaces. Quand elle est mal utilisée, elle peut même donner des complexité **plus mauvaise** : exemple de Fibonacci. Par ailleurs, on peut prouver qu'il existe **toujours** une version itérative d'un algorithme récursif : il suffit de déplier la pile !\n",
    "\n",
    "**Qu'en est-il de la complexité mémoire ?** Reprendre l'exemple de la fonction exponentielle en itératif et en récursif. La complexité mémoire de l'algorithme récursif est en $O(n)$ tandis qu'il est en $O(1)$ pour l'itératif.\n",
    "\n",
    "**Alors pourquoi on fait du récursif ?** Sur de nombreux problèmes, les algorithmes récursifs sont beaucoup plus simples à concevoir que les algorithmes itératifs. C'est le cas de l'algorithme des Tour de Hanoi. Ils donnent des codes plus courts et plus lisibles. Par ailleurs, certaines **structure de données** ont elles-mêmes des **définition récursives** et sont particulièrement adaptés aux algorithmes récursifs : les arbres, les graphes, les listes chaînées. "
   ]
  },
  {
   "cell_type": "code",
   "execution_count": null,
   "metadata": {
    "collapsed": true
   },
   "outputs": [],
   "source": []
  }
 ],
 "metadata": {
  "kernelspec": {
   "display_name": "Python 3",
   "language": "python",
   "name": "python3"
  },
  "language_info": {
   "codemirror_mode": {
    "name": "ipython",
    "version": 3
   },
   "file_extension": ".py",
   "mimetype": "text/x-python",
   "name": "python",
   "nbconvert_exporter": "python",
   "pygments_lexer": "ipython3",
   "version": "3.6.7"
  }
 },
 "nbformat": 4,
 "nbformat_minor": 4
}
