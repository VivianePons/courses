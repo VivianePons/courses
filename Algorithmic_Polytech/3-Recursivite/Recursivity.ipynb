{
 "metadata": {
  "name": ""
 },
 "nbformat": 3,
 "nbformat_minor": 0,
 "worksheets": [
  {
   "cells": [
    {
     "cell_type": "heading",
     "level": 2,
     "metadata": {},
     "source": [
      "Factorielle"
     ]
    },
    {
     "cell_type": "code",
     "collapsed": false,
     "input": [
      "def factorielleIt(n):\n",
      "    r = 1\n",
      "    for i in range(1,n+1):\n",
      "        r *=i\n",
      "    return r"
     ],
     "language": "python",
     "metadata": {},
     "outputs": []
    },
    {
     "cell_type": "code",
     "collapsed": false,
     "input": [
      "factorielleIt(5)"
     ],
     "language": "python",
     "metadata": {},
     "outputs": []
    },
    {
     "cell_type": "code",
     "collapsed": false,
     "input": [
      "def factorielleRec(n):\n",
      "    if n == 0:\n",
      "        return 1\n",
      "    return n * factorielleRec(n-1)"
     ],
     "language": "python",
     "metadata": {},
     "outputs": []
    },
    {
     "cell_type": "code",
     "collapsed": false,
     "input": [
      "factorielleRec(5)"
     ],
     "language": "python",
     "metadata": {},
     "outputs": []
    },
    {
     "cell_type": "code",
     "collapsed": false,
     "input": [
      "def factorielleAffichage(n):\n",
      "    print \"D\u00e9but appel \" + str(n)\n",
      "    if n == 0:\n",
      "        print \"Fin appel 0\"\n",
      "        return 1\n",
      "    p = factorielleAffichage(n-1)\n",
      "    print \"Valeurs prec : \" + str(p)\n",
      "    print \"Fin appel \" + str(n)\n",
      "    return n * p"
     ],
     "language": "python",
     "metadata": {},
     "outputs": [],
     "prompt_number": 6
    },
    {
     "cell_type": "code",
     "collapsed": false,
     "input": [
      "factorielleAffichage(3)"
     ],
     "language": "python",
     "metadata": {},
     "outputs": [
      {
       "output_type": "stream",
       "stream": "stdout",
       "text": [
        "D\u00e9but appel 3\n",
        "D\u00e9but appel 2\n",
        "D\u00e9but appel 1\n",
        "D\u00e9but appel 0\n",
        "Fin appel 0\n",
        "Valeurs prec : 1\n",
        "Fin appel 1\n",
        "Valeurs prec : 1\n",
        "Fin appel 2\n",
        "Valeurs prec : 2\n",
        "Fin appel 3\n"
       ]
      },
      {
       "metadata": {},
       "output_type": "pyout",
       "prompt_number": 7,
       "text": [
        "6"
       ]
      }
     ],
     "prompt_number": 7
    },
    {
     "cell_type": "heading",
     "level": 2,
     "metadata": {},
     "source": [
      "Syracuse"
     ]
    },
    {
     "cell_type": "code",
     "collapsed": false,
     "input": [
      "def syr(n):\n",
      "    print n\n",
      "    if n == 1:\n",
      "        return\n",
      "    if n%2==0:\n",
      "        syr(n/2)\n",
      "    else:\n",
      "        syr(3*n+1)"
     ],
     "language": "python",
     "metadata": {},
     "outputs": []
    },
    {
     "cell_type": "code",
     "collapsed": false,
     "input": [
      "syr(5)"
     ],
     "language": "python",
     "metadata": {},
     "outputs": []
    },
    {
     "cell_type": "heading",
     "level": 1,
     "metadata": {},
     "source": [
      "Hanoi"
     ]
    },
    {
     "cell_type": "code",
     "collapsed": false,
     "input": [
      "def print_hanoi_actions(n, t1, t2, t3):\n",
      "    if n == 0:\n",
      "        return\n",
      "    print_hanoi_actions(n-1,t1,t3,t2)\n",
      "    print \"Move from \" + t1 + \" to \" + t2\n",
      "    print_hanoi_actions(n-1,t3,t2,t1)"
     ],
     "language": "python",
     "metadata": {},
     "outputs": []
    },
    {
     "cell_type": "code",
     "collapsed": true,
     "input": [
      "print_hanoi_actions(3,\"Tower 1\",\"Tower 2\",\"Tower 3\")"
     ],
     "language": "python",
     "metadata": {},
     "outputs": []
    },
    {
     "cell_type": "code",
     "collapsed": false,
     "input": [
      "class Towers:\n",
      "    \n",
      "    def __init__(self,n):\n",
      "        self.towers = (range(n,0,-1),[],[])\n",
      "        self.size = n\n",
      "    \n",
      "    def move(self,i,j):\n",
      "        t1,t2 = self.towers[i], self.towers[j]\n",
      "        if len(t1) == 0 or (len(t2) != 0 and t1[-1]>t2[-1]):\n",
      "            raise ValueError(\"Invalid action\")\n",
      "        print \"Move from Tower \" + str(i) + \" to Tower \" + str(j)\n",
      "        t2.append(t1.pop())\n",
      "    \n",
      "    def pretty_print(self):\n",
      "        res = \"\"\n",
      "        n = self.size\n",
      "        for i in xrange(n):\n",
      "            line = \"\"\n",
      "            for t in self.towers:\n",
      "                if len(t) > i:\n",
      "                    v = t[i]\n",
      "                else:\n",
      "                    v = 0\n",
      "                stars = v*\"*\"\n",
      "                spaces = (n-v)*\" \"\n",
      "                line+= spaces + stars + \"|\" + stars + spaces + \" \"\n",
      "            line+=\"\\n\"\n",
      "            res = line + res\n",
      "        return res\n",
      "\n",
      "        \n",
      "    \n",
      "    "
     ],
     "language": "python",
     "metadata": {},
     "outputs": [],
     "prompt_number": 3
    },
    {
     "cell_type": "code",
     "collapsed": false,
     "input": [
      "T = Towers(3)\n",
      "print T.pretty_print()"
     ],
     "language": "python",
     "metadata": {},
     "outputs": [
      {
       "output_type": "stream",
       "stream": "stdout",
       "text": [
        "  *|*      |       |    \n",
        " **|**     |       |    \n",
        "***|***    |       |    \n",
        "\n"
       ]
      }
     ],
     "prompt_number": 16
    },
    {
     "cell_type": "code",
     "collapsed": false,
     "input": [
      "def hanoi(n, T, t1, t2, t3):\n",
      "    print \"D\u00e9but appel \",n,t1,t2\n",
      "    if n == 0:\n",
      "        print \"Fin appel 0\"\n",
      "        return\n",
      "    hanoi(n-1,T,t1,t3,t2)\n",
      "    T.move(t1,t2)\n",
      "    print T.pretty_print()\n",
      "    hanoi(n-1,T,t3,t2,t1)\n",
      "    print \"Fin appel \",n,t1,t2"
     ],
     "language": "python",
     "metadata": {},
     "outputs": [],
     "prompt_number": 4
    },
    {
     "cell_type": "code",
     "collapsed": false,
     "input": [
      "T = Towers(3)\n",
      "print T.pretty_print()\n",
      "hanoi(3,T,0,1,2)"
     ],
     "language": "python",
     "metadata": {},
     "outputs": [
      {
       "output_type": "stream",
       "stream": "stdout",
       "text": [
        "  *|*      |       |    \n",
        " **|**     |       |    \n",
        "***|***    |       |    \n",
        "\n",
        "D\u00e9but appel  3 0 1\n",
        "D\u00e9but appel  2 0 2\n",
        "D\u00e9but appel  1 0 1\n",
        "D\u00e9but appel  0 0 2\n",
        "Fin appel 0\n",
        "Move from Tower 0 to Tower 1\n",
        "   |       |       |    \n",
        " **|**     |       |    \n",
        "***|***   *|*      |    \n",
        "\n",
        "D\u00e9but appel  0 2 1\n",
        "Fin appel 0\n",
        "Fin appel  1 0 1\n",
        "Move from Tower 0 to Tower 2\n",
        "   |       |       |    \n",
        "   |       |       |    \n",
        "***|***   *|*    **|**  \n",
        "\n",
        "D\u00e9but appel  1 1 2\n",
        "D\u00e9but appel  0 1 0\n",
        "Fin appel 0\n",
        "Move from Tower 1 to Tower 2\n",
        "   |       |       |    \n",
        "   |       |      *|*   \n",
        "***|***    |     **|**  \n",
        "\n",
        "D\u00e9but appel  0 0 2\n",
        "Fin appel 0\n",
        "Fin appel  1 1 2\n",
        "Fin appel  2 0 2\n",
        "Move from Tower 0 to Tower 1\n",
        "   |       |       |    \n",
        "   |       |      *|*   \n",
        "   |    ***|***  **|**  \n",
        "\n",
        "D\u00e9but appel  2 2 1\n",
        "D\u00e9but appel  1 2 0\n",
        "D\u00e9but appel  0 2 1\n",
        "Fin appel 0\n",
        "Move from Tower 2 to Tower 0\n",
        "   |       |       |    \n",
        "   |       |       |    \n",
        "  *|*   ***|***  **|**  \n",
        "\n",
        "D\u00e9but appel  0 1 0\n",
        "Fin appel 0\n",
        "Fin appel  1 2 0\n",
        "Move from Tower 2 to Tower 1\n",
        "   |       |       |    \n",
        "   |     **|**     |    \n",
        "  *|*   ***|***    |    \n",
        "\n",
        "D\u00e9but appel  1 0 1\n",
        "D\u00e9but appel  0 0 2\n",
        "Fin appel 0\n",
        "Move from Tower 0 to Tower 1\n",
        "   |      *|*      |    \n",
        "   |     **|**     |    \n",
        "   |    ***|***    |    \n",
        "\n",
        "D\u00e9but appel  0 2 1\n",
        "Fin appel 0\n",
        "Fin appel  1 0 1\n",
        "Fin appel  2 2 1\n",
        "Fin appel  3 0 1\n"
       ]
      }
     ],
     "prompt_number": 5
    },
    {
     "cell_type": "code",
     "collapsed": false,
     "input": [
      "T = Towers(4)\n",
      "print T.pretty_print()\n",
      "hanoi(4,T,0,1,2)"
     ],
     "language": "python",
     "metadata": {},
     "outputs": []
    },
    {
     "cell_type": "code",
     "collapsed": false,
     "input": [],
     "language": "python",
     "metadata": {},
     "outputs": []
    }
   ],
   "metadata": {}
  }
 ]
}