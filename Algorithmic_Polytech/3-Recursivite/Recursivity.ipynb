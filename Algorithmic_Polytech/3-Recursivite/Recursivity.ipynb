{
 "cells": [
  {
   "cell_type": "markdown",
   "metadata": {},
   "source": [
    "## Factorielle"
   ]
  },
  {
   "cell_type": "code",
   "execution_count": 1,
   "metadata": {
    "collapsed": true
   },
   "outputs": [],
   "source": [
    "def factorielleIt(n):\n",
    "    r = 1\n",
    "    for i in range(1,n+1):\n",
    "        r *=i\n",
    "    return r"
   ]
  },
  {
   "cell_type": "code",
   "execution_count": 2,
   "metadata": {},
   "outputs": [
    {
     "data": {
      "text/plain": [
       "40320"
      ]
     },
     "execution_count": 2,
     "metadata": {},
     "output_type": "execute_result"
    }
   ],
   "source": [
    "factorielleIt(8)"
   ]
  },
  {
   "cell_type": "code",
   "execution_count": 15,
   "metadata": {
    "collapsed": true
   },
   "outputs": [],
   "source": [
    "def factorielleRec(n):\n",
    "    if n == 0:\n",
    "        return 1\n",
    "    return n * factorielleRec(n-1)"
   ]
  },
  {
   "cell_type": "code",
   "execution_count": 17,
   "metadata": {},
   "outputs": [
    {
     "data": {
      "text/plain": [
       "6"
      ]
     },
     "execution_count": 17,
     "metadata": {},
     "output_type": "execute_result"
    }
   ],
   "source": [
    "factorielleRec(3)"
   ]
  },
  {
   "cell_type": "code",
   "execution_count": 7,
   "metadata": {
    "collapsed": true
   },
   "outputs": [],
   "source": [
    "def factorielleAffichage(n):\n",
    "    print(\"Début appel \" + str(n))\n",
    "    if n == 0:\n",
    "        print (\"Fin appel 0\")\n",
    "        return 1\n",
    "    p = factorielleAffichage(n-1)\n",
    "    print(\"Valeurs prec : \" + str(p))\n",
    "    print(\"Fin appel \" + str(n))\n",
    "    return n * p"
   ]
  },
  {
   "cell_type": "code",
   "execution_count": 8,
   "metadata": {},
   "outputs": [
    {
     "name": "stdout",
     "output_type": "stream",
     "text": [
      "Début appel 3\n",
      "Début appel 2\n",
      "Début appel 1\n",
      "Début appel 0\n",
      "Fin appel 0\n",
      "Valeurs prec : 1\n",
      "Fin appel 1\n",
      "Valeurs prec : 1\n",
      "Fin appel 2\n",
      "Valeurs prec : 2\n",
      "Fin appel 3\n"
     ]
    },
    {
     "data": {
      "text/plain": [
       "6"
      ]
     },
     "execution_count": 8,
     "metadata": {},
     "output_type": "execute_result"
    }
   ],
   "source": [
    "factorielleAffichage(3)"
   ]
  },
  {
   "cell_type": "markdown",
   "metadata": {},
   "source": [
    "## Syracuse"
   ]
  },
  {
   "cell_type": "code",
   "execution_count": 9,
   "metadata": {
    "collapsed": true
   },
   "outputs": [],
   "source": [
    "def syr(n):\n",
    "    print(n)\n",
    "    if n == 1:\n",
    "        return\n",
    "    if n%2==0:\n",
    "        syr(n//2)\n",
    "    else:\n",
    "        syr(3*n+1)"
   ]
  },
  {
   "cell_type": "code",
   "execution_count": 10,
   "metadata": {},
   "outputs": [
    {
     "name": "stdout",
     "output_type": "stream",
     "text": [
      "5\n",
      "16\n",
      "8\n",
      "4\n",
      "2\n",
      "1\n"
     ]
    }
   ],
   "source": [
    "syr(5)"
   ]
  },
  {
   "cell_type": "markdown",
   "metadata": {},
   "source": [
    "# Hanoi"
   ]
  },
  {
   "cell_type": "code",
   "execution_count": 1,
   "metadata": {
    "collapsed": true
   },
   "outputs": [],
   "source": [
    "def print_hanoi_actions(n, t1, t2, t3):\n",
    "    if n == 0:\n",
    "        return\n",
    "    print_hanoi_actions(n-1,t1,t3,t2)\n",
    "    print(\"Move from \" + t1 + \" to \" + t2)\n",
    "    print_hanoi_actions(n-1,t3,t2,t1)"
   ]
  },
  {
   "cell_type": "code",
   "execution_count": 3,
   "metadata": {},
   "outputs": [
    {
     "name": "stdout",
     "output_type": "stream",
     "text": [
      "Move from Tower 1 to Tower 3\n",
      "Move from Tower 1 to Tower 2\n",
      "Move from Tower 3 to Tower 2\n",
      "Move from Tower 1 to Tower 3\n",
      "Move from Tower 2 to Tower 1\n",
      "Move from Tower 2 to Tower 3\n",
      "Move from Tower 1 to Tower 3\n",
      "Move from Tower 1 to Tower 2\n",
      "Move from Tower 3 to Tower 2\n",
      "Move from Tower 3 to Tower 1\n",
      "Move from Tower 2 to Tower 1\n",
      "Move from Tower 3 to Tower 2\n",
      "Move from Tower 1 to Tower 3\n",
      "Move from Tower 1 to Tower 2\n",
      "Move from Tower 3 to Tower 2\n",
      "Move from Tower 1 to Tower 3\n",
      "Move from Tower 2 to Tower 1\n",
      "Move from Tower 2 to Tower 3\n",
      "Move from Tower 1 to Tower 3\n",
      "Move from Tower 2 to Tower 1\n",
      "Move from Tower 3 to Tower 2\n",
      "Move from Tower 3 to Tower 1\n",
      "Move from Tower 2 to Tower 1\n",
      "Move from Tower 2 to Tower 3\n",
      "Move from Tower 1 to Tower 3\n",
      "Move from Tower 1 to Tower 2\n",
      "Move from Tower 3 to Tower 2\n",
      "Move from Tower 1 to Tower 3\n",
      "Move from Tower 2 to Tower 1\n",
      "Move from Tower 2 to Tower 3\n",
      "Move from Tower 1 to Tower 3\n",
      "Move from Tower 1 to Tower 2\n",
      "Move from Tower 3 to Tower 2\n",
      "Move from Tower 3 to Tower 1\n",
      "Move from Tower 2 to Tower 1\n",
      "Move from Tower 3 to Tower 2\n",
      "Move from Tower 1 to Tower 3\n",
      "Move from Tower 1 to Tower 2\n",
      "Move from Tower 3 to Tower 2\n",
      "Move from Tower 3 to Tower 1\n",
      "Move from Tower 2 to Tower 1\n",
      "Move from Tower 2 to Tower 3\n",
      "Move from Tower 1 to Tower 3\n",
      "Move from Tower 2 to Tower 1\n",
      "Move from Tower 3 to Tower 2\n",
      "Move from Tower 3 to Tower 1\n",
      "Move from Tower 2 to Tower 1\n",
      "Move from Tower 3 to Tower 2\n",
      "Move from Tower 1 to Tower 3\n",
      "Move from Tower 1 to Tower 2\n",
      "Move from Tower 3 to Tower 2\n",
      "Move from Tower 1 to Tower 3\n",
      "Move from Tower 2 to Tower 1\n",
      "Move from Tower 2 to Tower 3\n",
      "Move from Tower 1 to Tower 3\n",
      "Move from Tower 1 to Tower 2\n",
      "Move from Tower 3 to Tower 2\n",
      "Move from Tower 3 to Tower 1\n",
      "Move from Tower 2 to Tower 1\n",
      "Move from Tower 3 to Tower 2\n",
      "Move from Tower 1 to Tower 3\n",
      "Move from Tower 1 to Tower 2\n",
      "Move from Tower 3 to Tower 2\n",
      "Move from Tower 1 to Tower 3\n",
      "Move from Tower 2 to Tower 1\n",
      "Move from Tower 2 to Tower 3\n",
      "Move from Tower 1 to Tower 3\n",
      "Move from Tower 2 to Tower 1\n",
      "Move from Tower 3 to Tower 2\n",
      "Move from Tower 3 to Tower 1\n",
      "Move from Tower 2 to Tower 1\n",
      "Move from Tower 2 to Tower 3\n",
      "Move from Tower 1 to Tower 3\n",
      "Move from Tower 1 to Tower 2\n",
      "Move from Tower 3 to Tower 2\n",
      "Move from Tower 1 to Tower 3\n",
      "Move from Tower 2 to Tower 1\n",
      "Move from Tower 2 to Tower 3\n",
      "Move from Tower 1 to Tower 3\n",
      "Move from Tower 2 to Tower 1\n",
      "Move from Tower 3 to Tower 2\n",
      "Move from Tower 3 to Tower 1\n",
      "Move from Tower 2 to Tower 1\n",
      "Move from Tower 3 to Tower 2\n",
      "Move from Tower 1 to Tower 3\n",
      "Move from Tower 1 to Tower 2\n",
      "Move from Tower 3 to Tower 2\n",
      "Move from Tower 3 to Tower 1\n",
      "Move from Tower 2 to Tower 1\n",
      "Move from Tower 2 to Tower 3\n",
      "Move from Tower 1 to Tower 3\n",
      "Move from Tower 2 to Tower 1\n",
      "Move from Tower 3 to Tower 2\n",
      "Move from Tower 3 to Tower 1\n",
      "Move from Tower 2 to Tower 1\n",
      "Move from Tower 2 to Tower 3\n",
      "Move from Tower 1 to Tower 3\n",
      "Move from Tower 1 to Tower 2\n",
      "Move from Tower 3 to Tower 2\n",
      "Move from Tower 1 to Tower 3\n",
      "Move from Tower 2 to Tower 1\n",
      "Move from Tower 2 to Tower 3\n",
      "Move from Tower 1 to Tower 3\n",
      "Move from Tower 1 to Tower 2\n",
      "Move from Tower 3 to Tower 2\n",
      "Move from Tower 3 to Tower 1\n",
      "Move from Tower 2 to Tower 1\n",
      "Move from Tower 3 to Tower 2\n",
      "Move from Tower 1 to Tower 3\n",
      "Move from Tower 1 to Tower 2\n",
      "Move from Tower 3 to Tower 2\n",
      "Move from Tower 1 to Tower 3\n",
      "Move from Tower 2 to Tower 1\n",
      "Move from Tower 2 to Tower 3\n",
      "Move from Tower 1 to Tower 3\n",
      "Move from Tower 2 to Tower 1\n",
      "Move from Tower 3 to Tower 2\n",
      "Move from Tower 3 to Tower 1\n",
      "Move from Tower 2 to Tower 1\n",
      "Move from Tower 2 to Tower 3\n",
      "Move from Tower 1 to Tower 3\n",
      "Move from Tower 1 to Tower 2\n",
      "Move from Tower 3 to Tower 2\n",
      "Move from Tower 1 to Tower 3\n",
      "Move from Tower 2 to Tower 1\n",
      "Move from Tower 2 to Tower 3\n",
      "Move from Tower 1 to Tower 3\n",
      "Move from Tower 1 to Tower 2\n",
      "Move from Tower 3 to Tower 2\n",
      "Move from Tower 3 to Tower 1\n",
      "Move from Tower 2 to Tower 1\n",
      "Move from Tower 3 to Tower 2\n",
      "Move from Tower 1 to Tower 3\n",
      "Move from Tower 1 to Tower 2\n",
      "Move from Tower 3 to Tower 2\n",
      "Move from Tower 3 to Tower 1\n",
      "Move from Tower 2 to Tower 1\n",
      "Move from Tower 2 to Tower 3\n",
      "Move from Tower 1 to Tower 3\n",
      "Move from Tower 2 to Tower 1\n",
      "Move from Tower 3 to Tower 2\n",
      "Move from Tower 3 to Tower 1\n",
      "Move from Tower 2 to Tower 1\n",
      "Move from Tower 3 to Tower 2\n",
      "Move from Tower 1 to Tower 3\n",
      "Move from Tower 1 to Tower 2\n",
      "Move from Tower 3 to Tower 2\n",
      "Move from Tower 1 to Tower 3\n",
      "Move from Tower 2 to Tower 1\n",
      "Move from Tower 2 to Tower 3\n",
      "Move from Tower 1 to Tower 3\n",
      "Move from Tower 1 to Tower 2\n",
      "Move from Tower 3 to Tower 2\n",
      "Move from Tower 3 to Tower 1\n",
      "Move from Tower 2 to Tower 1\n",
      "Move from Tower 3 to Tower 2\n",
      "Move from Tower 1 to Tower 3\n",
      "Move from Tower 1 to Tower 2\n",
      "Move from Tower 3 to Tower 2\n",
      "Move from Tower 3 to Tower 1\n",
      "Move from Tower 2 to Tower 1\n",
      "Move from Tower 2 to Tower 3\n",
      "Move from Tower 1 to Tower 3\n",
      "Move from Tower 2 to Tower 1\n",
      "Move from Tower 3 to Tower 2\n",
      "Move from Tower 3 to Tower 1\n",
      "Move from Tower 2 to Tower 1\n",
      "Move from Tower 2 to Tower 3\n",
      "Move from Tower 1 to Tower 3\n",
      "Move from Tower 1 to Tower 2\n",
      "Move from Tower 3 to Tower 2\n",
      "Move from Tower 1 to Tower 3\n",
      "Move from Tower 2 to Tower 1\n",
      "Move from Tower 2 to Tower 3\n",
      "Move from Tower 1 to Tower 3\n",
      "Move from Tower 2 to Tower 1\n",
      "Move from Tower 3 to Tower 2\n",
      "Move from Tower 3 to Tower 1\n",
      "Move from Tower 2 to Tower 1\n",
      "Move from Tower 3 to Tower 2\n",
      "Move from Tower 1 to Tower 3\n",
      "Move from Tower 1 to Tower 2\n",
      "Move from Tower 3 to Tower 2\n",
      "Move from Tower 3 to Tower 1\n",
      "Move from Tower 2 to Tower 1\n",
      "Move from Tower 2 to Tower 3\n",
      "Move from Tower 1 to Tower 3\n",
      "Move from Tower 2 to Tower 1\n",
      "Move from Tower 3 to Tower 2\n",
      "Move from Tower 3 to Tower 1\n",
      "Move from Tower 2 to Tower 1\n",
      "Move from Tower 3 to Tower 2\n",
      "Move from Tower 1 to Tower 3\n",
      "Move from Tower 1 to Tower 2\n",
      "Move from Tower 3 to Tower 2\n",
      "Move from Tower 1 to Tower 3\n",
      "Move from Tower 2 to Tower 1\n",
      "Move from Tower 2 to Tower 3\n",
      "Move from Tower 1 to Tower 3\n",
      "Move from Tower 1 to Tower 2\n",
      "Move from Tower 3 to Tower 2\n",
      "Move from Tower 3 to Tower 1\n",
      "Move from Tower 2 to Tower 1\n",
      "Move from Tower 3 to Tower 2\n",
      "Move from Tower 1 to Tower 3\n",
      "Move from Tower 1 to Tower 2\n",
      "Move from Tower 3 to Tower 2\n",
      "Move from Tower 1 to Tower 3\n",
      "Move from Tower 2 to Tower 1\n",
      "Move from Tower 2 to Tower 3\n",
      "Move from Tower 1 to Tower 3\n",
      "Move from Tower 2 to Tower 1\n",
      "Move from Tower 3 to Tower 2\n",
      "Move from Tower 3 to Tower 1\n",
      "Move from Tower 2 to Tower 1\n",
      "Move from Tower 2 to Tower 3\n",
      "Move from Tower 1 to Tower 3\n",
      "Move from Tower 1 to Tower 2\n",
      "Move from Tower 3 to Tower 2\n",
      "Move from Tower 1 to Tower 3\n",
      "Move from Tower 2 to Tower 1\n",
      "Move from Tower 2 to Tower 3\n",
      "Move from Tower 1 to Tower 3\n",
      "Move from Tower 1 to Tower 2\n",
      "Move from Tower 3 to Tower 2\n",
      "Move from Tower 3 to Tower 1\n",
      "Move from Tower 2 to Tower 1\n",
      "Move from Tower 3 to Tower 2\n",
      "Move from Tower 1 to Tower 3\n",
      "Move from Tower 1 to Tower 2\n",
      "Move from Tower 3 to Tower 2\n",
      "Move from Tower 3 to Tower 1\n",
      "Move from Tower 2 to Tower 1\n",
      "Move from Tower 2 to Tower 3\n",
      "Move from Tower 1 to Tower 3\n",
      "Move from Tower 2 to Tower 1\n",
      "Move from Tower 3 to Tower 2\n",
      "Move from Tower 3 to Tower 1\n",
      "Move from Tower 2 to Tower 1\n",
      "Move from Tower 3 to Tower 2\n",
      "Move from Tower 1 to Tower 3\n",
      "Move from Tower 1 to Tower 2\n",
      "Move from Tower 3 to Tower 2\n",
      "Move from Tower 1 to Tower 3\n",
      "Move from Tower 2 to Tower 1\n",
      "Move from Tower 2 to Tower 3\n",
      "Move from Tower 1 to Tower 3\n",
      "Move from Tower 1 to Tower 2\n",
      "Move from Tower 3 to Tower 2\n",
      "Move from Tower 3 to Tower 1\n",
      "Move from Tower 2 to Tower 1\n",
      "Move from Tower 3 to Tower 2\n",
      "Move from Tower 1 to Tower 3\n",
      "Move from Tower 1 to Tower 2\n",
      "Move from Tower 3 to Tower 2\n"
     ]
    }
   ],
   "source": [
    "print_hanoi_actions(8,\"Tower 1\",\"Tower 2\",\"Tower 3\")"
   ]
  },
  {
   "cell_type": "code",
   "execution_count": 7,
   "metadata": {
    "collapsed": true
   },
   "outputs": [],
   "source": [
    "class Towers:\n",
    "    \n",
    "    def __init__(self,n):\n",
    "        self.towers = (list(range(n,0,-1)),[],[])\n",
    "        self.size = n\n",
    "    \n",
    "    def move(self,i,j):\n",
    "        t1,t2 = self.towers[i], self.towers[j]\n",
    "        if len(t1) == 0 or (len(t2) != 0 and t1[-1]>t2[-1]):\n",
    "            raise ValueError(\"Invalid action\")\n",
    "        print(\"Move from Tower \" + str(i) + \" to Tower \" + str(j))\n",
    "        t2.append(t1.pop())\n",
    "    \n",
    "    def pretty_print(self):\n",
    "        res = \"\"\n",
    "        n = self.size\n",
    "        for i in range(n):\n",
    "            line = \"\"\n",
    "            for t in self.towers:\n",
    "                if len(t) > i:\n",
    "                    v = t[i]\n",
    "                else:\n",
    "                    v = 0\n",
    "                stars = v*\"*\"\n",
    "                spaces = (n-v)*\" \"\n",
    "                line+= spaces + stars + \"|\" + stars + spaces + \" \"\n",
    "            line+=\"\\n\"\n",
    "            res = line + res\n",
    "        return res\n",
    "\n",
    "        \n",
    "    \n",
    "    "
   ]
  },
  {
   "cell_type": "code",
   "execution_count": 8,
   "metadata": {},
   "outputs": [
    {
     "name": "stdout",
     "output_type": "stream",
     "text": [
      "  *|*      |       |    \n",
      " **|**     |       |    \n",
      "***|***    |       |    \n",
      "\n"
     ]
    }
   ],
   "source": [
    "T = Towers(3)\n",
    "print(T.pretty_print())"
   ]
  },
  {
   "cell_type": "code",
   "execution_count": 9,
   "metadata": {},
   "outputs": [
    {
     "name": "stdout",
     "output_type": "stream",
     "text": [
      "Move from Tower 0 to Tower 1\n",
      "   |       |       |    \n",
      " **|**     |       |    \n",
      "***|***   *|*      |    \n",
      "\n"
     ]
    }
   ],
   "source": [
    "T.move(0,1)\n",
    "print(T.pretty_print())"
   ]
  },
  {
   "cell_type": "code",
   "execution_count": 10,
   "metadata": {},
   "outputs": [
    {
     "ename": "ValueError",
     "evalue": "Invalid action",
     "output_type": "error",
     "traceback": [
      "\u001b[0;31m---------------------------------------------------------------------------\u001b[0m",
      "\u001b[0;31mValueError\u001b[0m                                Traceback (most recent call last)",
      "\u001b[0;32m<ipython-input-10-da85fce834b3>\u001b[0m in \u001b[0;36m<module>\u001b[0;34m()\u001b[0m\n\u001b[0;32m----> 1\u001b[0;31m \u001b[0mT\u001b[0m\u001b[0;34m.\u001b[0m\u001b[0mmove\u001b[0m\u001b[0;34m(\u001b[0m\u001b[0;36m0\u001b[0m\u001b[0;34m,\u001b[0m\u001b[0;36m1\u001b[0m\u001b[0;34m)\u001b[0m\u001b[0;34m\u001b[0m\u001b[0m\n\u001b[0m\u001b[1;32m      2\u001b[0m \u001b[0mprint\u001b[0m\u001b[0;34m(\u001b[0m\u001b[0mT\u001b[0m\u001b[0;34m.\u001b[0m\u001b[0mpretty_print\u001b[0m\u001b[0;34m(\u001b[0m\u001b[0;34m)\u001b[0m\u001b[0;34m)\u001b[0m\u001b[0;34m\u001b[0m\u001b[0m\n",
      "\u001b[0;32m<ipython-input-7-62008b693a3b>\u001b[0m in \u001b[0;36mmove\u001b[0;34m(self, i, j)\u001b[0m\n\u001b[1;32m      8\u001b[0m         \u001b[0mt1\u001b[0m\u001b[0;34m,\u001b[0m\u001b[0mt2\u001b[0m \u001b[0;34m=\u001b[0m \u001b[0mself\u001b[0m\u001b[0;34m.\u001b[0m\u001b[0mtowers\u001b[0m\u001b[0;34m[\u001b[0m\u001b[0mi\u001b[0m\u001b[0;34m]\u001b[0m\u001b[0;34m,\u001b[0m \u001b[0mself\u001b[0m\u001b[0;34m.\u001b[0m\u001b[0mtowers\u001b[0m\u001b[0;34m[\u001b[0m\u001b[0mj\u001b[0m\u001b[0;34m]\u001b[0m\u001b[0;34m\u001b[0m\u001b[0m\n\u001b[1;32m      9\u001b[0m         \u001b[0;32mif\u001b[0m \u001b[0mlen\u001b[0m\u001b[0;34m(\u001b[0m\u001b[0mt1\u001b[0m\u001b[0;34m)\u001b[0m \u001b[0;34m==\u001b[0m \u001b[0;36m0\u001b[0m \u001b[0;32mor\u001b[0m \u001b[0;34m(\u001b[0m\u001b[0mlen\u001b[0m\u001b[0;34m(\u001b[0m\u001b[0mt2\u001b[0m\u001b[0;34m)\u001b[0m \u001b[0;34m!=\u001b[0m \u001b[0;36m0\u001b[0m \u001b[0;32mand\u001b[0m \u001b[0mt1\u001b[0m\u001b[0;34m[\u001b[0m\u001b[0;34m-\u001b[0m\u001b[0;36m1\u001b[0m\u001b[0;34m]\u001b[0m\u001b[0;34m>\u001b[0m\u001b[0mt2\u001b[0m\u001b[0;34m[\u001b[0m\u001b[0;34m-\u001b[0m\u001b[0;36m1\u001b[0m\u001b[0;34m]\u001b[0m\u001b[0;34m)\u001b[0m\u001b[0;34m:\u001b[0m\u001b[0;34m\u001b[0m\u001b[0m\n\u001b[0;32m---> 10\u001b[0;31m             \u001b[0;32mraise\u001b[0m \u001b[0mValueError\u001b[0m\u001b[0;34m(\u001b[0m\u001b[0;34m\"Invalid action\"\u001b[0m\u001b[0;34m)\u001b[0m\u001b[0;34m\u001b[0m\u001b[0m\n\u001b[0m\u001b[1;32m     11\u001b[0m         \u001b[0mprint\u001b[0m\u001b[0;34m(\u001b[0m\u001b[0;34m\"Move from Tower \"\u001b[0m \u001b[0;34m+\u001b[0m \u001b[0mstr\u001b[0m\u001b[0;34m(\u001b[0m\u001b[0mi\u001b[0m\u001b[0;34m)\u001b[0m \u001b[0;34m+\u001b[0m \u001b[0;34m\" to Tower \"\u001b[0m \u001b[0;34m+\u001b[0m \u001b[0mstr\u001b[0m\u001b[0;34m(\u001b[0m\u001b[0mj\u001b[0m\u001b[0;34m)\u001b[0m\u001b[0;34m)\u001b[0m\u001b[0;34m\u001b[0m\u001b[0m\n\u001b[1;32m     12\u001b[0m         \u001b[0mt2\u001b[0m\u001b[0;34m.\u001b[0m\u001b[0mappend\u001b[0m\u001b[0;34m(\u001b[0m\u001b[0mt1\u001b[0m\u001b[0;34m.\u001b[0m\u001b[0mpop\u001b[0m\u001b[0;34m(\u001b[0m\u001b[0;34m)\u001b[0m\u001b[0;34m)\u001b[0m\u001b[0;34m\u001b[0m\u001b[0m\n",
      "\u001b[0;31mValueError\u001b[0m: Invalid action"
     ]
    }
   ],
   "source": [
    "T.move(0,1)\n",
    "print(T.pretty_print())"
   ]
  },
  {
   "cell_type": "code",
   "execution_count": 11,
   "metadata": {
    "collapsed": true
   },
   "outputs": [],
   "source": [
    "def hanoi(n, T, t1, t2, t3):\n",
    "    print(\"Debut appel \",n,t1,t2)\n",
    "    if n == 0:\n",
    "        print(\"Fin appel 0\")\n",
    "        return\n",
    "    hanoi(n-1,T,t1,t3,t2)\n",
    "    T.move(t1,t2)\n",
    "    print(T.pretty_print())\n",
    "    hanoi(n-1,T,t3,t2,t1)\n",
    "    print(\"Fin appel \",n,t1,t2)"
   ]
  },
  {
   "cell_type": "code",
   "execution_count": 12,
   "metadata": {},
   "outputs": [
    {
     "name": "stdout",
     "output_type": "stream",
     "text": [
      "   *|*        |         |     \n",
      "  **|**       |         |     \n",
      " ***|***      |         |     \n",
      "****|****     |         |     \n",
      "\n",
      "Debut appel  4 0 1\n",
      "Debut appel  3 0 2\n",
      "Debut appel  2 0 1\n",
      "Debut appel  1 0 2\n",
      "Debut appel  0 0 1\n",
      "Fin appel 0\n",
      "Move from Tower 0 to Tower 2\n",
      "    |         |         |     \n",
      "  **|**       |         |     \n",
      " ***|***      |         |     \n",
      "****|****     |        *|*    \n",
      "\n",
      "Debut appel  0 1 2\n",
      "Fin appel 0\n",
      "Fin appel  1 0 2\n",
      "Move from Tower 0 to Tower 1\n",
      "    |         |         |     \n",
      "    |         |         |     \n",
      " ***|***      |         |     \n",
      "****|****   **|**      *|*    \n",
      "\n",
      "Debut appel  1 2 1\n",
      "Debut appel  0 2 0\n",
      "Fin appel 0\n",
      "Move from Tower 2 to Tower 1\n",
      "    |         |         |     \n",
      "    |         |         |     \n",
      " ***|***     *|*        |     \n",
      "****|****   **|**       |     \n",
      "\n",
      "Debut appel  0 0 1\n",
      "Fin appel 0\n",
      "Fin appel  1 2 1\n",
      "Fin appel  2 0 1\n",
      "Move from Tower 0 to Tower 2\n",
      "    |         |         |     \n",
      "    |         |         |     \n",
      "    |        *|*        |     \n",
      "****|****   **|**    ***|***  \n",
      "\n",
      "Debut appel  2 1 2\n",
      "Debut appel  1 1 0\n",
      "Debut appel  0 1 2\n",
      "Fin appel 0\n",
      "Move from Tower 1 to Tower 0\n",
      "    |         |         |     \n",
      "    |         |         |     \n",
      "   *|*        |         |     \n",
      "****|****   **|**    ***|***  \n",
      "\n",
      "Debut appel  0 2 0\n",
      "Fin appel 0\n",
      "Fin appel  1 1 0\n",
      "Move from Tower 1 to Tower 2\n",
      "    |         |         |     \n",
      "    |         |         |     \n",
      "   *|*        |       **|**   \n",
      "****|****     |      ***|***  \n",
      "\n",
      "Debut appel  1 0 2\n",
      "Debut appel  0 0 1\n",
      "Fin appel 0\n",
      "Move from Tower 0 to Tower 2\n",
      "    |         |         |     \n",
      "    |         |        *|*    \n",
      "    |         |       **|**   \n",
      "****|****     |      ***|***  \n",
      "\n",
      "Debut appel  0 1 2\n",
      "Fin appel 0\n",
      "Fin appel  1 0 2\n",
      "Fin appel  2 1 2\n",
      "Fin appel  3 0 2\n",
      "Move from Tower 0 to Tower 1\n",
      "    |         |         |     \n",
      "    |         |        *|*    \n",
      "    |         |       **|**   \n",
      "    |     ****|****  ***|***  \n",
      "\n",
      "Debut appel  3 2 1\n",
      "Debut appel  2 2 0\n",
      "Debut appel  1 2 1\n",
      "Debut appel  0 2 0\n",
      "Fin appel 0\n",
      "Move from Tower 2 to Tower 1\n",
      "    |         |         |     \n",
      "    |         |         |     \n",
      "    |        *|*      **|**   \n",
      "    |     ****|****  ***|***  \n",
      "\n",
      "Debut appel  0 0 1\n",
      "Fin appel 0\n",
      "Fin appel  1 2 1\n",
      "Move from Tower 2 to Tower 0\n",
      "    |         |         |     \n",
      "    |         |         |     \n",
      "    |        *|*        |     \n",
      "  **|**   ****|****  ***|***  \n",
      "\n",
      "Debut appel  1 1 0\n",
      "Debut appel  0 1 2\n",
      "Fin appel 0\n",
      "Move from Tower 1 to Tower 0\n",
      "    |         |         |     \n",
      "    |         |         |     \n",
      "   *|*        |         |     \n",
      "  **|**   ****|****  ***|***  \n",
      "\n",
      "Debut appel  0 2 0\n",
      "Fin appel 0\n",
      "Fin appel  1 1 0\n",
      "Fin appel  2 2 0\n",
      "Move from Tower 2 to Tower 1\n",
      "    |         |         |     \n",
      "    |         |         |     \n",
      "   *|*     ***|***      |     \n",
      "  **|**   ****|****     |     \n",
      "\n",
      "Debut appel  2 0 1\n",
      "Debut appel  1 0 2\n",
      "Debut appel  0 0 1\n",
      "Fin appel 0\n",
      "Move from Tower 0 to Tower 2\n",
      "    |         |         |     \n",
      "    |         |         |     \n",
      "    |      ***|***      |     \n",
      "  **|**   ****|****    *|*    \n",
      "\n",
      "Debut appel  0 1 2\n",
      "Fin appel 0\n",
      "Fin appel  1 0 2\n",
      "Move from Tower 0 to Tower 1\n",
      "    |         |         |     \n",
      "    |       **|**       |     \n",
      "    |      ***|***      |     \n",
      "    |     ****|****    *|*    \n",
      "\n",
      "Debut appel  1 2 1\n",
      "Debut appel  0 2 0\n",
      "Fin appel 0\n",
      "Move from Tower 2 to Tower 1\n",
      "    |        *|*        |     \n",
      "    |       **|**       |     \n",
      "    |      ***|***      |     \n",
      "    |     ****|****     |     \n",
      "\n",
      "Debut appel  0 0 1\n",
      "Fin appel 0\n",
      "Fin appel  1 2 1\n",
      "Fin appel  2 0 1\n",
      "Fin appel  3 2 1\n",
      "Fin appel  4 0 1\n"
     ]
    }
   ],
   "source": [
    "n = 4\n",
    "T = Towers(n)\n",
    "print(T.pretty_print())\n",
    "hanoi(n,T,0,1,2)"
   ]
  },
  {
   "cell_type": "code",
   "execution_count": null,
   "metadata": {
    "collapsed": true
   },
   "outputs": [],
   "source": [
    "T = Towers(4)\n",
    "print T.pretty_print()\n",
    "hanoi(4,T,0,1,2)"
   ]
  },
  {
   "cell_type": "markdown",
   "metadata": {},
   "source": [
    "# TD"
   ]
  },
  {
   "cell_type": "markdown",
   "metadata": {},
   "source": [
    "## Exercice 1"
   ]
  },
  {
   "cell_type": "code",
   "execution_count": 42,
   "metadata": {
    "collapsed": true
   },
   "outputs": [],
   "source": [
    "def affiche(n,i):\n",
    "    if n == i:\n",
    "        print(n)\n",
    "        print(\"*\")\n",
    "    else:\n",
    "        print(i)\n",
    "        affiche(n,i+1)\n",
    "        \n",
    "        \n",
    "        \n",
    "    \n",
    "    "
   ]
  },
  {
   "cell_type": "code",
   "execution_count": 43,
   "metadata": {},
   "outputs": [
    {
     "name": "stdout",
     "output_type": "stream",
     "text": [
      "1\n",
      "2\n",
      "3\n",
      "4\n",
      "5\n",
      "*\n"
     ]
    }
   ],
   "source": [
    "affiche(5,1)"
   ]
  },
  {
   "cell_type": "markdown",
   "metadata": {},
   "source": [
    "## Exercice 2"
   ]
  },
  {
   "cell_type": "code",
   "execution_count": 71,
   "metadata": {
    "collapsed": true
   },
   "outputs": [],
   "source": [
    "def f1(n):\n",
    "    if n==0:\n",
    "        return 1\n",
    "    return f1(n+1)"
   ]
  },
  {
   "cell_type": "code",
   "execution_count": 66,
   "metadata": {
    "collapsed": true
   },
   "outputs": [],
   "source": [
    "def f2(n):\n",
    "    if n==0:\n",
    "        return 0\n",
    "    return f2(n-1) + n"
   ]
  },
  {
   "cell_type": "code",
   "execution_count": 67,
   "metadata": {
    "collapsed": true
   },
   "outputs": [],
   "source": [
    "def f3(n):\n",
    "    if n==0:\n",
    "        return 0\n",
    "    return f3(n-1) - n"
   ]
  },
  {
   "cell_type": "code",
   "execution_count": 68,
   "metadata": {
    "collapsed": true
   },
   "outputs": [],
   "source": [
    "def f4(n):\n",
    "    if n==0:\n",
    "        return 0\n",
    "    if n<0:\n",
    "        return n + f4(-n)\n",
    "    return n + f4(-n+1)"
   ]
  },
  {
   "cell_type": "code",
   "execution_count": 69,
   "metadata": {
    "collapsed": true
   },
   "outputs": [],
   "source": [
    "def f5(n):\n",
    "    if n<=1:\n",
    "        return 0\n",
    "    return 1 + f5(n-2)"
   ]
  },
  {
   "cell_type": "code",
   "execution_count": 101,
   "metadata": {},
   "outputs": [
    {
     "data": {
      "text/plain": [
       "0"
      ]
     },
     "execution_count": 101,
     "metadata": {},
     "output_type": "execute_result"
    }
   ],
   "source": [
    "f5(-6)"
   ]
  },
  {
   "cell_type": "code",
   "execution_count": 86,
   "metadata": {},
   "outputs": [
    {
     "data": {
      "text/plain": [
       "5050"
      ]
     },
     "execution_count": 86,
     "metadata": {},
     "output_type": "execute_result"
    }
   ],
   "source": [
    "sum(range(101))"
   ]
  },
  {
   "cell_type": "code",
   "execution_count": 44,
   "metadata": {
    "collapsed": true
   },
   "outputs": [],
   "source": [
    "def fiboRec(n):\n",
    "    if n == 0 or n == 1:\n",
    "        return 1\n",
    "    return fiboRec(n-1) + fiboRec(n-2)"
   ]
  },
  {
   "cell_type": "code",
   "execution_count": 134,
   "metadata": {},
   "outputs": [
    {
     "ename": "KeyboardInterrupt",
     "evalue": "",
     "output_type": "error",
     "traceback": [
      "\u001b[0;31m---------------------------------------------------------------------------\u001b[0m",
      "\u001b[0;31mKeyboardInterrupt\u001b[0m                         Traceback (most recent call last)",
      "\u001b[0;32m<ipython-input-134-d2565c86276a>\u001b[0m in \u001b[0;36m<module>\u001b[0;34m()\u001b[0m\n\u001b[0;32m----> 1\u001b[0;31m \u001b[0mfiboRec\u001b[0m\u001b[0;34m(\u001b[0m\u001b[0;36m40\u001b[0m\u001b[0;34m)\u001b[0m\u001b[0;34m\u001b[0m\u001b[0m\n\u001b[0m",
      "\u001b[0;32m<ipython-input-44-3b9c31ecebc7>\u001b[0m in \u001b[0;36mfiboRec\u001b[0;34m(n)\u001b[0m\n\u001b[1;32m      2\u001b[0m     \u001b[0;32mif\u001b[0m \u001b[0mn\u001b[0m \u001b[0;34m==\u001b[0m \u001b[0;36m0\u001b[0m \u001b[0;32mor\u001b[0m \u001b[0mn\u001b[0m \u001b[0;34m==\u001b[0m \u001b[0;36m1\u001b[0m\u001b[0;34m:\u001b[0m\u001b[0;34m\u001b[0m\u001b[0m\n\u001b[1;32m      3\u001b[0m         \u001b[0;32mreturn\u001b[0m \u001b[0;36m1\u001b[0m\u001b[0;34m\u001b[0m\u001b[0m\n\u001b[0;32m----> 4\u001b[0;31m     \u001b[0;32mreturn\u001b[0m \u001b[0mfiboRec\u001b[0m\u001b[0;34m(\u001b[0m\u001b[0mn\u001b[0m\u001b[0;34m-\u001b[0m\u001b[0;36m1\u001b[0m\u001b[0;34m)\u001b[0m \u001b[0;34m+\u001b[0m \u001b[0mfiboRec\u001b[0m\u001b[0;34m(\u001b[0m\u001b[0mn\u001b[0m\u001b[0;34m-\u001b[0m\u001b[0;36m2\u001b[0m\u001b[0;34m)\u001b[0m\u001b[0;34m\u001b[0m\u001b[0m\n\u001b[0m",
      "\u001b[0;32m<ipython-input-44-3b9c31ecebc7>\u001b[0m in \u001b[0;36mfiboRec\u001b[0;34m(n)\u001b[0m\n\u001b[1;32m      2\u001b[0m     \u001b[0;32mif\u001b[0m \u001b[0mn\u001b[0m \u001b[0;34m==\u001b[0m \u001b[0;36m0\u001b[0m \u001b[0;32mor\u001b[0m \u001b[0mn\u001b[0m \u001b[0;34m==\u001b[0m \u001b[0;36m1\u001b[0m\u001b[0;34m:\u001b[0m\u001b[0;34m\u001b[0m\u001b[0m\n\u001b[1;32m      3\u001b[0m         \u001b[0;32mreturn\u001b[0m \u001b[0;36m1\u001b[0m\u001b[0;34m\u001b[0m\u001b[0m\n\u001b[0;32m----> 4\u001b[0;31m     \u001b[0;32mreturn\u001b[0m \u001b[0mfiboRec\u001b[0m\u001b[0;34m(\u001b[0m\u001b[0mn\u001b[0m\u001b[0;34m-\u001b[0m\u001b[0;36m1\u001b[0m\u001b[0;34m)\u001b[0m \u001b[0;34m+\u001b[0m \u001b[0mfiboRec\u001b[0m\u001b[0;34m(\u001b[0m\u001b[0mn\u001b[0m\u001b[0;34m-\u001b[0m\u001b[0;36m2\u001b[0m\u001b[0;34m)\u001b[0m\u001b[0;34m\u001b[0m\u001b[0m\n\u001b[0m",
      "\u001b[0;32m<ipython-input-44-3b9c31ecebc7>\u001b[0m in \u001b[0;36mfiboRec\u001b[0;34m(n)\u001b[0m\n\u001b[1;32m      2\u001b[0m     \u001b[0;32mif\u001b[0m \u001b[0mn\u001b[0m \u001b[0;34m==\u001b[0m \u001b[0;36m0\u001b[0m \u001b[0;32mor\u001b[0m \u001b[0mn\u001b[0m \u001b[0;34m==\u001b[0m \u001b[0;36m1\u001b[0m\u001b[0;34m:\u001b[0m\u001b[0;34m\u001b[0m\u001b[0m\n\u001b[1;32m      3\u001b[0m         \u001b[0;32mreturn\u001b[0m \u001b[0;36m1\u001b[0m\u001b[0;34m\u001b[0m\u001b[0m\n\u001b[0;32m----> 4\u001b[0;31m     \u001b[0;32mreturn\u001b[0m \u001b[0mfiboRec\u001b[0m\u001b[0;34m(\u001b[0m\u001b[0mn\u001b[0m\u001b[0;34m-\u001b[0m\u001b[0;36m1\u001b[0m\u001b[0;34m)\u001b[0m \u001b[0;34m+\u001b[0m \u001b[0mfiboRec\u001b[0m\u001b[0;34m(\u001b[0m\u001b[0mn\u001b[0m\u001b[0;34m-\u001b[0m\u001b[0;36m2\u001b[0m\u001b[0;34m)\u001b[0m\u001b[0;34m\u001b[0m\u001b[0m\n\u001b[0m",
      "\u001b[0;32m<ipython-input-44-3b9c31ecebc7>\u001b[0m in \u001b[0;36mfiboRec\u001b[0;34m(n)\u001b[0m\n\u001b[1;32m      2\u001b[0m     \u001b[0;32mif\u001b[0m \u001b[0mn\u001b[0m \u001b[0;34m==\u001b[0m \u001b[0;36m0\u001b[0m \u001b[0;32mor\u001b[0m \u001b[0mn\u001b[0m \u001b[0;34m==\u001b[0m \u001b[0;36m1\u001b[0m\u001b[0;34m:\u001b[0m\u001b[0;34m\u001b[0m\u001b[0m\n\u001b[1;32m      3\u001b[0m         \u001b[0;32mreturn\u001b[0m \u001b[0;36m1\u001b[0m\u001b[0;34m\u001b[0m\u001b[0m\n\u001b[0;32m----> 4\u001b[0;31m     \u001b[0;32mreturn\u001b[0m \u001b[0mfiboRec\u001b[0m\u001b[0;34m(\u001b[0m\u001b[0mn\u001b[0m\u001b[0;34m-\u001b[0m\u001b[0;36m1\u001b[0m\u001b[0;34m)\u001b[0m \u001b[0;34m+\u001b[0m \u001b[0mfiboRec\u001b[0m\u001b[0;34m(\u001b[0m\u001b[0mn\u001b[0m\u001b[0;34m-\u001b[0m\u001b[0;36m2\u001b[0m\u001b[0;34m)\u001b[0m\u001b[0;34m\u001b[0m\u001b[0m\n\u001b[0m",
      "\u001b[0;32m<ipython-input-44-3b9c31ecebc7>\u001b[0m in \u001b[0;36mfiboRec\u001b[0;34m(n)\u001b[0m\n\u001b[1;32m      2\u001b[0m     \u001b[0;32mif\u001b[0m \u001b[0mn\u001b[0m \u001b[0;34m==\u001b[0m \u001b[0;36m0\u001b[0m \u001b[0;32mor\u001b[0m \u001b[0mn\u001b[0m \u001b[0;34m==\u001b[0m \u001b[0;36m1\u001b[0m\u001b[0;34m:\u001b[0m\u001b[0;34m\u001b[0m\u001b[0m\n\u001b[1;32m      3\u001b[0m         \u001b[0;32mreturn\u001b[0m \u001b[0;36m1\u001b[0m\u001b[0;34m\u001b[0m\u001b[0m\n\u001b[0;32m----> 4\u001b[0;31m     \u001b[0;32mreturn\u001b[0m \u001b[0mfiboRec\u001b[0m\u001b[0;34m(\u001b[0m\u001b[0mn\u001b[0m\u001b[0;34m-\u001b[0m\u001b[0;36m1\u001b[0m\u001b[0;34m)\u001b[0m \u001b[0;34m+\u001b[0m \u001b[0mfiboRec\u001b[0m\u001b[0;34m(\u001b[0m\u001b[0mn\u001b[0m\u001b[0;34m-\u001b[0m\u001b[0;36m2\u001b[0m\u001b[0;34m)\u001b[0m\u001b[0;34m\u001b[0m\u001b[0m\n\u001b[0m",
      "\u001b[0;32m<ipython-input-44-3b9c31ecebc7>\u001b[0m in \u001b[0;36mfiboRec\u001b[0;34m(n)\u001b[0m\n\u001b[1;32m      2\u001b[0m     \u001b[0;32mif\u001b[0m \u001b[0mn\u001b[0m \u001b[0;34m==\u001b[0m \u001b[0;36m0\u001b[0m \u001b[0;32mor\u001b[0m \u001b[0mn\u001b[0m \u001b[0;34m==\u001b[0m \u001b[0;36m1\u001b[0m\u001b[0;34m:\u001b[0m\u001b[0;34m\u001b[0m\u001b[0m\n\u001b[1;32m      3\u001b[0m         \u001b[0;32mreturn\u001b[0m \u001b[0;36m1\u001b[0m\u001b[0;34m\u001b[0m\u001b[0m\n\u001b[0;32m----> 4\u001b[0;31m     \u001b[0;32mreturn\u001b[0m \u001b[0mfiboRec\u001b[0m\u001b[0;34m(\u001b[0m\u001b[0mn\u001b[0m\u001b[0;34m-\u001b[0m\u001b[0;36m1\u001b[0m\u001b[0;34m)\u001b[0m \u001b[0;34m+\u001b[0m \u001b[0mfiboRec\u001b[0m\u001b[0;34m(\u001b[0m\u001b[0mn\u001b[0m\u001b[0;34m-\u001b[0m\u001b[0;36m2\u001b[0m\u001b[0;34m)\u001b[0m\u001b[0;34m\u001b[0m\u001b[0m\n\u001b[0m",
      "\u001b[0;32m<ipython-input-44-3b9c31ecebc7>\u001b[0m in \u001b[0;36mfiboRec\u001b[0;34m(n)\u001b[0m\n\u001b[1;32m      2\u001b[0m     \u001b[0;32mif\u001b[0m \u001b[0mn\u001b[0m \u001b[0;34m==\u001b[0m \u001b[0;36m0\u001b[0m \u001b[0;32mor\u001b[0m \u001b[0mn\u001b[0m \u001b[0;34m==\u001b[0m \u001b[0;36m1\u001b[0m\u001b[0;34m:\u001b[0m\u001b[0;34m\u001b[0m\u001b[0m\n\u001b[1;32m      3\u001b[0m         \u001b[0;32mreturn\u001b[0m \u001b[0;36m1\u001b[0m\u001b[0;34m\u001b[0m\u001b[0m\n\u001b[0;32m----> 4\u001b[0;31m     \u001b[0;32mreturn\u001b[0m \u001b[0mfiboRec\u001b[0m\u001b[0;34m(\u001b[0m\u001b[0mn\u001b[0m\u001b[0;34m-\u001b[0m\u001b[0;36m1\u001b[0m\u001b[0;34m)\u001b[0m \u001b[0;34m+\u001b[0m \u001b[0mfiboRec\u001b[0m\u001b[0;34m(\u001b[0m\u001b[0mn\u001b[0m\u001b[0;34m-\u001b[0m\u001b[0;36m2\u001b[0m\u001b[0;34m)\u001b[0m\u001b[0;34m\u001b[0m\u001b[0m\n\u001b[0m",
      "\u001b[0;32m<ipython-input-44-3b9c31ecebc7>\u001b[0m in \u001b[0;36mfiboRec\u001b[0;34m(n)\u001b[0m\n\u001b[1;32m      2\u001b[0m     \u001b[0;32mif\u001b[0m \u001b[0mn\u001b[0m \u001b[0;34m==\u001b[0m \u001b[0;36m0\u001b[0m \u001b[0;32mor\u001b[0m \u001b[0mn\u001b[0m \u001b[0;34m==\u001b[0m \u001b[0;36m1\u001b[0m\u001b[0;34m:\u001b[0m\u001b[0;34m\u001b[0m\u001b[0m\n\u001b[1;32m      3\u001b[0m         \u001b[0;32mreturn\u001b[0m \u001b[0;36m1\u001b[0m\u001b[0;34m\u001b[0m\u001b[0m\n\u001b[0;32m----> 4\u001b[0;31m     \u001b[0;32mreturn\u001b[0m \u001b[0mfiboRec\u001b[0m\u001b[0;34m(\u001b[0m\u001b[0mn\u001b[0m\u001b[0;34m-\u001b[0m\u001b[0;36m1\u001b[0m\u001b[0;34m)\u001b[0m \u001b[0;34m+\u001b[0m \u001b[0mfiboRec\u001b[0m\u001b[0;34m(\u001b[0m\u001b[0mn\u001b[0m\u001b[0;34m-\u001b[0m\u001b[0;36m2\u001b[0m\u001b[0;34m)\u001b[0m\u001b[0;34m\u001b[0m\u001b[0m\n\u001b[0m",
      "\u001b[0;32m<ipython-input-44-3b9c31ecebc7>\u001b[0m in \u001b[0;36mfiboRec\u001b[0;34m(n)\u001b[0m\n\u001b[1;32m      2\u001b[0m     \u001b[0;32mif\u001b[0m \u001b[0mn\u001b[0m \u001b[0;34m==\u001b[0m \u001b[0;36m0\u001b[0m \u001b[0;32mor\u001b[0m \u001b[0mn\u001b[0m \u001b[0;34m==\u001b[0m \u001b[0;36m1\u001b[0m\u001b[0;34m:\u001b[0m\u001b[0;34m\u001b[0m\u001b[0m\n\u001b[1;32m      3\u001b[0m         \u001b[0;32mreturn\u001b[0m \u001b[0;36m1\u001b[0m\u001b[0;34m\u001b[0m\u001b[0m\n\u001b[0;32m----> 4\u001b[0;31m     \u001b[0;32mreturn\u001b[0m \u001b[0mfiboRec\u001b[0m\u001b[0;34m(\u001b[0m\u001b[0mn\u001b[0m\u001b[0;34m-\u001b[0m\u001b[0;36m1\u001b[0m\u001b[0;34m)\u001b[0m \u001b[0;34m+\u001b[0m \u001b[0mfiboRec\u001b[0m\u001b[0;34m(\u001b[0m\u001b[0mn\u001b[0m\u001b[0;34m-\u001b[0m\u001b[0;36m2\u001b[0m\u001b[0;34m)\u001b[0m\u001b[0;34m\u001b[0m\u001b[0m\n\u001b[0m",
      "\u001b[0;32m<ipython-input-44-3b9c31ecebc7>\u001b[0m in \u001b[0;36mfiboRec\u001b[0;34m(n)\u001b[0m\n\u001b[1;32m      2\u001b[0m     \u001b[0;32mif\u001b[0m \u001b[0mn\u001b[0m \u001b[0;34m==\u001b[0m \u001b[0;36m0\u001b[0m \u001b[0;32mor\u001b[0m \u001b[0mn\u001b[0m \u001b[0;34m==\u001b[0m \u001b[0;36m1\u001b[0m\u001b[0;34m:\u001b[0m\u001b[0;34m\u001b[0m\u001b[0m\n\u001b[1;32m      3\u001b[0m         \u001b[0;32mreturn\u001b[0m \u001b[0;36m1\u001b[0m\u001b[0;34m\u001b[0m\u001b[0m\n\u001b[0;32m----> 4\u001b[0;31m     \u001b[0;32mreturn\u001b[0m \u001b[0mfiboRec\u001b[0m\u001b[0;34m(\u001b[0m\u001b[0mn\u001b[0m\u001b[0;34m-\u001b[0m\u001b[0;36m1\u001b[0m\u001b[0;34m)\u001b[0m \u001b[0;34m+\u001b[0m \u001b[0mfiboRec\u001b[0m\u001b[0;34m(\u001b[0m\u001b[0mn\u001b[0m\u001b[0;34m-\u001b[0m\u001b[0;36m2\u001b[0m\u001b[0;34m)\u001b[0m\u001b[0;34m\u001b[0m\u001b[0m\n\u001b[0m",
      "\u001b[0;32m<ipython-input-44-3b9c31ecebc7>\u001b[0m in \u001b[0;36mfiboRec\u001b[0;34m(n)\u001b[0m\n\u001b[1;32m      2\u001b[0m     \u001b[0;32mif\u001b[0m \u001b[0mn\u001b[0m \u001b[0;34m==\u001b[0m \u001b[0;36m0\u001b[0m \u001b[0;32mor\u001b[0m \u001b[0mn\u001b[0m \u001b[0;34m==\u001b[0m \u001b[0;36m1\u001b[0m\u001b[0;34m:\u001b[0m\u001b[0;34m\u001b[0m\u001b[0m\n\u001b[1;32m      3\u001b[0m         \u001b[0;32mreturn\u001b[0m \u001b[0;36m1\u001b[0m\u001b[0;34m\u001b[0m\u001b[0m\n\u001b[0;32m----> 4\u001b[0;31m     \u001b[0;32mreturn\u001b[0m \u001b[0mfiboRec\u001b[0m\u001b[0;34m(\u001b[0m\u001b[0mn\u001b[0m\u001b[0;34m-\u001b[0m\u001b[0;36m1\u001b[0m\u001b[0;34m)\u001b[0m \u001b[0;34m+\u001b[0m \u001b[0mfiboRec\u001b[0m\u001b[0;34m(\u001b[0m\u001b[0mn\u001b[0m\u001b[0;34m-\u001b[0m\u001b[0;36m2\u001b[0m\u001b[0;34m)\u001b[0m\u001b[0;34m\u001b[0m\u001b[0m\n\u001b[0m",
      "\u001b[0;32m<ipython-input-44-3b9c31ecebc7>\u001b[0m in \u001b[0;36mfiboRec\u001b[0;34m(n)\u001b[0m\n\u001b[1;32m      2\u001b[0m     \u001b[0;32mif\u001b[0m \u001b[0mn\u001b[0m \u001b[0;34m==\u001b[0m \u001b[0;36m0\u001b[0m \u001b[0;32mor\u001b[0m \u001b[0mn\u001b[0m \u001b[0;34m==\u001b[0m \u001b[0;36m1\u001b[0m\u001b[0;34m:\u001b[0m\u001b[0;34m\u001b[0m\u001b[0m\n\u001b[1;32m      3\u001b[0m         \u001b[0;32mreturn\u001b[0m \u001b[0;36m1\u001b[0m\u001b[0;34m\u001b[0m\u001b[0m\n\u001b[0;32m----> 4\u001b[0;31m     \u001b[0;32mreturn\u001b[0m \u001b[0mfiboRec\u001b[0m\u001b[0;34m(\u001b[0m\u001b[0mn\u001b[0m\u001b[0;34m-\u001b[0m\u001b[0;36m1\u001b[0m\u001b[0;34m)\u001b[0m \u001b[0;34m+\u001b[0m \u001b[0mfiboRec\u001b[0m\u001b[0;34m(\u001b[0m\u001b[0mn\u001b[0m\u001b[0;34m-\u001b[0m\u001b[0;36m2\u001b[0m\u001b[0;34m)\u001b[0m\u001b[0;34m\u001b[0m\u001b[0m\n\u001b[0m",
      "\u001b[0;32m<ipython-input-44-3b9c31ecebc7>\u001b[0m in \u001b[0;36mfiboRec\u001b[0;34m(n)\u001b[0m\n\u001b[1;32m      2\u001b[0m     \u001b[0;32mif\u001b[0m \u001b[0mn\u001b[0m \u001b[0;34m==\u001b[0m \u001b[0;36m0\u001b[0m \u001b[0;32mor\u001b[0m \u001b[0mn\u001b[0m \u001b[0;34m==\u001b[0m \u001b[0;36m1\u001b[0m\u001b[0;34m:\u001b[0m\u001b[0;34m\u001b[0m\u001b[0m\n\u001b[1;32m      3\u001b[0m         \u001b[0;32mreturn\u001b[0m \u001b[0;36m1\u001b[0m\u001b[0;34m\u001b[0m\u001b[0m\n\u001b[0;32m----> 4\u001b[0;31m     \u001b[0;32mreturn\u001b[0m \u001b[0mfiboRec\u001b[0m\u001b[0;34m(\u001b[0m\u001b[0mn\u001b[0m\u001b[0;34m-\u001b[0m\u001b[0;36m1\u001b[0m\u001b[0;34m)\u001b[0m \u001b[0;34m+\u001b[0m \u001b[0mfiboRec\u001b[0m\u001b[0;34m(\u001b[0m\u001b[0mn\u001b[0m\u001b[0;34m-\u001b[0m\u001b[0;36m2\u001b[0m\u001b[0;34m)\u001b[0m\u001b[0;34m\u001b[0m\u001b[0m\n\u001b[0m",
      "\u001b[0;32m<ipython-input-44-3b9c31ecebc7>\u001b[0m in \u001b[0;36mfiboRec\u001b[0;34m(n)\u001b[0m\n\u001b[1;32m      2\u001b[0m     \u001b[0;32mif\u001b[0m \u001b[0mn\u001b[0m \u001b[0;34m==\u001b[0m \u001b[0;36m0\u001b[0m \u001b[0;32mor\u001b[0m \u001b[0mn\u001b[0m \u001b[0;34m==\u001b[0m \u001b[0;36m1\u001b[0m\u001b[0;34m:\u001b[0m\u001b[0;34m\u001b[0m\u001b[0m\n\u001b[1;32m      3\u001b[0m         \u001b[0;32mreturn\u001b[0m \u001b[0;36m1\u001b[0m\u001b[0;34m\u001b[0m\u001b[0m\n\u001b[0;32m----> 4\u001b[0;31m     \u001b[0;32mreturn\u001b[0m \u001b[0mfiboRec\u001b[0m\u001b[0;34m(\u001b[0m\u001b[0mn\u001b[0m\u001b[0;34m-\u001b[0m\u001b[0;36m1\u001b[0m\u001b[0;34m)\u001b[0m \u001b[0;34m+\u001b[0m \u001b[0mfiboRec\u001b[0m\u001b[0;34m(\u001b[0m\u001b[0mn\u001b[0m\u001b[0;34m-\u001b[0m\u001b[0;36m2\u001b[0m\u001b[0;34m)\u001b[0m\u001b[0;34m\u001b[0m\u001b[0m\n\u001b[0m",
      "\u001b[0;32m<ipython-input-44-3b9c31ecebc7>\u001b[0m in \u001b[0;36mfiboRec\u001b[0;34m(n)\u001b[0m\n\u001b[1;32m      2\u001b[0m     \u001b[0;32mif\u001b[0m \u001b[0mn\u001b[0m \u001b[0;34m==\u001b[0m \u001b[0;36m0\u001b[0m \u001b[0;32mor\u001b[0m \u001b[0mn\u001b[0m \u001b[0;34m==\u001b[0m \u001b[0;36m1\u001b[0m\u001b[0;34m:\u001b[0m\u001b[0;34m\u001b[0m\u001b[0m\n\u001b[1;32m      3\u001b[0m         \u001b[0;32mreturn\u001b[0m \u001b[0;36m1\u001b[0m\u001b[0;34m\u001b[0m\u001b[0m\n\u001b[0;32m----> 4\u001b[0;31m     \u001b[0;32mreturn\u001b[0m \u001b[0mfiboRec\u001b[0m\u001b[0;34m(\u001b[0m\u001b[0mn\u001b[0m\u001b[0;34m-\u001b[0m\u001b[0;36m1\u001b[0m\u001b[0;34m)\u001b[0m \u001b[0;34m+\u001b[0m \u001b[0mfiboRec\u001b[0m\u001b[0;34m(\u001b[0m\u001b[0mn\u001b[0m\u001b[0;34m-\u001b[0m\u001b[0;36m2\u001b[0m\u001b[0;34m)\u001b[0m\u001b[0;34m\u001b[0m\u001b[0m\n\u001b[0m",
      "\u001b[0;32m<ipython-input-44-3b9c31ecebc7>\u001b[0m in \u001b[0;36mfiboRec\u001b[0;34m(n)\u001b[0m\n\u001b[1;32m      2\u001b[0m     \u001b[0;32mif\u001b[0m \u001b[0mn\u001b[0m \u001b[0;34m==\u001b[0m \u001b[0;36m0\u001b[0m \u001b[0;32mor\u001b[0m \u001b[0mn\u001b[0m \u001b[0;34m==\u001b[0m \u001b[0;36m1\u001b[0m\u001b[0;34m:\u001b[0m\u001b[0;34m\u001b[0m\u001b[0m\n\u001b[1;32m      3\u001b[0m         \u001b[0;32mreturn\u001b[0m \u001b[0;36m1\u001b[0m\u001b[0;34m\u001b[0m\u001b[0m\n\u001b[0;32m----> 4\u001b[0;31m     \u001b[0;32mreturn\u001b[0m \u001b[0mfiboRec\u001b[0m\u001b[0;34m(\u001b[0m\u001b[0mn\u001b[0m\u001b[0;34m-\u001b[0m\u001b[0;36m1\u001b[0m\u001b[0;34m)\u001b[0m \u001b[0;34m+\u001b[0m \u001b[0mfiboRec\u001b[0m\u001b[0;34m(\u001b[0m\u001b[0mn\u001b[0m\u001b[0;34m-\u001b[0m\u001b[0;36m2\u001b[0m\u001b[0;34m)\u001b[0m\u001b[0;34m\u001b[0m\u001b[0m\n\u001b[0m",
      "\u001b[0;32m<ipython-input-44-3b9c31ecebc7>\u001b[0m in \u001b[0;36mfiboRec\u001b[0;34m(n)\u001b[0m\n\u001b[1;32m      2\u001b[0m     \u001b[0;32mif\u001b[0m \u001b[0mn\u001b[0m \u001b[0;34m==\u001b[0m \u001b[0;36m0\u001b[0m \u001b[0;32mor\u001b[0m \u001b[0mn\u001b[0m \u001b[0;34m==\u001b[0m \u001b[0;36m1\u001b[0m\u001b[0;34m:\u001b[0m\u001b[0;34m\u001b[0m\u001b[0m\n\u001b[1;32m      3\u001b[0m         \u001b[0;32mreturn\u001b[0m \u001b[0;36m1\u001b[0m\u001b[0;34m\u001b[0m\u001b[0m\n\u001b[0;32m----> 4\u001b[0;31m     \u001b[0;32mreturn\u001b[0m \u001b[0mfiboRec\u001b[0m\u001b[0;34m(\u001b[0m\u001b[0mn\u001b[0m\u001b[0;34m-\u001b[0m\u001b[0;36m1\u001b[0m\u001b[0;34m)\u001b[0m \u001b[0;34m+\u001b[0m \u001b[0mfiboRec\u001b[0m\u001b[0;34m(\u001b[0m\u001b[0mn\u001b[0m\u001b[0;34m-\u001b[0m\u001b[0;36m2\u001b[0m\u001b[0;34m)\u001b[0m\u001b[0;34m\u001b[0m\u001b[0m\n\u001b[0m",
      "\u001b[0;32m<ipython-input-44-3b9c31ecebc7>\u001b[0m in \u001b[0;36mfiboRec\u001b[0;34m(n)\u001b[0m\n\u001b[1;32m      2\u001b[0m     \u001b[0;32mif\u001b[0m \u001b[0mn\u001b[0m \u001b[0;34m==\u001b[0m \u001b[0;36m0\u001b[0m \u001b[0;32mor\u001b[0m \u001b[0mn\u001b[0m \u001b[0;34m==\u001b[0m \u001b[0;36m1\u001b[0m\u001b[0;34m:\u001b[0m\u001b[0;34m\u001b[0m\u001b[0m\n\u001b[1;32m      3\u001b[0m         \u001b[0;32mreturn\u001b[0m \u001b[0;36m1\u001b[0m\u001b[0;34m\u001b[0m\u001b[0m\n\u001b[0;32m----> 4\u001b[0;31m     \u001b[0;32mreturn\u001b[0m \u001b[0mfiboRec\u001b[0m\u001b[0;34m(\u001b[0m\u001b[0mn\u001b[0m\u001b[0;34m-\u001b[0m\u001b[0;36m1\u001b[0m\u001b[0;34m)\u001b[0m \u001b[0;34m+\u001b[0m \u001b[0mfiboRec\u001b[0m\u001b[0;34m(\u001b[0m\u001b[0mn\u001b[0m\u001b[0;34m-\u001b[0m\u001b[0;36m2\u001b[0m\u001b[0;34m)\u001b[0m\u001b[0;34m\u001b[0m\u001b[0m\n\u001b[0m",
      "\u001b[0;32m<ipython-input-44-3b9c31ecebc7>\u001b[0m in \u001b[0;36mfiboRec\u001b[0;34m(n)\u001b[0m\n\u001b[1;32m      2\u001b[0m     \u001b[0;32mif\u001b[0m \u001b[0mn\u001b[0m \u001b[0;34m==\u001b[0m \u001b[0;36m0\u001b[0m \u001b[0;32mor\u001b[0m \u001b[0mn\u001b[0m \u001b[0;34m==\u001b[0m \u001b[0;36m1\u001b[0m\u001b[0;34m:\u001b[0m\u001b[0;34m\u001b[0m\u001b[0m\n\u001b[1;32m      3\u001b[0m         \u001b[0;32mreturn\u001b[0m \u001b[0;36m1\u001b[0m\u001b[0;34m\u001b[0m\u001b[0m\n\u001b[0;32m----> 4\u001b[0;31m     \u001b[0;32mreturn\u001b[0m \u001b[0mfiboRec\u001b[0m\u001b[0;34m(\u001b[0m\u001b[0mn\u001b[0m\u001b[0;34m-\u001b[0m\u001b[0;36m1\u001b[0m\u001b[0;34m)\u001b[0m \u001b[0;34m+\u001b[0m \u001b[0mfiboRec\u001b[0m\u001b[0;34m(\u001b[0m\u001b[0mn\u001b[0m\u001b[0;34m-\u001b[0m\u001b[0;36m2\u001b[0m\u001b[0;34m)\u001b[0m\u001b[0;34m\u001b[0m\u001b[0m\n\u001b[0m",
      "\u001b[0;32m<ipython-input-44-3b9c31ecebc7>\u001b[0m in \u001b[0;36mfiboRec\u001b[0;34m(n)\u001b[0m\n\u001b[1;32m      2\u001b[0m     \u001b[0;32mif\u001b[0m \u001b[0mn\u001b[0m \u001b[0;34m==\u001b[0m \u001b[0;36m0\u001b[0m \u001b[0;32mor\u001b[0m \u001b[0mn\u001b[0m \u001b[0;34m==\u001b[0m \u001b[0;36m1\u001b[0m\u001b[0;34m:\u001b[0m\u001b[0;34m\u001b[0m\u001b[0m\n\u001b[1;32m      3\u001b[0m         \u001b[0;32mreturn\u001b[0m \u001b[0;36m1\u001b[0m\u001b[0;34m\u001b[0m\u001b[0m\n\u001b[0;32m----> 4\u001b[0;31m     \u001b[0;32mreturn\u001b[0m \u001b[0mfiboRec\u001b[0m\u001b[0;34m(\u001b[0m\u001b[0mn\u001b[0m\u001b[0;34m-\u001b[0m\u001b[0;36m1\u001b[0m\u001b[0;34m)\u001b[0m \u001b[0;34m+\u001b[0m \u001b[0mfiboRec\u001b[0m\u001b[0;34m(\u001b[0m\u001b[0mn\u001b[0m\u001b[0;34m-\u001b[0m\u001b[0;36m2\u001b[0m\u001b[0;34m)\u001b[0m\u001b[0;34m\u001b[0m\u001b[0m\n\u001b[0m",
      "\u001b[0;32m<ipython-input-44-3b9c31ecebc7>\u001b[0m in \u001b[0;36mfiboRec\u001b[0;34m(n)\u001b[0m\n\u001b[1;32m      2\u001b[0m     \u001b[0;32mif\u001b[0m \u001b[0mn\u001b[0m \u001b[0;34m==\u001b[0m \u001b[0;36m0\u001b[0m \u001b[0;32mor\u001b[0m \u001b[0mn\u001b[0m \u001b[0;34m==\u001b[0m \u001b[0;36m1\u001b[0m\u001b[0;34m:\u001b[0m\u001b[0;34m\u001b[0m\u001b[0m\n\u001b[1;32m      3\u001b[0m         \u001b[0;32mreturn\u001b[0m \u001b[0;36m1\u001b[0m\u001b[0;34m\u001b[0m\u001b[0m\n\u001b[0;32m----> 4\u001b[0;31m     \u001b[0;32mreturn\u001b[0m \u001b[0mfiboRec\u001b[0m\u001b[0;34m(\u001b[0m\u001b[0mn\u001b[0m\u001b[0;34m-\u001b[0m\u001b[0;36m1\u001b[0m\u001b[0;34m)\u001b[0m \u001b[0;34m+\u001b[0m \u001b[0mfiboRec\u001b[0m\u001b[0;34m(\u001b[0m\u001b[0mn\u001b[0m\u001b[0;34m-\u001b[0m\u001b[0;36m2\u001b[0m\u001b[0;34m)\u001b[0m\u001b[0;34m\u001b[0m\u001b[0m\n\u001b[0m",
      "\u001b[0;32m<ipython-input-44-3b9c31ecebc7>\u001b[0m in \u001b[0;36mfiboRec\u001b[0;34m(n)\u001b[0m\n\u001b[1;32m      2\u001b[0m     \u001b[0;32mif\u001b[0m \u001b[0mn\u001b[0m \u001b[0;34m==\u001b[0m \u001b[0;36m0\u001b[0m \u001b[0;32mor\u001b[0m \u001b[0mn\u001b[0m \u001b[0;34m==\u001b[0m \u001b[0;36m1\u001b[0m\u001b[0;34m:\u001b[0m\u001b[0;34m\u001b[0m\u001b[0m\n\u001b[1;32m      3\u001b[0m         \u001b[0;32mreturn\u001b[0m \u001b[0;36m1\u001b[0m\u001b[0;34m\u001b[0m\u001b[0m\n\u001b[0;32m----> 4\u001b[0;31m     \u001b[0;32mreturn\u001b[0m \u001b[0mfiboRec\u001b[0m\u001b[0;34m(\u001b[0m\u001b[0mn\u001b[0m\u001b[0;34m-\u001b[0m\u001b[0;36m1\u001b[0m\u001b[0;34m)\u001b[0m \u001b[0;34m+\u001b[0m \u001b[0mfiboRec\u001b[0m\u001b[0;34m(\u001b[0m\u001b[0mn\u001b[0m\u001b[0;34m-\u001b[0m\u001b[0;36m2\u001b[0m\u001b[0;34m)\u001b[0m\u001b[0;34m\u001b[0m\u001b[0m\n\u001b[0m",
      "\u001b[0;31mKeyboardInterrupt\u001b[0m: "
     ]
    }
   ],
   "source": [
    "fiboRec(40)"
   ]
  },
  {
   "cell_type": "code",
   "execution_count": 50,
   "metadata": {
    "collapsed": true
   },
   "outputs": [],
   "source": [
    "def fiboIt(n):\n",
    "    u0 = 1\n",
    "    u1 = 1\n",
    "    for i in range(2,n+1):\n",
    "        u1, u0 = u0 + u1, u1\n",
    "    return u1"
   ]
  },
  {
   "cell_type": "code",
   "execution_count": 137,
   "metadata": {},
   "outputs": [
    {
     "data": {
      "text/plain": [
       "514263424911336592579396579289954520826834443526829600435873863248622654140207140138925514762610700100992755711440595791673560394372420894271363236890220795622156962279145089144790590766825123267598809824638290242678314854666540447372384043164600945249911273857878346679362876357499204290285069442042444471200522923293491036723024286623172850155258882103975837070714801788407729726923570547182399886189676168711943464625099170269110089476956181083454209957733682149390541651658937860506067011215222435859797671748514023462634575877112541265857011723314539904152316087295347817203811229658998710185320037352845593423725526271323006389582539601208794805085509523363363844566868744023292625362045745997388951083823542785159371236389909470974738599166720611351903568781845409425624666559791912022122897108388733347738351183912879567255044261504614219148441918105232576587709988549275792703440923434006592840076974180213220388892946370234232414834360527528928280472094493359682662519127203581813404104542972181231076224891404730611459033219426932250660389874831637094026012304670549443491110558503487799890585170699608762679570920521572784344305457768002450765067824024074242127042267490747692722422733945450760323640619100021663675080870429299040891840880753646474330069332723202183345822682199067634632613871613185005039704913147811005564943610633413714357778796118315412553837120429675202849608463310347678307117777960404258101788828257784920659671082363171157289668904381254080676855815524987553372657063695970396681091614491407072407112798594279199124438724052843058913668029547634219059701520631145818744942011883877570743585799931087019958576080768017925827346100046097527064929564528474349547038178370043823628944670926601955537657427194815893365884948631016675478967987281402249215848093553343797071563426205704968340863586923094646720333067620626504796007239299163445638199847941146318217181637965012068435082399788137090460167819041845511951296934273988759169877839532492294430334328469729051981315302242889228341251542112481598436096294690518890330853605407704802563345120170537044758617754657777775930041014416619743935590363177308881251521509638377918595294747887970034209028019490210394392422302403687059119407005858379521370989944572362900057457354208037588537232069921346429977050109405813861684274738297367281671001465263250988895885167589422311742182943472894287860556997151265291783384910157203679779458354245579846973830472593370160977523707902575129803072039857524154149354311250529579592001"
      ]
     },
     "execution_count": 137,
     "metadata": {},
     "output_type": "execute_result"
    }
   ],
   "source": [
    "fiboIt(12000)"
   ]
  },
  {
   "cell_type": "code",
   "execution_count": 56,
   "metadata": {
    "collapsed": true
   },
   "outputs": [],
   "source": [
    "def pgcd(a,b):\n",
    "    if a < b:\n",
    "        return pgcd(b,a)\n",
    "    if a%b == 0:\n",
    "        return b\n",
    "    return pgcd(b,a%b)"
   ]
  },
  {
   "cell_type": "code",
   "execution_count": 57,
   "metadata": {},
   "outputs": [
    {
     "data": {
      "text/plain": [
       "15"
      ]
     },
     "execution_count": 57,
     "metadata": {},
     "output_type": "execute_result"
    }
   ],
   "source": [
    "pgcd(2145,630)"
   ]
  },
  {
   "cell_type": "code",
   "execution_count": 58,
   "metadata": {},
   "outputs": [
    {
     "data": {
      "text/plain": [
       "1"
      ]
     },
     "execution_count": 58,
     "metadata": {},
     "output_type": "execute_result"
    }
   ],
   "source": [
    "pgcd(7,15)"
   ]
  },
  {
   "cell_type": "code",
   "execution_count": 59,
   "metadata": {
    "collapsed": true
   },
   "outputs": [],
   "source": [
    "def dicho(T, deb, fin, v):\n",
    "    if fin - deb <= 0:\n",
    "        return -1\n",
    "    m = (deb+fin)//2\n",
    "    if T[m] == v:\n",
    "        return m\n",
    "    if v < T[m]:\n",
    "        return dicho(T,deb,m,v)\n",
    "    return dicho(T,m+1,fin,v)\n",
    "    "
   ]
  },
  {
   "cell_type": "code",
   "execution_count": 63,
   "metadata": {},
   "outputs": [
    {
     "data": {
      "text/plain": [
       "-1"
      ]
     },
     "execution_count": 63,
     "metadata": {},
     "output_type": "execute_result"
    }
   ],
   "source": [
    "dicho([2,4,6,9,12],0,5,5)"
   ]
  },
  {
   "cell_type": "code",
   "execution_count": 66,
   "metadata": {
    "collapsed": true
   },
   "outputs": [],
   "source": [
    "def fiboC(n):\n",
    "    if n == 0 or n == 1:\n",
    "        return 1,1\n",
    "    f0,c0 = fiboC(n-1)\n",
    "    f1,c1 = fiboC(n-2)\n",
    "    return  f0+f1, c0+c1+1"
   ]
  },
  {
   "cell_type": "code",
   "execution_count": 72,
   "metadata": {},
   "outputs": [
    {
     "data": {
      "text/plain": [
       "(21, 41)"
      ]
     },
     "execution_count": 72,
     "metadata": {},
     "output_type": "execute_result"
    }
   ],
   "source": [
    "fiboC(7)"
   ]
  },
  {
   "cell_type": "code",
   "execution_count": 117,
   "metadata": {
    "collapsed": true
   },
   "outputs": [],
   "source": [
    "def test(n):\n",
    "    if n == 0:\n",
    "        return 1\n",
    "    return 1 + test(n//2) + test(n//2)"
   ]
  },
  {
   "cell_type": "code",
   "execution_count": 123,
   "metadata": {},
   "outputs": [
    {
     "data": {
      "text/plain": [
       "31"
      ]
     },
     "execution_count": 123,
     "metadata": {},
     "output_type": "execute_result"
    }
   ],
   "source": [
    "test(8)"
   ]
  },
  {
   "cell_type": "code",
   "execution_count": 139,
   "metadata": {
    "collapsed": true
   },
   "outputs": [],
   "source": [
    "def puiss1(a,b):\n",
    "    if b == 0:\n",
    "        return 1\n",
    "    return a*puiss1(a,b-1)"
   ]
  },
  {
   "cell_type": "code",
   "execution_count": 140,
   "metadata": {},
   "outputs": [
    {
     "data": {
      "text/plain": [
       "81"
      ]
     },
     "execution_count": 140,
     "metadata": {},
     "output_type": "execute_result"
    }
   ],
   "source": [
    "puiss1(3,4)"
   ]
  },
  {
   "cell_type": "code",
   "execution_count": 141,
   "metadata": {},
   "outputs": [
    {
     "data": {
      "text/plain": [
       "81"
      ]
     },
     "execution_count": 141,
     "metadata": {},
     "output_type": "execute_result"
    }
   ],
   "source": [
    "3**4"
   ]
  },
  {
   "cell_type": "code",
   "execution_count": 146,
   "metadata": {
    "collapsed": true
   },
   "outputs": [],
   "source": [
    "def puiss2(a,b):\n",
    "    if b == 0:\n",
    "        return 1\n",
    "    if b%2 == 1:\n",
    "        return a * puiss2(a,b-1)\n",
    "    c = puiss2(a, b//2)\n",
    "    return  c*c"
   ]
  },
  {
   "cell_type": "code",
   "execution_count": 147,
   "metadata": {},
   "outputs": [
    {
     "data": {
      "text/plain": [
       "81"
      ]
     },
     "execution_count": 147,
     "metadata": {},
     "output_type": "execute_result"
    }
   ],
   "source": [
    "puiss2(3,4)"
   ]
  },
  {
   "cell_type": "code",
   "execution_count": null,
   "metadata": {
    "collapsed": true
   },
   "outputs": [],
   "source": []
  }
 ],
 "metadata": {
  "kernelspec": {
   "display_name": "Python 3",
   "language": "python",
   "name": "python3"
  },
  "language_info": {
   "codemirror_mode": {
    "name": "ipython",
    "version": 3
   },
   "file_extension": ".py",
   "mimetype": "text/x-python",
   "name": "python",
   "nbconvert_exporter": "python",
   "pygments_lexer": "ipython3",
   "version": "3.6.1"
  }
 },
 "nbformat": 4,
 "nbformat_minor": 1
}
