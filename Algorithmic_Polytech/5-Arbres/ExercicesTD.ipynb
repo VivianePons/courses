{
 "cells": [
  {
   "cell_type": "code",
   "execution_count": 108,
   "metadata": {
    "collapsed": true
   },
   "outputs": [],
   "source": [
    "class Arbre():\n",
    "    \n",
    "    def __init__(self, x): # constructeur\n",
    "        self.valeur = x\n",
    "        self.fils = []\n",
    "        \n",
    "    def __repr__(self): # affichage\n",
    "        s = str(self.valeur) + str(self.fils)\n",
    "        return s"
   ]
  },
  {
   "cell_type": "code",
   "execution_count": 3,
   "metadata": {},
   "outputs": [
    {
     "data": {
      "text/plain": [
       "4[]"
      ]
     },
     "execution_count": 3,
     "metadata": {},
     "output_type": "execute_result"
    }
   ],
   "source": [
    "A = Arbre(4)\n",
    "A # un arbre avec un seul noeud de valeur 4"
   ]
  },
  {
   "cell_type": "code",
   "execution_count": 4,
   "metadata": {},
   "outputs": [
    {
     "data": {
      "text/plain": [
       "4[2[], 5[], 1[]]"
      ]
     },
     "execution_count": 4,
     "metadata": {},
     "output_type": "execute_result"
    }
   ],
   "source": [
    "A.fils.append(Arbre(2))\n",
    "A.fils.append(Arbre(5))\n",
    "A.fils.append(Arbre(1))\n",
    "A # Un arbre avec une racide et 3 fils"
   ]
  },
  {
   "cell_type": "code",
   "execution_count": 23,
   "metadata": {},
   "outputs": [
    {
     "data": {
      "text/plain": [
       "4[2[], 5[3[], 3[], 8[]], 1[]]"
      ]
     },
     "execution_count": 23,
     "metadata": {},
     "output_type": "execute_result"
    }
   ],
   "source": [
    "A.fils[1].fils.append(Arbre(3)) # on rajoute un fils au fils du milieu\n",
    "A.fils[1].fils.append(Arbre(8))\n",
    "A"
   ]
  },
  {
   "cell_type": "code",
   "execution_count": 24,
   "metadata": {},
   "outputs": [
    {
     "data": {
      "text/plain": [
       "0[]"
      ]
     },
     "execution_count": 24,
     "metadata": {},
     "output_type": "execute_result"
    }
   ],
   "source": [
    "A1noeud = Arbre(0)\n",
    "A1noeud"
   ]
  },
  {
   "cell_type": "code",
   "execution_count": 111,
   "metadata": {
    "collapsed": true
   },
   "outputs": [],
   "source": [
    "def parcoursLargeur(a):\n",
    "    n0 = [a]\n",
    "    n1 = []\n",
    "    k = 1\n",
    "    while len(n0) > 0:\n",
    "        print (\"niveau, \", k)\n",
    "        for b in n0:\n",
    "            print (b.valeur)\n",
    "            n1.extend(b.fils)\n",
    "        n0 = n1\n",
    "        n1 = []\n",
    "        k+=1"
   ]
  },
  {
   "cell_type": "code",
   "execution_count": 112,
   "metadata": {},
   "outputs": [
    {
     "name": "stdout",
     "output_type": "stream",
     "text": [
      "niveau,  1\n",
      "4\n",
      "niveau,  2\n",
      "2\n",
      "5\n",
      "1\n",
      "niveau,  3\n",
      "3\n",
      "3\n",
      "8\n"
     ]
    }
   ],
   "source": [
    "parcoursLargeur(A)"
   ]
  },
  {
   "cell_type": "code",
   "execution_count": 15,
   "metadata": {
    "collapsed": true
   },
   "outputs": [],
   "source": [
    "def nbElements(a):\n",
    "    s = 1 # Pour compter le noeud pere\n",
    "    for f in a.fils:\n",
    "        s += nbElements(f)\n",
    "    return s"
   ]
  },
  {
   "cell_type": "code",
   "execution_count": 16,
   "metadata": {},
   "outputs": [
    {
     "data": {
      "text/plain": [
       "5"
      ]
     },
     "execution_count": 16,
     "metadata": {},
     "output_type": "execute_result"
    }
   ],
   "source": [
    "nbElements(A)"
   ]
  },
  {
   "cell_type": "code",
   "execution_count": 17,
   "metadata": {},
   "outputs": [
    {
     "data": {
      "text/plain": [
       "1"
      ]
     },
     "execution_count": 17,
     "metadata": {},
     "output_type": "execute_result"
    }
   ],
   "source": [
    "nbElements(A1noeud)"
   ]
  },
  {
   "cell_type": "code",
   "execution_count": 29,
   "metadata": {
    "collapsed": true
   },
   "outputs": [],
   "source": [
    "def valeurMax(a):\n",
    "    v = a.valeur\n",
    "    for f in a.fils:\n",
    "        # v = max(v, valeurMax(f)) Ca marche aussi\n",
    "        w = valeurMax(f)\n",
    "        # w = f.valeur !! Ca ne marche pas, il FAUT un appel récursif \n",
    "        if v < w:\n",
    "            v = w\n",
    "    return v"
   ]
  },
  {
   "cell_type": "code",
   "execution_count": 30,
   "metadata": {},
   "outputs": [
    {
     "data": {
      "text/plain": [
       "8"
      ]
     },
     "execution_count": 30,
     "metadata": {},
     "output_type": "execute_result"
    }
   ],
   "source": [
    "valeurMax(A)"
   ]
  },
  {
   "cell_type": "code",
   "execution_count": 31,
   "metadata": {},
   "outputs": [
    {
     "data": {
      "text/plain": [
       "0"
      ]
     },
     "execution_count": 31,
     "metadata": {},
     "output_type": "execute_result"
    }
   ],
   "source": [
    "valeurMax(A1noeud)"
   ]
  },
  {
   "cell_type": "code",
   "execution_count": 32,
   "metadata": {
    "collapsed": true
   },
   "outputs": [],
   "source": [
    "def sommeValeurs(a):\n",
    "    v = a.valeur\n",
    "    for f in a.fils:\n",
    "        v+= sommeValeurs(f)\n",
    "    return v"
   ]
  },
  {
   "cell_type": "code",
   "execution_count": 33,
   "metadata": {},
   "outputs": [
    {
     "data": {
      "text/plain": [
       "4[2[], 5[3[], 3[], 8[]], 1[]]"
      ]
     },
     "execution_count": 33,
     "metadata": {},
     "output_type": "execute_result"
    }
   ],
   "source": [
    "A"
   ]
  },
  {
   "cell_type": "code",
   "execution_count": 34,
   "metadata": {},
   "outputs": [
    {
     "data": {
      "text/plain": [
       "26"
      ]
     },
     "execution_count": 34,
     "metadata": {},
     "output_type": "execute_result"
    }
   ],
   "source": [
    "sommeValeurs(A)"
   ]
  },
  {
   "cell_type": "code",
   "execution_count": 35,
   "metadata": {},
   "outputs": [
    {
     "data": {
      "text/plain": [
       "26"
      ]
     },
     "execution_count": 35,
     "metadata": {},
     "output_type": "execute_result"
    }
   ],
   "source": [
    "4+2+5+3+3+8+1"
   ]
  },
  {
   "cell_type": "code",
   "execution_count": 38,
   "metadata": {
    "collapsed": true
   },
   "outputs": [],
   "source": [
    "def hauteur(a):\n",
    "    h = 0\n",
    "    for f in a.fils:\n",
    "        h = max(h,hauteur(f))\n",
    "    return h + 1"
   ]
  },
  {
   "cell_type": "code",
   "execution_count": 39,
   "metadata": {},
   "outputs": [
    {
     "data": {
      "text/plain": [
       "3"
      ]
     },
     "execution_count": 39,
     "metadata": {},
     "output_type": "execute_result"
    }
   ],
   "source": [
    "hauteur(A)"
   ]
  },
  {
   "cell_type": "code",
   "execution_count": null,
   "metadata": {
    "collapsed": true
   },
   "outputs": [],
   "source": []
  },
  {
   "cell_type": "code",
   "execution_count": null,
   "metadata": {
    "collapsed": true
   },
   "outputs": [],
   "source": []
  },
  {
   "cell_type": "code",
   "execution_count": 60,
   "metadata": {
    "collapsed": true
   },
   "outputs": [],
   "source": [
    "def distanceMinimale(a):\n",
    "    h = 0\n",
    "    for f in a.fils:\n",
    "        h2 = distanceMinimale(f)\n",
    "        if h == 0 or h2 < h:\n",
    "            h = h2\n",
    "    return h + 1\n",
    "    "
   ]
  },
  {
   "cell_type": "code",
   "execution_count": 55,
   "metadata": {
    "collapsed": true
   },
   "outputs": [],
   "source": [
    "def distanceMinimale2(a):\n",
    "    if len(a.fils) == 0:\n",
    "        return 1\n",
    "    h = distanceMinimale2(a.fils[0])\n",
    "    for i in range(1,len(a.fils)):\n",
    "        f = a.fils[i]\n",
    "        h = min(h, distanceMinimale2(f))\n",
    "    return h + 1"
   ]
  },
  {
   "cell_type": "code",
   "execution_count": 56,
   "metadata": {},
   "outputs": [
    {
     "data": {
      "text/plain": [
       "2"
      ]
     },
     "execution_count": 56,
     "metadata": {},
     "output_type": "execute_result"
    }
   ],
   "source": [
    "distanceMinimale(A)"
   ]
  },
  {
   "cell_type": "code",
   "execution_count": 57,
   "metadata": {},
   "outputs": [
    {
     "data": {
      "text/plain": [
       "2"
      ]
     },
     "execution_count": 57,
     "metadata": {},
     "output_type": "execute_result"
    }
   ],
   "source": [
    "distanceMinimale2(A)"
   ]
  },
  {
   "cell_type": "code",
   "execution_count": 58,
   "metadata": {},
   "outputs": [
    {
     "data": {
      "text/plain": [
       "1"
      ]
     },
     "execution_count": 58,
     "metadata": {},
     "output_type": "execute_result"
    }
   ],
   "source": [
    "distanceMinimale(A1noeud)"
   ]
  },
  {
   "cell_type": "code",
   "execution_count": 59,
   "metadata": {},
   "outputs": [
    {
     "data": {
      "text/plain": [
       "1"
      ]
     },
     "execution_count": 59,
     "metadata": {},
     "output_type": "execute_result"
    }
   ],
   "source": [
    "distanceMinimale2(A1noeud)"
   ]
  },
  {
   "cell_type": "code",
   "execution_count": 62,
   "metadata": {
    "collapsed": true
   },
   "outputs": [],
   "source": [
    "def nbMaxFils(a):\n",
    "    v = len(a.fils)\n",
    "    for f in a.fils:\n",
    "        # v = max(v, valeurMax(f)) Ca marche aussi\n",
    "        w = nbMaxFils(f)\n",
    "        # w = f.valeur !! Ca ne marche pas, il FAUT un appel récursif \n",
    "        if v < w:\n",
    "            v = w\n",
    "    return v"
   ]
  },
  {
   "cell_type": "code",
   "execution_count": 64,
   "metadata": {},
   "outputs": [
    {
     "data": {
      "text/plain": [
       "3"
      ]
     },
     "execution_count": 64,
     "metadata": {},
     "output_type": "execute_result"
    }
   ],
   "source": [
    "nbMaxFils(A)"
   ]
  },
  {
   "cell_type": "code",
   "execution_count": 65,
   "metadata": {},
   "outputs": [
    {
     "data": {
      "text/plain": [
       "0"
      ]
     },
     "execution_count": 65,
     "metadata": {},
     "output_type": "execute_result"
    }
   ],
   "source": [
    "nbMaxFils(A1noeud)"
   ]
  },
  {
   "cell_type": "code",
   "execution_count": 66,
   "metadata": {
    "collapsed": true
   },
   "outputs": [],
   "source": [
    "def nbFeuilles(a):\n",
    "    if len(a.fils) == 0:\n",
    "        return 1\n",
    "    s = 0\n",
    "    for f in a.fils:\n",
    "        s += nbFeuilles(f)\n",
    "    return s"
   ]
  },
  {
   "cell_type": "code",
   "execution_count": 67,
   "metadata": {},
   "outputs": [
    {
     "data": {
      "text/plain": [
       "5"
      ]
     },
     "execution_count": 67,
     "metadata": {},
     "output_type": "execute_result"
    }
   ],
   "source": [
    "nbFeuilles(A)"
   ]
  },
  {
   "cell_type": "code",
   "execution_count": 68,
   "metadata": {},
   "outputs": [
    {
     "data": {
      "text/plain": [
       "1"
      ]
     },
     "execution_count": 68,
     "metadata": {},
     "output_type": "execute_result"
    }
   ],
   "source": [
    "nbFeuilles(A1noeud)"
   ]
  },
  {
   "cell_type": "code",
   "execution_count": 71,
   "metadata": {
    "collapsed": true
   },
   "outputs": [],
   "source": [
    "def nbInternes(a):\n",
    "    if len(a.fils) == 0:\n",
    "        return 0\n",
    "    s = 1 # a un 1 fils\n",
    "    for f in a.fils:\n",
    "        s += nbInternes(f)\n",
    "    return s"
   ]
  },
  {
   "cell_type": "code",
   "execution_count": 72,
   "metadata": {},
   "outputs": [
    {
     "data": {
      "text/plain": [
       "2"
      ]
     },
     "execution_count": 72,
     "metadata": {},
     "output_type": "execute_result"
    }
   ],
   "source": [
    "nbInternes(A)"
   ]
  },
  {
   "cell_type": "code",
   "execution_count": 3,
   "metadata": {
    "collapsed": true
   },
   "outputs": [],
   "source": [
    "class ArbreBinaire():\n",
    "    \n",
    "    def __init__(self, x, filsG = None, filsD = None): # constructeur\n",
    "        self.valeur = x\n",
    "        self.filsG = filsG\n",
    "        self.filsD = filsD\n",
    "        \n",
    "    def __repr__(self): # affichage\n",
    "        if self.filsG is None and self.filsD is None:\n",
    "            return str(self.valeur)\n",
    "        s = str(self.valeur) + \"[\" + str(self.filsG) + \", \" + str(self.filsD) + \"]\"\n",
    "        s = s.replace(\"None\",\".\") # pour alléger l'affichage\n",
    "        return s"
   ]
  },
  {
   "cell_type": "code",
   "execution_count": 4,
   "metadata": {
    "collapsed": true
   },
   "outputs": [],
   "source": [
    "f1 = ArbreBinaire(1)\n",
    "f3 = ArbreBinaire(3)\n",
    "f7 = ArbreBinaire(7)\n",
    "f2 = ArbreBinaire(2)"
   ]
  },
  {
   "cell_type": "code",
   "execution_count": 5,
   "metadata": {
    "collapsed": true
   },
   "outputs": [],
   "source": [
    "n4 = ArbreBinaire(4, f1, f3)\n",
    "n3 = ArbreBinaire(3, f7, None)\n",
    "n5 = ArbreBinaire(5, None, n3)\n",
    "n2 = ArbreBinaire(2, n5, f2)\n",
    "B = ArbreBinaire(2, n4, n2)"
   ]
  },
  {
   "cell_type": "code",
   "execution_count": 6,
   "metadata": {},
   "outputs": [
    {
     "data": {
      "text/plain": [
       "2[4[1, 3], 2[5[., 3[7, .]], 2]]"
      ]
     },
     "execution_count": 6,
     "metadata": {},
     "output_type": "execute_result"
    }
   ],
   "source": [
    "B"
   ]
  },
  {
   "cell_type": "code",
   "execution_count": 7,
   "metadata": {
    "collapsed": true
   },
   "outputs": [],
   "source": [
    "def prefixe(B):\n",
    "    if B == None:\n",
    "        return\n",
    "    print (B.valeur)\n",
    "    prefixe(B.filsG)\n",
    "    prefixe(B.filsD)"
   ]
  },
  {
   "cell_type": "code",
   "execution_count": 8,
   "metadata": {},
   "outputs": [
    {
     "name": "stdout",
     "output_type": "stream",
     "text": [
      "2\n",
      "4\n",
      "1\n",
      "3\n",
      "2\n",
      "5\n",
      "3\n",
      "7\n",
      "2\n"
     ]
    }
   ],
   "source": [
    "prefixe(B)"
   ]
  },
  {
   "cell_type": "code",
   "execution_count": 9,
   "metadata": {
    "collapsed": true
   },
   "outputs": [],
   "source": [
    "def suffixe(B):\n",
    "    if B == None:\n",
    "        return\n",
    "    suffixe(B.filsG)\n",
    "    suffixe(B.filsD)\n",
    "    print (B.valeur)"
   ]
  },
  {
   "cell_type": "code",
   "execution_count": 10,
   "metadata": {},
   "outputs": [
    {
     "name": "stdout",
     "output_type": "stream",
     "text": [
      "1\n",
      "3\n",
      "4\n",
      "7\n",
      "3\n",
      "5\n",
      "2\n",
      "2\n",
      "2\n"
     ]
    }
   ],
   "source": [
    "suffixe(B)"
   ]
  },
  {
   "cell_type": "code",
   "execution_count": 11,
   "metadata": {
    "collapsed": true
   },
   "outputs": [],
   "source": [
    "def infixe(B):\n",
    "    if B == None:\n",
    "        return\n",
    "    infixe(B.filsG)\n",
    "    print (B.valeur)\n",
    "    infixe(B.filsD)"
   ]
  },
  {
   "cell_type": "code",
   "execution_count": 12,
   "metadata": {},
   "outputs": [
    {
     "name": "stdout",
     "output_type": "stream",
     "text": [
      "1\n",
      "4\n",
      "3\n",
      "2\n",
      "5\n",
      "7\n",
      "3\n",
      "2\n",
      "2\n"
     ]
    }
   ],
   "source": [
    "infixe(B)"
   ]
  },
  {
   "cell_type": "code",
   "execution_count": 13,
   "metadata": {
    "collapsed": true
   },
   "outputs": [],
   "source": [
    "def egaux(b1, b2):\n",
    "    # cas ou un des 2 est null\n",
    "    if b1 == None:\n",
    "        return (b2 == None) # if b2 == None: return True, else: return False\n",
    "    if b2 == None:\n",
    "        return False # parce que b1 != None\n",
    "    # if b1 == None and b2 == None:\n",
    "    #     return True\n",
    "    # if b1 == None or b2 == None:\n",
    "    #     return False\n",
    "    # comparaisons des valeurs\n",
    "    if b1.valeur != b2.valeur:\n",
    "        return False\n",
    "    # appel récursif\n",
    "    return egaux(b1.filsG, b2.filsG) and egaux(b1.filsD, b2.filsD)"
   ]
  },
  {
   "cell_type": "code",
   "execution_count": 14,
   "metadata": {
    "collapsed": true
   },
   "outputs": [],
   "source": [
    "f1b = ArbreBinaire(1)\n",
    "f3b = ArbreBinaire(3)\n",
    "f7b = ArbreBinaire(7)\n",
    "f2b = ArbreBinaire(2)"
   ]
  },
  {
   "cell_type": "code",
   "execution_count": 15,
   "metadata": {
    "collapsed": true
   },
   "outputs": [],
   "source": [
    "n4b = ArbreBinaire(4, f1b, f3b)\n",
    "n3b = ArbreBinaire(3, f7b, None)\n",
    "n5b = ArbreBinaire(5, None, n3b)\n",
    "n2b = ArbreBinaire(2, n5b, f2b)\n",
    "C = ArbreBinaire(2, n4b, n2b)"
   ]
  },
  {
   "cell_type": "code",
   "execution_count": 16,
   "metadata": {},
   "outputs": [
    {
     "data": {
      "text/plain": [
       "2[4[1, 3], 2[5[., 3[7, .]], 2]]"
      ]
     },
     "execution_count": 16,
     "metadata": {},
     "output_type": "execute_result"
    }
   ],
   "source": [
    "B"
   ]
  },
  {
   "cell_type": "code",
   "execution_count": 17,
   "metadata": {},
   "outputs": [
    {
     "data": {
      "text/plain": [
       "2[4[1, 3], 2[5[., 3[7, .]], 2]]"
      ]
     },
     "execution_count": 17,
     "metadata": {},
     "output_type": "execute_result"
    }
   ],
   "source": [
    "C"
   ]
  },
  {
   "cell_type": "code",
   "execution_count": 18,
   "metadata": {},
   "outputs": [
    {
     "data": {
      "text/plain": [
       "False"
      ]
     },
     "execution_count": 18,
     "metadata": {},
     "output_type": "execute_result"
    }
   ],
   "source": [
    "B == C"
   ]
  },
  {
   "cell_type": "code",
   "execution_count": 19,
   "metadata": {},
   "outputs": [
    {
     "data": {
      "text/plain": [
       "True"
      ]
     },
     "execution_count": 19,
     "metadata": {},
     "output_type": "execute_result"
    }
   ],
   "source": [
    "egaux(B,C)"
   ]
  },
  {
   "cell_type": "code",
   "execution_count": 20,
   "metadata": {},
   "outputs": [
    {
     "data": {
      "text/plain": [
       "False"
      ]
     },
     "execution_count": 20,
     "metadata": {},
     "output_type": "execute_result"
    }
   ],
   "source": [
    "egaux(B,n4)"
   ]
  },
  {
   "cell_type": "code",
   "execution_count": 21,
   "metadata": {},
   "outputs": [
    {
     "data": {
      "text/plain": [
       "False"
      ]
     },
     "execution_count": 21,
     "metadata": {},
     "output_type": "execute_result"
    }
   ],
   "source": [
    "egaux(n4, B)"
   ]
  },
  {
   "cell_type": "code",
   "execution_count": 22,
   "metadata": {
    "collapsed": true
   },
   "outputs": [],
   "source": [
    "def parcoursLargeur(B):\n",
    "    if B is None:\n",
    "        return\n",
    "    n0 = [B]\n",
    "    n1 = []\n",
    "    k = 1\n",
    "    while len(n0) > 0:\n",
    "        print (\"niveau, \", k)\n",
    "        for b in n0:\n",
    "            print (b.valeur)\n",
    "            if b.filsG != None:\n",
    "                n1.append(b.filsG)\n",
    "            if b.filsD != None:\n",
    "                n1.append(b.filsD)\n",
    "        n0 = n1\n",
    "        n1 = []\n",
    "        k+=1\n",
    "        "
   ]
  },
  {
   "cell_type": "code",
   "execution_count": 23,
   "metadata": {},
   "outputs": [
    {
     "name": "stdout",
     "output_type": "stream",
     "text": [
      "niveau,  1\n",
      "2\n",
      "niveau,  2\n",
      "4\n",
      "2\n",
      "niveau,  3\n",
      "1\n",
      "3\n",
      "5\n",
      "2\n",
      "niveau,  4\n",
      "3\n",
      "niveau,  5\n",
      "7\n"
     ]
    }
   ],
   "source": [
    "parcoursLargeur(B)"
   ]
  },
  {
   "cell_type": "code",
   "execution_count": 24,
   "metadata": {
    "collapsed": true
   },
   "outputs": [],
   "source": [
    "def parcoursLargeur2(B):\n",
    "    if B is None:\n",
    "        return\n",
    "    L = [B]\n",
    "    i = 0\n",
    "    while i < len(L):\n",
    "        b = L[i]\n",
    "        print(b.valeur)\n",
    "        if b.filsG != None:\n",
    "            L.append(b.filsG)\n",
    "        if b.filsD != None:\n",
    "            L.append(b.filsD)\n",
    "        i+=1"
   ]
  },
  {
   "cell_type": "code",
   "execution_count": 25,
   "metadata": {},
   "outputs": [
    {
     "name": "stdout",
     "output_type": "stream",
     "text": [
      "2\n",
      "4\n",
      "2\n",
      "1\n",
      "3\n",
      "5\n",
      "2\n",
      "3\n",
      "7\n"
     ]
    }
   ],
   "source": [
    "parcoursLargeur2(B)"
   ]
  },
  {
   "cell_type": "code",
   "execution_count": 26,
   "metadata": {
    "collapsed": true
   },
   "outputs": [],
   "source": [
    "def insertionABR(a, v):\n",
    "    if a is None:\n",
    "        return ArbreBinaire(v)\n",
    "    if v <= a.valeur:\n",
    "        a.filsG = insertionABR(a.filsG, v)\n",
    "    else:\n",
    "        a.filsD = insertionABR(a.filsD, v)\n",
    "    return a"
   ]
  },
  {
   "cell_type": "code",
   "execution_count": 27,
   "metadata": {},
   "outputs": [
    {
     "data": {
      "text/plain": [
       "4[2[1, 3[., 4]], 5[5, 6]]"
      ]
     },
     "execution_count": 27,
     "metadata": {},
     "output_type": "execute_result"
    }
   ],
   "source": [
    "L = [4,2,5,1,3,4,5,6]\n",
    "B1 = None\n",
    "for v in L:\n",
    "    B1 = insertionABR(B1,v)\n",
    "B1"
   ]
  },
  {
   "cell_type": "code",
   "execution_count": 28,
   "metadata": {},
   "outputs": [
    {
     "data": {
      "text/plain": [
       "4[2[1, 3[., 4]], 5[5, 6]]"
      ]
     },
     "execution_count": 28,
     "metadata": {},
     "output_type": "execute_result"
    }
   ],
   "source": [
    "L = [4,5,6,5,2,3,1,4]\n",
    "B2 = None\n",
    "for v in L:\n",
    "    B2 = insertionABR(B2,v)\n",
    "B2"
   ]
  },
  {
   "cell_type": "code",
   "execution_count": 29,
   "metadata": {},
   "outputs": [
    {
     "data": {
      "text/plain": [
       "True"
      ]
     },
     "execution_count": 29,
     "metadata": {},
     "output_type": "execute_result"
    }
   ],
   "source": [
    "egaux(B1,B2)"
   ]
  },
  {
   "cell_type": "code",
   "execution_count": 30,
   "metadata": {},
   "outputs": [
    {
     "name": "stdout",
     "output_type": "stream",
     "text": [
      "1\n",
      "2\n",
      "3\n",
      "4\n",
      "4\n",
      "5\n",
      "5\n",
      "6\n"
     ]
    }
   ],
   "source": [
    "infixe(B2)"
   ]
  },
  {
   "cell_type": "code",
   "execution_count": 31,
   "metadata": {
    "collapsed": true
   },
   "outputs": [],
   "source": [
    "def chercher(B,v):\n",
    "    if B is None:\n",
    "        return False\n",
    "    if v == B.valeur:\n",
    "        return True\n",
    "    # if v < B.valeur:\n",
    "    #     return chercher(B.filsG, v)\n",
    "    # else:\n",
    "    #     return chercher(B.filsD, v)\n",
    "    return chercher(B.filsG,v) if v < B.valeur else chercher(B.filsD,v)"
   ]
  },
  {
   "cell_type": "code",
   "execution_count": 32,
   "metadata": {},
   "outputs": [
    {
     "data": {
      "text/plain": [
       "True"
      ]
     },
     "execution_count": 32,
     "metadata": {},
     "output_type": "execute_result"
    }
   ],
   "source": [
    "chercher(B1,3)"
   ]
  },
  {
   "cell_type": "code",
   "execution_count": 33,
   "metadata": {},
   "outputs": [
    {
     "data": {
      "text/plain": [
       "False"
      ]
     },
     "execution_count": 33,
     "metadata": {},
     "output_type": "execute_result"
    }
   ],
   "source": [
    "chercher(B1,7)"
   ]
  },
  {
   "cell_type": "code",
   "execution_count": 34,
   "metadata": {
    "collapsed": true
   },
   "outputs": [],
   "source": [
    "def rotationDroite(y):\n",
    "    if y is None or y.filsG is None:\n",
    "        return y\n",
    "    x = y.filsG\n",
    "    B = x.filsD\n",
    "    x.filsD = y\n",
    "    y.filsG = B\n",
    "    return x"
   ]
  },
  {
   "cell_type": "code",
   "execution_count": 35,
   "metadata": {},
   "outputs": [
    {
     "data": {
      "text/plain": [
       "5[3[1[., 2], 4], 7[6, .]]"
      ]
     },
     "execution_count": 35,
     "metadata": {},
     "output_type": "execute_result"
    }
   ],
   "source": [
    "L = [5,3,4,1,2,7,6]\n",
    "B1 = None\n",
    "for v in L:\n",
    "    B1 = insertionABR(B1,v)\n",
    "B1"
   ]
  },
  {
   "cell_type": "code",
   "execution_count": 36,
   "metadata": {},
   "outputs": [
    {
     "data": {
      "text/plain": [
       "3[1[., 2], 5[4, 7[6, .]]]"
      ]
     },
     "execution_count": 36,
     "metadata": {},
     "output_type": "execute_result"
    }
   ],
   "source": [
    "B1 = rotationDroite(B1)\n",
    "B1"
   ]
  },
  {
   "cell_type": "code",
   "execution_count": 37,
   "metadata": {},
   "outputs": [
    {
     "data": {
      "text/plain": [
       "4[3[2[1, .], .], 5[., 7[6, .]]]"
      ]
     },
     "execution_count": 37,
     "metadata": {},
     "output_type": "execute_result"
    }
   ],
   "source": [
    "L = [4,3,2,1,5,7,6]\n",
    "B2 = None\n",
    "for v in L:\n",
    "    B2 = insertionABR(B2,v)\n",
    "B2"
   ]
  },
  {
   "cell_type": "code",
   "execution_count": 38,
   "metadata": {},
   "outputs": [
    {
     "data": {
      "text/plain": [
       "3[2[1, .], 4[., 5[., 7[6, .]]]]"
      ]
     },
     "execution_count": 38,
     "metadata": {},
     "output_type": "execute_result"
    }
   ],
   "source": [
    "B2 = rotationDroite(B2)\n",
    "B2"
   ]
  },
  {
   "cell_type": "code",
   "execution_count": 39,
   "metadata": {},
   "outputs": [
    {
     "data": {
      "text/plain": [
       "5[2[1, 4[3, .]], 7[6, .]]"
      ]
     },
     "execution_count": 39,
     "metadata": {},
     "output_type": "execute_result"
    }
   ],
   "source": [
    "L = [5,2,1,4,3,7,6]\n",
    "B3 = None\n",
    "for v in L:\n",
    "    B3 = insertionABR(B3,v)\n",
    "B3"
   ]
  },
  {
   "cell_type": "code",
   "execution_count": 40,
   "metadata": {},
   "outputs": [
    {
     "data": {
      "text/plain": [
       "2[1, 5[4[3, .], 7[6, .]]]"
      ]
     },
     "execution_count": 40,
     "metadata": {},
     "output_type": "execute_result"
    }
   ],
   "source": [
    "B3 = rotationDroite(B3)\n",
    "B3"
   ]
  },
  {
   "cell_type": "code",
   "execution_count": null,
   "metadata": {
    "collapsed": true
   },
   "outputs": [],
   "source": []
  }
 ],
 "metadata": {
  "kernelspec": {
   "display_name": "Python 3",
   "language": "python",
   "name": "python3"
  },
  "language_info": {
   "codemirror_mode": {
    "name": "ipython",
    "version": 3
   },
   "file_extension": ".py",
   "mimetype": "text/x-python",
   "name": "python",
   "nbconvert_exporter": "python",
   "pygments_lexer": "ipython3",
   "version": "3.6.7"
  }
 },
 "nbformat": 4,
 "nbformat_minor": 2
}
