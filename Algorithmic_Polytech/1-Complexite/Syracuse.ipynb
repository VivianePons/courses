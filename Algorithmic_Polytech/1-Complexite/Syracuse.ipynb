{
 "cells": [
  {
   "cell_type": "code",
   "execution_count": 1,
   "metadata": {
    "collapsed": true
   },
   "outputs": [],
   "source": [
    "def syracuse(n):\n",
    "    while n > 1:\n",
    "        print n\n",
    "        if n%2 == 0:\n",
    "            n = n/2\n",
    "        else:\n",
    "            n = 3*n+1"
   ]
  },
  {
   "cell_type": "code",
   "execution_count": 2,
   "metadata": {
    "collapsed": false
   },
   "outputs": [
    {
     "name": "stdout",
     "output_type": "stream",
     "text": [
      "5\n",
      "16\n",
      "8\n",
      "4\n",
      "2\n"
     ]
    }
   ],
   "source": [
    "syracuse(5)"
   ]
  },
  {
   "cell_type": "code",
   "execution_count": 3,
   "metadata": {
    "collapsed": false
   },
   "outputs": [
    {
     "name": "stdout",
     "output_type": "stream",
     "text": [
      "3\n",
      "10\n",
      "5\n",
      "16\n",
      "8\n",
      "4\n",
      "2\n"
     ]
    }
   ],
   "source": [
    "syracuse(3)"
   ]
  },
  {
   "cell_type": "code",
   "execution_count": 4,
   "metadata": {
    "collapsed": false
   },
   "outputs": [
    {
     "name": "stdout",
     "output_type": "stream",
     "text": [
      "29\n",
      "88\n",
      "44\n",
      "22\n",
      "11\n",
      "34\n",
      "17\n",
      "52\n",
      "26\n",
      "13\n",
      "40\n",
      "20\n",
      "10\n",
      "5\n",
      "16\n",
      "8\n",
      "4\n",
      "2\n"
     ]
    }
   ],
   "source": [
    "syracuse(29)"
   ]
  },
  {
   "cell_type": "code",
   "execution_count": 5,
   "metadata": {
    "collapsed": false
   },
   "outputs": [
    {
     "name": "stdout",
     "output_type": "stream",
     "text": [
      "1053\n",
      "3160\n",
      "1580\n",
      "790\n",
      "395\n",
      "1186\n",
      "593\n",
      "1780\n",
      "890\n",
      "445\n",
      "1336\n",
      "668\n",
      "334\n",
      "167\n",
      "502\n",
      "251\n",
      "754\n",
      "377\n",
      "1132\n",
      "566\n",
      "283\n",
      "850\n",
      "425\n",
      "1276\n",
      "638\n",
      "319\n",
      "958\n",
      "479\n",
      "1438\n",
      "719\n",
      "2158\n",
      "1079\n",
      "3238\n",
      "1619\n",
      "4858\n",
      "2429\n",
      "7288\n",
      "3644\n",
      "1822\n",
      "911\n",
      "2734\n",
      "1367\n",
      "4102\n",
      "2051\n",
      "6154\n",
      "3077\n",
      "9232\n",
      "4616\n",
      "2308\n",
      "1154\n",
      "577\n",
      "1732\n",
      "866\n",
      "433\n",
      "1300\n",
      "650\n",
      "325\n",
      "976\n",
      "488\n",
      "244\n",
      "122\n",
      "61\n",
      "184\n",
      "92\n",
      "46\n",
      "23\n",
      "70\n",
      "35\n",
      "106\n",
      "53\n",
      "160\n",
      "80\n",
      "40\n",
      "20\n",
      "10\n",
      "5\n",
      "16\n",
      "8\n",
      "4\n",
      "2\n"
     ]
    }
   ],
   "source": [
    "syracuse(1053)"
   ]
  },
  {
   "cell_type": "code",
   "execution_count": null,
   "metadata": {
    "collapsed": true
   },
   "outputs": [],
   "source": []
  }
 ],
 "metadata": {
  "kernelspec": {
   "display_name": "Python 2",
   "language": "python",
   "name": "python2"
  },
  "language_info": {
   "codemirror_mode": {
    "name": "ipython",
    "version": 2
   },
   "file_extension": ".py",
   "mimetype": "text/x-python",
   "name": "python",
   "nbconvert_exporter": "python",
   "pygments_lexer": "ipython2",
   "version": "2.7.12"
  }
 },
 "nbformat": 4,
 "nbformat_minor": 0
}
