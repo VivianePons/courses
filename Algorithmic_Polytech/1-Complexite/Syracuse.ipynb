{
 "cells": [
  {
   "cell_type": "code",
   "execution_count": 1,
   "metadata": {
    "collapsed": true
   },
   "outputs": [],
   "source": [
    "def syracuse(n):\n",
    "    while n > 1:\n",
    "        print(n)\n",
    "        if n%2 == 0:\n",
    "            n = n//2\n",
    "        else:\n",
    "            n = 3*n+1"
   ]
  },
  {
   "cell_type": "code",
   "execution_count": 2,
   "metadata": {},
   "outputs": [
    {
     "ename": "TypeError",
     "evalue": "syracuse() missing 1 required positional argument: 'n'",
     "output_type": "error",
     "traceback": [
      "\u001b[0;31m---------------------------------------------------------------------------\u001b[0m",
      "\u001b[0;31mTypeError\u001b[0m                                 Traceback (most recent call last)",
      "\u001b[0;32m<ipython-input-2-ab6dccf7e854>\u001b[0m in \u001b[0;36m<module>\u001b[0;34m()\u001b[0m\n\u001b[0;32m----> 1\u001b[0;31m \u001b[0msyracuse\u001b[0m\u001b[0;34m(\u001b[0m\u001b[0;34m)\u001b[0m\u001b[0;34m\u001b[0m\u001b[0;34m\u001b[0m\u001b[0m\n\u001b[0m",
      "\u001b[0;31mTypeError\u001b[0m: syracuse() missing 1 required positional argument: 'n'"
     ]
    }
   ],
   "source": [
    "syracuse()"
   ]
  },
  {
   "cell_type": "code",
   "execution_count": 3,
   "metadata": {},
   "outputs": [
    {
     "name": "stdout",
     "output_type": "stream",
     "text": [
      "5\n",
      "16\n",
      "8\n",
      "4\n",
      "2\n"
     ]
    }
   ],
   "source": [
    "syracuse(5)"
   ]
  },
  {
   "cell_type": "code",
   "execution_count": 4,
   "metadata": {},
   "outputs": [
    {
     "name": "stdout",
     "output_type": "stream",
     "text": [
      "3\n",
      "10\n",
      "5\n",
      "16\n",
      "8\n",
      "4\n",
      "2\n"
     ]
    }
   ],
   "source": [
    "syracuse(3)"
   ]
  },
  {
   "cell_type": "code",
   "execution_count": 5,
   "metadata": {},
   "outputs": [
    {
     "name": "stdout",
     "output_type": "stream",
     "text": [
      "29\n",
      "88\n",
      "44\n",
      "22\n",
      "11\n",
      "34\n",
      "17\n",
      "52\n",
      "26\n",
      "13\n",
      "40\n",
      "20\n",
      "10\n",
      "5\n",
      "16\n",
      "8\n",
      "4\n",
      "2\n"
     ]
    }
   ],
   "source": [
    "syracuse(29)"
   ]
  },
  {
   "cell_type": "code",
   "execution_count": 6,
   "metadata": {},
   "outputs": [
    {
     "name": "stdout",
     "output_type": "stream",
     "text": [
      "1053\n",
      "3160\n",
      "1580\n",
      "790\n",
      "395\n",
      "1186\n",
      "593\n",
      "1780\n",
      "890\n",
      "445\n",
      "1336\n",
      "668\n",
      "334\n",
      "167\n",
      "502\n",
      "251\n",
      "754\n",
      "377\n",
      "1132\n",
      "566\n",
      "283\n",
      "850\n",
      "425\n",
      "1276\n",
      "638\n",
      "319\n",
      "958\n",
      "479\n",
      "1438\n",
      "719\n",
      "2158\n",
      "1079\n",
      "3238\n",
      "1619\n",
      "4858\n",
      "2429\n",
      "7288\n",
      "3644\n",
      "1822\n",
      "911\n",
      "2734\n",
      "1367\n",
      "4102\n",
      "2051\n",
      "6154\n",
      "3077\n",
      "9232\n",
      "4616\n",
      "2308\n",
      "1154\n",
      "577\n",
      "1732\n",
      "866\n",
      "433\n",
      "1300\n",
      "650\n",
      "325\n",
      "976\n",
      "488\n",
      "244\n",
      "122\n",
      "61\n",
      "184\n",
      "92\n",
      "46\n",
      "23\n",
      "70\n",
      "35\n",
      "106\n",
      "53\n",
      "160\n",
      "80\n",
      "40\n",
      "20\n",
      "10\n",
      "5\n",
      "16\n",
      "8\n",
      "4\n",
      "2\n"
     ]
    }
   ],
   "source": [
    "syracuse(1053)"
   ]
  },
  {
   "cell_type": "code",
   "execution_count": 8,
   "metadata": {},
   "outputs": [
    {
     "name": "stdout",
     "output_type": "stream",
     "text": [
      "2000001\n",
      "6000004\n",
      "3000002\n",
      "1500001\n",
      "4500004\n",
      "2250002\n",
      "1125001\n",
      "3375004\n",
      "1687502\n",
      "843751\n",
      "2531254\n",
      "1265627\n",
      "3796882\n",
      "1898441\n",
      "5695324\n",
      "2847662\n",
      "1423831\n",
      "4271494\n",
      "2135747\n",
      "6407242\n",
      "3203621\n",
      "9610864\n",
      "4805432\n",
      "2402716\n",
      "1201358\n",
      "600679\n",
      "1802038\n",
      "901019\n",
      "2703058\n",
      "1351529\n",
      "4054588\n",
      "2027294\n",
      "1013647\n",
      "3040942\n",
      "1520471\n",
      "4561414\n",
      "2280707\n",
      "6842122\n",
      "3421061\n",
      "10263184\n",
      "5131592\n",
      "2565796\n",
      "1282898\n",
      "641449\n",
      "1924348\n",
      "962174\n",
      "481087\n",
      "1443262\n",
      "721631\n",
      "2164894\n",
      "1082447\n",
      "3247342\n",
      "1623671\n",
      "4871014\n",
      "2435507\n",
      "7306522\n",
      "3653261\n",
      "10959784\n",
      "5479892\n",
      "2739946\n",
      "1369973\n",
      "4109920\n",
      "2054960\n",
      "1027480\n",
      "513740\n",
      "256870\n",
      "128435\n",
      "385306\n",
      "192653\n",
      "577960\n",
      "288980\n",
      "144490\n",
      "72245\n",
      "216736\n",
      "108368\n",
      "54184\n",
      "27092\n",
      "13546\n",
      "6773\n",
      "20320\n",
      "10160\n",
      "5080\n",
      "2540\n",
      "1270\n",
      "635\n",
      "1906\n",
      "953\n",
      "2860\n",
      "1430\n",
      "715\n",
      "2146\n",
      "1073\n",
      "3220\n",
      "1610\n",
      "805\n",
      "2416\n",
      "1208\n",
      "604\n",
      "302\n",
      "151\n",
      "454\n",
      "227\n",
      "682\n",
      "341\n",
      "1024\n",
      "512\n",
      "256\n",
      "128\n",
      "64\n",
      "32\n",
      "16\n",
      "8\n",
      "4\n",
      "2\n"
     ]
    }
   ],
   "source": [
    "syracuse(2000001)"
   ]
  },
  {
   "cell_type": "code",
   "execution_count": null,
   "metadata": {
    "collapsed": true
   },
   "outputs": [],
   "source": []
  }
 ],
 "metadata": {
  "kernelspec": {
   "display_name": "Python 3",
   "language": "python",
   "name": "python3"
  },
  "language_info": {
   "codemirror_mode": {
    "name": "ipython",
    "version": 3
   },
   "file_extension": ".py",
   "mimetype": "text/x-python",
   "name": "python",
   "nbconvert_exporter": "python",
   "pygments_lexer": "ipython3",
   "version": "3.6.7"
  }
 },
 "nbformat": 4,
 "nbformat_minor": 1
}
