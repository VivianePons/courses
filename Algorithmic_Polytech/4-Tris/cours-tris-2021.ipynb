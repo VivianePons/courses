{
 "cells": [
  {
   "cell_type": "markdown",
   "metadata": {},
   "source": [
    "# Cours 4 : tris\n",
    "\n",
    "Un algorithme de **tri** répond au problème suivant :\n",
    "\n"
   ]
  },
  {
   "cell_type": "raw",
   "metadata": {},
   "source": [
    "Input : Un tableau de données comparables entre elles (par exemple : des nombres)\n",
    "Ouput : Un tableau (parfois le même tableau) contenant ces mêmes données par ordre croissant"
   ]
  },
  {
   "cell_type": "markdown",
   "metadata": {},
   "source": [
    "Lorsqu'un algorithme est proposé, on se pose les questions suivantes :\n",
    "\n",
    "* l'algorithme fonctionne-t-il, pourquoi ? Comment le prouver ?\n",
    "* Quelle est la complexité en temps de l'algorithme ? Dans le meilleur des cas ? Dans le pire des cas ? En moyenne ?\n",
    "* Quelle est la complexité en espace de l'algorithme ?\n",
    "* Le tri est-il effectué \"sur place\", c'est-à-dire à l'intérieur du tableau ?\n",
    "* Le tri est-il \"stable\", c'est-à-dire est-ce qu'on modifie l'ordre des valeurs égales dans le tableau ?"
   ]
  },
  {
   "cell_type": "markdown",
   "metadata": {},
   "source": [
    "## Mise en situation\n",
    "\n",
    "Beaucoup d'entre vous ont déjà vu ou entrevu des algorithmes de tris. Nous allons donc commencer par écrire des algorithmes de la façon qui vous semble la plus naturelle et voir ce que l'on peut dire à partir des questions ci-dessus."
   ]
  },
  {
   "cell_type": "code",
   "execution_count": 3,
   "metadata": {},
   "outputs": [],
   "source": [
    "from random import randint\n",
    "t = [randint(1,100) for i in range(100)]\n",
    "print(t)"
   ]
  },
  {
   "cell_type": "code",
   "execution_count": 1,
   "metadata": {
    "collapsed": true
   },
   "outputs": [],
   "source": [
    "Tableaux_tests = [\n",
    "    [5,4,3,2,1],\n",
    "    [1,2,3,4,5],\n",
    "    [6, 14, 2, 7, 10, 7, 11, 11, 17, 19, 5, 8, 9, 2, 14, 19, 13, 6, 1, 15],\n",
    "    [100, 44, 84, 5, 99, 6, 26, 97, 39, 35, 50, 39, 22, 21, 81, 25, 30, 20, 45, 49, 33, 24, 38, 85, 32, 56, 7, 64, 18, 98, 62, 77, 91, 32, 4, 10, 96, 98, 73, 28, 27, 19, 22, 51, 52, 96, 87, 40, 19, 35, 55, 14, 91, 6, 67, 7, 60, 59, 86, 10, 41, 6, 88, 74, 76, 74, 48, 64, 69, 61, 26, 80, 3, 56, 35, 76, 84, 12, 13, 36, 78, 97, 19, 99, 39, 69, 75, 18, 24, 4, 2, 78, 15, 80, 50, 17, 99, 36, 63, 24],\n",
    "    [72, 72, 75, 94, 42, 70, 63, 97, 7, 26, 79, 72, 12, 9, 12, 48, 75, 33, 78, 14, 44, 2, 19, 19, 11, 94, 72, 4, 14, 22, 69, 45, 8, 19, 99, 91, 48, 4, 9, 75, 8, 47, 19, 14, 98, 35, 95, 57, 5, 23, 80, 8, 37, 22, 61, 4, 49, 51, 62, 71, 48, 55, 5, 46, 10, 59, 25, 85, 7, 5, 63, 95, 97, 34, 24, 1, 11, 31, 21, 72, 11, 44, 56, 64, 12, 29, 53, 60, 92, 74, 99, 62, 56, 5, 16, 57, 100, 39, 68, 27]\n",
    "]"
   ]
  },
  {
   "cell_type": "code",
   "execution_count": 3,
   "metadata": {
    "collapsed": true
   },
   "outputs": [],
   "source": [
    "def testTri(algo):\n",
    "    \"\"\"\n",
    "    Lance une série de tests sur un algorithme donné \n",
    "    Input :\n",
    "        - algo, un algorithme qui prend en paramètre un tableau et soit trie le tableau sur place, soit renvoie\n",
    "        une version triée du tableau\n",
    "    \"\"\"\n",
    "    non_trie = []\n",
    "    \n",
    "    surplace = 0\n",
    "    for t in Tableaux_tests:\n",
    "        tcopie = list(t) # on effectue une copie pour le test\n",
    "        t2 = algo(tcopie)\n",
    "        if t2 is None:\n",
    "            surplace+=1\n",
    "            t2 = tcopie\n",
    "        if not sorted(t) == t2: # on compare au tri effectué par python\n",
    "            non_trie.append(t)\n",
    "        \n",
    "    if len(non_trie) == 0:\n",
    "        print(\"L'algoritme a trié tous les tableaux.\")\n",
    "        if surplace == len(Tableaux_tests):\n",
    "            print(\"Le tri se fait sur place\")\n",
    "        else:\n",
    "            print(\"Le tri ne se fait pas sur place\")\n",
    "    else:\n",
    "        for t in non_trie:\n",
    "            print(\"Le tri n'a pas fonctionné pour : \", t)\n",
    "            \n",
    "    \n",
    "    "
   ]
  },
  {
   "cell_type": "markdown",
   "metadata": {},
   "source": [
    "Ecrivez ci-dessous un algortihme de tri"
   ]
  },
  {
   "cell_type": "code",
   "execution_count": 4,
   "metadata": {
    "collapsed": true
   },
   "outputs": [],
   "source": [
    "def monTri(tab): # remarque : stable\n",
    "    for i in range(len(tab)):\n",
    "        for j in range(i,len(tab)):\n",
    "            if(tab[i] > tab[j]):\n",
    "                temp = tab[i]\n",
    "                tab[i] = tab[j]\n",
    "                tab[j] = temp"
   ]
  },
  {
   "cell_type": "code",
   "execution_count": 17,
   "metadata": {},
   "outputs": [
    {
     "name": "stdout",
     "output_type": "stream",
     "text": [
      "L'algoritme a trié tous les tableaux.\n",
      "Le tri se fait sur place\n"
     ]
    }
   ],
   "source": [
    "testTri(monTri)"
   ]
  },
  {
   "cell_type": "code",
   "execution_count": 23,
   "metadata": {
    "collapsed": true
   },
   "outputs": [],
   "source": [
    "def monTriAffiche(tab):\n",
    "    print(tab)\n",
    "    for i in range(len(tab)):\n",
    "        print(i)\n",
    "        for j in range(i,len(tab)):\n",
    "            if(tab[i] > tab[j]):\n",
    "                temp = tab[i]\n",
    "                tab[i] = tab[j]\n",
    "                tab[j] = temp\n",
    "                print(tab)\n",
    "        print(\"fin de boucle\")"
   ]
  },
  {
   "cell_type": "code",
   "execution_count": 24,
   "metadata": {},
   "outputs": [
    {
     "name": "stdout",
     "output_type": "stream",
     "text": [
      "[9, 3, 6, 1, 2, 4, 3, 5, 6, 4]\n",
      "0\n",
      "[3, 9, 6, 1, 2, 4, 3, 5, 6, 4]\n",
      "[1, 9, 6, 3, 2, 4, 3, 5, 6, 4]\n",
      "fin de boucle\n",
      "1\n",
      "[1, 6, 9, 3, 2, 4, 3, 5, 6, 4]\n",
      "[1, 3, 9, 6, 2, 4, 3, 5, 6, 4]\n",
      "[1, 2, 9, 6, 3, 4, 3, 5, 6, 4]\n",
      "fin de boucle\n",
      "2\n",
      "[1, 2, 6, 9, 3, 4, 3, 5, 6, 4]\n",
      "[1, 2, 3, 9, 6, 4, 3, 5, 6, 4]\n",
      "fin de boucle\n",
      "3\n",
      "[1, 2, 3, 6, 9, 4, 3, 5, 6, 4]\n",
      "[1, 2, 3, 4, 9, 6, 3, 5, 6, 4]\n",
      "[1, 2, 3, 3, 9, 6, 4, 5, 6, 4]\n",
      "fin de boucle\n",
      "4\n",
      "[1, 2, 3, 3, 6, 9, 4, 5, 6, 4]\n",
      "[1, 2, 3, 3, 4, 9, 6, 5, 6, 4]\n",
      "fin de boucle\n",
      "5\n",
      "[1, 2, 3, 3, 4, 6, 9, 5, 6, 4]\n",
      "[1, 2, 3, 3, 4, 5, 9, 6, 6, 4]\n",
      "[1, 2, 3, 3, 4, 4, 9, 6, 6, 5]\n",
      "fin de boucle\n",
      "6\n",
      "[1, 2, 3, 3, 4, 4, 6, 9, 6, 5]\n",
      "[1, 2, 3, 3, 4, 4, 5, 9, 6, 6]\n",
      "fin de boucle\n",
      "7\n",
      "[1, 2, 3, 3, 4, 4, 5, 6, 9, 6]\n",
      "fin de boucle\n",
      "8\n",
      "[1, 2, 3, 3, 4, 4, 5, 6, 6, 9]\n",
      "fin de boucle\n",
      "9\n",
      "fin de boucle\n"
     ]
    }
   ],
   "source": [
    "t = [9, 3, 6, 1, 2, 4, 3, 5, 6, 4]\n",
    "monTriAffiche(t)"
   ]
  },
  {
   "cell_type": "code",
   "execution_count": 20,
   "metadata": {
    "collapsed": true
   },
   "outputs": [],
   "source": [
    "def monTriCheck(tab):\n",
    "    tab2 = sorted(tab) # tableau trié pour comparaison\n",
    "    for i in range(len(tab)):\n",
    "        for j in range(i,len(tab)):\n",
    "            if(tab[i] > tab[j]):\n",
    "                temp = tab[i]\n",
    "                tab[i] = tab[j]\n",
    "                tab[j] = temp\n",
    "        assert(tab[:i+1] == tab2[:i+1]) # invariant de boucle"
   ]
  },
  {
   "cell_type": "code",
   "execution_count": 21,
   "metadata": {
    "collapsed": true
   },
   "outputs": [],
   "source": [
    "t = [9, 3, 6, 1, 2, 4, 3, 5, 6, 4]\n",
    "monTriCheck(t)"
   ]
  },
  {
   "cell_type": "code",
   "execution_count": 22,
   "metadata": {},
   "outputs": [
    {
     "data": {
      "text/plain": [
       "[1, 2, 3, 3, 4, 4, 5, 6, 6, 9]"
      ]
     },
     "execution_count": 22,
     "metadata": {},
     "output_type": "execute_result"
    }
   ],
   "source": [
    "t"
   ]
  },
  {
   "cell_type": "markdown",
   "metadata": {},
   "source": [
    "**Pourquoi ça fonctionne ?**\n",
    "\n",
    "A chaque itération, on place e minimum au début de la partie \"non triée\"\n",
    "\n",
    "Invariariant de boucle : le tableau jusqu'à i correspond au tableau trié \n",
    "\n",
    "**Quelle complexité ?**\n",
    "\n",
    "Complexité $O(n^2)$ dans tous les cas\n",
    "\n",
    "(Exemple d'un tri par sélection)"
   ]
  },
  {
   "cell_type": "code",
   "execution_count": 6,
   "metadata": {
    "collapsed": true
   },
   "outputs": [],
   "source": [
    "def tri_bulle(t):\n",
    "    trier = False\n",
    "    while(not trier):\n",
    "        trier=True\n",
    "        for i in range(0,len(t)-1):\n",
    "            if(t[i]>t[i+1]):\n",
    "                tmp=t[i+1]\n",
    "                t[i+1]=t[i]\n",
    "                t[i]=tmp\n",
    "                trier=False"
   ]
  },
  {
   "cell_type": "code",
   "execution_count": 7,
   "metadata": {},
   "outputs": [
    {
     "name": "stdout",
     "output_type": "stream",
     "text": [
      "L'algoritme a trié tous les tableaux.\n",
      "Le tri se fait sur place\n"
     ]
    }
   ],
   "source": [
    "testTri(tri_bulle)"
   ]
  },
  {
   "cell_type": "code",
   "execution_count": 26,
   "metadata": {
    "collapsed": true
   },
   "outputs": [],
   "source": [
    "def tri_bulleAffiche(t):\n",
    "    print(t)\n",
    "    trier = False\n",
    "    while(not trier):\n",
    "        trier=True\n",
    "        for i in range(0,len(t)-1):\n",
    "            if(t[i]>t[i+1]):\n",
    "                tmp=t[i+1]\n",
    "                t[i+1]=t[i]\n",
    "                t[i]=tmp\n",
    "                print(t)\n",
    "                trier=False\n",
    "        print(\"fin de boucle\")"
   ]
  },
  {
   "cell_type": "code",
   "execution_count": 27,
   "metadata": {},
   "outputs": [
    {
     "name": "stdout",
     "output_type": "stream",
     "text": [
      "[9, 3, 6, 1, 2, 4, 3, 5, 6, 4]\n",
      "[3, 9, 6, 1, 2, 4, 3, 5, 6, 4]\n",
      "[3, 6, 9, 1, 2, 4, 3, 5, 6, 4]\n",
      "[3, 6, 1, 9, 2, 4, 3, 5, 6, 4]\n",
      "[3, 6, 1, 2, 9, 4, 3, 5, 6, 4]\n",
      "[3, 6, 1, 2, 4, 9, 3, 5, 6, 4]\n",
      "[3, 6, 1, 2, 4, 3, 9, 5, 6, 4]\n",
      "[3, 6, 1, 2, 4, 3, 5, 9, 6, 4]\n",
      "[3, 6, 1, 2, 4, 3, 5, 6, 9, 4]\n",
      "[3, 6, 1, 2, 4, 3, 5, 6, 4, 9]\n",
      "fin de boucle\n",
      "[3, 1, 6, 2, 4, 3, 5, 6, 4, 9]\n",
      "[3, 1, 2, 6, 4, 3, 5, 6, 4, 9]\n",
      "[3, 1, 2, 4, 6, 3, 5, 6, 4, 9]\n",
      "[3, 1, 2, 4, 3, 6, 5, 6, 4, 9]\n",
      "[3, 1, 2, 4, 3, 5, 6, 6, 4, 9]\n",
      "[3, 1, 2, 4, 3, 5, 6, 4, 6, 9]\n",
      "fin de boucle\n",
      "[1, 3, 2, 4, 3, 5, 6, 4, 6, 9]\n",
      "[1, 2, 3, 4, 3, 5, 6, 4, 6, 9]\n",
      "[1, 2, 3, 3, 4, 5, 6, 4, 6, 9]\n",
      "[1, 2, 3, 3, 4, 5, 4, 6, 6, 9]\n",
      "fin de boucle\n",
      "[1, 2, 3, 3, 4, 4, 5, 6, 6, 9]\n",
      "fin de boucle\n",
      "fin de boucle\n"
     ]
    }
   ],
   "source": [
    "t = [9, 3, 6, 1, 2, 4, 3, 5, 6, 4]\n",
    "tri_bulleAffiche(t)"
   ]
  },
  {
   "cell_type": "code",
   "execution_count": 29,
   "metadata": {},
   "outputs": [
    {
     "name": "stdout",
     "output_type": "stream",
     "text": [
      "[6, 5, 4, 3, 2, 1]\n",
      "[5, 6, 4, 3, 2, 1]\n",
      "[5, 4, 6, 3, 2, 1]\n",
      "[5, 4, 3, 6, 2, 1]\n",
      "[5, 4, 3, 2, 6, 1]\n",
      "[5, 4, 3, 2, 1, 6]\n",
      "fin de boucle\n",
      "[4, 5, 3, 2, 1, 6]\n",
      "[4, 3, 5, 2, 1, 6]\n",
      "[4, 3, 2, 5, 1, 6]\n",
      "[4, 3, 2, 1, 5, 6]\n",
      "fin de boucle\n",
      "[3, 4, 2, 1, 5, 6]\n",
      "[3, 2, 4, 1, 5, 6]\n",
      "[3, 2, 1, 4, 5, 6]\n",
      "fin de boucle\n",
      "[2, 3, 1, 4, 5, 6]\n",
      "[2, 1, 3, 4, 5, 6]\n",
      "fin de boucle\n",
      "[1, 2, 3, 4, 5, 6]\n",
      "fin de boucle\n",
      "fin de boucle\n"
     ]
    }
   ],
   "source": [
    "t = [6,5,4,3,2,1]\n",
    "tri_bulleAffiche(t)"
   ]
  },
  {
   "cell_type": "code",
   "execution_count": 30,
   "metadata": {},
   "outputs": [
    {
     "name": "stdout",
     "output_type": "stream",
     "text": [
      "[2, 3, 4, 5, 1]\n",
      "[2, 3, 4, 1, 5]\n",
      "fin de boucle\n",
      "[2, 3, 1, 4, 5]\n",
      "fin de boucle\n",
      "[2, 1, 3, 4, 5]\n",
      "fin de boucle\n",
      "[1, 2, 3, 4, 5]\n",
      "fin de boucle\n",
      "fin de boucle\n"
     ]
    }
   ],
   "source": [
    "t = [2,3,4,5,1]\n",
    "tri_bulleAffiche(t)"
   ]
  },
  {
   "cell_type": "markdown",
   "metadata": {},
   "source": [
    "**Comment ca marche ?** Déplace les grandes valeurs vers la fin.\n",
    "On voit facilement que le résultat final est trié (test de la boucle while). Et le nombre d'inversions est réduit à chaque passage de boucle.\n",
    "\n",
    "**quelle complexité ?**\n",
    "\n",
    "Si tableau déjà trié : complexité $O(n)$\n",
    "\n",
    "Si le tableau est décroissant \"inversement trié\", on est dans le pire des cas, complexité : $O(n^2)$ car $n$ passage de la boucle.\n",
    "\n",
    "(exemple d'implantation d'un tri bulle)"
   ]
  },
  {
   "cell_type": "code",
   "execution_count": 31,
   "metadata": {
    "collapsed": true
   },
   "outputs": [],
   "source": [
    "def select_sort(array) :\n",
    "    length = len(array)\n",
    "    if length > 0 :\n",
    "        for i in range(len(array)) :\n",
    "            min = array[i]\n",
    "            min_index = i\n",
    "            for j in range(i, length) :\n",
    "                if array[j] < min :\n",
    "                    min = array[j]\n",
    "                    min_index = j\n",
    "            array[min_index] = array[i]\n",
    "            array[i] = min"
   ]
  },
  {
   "cell_type": "code",
   "execution_count": 32,
   "metadata": {},
   "outputs": [
    {
     "name": "stdout",
     "output_type": "stream",
     "text": [
      "L'algoritme a trié tous les tableaux.\n",
      "Le tri se fait sur place\n"
     ]
    }
   ],
   "source": [
    "testTri(select_sort)"
   ]
  },
  {
   "cell_type": "code",
   "execution_count": 33,
   "metadata": {
    "collapsed": true
   },
   "outputs": [],
   "source": [
    "def select_sortAffiche(array) :\n",
    "    print(array)\n",
    "    length = len(array)\n",
    "    if length > 0 :\n",
    "        for i in range(len(array)) :\n",
    "            min = array[i]\n",
    "            min_index = i\n",
    "            for j in range(i, length) :\n",
    "                if array[j] < min :\n",
    "                    min = array[j]\n",
    "                    min_index = j\n",
    "            array[min_index] = array[i]\n",
    "            array[i] = min\n",
    "            print(array)"
   ]
  },
  {
   "cell_type": "code",
   "execution_count": 34,
   "metadata": {},
   "outputs": [
    {
     "name": "stdout",
     "output_type": "stream",
     "text": [
      "[9, 3, 6, 1, 2, 4, 3, 5, 6, 4]\n",
      "[1, 3, 6, 9, 2, 4, 3, 5, 6, 4]\n",
      "[1, 2, 6, 9, 3, 4, 3, 5, 6, 4]\n",
      "[1, 2, 3, 9, 6, 4, 3, 5, 6, 4]\n",
      "[1, 2, 3, 3, 6, 4, 9, 5, 6, 4]\n",
      "[1, 2, 3, 3, 4, 6, 9, 5, 6, 4]\n",
      "[1, 2, 3, 3, 4, 4, 9, 5, 6, 6]\n",
      "[1, 2, 3, 3, 4, 4, 5, 9, 6, 6]\n",
      "[1, 2, 3, 3, 4, 4, 5, 6, 9, 6]\n",
      "[1, 2, 3, 3, 4, 4, 5, 6, 6, 9]\n",
      "[1, 2, 3, 3, 4, 4, 5, 6, 6, 9]\n"
     ]
    }
   ],
   "source": [
    "t = [9, 3, 6, 1, 2, 4, 3, 5, 6, 4]\n",
    "select_sortAffiche(t)"
   ]
  },
  {
   "cell_type": "markdown",
   "metadata": {},
   "source": [
    "Autre implantation du tri par sélection\n",
    "Complexité $O(n^2)$ dans tous les cas"
   ]
  },
  {
   "cell_type": "code",
   "execution_count": 15,
   "metadata": {},
   "outputs": [],
   "source": [
    "def tri(tab):\n",
    "    valTemp = 0;\n",
    "    for i in range(len(tab)):\n",
    "        for j in range(i,len(tab)):\n",
    "            if(tab[j] < tab[i]):\n",
    "                valTemp = tab[i]\n",
    "                tab[i] = tab[j]\n",
    "                tab[j] = valTemp"
   ]
  },
  {
   "cell_type": "code",
   "execution_count": 16,
   "metadata": {},
   "outputs": [
    {
     "name": "stdout",
     "output_type": "stream",
     "text": [
      "L'algoritme a trié tous les tableaux.\n",
      "Le tri se fait sur place\n"
     ]
    }
   ],
   "source": [
    "testTri(tri)"
   ]
  },
  {
   "cell_type": "markdown",
   "metadata": {},
   "source": [
    "Encore un tri par sélection"
   ]
  },
  {
   "cell_type": "markdown",
   "metadata": {},
   "source": [
    "## 3 algorithmes classiques mais inefficaces"
   ]
  },
  {
   "cell_type": "markdown",
   "metadata": {},
   "source": [
    "### Un tri facile à écrire mais pas efficace : le tri par sélection"
   ]
  },
  {
   "cell_type": "code",
   "execution_count": 46,
   "metadata": {
    "collapsed": true
   },
   "outputs": [],
   "source": [
    "def triSelection(t):\n",
    "    \n",
    "    for fin in range(len(t), 0, -1): # on décrémente un indice depuis la fin du tableau\n",
    "        imax = 0\n",
    "        # on cherche l'indice de l'élément maximum\n",
    "        for i in range(fin):\n",
    "            if t[i] >= t[imax]: # stable si >=\n",
    "                imax = i\n",
    "        # on place l'élément maximal à la fin du tableau\n",
    "        t[imax], t[fin-1] = t[fin-1], t[imax]\n",
    "        "
   ]
  },
  {
   "cell_type": "code",
   "execution_count": 36,
   "metadata": {},
   "outputs": [],
   "source": [
    "t = [9, 3, 6, 1, 2, 4, 3, 5, 6, 4]"
   ]
  },
  {
   "cell_type": "code",
   "execution_count": 37,
   "metadata": {},
   "outputs": [
    {
     "data": {
      "text/plain": [
       "[1, 2, 3, 3, 4, 4, 5, 6, 6, 9]"
      ]
     },
     "execution_count": 37,
     "metadata": {},
     "output_type": "execute_result"
    }
   ],
   "source": [
    "triSelection(t)\n",
    "t"
   ]
  },
  {
   "cell_type": "code",
   "execution_count": 38,
   "metadata": {},
   "outputs": [
    {
     "name": "stdout",
     "output_type": "stream",
     "text": [
      "L'algoritme a trié tous les tableaux.\n",
      "Le tri se fait sur place\n"
     ]
    }
   ],
   "source": [
    "testTri(triSelection)"
   ]
  },
  {
   "cell_type": "markdown",
   "metadata": {},
   "source": [
    "**Pourquoi ça fonctionne ?**"
   ]
  },
  {
   "cell_type": "code",
   "execution_count": 48,
   "metadata": {
    "collapsed": true
   },
   "outputs": [],
   "source": [
    "def triSelectionAffichage(t):\n",
    "    print(t)\n",
    "    \n",
    "    for fin in range(len(t), 0, -1): # on décrémente un indice depuis la fin du tableau\n",
    "        imax = 0\n",
    "        # on cherche l'indice de l'élément maximum\n",
    "        for i in range(fin):\n",
    "            if t[i] >= t[imax]:\n",
    "                imax = i\n",
    "        # on place l'élément maximal à la fin du tableau\n",
    "        t[imax], t[fin-1] = t[fin-1], t[imax]\n",
    "        print(t)"
   ]
  },
  {
   "cell_type": "code",
   "execution_count": 40,
   "metadata": {},
   "outputs": [
    {
     "name": "stdout",
     "output_type": "stream",
     "text": [
      "[9, 3, 6, 1, 2, 4, 3, 5, 6, 4]\n",
      "[4, 3, 6, 1, 2, 4, 3, 5, 6, 9]\n",
      "[4, 3, 6, 1, 2, 4, 3, 5, 6, 9]\n",
      "[4, 3, 5, 1, 2, 4, 3, 6, 6, 9]\n",
      "[4, 3, 3, 1, 2, 4, 5, 6, 6, 9]\n",
      "[4, 3, 3, 1, 2, 4, 5, 6, 6, 9]\n",
      "[2, 3, 3, 1, 4, 4, 5, 6, 6, 9]\n",
      "[2, 1, 3, 3, 4, 4, 5, 6, 6, 9]\n",
      "[2, 1, 3, 3, 4, 4, 5, 6, 6, 9]\n",
      "[1, 2, 3, 3, 4, 4, 5, 6, 6, 9]\n",
      "[1, 2, 3, 3, 4, 4, 5, 6, 6, 9]\n"
     ]
    }
   ],
   "source": [
    "t = [9, 3, 6, 1, 2, 4, 3, 5, 6, 4]\n",
    "triSelectionAffichage(t)"
   ]
  },
  {
   "cell_type": "code",
   "execution_count": 49,
   "metadata": {},
   "outputs": [
    {
     "name": "stdout",
     "output_type": "stream",
     "text": [
      "[1, 2, 3, 2, 3, 1, 1, 1]\n",
      "[1, 2, 3, 2, 1, 1, 1, 3]\n",
      "[1, 2, 1, 2, 1, 1, 3, 3]\n",
      "[1, 2, 1, 1, 1, 2, 3, 3]\n",
      "[1, 1, 1, 1, 2, 2, 3, 3]\n",
      "[1, 1, 1, 1, 2, 2, 3, 3]\n",
      "[1, 1, 1, 1, 2, 2, 3, 3]\n",
      "[1, 1, 1, 1, 2, 2, 3, 3]\n",
      "[1, 1, 1, 1, 2, 2, 3, 3]\n"
     ]
    }
   ],
   "source": [
    "t = [1,2,3,2,3,1,1,1]\n",
    "triSelectionAffichage(t)"
   ]
  },
  {
   "cell_type": "markdown",
   "metadata": {},
   "source": [
    "A la fin de chaque itération de boucle, qu'est-ce qui est vrai ? Pourquoi le tableau est-il \"plus trié\" ?\n",
    "\n",
    "La fin du tableau est triée\n",
    "\n",
    "Peut-on le vérfier automatiquement ?"
   ]
  },
  {
   "cell_type": "code",
   "execution_count": 43,
   "metadata": {
    "collapsed": true
   },
   "outputs": [],
   "source": [
    "def triSelectionCheck(t):\n",
    "    # Rajouter un assert à chaque itération pour vérifier l'invariant de boucle\n",
    "    tsorted = sorted(t) # la version triee par python pour \"vérfier\"\n",
    "    \n",
    "    for fin in range(len(t), 0, -1): # on décrémente un indice depuis la fin du tableau\n",
    "        imax = 0\n",
    "        # on cherche l'indice de l'élément maximum\n",
    "        for i in range(fin):\n",
    "            if t[i] > t[imax]:\n",
    "                imax = i\n",
    "        # on place l'élément maximal à la fin du tableau\n",
    "        t[imax], t[fin-1] = t[fin-1], t[imax]\n",
    "        assert(tsorted[fin-1:] == t[fin-1:])\n",
    "    \n"
   ]
  },
  {
   "cell_type": "code",
   "execution_count": 44,
   "metadata": {},
   "outputs": [],
   "source": [
    "t = [9, 3, 6, 1, 2, 4, 3, 5, 6, 4]\n",
    "triSelectionCheck(t)"
   ]
  },
  {
   "cell_type": "markdown",
   "metadata": {},
   "source": [
    "**Quelle est la complexité de l'algorithme ?**\n",
    "\n",
    "Dans le meilleur des cas ? \n",
    "\n",
    "Dans le pire des cas ?\n",
    "\n",
    "En moyenne ?\n",
    "\n",
    "$O(n^2)$ dans tous les cas.\n",
    "\n",
    "**Quelle est la complexité en espace de l'algorithme ?** $O(1)$ = on a pas besoin d'espace supplémentaire en plus du tableau de départ\n",
    "\n",
    "**Le tri est-il effectué sur place ?** oui\n",
    "\n",
    "**Le tri est-il stable ?** Oui si on l'écrit pour. (Attention, la première version du cours ne l'était pas !)"
   ]
  },
  {
   "cell_type": "markdown",
   "metadata": {},
   "source": [
    "**Conclusion sur le tri sélection**\n",
    "\n",
    "Un tri peu efficace et jamais utilisé en pratique.\n",
    "\n",
    "Avantages :\n",
    "\n",
    "* facile à implater\n",
    "* faible nombre d'écriture dans le tableau (cf TP)\n",
    "* Tri sur place et stable (si bien écrit)\n",
    "\n",
    "Inconvénient :\n",
    "\n",
    "* Forte complexité quelque soit les données"
   ]
  },
  {
   "cell_type": "markdown",
   "metadata": {},
   "source": [
    "### Un tri amusant mais toujours inefficace : le tri bulle\n",
    "\n",
    "\n",
    "\n"
   ]
  },
  {
   "cell_type": "code",
   "execution_count": 50,
   "metadata": {
    "collapsed": true
   },
   "outputs": [],
   "source": [
    "def triBulle(t):\n",
    "    for fin in range(len(t),0,-1): # on décrémente un indice depuis la fin du tableau\n",
    "        inversions = False\n",
    "        for i in range(fin-1):\n",
    "            # les grands éléments avancent vers la fin comme des \"bulles\"\n",
    "            if t[i] > t[i+1]:\n",
    "                t[i],t[i+1] = t[i+1],t[i]\n",
    "                inversions = True\n",
    "        if not inversions:\n",
    "            return"
   ]
  },
  {
   "cell_type": "code",
   "execution_count": 51,
   "metadata": {},
   "outputs": [
    {
     "data": {
      "text/plain": [
       "[1, 2, 3, 3, 4, 4, 5, 6, 6, 9]"
      ]
     },
     "execution_count": 51,
     "metadata": {},
     "output_type": "execute_result"
    }
   ],
   "source": [
    "t = [9, 3, 6, 1, 2, 4, 3, 5, 6, 4]\n",
    "triBulle(t)\n",
    "t"
   ]
  },
  {
   "cell_type": "code",
   "execution_count": 52,
   "metadata": {},
   "outputs": [
    {
     "name": "stdout",
     "output_type": "stream",
     "text": [
      "L'algoritme a trié tous les tableaux.\n",
      "Le tri se fait sur place\n"
     ]
    }
   ],
   "source": [
    "testTri(triBulle)"
   ]
  },
  {
   "cell_type": "markdown",
   "metadata": {},
   "source": [
    "**Pourquoi ça fonctionne ?**"
   ]
  },
  {
   "cell_type": "code",
   "execution_count": 53,
   "metadata": {
    "collapsed": true
   },
   "outputs": [],
   "source": [
    "def triBulleAffichage(t):\n",
    "    print(t)\n",
    "    for fin in range(len(t),0,-1): # on décrémente un indice depuis la fin du tableau\n",
    "        inversions = False\n",
    "        for i in range(fin-1):\n",
    "            # les grands éléments avancent vers la fin comme des \"bulles\"\n",
    "            if t[i] > t[i+1]:\n",
    "                t[i],t[i+1] = t[i+1],t[i]\n",
    "                print(t)\n",
    "                inversions = True\n",
    "        print(\"fin de boucle\")\n",
    "        if not inversions:\n",
    "            return"
   ]
  },
  {
   "cell_type": "code",
   "execution_count": 54,
   "metadata": {},
   "outputs": [
    {
     "name": "stdout",
     "output_type": "stream",
     "text": [
      "[9, 3, 6, 1, 2, 4, 3, 5, 6, 4]\n",
      "[3, 9, 6, 1, 2, 4, 3, 5, 6, 4]\n",
      "[3, 6, 9, 1, 2, 4, 3, 5, 6, 4]\n",
      "[3, 6, 1, 9, 2, 4, 3, 5, 6, 4]\n",
      "[3, 6, 1, 2, 9, 4, 3, 5, 6, 4]\n",
      "[3, 6, 1, 2, 4, 9, 3, 5, 6, 4]\n",
      "[3, 6, 1, 2, 4, 3, 9, 5, 6, 4]\n",
      "[3, 6, 1, 2, 4, 3, 5, 9, 6, 4]\n",
      "[3, 6, 1, 2, 4, 3, 5, 6, 9, 4]\n",
      "[3, 6, 1, 2, 4, 3, 5, 6, 4, 9]\n",
      "fin de boucle\n",
      "[3, 1, 6, 2, 4, 3, 5, 6, 4, 9]\n",
      "[3, 1, 2, 6, 4, 3, 5, 6, 4, 9]\n",
      "[3, 1, 2, 4, 6, 3, 5, 6, 4, 9]\n",
      "[3, 1, 2, 4, 3, 6, 5, 6, 4, 9]\n",
      "[3, 1, 2, 4, 3, 5, 6, 6, 4, 9]\n",
      "[3, 1, 2, 4, 3, 5, 6, 4, 6, 9]\n",
      "fin de boucle\n",
      "[1, 3, 2, 4, 3, 5, 6, 4, 6, 9]\n",
      "[1, 2, 3, 4, 3, 5, 6, 4, 6, 9]\n",
      "[1, 2, 3, 3, 4, 5, 6, 4, 6, 9]\n",
      "[1, 2, 3, 3, 4, 5, 4, 6, 6, 9]\n",
      "fin de boucle\n",
      "[1, 2, 3, 3, 4, 4, 5, 6, 6, 9]\n",
      "fin de boucle\n",
      "fin de boucle\n"
     ]
    }
   ],
   "source": [
    "t = [9, 3, 6, 1, 2, 4, 3, 5, 6, 4]\n",
    "triBulleAffichage(t)"
   ]
  },
  {
   "cell_type": "markdown",
   "metadata": {},
   "source": [
    "Quel invariant de boucle peut-on définir ?\n",
    "\n",
    "La fin du tableau est triée.\n",
    "\n",
    "Le nombre d'inversions diminue.\n",
    "\n",
    ".\n",
    "\n",
    "."
   ]
  },
  {
   "cell_type": "code",
   "execution_count": 55,
   "metadata": {
    "collapsed": true
   },
   "outputs": [],
   "source": [
    "def triBulleCheck(t):\n",
    "    # Tri avec vérification de l'invariant de boucle\n",
    "    tsorted = sorted(t)\n",
    "    for fin in range(len(t),0,-1): # on décrémente un indice depuis la fin du tableau\n",
    "        inversions = False\n",
    "        for i in range(fin-1):\n",
    "            # les grands éléments avancent vers la fin comme des \"bulles\"\n",
    "            if t[i] > t[i+1]:\n",
    "                t[i],t[i+1] = t[i+1],t[i]\n",
    "                inversions = True\n",
    "        assert(tsorted[fin-1:] == t[fin-1:])\n",
    "        if not inversions:\n",
    "            return\n"
   ]
  },
  {
   "cell_type": "code",
   "execution_count": 56,
   "metadata": {
    "collapsed": true
   },
   "outputs": [],
   "source": [
    "t = [9, 3, 6, 1, 2, 4, 3, 5, 6, 4]\n",
    "triBulleCheck(t)"
   ]
  },
  {
   "cell_type": "code",
   "execution_count": 37,
   "metadata": {},
   "outputs": [],
   "source": [
    "t"
   ]
  },
  {
   "cell_type": "code",
   "execution_count": 57,
   "metadata": {
    "collapsed": true
   },
   "outputs": [],
   "source": [
    "# Un autre invariant possible\n",
    "def nbInversions(t):\n",
    "    return sum(sum(1 for v in t[i+1:] if v <t[i]) for i in range(len(t)))"
   ]
  },
  {
   "cell_type": "code",
   "execution_count": 58,
   "metadata": {},
   "outputs": [
    {
     "data": {
      "text/plain": [
       "20"
      ]
     },
     "execution_count": 58,
     "metadata": {},
     "output_type": "execute_result"
    }
   ],
   "source": [
    "t = [9, 3, 6, 1, 2, 4, 3, 5, 6, 4]\n",
    "nbInversions(t)"
   ]
  },
  {
   "cell_type": "code",
   "execution_count": 59,
   "metadata": {
    "collapsed": true
   },
   "outputs": [],
   "source": [
    "def triBulleCheck2(t):\n",
    "    # Tri avec vérification de l'invariant par comptage des inversions\n",
    "    nb = nbInversions(t)\n",
    "    \n",
    "    for fin in range(len(t),0,-1): # on décrémente un indice depuis la fin du tableau\n",
    "        inversions = False\n",
    "        for i in range(fin-1):\n",
    "            # les grands éléments avancent vers la fin comme des \"bulles\"\n",
    "            if t[i] > t[i+1]:\n",
    "                t[i],t[i+1] = t[i+1],t[i]\n",
    "                inversions = True\n",
    "        if not inversions:\n",
    "            return\n",
    "        else:\n",
    "            new_nb = nbInversions(t)\n",
    "            assert new_nb < nb\n",
    "            nb = new_nb"
   ]
  },
  {
   "cell_type": "code",
   "execution_count": 60,
   "metadata": {},
   "outputs": [],
   "source": [
    "t = [9, 3, 6, 1, 2, 4, 3, 5, 6, 4]\n",
    "triBulleCheck2(t)"
   ]
  },
  {
   "cell_type": "markdown",
   "metadata": {},
   "source": [
    "**Quelle est la complexité de l'algorithme ?**\n",
    "\n",
    "Dans le meilleur des cas ? $O(n)$\n",
    "\n",
    "Dans le pire des cas ? $O(n^2)$\n",
    "\n",
    "En moyenne ?\n",
    "\n",
    "\n",
    "Pour répondre, il faut calculer le nombre d'inversions moyen d'un \"tableau aléatoire\". Pour simplifier, on supposera que toutes les valeurs sont distinctes et que le tableau correspond à une permutation aléatoire choisie uniformément parmi les permutations d'un certain ensemble.\n",
    "\n",
    "Soit $i$ et $j$, avec $i < j$, deux indices du tableau, la probabilité de $tab[i] < tab[j]$ est $\\frac{1}{2}$ car pour deux valeurs $v$ et $w$, le nombre de tableaux tel que $t[i] = v$ et $t[j] = w$ est le même que le nombre de tableau tel que $t[i] = w$ et $t[j] = w$. Il existe donc $\\frac{n(n-1)}{2}$ couples $i < j$ et chacun a une probabilité $\\frac{1}{2}$ d'être une inversion. Par linéarité de l'espérance, on obtient donc que le nombre d'inversions est en moyenne de $I = \\frac{n(n-1)}{4}$, et comme on sait que $I \\leq C$, on en conclue que la **complexité en moyenne est toujours de $O(n^2)$**\n",
    "\n",
    "Mais attention ! La complexité du tri bulle est supérieure au nombre d'inversion !\n",
    "\n",
    "Par exemple, dans le cas du tableau `[2,3,4,5,1]` : on a 4 inversions (les 4 nombres 2 3 4 5 avec 1) mais pourtant on va être dans le \"pire des cas\" c'est-à-dire $5+4+3+2$ opérations -- beaucoup de comparaisons inutiles. \n",
    "\n",
    "**Quelle est la complexité en espace de l'algorithme ?** $O(1)$\n",
    "\n",
    "**Le tri est-il effectué sur place ?** Oui\n",
    "\n",
    "**Le tri est-il stable ?** Oui"
   ]
  },
  {
   "cell_type": "markdown",
   "metadata": {},
   "source": [
    "**Conclusion pour le tri bulle**\n",
    "\n",
    "Un tri inefficace et jamais utilisé en pratique.\n",
    "\n",
    "Avantages :\n",
    "\n",
    "* Implantation simple\n",
    "* Tri sur place et stable\n",
    "* Complexité linéaire dans le meilleur des cas\n",
    "\n",
    "Inconvénients :\n",
    "\n",
    "* Complexité quadratique dans le pire des cas et en moyenne\n",
    "* Une seule valeur mal placée peut amener à une complexité quadratique\n"
   ]
  },
  {
   "cell_type": "markdown",
   "metadata": {},
   "source": [
    "### Un tri intéressant : le tri par insertion"
   ]
  },
  {
   "cell_type": "code",
   "execution_count": 62,
   "metadata": {
    "collapsed": true
   },
   "outputs": [],
   "source": [
    "def triInsertion(t):\n",
    "    # on va insérer les valeurs une à une dans le début (trié du tableau)\n",
    "    for i in range(1, len(t)): # l'indice de la valeur à insérer\n",
    "        v = t[i]\n",
    "        j = i-1\n",
    "        while j >= 0 and t[j] > v: # on décale les valeurs plus grandes que v\n",
    "            t[j+1] = t[j]\n",
    "            j-=1\n",
    "        t[j+1] = v # on place v à sa position dans cette partie du tableau"
   ]
  },
  {
   "cell_type": "code",
   "execution_count": 63,
   "metadata": {},
   "outputs": [
    {
     "data": {
      "text/plain": [
       "[1, 2, 3, 3, 4, 4, 5, 6, 6, 9]"
      ]
     },
     "execution_count": 63,
     "metadata": {},
     "output_type": "execute_result"
    }
   ],
   "source": [
    "t = [9, 3, 6, 1, 2, 4, 3, 5, 6, 4]\n",
    "triInsertion(t)\n",
    "t"
   ]
  },
  {
   "cell_type": "code",
   "execution_count": 64,
   "metadata": {},
   "outputs": [
    {
     "name": "stdout",
     "output_type": "stream",
     "text": [
      "L'algoritme a trié tous les tableaux.\n",
      "Le tri se fait sur place\n"
     ]
    }
   ],
   "source": [
    "testTri(triInsertion)"
   ]
  },
  {
   "cell_type": "markdown",
   "metadata": {},
   "source": [
    "**Pourquoi ça fonctionne ?**"
   ]
  },
  {
   "cell_type": "code",
   "execution_count": 75,
   "metadata": {
    "collapsed": true
   },
   "outputs": [],
   "source": [
    "def triInsertionAffichage(t):\n",
    "    print(t)\n",
    "    # on va insérer les valeurs une à une dans le début (trié du tableau)\n",
    "    for i in range(1, len(t)): # l'indice de la valeur à insérer\n",
    "        v = t[i]\n",
    "        j = i-1\n",
    "        while j >= 0 and t[j] > v: # on décale les valeurs plus grandes que v\n",
    "            t[j+1] = t[j]\n",
    "            print(t)\n",
    "            j-=1\n",
    "        t[j+1] = v # on place v à sa position dans cette partie du tableau\n",
    "        print(t)\n",
    "        print(\"Fin de boucle\")"
   ]
  },
  {
   "cell_type": "code",
   "execution_count": 76,
   "metadata": {},
   "outputs": [
    {
     "name": "stdout",
     "output_type": "stream",
     "text": [
      "[9, 3, 6, 1, 2, 4, 3, 5, 6, 4]\n",
      "[9, 9, 6, 1, 2, 4, 3, 5, 6, 4]\n",
      "[3, 9, 6, 1, 2, 4, 3, 5, 6, 4]\n",
      "Fin de boucle\n",
      "[3, 9, 9, 1, 2, 4, 3, 5, 6, 4]\n",
      "[3, 6, 9, 1, 2, 4, 3, 5, 6, 4]\n",
      "Fin de boucle\n",
      "[3, 6, 9, 9, 2, 4, 3, 5, 6, 4]\n",
      "[3, 6, 6, 9, 2, 4, 3, 5, 6, 4]\n",
      "[3, 3, 6, 9, 2, 4, 3, 5, 6, 4]\n",
      "[1, 3, 6, 9, 2, 4, 3, 5, 6, 4]\n",
      "Fin de boucle\n",
      "[1, 3, 6, 9, 9, 4, 3, 5, 6, 4]\n",
      "[1, 3, 6, 6, 9, 4, 3, 5, 6, 4]\n",
      "[1, 3, 3, 6, 9, 4, 3, 5, 6, 4]\n",
      "[1, 2, 3, 6, 9, 4, 3, 5, 6, 4]\n",
      "Fin de boucle\n",
      "[1, 2, 3, 6, 9, 9, 3, 5, 6, 4]\n",
      "[1, 2, 3, 6, 6, 9, 3, 5, 6, 4]\n",
      "[1, 2, 3, 4, 6, 9, 3, 5, 6, 4]\n",
      "Fin de boucle\n",
      "[1, 2, 3, 4, 6, 9, 9, 5, 6, 4]\n",
      "[1, 2, 3, 4, 6, 6, 9, 5, 6, 4]\n",
      "[1, 2, 3, 4, 4, 6, 9, 5, 6, 4]\n",
      "[1, 2, 3, 3, 4, 6, 9, 5, 6, 4]\n",
      "Fin de boucle\n",
      "[1, 2, 3, 3, 4, 6, 9, 9, 6, 4]\n",
      "[1, 2, 3, 3, 4, 6, 6, 9, 6, 4]\n",
      "[1, 2, 3, 3, 4, 5, 6, 9, 6, 4]\n",
      "Fin de boucle\n",
      "[1, 2, 3, 3, 4, 5, 6, 9, 9, 4]\n",
      "[1, 2, 3, 3, 4, 5, 6, 6, 9, 4]\n",
      "Fin de boucle\n",
      "[1, 2, 3, 3, 4, 5, 6, 6, 9, 9]\n",
      "[1, 2, 3, 3, 4, 5, 6, 6, 6, 9]\n",
      "[1, 2, 3, 3, 4, 5, 6, 6, 6, 9]\n",
      "[1, 2, 3, 3, 4, 5, 5, 6, 6, 9]\n",
      "[1, 2, 3, 3, 4, 4, 5, 6, 6, 9]\n",
      "Fin de boucle\n"
     ]
    }
   ],
   "source": [
    "t = [9, 3, 6, 1, 2, 4, 3, 5, 6, 4]\n",
    "triInsertionAffichage(t)"
   ]
  },
  {
   "cell_type": "code",
   "execution_count": 77,
   "metadata": {},
   "outputs": [
    {
     "name": "stdout",
     "output_type": "stream",
     "text": [
      "[1, 2, 3, 4, 5]\n",
      "[1, 2, 3, 4, 5]\n",
      "Fin de boucle\n",
      "[1, 2, 3, 4, 5]\n",
      "Fin de boucle\n",
      "[1, 2, 3, 4, 5]\n",
      "Fin de boucle\n",
      "[1, 2, 3, 4, 5]\n",
      "Fin de boucle\n"
     ]
    }
   ],
   "source": [
    "t = [1,2,3,4,5] \n",
    "triInsertionAffichage(t)"
   ]
  },
  {
   "cell_type": "code",
   "execution_count": 78,
   "metadata": {},
   "outputs": [
    {
     "name": "stdout",
     "output_type": "stream",
     "text": [
      "[5, 4, 3, 2, 1]\n",
      "[5, 5, 3, 2, 1]\n",
      "[4, 5, 3, 2, 1]\n",
      "Fin de boucle\n",
      "[4, 5, 5, 2, 1]\n",
      "[4, 4, 5, 2, 1]\n",
      "[3, 4, 5, 2, 1]\n",
      "Fin de boucle\n",
      "[3, 4, 5, 5, 1]\n",
      "[3, 4, 4, 5, 1]\n",
      "[3, 3, 4, 5, 1]\n",
      "[2, 3, 4, 5, 1]\n",
      "Fin de boucle\n",
      "[2, 3, 4, 5, 5]\n",
      "[2, 3, 4, 4, 5]\n",
      "[2, 3, 3, 4, 5]\n",
      "[2, 2, 3, 4, 5]\n",
      "[1, 2, 3, 4, 5]\n",
      "Fin de boucle\n"
     ]
    }
   ],
   "source": [
    "t = [5,4,3,2,1]\n",
    "triInsertionAffichage(t)"
   ]
  },
  {
   "cell_type": "code",
   "execution_count": 79,
   "metadata": {},
   "outputs": [
    {
     "name": "stdout",
     "output_type": "stream",
     "text": [
      "[2, 3, 4, 5, 1]\n",
      "[2, 3, 4, 5, 1]\n",
      "Fin de boucle\n",
      "[2, 3, 4, 5, 1]\n",
      "Fin de boucle\n",
      "[2, 3, 4, 5, 1]\n",
      "Fin de boucle\n",
      "[2, 3, 4, 5, 5]\n",
      "[2, 3, 4, 4, 5]\n",
      "[2, 3, 3, 4, 5]\n",
      "[2, 2, 3, 4, 5]\n",
      "[1, 2, 3, 4, 5]\n",
      "Fin de boucle\n"
     ]
    }
   ],
   "source": [
    "t = [2,3,4,5,1]\n",
    "triInsertionAffichage(t)"
   ]
  },
  {
   "cell_type": "markdown",
   "metadata": {},
   "source": [
    "Quel invariant de boucle peut-on définir ?\n",
    "\n",
    "La première partie du tableau jusque $i$ triée.\n",
    "\n",
    ".\n",
    "\n",
    ".\n",
    "\n",
    "."
   ]
  },
  {
   "cell_type": "code",
   "execution_count": 73,
   "metadata": {
    "collapsed": true
   },
   "outputs": [],
   "source": [
    "def triInsertionCheck(t):\n",
    "    # vérifier que le début du tableau est trié\n",
    "    t2 = list(t) # copie du tableau pour effectuer les tests\n",
    "    \n",
    "    # on va insérer les valeurs une à une dans le début (trié du tableau)\n",
    "    for i in range(1, len(t)): # l'indice de la valeur à insérer\n",
    "        v = t[i]\n",
    "        j = i-1\n",
    "        while j >= 0 and t[j] > v: # on décale les valeurs plus grandes que v\n",
    "            t[j+1] = t[j]\n",
    "            j-=1\n",
    "        t[j+1] = v # on place v à sa position dans cette partie du tableau\n",
    "        assert(all(t[k] <= t[k+1]) for k in range(i))\n",
    "        # quel que soit k < i, alors t[k] <= t[k+1]\n",
    "        # assert(t[:i+1] == t2[:i+1]) # faux !! \n",
    "        # La première partie du tableau ne correspond pas à la première partie du tableau final\n",
    "        assert(sorted(t2[:i+1]) == t[:i+1]) \n",
    "        # ce test vérifie que les valeurs triées snt bien celles du tableau initial\n"
   ]
  },
  {
   "cell_type": "code",
   "execution_count": 74,
   "metadata": {},
   "outputs": [],
   "source": [
    "t = [9, 3, 6, 1, 2, 4, 3, 5, 6, 4]\n",
    "triInsertionCheck(t)"
   ]
  },
  {
   "cell_type": "code",
   "execution_count": 53,
   "metadata": {},
   "outputs": [],
   "source": [
    "t"
   ]
  },
  {
   "cell_type": "markdown",
   "metadata": {},
   "source": [
    "**Quelle est la complexité de l'algorithme ?**\n",
    "\n",
    "Dans le meilleur des cas ? $O(n)$\n",
    "\n",
    "Dans le pire des cas ? $O(n^2)$\n",
    "\n",
    "En moyenne ? $O(n^2)$\n",
    "\n",
    "Le problème est assez similaires à celui du tri à bulles. En effet, à chaque insertion, on supprime un nombre d'inversion exactement égal au décalage que l'on fait subir au tableau trié. Observez par exemple l'insertion du nombre 2 dans l'exemple donné : on décale le 3, le 6 et le 9 et on supprime  les trois inversions de ces nombres avec le 2 lui-même (surtout, on en supprime pas plus). On en arrive donc à la même conclusion que pour le tri à bulle : en moyenne, il faudra au minimum $\\frac{n(n-1)}{4}$ opérations, soit une **complexité en $O(n^2)$**.\n",
    "\n",
    "Cependant, il est à noter que si l'on peut maîtriser le nombre d'inversions : par exemple en limitant la distance possible entre une valeur et sa position finale, on limite aussi à coup sûr le nombre d'opérations. En effet, en observant l'algorithme, on observe que le nombre de comparaisons est pratiquement égal au nombre d'inversions. Ainsi, si on exprime le problème, non plus seulement en fonction de $n$, mais en fonction de $n$ et $I$ où $I$ est le nombre d'inversions on trouve une complexité en $O(n +I)$. En particulier, si on travail sur des données dont le nombre d'inversions est en $O(n)$, alors on retrouve une complexité linéaire.\n",
    "\n",
    "**Quelle est la complexité en espace de l'algorithme ?**\n",
    "\n",
    "**Le tri est-il effectué sur place ?**\n",
    "\n",
    "**Le tri est-il stable ?**\n"
   ]
  },
  {
   "cell_type": "markdown",
   "metadata": {},
   "source": [
    "**Conclusion pour le tri insertion**\n",
    "\n",
    "Un tri inefficace sur des données quelconque mais qui peut être très efficace sur des données \"presque triées\" (cf TP).\n",
    "\n",
    "Avantages :\n",
    "\n",
    "* Tri sur place et stable\n",
    "* Complexité linéaire dans le meilleur des cas\n",
    "* Complexité linéaire au nombre d'inversions\n",
    "\n",
    "Inconvénients :\n",
    "\n",
    "* Complexité quadratique dans le pire des cas et en moyenne"
   ]
  },
  {
   "cell_type": "markdown",
   "metadata": {},
   "source": [
    "## Deux tris récursifs utilisant le principe du \"diviser pour régner\"\n",
    "\n",
    "Le princie de *diviser pour régner* consiste à séparer le problème en deux problèmes plus petits de façon récursive. On voit ici deux algorithmes très classiques souvent à la base des algorithmes implantés \"en vrai\""
   ]
  },
  {
   "cell_type": "markdown",
   "metadata": {},
   "source": [
    "### Le tri rapide"
   ]
  },
  {
   "cell_type": "markdown",
   "metadata": {},
   "source": [
    "A chaque étape, on choisit un pivot $p$ (ici la première valeur) et effectue un parcourt du tableau tel que toutes les valeurs $v \\leq p$ soit au début du tableau et les autres à la fin. On place $p$ à la fin des petites valeurs, c'est-à-dire à son emplacement final dans le tableau trié. Puis on lance le tri récursivement sur les deux moitiés du tableau données par $p$.\n",
    "\n",
    "Commençons par écrire la fonction *pivot* : "
   ]
  },
  {
   "cell_type": "raw",
   "metadata": {},
   "source": [
    "Input : un tableau de taille au moins 1\n",
    "Output : \n",
    "    - le tableau contenant les mêmes valeurs réorganisées en fonction de t[0] : t[0] doit être placé à un certain indice i tel que toutes les valeurs d'indices < i soit inférieures ou égales à t[0] et toutes les valeurs d'indice > i soit supérieures à t[0]\n",
    "    - la fonction renvoie l'indice i du \"pivot\" t[0]"
   ]
  },
  {
   "cell_type": "markdown",
   "metadata": {},
   "source": [
    "**Attention !** La complexité doit être de $O(n)$. Plus précisément, on ne veut parcourir le tableau qu'une seule fois.\n",
    "\n",
    "Indication : l'ordre des valeurs plus petites que le pivot n'a pas besoin d'être respecté. Parcourez le tableau en mettant \"au début\" les plus petites et \"à la fin\" les plus grandes en maintenant les indices nécessaires."
   ]
  },
  {
   "cell_type": "code",
   "execution_count": 84,
   "metadata": {
    "collapsed": true
   },
   "outputs": [],
   "source": [
    "def pivot(t):\n",
    "    # ecrire la fonction pivot\n",
    "    if len(t) <= 1:\n",
    "        return\n",
    "    p = t[0]\n",
    "    j = len(t)\n",
    "    i = 1\n",
    "    while i < j:\n",
    "        if t[i] <= p:\n",
    "            i+=1\n",
    "        else:\n",
    "            t[i],t[j-1] = t[j-1],t[i]\n",
    "            j-=1\n",
    "    t[0], t[j-1] = t[j-1], t[0]\n",
    "    return j-1\n"
   ]
  },
  {
   "cell_type": "code",
   "execution_count": 90,
   "metadata": {
    "collapsed": true
   },
   "outputs": [],
   "source": [
    "def pivotCheck(t):\n",
    "    # ecrire la fonction pivot\n",
    "    if len(t) <= 1:\n",
    "        return\n",
    "    p = t[0]\n",
    "    j = len(t)\n",
    "    i = 1\n",
    "    while i < j:\n",
    "        if t[i] <= p:\n",
    "            i+=1\n",
    "        else:\n",
    "            t[i],t[j-1] = t[j-1],t[i]\n",
    "            j-=1\n",
    "        assert all(t[k] <= p for k in range(i)) and all(t[k] > p for k in range(j,len(t)))\n",
    "    t[0], t[j-1] = t[j-1], t[0]\n",
    "    return j-1"
   ]
  },
  {
   "cell_type": "code",
   "execution_count": null,
   "metadata": {
    "collapsed": true
   },
   "outputs": [],
   "source": [
    "# t = [5,1,2,4,3,    6  , ...., 3,    9, 7, 6,8] i = 5 j = indice de la valeur 9\n",
    "# t = [5,1,2,4,3,    3  , ...., 6,    9, 7, 6,8] i = 5, j = indice de la valeur 6"
   ]
  },
  {
   "cell_type": "code",
   "execution_count": 85,
   "metadata": {},
   "outputs": [
    {
     "data": {
      "text/plain": [
       "6"
      ]
     },
     "execution_count": 85,
     "metadata": {},
     "output_type": "execute_result"
    }
   ],
   "source": [
    "t = [5, 7, 1, 3, 5, 4, 2, 2, 8]\n",
    "pivot(t)"
   ]
  },
  {
   "cell_type": "code",
   "execution_count": 91,
   "metadata": {},
   "outputs": [
    {
     "data": {
      "text/plain": [
       "6"
      ]
     },
     "execution_count": 91,
     "metadata": {},
     "output_type": "execute_result"
    }
   ],
   "source": [
    "t = [5, 7, 1, 3, 5, 4, 2, 2, 8]\n",
    "pivotCheck(t)"
   ]
  },
  {
   "cell_type": "code",
   "execution_count": 86,
   "metadata": {},
   "outputs": [
    {
     "data": {
      "text/plain": [
       "[2, 2, 1, 3, 5, 4, 5, 8, 7]"
      ]
     },
     "execution_count": 86,
     "metadata": {},
     "output_type": "execute_result"
    }
   ],
   "source": [
    "t"
   ]
  },
  {
   "cell_type": "code",
   "execution_count": 87,
   "metadata": {},
   "outputs": [
    {
     "data": {
      "text/plain": [
       "5"
      ]
     },
     "execution_count": 87,
     "metadata": {},
     "output_type": "execute_result"
    }
   ],
   "source": [
    "t[6]"
   ]
  },
  {
   "cell_type": "code",
   "execution_count": 92,
   "metadata": {},
   "outputs": [
    {
     "data": {
      "text/plain": [
       "[1, 2, 2, 3, 4, 5, 5, 7, 8]"
      ]
     },
     "execution_count": 92,
     "metadata": {},
     "output_type": "execute_result"
    }
   ],
   "source": [
    "t = [5, 7, 1, 3, 5, 4, 2, 2, 8]\n",
    "sorted(t)"
   ]
  },
  {
   "cell_type": "code",
   "execution_count": 89,
   "metadata": {
    "collapsed": true
   },
   "outputs": [],
   "source": [
    "for t in Tableaux_tests:\n",
    "    t = list(t)\n",
    "    p = t[0]\n",
    "    i = pivot(t)\n",
    "    assert all(t[j] <= t[i] for j in range(i)) and all(t[j] > t[i] for j in range(i+1, len(t))) and t[i] == p"
   ]
  },
  {
   "cell_type": "markdown",
   "metadata": {},
   "source": [
    "Une fois qu'on a la fonction pivot, le principe du tri est de l'utiliser pour découper notre tableau en deux parties sur lesqueles on lance de nouveau l'algorithme de façon récursive."
   ]
  },
  {
   "cell_type": "code",
   "execution_count": 93,
   "metadata": {
    "collapsed": true
   },
   "outputs": [],
   "source": [
    "def triRapide1(t):\n",
    "    if len(t) <= 1: # cas d'arret\n",
    "        return t\n",
    "    i = pivot(t) # on sépare les valeurs et on récupère l'indice \"du milieu\"\n",
    "    return triRapide1(t[:i]) + [t[i]] + triRapide1(t[i+1:]) # l'appel récursif\n",
    "        "
   ]
  },
  {
   "cell_type": "code",
   "execution_count": 94,
   "metadata": {},
   "outputs": [
    {
     "data": {
      "text/plain": [
       "[1, 2, 3, 3, 4, 4, 5, 6, 6, 9]"
      ]
     },
     "execution_count": 94,
     "metadata": {},
     "output_type": "execute_result"
    }
   ],
   "source": [
    "t = [9, 3, 6, 1, 2, 4, 3, 5, 6, 4]\n",
    "t = triRapide1(t)\n",
    "t"
   ]
  },
  {
   "cell_type": "code",
   "execution_count": 101,
   "metadata": {
    "collapsed": true
   },
   "outputs": [],
   "source": [
    "def triRapide1Affiche(t):\n",
    "    print(t)\n",
    "    if len(t) <= 1: # cas d'arret\n",
    "        return t\n",
    "    i = pivot(t) # on sépare les valeurs et on récupère l'indice \"du milieu\"\n",
    "    print(t)\n",
    "    t2 = triRapide1Affiche(t[:i]) + [t[i]] + triRapide1Affiche(t[i+1:]) # l'appel récursif\n",
    "    print(\"tableau trié : \", t2)\n",
    "    return t2"
   ]
  },
  {
   "cell_type": "code",
   "execution_count": 102,
   "metadata": {},
   "outputs": [
    {
     "name": "stdout",
     "output_type": "stream",
     "text": [
      "L'algoritme a trié tous les tableaux.\n",
      "Le tri ne se fait pas sur place\n"
     ]
    }
   ],
   "source": [
    "testTri(triRapide1)"
   ]
  },
  {
   "cell_type": "code",
   "execution_count": 103,
   "metadata": {},
   "outputs": [
    {
     "name": "stdout",
     "output_type": "stream",
     "text": [
      "[9, 3, 6, 1, 2, 4, 3, 5, 6, 4]\n",
      "[4, 3, 6, 1, 2, 4, 3, 5, 6, 9]\n",
      "[4, 3, 6, 1, 2, 4, 3, 5, 6]\n",
      "[4, 3, 3, 1, 2, 4, 5, 6, 6]\n",
      "[4, 3, 3, 1, 2]\n",
      "[2, 3, 3, 1, 4]\n",
      "[2, 3, 3, 1]\n",
      "[1, 2, 3, 3]\n",
      "[1]\n",
      "[3, 3]\n",
      "[3, 3]\n",
      "[3]\n",
      "[]\n",
      "tableau trié :  [3, 3]\n",
      "tableau trié :  [1, 2, 3, 3]\n",
      "[]\n",
      "tableau trié :  [1, 2, 3, 3, 4]\n",
      "[5, 6, 6]\n",
      "[5, 6, 6]\n",
      "[]\n",
      "[6, 6]\n",
      "[6, 6]\n",
      "[6]\n",
      "[]\n",
      "tableau trié :  [6, 6]\n",
      "tableau trié :  [5, 6, 6]\n",
      "tableau trié :  [1, 2, 3, 3, 4, 4, 5, 6, 6]\n",
      "[]\n",
      "tableau trié :  [1, 2, 3, 3, 4, 4, 5, 6, 6, 9]\n"
     ]
    },
    {
     "data": {
      "text/plain": [
       "[1, 2, 3, 3, 4, 4, 5, 6, 6, 9]"
      ]
     },
     "execution_count": 103,
     "metadata": {},
     "output_type": "execute_result"
    }
   ],
   "source": [
    "t = [9, 3, 6, 1, 2, 4, 3, 5, 6, 4]\n",
    "triRapide1Affiche(t)"
   ]
  },
  {
   "cell_type": "markdown",
   "metadata": {},
   "source": [
    "Tel qu'on l'a écrit, l'algorithme fait de recopie le tableau à chaque appel récursif, mais on peut corriger le problème. Voici une version \"tout en un\" ou le même tableau est passé en paramètre, dans ce cas, on doit aussi passer les bornes du tableau."
   ]
  },
  {
   "cell_type": "code",
   "execution_count": 122,
   "metadata": {
    "collapsed": true
   },
   "outputs": [],
   "source": [
    "@compteAppels\n",
    "def triRapideRec(t, deb, fin):\n",
    "    if fin - deb <= 1: # condition d'arret (taille 0 ou 1)\n",
    "        return\n",
    "    # pivot\n",
    "    p = t[deb]\n",
    "    i = deb + 1\n",
    "    j = fin\n",
    "    while i < j:\n",
    "        if t[i] <= p:\n",
    "            i+=1\n",
    "        else:\n",
    "            j-= 1\n",
    "            t[i],t[j] = t[j],t[i]\n",
    "    i-=1\n",
    "    t[deb],t[i] = t[i],t[deb]\n",
    "    \n",
    "    # appels récursifs\n",
    "    triRapideRec(t,deb,i)\n",
    "    triRapideRec(t, i+1, fin)\n",
    "\n",
    "def triRapide2(t):\n",
    "    triRapideRec(t, 0, len(t))"
   ]
  },
  {
   "cell_type": "code",
   "execution_count": 105,
   "metadata": {},
   "outputs": [
    {
     "data": {
      "text/plain": [
       "[1, 2, 3, 3, 4, 4, 5, 6, 6, 9]"
      ]
     },
     "execution_count": 105,
     "metadata": {},
     "output_type": "execute_result"
    }
   ],
   "source": [
    "t = [9, 3, 6, 1, 2, 4, 3, 5, 6, 4]\n",
    "triRapide2(t)\n",
    "t"
   ]
  },
  {
   "cell_type": "code",
   "execution_count": 106,
   "metadata": {},
   "outputs": [
    {
     "name": "stdout",
     "output_type": "stream",
     "text": [
      "L'algoritme a trié tous les tableaux.\n",
      "Le tri se fait sur place\n"
     ]
    }
   ],
   "source": [
    "testTri(triRapide2)"
   ]
  },
  {
   "cell_type": "markdown",
   "metadata": {},
   "source": [
    "**Pourquoi ça fonctionne ?**\n",
    "\n",
    "Observons sur l'exemple précédent"
   ]
  },
  {
   "cell_type": "code",
   "execution_count": 115,
   "metadata": {
    "collapsed": true
   },
   "outputs": [],
   "source": [
    "import functools\n",
    "\n",
    "COMPTEUR = 0\n",
    "STACK = 0\n",
    "\n",
    "def compteAppels(func):\n",
    "    c = 0\n",
    "    \"\"\"Print the function signature and return value\"\"\"\n",
    "    @functools.wraps(func)\n",
    "    def wrapper_debug(*args, **kwargs):\n",
    "        global COMPTEUR, STACK\n",
    "        COMPTEUR +=1\n",
    "        STACK += 1\n",
    "        value = func(*args, **kwargs)\n",
    "        STACK -=1\n",
    "        if STACK == 0:\n",
    "            print(f\"{COMPTEUR} appels à la fonction {func.__name__}\")\n",
    "            COMPTEUR = 0\n",
    "        return value\n",
    "    return wrapper_debug"
   ]
  },
  {
   "cell_type": "code",
   "execution_count": 116,
   "metadata": {},
   "outputs": [],
   "source": [
    "@compteAppels\n",
    "def triRapideRecAffichage(t, deb, fin):\n",
    "    print(\"Appel sur \", deb, fin)\n",
    "    if fin - deb <= 1: # condition d'arret (taille 0 ou 1)\n",
    "        return\n",
    "    # pivot\n",
    "    print(t)\n",
    "    p = t[deb]\n",
    "    i = deb + 1\n",
    "    j = fin\n",
    "    while i < j:\n",
    "        if t[i] <= p:\n",
    "            i+=1\n",
    "        else:\n",
    "            j-= 1\n",
    "            t[i],t[j] = t[j],t[i]\n",
    "    i-=1\n",
    "    t[deb],t[i] = t[i],t[deb]\n",
    "    print(\"pivot indice \", i)\n",
    "    print(t)\n",
    "    \n",
    "    # appels récursifs\n",
    "    triRapideRecAffichage(t,deb,i)\n",
    "    triRapideRecAffichage(t, i+1, fin)\n",
    "\n",
    "def triRapide2Affichage(t):\n",
    "    triRapideRecAffichage(t, 0, len(t))"
   ]
  },
  {
   "cell_type": "code",
   "execution_count": 117,
   "metadata": {},
   "outputs": [
    {
     "name": "stdout",
     "output_type": "stream",
     "text": [
      "Appel sur  0 9\n",
      "[1, 2, 3, 4, 5, 6, 7, 8, 9]\n",
      "pivot indice  0\n",
      "[1, 3, 4, 5, 6, 7, 8, 9, 2]\n",
      "Appel sur  0 0\n",
      "Appel sur  1 9\n",
      "[1, 3, 4, 5, 6, 7, 8, 9, 2]\n",
      "pivot indice  2\n",
      "[1, 2, 3, 6, 7, 8, 9, 5, 4]\n",
      "Appel sur  1 2\n",
      "Appel sur  3 9\n",
      "[1, 2, 3, 6, 7, 8, 9, 5, 4]\n",
      "pivot indice  5\n",
      "[1, 2, 3, 5, 4, 6, 9, 8, 7]\n",
      "Appel sur  3 5\n",
      "[1, 2, 3, 5, 4, 6, 9, 8, 7]\n",
      "pivot indice  4\n",
      "[1, 2, 3, 4, 5, 6, 9, 8, 7]\n",
      "Appel sur  3 4\n",
      "Appel sur  5 5\n",
      "Appel sur  6 9\n",
      "[1, 2, 3, 4, 5, 6, 9, 8, 7]\n",
      "pivot indice  8\n",
      "[1, 2, 3, 4, 5, 6, 7, 8, 9]\n",
      "Appel sur  6 8\n",
      "[1, 2, 3, 4, 5, 6, 7, 8, 9]\n",
      "pivot indice  6\n",
      "[1, 2, 3, 4, 5, 6, 7, 8, 9]\n",
      "Appel sur  6 6\n",
      "Appel sur  7 8\n",
      "Appel sur  9 9\n",
      "13 appels à la fonction triRapideRecAffichage\n"
     ]
    }
   ],
   "source": [
    "t = [1,2,3,4,5,6,7,8,9]\n",
    "triRapide2Affichage(t)"
   ]
  },
  {
   "cell_type": "code",
   "execution_count": 118,
   "metadata": {},
   "outputs": [
    {
     "name": "stdout",
     "output_type": "stream",
     "text": [
      "Appel sur  0 9\n",
      "[5, 8, 2, 1, 3, 7, 6, 4, 9]\n",
      "pivot indice  4\n",
      "[3, 4, 2, 1, 5, 6, 7, 9, 8]\n",
      "Appel sur  0 4\n",
      "[3, 4, 2, 1, 5, 6, 7, 9, 8]\n",
      "pivot indice  2\n",
      "[2, 1, 3, 4, 5, 6, 7, 9, 8]\n",
      "Appel sur  0 2\n",
      "[2, 1, 3, 4, 5, 6, 7, 9, 8]\n",
      "pivot indice  1\n",
      "[1, 2, 3, 4, 5, 6, 7, 9, 8]\n",
      "Appel sur  0 1\n",
      "Appel sur  2 2\n",
      "Appel sur  3 4\n",
      "Appel sur  5 9\n",
      "[1, 2, 3, 4, 5, 6, 7, 9, 8]\n",
      "pivot indice  5\n",
      "[1, 2, 3, 4, 5, 6, 9, 8, 7]\n",
      "Appel sur  5 5\n",
      "Appel sur  6 9\n",
      "[1, 2, 3, 4, 5, 6, 9, 8, 7]\n",
      "pivot indice  8\n",
      "[1, 2, 3, 4, 5, 6, 7, 8, 9]\n",
      "Appel sur  6 8\n",
      "[1, 2, 3, 4, 5, 6, 7, 8, 9]\n",
      "pivot indice  6\n",
      "[1, 2, 3, 4, 5, 6, 7, 8, 9]\n",
      "Appel sur  6 6\n",
      "Appel sur  7 8\n",
      "Appel sur  9 9\n",
      "13 appels à la fonction triRapideRecAffichage\n"
     ]
    }
   ],
   "source": [
    "t = [5,8,2,1,3,7,6,4,9]\n",
    "triRapide2Affichage(t)"
   ]
  },
  {
   "cell_type": "code",
   "execution_count": 108,
   "metadata": {},
   "outputs": [
    {
     "name": "stdout",
     "output_type": "stream",
     "text": [
      "Appel sur  0 10\n",
      "[9, 3, 6, 1, 2, 4, 3, 5, 6, 4]\n",
      "pivot indice  9\n",
      "[4, 3, 6, 1, 2, 4, 3, 5, 6, 9]\n",
      "Appel sur  0 9\n",
      "[4, 3, 6, 1, 2, 4, 3, 5, 6, 9]\n",
      "pivot indice  5\n",
      "[4, 3, 3, 1, 2, 4, 5, 6, 6, 9]\n",
      "Appel sur  0 5\n",
      "[4, 3, 3, 1, 2, 4, 5, 6, 6, 9]\n",
      "pivot indice  4\n",
      "[2, 3, 3, 1, 4, 4, 5, 6, 6, 9]\n",
      "Appel sur  0 4\n",
      "[2, 3, 3, 1, 4, 4, 5, 6, 6, 9]\n",
      "pivot indice  1\n",
      "[1, 2, 3, 3, 4, 4, 5, 6, 6, 9]\n",
      "Appel sur  0 1\n",
      "Appel sur  2 4\n",
      "[1, 2, 3, 3, 4, 4, 5, 6, 6, 9]\n",
      "pivot indice  3\n",
      "[1, 2, 3, 3, 4, 4, 5, 6, 6, 9]\n",
      "Appel sur  2 3\n",
      "Appel sur  4 4\n",
      "Appel sur  5 5\n",
      "Appel sur  6 9\n",
      "[1, 2, 3, 3, 4, 4, 5, 6, 6, 9]\n",
      "pivot indice  6\n",
      "[1, 2, 3, 3, 4, 4, 5, 6, 6, 9]\n",
      "Appel sur  6 6\n",
      "Appel sur  7 9\n",
      "[1, 2, 3, 3, 4, 4, 5, 6, 6, 9]\n",
      "pivot indice  8\n",
      "[1, 2, 3, 3, 4, 4, 5, 6, 6, 9]\n",
      "Appel sur  7 8\n",
      "Appel sur  9 9\n",
      "Appel sur  10 10\n"
     ]
    }
   ],
   "source": [
    "t = [9, 3, 6, 1, 2, 4, 3, 5, 6, 4]\n",
    "triRapide2Affichage(t)"
   ]
  },
  {
   "cell_type": "code",
   "execution_count": 123,
   "metadata": {},
   "outputs": [
    {
     "name": "stdout",
     "output_type": "stream",
     "text": [
      "1887 appels à la fonction triRapideRec\n"
     ]
    }
   ],
   "source": [
    "t = list(range(1000))\n",
    "triRapide2(t)"
   ]
  },
  {
   "cell_type": "code",
   "execution_count": 124,
   "metadata": {},
   "outputs": [
    {
     "name": "stdout",
     "output_type": "stream",
     "text": [
      "1359 appels à la fonction triRapideRec\n"
     ]
    }
   ],
   "source": [
    "from random import randint\n",
    "t = [randint(1,1000) for i in range(1000)]\n",
    "triRapide2(t)"
   ]
  },
  {
   "cell_type": "markdown",
   "metadata": {},
   "source": [
    "Comment prouver que ça marche ?\n",
    "\n",
    "C'est une prevue par récurrence. \n",
    "\n",
    "Cas de base : taille <= 1 : ok\n",
    "\n",
    "Invariant (a): le pivot est bien placé à la fin de l'algo\n",
    "Ce qui est avant -- après : tableau structement plus petit et donc trié récursivement\n",
    "\n",
    "Comment prouver que le pivot fonctionne ?\n",
    "\n",
    "Qu'est-ce qui est vrai à la fin de chaque itération de boucle dans le pivot ? \n",
    "\n",
    "Invariant (b) dans le pivot : tout ce qui est avant l'indice i est plus petit et tout ce qui est après j est plus grand.\n",
    "\n"
   ]
  },
  {
   "cell_type": "code",
   "execution_count": 109,
   "metadata": {
    "collapsed": true
   },
   "outputs": [],
   "source": [
    "def triRapideRecCheck(t, deb, fin):\n",
    "    if fin - deb <= 1: # condition d'arret (taille 0 ou 1)\n",
    "        return\n",
    "    # pivot\n",
    "    p = t[deb]\n",
    "    i = deb + 1\n",
    "    j = fin\n",
    "    while i < j:\n",
    "        if t[i] <= p:\n",
    "            i+=1\n",
    "        else:\n",
    "            j-= 1\n",
    "            t[i],t[j] = t[j],t[i]\n",
    "        # invariant (b)\n",
    "        assert all(t[k] <= p for k in range(deb,i)) and all(t[k] > p for k in range(j,fin))\n",
    "    i-=1\n",
    "    t[deb],t[i] = t[i],t[deb]\n",
    "    assert t[i] == sorted(t)[i] # le pivot est placé à son emplacement final -- invariant (a)\n",
    "    \n",
    "    # appels récursifs\n",
    "    triRapideRecCheck(t,deb,i)\n",
    "    triRapideRecCheck(t, i+1, fin)\n",
    "\n",
    "def triRapide2Check(t):\n",
    "    triRapideRecCheck(t, 0, len(t))"
   ]
  },
  {
   "cell_type": "code",
   "execution_count": 110,
   "metadata": {},
   "outputs": [
    {
     "data": {
      "text/plain": [
       "[1, 2, 3, 3, 4, 4, 5, 6, 6, 9]"
      ]
     },
     "execution_count": 110,
     "metadata": {},
     "output_type": "execute_result"
    }
   ],
   "source": [
    "t = [9, 3, 6, 1, 2, 4, 3, 5, 6, 4]\n",
    "triRapide2Check(t)\n",
    "t"
   ]
  },
  {
   "cell_type": "markdown",
   "metadata": {},
   "source": [
    "**Quelle est la complexité de l'algorithme ?**"
   ]
  },
  {
   "cell_type": "markdown",
   "metadata": {},
   "source": [
    "A chaque étape, le tableau est divisé en deux sous-tableaux. La taille de ces sous-tableaux n'est pas constante, elle dépend du pivot. Si l'on choisit un tableau strictement décroissant ou croissant, à chaque étape $n$, il sera décomposé en un tableau de taille $O$ et un tableau de taille $n-1$. Soit $f$ la complexité de mon tri, on obtient la formule récursive\n",
    "\n",
    "$\\begin{align}\n",
    "f(1) &= 1 \\\\\n",
    "f(n) &= n + f(n-1).\n",
    "\\end{align}$\n",
    "\n",
    "En dé-récursivant : $f$ est la somme des entiers de 1 à $n$. On a une **complexité quadratique** soit $O(n^2)$.\n",
    "\n",
    "**ATTENTION : pire des cas = cas du tableau trié**\n",
    "\n",
    "Le cas où le **tableau est trié** dans un sens ou dans l'autre est donc **le pire des cas** pour le tri rapide. Quel est le meilleur des cas ? Celui où le tableau est divisé en deux sous-parties de tailles équivalentes. Prenons par exemple la fonction récursive suivante\n",
    "\n",
    "$\\begin{align}\n",
    "f( n \\leq 1) &= 1 \\\\\n",
    "f(n) &= n + 2 f \\left(\\frac{n}{2} \\right) \\\\\n",
    "     &= n + 2 \\left( \\frac{n}{2} + 2 \\left( \\frac{n}{ 4} + \\dots \\right) \\right)\n",
    "\\end{align}$\n",
    "\n",
    "En développant, les fractions se simplifient et on obtient $f(n) = n(\\log(n) + 1)$, c'est-à-dire une complexité en $O(n \\log(n))$. Donc la complexité du tri rapide est améliorée si on divise le tableau en parts égales.\n",
    "\n",
    "On peut utiliser cette propriété pour le calcul de la complexité en moyenne. Sans entrer dans les détails du calcul, si le tableau est une permutation aléatoire d'un certain ensemble, le choix du pivot le divisera en sous-parties qui seront équilibrées en moyenne et elles-mêmes des permutations aléatoires. Par une étude probabiliste et des calculs un peu plus poussés, on obtient que **la complexité en moyenne est en $O(n \\log(n))$**.\n",
    "\n",
    "**Quelle est la complexité en espace de l'algorithme ?** $O(1)$\n",
    "\n",
    "**Le tri est-il effectué sur place ?** Oui\n",
    "\n",
    "**Le tri est-il stable ?** Non\n",
    "\n",
    "**Conclusion sur le tri rapide**\n",
    "\n",
    "Tri considéré comme très efficace en pratique et donc souvent utilisé. Cependant, **attention** car la complexité du pire des cas reste quadratique !\n",
    "\n",
    "**Avantages**\n",
    "\n",
    "* Tri en place\n",
    "* Complexité $O(n \\log(n))$ en moyenne\n",
    "* Bonne efficacité en pratique\n",
    "\n",
    "**Inconvénients**\n",
    "\n",
    "* Complexité quadratique dans le pire des cas (et sur le tableau trié)\n",
    "* Peu efficace sur des données \"presque triées\""
   ]
  },
  {
   "cell_type": "markdown",
   "metadata": {},
   "source": [
    "### Le tri fusion\n",
    "\n",
    "Là encore, on va utiliser le principe du *diviser pour régner*. L'idée est la suivante : si mon tableau est de taille 0 ou 1 alors, il est trié. S'il est plus grand, je peux le diviser en deux moitiés égales et les trier séparément. Mon problème est donc maintenant le suivant : **comment fusionner deux tableaux trier en un seul ?**\n",
    "\n",
    "Implantez la fonction suivante. On veut une complexité **linéaire** chacun des tableaux `t1` et `t2` ne doit être parcouru d'une seule fois."
   ]
  },
  {
   "cell_type": "code",
   "execution_count": 128,
   "metadata": {
    "collapsed": true
   },
   "outputs": [],
   "source": [
    "def fusion(t1, t2):\n",
    "    \"\"\"\n",
    "    Input : t1 et t2 deux tableaux déjà trié\n",
    "    Output : un nouveau tableau t contenant les valeurs triées de t1 et t2\n",
    "    \"\"\"\n",
    "    i1=0\n",
    "    i2=0\n",
    "    t=[]\n",
    "    i=0\n",
    "    while i1<len(t1) or i2<len(t2):\n",
    "        if i1 >= len(t1):\n",
    "            t.append(t2[i2])\n",
    "            i2+=1\n",
    "        elif i2 >= len(t2):\n",
    "            t.append(t1[i1])\n",
    "            i1+=1\n",
    "        else:\n",
    "            if(t1[i1]<t2[i2]):\n",
    "                t.append(t1[i1])\n",
    "                i1+=1\n",
    "            else:\n",
    "                t.append(t2[i2])\n",
    "                i2+=1\n",
    "    return t\n",
    "    \n",
    "        "
   ]
  },
  {
   "cell_type": "code",
   "execution_count": 129,
   "metadata": {},
   "outputs": [
    {
     "data": {
      "text/plain": [
       "[1, 1, 2, 3, 5, 5, 6, 8, 8, 9]"
      ]
     },
     "execution_count": 129,
     "metadata": {},
     "output_type": "execute_result"
    }
   ],
   "source": [
    "t1 = [1,1,5,6,8,9]\n",
    "t2 = [2,3,5,8]\n",
    "fusion(t1,t2)"
   ]
  },
  {
   "cell_type": "code",
   "execution_count": 130,
   "metadata": {
    "collapsed": true
   },
   "outputs": [],
   "source": [
    "t1 = [2, 2, 3, 4, 4, 6, 6, 7, 8, 8, 9, 10, 11, 12, 12, 12, 15, 15, 15, 18]\n",
    "t2 = [6, 6, 8, 9, 9, 9, 9, 10, 10, 10, 11, 12, 12, 13, 14, 18, 18, 18, 19, 20]\n",
    "assert fusion(t1,t2) == sorted(t1 + t2)"
   ]
  },
  {
   "cell_type": "markdown",
   "metadata": {},
   "source": [
    "On peut maintenant écrire de façon très simple le tri fusion"
   ]
  },
  {
   "cell_type": "code",
   "execution_count": 131,
   "metadata": {
    "collapsed": true
   },
   "outputs": [],
   "source": [
    "def triFusion(t):\n",
    "    if len(t) <= 1: # cas d'arret\n",
    "        return t\n",
    "    m = len(t)//2 # la moitié du tableau\n",
    "    return fusion(triFusion(t[:m]), triFusion(t[m:]))"
   ]
  },
  {
   "cell_type": "code",
   "execution_count": 132,
   "metadata": {},
   "outputs": [
    {
     "data": {
      "text/plain": [
       "[1, 2, 3, 3, 4, 4, 5, 6, 6, 9]"
      ]
     },
     "execution_count": 132,
     "metadata": {},
     "output_type": "execute_result"
    }
   ],
   "source": [
    "t = [9, 3, 6, 1, 2, 4, 3, 5, 6, 4]\n",
    "t = triFusion(t)\n",
    "t"
   ]
  },
  {
   "cell_type": "code",
   "execution_count": 133,
   "metadata": {},
   "outputs": [
    {
     "name": "stdout",
     "output_type": "stream",
     "text": [
      "L'algoritme a trié tous les tableaux.\n",
      "Le tri ne se fait pas sur place\n"
     ]
    }
   ],
   "source": [
    "testTri(triFusion)"
   ]
  },
  {
   "cell_type": "markdown",
   "metadata": {},
   "source": [
    "**Pourquoi ça fonctionne ?**"
   ]
  },
  {
   "cell_type": "code",
   "execution_count": 134,
   "metadata": {
    "collapsed": true
   },
   "outputs": [],
   "source": [
    "def fusionAffiche(t1, t2):\n",
    "    \"\"\"\n",
    "    Input : t1 et t2 deux tableaux déjà trié\n",
    "    Output : un nouveau tableau t contenant les valeurs triées de t1 et t2\n",
    "    \"\"\"\n",
    "    print(\"Fusion de \", t1, t2)\n",
    "    i = 0\n",
    "    j = 0\n",
    "    t = []\n",
    "    while i < len(t1) and j < len(t2):\n",
    "        if t1[i] <= t2[j]:\n",
    "            t.append(t1[i])\n",
    "            i+=1\n",
    "        else:\n",
    "            t.append(t2[j])\n",
    "            j+=1\n",
    "    if i < len(t1):\n",
    "        t.extend(t1[i:])\n",
    "    if j < len(t2):\n",
    "        t.extend(t2[j:])\n",
    "    print(\"Résultat fusion :\", t)\n",
    "    return t\n",
    "\n",
    "def triFusionAffiche(t):\n",
    "    print(t)\n",
    "    if len(t) <= 1: # cas d'arret\n",
    "        return t\n",
    "    m = len(t)//2 # la moitié du tableau\n",
    "    return fusionAffiche(triFusionAffiche(t[:m]), triFusionAffiche(t[m:]))\n"
   ]
  },
  {
   "cell_type": "code",
   "execution_count": 135,
   "metadata": {},
   "outputs": [
    {
     "name": "stdout",
     "output_type": "stream",
     "text": [
      "[9, 3, 6, 1, 2, 4, 3, 5, 6, 4]\n",
      "[9, 3, 6, 1, 2]\n",
      "[9, 3]\n",
      "[9]\n",
      "[3]\n",
      "Fusion de  [9] [3]\n",
      "Résultat fusion : [3, 9]\n",
      "[6, 1, 2]\n",
      "[6]\n",
      "[1, 2]\n",
      "[1]\n",
      "[2]\n",
      "Fusion de  [1] [2]\n",
      "Résultat fusion : [1, 2]\n",
      "Fusion de  [6] [1, 2]\n",
      "Résultat fusion : [1, 2, 6]\n",
      "Fusion de  [3, 9] [1, 2, 6]\n",
      "Résultat fusion : [1, 2, 3, 6, 9]\n",
      "[4, 3, 5, 6, 4]\n",
      "[4, 3]\n",
      "[4]\n",
      "[3]\n",
      "Fusion de  [4] [3]\n",
      "Résultat fusion : [3, 4]\n",
      "[5, 6, 4]\n",
      "[5]\n",
      "[6, 4]\n",
      "[6]\n",
      "[4]\n",
      "Fusion de  [6] [4]\n",
      "Résultat fusion : [4, 6]\n",
      "Fusion de  [5] [4, 6]\n",
      "Résultat fusion : [4, 5, 6]\n",
      "Fusion de  [3, 4] [4, 5, 6]\n",
      "Résultat fusion : [3, 4, 4, 5, 6]\n",
      "Fusion de  [1, 2, 3, 6, 9] [3, 4, 4, 5, 6]\n",
      "Résultat fusion : [1, 2, 3, 3, 4, 4, 5, 6, 6, 9]\n"
     ]
    },
    {
     "data": {
      "text/plain": [
       "[1, 2, 3, 3, 4, 4, 5, 6, 6, 9]"
      ]
     },
     "execution_count": 135,
     "metadata": {},
     "output_type": "execute_result"
    }
   ],
   "source": [
    "t = [9, 3, 6, 1, 2, 4, 3, 5, 6, 4]\n",
    "t = triFusionAffiche(t)\n",
    "t"
   ]
  },
  {
   "cell_type": "markdown",
   "metadata": {},
   "source": [
    "La preuve se fait par récurrence :\n",
    "* le cas de base (taille 0 et taille 1) est trivial\n",
    "* Si le tri fonctionne sur les tableaux de taille $<n$ alors, les deux sous tableaux seront triés. Il reste à prouver que la fonction `fusion` répond bien au problème, en particulier que le tableau renvoyé est bien trié. On peut le voir avec un invariant de boucle, à chaque itération de la boucle, les valeurs déjà ajoutées au tableaux sont toutes inférieures ou égales à l'ensemble des valeurs restantes dans t1 t2."
   ]
  },
  {
   "cell_type": "code",
   "execution_count": 136,
   "metadata": {
    "collapsed": true
   },
   "outputs": [],
   "source": [
    "def fusionCheck(t1, t2):\n",
    "    \"\"\"\n",
    "    Input : t1 et t2 deux tableaux déjà trié\n",
    "    Output : un nouveau tableau t contenant les valeurs triées de t1 et t2\n",
    "    \"\"\"\n",
    "    i = 0\n",
    "    j = 0\n",
    "    t = []\n",
    "    while i < len(t1) and j < len(t2):\n",
    "        if t1[i] <= t2[j]:\n",
    "            t.append(t1[i])\n",
    "            i+=1\n",
    "        else:\n",
    "            t.append(t2[j])\n",
    "            j+=1\n",
    "        assert all(v <= w for v in t for w in t1[i:]) and all(v <= w for v in t for w in t2[j:])\n",
    "    if i < len(t1):\n",
    "        t.extend(t1[i:])\n",
    "    if j < len(t2):\n",
    "        t.extend(t2[j:])\n",
    "    return t\n",
    "\n",
    "def triFusionCheck(t):\n",
    "    if len(t) <= 1: # cas d'arret\n",
    "        return t\n",
    "    m = len(t)//2 # la moitié du tableau\n",
    "    return fusionCheck(triFusionCheck(t[:m]), triFusionCheck(t[m:]))"
   ]
  },
  {
   "cell_type": "code",
   "execution_count": 137,
   "metadata": {},
   "outputs": [
    {
     "data": {
      "text/plain": [
       "[1, 2, 3, 3, 4, 4, 5, 6, 6, 9]"
      ]
     },
     "execution_count": 137,
     "metadata": {},
     "output_type": "execute_result"
    }
   ],
   "source": [
    "t = [9, 3, 6, 1, 2, 4, 3, 5, 6, 4]\n",
    "t = triFusionCheck(t)\n",
    "t"
   ]
  },
  {
   "cell_type": "markdown",
   "metadata": {},
   "source": [
    "**Quelle est la complexité de l'algorithme ?**\n",
    "\n",
    "On découpe systématiquement le tableau en deux parts égales (contrairement au tri rapide, cela ne dépend plus des valeurs). A chaque étape, il faut effectuer une copie du tableau (pour créer les sous-tableaux) et la fusion, cela se fait en $O(n)$. On obtient donc une formule récursive pour la complexité du type de\n",
    "\n",
    "$\\begin{align}\n",
    "f( n \\leq 1) &= 1 \\\\\n",
    "f(n) &= n + 2 f \\left(\\frac{n}{2} \\right) \\\\\n",
    "\\end{align}$\n",
    "\n",
    "et donc une complexité en $O(n \\log(n))$ **dans tous les cas.**\n",
    "\n",
    "**Quelle est la complexité en espace de l'algorithme ?** \n",
    "\n",
    "De façon optimisée, on peut se contententer d'un seul tableau auxilliaire et donc une complexité mémoire en $O(n)$.\n",
    "\n",
    "**Le tri est-il effectué sur place ?**\n",
    "\n",
    "Non. Il y a moyen de l'implanter sur place sans augmenter la complexité mémoire mais c'est plus technique.\n",
    "\n",
    "**Le tri est-il stable ?** Oui (en fonction de comment on écrit la fusion) \n",
    "\n",
    "**Conclusion sur le tri Fusion**\n",
    "\n",
    "C'est un tri avec une bonne efficacité et il est utilisé en pratique. Par exemple, l'algorithme de tri de python le *Timsort* est un dérivé du tri fusion (mélangé avec du tri par insertion)\n",
    "\n",
    "**Avantages**\n",
    "\n",
    "* Complexité $O(n \\log(n))$ dans le pire des cas\n",
    "\n",
    "**Inonvénients**\n",
    "\n",
    "* Complecité $O(n \\log(n))$ dans le meilleure des cas (non linéaire)\n",
    "* Complexité mémoire $O(n)$ : nécessessite des allocations\n",
    "* Pas de tri sur place\n"
   ]
  },
  {
   "cell_type": "markdown",
   "metadata": {},
   "source": [
    "## Exercice : le tri pas rapide\n",
    "\n",
    "Voici un algorithme"
   ]
  },
  {
   "cell_type": "code",
   "execution_count": 132,
   "metadata": {
    "collapsed": true
   },
   "outputs": [],
   "source": [
    "def triPasRapideRec(t, i, j):\n",
    "    if j-i == 1 and t[j] < t[i]:\n",
    "        t[i], t[j] = t[j], t[i]\n",
    "    if j-i <= 1:\n",
    "        return\n",
    "    k = (j+1-i)//3\n",
    "    triPasRapideRec(t, i, j - k)\n",
    "    triPasRapideRec(t, i+k, j)\n",
    "    triPasRapideRec(t, i, j-k)\n",
    "\n",
    "def triPasRapide(t):\n",
    "    triPasRapideRec(t, 0, len(t) - 1)"
   ]
  },
  {
   "cell_type": "code",
   "execution_count": 133,
   "metadata": {},
   "outputs": [],
   "source": [
    "t = [9, 3, 6, 1, 2, 4, 3, 5, 6, 4]\n",
    "triPasRapide(t)\n",
    "t"
   ]
  },
  {
   "cell_type": "code",
   "execution_count": 134,
   "metadata": {},
   "outputs": [],
   "source": [
    "testTri(triPasRapide)"
   ]
  },
  {
   "cell_type": "markdown",
   "metadata": {},
   "source": [
    "* Ajouter des affichages pour comprendre le fonctionnement de l'algorithme sur l'exemple `[9,3,6,1]`\n",
    "* On veut prouver par récurence que l'algorithme fonctionne. \n",
    "  - Quel est le cas de base ? \n",
    "  - Soit $u < v$ dans le tableau, si $u$ apparait avant $v$ dans le tableau, peuvent-ils être échangés ?\n",
    "  - Supposons que $v$ apparait avant $u$ et qu'ils appartiennent tous les deux aux deux premiers tiers, que se passe-t-il ?\n",
    "  - même question mais ils appartiennent aux deux derniers tiers\n",
    "  - Et si $v$ est dans le premier tiers et $u$ dans le dernier tiers ?\n",
    "* Pour un tableau de taille $n$, exprimer sous forme d'une fonction récursive $f(n)$ le nombre d'appels effectués\n",
    "* Un théorème d'analyse d'algorithme, le *master theorem* nous dit que si la complexité d'un algorithme récursif s'exprime sous la forme \n",
    "\n",
    "$\\begin{equation}\n",
    "f(n) = a f\\left( \\frac{n}{b} \\right)\n",
    "\\end{equation}\n",
    "$\n",
    "\n",
    "avec $a \\geq 1$ et $b > 1$, alors la complexité de l'algorithme est de $n^{\\frac{\\log(a)}{\\log(b)}}$. En comparant avec les algorithmes connus, l'algorithme `TriPasRapide` est-il efficace ?"
   ]
  },
  {
   "cell_type": "code",
   "execution_count": 0,
   "metadata": {
    "collapsed": true
   },
   "outputs": [],
   "source": []
  }
 ],
 "metadata": {
  "kernelspec": {
   "display_name": "Python 3",
   "language": "python",
   "name": "python3"
  },
  "language_info": {
   "codemirror_mode": {
    "name": "ipython",
    "version": 3
   },
   "file_extension": ".py",
   "mimetype": "text/x-python",
   "name": "python",
   "nbconvert_exporter": "python",
   "pygments_lexer": "ipython3",
   "version": "3.6.7"
  }
 },
 "nbformat": 4,
 "nbformat_minor": 4
}
