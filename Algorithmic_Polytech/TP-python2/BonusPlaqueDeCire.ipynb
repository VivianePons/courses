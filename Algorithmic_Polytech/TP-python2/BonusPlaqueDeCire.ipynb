{
 "cells": [
  {
   "cell_type": "code",
   "execution_count": 1,
   "metadata": {
    "collapsed": false
   },
   "outputs": [],
   "source": [
    "class PlaqueDeCire:\n",
    "    \n",
    "    def __init__(self, eleves, notes):\n",
    "        plaque = []\n",
    "        for i in xrange(len(eleves)):\n",
    "            plaque.append((eleves[i],notes[i]))\n",
    "        self._plaque = plaque\n",
    "        self._blocked = set()\n",
    "        \n",
    "    def __repr__(self):\n",
    "        lines = []\n",
    "        for i in xrange(len(self._plaque)):\n",
    "            el = self._plaque[i]\n",
    "            if not el is None:\n",
    "                line = el[0] + \" -- \" + str(el[1])\n",
    "            else:\n",
    "                line = \"****\"\n",
    "            if i in self._blocked:\n",
    "                line = \"### \" + line + \" ###\"\n",
    "            line += \"\\n\"\n",
    "            lines.append(line)\n",
    "        return \"\\n\".join(lines)\n",
    "    \n",
    "    def __len__(self):\n",
    "        return len(self._plaque)\n",
    "    \n",
    "    def efface(self,i):\n",
    "        if i in self._blocked:\n",
    "            raise ValueError(\"La ligne a déjà été effacée\")\n",
    "        self._plaque[i] = None\n",
    "    \n",
    "    def ecrit(self,i, eleve, nom):\n",
    "        if not self._plaque[i] is None:\n",
    "            raise ValueError(\"La ligne n'est pas effacée\")\n",
    "        self._plaque[i] = (eleve, nom)\n",
    "        self._blocked.add(i)\n",
    "        \n",
    "    def a_valeur(self,i):\n",
    "        return not self._plaque[i] is None \n",
    "    \n",
    "    def valeur(self, i):\n",
    "        return self._plaque[i]\n",
    "    \n",
    "    def note(self, i):\n",
    "        return self._plaque[i][1]\n",
    "    \n",
    "    def eleve(self,i):\n",
    "        return self._plaque[i][0]\n",
    "    \n",
    "    def est_bloquee(self,i):\n",
    "        return i in self._blocked\n",
    "    \n",
    "    def a_effacables(self):\n",
    "        return len(self._blocked) != len(self._plaque)\n",
    "    \n",
    "    def prochain_effacable(self,i):\n",
    "        while i < len(self._plaque) and i in self._blocked:\n",
    "            i+=1\n",
    "        return i\n",
    "    \n",
    "\n",
    "\n",
    "def randomInit():\n",
    "    etudiants = [\"Benjamin\", \"Sessi\", \"Grégory\", \"Marion\", \"Cyril\", \"Valentin\", \"Mikael\", \"Mathieu\", \"Kévin\", \"Sebastien\", \"Anton\", \"Léo\", \"Rafaël\", \"Mohamed Akil\", \"Pascal\", \"Antoine\", \"Corentin\", \"Sisavang\", \"Anthony\", \"Nathan\", \"Arthur\"]\n",
    "    import random\n",
    "    notes = [random.randint(1,20) for i in xrange(len(etudiants))]\n",
    "    return PlaqueDeCire(etudiants, notes)\n",
    "\n",
    "def fixedInit():\n",
    "    etudiants = [\"Bob\",\"Bab\",\"Lilou\",\"Lilas\"]\n",
    "    notes = [12,10,15,15]\n",
    "    return PlaqueDeCire(etudiants, notes)\n",
    "\n",
    "def valeursDifferentes():\n",
    "    etudiants = [\"Bob\",\"Bab\",\"Lilou\",\"Lilas\"]\n",
    "    notes = [12,10,15,20]\n",
    "    return PlaqueDeCire(etudiants, notes)\n",
    "                "
   ]
  },
  {
   "cell_type": "code",
   "execution_count": 2,
   "metadata": {
    "collapsed": false
   },
   "outputs": [
    {
     "data": {
      "text/plain": [
       "Benjamin -- 13\n",
       "\n",
       "Sessi -- 5\n",
       "\n",
       "Grégory -- 15\n",
       "\n",
       "Marion -- 19\n",
       "\n",
       "Cyril -- 1\n",
       "\n",
       "Valentin -- 2\n",
       "\n",
       "Mikael -- 11\n",
       "\n",
       "Mathieu -- 10\n",
       "\n",
       "Kévin -- 9\n",
       "\n",
       "Sebastien -- 16\n",
       "\n",
       "Anton -- 6\n",
       "\n",
       "Léo -- 12\n",
       "\n",
       "Rafaël -- 8\n",
       "\n",
       "Mohamed Akil -- 18\n",
       "\n",
       "Pascal -- 7\n",
       "\n",
       "Antoine -- 7\n",
       "\n",
       "Corentin -- 11\n",
       "\n",
       "Sisavang -- 13\n",
       "\n",
       "Anthony -- 18\n",
       "\n",
       "Nathan -- 19\n",
       "\n",
       "Arthur -- 10"
      ]
     },
     "execution_count": 2,
     "metadata": {},
     "output_type": "execute_result"
    }
   ],
   "source": [
    "P = randomInit()\n",
    "P"
   ]
  },
  {
   "cell_type": "code",
   "execution_count": 3,
   "metadata": {
    "collapsed": false
   },
   "outputs": [],
   "source": [
    "def sort(P):\n",
    "    \"\"\"\n",
    "    Trie les élèves sur la plaque de cire ``P``\n",
    "    \"\"\"\n",
    "    # ecire le code ici"
   ]
  },
  {
   "cell_type": "code",
   "execution_count": 4,
   "metadata": {
    "collapsed": false
   },
   "outputs": [
    {
     "data": {
      "text/plain": [
       "Bob -- 12\n",
       "\n",
       "Bab -- 10\n",
       "\n",
       "Lilou -- 15\n",
       "\n",
       "Lilas -- 15"
      ]
     },
     "execution_count": 4,
     "metadata": {},
     "output_type": "execute_result"
    }
   ],
   "source": [
    "P = fixedInit()\n",
    "sort(P)\n",
    "P"
   ]
  },
  {
   "cell_type": "code",
   "execution_count": null,
   "metadata": {
    "collapsed": false
   },
   "outputs": [],
   "source": [
    "P = valeursDifferentes()\n",
    "sort(P)\n",
    "P"
   ]
  },
  {
   "cell_type": "code",
   "execution_count": null,
   "metadata": {
    "collapsed": false
   },
   "outputs": [],
   "source": [
    "P = randomInit()\n",
    "sort(P)\n",
    "P"
   ]
  },
  {
   "cell_type": "code",
   "execution_count": null,
   "metadata": {
    "collapsed": false
   },
   "outputs": [],
   "source": []
  },
  {
   "cell_type": "code",
   "execution_count": null,
   "metadata": {
    "collapsed": false
   },
   "outputs": [],
   "source": []
  },
  {
   "cell_type": "code",
   "execution_count": null,
   "metadata": {
    "collapsed": false
   },
   "outputs": [],
   "source": []
  },
  {
   "cell_type": "code",
   "execution_count": null,
   "metadata": {
    "collapsed": false
   },
   "outputs": [],
   "source": []
  },
  {
   "cell_type": "code",
   "execution_count": null,
   "metadata": {
    "collapsed": true
   },
   "outputs": [],
   "source": []
  }
 ],
 "metadata": {
  "kernelspec": {
   "display_name": "Python 2",
   "language": "python",
   "name": "python2"
  },
  "language_info": {
   "codemirror_mode": {
    "name": "ipython",
    "version": 2
   },
   "file_extension": ".py",
   "mimetype": "text/x-python",
   "name": "python",
   "nbconvert_exporter": "python",
   "pygments_lexer": "ipython2",
   "version": "2.7.12"
  }
 },
 "nbformat": 4,
 "nbformat_minor": 0
}
