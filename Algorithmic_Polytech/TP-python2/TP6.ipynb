{
 "cells": [
  {
   "cell_type": "markdown",
   "metadata": {
    "collapsed": false
   },
   "source": [
    "# Arbre binaire de Recherche"
   ]
  },
  {
   "cell_type": "markdown",
   "metadata": {},
   "source": [
    "Le but de ce TP est de manipuler des *Arbres Binaires de Recherche*. Rappel : ce sont des arbres binaires dont les noeuds contiennent des valeurs telles que pour chaque noeud $n$ de valeur $x$ :\n",
    "* les valeurs du sous arbres gauche de $n$ sont inférieures ou égales à $x$\n",
    "* les valeurs du sous arbre droit de $n$ sont strictement supérieures à $x$"
   ]
  },
  {
   "cell_type": "markdown",
   "metadata": {},
   "source": [
    "### Rappel: Papier et crayon sont des outils souvent indispensables à l'informaticien·ne."
   ]
  },
  {
   "cell_type": "markdown",
   "metadata": {},
   "source": [
    "## Structure"
   ]
  },
  {
   "cell_type": "markdown",
   "metadata": {},
   "source": [
    "On utilisera la classe suivante qui donne une implatantion minimale des arbres binaires."
   ]
  },
  {
   "cell_type": "code",
   "execution_count": 3,
   "metadata": {
    "collapsed": false
   },
   "outputs": [],
   "source": [
    "class ArbreBinaire():\n",
    "    \n",
    "    def __init__(self, x, filsG = None, filsD = None): # constructeur\n",
    "        self.valeur = x\n",
    "        self.filsG = filsG\n",
    "        self.filsD = filsD\n",
    "        \n",
    "    def __repr__(self): # affichage\n",
    "        if self.filsG is None and self.filsD is None:\n",
    "            return str(self.valeur)\n",
    "        s = str(self.valeur) + \"[\" + str(self.filsG) + \", \" + str(self.filsD) + \"]\"\n",
    "        s = s.replace(\"None\",\".\") # pour alléger l'affichage\n",
    "        return s"
   ]
  },
  {
   "cell_type": "markdown",
   "metadata": {},
   "source": [
    "Voilà par exemple la création d'un arbre binaire de racine 3, avec un fils gauche de valeur 1 et un fils droit de valeur 4."
   ]
  },
  {
   "cell_type": "code",
   "execution_count": 4,
   "metadata": {
    "collapsed": false
   },
   "outputs": [
    {
     "data": {
      "text/plain": [
       "3[1, 4]"
      ]
     },
     "execution_count": 4,
     "metadata": {},
     "output_type": "execute_result"
    }
   ],
   "source": [
    "N1 = ArbreBinaire(1)\n",
    "N4 = ArbreBinaire(4)\n",
    "N3 = ArbreBinaire(3,N1,N4)\n",
    "N3"
   ]
  },
  {
   "cell_type": "markdown",
   "metadata": {},
   "source": [
    "En voici un autre, cette fois, 4 a aussi un fil droit de valeur 5."
   ]
  },
  {
   "cell_type": "code",
   "execution_count": 5,
   "metadata": {
    "collapsed": false
   },
   "outputs": [
    {
     "data": {
      "text/plain": [
       "3[1, 4[., 5]]"
      ]
     },
     "execution_count": 5,
     "metadata": {},
     "output_type": "execute_result"
    }
   ],
   "source": [
    "N1 = ArbreBinaire(1)\n",
    "N5 = ArbreBinaire(5)\n",
    "N4 = ArbreBinaire(4,None,N5)\n",
    "N3 = ArbreBinaire(3,N1,N4)\n",
    "N3"
   ]
  },
  {
   "cell_type": "markdown",
   "metadata": {},
   "source": [
    "On peut accéder aux différents champs de cette façon :"
   ]
  },
  {
   "cell_type": "code",
   "execution_count": 6,
   "metadata": {
    "collapsed": false
   },
   "outputs": [
    {
     "name": "stdout",
     "output_type": "stream",
     "text": [
      "3\n",
      "1\n",
      "4[., 5]\n"
     ]
    }
   ],
   "source": [
    "print N3.valeur\n",
    "print N3.filsG\n",
    "print N3.filsD"
   ]
  },
  {
   "cell_type": "markdown",
   "metadata": {},
   "source": [
    "**Exercice :** créer l'ABR où l'on a rajouté 2 comme fils droit du sous-arbre enraciné en 1 de l'exemple précédent."
   ]
  },
  {
   "cell_type": "code",
   "execution_count": 1,
   "metadata": {
    "collapsed": false
   },
   "outputs": [],
   "source": [
    "# écrire le code ici"
   ]
  },
  {
   "cell_type": "markdown",
   "metadata": {},
   "source": [
    "## Insertion\n",
    "\n",
    "On rappelle l'algorithme d'insertion dans un arbre binaire de recherche :\n",
    "* l'insertion dans un noeud vide renvoie l'arbre contenant le noeud à insérer,\n",
    "* sinon, on compare la valeur à insérer à la valeur du noeud, on insère à gauche si la valeur est plus petite ou égale et à droite sinon"
   ]
  },
  {
   "cell_type": "code",
   "execution_count": 2,
   "metadata": {
    "collapsed": true
   },
   "outputs": [],
   "source": [
    "\"\"\"\n",
    "Insertion dans un ABR\n",
    "Input :\n",
    "    - A, l'arbre binaire de recherche (peut être None)\n",
    "    - v, la valeur à insérer\n",
    "Output :\n",
    "    la nouvelle racine de l'arbre\n",
    "\"\"\"\n",
    "def insertABR(A,v):\n",
    "    # écrire le code ici\n",
    "    pass"
   ]
  },
  {
   "cell_type": "code",
   "execution_count": 11,
   "metadata": {
    "collapsed": false
   },
   "outputs": [],
   "source": [
    "A = insertABR(None,3)\n",
    "assert(str(A) == \"3\")\n",
    "A = insertABR(A,1)\n",
    "assert(str(A) == \"3[1, .]\")\n",
    "A = insertABR(A,4)\n",
    "assert(str(A) == \"3[1, 4]\")\n",
    "A = insertABR(A,5)\n",
    "assert(str(A) == \"3[1, 4[., 5]]\")\n",
    "A = insertABR(A,2)\n",
    "assert(str(A) == \"3[1[., 2], 4[., 5]]\")\n",
    "A = insertABR(A,1)\n",
    "assert(str(A) == \"3[1[1, 2], 4[., 5]]\")"
   ]
  },
  {
   "cell_type": "code",
   "execution_count": null,
   "metadata": {
    "collapsed": true
   },
   "outputs": [],
   "source": [
    "\"\"\"\n",
    "Insertion d'une liste dans un ABR\n",
    "\n",
    "Input :\n",
    "    - L, une liste de valeurs\n",
    "Output :\n",
    "    L'arbre binaire obtenu en insérant les éléments un à un\n",
    "\"\"\"\n",
    "def insertListABR(L):\n",
    "    # écrire le code ici\n",
    "    pass"
   ]
  },
  {
   "cell_type": "code",
   "execution_count": null,
   "metadata": {
    "collapsed": false
   },
   "outputs": [],
   "source": [
    "A = insertListABR([3,1,4,5,2,1])\n",
    "assert(str(A) == \"3[1[1, 2], 4[., 5]]\")\n",
    "A = insertListABR([3,4,5,1,2,1])\n",
    "assert(str(A) == \"3[1[1, 2], 4[., 5]]\")\n",
    "A = insertListABR([5,1,4,2,5,8,5,6,7,2,5])\n",
    "assert(str(A) == \"5[1[., 4[2[2, .], 5[5[5, .], .]]], 8[6[., 7], .]]\")"
   ]
  },
  {
   "cell_type": "markdown",
   "metadata": {},
   "source": [
    "On vous donne la fonction suivante qui permet de récupérer les éléments de l'arbre en ordre infixe et de les mettre dans une liste.\n",
    "\n",
    "Techniquement on utilise le fantastique système de générateurs en Python. On utilise l'instruction *yield* qui permet d'énumérer l'ensemble à générer. L'instruction *yield* agit un peu comme un *return* qui n'arête pas l'exécution du programme, mais le met en pause jusqu'à son prochain appel."
   ]
  },
  {
   "cell_type": "code",
   "execution_count": null,
   "metadata": {
    "collapsed": true
   },
   "outputs": [],
   "source": [
    "def infixeGenerator(A):\n",
    "    if A is None:\n",
    "        return\n",
    "    for v in infixeGenerator(A.filsG):\n",
    "        yield v\n",
    "    yield A.valeur\n",
    "    for v in infixeGenerator(A.filsD):\n",
    "        yield v\n",
    "        \n",
    "def infixeList(A):\n",
    "    return list(infixeGenerator(A))"
   ]
  },
  {
   "cell_type": "markdown",
   "metadata": {},
   "source": [
    "On peut maintenant vérifier que le tri par ABR... trie bien les valeurs comme escompté!"
   ]
  },
  {
   "cell_type": "code",
   "execution_count": null,
   "metadata": {
    "collapsed": true
   },
   "outputs": [],
   "source": [
    "A = insertListABR([3,1,4,5,2,1])\n",
    "assert(infixeList(A) == [1,1,2,3,4,5])\n",
    "A = insertListABR([3,4,5,1,2,1])\n",
    "assert(infixeList(A) == [1,1,2,3,4,5])\n",
    "A = insertListABR([5,1,4,2,5,8,5,6,7,2,5])\n",
    "assert(infixeList(A) == [1,2,2,4,5,5,5,5,6,7,8])"
   ]
  },
  {
   "cell_type": "markdown",
   "metadata": {},
   "source": [
    "## Rotations"
   ]
  },
  {
   "cell_type": "markdown",
   "metadata": {},
   "source": [
    "Reprenez les algorithmes (vus en TD) de *rotation droite* et *rotation gauche* et implantez les."
   ]
  },
  {
   "cell_type": "code",
   "execution_count": null,
   "metadata": {
    "collapsed": true
   },
   "outputs": [],
   "source": [
    "\"\"\"\n",
    "Rotation droite\n",
    "Effectue une rotation droite à la racine de l'arbre donné en argument.\n",
    "Si l'arbre est vide ou si son sous-arbre gauche est vide, la rotation ne fait rien.\n",
    "\n",
    "Input :\n",
    "    - T un ABR\n",
    "Output:\n",
    "    La nouvelle racine de l'arbre\n",
    "\"\"\"\n",
    "def rightRotation(T):\n",
    "    # écrire le code ici\n",
    "    pass"
   ]
  },
  {
   "cell_type": "code",
   "execution_count": null,
   "metadata": {
    "collapsed": true
   },
   "outputs": [],
   "source": [
    "T = None\n",
    "assert(rightRotation(T) == T)\n",
    "T = ArbreBinaire(2)\n",
    "assert(rightRotation(T) == T)\n",
    "T = ArbreBinaire(2,None, ArbreBinaire(3))\n",
    "assert(rightRotation(T) == T)\n",
    "T = ArbreBinaire(2, ArbreBinaire(1), None)\n",
    "T = rightRotation(T)\n",
    "assert(str(T) == \"1[., 2]\")\n",
    "T = insertListABR([5,7,3,4,1,6,2])\n",
    "assert(str(T) == \"5[3[1[., 2], 4], 7[6, .]]\")\n",
    "T = rightRotation(T)\n",
    "assert(str(T) == \"3[1[., 2], 5[4, 7[6, .]]]\")\n",
    "T = insertListABR([4,5,7,3,2,1,6])\n",
    "assert(str(T) == \"4[3[2[1, .], .], 5[., 7[6, .]]]\")\n",
    "T = rightRotation(T)\n",
    "assert(str(T) == \"3[2[1, .], 4[., 5[., 7[6, .]]]]\")\n",
    "T = insertListABR([5,2,7,4,3,6,1])\n",
    "assert(str(T) == \"5[2[1, 4[3, .]], 7[6, .]]\")\n",
    "T = rightRotation(T)\n",
    "assert(str(T) == \"2[1, 5[4[3, .], 7[6, .]]]\")"
   ]
  },
  {
   "cell_type": "code",
   "execution_count": null,
   "metadata": {
    "collapsed": true
   },
   "outputs": [],
   "source": [
    "\"\"\"\n",
    "Rotation gauche\n",
    "Effectue une rotation gauche à la racine de l'arbre donné en argument.\n",
    "Si l'arbre est vide ou si son sous-arbre droit est vide, la rotation ne fait rien.\n",
    "\n",
    "Input :\n",
    "    - T un ABR\n",
    "Output:\n",
    "    La nouvelle racine de l'arbre\n",
    "\"\"\"\n",
    "def leftRotation(T):\n",
    "    # écrire le code ici\n",
    "    pass"
   ]
  },
  {
   "cell_type": "code",
   "execution_count": null,
   "metadata": {
    "collapsed": false
   },
   "outputs": [],
   "source": [
    "T = None\n",
    "assert(leftRotation(T) == T)\n",
    "T = ArbreBinaire(2)\n",
    "assert(leftRotation(T) == T)\n",
    "T = ArbreBinaire(2,ArbreBinaire(1), None)\n",
    "assert(leftRotation(T) == T)\n",
    "T = ArbreBinaire(2, None, ArbreBinaire(3))\n",
    "T = leftRotation(T)\n",
    "assert(str(T) == \"3[2, .]\")\n",
    "T = insertListABR([3,1,5,2,4,7,6])\n",
    "assert(str(T) == \"3[1[., 2], 5[4, 7[6, .]]]\")\n",
    "T = leftRotation(T)\n",
    "assert(str(T) == \"5[3[1[., 2], 4], 7[6, .]]\")\n",
    "T = insertListABR([3,4,5,2,7,6,1])\n",
    "assert(str(T) == \"3[2[1, .], 4[., 5[., 7[6, .]]]]\")\n",
    "T = leftRotation(T)\n",
    "assert(str(T) == \"4[3[2[1, .], .], 5[., 7[6, .]]]\")\n",
    "T = insertListABR([2,5,7,1,6,4,3])\n",
    "assert(str(T) == \"2[1, 5[4[3, .], 7[6, .]]]\")\n",
    "T = leftRotation(T)\n",
    "assert(str(T) == \"5[2[1, 4[3, .]], 7[6, .]]\")"
   ]
  },
  {
   "cell_type": "markdown",
   "metadata": {},
   "source": [
    "## Equilibre"
   ]
  },
  {
   "cell_type": "markdown",
   "metadata": {},
   "source": [
    "On dit qu'un ABR est équilibré si la différence de hauteur à gauche et à droite de tous les noeuds est strictement ingérieure à 2 (donc -1, 0 ou 1).\n",
    "\n",
    "Le but de cette section est d'écrire un algorithme d'insertion dans les arbres équilibrés, qui préserve cet propriété.\n",
    "Pour cela, on va sauvegarder *au niveau de chaque noeud* la hauteur du sous-arbre issu du noeud. Cela permetra de connaitre en temps constant l'état d'équilibre d'un arbre.\n",
    "\n",
    "Dans la littérature, on appelle *AVL* cette classe d'ABR.\n",
    "Le nom *AVL* provient du nom des deux auteurs de l'algorithme: Georgii Adelson-Velsky et Evguenii Landis.\n",
    "\n",
    "On crée une nouvelle classe *AVL* pour les arbres avec paramètres de hauteur."
   ]
  },
  {
   "cell_type": "code",
   "execution_count": null,
   "metadata": {
    "collapsed": false
   },
   "outputs": [],
   "source": [
    "class AVL():\n",
    "    \n",
    "    def __init__(self, x): # constructeur\n",
    "        self.valeur = x\n",
    "        self.hauteur = 1\n",
    "        self.filsG = None #  On ne permet plus l'initialisation de filsG et filsD\n",
    "        self.filsD = None #  ils ne seront modifés que par l'insertion\n",
    "        \n",
    "    def __repr__(self): # affichage\n",
    "        if self.filsG is None and self.filsD is None:\n",
    "            return str(self.valeur)\n",
    "        s = str(self.valeur) + \"[\" + str(self.filsG) + \", \" + str(self.filsD) + \"]\"\n",
    "        s = s.replace(\"None\",\".\") # pour alléger l'affichage\n",
    "        return s\n",
    "    \n",
    "    def equilibre(self):\n",
    "        \"\"\"\n",
    "        Retourne la valeur d'équilibre de l'arbre en fonction des hauteurs sauvegardées\n",
    "        \"\"\"\n",
    "        hg = 0\n",
    "        if not self.filsG is None:\n",
    "            hg = self.filsG.hauteur\n",
    "        hd = 0\n",
    "        if not self.filsD is None:\n",
    "            hd = self.filsD.hauteur\n",
    "        return hg - hd\n",
    "    \n",
    "    # la méthode suivante va nous permettre de vérifier que le paramètre de hauteur est mis correctement à jour\n",
    "\n",
    "    def checkHauteur(self):\n",
    "        \"\"\"\n",
    "        Calcule récursivement la hauteur et vérifie la cohérence des valeurs sauvegardées\n",
    "        \n",
    "        Output:\n",
    "            - True ou False selon que les valeurs de hauteur correspondent à la vrai hauteur de l'arbre\n",
    "            - la hauteur de l'arbre calculée par l'algorithme\n",
    "        \"\"\"\n",
    "        if not self.filsG is None:\n",
    "            cg, hg = self.filsG.checkHauteur()\n",
    "        else:\n",
    "            cg, hg = True, 0 # fils vide\n",
    "        if not self.filsD is None:\n",
    "            cd, hd = self.filsD.checkHauteur()\n",
    "        else:\n",
    "            cd, hd = True, 0 # fils vide\n",
    "        h = max(hg,hd) +1\n",
    "        if not cg or not cd: # les valeurs sont incohérentes sur les fils\n",
    "            return False, h\n",
    "        if not self.hauteur == h:\n",
    "            return False, h\n",
    "        return True, h\n",
    "    \n",
    "    def checkAVL(self):\n",
    "        \"\"\"\n",
    "        Vérifie que l'arbre est un AVL en utilisant les valeurs des hauteurs stockées.\n",
    "        \"\"\"\n",
    "        return self.equilibre() > -2 and self.equilibre() < 2 and (self.filsG is None or self.filsG.checkAVL()) and (self.filsD is None or self.filsD.checkAVL())"
   ]
  },
  {
   "cell_type": "markdown",
   "metadata": {},
   "source": [
    "Il faut maintenant modifier légèrement notre algorithme d'insertion pour prendre en compte la mise à jour du paramètre de hauteur. On effectue une insertion classique puis on calcule le nouveau paramètre en fonction de celui des fils.\n"
   ]
  },
  {
   "cell_type": "code",
   "execution_count": null,
   "metadata": {
    "collapsed": true
   },
   "outputs": [],
   "source": [
    "\"\"\"\n",
    "Insertion avec mise à jour de la hauteur\n",
    "\n",
    "Input :\n",
    "    - T, un arbre binaire de la classe AVL\n",
    "    - v, la valeur à insérer\n",
    "\"\"\"\n",
    "def insertHauteur(T, v):\n",
    "    # écrire le code ici\n",
    "    pass"
   ]
  },
  {
   "cell_type": "code",
   "execution_count": null,
   "metadata": {
    "collapsed": false
   },
   "outputs": [],
   "source": [
    "A = insertHauteur(None,3)\n",
    "assert(str(A) == \"3\")\n",
    "assert(A.checkHauteur()[0])\n",
    "A = insertHauteur(A,1)\n",
    "assert(str(A) == \"3[1, .]\")\n",
    "assert(A.checkHauteur()[0])\n",
    "A = insertHauteur(A,4)\n",
    "assert(str(A) == \"3[1, 4]\")\n",
    "assert(A.checkHauteur()[0])\n",
    "A = insertHauteur(A,5)\n",
    "assert(str(A) == \"3[1, 4[., 5]]\")\n",
    "assert(A.checkHauteur()[0])\n",
    "A = insertHauteur(A,2)\n",
    "assert(str(A) == \"3[1[., 2], 4[., 5]]\")\n",
    "assert(A.checkHauteur()[0])\n",
    "A = insertHauteur(A,1)\n",
    "assert(str(A) == \"3[1[1, 2], 4[., 5]]\")\n",
    "assert(A.checkHauteur()[0])"
   ]
  },
  {
   "cell_type": "code",
   "execution_count": null,
   "metadata": {
    "collapsed": false
   },
   "outputs": [],
   "source": []
  },
  {
   "cell_type": "code",
   "execution_count": null,
   "metadata": {
    "collapsed": false
   },
   "outputs": [],
   "source": [
    "\"\"\"\n",
    "Insertion d'une liste dans un Arbre binaire avec mise à jour des hauteurs\n",
    "\n",
    "Input :\n",
    "    - L, une liste de valeur\n",
    "Output :\n",
    "    L'arbre binaire obtenu de classe AVL\n",
    "\"\"\"\n",
    "def insertListHauteur(L):\n",
    "    # écrire le code ici\n",
    "    pass"
   ]
  },
  {
   "cell_type": "code",
   "execution_count": null,
   "metadata": {
    "collapsed": false
   },
   "outputs": [],
   "source": [
    "A = insertListHauteur([3,1,4,5,2,1])\n",
    "assert(infixeList(A) == [1,1,2,3,4,5])\n",
    "assert(A.checkHauteur()[0])\n",
    "A = insertListHauteur([3,4,5,1,2,1])\n",
    "assert(infixeList(A) == [1,1,2,3,4,5])\n",
    "assert(A.checkHauteur()[0])\n",
    "A = insertListHauteur([5,1,4,2,5,8,5,6,7,2,5])\n",
    "assert(infixeList(A) == [1,2,2,4,5,5,5,5,6,7,8])\n",
    "assert(A.checkHauteur()[0])"
   ]
  },
  {
   "cell_type": "markdown",
   "metadata": {},
   "source": [
    "On va avoir besoin des fonctions de rotation, cependant, il faut faire attention à ce que les rotation modifient les hauteurs des différents noeuds. On écrit donc une nouvelle fonction qui, après l'opération de rotation, met à jour les hauteurs de x et de y."
   ]
  },
  {
   "cell_type": "code",
   "execution_count": null,
   "metadata": {
    "collapsed": true
   },
   "outputs": [],
   "source": [
    "\"\"\"\n",
    "Rotation droite avec mise à jour des hauteurs\n",
    "Effectue une rotation droite à la racine de l'arbre donné en argument et met à jour les valeurs de hauteur\n",
    "\n",
    "Input :\n",
    "    - T un AVL\n",
    "Output:\n",
    "    La nouvelle racine de l'arbre\n",
    "\"\"\"\n",
    "def rightRotationHauteur(T):\n",
    "    # écrire le code ici\n",
    "    pass"
   ]
  },
  {
   "cell_type": "code",
   "execution_count": null,
   "metadata": {
    "collapsed": false
   },
   "outputs": [],
   "source": [
    "T = insertListHauteur([5,7,3,4,1,6,2])\n",
    "assert(str(T) == \"5[3[1[., 2], 4], 7[6, .]]\")\n",
    "T = rightRotationHauteur(T)\n",
    "assert(str(T) == \"3[1[., 2], 5[4, 7[6, .]]]\")\n",
    "assert(T.checkHauteur()[0])\n",
    "T = insertListHauteur([4,5,7,3,2,1,6])\n",
    "assert(str(T) == \"4[3[2[1, .], .], 5[., 7[6, .]]]\")\n",
    "T = rightRotationHauteur(T)\n",
    "assert(str(T) == \"3[2[1, .], 4[., 5[., 7[6, .]]]]\")\n",
    "assert(T.checkHauteur()[0])\n",
    "T = insertListHauteur([5,2,7,4,3,6,1])\n",
    "assert(str(T) == \"5[2[1, 4[3, .]], 7[6, .]]\")\n",
    "T = rightRotationHauteur(T)\n",
    "assert(str(T) == \"2[1, 5[4[3, .], 7[6, .]]]\")\n",
    "assert(T.checkHauteur()[0])"
   ]
  },
  {
   "cell_type": "code",
   "execution_count": null,
   "metadata": {
    "collapsed": true
   },
   "outputs": [],
   "source": [
    "\"\"\"\n",
    "Rotation gauche avec mise à jour des hauteurs\n",
    "Effectue une rotation gauche à la racine de l'arbre donné en argument et met à jour les valeurs de hauteur.\n",
    "Si l'arbre est vide ou si son sous-arbre droit est vide, la rotation ne fait rien.\n",
    "\n",
    "Input :\n",
    "    - T un AVL\n",
    "Output:\n",
    "    La nouvelle racine de l'arbre\n",
    "\"\"\"\n",
    "def leftRotationHauteur(T):\n",
    "    # écrire le code ici\n",
    "    pass"
   ]
  },
  {
   "cell_type": "code",
   "execution_count": null,
   "metadata": {
    "collapsed": true
   },
   "outputs": [],
   "source": [
    "T = insertListHauteur([3,1,5,2,4,7,6])\n",
    "assert(str(T) == \"3[1[., 2], 5[4, 7[6, .]]]\")\n",
    "T = leftRotationHauteur(T)\n",
    "assert(str(T) == \"5[3[1[., 2], 4], 7[6, .]]\")\n",
    "assert(T.checkHauteur()[0])\n",
    "T = insertListHauteur([3,4,5,2,7,6,1])\n",
    "assert(str(T) == \"3[2[1, .], 4[., 5[., 7[6, .]]]]\")\n",
    "T = leftRotationHauteur(T)\n",
    "assert(str(T) == \"4[3[2[1, .], .], 5[., 7[6, .]]]\")\n",
    "assert(T.checkHauteur()[0])\n",
    "T = insertListHauteur([2,5,7,1,6,4,3])\n",
    "assert(str(T) == \"2[1, 5[4[3, .], 7[6, .]]]\")\n",
    "T = leftRotationHauteur(T)\n",
    "assert(str(T) == \"5[2[1, 4[3, .]], 7[6, .]]\")\n",
    "assert(T.checkHauteur()[0])"
   ]
  },
  {
   "cell_type": "markdown",
   "metadata": {},
   "source": [
    "On a maintenant tous les outils pour écrire une vraie insertion AVL, c'est-à-dire, une insertion qui conserve des arbres équilibrés. Le principe est le suivant : on suppose que l'on est sur un noeud $n$ et l'insertion a modifié sa valeur d'équilibre pour l'amener à 2 ou -2, on supose que les sous-arbres ont déjà été rééquilibrés. Plusieurs cas sont possibles :\n",
    "* l'équilibre de $n$ est de 2 et l'équilibre de son fils gauche est de 1 : **on applique une rotation droite sur $n$**\n",
    "* l'équilibre de $n$ est de 2 et l'équilibre de son fils gauche est de -1 : **on applique une rotation gauche sur le fils gauche puis une rotation droite sur $n$**\n",
    "* l'équilibre de $n$ est de -2 et l'équilibre de son fils droit est de -1 : **on applique une rotation gauche sur $n$**\n",
    "* l'équilibre de $n$ est de -2 et l'équilibre de son fils droit est de 1 : **on applique une rotation droite sur le fils droit puis une rotation gauche sur $n$**.\n",
    "\n",
    "Il est possible de montrer que ce sont les **seules possibilités**, vous pouvez essayer de voir vous-même pourquoi (un excellent exercice). Remarquez que lorsqu'on insère, les sous-arbres sont rééquilibrés avant la racine. Donc l'algorithme d'insertion dans un arbre non vide est le suivant :\n",
    "* on insère à gauche ou à droite en fonction de la valeur à insérer,\n",
    "* on met à jour la valeur de hauteur du noeud\n",
    "* si l'arbre obtenu est déséquilibré, on le rééquilibre avec l'algorithme décrit ci-dessus."
   ]
  },
  {
   "cell_type": "code",
   "execution_count": null,
   "metadata": {
    "collapsed": false
   },
   "outputs": [],
   "source": [
    "\"\"\"\n",
    "Insertion AVL \n",
    "insertion d'une valeur dans un AVL avec rééquilibrage\n",
    "\n",
    "Input :\n",
    "    - T, un arbre binaire de la classe AVL\n",
    "    - v, la valeur à insérer\n",
    "\"\"\"\n",
    "def insertAVL(T, v):\n",
    "    # écrire le code ici\n",
    "    pass"
   ]
  },
  {
   "cell_type": "code",
   "execution_count": null,
   "metadata": {
    "collapsed": true
   },
   "outputs": [],
   "source": [
    "\"\"\"\n",
    "Insertion d'une liste dans un AVL\n",
    "\n",
    "Input :\n",
    "    - L, une liste de valeur\n",
    "Output :\n",
    "    L'AVL obtenu \n",
    "\"\"\"\n",
    "def insertListAVL(L):\n",
    "    # écrire le code ici\n",
    "    pass"
   ]
  },
  {
   "cell_type": "code",
   "execution_count": null,
   "metadata": {
    "collapsed": false
   },
   "outputs": [],
   "source": [
    "A = insertListAVL([3,1,4,5,2])\n",
    "assert(infixeList(A) == [1,2,3,4,5])\n",
    "assert(A.checkHauteur()[0])\n",
    "assert(A.checkAVL())\n",
    "A = insertListAVL([3,4,5,1,2])\n",
    "assert(infixeList(A) == [1,2,3,4,5])\n",
    "assert(A.checkHauteur()[0])\n",
    "assert(A.checkAVL())\n",
    "A = insertListAVL([1,2,3,4,5,6,7,8,9,10,11])\n",
    "assert(infixeList(A) == [1,2,3,4,5,6,7,8,9,10,11])\n",
    "assert(A.checkHauteur()[0])\n",
    "assert(A.checkAVL())\n",
    "A = insertListAVL([11,10,9,8,7,6,5,4,3,2,1])\n",
    "assert(infixeList(A) == [1,2,3,4,5,6,7,8,9,10,11])\n",
    "assert(A.checkHauteur()[0])\n",
    "assert(A.checkAVL())\n",
    "A = insertListAVL([11,1,10,2,9,3,8,4,7,5,6])\n",
    "assert(infixeList(A) == [1,2,3,4,5,6,7,8,9,10,11])\n",
    "assert(A.checkHauteur()[0])\n",
    "assert(A.checkAVL())"
   ]
  },
  {
   "cell_type": "code",
   "execution_count": null,
   "metadata": {
    "collapsed": false
   },
   "outputs": [],
   "source": []
  },
  {
   "cell_type": "code",
   "execution_count": null,
   "metadata": {
    "collapsed": false
   },
   "outputs": [],
   "source": []
  },
  {
   "cell_type": "code",
   "execution_count": null,
   "metadata": {
    "collapsed": false
   },
   "outputs": [],
   "source": []
  },
  {
   "cell_type": "code",
   "execution_count": null,
   "metadata": {
    "collapsed": false
   },
   "outputs": [],
   "source": []
  },
  {
   "cell_type": "code",
   "execution_count": null,
   "metadata": {
    "collapsed": false
   },
   "outputs": [],
   "source": []
  },
  {
   "cell_type": "code",
   "execution_count": null,
   "metadata": {
    "collapsed": true
   },
   "outputs": [],
   "source": []
  },
  {
   "cell_type": "code",
   "execution_count": null,
   "metadata": {
    "collapsed": false
   },
   "outputs": [],
   "source": []
  },
  {
   "cell_type": "code",
   "execution_count": null,
   "metadata": {
    "collapsed": false
   },
   "outputs": [],
   "source": []
  },
  {
   "cell_type": "code",
   "execution_count": null,
   "metadata": {
    "collapsed": false
   },
   "outputs": [],
   "source": []
  },
  {
   "cell_type": "code",
   "execution_count": null,
   "metadata": {
    "collapsed": true
   },
   "outputs": [],
   "source": []
  }
 ],
 "metadata": {
  "kernelspec": {
   "display_name": "Python 2 (SageMath)",
   "language": "python",
   "name": "python2"
  },
  "language_info": {
   "codemirror_mode": {
    "name": "ipython",
    "version": 2
   },
   "file_extension": ".py",
   "mimetype": "text/x-python",
   "name": "python",
   "nbconvert_exporter": "python",
   "pygments_lexer": "ipython2",
   "version": "2.7.10"
  }
 },
 "nbformat": 4,
 "nbformat_minor": 0
}
