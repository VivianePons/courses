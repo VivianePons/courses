{
 "cells": [
  {
   "cell_type": "markdown",
   "metadata": {
    "collapsed": false
   },
   "source": [
    "# Tris"
   ]
  },
  {
   "cell_type": "markdown",
   "metadata": {},
   "source": [
    "## Les plus simples"
   ]
  },
  {
   "cell_type": "markdown",
   "metadata": {},
   "source": [
    "Implanter les trois tris classiques suivants, selon les algorithmes vus en cours.\n",
    "\n",
    "**Remarque : en python on peut échanger deux variables comme ça **"
   ]
  },
  {
   "cell_type": "code",
   "execution_count": 1,
   "metadata": {
    "collapsed": false
   },
   "outputs": [
    {
     "name": "stdout",
     "output_type": "stream",
     "text": [
      "6\n",
      "5\n"
     ]
    }
   ],
   "source": [
    "a = 5\n",
    "b = 6\n",
    "a,b = b,a\n",
    "print a\n",
    "print b"
   ]
  },
  {
   "cell_type": "code",
   "execution_count": 2,
   "metadata": {
    "collapsed": true
   },
   "outputs": [],
   "source": [
    "\"\"\"\n",
    "Tri sélection\n",
    "Sélectionne un élément minimal à chaque itération\n",
    "Input :\n",
    "    - t un tableau\n",
    "\"\"\"\n",
    "def triSelection(t):\n",
    "    pass # écrire le code"
   ]
  },
  {
   "cell_type": "code",
   "execution_count": 3,
   "metadata": {
    "collapsed": false
   },
   "outputs": [],
   "source": [
    "t = []\n",
    "triSelection(t)\n",
    "assert(t == [])\n",
    "t = [5,4,3,2,1]\n",
    "triSelection(t)\n",
    "assert(t == [1,2,3,4,5])\n",
    "triSelection(t)\n",
    "assert(t == [1,2,3,4,5])\n",
    "t = [1,5,2,13,4,2,4,13,4,5,7,6]\n",
    "triSelection(t)\n",
    "assert(t == [1, 2, 2, 4, 4, 4, 5, 5, 6, 7, 13, 13])"
   ]
  },
  {
   "cell_type": "code",
   "execution_count": 4,
   "metadata": {
    "collapsed": true
   },
   "outputs": [],
   "source": [
    "\"\"\"\n",
    "Tri Bulles\n",
    "Parcours autant de fois que nécessaire les couples de valeurs adjacentes\n",
    "Input :\n",
    "    - t un tableau\n",
    "\"\"\"\n",
    "def triBulles(t):\n",
    "    pass # écrire le code\n",
    "        "
   ]
  },
  {
   "cell_type": "code",
   "execution_count": 5,
   "metadata": {
    "collapsed": true
   },
   "outputs": [],
   "source": [
    "t = []\n",
    "triBulles(t)\n",
    "assert(t == [])\n",
    "t = [5,4,3,2,1]\n",
    "triBulles(t)\n",
    "assert(t == [1,2,3,4,5])\n",
    "triBulles(t)\n",
    "assert(t == [1,2,3,4,5])\n",
    "t = [1,5,2,13,4,2,4,13,4,5,7,6]\n",
    "triBulles(t)\n",
    "assert(t == [1, 2, 2, 4, 4, 4, 5, 5, 6, 7, 13, 13])"
   ]
  },
  {
   "cell_type": "code",
   "execution_count": 6,
   "metadata": {
    "collapsed": true
   },
   "outputs": [],
   "source": [
    "\"\"\"\n",
    "Tri Insertion\n",
    "Insère dans la partie gauche triée du tableau\n",
    "Input :\n",
    "    - t un tableau\n",
    "\"\"\"\n",
    "def triInsertion(t):\n",
    "    pass # écrire le code"
   ]
  },
  {
   "cell_type": "code",
   "execution_count": 7,
   "metadata": {
    "collapsed": false
   },
   "outputs": [],
   "source": [
    "t = []\n",
    "triInsertion(t)\n",
    "assert(t == [])\n",
    "t = [5,4,3,2,1]\n",
    "triInsertion(t)\n",
    "assert(t == [1,2,3,4,5])\n",
    "triInsertion(t)\n",
    "assert(t == [1,2,3,4,5])\n",
    "t = [1,5,2,13,4,2,4,13,4,5,7,6]\n",
    "triInsertion(t)\n",
    "assert(t == [1, 2, 2, 4, 4, 4, 5, 5, 6, 7, 13, 13])"
   ]
  },
  {
   "cell_type": "markdown",
   "metadata": {},
   "source": [
    "Reprendre les fonctions précédentes, mais cette fois chaque fonction doit retourner 2 valeurs : nombre de comparaisons d'éléments du tableau et nombre d'écriture dans le tableau.\n",
    "\n",
    "**Remarque 1 : ** Les fonctions python peuvent retourner plusieurs valeurs en même temps sous la forme de ***tuples***"
   ]
  },
  {
   "cell_type": "code",
   "execution_count": 8,
   "metadata": {
    "collapsed": false
   },
   "outputs": [
    {
     "name": "stdout",
     "output_type": "stream",
     "text": [
      "(1, 2)\n",
      "1\n",
      "2\n"
     ]
    }
   ],
   "source": [
    "def maFonction():\n",
    "    return 1,2\n",
    "\n",
    "v = maFonction()\n",
    "print v\n",
    "print v[0]\n",
    "print v[1]"
   ]
  },
  {
   "cell_type": "markdown",
   "metadata": {},
   "source": [
    "**Remarque 2 :** L'inversion de deux valeurs du tableau $a,b = b, a$ effectue **2 écritures** dans le tableau.\n",
    "\n",
    "**Remarque 3 :** Il se peut que votre algorithme soit légèrement différent du mien et que le comptage (et les tests) aussi. Si vous modifiez les tests, assurez-vous de bien comprendre ce que vous comptez !"
   ]
  },
  {
   "cell_type": "code",
   "execution_count": 9,
   "metadata": {
    "collapsed": true
   },
   "outputs": [],
   "source": [
    "\"\"\"\n",
    "Tri sélection\n",
    "Sélectionne le minimum à chaque tour\n",
    "Input :\n",
    "    - t un tableau\n",
    "Output :\n",
    "    a,b avec a le nombre de comparaisons et b le nombre d'écritures\n",
    "\"\"\"\n",
    "def comptageTriSelection(t):\n",
    "    pass # écrire le code"
   ]
  },
  {
   "cell_type": "code",
   "execution_count": 10,
   "metadata": {
    "collapsed": false
   },
   "outputs": [],
   "source": [
    "t = []\n",
    "assert(comptageTriSelection(t) == (0,0))\n",
    "assert(t == [])\n",
    "t = [5,4,3,2,1]\n",
    "assert(comptageTriSelection(t) == (10,8))\n",
    "assert(t == [1,2,3,4,5])\n",
    "assert(comptageTriSelection(t) == (10,8))\n",
    "assert(t == [1,2,3,4,5])\n",
    "t = [1,5,2,13,4,2,4,13,4,5,7,6]\n",
    "assert(comptageTriSelection(t) == (66,22))\n",
    "assert(t == [1, 2, 2, 4, 4, 4, 5, 5, 6, 7, 13, 13])"
   ]
  },
  {
   "cell_type": "code",
   "execution_count": 11,
   "metadata": {
    "collapsed": false
   },
   "outputs": [],
   "source": [
    "\"\"\"\n",
    "Tri Bulles\n",
    "Parcours autant de fois que nécessaire les couples de valeurs adjacentes\n",
    "Input :\n",
    "    - t un tableau\n",
    "Output :\n",
    "    a,b avec a le nombre de comparaisons et b le nombre d'écritures\n",
    "\"\"\"\n",
    "def comptageTriBulles(t):\n",
    "    pass # écrire le code"
   ]
  },
  {
   "cell_type": "code",
   "execution_count": 12,
   "metadata": {
    "collapsed": false
   },
   "outputs": [],
   "source": [
    "t = []\n",
    "assert(comptageTriBulles(t) == (0,0))\n",
    "assert(t == [])\n",
    "t = [5,4,3,2,1]\n",
    "assert(comptageTriBulles(t) == (10,20))\n",
    "assert(t == [1,2,3,4,5])\n",
    "assert(comptageTriBulles(t) == (4,0))\n",
    "assert(t == [1,2,3,4,5])\n",
    "t = [1,5,2,13,4,2,4,13,4,5,7,6]\n",
    "assert(comptageTriBulles(t) == (38,36))\n",
    "assert(t == [1, 2, 2, 4, 4, 4, 5, 5, 6, 7, 13, 13])"
   ]
  },
  {
   "cell_type": "code",
   "execution_count": 13,
   "metadata": {
    "collapsed": false
   },
   "outputs": [],
   "source": [
    "\"\"\"\n",
    "Tri Insertion\n",
    "Insère successivement les éléments dans la partie gauche triée du tableau\n",
    "Input :\n",
    "    - t un tableau\n",
    "Output :\n",
    "    a,b avec a le nombre de comparaisons et b le nombre d'écritures\n",
    "    \n",
    "Remarque : pour la boucle interne, on comptera exactement une comparaison de plus que d'entrée dans la boucle\n",
    "\"\"\"\n",
    "def comptageTriInsertion(t):\n",
    "    pass # écrire le code"
   ]
  },
  {
   "cell_type": "code",
   "execution_count": 14,
   "metadata": {
    "collapsed": false
   },
   "outputs": [],
   "source": [
    "t = []\n",
    "assert(comptageTriInsertion(t) == (0,0))\n",
    "assert(t == [])\n",
    "t = [5,4,3,2,1]\n",
    "assert(comptageTriInsertion(t) == (14,14))\n",
    "assert(t == [1,2,3,4,5])\n",
    "assert(comptageTriInsertion(t) == (4,4))\n",
    "assert(t == [1,2,3,4,5])\n",
    "t = [1,5,2,13,4,2,4,13,4,5,7,6]\n",
    "assert(comptageTriInsertion(t) == (29,29))\n",
    "assert(t == [1, 2, 2, 4, 4, 4, 5, 5, 6, 7, 13, 13])"
   ]
  },
  {
   "cell_type": "markdown",
   "metadata": {},
   "source": [
    "## Le tri rapide"
   ]
  },
  {
   "cell_type": "markdown",
   "metadata": {},
   "source": [
    "Commencez par implanter une fonction de pivot."
   ]
  },
  {
   "cell_type": "code",
   "execution_count": 15,
   "metadata": {
    "collapsed": true
   },
   "outputs": [],
   "source": [
    "\"\"\"\n",
    "Pivot sur un intervalle [deb, fin[ d'un tableau\n",
    "Agit sur les valeurs entre l'indice deb (inclus) et fin (exclus)\n",
    "Choisit la première valeur t[deb] du tableau comme pivot et réorganise \n",
    "le tableau telle que toutes les valeurs plus petites ou égales à t[dev] \n",
    "soit à gauche et toutes les valeurs plus grandes à droite.\n",
    "Input :\n",
    "    - t un tableau\n",
    "    - deb, l'indice de départ (inclus)\n",
    "    - fin, l'indice de fin (exclus)\n",
    "Output :\n",
    "    l'indice final du pivot\n",
    "\"\"\"\n",
    "def pivot(t, deb, fin):\n",
    "    pass # écrire le code"
   ]
  },
  {
   "cell_type": "code",
   "execution_count": 16,
   "metadata": {
    "collapsed": false
   },
   "outputs": [],
   "source": [
    "t = [1,2,3,4,5]\n",
    "assert(pivot(t,0,5) == 0)\n",
    "assert(all(t[i] > t[0] for i in xrange(1,5)))\n",
    "t = [5,4,3,2,1]\n",
    "assert(pivot(t,0,5) == 4)\n",
    "assert(all(t[i] <= t[4] for i in xrange(4)))\n",
    "t = [4,5,2,13,4,2,4,13,4,5,7,6]\n",
    "assert(pivot(t,0,len(t)) == 5)\n",
    "assert(all(t[i] <= t[5] for i in xrange(5)))\n",
    "assert(all(t[i] > t[5] for i in xrange(6,len(t))))"
   ]
  },
  {
   "cell_type": "markdown",
   "metadata": {},
   "source": [
    "Implanter l'algorithme de tri rapide vu en classe en utilisant votre fonction de pivot"
   ]
  },
  {
   "cell_type": "code",
   "execution_count": 17,
   "metadata": {
    "collapsed": true
   },
   "outputs": [],
   "source": [
    "\"\"\"\n",
    "Tri Rapide\n",
    "Tri récursif reposant sur la fonction pivot\n",
    "Input :\n",
    "    - t un tableau\n",
    "    - deb l'indice de départ (inclus)\n",
    "    - fin l'indice de fin (exclus)\n",
    "\"\"\"\n",
    "def triRapide(t,deb,fin):\n",
    "    pass # écrire le code"
   ]
  },
  {
   "cell_type": "code",
   "execution_count": 18,
   "metadata": {
    "collapsed": false
   },
   "outputs": [],
   "source": [
    "t = []\n",
    "triRapide(t,0, len(t))\n",
    "assert(t == [])\n",
    "t = [5,4,3,2,1]\n",
    "triRapide(t, 0, len(t))\n",
    "assert(t == [1,2,3,4,5])\n",
    "triRapide(t,0,len(t))\n",
    "assert(t == [1,2,3,4,5])\n",
    "t = [1,5,2,13,4,2,4,13,4,5,7,6]\n",
    "triRapide(t,0,len(t))\n",
    "assert(t == [1, 2, 2, 4, 4, 4, 5, 5, 6, 7, 13, 13])"
   ]
  },
  {
   "cell_type": "markdown",
   "metadata": {},
   "source": [
    "De la même façon que pour les autres tris, comptez les comparaisons / écritures effectuées par le tri. \n",
    "\n",
    "Pour la fonction pivot, vous devrez donc retourner 3 valeurs : position du pivot, nombre de comparaisons, nombre d'écritures. On peut le faire de cette manière"
   ]
  },
  {
   "cell_type": "code",
   "execution_count": 19,
   "metadata": {
    "collapsed": false
   },
   "outputs": [
    {
     "name": "stdout",
     "output_type": "stream",
     "text": [
      "1\n",
      "2\n",
      "3\n"
     ]
    }
   ],
   "source": [
    "def maFonction():\n",
    "    return 1,2,3\n",
    "\n",
    "a,b,c = maFonction()\n",
    "print a\n",
    "print b\n",
    "print c"
   ]
  },
  {
   "cell_type": "code",
   "execution_count": 20,
   "metadata": {
    "collapsed": true
   },
   "outputs": [],
   "source": [
    "\"\"\"\n",
    "Pivot sur une partie de tableau\n",
    "Agit sur les valeurs entre l'indice deb (inclus) et fin (exclus)\n",
    "Choisit la première valeur t[deb] du tableau comme pivot et réorganise \n",
    "le tableau telle que toutes les valeurs plus petites ou égales à t[dev] \n",
    "soit à gauche et toutes les valeurs plus grandes à droite.\n",
    "Input :\n",
    "    - t un tableau\n",
    "    - deb, l'indice de départ (inclus)\n",
    "    - fin, l'indice de fin (exclus)\n",
    "Output :\n",
    "    l'indice final du pivot, le nombre de comparaisons, le nombre d'écritures\n",
    "\"\"\"\n",
    "def comptagePivot(t, deb, fin):\n",
    "    pass # écrire le code"
   ]
  },
  {
   "cell_type": "code",
   "execution_count": 21,
   "metadata": {
    "collapsed": false
   },
   "outputs": [],
   "source": [
    "# ces tests ont été écrits pour l'algo du pivot du cours, \n",
    "# si votre algorithme est différent, vous obtiendrez des valeurs différentes\n",
    "t = [1,2,3,4,5]\n",
    "assert(comptagePivot(t,0,5) == (0,6,2))\n",
    "t = [5,4,3,2,1]\n",
    "assert(comptagePivot(t,0,5) == (4,6,2))\n",
    "t = [4,5,2,13,4,2,4,13,4,5,7,6]\n",
    "assert(comptagePivot(t,0,len(t)) == (5,13,6))"
   ]
  },
  {
   "cell_type": "code",
   "execution_count": 22,
   "metadata": {
    "collapsed": false
   },
   "outputs": [],
   "source": [
    "\"\"\"\n",
    "Tri Rapide\n",
    "Tri récursif reposant sur la fonction pivot\n",
    "Input :\n",
    "    - t un tableau\n",
    "    - deb l'indice de départ (inclus)\n",
    "    - fin l'indice de fin (exclus)\n",
    "Output :\n",
    "   a,b avec a le nombre de comparaisons et b le nombre d'écritures\n",
    "\"\"\"\n",
    "def comptageTriRapide(t,deb,fin):\n",
    "    pass # écrire le code"
   ]
  },
  {
   "cell_type": "code",
   "execution_count": 23,
   "metadata": {
    "collapsed": true
   },
   "outputs": [],
   "source": [
    "t = []\n",
    "assert(comptageTriRapide(t,0, len(t)) == (0,0))\n",
    "t = [5,4,3,2,1]\n",
    "assert(comptageTriRapide(t,0, len(t)) == (18,8))\n",
    "assert(t == [1,2,3,4,5])\n",
    "assert(comptageTriRapide(t,0, len(t)) == (18,8))\n",
    "t = [1,5,2,13,4,2,4,13,4,5,7,6]\n",
    "assert(comptageTriRapide(t,0, len(t)) == (50,22))"
   ]
  },
  {
   "cell_type": "markdown",
   "metadata": {},
   "source": [
    "## Comparaisons de tris"
   ]
  },
  {
   "cell_type": "markdown",
   "metadata": {},
   "source": [
    "Écrire une fonction qui prend en paramètre un tableau, le tri selon les différentes méthodes et retourne la plus efficace en nombre de comparaisons.\n",
    "\n",
    "** Attention : les copies se font sur place, il faut donc copier le tableau orginal à chaque fois avant d'appliquer le tri pour pouvoir comparer les algorithmes**"
   ]
  },
  {
   "cell_type": "code",
   "execution_count": 24,
   "metadata": {
    "collapsed": false
   },
   "outputs": [
    {
     "name": "stdout",
     "output_type": "stream",
     "text": [
      "[1, 2, 3]\n",
      "[10, 2, 3]\n"
     ]
    }
   ],
   "source": [
    "# rappel syntaxe copier un tableau\n",
    "t = [1,2,3]\n",
    "tcopie = list(t)\n",
    "tcopie[0] = 10\n",
    "print t\n",
    "print tcopie"
   ]
  },
  {
   "cell_type": "code",
   "execution_count": 25,
   "metadata": {
    "collapsed": false
   },
   "outputs": [],
   "source": [
    "\"\"\"\n",
    "Meilleur tri -- comparaisons\n",
    "Lance chacun des tris sur une copie du tableau t en comptant les comparaisons\n",
    "Input :\n",
    "    - t un tableau\n",
    "Output :\n",
    "    le tri le plus efficace en terme de comparaisons : \"Selection\", \"Bulles\", \"Insertion\" ou \"Rapide\"\n",
    "\"\"\"\n",
    "def meilleurTriComparaison(t):\n",
    "    pass # écrire le code"
   ]
  },
  {
   "cell_type": "code",
   "execution_count": 26,
   "metadata": {
    "collapsed": false
   },
   "outputs": [],
   "source": [
    "t = [1,2,3,4,5]\n",
    "assert(meilleurTriComparaison(t) in {\"Bulles\", \"Insertion\"})\n",
    "t = [2,3,4,5,6,7,8,9,1]\n",
    "assert(meilleurTriComparaison(t) == \"Insertion\")\n",
    "t = [12,16,5,2,14,13,15,7,1,19,3,9,10,18,6,20]\n",
    "assert(meilleurTriComparaison(t) == \"Rapide\")"
   ]
  },
  {
   "cell_type": "code",
   "execution_count": 27,
   "metadata": {
    "collapsed": false
   },
   "outputs": [],
   "source": [
    "\"\"\"\n",
    "Meilleur tri -- écritures\n",
    "Lance chacun des tris sur une copie du tableau t en comptant les écritures\n",
    "Input :\n",
    "    - t un tableau\n",
    "Output :\n",
    "    le tri le plus efficace en terme d'écritures : \"Selection\", \"Bulles\", \"Insertion\" ou \"Rapide\"\n",
    "\"\"\"\n",
    "def meilleurTriEcriture(t):\n",
    "    pass # écrire le code"
   ]
  },
  {
   "cell_type": "code",
   "execution_count": 28,
   "metadata": {
    "collapsed": false
   },
   "outputs": [],
   "source": [
    "t = [1,2,3,4,5]\n",
    "assert(meilleurTriEcriture(t) == \"Bulles\") # éventuellement insertion\n",
    "t = [12,16,5,2,14,13,15,7,1,19,3,9,10,18,6,20]\n",
    "assert(meilleurTriEcriture(t) == \"Selection\")"
   ]
  },
  {
   "cell_type": "markdown",
   "metadata": {},
   "source": [
    "On va maintenant pouvoir observer l'efficacité des tris sur des tirages aléatoires. La fonction suivante permet de générer un tableau aléatoire de taille n. Tirer des tableaux de différentes tailles et observer quels tris sont les plus efficaces avec vos fonctions précédentes."
   ]
  },
  {
   "cell_type": "code",
   "execution_count": 29,
   "metadata": {
    "collapsed": true
   },
   "outputs": [],
   "source": [
    "\"\"\"\n",
    "Retourne un tableau aléatoire de taille n (chaque valeur est choisie uniformément sur [[0,n]])\n",
    "\"\"\"\n",
    "def randomTableau(n):\n",
    "    import random\n",
    "    return [random.randint(0,n) for i in xrange(n)]"
   ]
  },
  {
   "cell_type": "code",
   "execution_count": 30,
   "metadata": {
    "collapsed": false
   },
   "outputs": [
    {
     "name": "stdout",
     "output_type": "stream",
     "text": [
      "Rapide\n",
      "Selection\n"
     ]
    }
   ],
   "source": [
    "t = randomTableau(1000)\n",
    "print meilleurTriComparaison(t)\n",
    "print meilleurTriEcriture(t)"
   ]
  },
  {
   "cell_type": "markdown",
   "metadata": {},
   "source": [
    "Implanter une fonction qui retourne un histogramme sous forme de dictionnaire python des tris qui ont été plus efficaces. \n",
    "\n",
    "Un dictionnaire python est un objet où l'on peut associer des valeurs à des clés. Par exemple :"
   ]
  },
  {
   "cell_type": "code",
   "execution_count": 31,
   "metadata": {
    "collapsed": false
   },
   "outputs": [
    {
     "data": {
      "text/plain": [
       "{'Bulles': 0, 'Insertion': 2, 'Rapide': 3, 'Selection': 1}"
      ]
     },
     "execution_count": 31,
     "metadata": {},
     "output_type": "execute_result"
    }
   ],
   "source": [
    "d = {}\n",
    "d[\"Rapide\"] = 3\n",
    "d[\"Insertion\"] = 2\n",
    "d[\"Selection\"] = 1\n",
    "d[\"Bulles\"] = 0\n",
    "\n",
    "d"
   ]
  },
  {
   "cell_type": "markdown",
   "metadata": {},
   "source": [
    "Le but de la fonction est de créer un dictionnaire où chaque valeur représente le nombre de fois où ce tri a été le plus rapide."
   ]
  },
  {
   "cell_type": "code",
   "execution_count": 32,
   "metadata": {
    "collapsed": true
   },
   "outputs": [],
   "source": [
    "\"\"\"\n",
    "Histogramme -- comparaisons\n",
    "Input :\n",
    "    - n, la taille des tableaux aléatoires\n",
    "    - m, le nombre de tirages à effectuer\n",
    "Output :\n",
    "    un dictionnaire python qui représente l'histogramme des tris les plus efficaces sur les m tirages\n",
    "\"\"\"\n",
    "def histogrammeComparaisons(n, m):\n",
    "    pass # écrire le code"
   ]
  },
  {
   "cell_type": "code",
   "execution_count": 33,
   "metadata": {
    "collapsed": false
   },
   "outputs": [
    {
     "data": {
      "text/plain": [
       "{'Bulles': 0, 'Insertion': 86, 'Rapide': 14, 'Selection': 0}"
      ]
     },
     "execution_count": 33,
     "metadata": {},
     "output_type": "execute_result"
    }
   ],
   "source": [
    "histogrammeComparaisons(10,100) # entre rapide et insertion"
   ]
  },
  {
   "cell_type": "code",
   "execution_count": 34,
   "metadata": {
    "collapsed": false
   },
   "outputs": [
    {
     "data": {
      "text/plain": [
       "{'Bulles': 0, 'Insertion': 0, 'Rapide': 100, 'Selection': 0}"
      ]
     },
     "execution_count": 34,
     "metadata": {},
     "output_type": "execute_result"
    }
   ],
   "source": [
    "histogrammeComparaisons(100,100) # que du rapide"
   ]
  },
  {
   "cell_type": "code",
   "execution_count": 35,
   "metadata": {
    "collapsed": false
   },
   "outputs": [
    {
     "data": {
      "text/plain": [
       "{'Bulles': 0, 'Insertion': 0, 'Rapide': 10, 'Selection': 0}"
      ]
     },
     "execution_count": 35,
     "metadata": {},
     "output_type": "execute_result"
    }
   ],
   "source": [
    "histogrammeComparaisons(1000,10) # que du rapide"
   ]
  },
  {
   "cell_type": "code",
   "execution_count": 36,
   "metadata": {
    "collapsed": true
   },
   "outputs": [],
   "source": [
    "\"\"\"\n",
    "Histogramme -- ecritures\n",
    "Input :\n",
    "    - n, la taille des tableaux aléatoires\n",
    "    - m, le nombre de tirages à effectuer\n",
    "Output :\n",
    "    un dictionnaire python qui représente l'histogramme des tris les plus efficaces sur les m tirages\n",
    "\"\"\"\n",
    "def histogrammeEcritures(n, m):\n",
    "    pass # écrire le code"
   ]
  },
  {
   "cell_type": "code",
   "execution_count": 37,
   "metadata": {
    "collapsed": false
   },
   "outputs": [
    {
     "data": {
      "text/plain": [
       "{'Bulles': 0, 'Insertion': 0, 'Rapide': 14, 'Selection': 86}"
      ]
     },
     "execution_count": 37,
     "metadata": {},
     "output_type": "execute_result"
    }
   ],
   "source": [
    "histogrammeEcritures(10,100) # entre rapide et selection"
   ]
  },
  {
   "cell_type": "code",
   "execution_count": 38,
   "metadata": {
    "collapsed": false
   },
   "outputs": [
    {
     "data": {
      "text/plain": [
       "{'Bulles': 0, 'Insertion': 0, 'Rapide': 0, 'Selection': 100}"
      ]
     },
     "execution_count": 38,
     "metadata": {},
     "output_type": "execute_result"
    }
   ],
   "source": [
    "histogrammeEcritures(100,100) # que du selection"
   ]
  },
  {
   "cell_type": "code",
   "execution_count": 39,
   "metadata": {
    "collapsed": false
   },
   "outputs": [
    {
     "data": {
      "text/plain": [
       "{'Bulles': 0, 'Insertion': 0, 'Rapide': 0, 'Selection': 10}"
      ]
     },
     "execution_count": 39,
     "metadata": {},
     "output_type": "execute_result"
    }
   ],
   "source": [
    "histogrammeEcritures(1000,10) # que du selection"
   ]
  },
  {
   "cell_type": "markdown",
   "metadata": {},
   "source": [
    "On va maintenant utiliser une autre fonction aléatoire qui, cette fois, crée des tableaux \"presque\" triés, avec un paramètre de mélange."
   ]
  },
  {
   "cell_type": "code",
   "execution_count": 40,
   "metadata": {
    "collapsed": true
   },
   "outputs": [],
   "source": [
    "\"\"\"\n",
    "Retourne un tableau ou chaque valeur d'indice i est choisie uniformément entre i - k, i + k\n",
    "Input :\n",
    "    - n la taille du tableau\n",
    "    - k le rayon possible pour chaque valeur\n",
    "\"\"\"\n",
    "def randomTableauPresqueTrie(n, k):\n",
    "    import random\n",
    "    return [random.randint(i-k,i+k) for i in xrange(n)]"
   ]
  },
  {
   "cell_type": "code",
   "execution_count": 41,
   "metadata": {
    "collapsed": false
   },
   "outputs": [
    {
     "data": {
      "text/plain": [
       "[0, 1, 2, 3, 4, 5, 6, 7, 8, 9]"
      ]
     },
     "execution_count": 41,
     "metadata": {},
     "output_type": "execute_result"
    }
   ],
   "source": [
    "t = randomTableauPresqueTrie(10,0)\n",
    "t"
   ]
  },
  {
   "cell_type": "code",
   "execution_count": 42,
   "metadata": {
    "collapsed": false
   },
   "outputs": [
    {
     "data": {
      "text/plain": [
       "[-2, 0, 1, 5, 8, 4, 6, 6, 10, 13]"
      ]
     },
     "execution_count": 42,
     "metadata": {},
     "output_type": "execute_result"
    }
   ],
   "source": [
    "t = randomTableauPresqueTrie(10,5)\n",
    "t"
   ]
  },
  {
   "cell_type": "code",
   "execution_count": 43,
   "metadata": {
    "collapsed": false
   },
   "outputs": [
    {
     "data": {
      "text/plain": [
       "[3, -4, -3, -7, 12, -2, -3, 5, 14, -1]"
      ]
     },
     "execution_count": 43,
     "metadata": {},
     "output_type": "execute_result"
    }
   ],
   "source": [
    "t = randomTableauPresqueTrie(10,10)\n",
    "t"
   ]
  },
  {
   "cell_type": "code",
   "execution_count": 44,
   "metadata": {
    "collapsed": false
   },
   "outputs": [
    {
     "data": {
      "text/plain": [
       "[-12, 63, 19, 48, 101, -41, 9, -29, -15, -91]"
      ]
     },
     "execution_count": 44,
     "metadata": {},
     "output_type": "execute_result"
    }
   ],
   "source": [
    "t = randomTableauPresqueTrie(10,100)\n",
    "t"
   ]
  },
  {
   "cell_type": "code",
   "execution_count": 45,
   "metadata": {
    "collapsed": false
   },
   "outputs": [
    {
     "name": "stdout",
     "output_type": "stream",
     "text": [
      "Insertion\n",
      "Selection\n"
     ]
    }
   ],
   "source": [
    "t = randomTableauPresqueTrie(100,10)\n",
    "print meilleurTriComparaison(t)\n",
    "print meilleurTriEcriture(t)"
   ]
  },
  {
   "cell_type": "code",
   "execution_count": null,
   "metadata": {
    "collapsed": true
   },
   "outputs": [],
   "source": []
  },
  {
   "cell_type": "markdown",
   "metadata": {},
   "source": [
    "Ecrivez de nouvelles fonctions histogrammes en utilisant cette fonction et observez la différence !"
   ]
  },
  {
   "cell_type": "code",
   "execution_count": 46,
   "metadata": {
    "collapsed": true
   },
   "outputs": [],
   "source": [
    "\"\"\"\n",
    "Histogramme -- comparaisons\n",
    "Input :\n",
    "    - n, la taille des tableaux aléatoires\n",
    "    - k, le nombre d'inversions aléatoires\n",
    "    - m, le nombre de tirages à effectuer\n",
    "Output :\n",
    "    un dictionnaire python qui représente l'histogramme des tris les plus efficaces sur les m tirages\n",
    "\"\"\"\n",
    "def histogrammeComparaisonsPresqueTrie(n, k, m):\n",
    "    pass # écrire le code"
   ]
  },
  {
   "cell_type": "code",
   "execution_count": 47,
   "metadata": {
    "collapsed": false
   },
   "outputs": [
    {
     "data": {
      "text/plain": [
       "{'Bulles': 0, 'Insertion': 100, 'Rapide': 0, 'Selection': 0}"
      ]
     },
     "execution_count": 47,
     "metadata": {},
     "output_type": "execute_result"
    }
   ],
   "source": [
    "histogrammeComparaisonsPresqueTrie(10,3,100)"
   ]
  },
  {
   "cell_type": "code",
   "execution_count": 48,
   "metadata": {
    "collapsed": false
   },
   "outputs": [
    {
     "data": {
      "text/plain": [
       "{'Bulles': 0, 'Insertion': 100, 'Rapide': 0, 'Selection': 0}"
      ]
     },
     "execution_count": 48,
     "metadata": {},
     "output_type": "execute_result"
    }
   ],
   "source": [
    "histogrammeComparaisonsPresqueTrie(100,10,100)"
   ]
  },
  {
   "cell_type": "code",
   "execution_count": 49,
   "metadata": {
    "collapsed": false
   },
   "outputs": [
    {
     "data": {
      "text/plain": [
       "{'Bulles': 0, 'Insertion': 28, 'Rapide': 72, 'Selection': 0}"
      ]
     },
     "execution_count": 49,
     "metadata": {},
     "output_type": "execute_result"
    }
   ],
   "source": [
    "histogrammeComparaisonsPresqueTrie(100,30,100)"
   ]
  },
  {
   "cell_type": "code",
   "execution_count": 50,
   "metadata": {
    "collapsed": false
   },
   "outputs": [
    {
     "data": {
      "text/plain": [
       "{'Bulles': 0, 'Insertion': 0, 'Rapide': 100, 'Selection': 0}"
      ]
     },
     "execution_count": 50,
     "metadata": {},
     "output_type": "execute_result"
    }
   ],
   "source": [
    "histogrammeComparaisonsPresqueTrie(100,50,100)"
   ]
  },
  {
   "cell_type": "markdown",
   "metadata": {},
   "source": [
    "Cela se traduit-il sur le temps de calcul ? Exécuter le code ci-dessous et expérimenter."
   ]
  },
  {
   "cell_type": "code",
   "execution_count": 51,
   "metadata": {
    "collapsed": true
   },
   "outputs": [],
   "source": [
    "t = randomTableau(100)"
   ]
  },
  {
   "cell_type": "code",
   "execution_count": 52,
   "metadata": {
    "collapsed": true
   },
   "outputs": [],
   "source": [
    "tcopie = list(t)"
   ]
  },
  {
   "cell_type": "code",
   "execution_count": 53,
   "metadata": {
    "collapsed": false
   },
   "outputs": [
    {
     "name": "stdout",
     "output_type": "stream",
     "text": [
      "CPU times: user 0 ns, sys: 0 ns, total: 0 ns\n",
      "Wall time: 263 µs\n"
     ]
    }
   ],
   "source": [
    "time triRapide(tcopie, 0, len(tcopie))"
   ]
  },
  {
   "cell_type": "code",
   "execution_count": 54,
   "metadata": {
    "collapsed": true
   },
   "outputs": [],
   "source": [
    "tcopie = list(t)"
   ]
  },
  {
   "cell_type": "code",
   "execution_count": 55,
   "metadata": {
    "collapsed": false
   },
   "outputs": [
    {
     "name": "stdout",
     "output_type": "stream",
     "text": [
      "CPU times: user 0 ns, sys: 0 ns, total: 0 ns\n",
      "Wall time: 841 µs\n"
     ]
    }
   ],
   "source": [
    "time triInsertion(tcopie)"
   ]
  },
  {
   "cell_type": "code",
   "execution_count": 56,
   "metadata": {
    "collapsed": true
   },
   "outputs": [],
   "source": [
    "t = randomTableauPresqueTrie(100,10)"
   ]
  },
  {
   "cell_type": "code",
   "execution_count": 57,
   "metadata": {
    "collapsed": true
   },
   "outputs": [],
   "source": [
    "tcopie = list(t)"
   ]
  },
  {
   "cell_type": "code",
   "execution_count": 58,
   "metadata": {
    "collapsed": false
   },
   "outputs": [
    {
     "name": "stdout",
     "output_type": "stream",
     "text": [
      "CPU times: user 0 ns, sys: 0 ns, total: 0 ns\n",
      "Wall time: 329 µs\n"
     ]
    }
   ],
   "source": [
    "time triRapide(tcopie, 0, len(tcopie))"
   ]
  },
  {
   "cell_type": "code",
   "execution_count": 59,
   "metadata": {
    "collapsed": true
   },
   "outputs": [],
   "source": [
    "tcopie = list(t)"
   ]
  },
  {
   "cell_type": "code",
   "execution_count": 60,
   "metadata": {
    "collapsed": false
   },
   "outputs": [
    {
     "name": "stdout",
     "output_type": "stream",
     "text": [
      "CPU times: user 0 ns, sys: 0 ns, total: 0 ns\n",
      "Wall time: 144 µs\n"
     ]
    }
   ],
   "source": [
    "time triInsertion(tcopie)"
   ]
  },
  {
   "cell_type": "code",
   "execution_count": null,
   "metadata": {
    "collapsed": true
   },
   "outputs": [],
   "source": []
  },
  {
   "cell_type": "code",
   "execution_count": null,
   "metadata": {
    "collapsed": true
   },
   "outputs": [],
   "source": []
  },
  {
   "cell_type": "code",
   "execution_count": null,
   "metadata": {
    "collapsed": true
   },
   "outputs": [],
   "source": []
  },
  {
   "cell_type": "markdown",
   "metadata": {},
   "source": [
    "Qu'en est-il de la fonction *sort* de python ? Comparer les vitesses d'exécutions de vol algorithmes sur des tableaux aléatoires triés et presque triés avec la fonction *sort*"
   ]
  },
  {
   "cell_type": "code",
   "execution_count": 61,
   "metadata": {
    "collapsed": true
   },
   "outputs": [],
   "source": [
    "t = randomTableau(100)\n",
    "tcopie = list(t)"
   ]
  },
  {
   "cell_type": "code",
   "execution_count": 62,
   "metadata": {
    "collapsed": false,
    "scrolled": true
   },
   "outputs": [
    {
     "name": "stdout",
     "output_type": "stream",
     "text": [
      "CPU times: user 0 ns, sys: 0 ns, total: 0 ns\n",
      "Wall time: 33.1 µs\n"
     ]
    }
   ],
   "source": [
    "time tcopie.sort()"
   ]
  },
  {
   "cell_type": "code",
   "execution_count": 63,
   "metadata": {
    "collapsed": false
   },
   "outputs": [
    {
     "name": "stdout",
     "output_type": "stream",
     "text": [
      "CPU times: user 0 ns, sys: 0 ns, total: 0 ns\n",
      "Wall time: 290 µs\n"
     ]
    }
   ],
   "source": [
    "time triRapide(t, 0, len(t))"
   ]
  },
  {
   "cell_type": "code",
   "execution_count": null,
   "metadata": {
    "collapsed": true
   },
   "outputs": [],
   "source": []
  },
  {
   "cell_type": "code",
   "execution_count": null,
   "metadata": {
    "collapsed": true
   },
   "outputs": [],
   "source": []
  },
  {
   "cell_type": "code",
   "execution_count": null,
   "metadata": {
    "collapsed": true
   },
   "outputs": [],
   "source": []
  },
  {
   "cell_type": "code",
   "execution_count": null,
   "metadata": {
    "collapsed": true
   },
   "outputs": [],
   "source": []
  },
  {
   "cell_type": "code",
   "execution_count": null,
   "metadata": {
    "collapsed": true
   },
   "outputs": [],
   "source": []
  },
  {
   "cell_type": "code",
   "execution_count": null,
   "metadata": {
    "collapsed": true
   },
   "outputs": [],
   "source": []
  },
  {
   "cell_type": "markdown",
   "metadata": {
    "collapsed": true
   },
   "source": [
    "# Autour de Quicksort\n",
    "\n",
    "## k selection\n",
    "\n",
    "On veut trouver l'élément médian d'un tableau de $n$ valeurs.\n",
    "\n",
    "**Rappel:** le médian d'un ensemble de valeur est une valeur permettant de couper l'ensemble en deux parties égales: l'une contenant tous les éléments inférieur, et les autres les éléments supérieurs."
   ]
  },
  {
   "cell_type": "code",
   "execution_count": 64,
   "metadata": {
    "collapsed": true
   },
   "outputs": [],
   "source": [
    "\"\"\"\n",
    "kSelectionNaif\n",
    "Renvoie le kième plus petit élément d'un tableau sans utiliser la fonction pivot.\n",
    "Algorithme: trouver le plus grand élément, le sortir, et itérer k fois.\n",
    "\n",
    "Input:\n",
    "    - tab un tableau\n",
    "    - k un entier strictement positif\n",
    "\"\"\"\n",
    "def kSelectionNaif(tab, k):\n",
    "    for i in range(k):\n",
    "        m = max(tab)\n",
    "        tab.remove(m)\n",
    "    return max(tab)"
   ]
  },
  {
   "cell_type": "code",
   "execution_count": 65,
   "metadata": {
    "collapsed": true
   },
   "outputs": [],
   "source": [
    "\"\"\"\n",
    "kSelection\n",
    "Utilise la fonction de pivot pour trouver le kième élément d'un tableau dans l'ordre croissant\n",
    "\n",
    "Input:\n",
    "    - tab un tableau\n",
    "    - un entier strictement positif\n",
    "Output:\n",
    "    - le kième élément du tableau dans l'ordre croisant\n",
    "\"\"\"\n",
    "def kSelection(tab, k):\n",
    "    pass # écrire le code"
   ]
  },
  {
   "cell_type": "code",
   "execution_count": 66,
   "metadata": {
    "collapsed": false
   },
   "outputs": [],
   "source": [
    "tab = [6,1,3,2,2,9,14]\n",
    "assert(kSelection(tab, 1) == 1)\n",
    "assert(kSelection(tab, 5) == 6)\n",
    "t = randomTableau(100)\n",
    "tcopy = t[:]\n",
    "assert(kSelection(t, 50) == kSelectionNaif(tcopy, 50))"
   ]
  },
  {
   "cell_type": "code",
   "execution_count": null,
   "metadata": {
    "collapsed": false
   },
   "outputs": [],
   "source": []
  },
  {
   "cell_type": "markdown",
   "metadata": {},
   "source": [
    "Comparer les deux algorithmes ci dessus. Lequel est le plus efficace?"
   ]
  },
  {
   "cell_type": "code",
   "execution_count": 67,
   "metadata": {
    "collapsed": false
   },
   "outputs": [],
   "source": [
    "t = randomTableau(2000)\n",
    "tcopy = t[:]"
   ]
  },
  {
   "cell_type": "code",
   "execution_count": 68,
   "metadata": {
    "collapsed": false
   },
   "outputs": [
    {
     "name": "stdout",
     "output_type": "stream",
     "text": [
      "CPU times: user 0 ns, sys: 0 ns, total: 0 ns\n",
      "Wall time: 7.17 ms\n"
     ]
    },
    {
     "data": {
      "text/plain": [
       "1035"
      ]
     },
     "execution_count": 68,
     "metadata": {},
     "output_type": "execute_result"
    }
   ],
   "source": [
    "time kSelection(t, 1000)"
   ]
  },
  {
   "cell_type": "code",
   "execution_count": 69,
   "metadata": {
    "collapsed": false
   },
   "outputs": [
    {
     "name": "stdout",
     "output_type": "stream",
     "text": [
      "CPU times: user 80 ms, sys: 0 ns, total: 80 ms\n",
      "Wall time: 179 ms\n"
     ]
    },
    {
     "data": {
      "text/plain": [
       "1035"
      ]
     },
     "execution_count": 69,
     "metadata": {},
     "output_type": "execute_result"
    }
   ],
   "source": [
    "time kSelectionNaif(tcopy, 1000)"
   ]
  },
  {
   "cell_type": "markdown",
   "metadata": {
    "collapsed": true
   },
   "source": [
    "## Tri Fusion et listes chaînées"
   ]
  },
  {
   "cell_type": "markdown",
   "metadata": {},
   "source": [
    "Comme on l'a vu en cours, le tri fusion a un défaut majeur : sur un tableau, le tri nécessite de l'allocation mémoire. Cependant, quand on travail sur des **listes chaînées**, ce n'est plus le cas."
   ]
  },
  {
   "cell_type": "markdown",
   "metadata": {},
   "source": [
    "Ci dessous, la structure de liste du TP2 légèrement améliorée que l'on va réutiliser."
   ]
  },
  {
   "cell_type": "code",
   "execution_count": 80,
   "metadata": {
    "collapsed": true
   },
   "outputs": [],
   "source": [
    "class Cellule:\n",
    "    \n",
    "    def __init__(self, valeur):\n",
    "        self.valeur = valeur\n",
    "        self.suivante = None\n",
    "    \n",
    "    def __repr__(self):\n",
    "        return str(self.valeur)\n",
    "\n",
    "class Liste:\n",
    "    \n",
    "    def __init__(self, tab = None):\n",
    "        \"\"\"\n",
    "        Initialisation d'une liste (vide ou avec tableau)\n",
    "        Input :\n",
    "            - tab (optionnel) un itérable contenant des valeurs\n",
    "        \"\"\"\n",
    "        self.premiere = None\n",
    "        if not tab is None:\n",
    "            c = None\n",
    "            for v in tab:\n",
    "                if c is None:\n",
    "                    self.premiere = Cellule(v)\n",
    "                    c = self.premiere\n",
    "                else:\n",
    "                    c.suivante = Cellule(v)\n",
    "                    c = c.suivante\n",
    "    \n",
    "    def __repr__(self):\n",
    "        s = \"[\"\n",
    "        c = self.premiere\n",
    "        while not c is None:\n",
    "            s += str(c)\n",
    "            if c.suivante is not None:\n",
    "                s+=\" -> \"\n",
    "            c = c.suivante\n",
    "        s+=\"]\"\n",
    "        return s\n",
    "    \n",
    "    def ajouteCelluleEnTete(self, c):\n",
    "        \"\"\"\n",
    "        Ajoute une cellule en tête de liste\n",
    "        Input :\n",
    "            - c, une cellule\n",
    "        \"\"\"\n",
    "        c.suivante = self.premiere\n",
    "        self.premiere = c\n",
    "        \n",
    "    def ajouteValeurEnTete(self, v):\n",
    "        \"\"\"\n",
    "        Alloue une nouvelle cellule de valeur v et l'ajoute en en tête de liste\n",
    "        Input :\n",
    "            - v une valeur\n",
    "        \"\"\"\n",
    "        self.ajouteCelluleEnTete(Cellule(v))"
   ]
  },
  {
   "cell_type": "code",
   "execution_count": 81,
   "metadata": {
    "collapsed": false
   },
   "outputs": [
    {
     "data": {
      "text/plain": [
       "[1 -> 2 -> 3]"
      ]
     },
     "execution_count": 81,
     "metadata": {},
     "output_type": "execute_result"
    }
   ],
   "source": [
    "L = Liste([1,2,3])\n",
    "L"
   ]
  },
  {
   "cell_type": "code",
   "execution_count": 82,
   "metadata": {
    "collapsed": false
   },
   "outputs": [
    {
     "data": {
      "text/plain": [
       "[4 -> 1 -> 2 -> 3]"
      ]
     },
     "execution_count": 82,
     "metadata": {},
     "output_type": "execute_result"
    }
   ],
   "source": [
    "L.ajouteValeurEnTete(4)\n",
    "L"
   ]
  },
  {
   "cell_type": "markdown",
   "metadata": {},
   "source": [
    "**Ecrire une fonction qui découpe une liste en deux à partir d'un indice donné et retourne la liste obenue avec les valeurs coupées**\n",
    "\n",
    "Remarque : vous n'avez besoin de parcourir les valeurs qu'une seule fois et seulement jusqu'à $i$. **Dans tous les cas, la complexité ne doit pas dépasser O(n)**."
   ]
  },
  {
   "cell_type": "code",
   "execution_count": 83,
   "metadata": {
    "collapsed": false
   },
   "outputs": [],
   "source": [
    "\"\"\"\n",
    "Coupe une liste à l'indice i (exclus)\n",
    "Input :\n",
    "    - L la liste à couper\n",
    "    - i l'indice\n",
    "Output :\n",
    "    La liste des valeurs d'indice >= i ou la liste vide si la taille de L est <= à i\n",
    "\"\"\"\n",
    "def coupeListe(L, i):\n",
    "    pass # écrire le code\n",
    "        "
   ]
  },
  {
   "cell_type": "code",
   "execution_count": 84,
   "metadata": {
    "collapsed": false
   },
   "outputs": [],
   "source": [
    "L = Liste([1,2,3,4,5])\n",
    "L2 = coupeListe(L,0)\n",
    "assert(str(L) == \"[]\")\n",
    "assert(str(L2) == \"[1 -> 2 -> 3 -> 4 -> 5]\")\n",
    "L = Liste([1,2,3,4,5])\n",
    "L2 = coupeListe(L,1)\n",
    "assert(str(L) == \"[1]\")\n",
    "assert(str(L2) == \"[2 -> 3 -> 4 -> 5]\")\n",
    "L = Liste([1,2,3,4,5])\n",
    "L2 = coupeListe(L,3)\n",
    "assert(str(L) == \"[1 -> 2 -> 3]\")\n",
    "assert(str(L2) == \"[4 -> 5]\")\n",
    "L = Liste([1,2,3,4,5])\n",
    "L2 = coupeListe(L,5)\n",
    "assert(str(L) == \"[1 -> 2 -> 3 -> 4 -> 5]\")\n",
    "assert(str(L2) == \"[]\")\n",
    "L = Liste([1,2,3,4,5])\n",
    "L2 = coupeListe(L,7)\n",
    "assert(str(L) == \"[1 -> 2 -> 3 -> 4 -> 5]\")\n",
    "assert(str(L2) == \"[]\")"
   ]
  },
  {
   "cell_type": "markdown",
   "metadata": {},
   "source": [
    "On va écrire un algorithme de fusion de deux listes chaînées triées. Pour des raisons pratiques, il est préférable de prendre en paramètre des **cellules** et non des listes. Cela permet d'écrire l'algorithme de façon récursive. \n",
    "\n",
    "Adapter l'algorithme *Fusion* vu en classe pour les tableau aux listes chaînées : on écrira un algorithme **récursif** qui prend en paramètre deux cellules. On considère ces cellules comme des têtes de listes triées. L'algortihme doit retourner la première cellule de la liste triée résultat."
   ]
  },
  {
   "cell_type": "code",
   "execution_count": 85,
   "metadata": {
    "collapsed": false
   },
   "outputs": [],
   "source": [
    "\"\"\"\n",
    "Fusion de deux listes triées par cellules de têtes\n",
    "Input :\n",
    "    - c1 la première cellule de la liste 1 (ou none si liste vide)\n",
    "    - c2, la première celule de la liste 2 (ou none si liste vide)\n",
    "Output :\n",
    "    La première cellule de la liste triée contenant toutes les cellules atteintes par c1 et c2\n",
    "\"\"\"\n",
    "def fusionCellules(c1,c2):\n",
    "    pass # écrire le code\n",
    "\n",
    "\"\"\"\n",
    "Fusion de deux listes triées\n",
    "On utilise la fonction fusionCellules pour fusionner les deux listes, puis on \n",
    "rattache la nouvelle tete de liste à L1.\n",
    "Donc à la fin de la fonction, L1 contient l'ensemble de la liste fusionnée et L2\n",
    "est vide.\n",
    "Input :\n",
    "    - L1, la première liste\n",
    "    - L2, la deuxième liste\n",
    "\"\"\"\n",
    "def fusionListes(L1,L2):\n",
    "    L1.premiere = fusionCellules(L1.premiere, L2.premiere)\n",
    "    L2.premiere = None"
   ]
  },
  {
   "cell_type": "code",
   "execution_count": 86,
   "metadata": {
    "collapsed": false
   },
   "outputs": [],
   "source": [
    "L1 = Liste([1,1,3,3,4,5])\n",
    "L2 = Liste([2,4,4,5,6])\n",
    "fusionListes(L1,L2)\n",
    "assert(str(L1) == \"[1 -> 1 -> 2 -> 3 -> 3 -> 4 -> 4 -> 4 -> 5 -> 5 -> 6]\")\n",
    "assert(str(L2) == \"[]\")\n",
    "L1 = Liste([1,1,3,3,4,5])\n",
    "LVide = Liste()\n",
    "fusionListes(L1,LVide)\n",
    "assert(str(L1) == \"[1 -> 1 -> 3 -> 3 -> 4 -> 5]\")\n",
    "assert(str(LVide) == \"[]\")\n",
    "L1 = Liste([1,1,3,3,4,5])\n",
    "LVide = Liste()\n",
    "L3 = fusionListes(LVide,L1)\n",
    "assert(str(LVide) == \"[1 -> 1 -> 3 -> 3 -> 4 -> 5]\")\n",
    "assert(str(L1) == \"[]\")"
   ]
  },
  {
   "cell_type": "markdown",
   "metadata": {},
   "source": [
    "On a maintenant tous les outils pour écrire un tri fusion sur les listes."
   ]
  },
  {
   "cell_type": "code",
   "execution_count": 87,
   "metadata": {
    "collapsed": false
   },
   "outputs": [],
   "source": [
    "\"\"\"\n",
    "Tri Fusion\n",
    "Input :\n",
    "    - L une liste \n",
    "    - n la taille de la liste\n",
    "\"\"\"\n",
    "def triFusion(L, n):\n",
    "    pass # écrire le code"
   ]
  },
  {
   "cell_type": "code",
   "execution_count": 88,
   "metadata": {
    "collapsed": false
   },
   "outputs": [],
   "source": [
    "L = Liste([5,1,4,2,4,3,2,4,8])\n",
    "triFusion(L,9)\n",
    "assert(str(L) == \"[1 -> 2 -> 2 -> 3 -> 4 -> 4 -> 4 -> 5 -> 8]\")\n",
    "L = Liste()\n",
    "triFusion(L,0)\n",
    "assert(str(L) == \"[]\")\n",
    "L = Liste([1])\n",
    "triFusion(L,0)\n",
    "assert(str(L) == \"[1]\")"
   ]
  },
  {
   "cell_type": "code",
   "execution_count": 89,
   "metadata": {
    "collapsed": false
   },
   "outputs": [],
   "source": [
    "t = randomTableau(50)\n",
    "L1 = Liste(t)\n",
    "triFusion(L1,50)\n",
    "t.sort()\n",
    "L2 = Liste(t)\n",
    "assert(str(L1) == str(L2))"
   ]
  },
  {
   "cell_type": "code",
   "execution_count": null,
   "metadata": {
    "collapsed": true
   },
   "outputs": [],
   "source": []
  },
  {
   "cell_type": "markdown",
   "metadata": {},
   "source": [
    "## Aller plus loin : optimisation du pivotage\n",
    "\n",
    "Retournons au tri rapide : comme vous l'avez remarqué, le choix du pivot est crucial dans le déroulement de l'algorithme de tri rapide.\n",
    "Si le pivot \"tombe\" trop près du bord de l'intervalle c'est une catastrophe...\n",
    "\n",
    "Si tout se passait bien on espérerait pouvoir couper en deux à chaque fois, ce qui donnerait un algorithme en $O(n\\ ln\\, n)$ (pourquoi ?)\n",
    "\n",
    "On voudrait donc que le pivot soit la valeur *médiane* du tableau (autant d'éléments plus petits que d'éléments plus grands). Il existe des stratégie pour augmenter les chances de trouver la médiane. Par exemple, pour le pivot, on pourrait choisir trois éléments dans le tableau et prendre le médian des trois.\n",
    "\n",
    "Écrire une telle fonction de pivotage et un tri rapide. Comparer avec votre première version."
   ]
  },
  {
   "cell_type": "code",
   "execution_count": 70,
   "metadata": {
    "collapsed": false
   },
   "outputs": [],
   "source": [
    "\"\"\"\n",
    "Renvoie le median de trois éléments\n",
    "\n",
    "Input:\n",
    "    - a, b, c trois valeurs\n",
    "Output:\n",
    "    - le médiant de a, b, c\n",
    "\"\"\"\n",
    "\n",
    "# 3 comparaisons: optimal\n",
    "def median3(a, b, c):\n",
    "    pass # écrire le code"
   ]
  },
  {
   "cell_type": "code",
   "execution_count": 71,
   "metadata": {
    "collapsed": false
   },
   "outputs": [],
   "source": [
    "assert(median3(1,2,3) == 2)\n",
    "assert(median3(3,1,2) == 2)\n",
    "assert(median3(2,3,1) == 2)"
   ]
  },
  {
   "cell_type": "code",
   "execution_count": 1,
   "metadata": {
    "collapsed": false
   },
   "outputs": [],
   "source": [
    "\"\"\"\n",
    "Fonction de pivot sur un tableau\n",
    "Le pivot choisi est l'élément médiant entre : la première valeur, la dernière et l'élément du milieu\n",
    "Si la taille est inférieure à 3, on choisit le premier élément.\n",
    "Input :\n",
    "    - t un tableau\n",
    "    - deb, indice du début de tableau (inclus)\n",
    "    - fin, indice de fin de tableau (exclus)\n",
    "\"\"\"\n",
    "\n",
    "def pivot3(t, deb, fin):\n",
    "    pass # écrire le code"
   ]
  },
  {
   "cell_type": "code",
   "execution_count": null,
   "metadata": {
    "collapsed": true
   },
   "outputs": [],
   "source": []
  },
  {
   "cell_type": "code",
   "execution_count": 2,
   "metadata": {
    "collapsed": true
   },
   "outputs": [],
   "source": [
    "\"\"\"\n",
    "Tri rapide utilisant l'algorithme pivot3 au lieu du pivot classique\n",
    "Input :\n",
    "    - t un tableau\n",
    "    - deb, indice du début de tableau (inclus)\n",
    "    - fin, indice de fin de tableau (exclus)\n",
    "\"\"\"\n",
    "def triRapide3(t, deb, fin):\n",
    "    pass # écrire le code"
   ]
  },
  {
   "cell_type": "markdown",
   "metadata": {},
   "source": [
    "Tester les performances de votre nouvelle fonction et comparer avec la première version du tri rapide (en particulier, sur les tableaux triés).\n",
    "\n",
    "Proposer d'autres optimisations."
   ]
  },
  {
   "cell_type": "code",
   "execution_count": null,
   "metadata": {
    "collapsed": true
   },
   "outputs": [],
   "source": []
  },
  {
   "cell_type": "code",
   "execution_count": null,
   "metadata": {
    "collapsed": true
   },
   "outputs": [],
   "source": []
  },
  {
   "cell_type": "code",
   "execution_count": null,
   "metadata": {
    "collapsed": true
   },
   "outputs": [],
   "source": []
  },
  {
   "cell_type": "code",
   "execution_count": null,
   "metadata": {
    "collapsed": true
   },
   "outputs": [],
   "source": []
  },
  {
   "cell_type": "code",
   "execution_count": null,
   "metadata": {
    "collapsed": true
   },
   "outputs": [],
   "source": []
  },
  {
   "cell_type": "code",
   "execution_count": null,
   "metadata": {
    "collapsed": true
   },
   "outputs": [],
   "source": []
  }
 ],
 "metadata": {
  "kernelspec": {
   "display_name": "Python 2 (SageMath)",
   "language": "python",
   "name": "python2"
  },
  "language_info": {
   "codemirror_mode": {
    "name": "ipython",
    "version": 2
   },
   "file_extension": ".py",
   "mimetype": "text/x-python",
   "name": "python",
   "nbconvert_exporter": "python",
   "pygments_lexer": "ipython2",
   "version": "2.7.10"
  },
  "name": "TP4.ipynb"
 },
 "nbformat": 4,
 "nbformat_minor": 0
}
