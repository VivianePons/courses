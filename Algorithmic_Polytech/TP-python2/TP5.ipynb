{
 "cells": [
  {
   "cell_type": "markdown",
   "metadata": {
    "collapsed": false
   },
   "source": [
    "# Structure de tas"
   ]
  },
  {
   "cell_type": "markdown",
   "metadata": {
    "collapsed": false
   },
   "source": [
    "## Arbres parfaits"
   ]
  },
  {
   "cell_type": "markdown",
   "metadata": {
    "collapsed": false
   },
   "source": [
    "Retrouver la définition des arbres binaires parfaits dans le cours et leur représentation sous forme de tableau. On commence par écrire du code pour faciliter la manipulation des arbres binaires parfaits."
   ]
  },
  {
   "cell_type": "code",
   "execution_count": 1,
   "metadata": {
    "collapsed": false
   },
   "outputs": [
   ],
   "source": [
    "def Pere(i):\n",
    "    \"\"\"\n",
    "    Père\n",
    "    Retourne l'indice du père du noeud donné en paramètre\n",
    "\n",
    "    Input :\n",
    "        - i, l'indice d'un noeud dans un arbre binaire parfait\n",
    "    Output :\n",
    "        l'indice du père de cet élément dans le tableau. Si l'indice `i` est 0 \n",
    "        (donc la racine de l'arbre), on retournera la valeur ``None``\n",
    "    \"\"\"\n",
    "    # écrire le code ici\n",
    "    pass"
   ]
  },
  {
   "cell_type": "code",
   "execution_count": 0,
   "metadata": {
    "collapsed": false
   },
   "outputs": [
   ],
   "source": [
    "# tests\n",
    "assert(Pere(10) == 4)\n",
    "assert(Pere(9) == 4)\n",
    "assert(Pere(5) == 2)\n",
    "assert(Pere(1) == 0)\n",
    "assert(Pere(2) == 0)\n",
    "assert(Pere(0) == None)"
   ]
  },
  {
   "cell_type": "code",
   "execution_count": 2,
   "metadata": {
    "collapsed": false
   },
   "outputs": [
   ],
   "source": [
    "def Fils(i,n):\n",
    "    \"\"\"\n",
    "    Fils\n",
    "    Retourne la liste des indices fils \n",
    "\n",
    "    Input :\n",
    "        - i, l'indice d'un noeud dans un arbre binaire parfait\n",
    "        - n, la taille de l'arbre binaire parfait\n",
    "    Output :\n",
    "    Une liste comportant 0 (l'éléments n'a pas de fils), 1 ou 2 indices \n",
    "    \"\"\"\n",
    "    # écrire le code ici\n",
    "    pass"
   ]
  },
  {
   "cell_type": "code",
   "execution_count": 0,
   "metadata": {
    "collapsed": true
   },
   "outputs": [
   ],
   "source": [
    "# tests\n",
    "assert(Fils(0,5) == [1,2])\n",
    "assert(Fils(1,5) == [3,4])\n",
    "assert(Fils(2,5) == [])\n",
    "assert(Fils(3,5) == [])\n",
    "assert(Fils(2,6) == [5])"
   ]
  },
  {
   "cell_type": "markdown",
   "metadata": {
    "collapsed": false
   },
   "source": [
    "On se sert de la fonction Fils pour écrire un parcours en profondeur *récursif* sur l'arbre binaire parfait. On écrira un parcours préfixe, c'est-à-dire : noeud, fils gauche, fils droit."
   ]
  },
  {
   "cell_type": "code",
   "execution_count": 3,
   "metadata": {
    "collapsed": false
   },
   "outputs": [
   ],
   "source": [
    "def ParcoursPrefixe(t,i,n):\n",
    "    \"\"\"\n",
    "    Parcours Préfixe\n",
    "    Affiche la valeur des noeuds en ordre préfixe\n",
    "\n",
    "    Input :\n",
    "        - t, un tableau représentant un arbre binaire parfait\n",
    "        - i, l'indice de départ\n",
    "        - n, la taille de l'arbre (peut etre plus petite que la taille du tableau)\n",
    "    \"\"\"\n",
    "    # écrire le code ici\n",
    "    pass"
   ]
  },
  {
   "cell_type": "code",
   "execution_count": 0,
   "metadata": {
    "collapsed": false
   },
   "outputs": [
   ],
   "source": [
    "t = [1,2,3,4,5]\n",
    "ParcoursPrefixe(t,0,5) # doit afficher 1 2 4 5 3"
   ]
  },
  {
   "cell_type": "code",
   "execution_count": 0,
   "metadata": {
    "collapsed": false
   },
   "outputs": [
   ],
   "source": [
    "t = [1,2,3,4,5,6]\n",
    "ParcoursPrefixe(t,0,6) # doit afficher 1 2 4 5 3 6"
   ]
  },
  {
   "cell_type": "code",
   "execution_count": 0,
   "metadata": {
    "collapsed": false
   },
   "outputs": [
   ],
   "source": [
    "t = [1,2,3,4,5,6]\n",
    "ParcoursPrefixe(t,0,3) # doit afficher 1 2 3"
   ]
  },
  {
   "cell_type": "markdown",
   "metadata": {
    "collapsed": false
   },
   "source": [
    "On rappelle qu'un **tas** est un arbre binaire parfait tel que la valeur de chaque noeud soit supérieure ou égale à la valeur de ses fils, ou autrement dit, que la valeur de chaque noeud soit inférieure ou égale à la valeur de son père.\n",
    "\n",
    "**Ecrire une fonction qui teste si un arbre binaire parfait est un tas** (Remarque, il y a plusieurs façons de l'écrire)"
   ]
  },
  {
   "cell_type": "code",
   "execution_count": 4,
   "metadata": {
    "collapsed": true
   },
   "outputs": [
   ],
   "source": [
    "\"\"\"\n",
    "TestTas\n",
    "Teste si un arbre binaire parfait est un tas\n",
    "\n",
    "Input :\n",
    "    - t, un tableau représentant un arbre binaire parfait\n",
    "    - n, la taille de l'arbre\n",
    "\"\"\"\n",
    "def testTas(t, n):\n",
    "    # écrire le code ici\n",
    "    pass"
   ]
  },
  {
   "cell_type": "code",
   "execution_count": 0,
   "metadata": {
    "collapsed": false
   },
   "outputs": [
   ],
   "source": [
    "# tests\n",
    "assert(not testTas([1,2,3,4,5],5))\n",
    "assert(testTas([5,4,3,1,2],5))\n",
    "assert(testTas([5,4,3,1,4],5))\n",
    "assert(testTas([5,4,2,1,3],5))\n",
    "assert(not testTas([5,4,2,1,5],5))\n",
    "assert(not testTas([5,4,2,1,3,3],6))\n",
    "assert(testTas([5,4,2,1,3,1],6))\n",
    "assert(testTas([5,4,2,1,3,3],5))"
   ]
  },
  {
   "cell_type": "markdown",
   "metadata": {
    "collapsed": false
   },
   "source": [
    "## Insertion"
   ]
  },
  {
   "cell_type": "markdown",
   "metadata": {
    "collapsed": false
   },
   "source": [
    "On va écrire une fonction d'insertion dans un tas. \n",
    "* On place le nouvel élément à la fin du tas\n",
    "* On teste la valeur du nouvel élément par rapport à celle de son père, si elle est supérieure, *on les échange*\n",
    "* Si un échange a eu lieu, on se place sur le père et on *recommence*\n",
    "* On continue tant que des échanges ont lieu ou que l'on a pas atteint la racine\n",
    "\n",
    "**Remarque : l'algorithme (avec exemples) a été vu en cours**\n",
    "\n",
    "Pour faciliter l'utilisation de la fonction par la suite, on supposera que l'élément à insérer *est déjà* dans le tableau. On considère que les $n$ premières cases du tableau représente le tas avant l'insertion. L'élément à insérer est $t[n]$, il peut y avoir d'autres valeurs après qui ne font pas partie du tas."
   ]
  },
  {
   "cell_type": "code",
   "execution_count": 4,
   "metadata": {
    "collapsed": false
   },
   "outputs": [
   ],
   "source": [
    "def insertionTas(t,n):\n",
    "    \"\"\"\n",
    "    Insertion\n",
    "    Insère l'élément t[n] dans le tas de taille n\n",
    "    Input :\n",
    "        - t, le tableau représentant le tas\n",
    "        - n, la taille du tas avant l'insertion\n",
    "    \"\"\"\n",
    "    # écrire le code ici\n",
    "    pass"
   ]
  },
  {
   "cell_type": "code",
   "execution_count": 0,
   "metadata": {
    "collapsed": false
   },
   "outputs": [
   ],
   "source": [
    "# tests\n",
    "# exemple du cours\n",
    "t = [12,10,8,9,10,5,6,8,5,6,7,3,9]\n",
    "insertionTas(t,12)\n",
    "assert(t == [12,10,9,9,10,8,6,8,5,6,7,3,5])\n",
    "assert(testTas(t,len(t)))\n",
    "# insertion des éléments 1 par 1\n",
    "t = [1,2,3,4,5]\n",
    "for i in xrange(5):\n",
    "    insertionTas(t,i)\n",
    "assert(t == [5,4,2,1,3])\n",
    "assert(testTas(t,len(t)))\n",
    "t = range(100)\n",
    "for i in xrange(len(t)):\n",
    "    insertionTas(t,i)\n",
    "assert(testTas(t,len(t)))\n",
    "# tableau au hasard\n",
    "import random\n",
    "t = [random.randint(0,100) for i in xrange(100)]\n",
    "for i in xrange(len(t)):\n",
    "    insertionTas(t,i)\n",
    "assert(testTas(t,len(t)))"
   ]
  },
  {
   "cell_type": "markdown",
   "metadata": {
    "collapsed": false
   },
   "source": [
    "## Tamiser (heapify)"
   ]
  },
  {
   "cell_type": "markdown",
   "metadata": {
    "collapsed": false
   },
   "source": [
    "L'opération de *tamisage* a la propriété suivante : si le sous-arbre issu d'un noeud $v$ a la propriété d'être un tas sauf en sa racine $v$. Alors le tamisage de $v$ assure que le sous-arbre résultat sera un tas. L'algorithme est le suivant :\n",
    "* Si $v$ est plus petit qu'un de ses fils, l'échanger avec le maximum de ses fis.\n",
    "* Si un échange a eu lieu avec un noeud $v'$, relancer le tamisage sur $v'$\n",
    "\n",
    "**Exemple** l'algorithme de suppression de la racine vu en cours revient à échanger la racine et la dernière valeur du tas puis à lancer un tamisage sur la nouvelle racine."
   ]
  },
  {
   "cell_type": "code",
   "execution_count": 5,
   "metadata": {
    "collapsed": false
   },
   "outputs": [
   ],
   "source": [
    "def tamiser(t,i,n):\n",
    "    \"\"\"\n",
    "    Tamisage\n",
    "    Tamise le tableau t à partir de la racine i\n",
    "\n",
    "    Input :\n",
    "        - t, un tableau représentant un arbre binaire parfait\n",
    "        - i, l'indice où le tamisage doit être appliqué\n",
    "        - n, la taille de l'arbre\n",
    "    \"\"\"\n",
    "    # écrire le code ici\n",
    "    pass\n",
    "            "
   ]
  },
  {
   "cell_type": "code",
   "execution_count": 0,
   "metadata": {
    "collapsed": false
   },
   "outputs": [
   ],
   "source": [
    "# tests\n",
    "t = [5, 10, 9, 9, 10, 8, 6, 8, 5, 6, 7, 3]\n",
    "tamiser(t,0,len(t))\n",
    "testTas(t,len(t))\n",
    "assert(t == [10, 10, 9, 9, 7, 8, 6, 8, 5, 6, 5, 3])\n",
    "t = [5, 10, 9, 9, 10, 8, 6, 8, 5, 6, 7, 3, 12]\n",
    "tamiser(t,0,len(t)-1)\n",
    "assert(t == [10, 10, 9, 9, 7, 8, 6, 8, 5, 6, 5, 3, 12])\n",
    "t = [10, 3, 9, 9, 7, 8, 6, 8, 5, 6, 5, 3]\n",
    "tamiser(t,1,len(t))\n",
    "assert(t == [10, 9, 9, 8, 7, 8, 6, 3, 5, 6, 5, 3])"
   ]
  },
  {
   "cell_type": "code",
   "execution_count": 6,
   "metadata": {
    "collapsed": false
   },
   "outputs": [
   ],
   "source": [
    "def supprimeRacine(t,n):\n",
    "    \"\"\"\n",
    "    Suppression de la racine\n",
    "    Supprime la racine de l'arbre en l'échangeant avec la valeur en position n-1 du tableau \n",
    "    et effectue un tamisage à la racine du nouveau tas de taille n-1\n",
    "\n",
    "    Input :\n",
    "        - t, un tableau représentant un arbre binaire parfait\n",
    "        - n, la taille de l'arbre\n",
    "    \"\"\"\n",
    "    # écrire le code ici\n",
    "    pass"
   ]
  },
  {
   "cell_type": "code",
   "execution_count": 0,
   "metadata": {
    "collapsed": false
   },
   "outputs": [
   ],
   "source": [
    "# tests\n",
    "t = [12, 10, 9, 9, 10, 8, 6, 8, 5, 6, 7, 3, 5]\n",
    "supprimeRacine(t,len(t))\n",
    "testTas(t,len(t)-1)\n",
    "assert(t == [10, 10, 9, 9, 7, 8, 6, 8, 5, 6, 5, 3, 12])\n",
    "t = [12, 10, 9, 9, 10, 8, 6, 8, 5, 6, 7, 3, 5]\n",
    "for n in xrange(len(t),0,-1):\n",
    "    supprimeRacine(t,n)\n",
    "assert(t == [3, 5, 5, 6, 6, 7, 8, 8, 9, 9, 10, 10, 12])"
   ]
  },
  {
   "cell_type": "markdown",
   "metadata": {
    "collapsed": false
   },
   "source": [
    "## Tri par tas"
   ]
  },
  {
   "cell_type": "markdown",
   "metadata": {
    "collapsed": false
   },
   "source": [
    "Le principe du tri par tas est de d'abord former un tas avec les valeurs du tableau, puis d'extraires les éléments maximums successivement. Deux stratégies existent pour la première étape (création du tas). La première est celle que nous avons vu en cours d'insérer les éléments dans le tas un par insertion succesive."
   ]
  },
  {
   "cell_type": "code",
   "execution_count": 7,
   "metadata": {
    "collapsed": false
   },
   "outputs": [
   ],
   "source": [
    "def creeTasInsertion(t):\n",
    "    \"\"\"\n",
    "    Création d'un tas par insertion\n",
    "    transforme un tableau de valeur t en un tas par insertion successive de ses valeurs dans le tas\n",
    "\n",
    "    Input :\n",
    "        - t, un tableau\n",
    "    \"\"\"\n",
    "    # écrire le code ici\n",
    "    pass"
   ]
  },
  {
   "cell_type": "code",
   "execution_count": 0,
   "metadata": {
    "collapsed": false
   },
   "outputs": [
   ],
   "source": [
    "t = [1,2,3,4,5]\n",
    "creeTasInsertion(t)\n",
    "assert(testTas(t, len(t)))\n",
    "assert(t == [5,4,2,1,3])\n",
    "t = [8,7,6,3,7,6,5,10]\n",
    "creeTasInsertion(t)\n",
    "assert(testTas(t, len(t)))\n",
    "assert(t == [10, 8, 6, 7, 7, 6, 5, 3])"
   ]
  },
  {
   "cell_type": "code",
   "execution_count": 8,
   "metadata": {
    "collapsed": false
   },
   "outputs": [
   ],
   "source": [
    "def triTas1(t):\n",
    "    \"\"\"\n",
    "    Tri Par Tas 1\n",
    "    Tri par tas où la première étape est faite par insertion\n",
    "\n",
    "    Input :\n",
    "        - t, un tableau de valeurs\n",
    "    \"\"\"\n",
    "    # écrire le code ici\n",
    "    pass"
   ]
  },
  {
   "cell_type": "code",
   "execution_count": 0,
   "metadata": {
    "collapsed": true
   },
   "outputs": [
   ],
   "source": [
    "t = [1,2,3,4,5]\n",
    "triTas1(t)\n",
    "assert(t == [1,2,3,4,5])\n",
    "t = [8,7,6,3,7,6,5,10]\n",
    "triTas1(t)\n",
    "assert(t == [3,5,6,6,7,7,8,10])"
   ]
  },
  {
   "cell_type": "markdown",
   "metadata": {
    "collapsed": false
   },
   "source": [
    "La deuxième stratégie possible est considérer directement l'ensemble du tableau comme un arbre binaire parfait et d'utiliser le *tamisage* pour former un tas. Cependant, contrairement à la suppression de la racine, il faut effectuer *plusieurs* tamisage. **Travaillez sur des exemples pour voir sur quels élements et dans quel ordre les tamisages doivent se faire pour obtenir un tas**."
   ]
  },
  {
   "cell_type": "code",
   "execution_count": 9,
   "metadata": {
    "collapsed": false
   },
   "outputs": [
   ],
   "source": [
    "def creeTasTamiser(t):\n",
    "    \"\"\"\n",
    "    Création d'un tas par tamisage successif\n",
    "    Input :\n",
    "        - t, un tableau de valeurs\n",
    "    \"\"\"\n",
    "    # écrire le code ici\n",
    "    pass"
   ]
  },
  {
   "cell_type": "code",
   "execution_count": 0,
   "metadata": {
    "collapsed": false
   },
   "outputs": [
   ],
   "source": [
    "t = [1,2,3,4,5]\n",
    "creeTasTamiser(t)\n",
    "assert(testTas(t, len(t)))\n",
    "assert(t == [5,4,3,1,2])\n",
    "t = [8,7,6,3,7,6,5,10]\n",
    "creeTasTamiser(t)\n",
    "assert(testTas(t, len(t)))\n",
    "assert(t == [10,8,6,7,7,6,5,3])"
   ]
  },
  {
   "cell_type": "code",
   "execution_count": 10,
   "metadata": {
    "collapsed": false
   },
   "outputs": [
   ],
   "source": [
    "def triTas2(t):\n",
    "    \"\"\"\n",
    "    Tri Par Tas 2\n",
    "    Tri par tas où la première étape est faite par tamisage\n",
    "    Input :\n",
    "        - t, un tableau de valeur\n",
    "    \"\"\"\n",
    "    # écrire le code ici\n",
    "    pass"
   ]
  },
  {
   "cell_type": "code",
   "execution_count": 0,
   "metadata": {
    "collapsed": false
   },
   "outputs": [
   ],
   "source": [
    "t = [1,2,3,4,5]\n",
    "triTas2(t)\n",
    "assert(t == [1,2,3,4,5])\n",
    "t = [8,7,6,3,7,6,5,10]\n",
    "triTas2(t)\n",
    "assert(t == [3,5,6,6,7,7,8,10])"
   ]
  },
  {
   "cell_type": "markdown",
   "metadata": {
    "collapsed": false
   },
   "source": [
    "## Comparaison"
   ]
  },
  {
   "cell_type": "markdown",
   "metadata": {
    "collapsed": false
   },
   "source": [
    "Reprenez les fonctions écrites précédemment (insertion, tamiser, supprimeRacine, ...) pour faire en sorte qu'elles retournent les nombres **d'écritures et de comparaisons**, comme nous l'avions fait pour les tris précédents. \n",
    "\n",
    "* Comparer les deux stratégies de tri par tas, laquelle est plus rapide ?\n",
    "* Comparar le tri par tas avec les tris précédents"
   ]
  },
  {
   "cell_type": "code",
   "execution_count": 0,
   "metadata": {
    "collapsed": false
   },
   "outputs": [
   ],
   "source": [
   ]
  },
  {
   "cell_type": "code",
   "execution_count": 0,
   "metadata": {
    "collapsed": true
   },
   "outputs": [
   ],
   "source": [
   ]
  },
  {
   "cell_type": "code",
   "execution_count": 0,
   "metadata": {
    "collapsed": false
   },
   "outputs": [
   ],
   "source": [
   ]
  },
  {
   "cell_type": "code",
   "execution_count": 0,
   "metadata": {
    "collapsed": true
   },
   "outputs": [
   ],
   "source": [
   ]
  },
  {
   "cell_type": "code",
   "execution_count": 0,
   "metadata": {
    "collapsed": false
   },
   "outputs": [
   ],
   "source": [
   ]
  },
  {
   "cell_type": "code",
   "execution_count": 0,
   "metadata": {
    "collapsed": true
   },
   "outputs": [
   ],
   "source": [
   ]
  }
 ],
 "metadata": {
  "kernelspec": {
   "display_name": "Python 2 (SageMath)",
   "language": "python",
   "name": "python2"
  },
  "language_info": {
   "codemirror_mode": {
    "name": "ipython",
    "version": 2
   },
   "file_extension": ".py",
   "mimetype": "text/x-python",
   "name": "python",
   "nbconvert_exporter": "python",
   "pygments_lexer": "ipython2",
   "version": "2.7.13"
  }
 },
 "nbformat": 4,
 "nbformat_minor": 0
}
