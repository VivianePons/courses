{
 "cells": [
  {
   "cell_type": "markdown",
   "metadata": {
    "collapsed": false
   },
   "source": [
    "# Structures de données"
   ]
  },
  {
   "cell_type": "markdown",
   "metadata": {},
   "source": [
    "## Set et tables de hachage"
   ]
  },
  {
   "cell_type": "markdown",
   "metadata": {},
   "source": [
    "On va regarder un peu la structure *set* de python et comparer ses performances avec la *list*. Un *set* est une structure qui représente un **ensemble**. C'est-à-dire que chaque valeur ne peut y être stockée qu'une seule fois. On le définit comme ça :"
   ]
  },
  {
   "cell_type": "code",
   "execution_count": null,
   "metadata": {
    "collapsed": false
   },
   "outputs": [],
   "source": [
    "s = {1,4,3,5}\n",
    "print s"
   ]
  },
  {
   "cell_type": "markdown",
   "metadata": {},
   "source": [
    "ou bien..."
   ]
  },
  {
   "cell_type": "code",
   "execution_count": null,
   "metadata": {
    "collapsed": false
   },
   "outputs": [],
   "source": [
    "s = set()\n",
    "s.add(1)\n",
    "s.add(4)\n",
    "s.add(3)\n",
    "s.add(5)\n",
    "print s"
   ]
  },
  {
   "cell_type": "markdown",
   "metadata": {},
   "source": [
    "Il est aussi possible de créer un set à partir d'une liste."
   ]
  },
  {
   "cell_type": "code",
   "execution_count": null,
   "metadata": {
    "collapsed": false
   },
   "outputs": [],
   "source": [
    "l = [2,4,2,3,3,4]\n",
    "s = set(l)\n",
    "print s"
   ]
  },
  {
   "cell_type": "markdown",
   "metadata": {},
   "source": [
    "Pour tester si une valeur appartient à un set, on utilise la syntaxe suivante, similaire à celle des listes."
   ]
  },
  {
   "cell_type": "code",
   "execution_count": null,
   "metadata": {
    "collapsed": false
   },
   "outputs": [],
   "source": [
    "2 in s"
   ]
  },
  {
   "cell_type": "code",
   "execution_count": null,
   "metadata": {
    "collapsed": false
   },
   "outputs": [],
   "source": [
    "5 in s"
   ]
  },
  {
   "cell_type": "markdown",
   "metadata": {},
   "source": [
    "Ci-dessous, la fonction du TP précédent qui tire un tableau aléatoire."
   ]
  },
  {
   "cell_type": "code",
   "execution_count": null,
   "metadata": {
    "collapsed": true
   },
   "outputs": [],
   "source": [
    "def random_tableau(n):\n",
    "    import random\n",
    "    return [random.randint(1,n) for i in xrange(n)]"
   ]
  },
  {
   "cell_type": "markdown",
   "metadata": {},
   "source": [
    "Tirez un tableau de taille 100 et construisez le *set* correspondant."
   ]
  },
  {
   "cell_type": "code",
   "execution_count": null,
   "metadata": {
    "collapsed": true
   },
   "outputs": [],
   "source": []
  },
  {
   "cell_type": "markdown",
   "metadata": {},
   "source": [
    "Comparez les performances de la recherche de valeurs en utilisant les commandes python \"v in l\" et \"v in s\". Puis faites de nouvelles comparaisons avec des tailles plus grandes."
   ]
  },
  {
   "cell_type": "code",
   "execution_count": null,
   "metadata": {
    "collapsed": true
   },
   "outputs": [],
   "source": []
  },
  {
   "cell_type": "code",
   "execution_count": null,
   "metadata": {
    "collapsed": true
   },
   "outputs": [],
   "source": []
  },
  {
   "cell_type": "code",
   "execution_count": null,
   "metadata": {
    "collapsed": true
   },
   "outputs": [],
   "source": []
  },
  {
   "cell_type": "code",
   "execution_count": null,
   "metadata": {
    "collapsed": true
   },
   "outputs": [],
   "source": []
  },
  {
   "cell_type": "code",
   "execution_count": null,
   "metadata": {
    "collapsed": true
   },
   "outputs": [],
   "source": []
  },
  {
   "cell_type": "markdown",
   "metadata": {},
   "source": [
    "## Listes chainées"
   ]
  },
  {
   "cell_type": "markdown",
   "metadata": {},
   "source": [
    "Ci-dessous un objet minimal pour représenter les listes chaînées en python"
   ]
  },
  {
   "cell_type": "code",
   "execution_count": null,
   "metadata": {
    "collapsed": true
   },
   "outputs": [],
   "source": [
    "class Cellule:\n",
    "    \n",
    "    def __init__(self, valeur):\n",
    "        self.valeur = valeur\n",
    "        self.suivante = None\n",
    "    \n",
    "    def __repr__(self):\n",
    "        return str(self.valeur)\n",
    "\n",
    "class Liste:\n",
    "    \n",
    "    def __init__(self):\n",
    "        self.premiere = None\n",
    "    \n",
    "    def __repr__(self):\n",
    "        s = \"[\"\n",
    "        c = self.premiere\n",
    "        while not c is None:\n",
    "            s += str(c)\n",
    "            if c.suivante is not None:\n",
    "                s+=\" -> \"\n",
    "            c = c.suivante\n",
    "        s+=\"]\"\n",
    "        return s"
   ]
  },
  {
   "cell_type": "markdown",
   "metadata": {},
   "source": [
    "Vous n'avez pas besoin de comprendre entièrement ce code, ni même de maîtriser la programmation objet pour la suite du TP. Voilà comment vous pouvez l'utiliser.\n",
    "\n",
    "Création d'une cellule :"
   ]
  },
  {
   "cell_type": "code",
   "execution_count": null,
   "metadata": {
    "collapsed": false
   },
   "outputs": [],
   "source": [
    "c1 = Cellule(4)\n",
    "c2 = Cellule(8)\n",
    "print c1\n",
    "print c2"
   ]
  },
  {
   "cell_type": "markdown",
   "metadata": {},
   "source": [
    "Accès aux différents champs :"
   ]
  },
  {
   "cell_type": "code",
   "execution_count": null,
   "metadata": {
    "collapsed": false
   },
   "outputs": [],
   "source": [
    "print c1.valeur"
   ]
  },
  {
   "cell_type": "code",
   "execution_count": null,
   "metadata": {
    "collapsed": true
   },
   "outputs": [],
   "source": [
    "c1.suivante = c2"
   ]
  },
  {
   "cell_type": "code",
   "execution_count": null,
   "metadata": {
    "collapsed": false
   },
   "outputs": [],
   "source": [
    "c2.suivante is None"
   ]
  },
  {
   "cell_type": "markdown",
   "metadata": {},
   "source": [
    "Création de la liste"
   ]
  },
  {
   "cell_type": "code",
   "execution_count": null,
   "metadata": {
    "collapsed": false
   },
   "outputs": [],
   "source": [
    "L = Liste()\n",
    "print L"
   ]
  },
  {
   "cell_type": "markdown",
   "metadata": {},
   "source": [
    "Comme j'ai accroché c2 à c1, il me suffit de modifier *L.premiere* pour obtenir la liste contenant c1 puis c2."
   ]
  },
  {
   "cell_type": "code",
   "execution_count": null,
   "metadata": {
    "collapsed": false
   },
   "outputs": [],
   "source": [
    "L.premiere = c1\n",
    "print L"
   ]
  },
  {
   "cell_type": "markdown",
   "metadata": {},
   "source": [
    "Complétez les fonctions suivantes de façon à ce qu'elles correspondent à la documentation et passent les tests."
   ]
  },
  {
   "cell_type": "code",
   "execution_count": null,
   "metadata": {
    "collapsed": true
   },
   "outputs": [],
   "source": [
    "\"\"\"\n",
    "Ajoute une cellule contenant la valeur v en tête de liste\n",
    "Input :\n",
    "    - L, une liste chainée\n",
    "    - v, une valeur\n",
    "La fonction doit créer la cellule contenant la valeur v et l'ajouter en tête de liste.\n",
    "\"\"\"\n",
    "def ajoutTete(L,v):\n",
    "    # écrire le code"
   ]
  },
  {
   "cell_type": "code",
   "execution_count": null,
   "metadata": {
    "collapsed": false
   },
   "outputs": [],
   "source": [
    "LTest = Liste()\n",
    "ajoutTete(LTest,3)\n",
    "ajoutTete(LTest,2)\n",
    "ajoutTete(LTest,1)\n",
    "assert(str(LTest)==\"[1 -> 2 -> 3]\")"
   ]
  },
  {
   "cell_type": "code",
   "execution_count": null,
   "metadata": {
    "collapsed": false
   },
   "outputs": [],
   "source": [
    "\"\"\"\n",
    "Supprime la cellule en tete de liste\n",
    "Input :\n",
    "    - L, une liste chainée\n",
    "Output : la valeur de la cellule supprimée. Si la liste est vide, on renvoie None et on ne fait rien.\n",
    "\"\"\"\n",
    "def supprimeTete(L):\n",
    "    # écrire le code"
   ]
  },
  {
   "cell_type": "code",
   "execution_count": null,
   "metadata": {
    "collapsed": false
   },
   "outputs": [],
   "source": [
    "LTest = Liste()\n",
    "ajoutTete(LTest,3)\n",
    "ajoutTete(LTest,2)\n",
    "ajoutTete(LTest,1)\n",
    "assert(supprimeTete(LTest)==1)\n",
    "assert(supprimeTete(LTest)==2)\n",
    "assert(supprimeTete(LTest)==3)\n",
    "assert(supprimeTete(LTest) is None)\n",
    "assert(str(LTest)==\"[]\")"
   ]
  },
  {
   "cell_type": "code",
   "execution_count": null,
   "metadata": {
    "collapsed": true
   },
   "outputs": [],
   "source": [
    "\"\"\"\n",
    "Transforme une liste classique python en liste chaînée\n",
    "Input :\n",
    "    - une liste python\n",
    "Output: la liste chaînée correspondante\n",
    "\"\"\"\n",
    "def fromListToListe(l):\n",
    "    # écrire le code"
   ]
  },
  {
   "cell_type": "code",
   "execution_count": null,
   "metadata": {
    "collapsed": true
   },
   "outputs": [],
   "source": [
    "assert(str(fromListfoListe([1,2,3,4]))==\"[1 -> 2 -> 3 -> 4]\")\n",
    "assert(str(fromListfoListe([]))==\"[]\")\n",
    "assert(str(fromListfoListe([5,2,4,1,3]))==\"[5 -> 2 -> 4 -> 1 -> 3]\")"
   ]
  },
  {
   "cell_type": "code",
   "execution_count": null,
   "metadata": {
    "collapsed": true
   },
   "outputs": [],
   "source": [
    "\"\"\"\n",
    "Supprime la premiere occurence de v dans L\n",
    "Input :\n",
    "    - L, une liste chainée\n",
    "    - v, une valeur\n",
    "Output : True si une valeur a été supprimée et False sinon\n",
    "\"\"\"\n",
    "def supprimeListe(L,v):\n",
    "    # écrire le code"
   ]
  },
  {
   "cell_type": "code",
   "execution_count": null,
   "metadata": {
    "collapsed": true
   },
   "outputs": [],
   "source": [
    "LTest = Liste()\n",
    "ajoutTete(LTest,3)\n",
    "ajoutTete(LTest,2)\n",
    "ajoutTete(LTest,1)\n",
    "ajoutTete(LTest,2)\n",
    "assert(supprimeListe(LTest,1))\n",
    "assert(supprimeListe(LTest,2))\n",
    "assert(supprimeListe(LTest,3))\n",
    "assert(not supprimeListe(LTest,1))\n",
    "assert(supprimeListe(LTest,2))\n",
    "assert(str(LTest)==\"[]\")"
   ]
  },
  {
   "cell_type": "code",
   "execution_count": null,
   "metadata": {
    "collapsed": false
   },
   "outputs": [],
   "source": [
    "\"\"\"\n",
    "Ajoute une cellule contenant la valeur v dans une liste triée\n",
    "Input :\n",
    "    - L, une liste chainée dont les valeurs sont triées par ordre croissant\n",
    "    - v, une valeur\n",
    "La fonction doit créer la cellule contenant la valeur v et l'ajouter à la bonne position dans L.\n",
    "\"\"\"\n",
    "def ajoutTrie(L,v):\n",
    "    # écrire le code"
   ]
  },
  {
   "cell_type": "code",
   "execution_count": null,
   "metadata": {
    "collapsed": true
   },
   "outputs": [],
   "source": [
    "LTest = Liste()\n",
    "ajoutTrie(LTest,6)\n",
    "ajoutTrie(LTest,3)\n",
    "ajoutTrie(LTest,10)\n",
    "ajoutTrie(LTest,4)\n",
    "ajoutTrie(LTest,4)\n",
    "ajoutTrie(LTest,1)\n",
    "assert(str(LTest)==\"[1 -> 3 -> 4 -> 4 -> 6 -> 10]\") "
   ]
  },
  {
   "cell_type": "code",
   "execution_count": null,
   "metadata": {
    "collapsed": false
   },
   "outputs": [],
   "source": []
  },
  {
   "cell_type": "markdown",
   "metadata": {},
   "source": [
    "A présent qu'on sait insérer dans une liste triée. On peut implanter un algorithme de tri sur les listes : il suffit de récupérer les cellules une à une puis de insérer dans une nouvelle liste. "
   ]
  },
  {
   "cell_type": "code",
   "execution_count": null,
   "metadata": {
    "collapsed": true
   },
   "outputs": [],
   "source": [
    "\"\"\"\n",
    "Trie la liste L donnée en entrée\n",
    "Input :\n",
    "    - L, une liste chainée \n",
    "\"\"\"\n",
    "def TrieListe(L):\n",
    "    # écrire le code"
   ]
  },
  {
   "cell_type": "code",
   "execution_count": null,
   "metadata": {
    "collapsed": true
   },
   "outputs": [],
   "source": [
    "LTest = Liste()\n",
    "ajoutTete(LTest,3)\n",
    "ajoutTete(LTest,2)\n",
    "ajoutTete(LTest,1)\n",
    "ajoutTete(LTest,2)\n",
    "TrieListe(LTest)\n",
    "assert(str(LTest) == \"[1 -> 2 -> 2 -> 3]\")"
   ]
  },
  {
   "cell_type": "markdown",
   "metadata": {},
   "source": [
    "Quelle est la complexité de cet algorithme ? (double cliquez sur la question pour écrire votre réponse)"
   ]
  },
  {
   "cell_type": "markdown",
   "metadata": {},
   "source": [
    "Par ailleurs, la façon dont nous avons écrit les fonctions fait qu'à chaque suppression, on ne récupère que la valeur et pas la cellule elle-même. On doit donc re-créer des cellules ce qui couteux en temps et en mémoire. **Sauf si vous aviez déjà corrigé ce problème, modifiez votre fonction pour éviter la perte / re-création de cellule**. Par exemple, vous pouvez écrire de nouvelles versions de *ajoutTete* et *supprimeTete* qui travaille sur les cellules et non plus les valeurs."
   ]
  },
  {
   "cell_type": "code",
   "execution_count": null,
   "metadata": {
    "collapsed": true
   },
   "outputs": [],
   "source": []
  },
  {
   "cell_type": "code",
   "execution_count": null,
   "metadata": {
    "collapsed": true
   },
   "outputs": [],
   "source": []
  },
  {
   "cell_type": "code",
   "execution_count": null,
   "metadata": {
    "collapsed": true
   },
   "outputs": [],
   "source": []
  },
  {
   "cell_type": "code",
   "execution_count": null,
   "metadata": {
    "collapsed": true
   },
   "outputs": [],
   "source": []
  },
  {
   "cell_type": "markdown",
   "metadata": {},
   "source": [
    "On cherche à faire la fusion de deux listes chaînées triées pour obtenir une troisième liste elle-même triée. Par exemple si on a :"
   ]
  },
  {
   "cell_type": "code",
   "execution_count": null,
   "metadata": {
    "collapsed": false
   },
   "outputs": [],
   "source": [
    "L1 = Liste()\n",
    "ajoutTrie(L1,2)\n",
    "ajoutTrie(L1,4)\n",
    "ajoutTrie(L1,3)\n",
    "ajoutTrie(L1,1)\n",
    "L1"
   ]
  },
  {
   "cell_type": "code",
   "execution_count": null,
   "metadata": {
    "collapsed": false
   },
   "outputs": [],
   "source": [
    "L2 = Liste()\n",
    "ajoutTrie(L2,5)\n",
    "ajoutTrie(L2,2)\n",
    "ajoutTrie(L2,3)\n",
    "L2"
   ]
  },
  {
   "cell_type": "markdown",
   "metadata": {},
   "source": [
    "Alors, la liste fusionnée devra être [1 -> 2 -> 2 -> 3 -> 3 -> 4 -> 5]. \n",
    "\n",
    "La fonction prendra deux listes en paramètres et retournera la liste résultat. Les cellules seront supprimées au fur et à mesure pour être ajoutées à la liste résultat. Donc à la fin, les listes L1 et L2 seront vides !\n",
    "\n",
    "**Réfléchissez à un algortihme, puis implantez-le. Ecrivez aussi des tests vérifiant le résultat sur plusieurs exemples à l'aide de *assert* **."
   ]
  },
  {
   "cell_type": "code",
   "execution_count": null,
   "metadata": {
    "collapsed": true
   },
   "outputs": [],
   "source": []
  },
  {
   "cell_type": "code",
   "execution_count": null,
   "metadata": {
    "collapsed": true
   },
   "outputs": [],
   "source": []
  },
  {
   "cell_type": "code",
   "execution_count": null,
   "metadata": {
    "collapsed": true
   },
   "outputs": [],
   "source": []
  },
  {
   "cell_type": "code",
   "execution_count": null,
   "metadata": {
    "collapsed": true
   },
   "outputs": [],
   "source": []
  }
 ],
 "metadata": {
  "kernelspec": {
   "display_name": "Python 2",
   "language": "python",
   "name": "python2"
  },
  "language_info": {
   "codemirror_mode": {
    "name": "ipython",
    "version": 2
   },
   "file_extension": ".py",
   "mimetype": "text/x-python",
   "name": "python",
   "nbconvert_exporter": "python",
   "pygments_lexer": "ipython2",
   "version": "2.7.9"
  },
  "name": "TP2.ipynb"
 },
 "nbformat": 4,
 "nbformat_minor": 0
}
