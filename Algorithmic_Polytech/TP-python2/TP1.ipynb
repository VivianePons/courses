{
 "cells": [
  {
   "cell_type": "markdown",
   "metadata": {},
   "source": [
    "# Complexité"
   ]
  },
  {
   "cell_type": "markdown",
   "metadata": {},
   "source": [
    "On peut utiliser le notebook pour mesurer le temps d'exécution de programmes, on va s'en servir pour vérfier en direct les complexités théoriques que nous avons vues en cours.\n",
    "\n",
    "Pour mesurer le temps d'exécution, on utilise la commande *time*."
   ]
  },
  {
   "cell_type": "code",
   "execution_count": 1,
   "metadata": {
    "collapsed": true
   },
   "outputs": [],
   "source": [
    "def ajout(n):\n",
    "    t = []\n",
    "    for i in xrange(1000000):\n",
    "        t.append(i)"
   ]
  },
  {
   "cell_type": "code",
   "execution_count": 2,
   "metadata": {
    "collapsed": false
   },
   "outputs": [
    {
     "name": "stdout",
     "output_type": "stream",
     "text": [
      "CPU times: user 128 ms, sys: 52 ms, total: 180 ms\n",
      "Wall time: 191 ms\n"
     ]
    }
   ],
   "source": [
    "time ajout(1000000000)\n"
   ]
  },
  {
   "cell_type": "markdown",
   "metadata": {},
   "source": [
    "## Un peu d'échauffement"
   ]
  },
  {
   "cell_type": "markdown",
   "metadata": {},
   "source": [
    "sur le modèle de la fonction ci-dessous qui simule une complexité $O(n)$, écrivez des fonctions qui simulent les complexité $n^2$, $n^3$, $\\sqrt(n)$, et $log(n)$. Vous n'avez besoin que de la multiplication et de l'addition."
   ]
  },
  {
   "cell_type": "code",
   "execution_count": 3,
   "metadata": {
    "collapsed": true
   },
   "outputs": [],
   "source": [
    "def complexiteN(n):\n",
    "    i = 0\n",
    "    while i < n:\n",
    "        i+=1"
   ]
  },
  {
   "cell_type": "code",
   "execution_count": null,
   "metadata": {
    "collapsed": true
   },
   "outputs": [],
   "source": []
  },
  {
   "cell_type": "code",
   "execution_count": null,
   "metadata": {
    "collapsed": true
   },
   "outputs": [],
   "source": []
  },
  {
   "cell_type": "code",
   "execution_count": null,
   "metadata": {
    "collapsed": true
   },
   "outputs": [],
   "source": []
  },
  {
   "cell_type": "code",
   "execution_count": null,
   "metadata": {
    "collapsed": true
   },
   "outputs": [],
   "source": []
  },
  {
   "cell_type": "markdown",
   "metadata": {},
   "source": [
    "Utiliser la commande *time* pour comparer les temps d'exécution pour $n$ valant 100, 1000, 10 000, 100 000, 1 000 000."
   ]
  },
  {
   "cell_type": "code",
   "execution_count": null,
   "metadata": {
    "collapsed": true
   },
   "outputs": [],
   "source": []
  },
  {
   "cell_type": "code",
   "execution_count": null,
   "metadata": {
    "collapsed": true
   },
   "outputs": [],
   "source": []
  },
  {
   "cell_type": "code",
   "execution_count": null,
   "metadata": {
    "collapsed": true
   },
   "outputs": [],
   "source": []
  },
  {
   "cell_type": "code",
   "execution_count": null,
   "metadata": {
    "collapsed": true
   },
   "outputs": [],
   "source": []
  },
  {
   "cell_type": "code",
   "execution_count": null,
   "metadata": {
    "collapsed": true
   },
   "outputs": [],
   "source": []
  },
  {
   "cell_type": "markdown",
   "metadata": {},
   "source": [
    "## Recherche dichotomique"
   ]
  },
  {
   "cell_type": "markdown",
   "metadata": {},
   "source": [
    "Compléter les deux fonctions suivantes qui effectue une recherche dans un tableau. Dans le second cas, on on suppose que le tableau est trié et on effectue donc une recherche dichotomique."
   ]
  },
  {
   "cell_type": "code",
   "execution_count": 4,
   "metadata": {
    "collapsed": true
   },
   "outputs": [],
   "source": [
    "def recherche(l, v):\n",
    "    \"\"\"\n",
    "    Recherche classique dans un tableau\n",
    "    Input :\n",
    "        - l, une liste d'entiers\n",
    "        - v, une valeur\n",
    "    Output : True si v est dans le tableau, False sinon\n",
    "    \"\"\"\n",
    "    # écrire le code"
   ]
  },
  {
   "cell_type": "code",
   "execution_count": null,
   "metadata": {
    "collapsed": true
   },
   "outputs": [],
   "source": [
    "assert(recherche([5,2,4,2,6,4,6], 4))\n",
    "assert(recherche([5,2,4,2,6,4,6], 5))\n",
    "assert(recherche([5,2,4,2,6,4,6], 2))\n",
    "assert(recherche([5,2,4,2,6,4,6], 6))\n",
    "assert(not recherche([5,2,4,2,6,4,6], 10))"
   ]
  },
  {
   "cell_type": "code",
   "execution_count": 5,
   "metadata": {
    "collapsed": true
   },
   "outputs": [],
   "source": [
    "def rechercheDicho(l, v):\n",
    "    \"\"\"\n",
    "    Recherche dichotomique dans un tableau trié\n",
    "    Input :\n",
    "        - l, une liste d'entiers\n",
    "        - v, une valeur\n",
    "    Output : True si v est dans le tableau, False sinon\n",
    "    \"\"\"\n",
    "    # écrire le code"
   ]
  },
  {
   "cell_type": "code",
   "execution_count": null,
   "metadata": {
    "collapsed": false
   },
   "outputs": [],
   "source": [
    "assert(rechercheDicho([2,2,4,4,5,6], 4))\n",
    "assert(rechercheDicho([2,2,4,4,5,6], 5))\n",
    "assert(rechercheDicho([2,2,4,4,5,6], 2))\n",
    "assert(rechercheDicho([2,2,4,4,5,6], 6))\n",
    "assert(not rechercheDicho([2,2,4,4,5,6], 10))"
   ]
  },
  {
   "cell_type": "markdown",
   "metadata": {},
   "source": [
    "La fonction suivante retourne un tableau d'entiers alétoire de taille donnée (non trié)."
   ]
  },
  {
   "cell_type": "code",
   "execution_count": 6,
   "metadata": {
    "collapsed": true
   },
   "outputs": [],
   "source": [
    "def random_tableau(n):\n",
    "    import random\n",
    "    return [random.randint(1,n) for i in xrange(n)]"
   ]
  },
  {
   "cell_type": "markdown",
   "metadata": {},
   "source": [
    "Comme nous n'avons pas encore étudié les algorithmes de tris, nous allons utiliser la méthode *sort* de python comme ci dessous."
   ]
  },
  {
   "cell_type": "code",
   "execution_count": 7,
   "metadata": {
    "collapsed": false
   },
   "outputs": [],
   "source": [
    "t = random_tableau(1000)\n",
    "t.sort()"
   ]
  },
  {
   "cell_type": "markdown",
   "metadata": {},
   "source": [
    "Ecrire une fonction qui prend en paramètre un entier $n$ et utilise *random_tableau* et *sort* pour retourner un tableau trié."
   ]
  },
  {
   "cell_type": "code",
   "execution_count": null,
   "metadata": {
    "collapsed": true
   },
   "outputs": [],
   "source": []
  },
  {
   "cell_type": "markdown",
   "metadata": {},
   "source": [
    "Dans les cellules suivantes, faites dans l'ordre pour chacune des tailles 100, 1000, 10 000, 1 000 000\n",
    "* Tirez un tableau trié de taille n\n",
    "* mesurez le temps de recherche classique pour une valeur quelconque \n",
    "* mesurez le temps de recherche dichotomique pour la même valeur (dans le même tableau !)\n",
    "\n",
    "Vous pouvez recommencer plusieurs fois pour chacune des valeurs et observer les résultats"
   ]
  },
  {
   "cell_type": "code",
   "execution_count": null,
   "metadata": {
    "collapsed": true
   },
   "outputs": [],
   "source": [
    "# tirez le tableau trié"
   ]
  },
  {
   "cell_type": "code",
   "execution_count": null,
   "metadata": {
    "collapsed": false
   },
   "outputs": [],
   "source": [
    "# mesurez le temps d'une recherche classique"
   ]
  },
  {
   "cell_type": "code",
   "execution_count": null,
   "metadata": {
    "collapsed": false
   },
   "outputs": [],
   "source": [
    "# mesurez le temps d'une recherche dichotomique"
   ]
  },
  {
   "cell_type": "markdown",
   "metadata": {},
   "source": [
    "Comme python possède la fonction *sort*, on se dit que peut-être, on pourrait modifier la recherche dans les tableaux non triés pour d'abord trié le tableau puis effectuer une recherche dichotomique.\n",
    "\n",
    "**Complétez la fonction suivante**"
   ]
  },
  {
   "cell_type": "code",
   "execution_count": 8,
   "metadata": {
    "collapsed": false
   },
   "outputs": [],
   "source": [
    "def recherchePresqueDicho(l, v):\n",
    "    \"\"\"\n",
    "    Trie le tableau en entrée puis effectue une recherche dichotomique de la valeur v\n",
    "    Input :\n",
    "        - l, une liste d'entiers\n",
    "        - v, une valeur\n",
    "    Output : True si v est dans le tableau, False sinon\n",
    "    \"\"\"\n",
    "    # écrire le code"
   ]
  },
  {
   "cell_type": "code",
   "execution_count": null,
   "metadata": {
    "collapsed": false
   },
   "outputs": [],
   "source": [
    "assert(recherchePresqueDicho([5,2,4,2,6,4,6], 4))\n",
    "assert(recherchePresqueDicho([5,2,4,2,6,4,6], 5))\n",
    "assert(recherchePresqueDicho([5,2,4,2,6,4,6], 2))\n",
    "assert(recherchePresqueDicho([5,2,4,2,6,4,6], 6))\n",
    "assert(not recherchePresqueDicho([5,2,4,2,6,4,6], 10))"
   ]
  },
  {
   "cell_type": "markdown",
   "metadata": {},
   "source": [
    "Comparez les performances de *recherche* et *recherchePresqueDicho*"
   ]
  },
  {
   "cell_type": "code",
   "execution_count": null,
   "metadata": {
    "collapsed": true
   },
   "outputs": [],
   "source": []
  },
  {
   "cell_type": "code",
   "execution_count": null,
   "metadata": {
    "collapsed": true
   },
   "outputs": [],
   "source": []
  },
  {
   "cell_type": "code",
   "execution_count": null,
   "metadata": {
    "collapsed": true
   },
   "outputs": [],
   "source": []
  },
  {
   "cell_type": "code",
   "execution_count": null,
   "metadata": {
    "collapsed": true
   },
   "outputs": [],
   "source": []
  },
  {
   "cell_type": "markdown",
   "metadata": {},
   "source": [
    "Python a lui aussi une fonction de recherche implantée nativement"
   ]
  },
  {
   "cell_type": "code",
   "execution_count": null,
   "metadata": {
    "collapsed": false
   },
   "outputs": [],
   "source": [
    "l = [1,2,3]\n",
    "3 in l"
   ]
  },
  {
   "cell_type": "markdown",
   "metadata": {},
   "source": [
    "Comparez sur tableau trié / non trié les performances de vos différentes fonctions et de la fonction native de python."
   ]
  },
  {
   "cell_type": "code",
   "execution_count": null,
   "metadata": {
    "collapsed": true
   },
   "outputs": [],
   "source": []
  }
 ],
 "metadata": {
  "kernelspec": {
   "display_name": "Python 2 (SageMath)",
   "language": "python",
   "name": "python2"
  },
  "language_info": {
   "codemirror_mode": {
    "name": "ipython",
    "version": 2
   },
   "file_extension": ".py",
   "mimetype": "text/x-python",
   "name": "python",
   "nbconvert_exporter": "python",
   "pygments_lexer": "ipython2",
   "version": "2.7.10"
  },
  "name": "TP1.ipynb"
 },
 "nbformat": 4,
 "nbformat_minor": 0
}
