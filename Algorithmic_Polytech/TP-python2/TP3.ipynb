{
 "cells": [
  {
   "cell_type": "markdown",
   "metadata": {
    "collapsed": false
   },
   "source": [
    "# Récursivité"
   ]
  },
  {
   "cell_type": "markdown",
   "metadata": {},
   "source": [
    "## Quelques exercices pour commencer"
   ]
  },
  {
   "cell_type": "markdown",
   "metadata": {},
   "source": [
    "Donner une implantation récursive pour chacune des fonctions suivantes."
   ]
  },
  {
   "cell_type": "code",
   "execution_count": 1,
   "metadata": {
    "collapsed": false
   },
   "outputs": [],
   "source": [
    "def sommeN(n):\n",
    "    \"\"\"\n",
    "    Retourne la somme des entiers de 1 à n\n",
    "    Si le paramètre n est inférieur à 1, la fonction retourne 0\n",
    "    Input :\n",
    "        - n, un entier\n",
    "    \"\"\"\n",
    "    # écrire le code"
   ]
  },
  {
   "cell_type": "code",
   "execution_count": 3,
   "metadata": {
    "collapsed": true
   },
   "outputs": [],
   "source": [
    "assert(sommeN(10) == 55)\n",
    "assert(sommeN(20) == 210)\n",
    "assert(sommeN(1) == 1)\n",
    "assert(sommeN(0) == 0)\n",
    "assert(sommeN(-5) == 0)"
   ]
  },
  {
   "cell_type": "code",
   "execution_count": 2,
   "metadata": {
    "collapsed": true
   },
   "outputs": [],
   "source": [
    "def sommeIN(i, n):\n",
    "    \"\"\"\n",
    "    Retourne la somme des entiers de i à n.\n",
    "    Si i > n, la fonction retourne 0\n",
    "    Input :\n",
    "        - i, un entier\n",
    "        - n, un entier\n",
    "    \"\"\"\n",
    "    # écrire le code"
   ]
  },
  {
   "cell_type": "code",
   "execution_count": 7,
   "metadata": {
    "collapsed": false
   },
   "outputs": [],
   "source": [
    "assert(sommeIN(1,10) == 55)\n",
    "assert(sommeIN(1,20) == 210)\n",
    "assert(sommeIN(-5,5) == 0)\n",
    "assert(sommeIN(-2,4) == 7)\n",
    "assert(sommeIN(-10,0) == -55)"
   ]
  },
  {
   "cell_type": "code",
   "execution_count": 3,
   "metadata": {
    "collapsed": true
   },
   "outputs": [],
   "source": [
    "def chiffresPos(n):\n",
    "    \"\"\"\n",
    "    Retourne le nombre de chiffres dans l'écriture décimale du nombre n (positif)\n",
    "    Input :\n",
    "        - n, un entier positif\n",
    "    \"\"\"\n",
    "    # écrire le code"
   ]
  },
  {
   "cell_type": "code",
   "execution_count": 11,
   "metadata": {
    "collapsed": true
   },
   "outputs": [],
   "source": [
    "assert(chiffresPos(1235) == 4)\n",
    "assert(chiffresPos(0) == 1)\n",
    "assert(chiffresPos(9) == 1)\n",
    "assert(chiffresPos(5642164132312431) == 16)"
   ]
  },
  {
   "cell_type": "code",
   "execution_count": 5,
   "metadata": {
    "collapsed": true
   },
   "outputs": [],
   "source": [
    "def chiffres(n):\n",
    "    \"\"\"\n",
    "    Retourne le nombre de chiffres dans l'écriture décimale du nombre n (quelconque)\n",
    "    Input :\n",
    "        - n, un entier\n",
    "    \"\"\"\n",
    "    # écrire le code"
   ]
  },
  {
   "cell_type": "code",
   "execution_count": 13,
   "metadata": {
    "collapsed": true
   },
   "outputs": [],
   "source": [
    "assert(chiffres(1235) == 4)\n",
    "assert(chiffres(-1235) == 4)\n",
    "assert(chiffres(0) == 1)\n",
    "assert(chiffres(9) == 1)\n",
    "assert(chiffres(-9) == 1)\n",
    "assert(chiffres(5642164132312431) == 16)\n",
    "assert(chiffres(-5642164132312431) == 16)"
   ]
  },
  {
   "cell_type": "code",
   "execution_count": 6,
   "metadata": {
    "collapsed": false
   },
   "outputs": [],
   "source": [
    "def binairePos(n):\n",
    "    \"\"\"\n",
    "    Retourne l'écriture binaire du nombre n (positif)\n",
    "    remarque : en python, l'addition des chaînes de caractères permet de les concaténer\n",
    "    Input :\n",
    "        - n, un nombre entier positif\n",
    "    Output :\n",
    "        une chaîne de caractère représentant n en écriture binaire\n",
    "    \"\"\"\n",
    "    # écrire le code"
   ]
  },
  {
   "cell_type": "code",
   "execution_count": 19,
   "metadata": {
    "collapsed": false
   },
   "outputs": [],
   "source": [
    "assert(binairePos(4) == \"100\")\n",
    "assert(binairePos(2) == \"10\")\n",
    "assert(binairePos(58) == \"111010\")\n",
    "assert(binairePos(27) == \"11011\")\n",
    "assert(binairePos(0) == \"0\")\n",
    "assert(binairePos(1) == \"1\")"
   ]
  },
  {
   "cell_type": "code",
   "execution_count": 7,
   "metadata": {
    "collapsed": false
   },
   "outputs": [],
   "source": [
    "def binaire(n):\n",
    "    \"\"\"\n",
    "    Retourne l'écriture binaire du nombre n (quelconque)\n",
    "    remarque : en python, l'addition des chaînes de caractères permet de les concaténer\n",
    "    Input :\n",
    "        - n, un nombre entier\n",
    "    Output :\n",
    "        une chaîne de caractère représentant n en écriture binaire\n",
    "    \"\"\"\n",
    "    # écrire le code"
   ]
  },
  {
   "cell_type": "code",
   "execution_count": 23,
   "metadata": {
    "collapsed": false
   },
   "outputs": [],
   "source": [
    "assert(binaire(4) == \"100\")\n",
    "assert(binaire(-4) == \"-100\")\n",
    "assert(binaire(2) == \"10\")\n",
    "assert(binaire(-2) == \"-10\")\n",
    "assert(binaire(58) == \"111010\")\n",
    "assert(binaire(-58) == \"-111010\")\n",
    "assert(binaire(27) == \"11011\")\n",
    "assert(binaire(-27) == \"-11011\")\n",
    "assert(binaire(0) == \"0\")\n",
    "assert(binaire(1) == \"1\")\n",
    "assert(binaire(-1) == \"-1\")"
   ]
  },
  {
   "cell_type": "code",
   "execution_count": 4,
   "metadata": {
    "collapsed": true
   },
   "outputs": [],
   "source": []
  },
  {
   "cell_type": "code",
   "execution_count": null,
   "metadata": {
    "collapsed": false
   },
   "outputs": [],
   "source": []
  },
  {
   "cell_type": "code",
   "execution_count": null,
   "metadata": {
    "collapsed": true
   },
   "outputs": [],
   "source": []
  },
  {
   "cell_type": "markdown",
   "metadata": {},
   "source": [
    "## Génération récursive"
   ]
  },
  {
   "cell_type": "markdown",
   "metadata": {},
   "source": [
    "La récursion est particulièrement utile lorsqu'il s'agit *d'engendrer récursivement des listes d'objets*. Par exemple, je veux une fonction qui puisse me retourner la liste des mots binaires d'une taille donnée, c'est à dire *la liste de toutes les chaînes de caractères de taille n contenant uniquement les lettres \"0\" ou \"1\"*. Pour $n = 3$, une telle fonction me retournerait l'objet suivant :"
   ]
  },
  {
   "cell_type": "code",
   "execution_count": 10,
   "metadata": {
    "collapsed": false
   },
   "outputs": [
    {
     "name": "stdout",
     "output_type": "stream",
     "text": [
      "8\n",
      "['000', '001', '010', '011', '100', '101', '110', '111']\n"
     ]
    }
   ],
   "source": [
    "binaire3 = [\"000\",\"001\",\"010\",\"011\",\"100\",\"101\",\"110\",\"111\"]\n",
    "print len(binaire3)\n",
    "print binaire3"
   ]
  },
  {
   "cell_type": "markdown",
   "metadata": {},
   "source": [
    "Voici les fonctions qui générent les mots de taille 0, 1 et 2 :"
   ]
  },
  {
   "cell_type": "code",
   "execution_count": 8,
   "metadata": {
    "collapsed": true
   },
   "outputs": [],
   "source": [
    "def getBinaire0():\n",
    "    return [\"\"]\n",
    "\n",
    "def getBinaire1():\n",
    "    return [\"0\", \"1\"]\n",
    "\n",
    "def getBinaire2():\n",
    "    result = []\n",
    "    for word in getBinaire1():\n",
    "        result.append(word + \"0\")\n",
    "        result.append(word + \"1\")\n",
    "    return result"
   ]
  },
  {
   "cell_type": "code",
   "execution_count": 9,
   "metadata": {
    "collapsed": false
   },
   "outputs": [
    {
     "name": "stdout",
     "output_type": "stream",
     "text": [
      "['']\n",
      "['0', '1']\n",
      "['00', '01', '10', '11']\n"
     ]
    }
   ],
   "source": [
    "print getBinaire0()\n",
    "print getBinaire1()\n",
    "print getBinaire2()"
   ]
  },
  {
   "cell_type": "markdown",
   "metadata": {},
   "source": [
    "Sur le même modèle, écrivez une fonction *getBinaire3*."
   ]
  },
  {
   "cell_type": "code",
   "execution_count": 10,
   "metadata": {
    "collapsed": true
   },
   "outputs": [],
   "source": [
    "def getBinaire3():\n",
    "    \"\"\"\n",
    "    Retourne la liste des mots binaires de taille 3\n",
    "    \"\"\"\n",
    "    # écrire le code"
   ]
  },
  {
   "cell_type": "code",
   "execution_count": 14,
   "metadata": {
    "collapsed": true
   },
   "outputs": [],
   "source": [
    "binaire3 = [\"000\",\"001\",\"010\",\"011\",\"100\",\"101\",\"110\",\"111\"]\n",
    "assert(set(binaire3) == set(getBinaire3()))"
   ]
  },
  {
   "cell_type": "markdown",
   "metadata": {},
   "source": [
    "Maintenant que vous avez compris le principe, **écrivez une fonction qui génère les mots binaires de taille n**. Remarque : votre fonction doit être *all inclusive*, n'utilisez pas les fonctions *getBinaireX* écrites précédemment. "
   ]
  },
  {
   "cell_type": "code",
   "execution_count": 11,
   "metadata": {
    "collapsed": false
   },
   "outputs": [],
   "source": [
    "def getBinaire(n):\n",
    "    \"\"\"\n",
    "    Retourne la liste des mots binaires de taille n\n",
    "    Input :\n",
    "        - n, un entier\n",
    "    \"\"\"\n",
    "    # écrire le code"
   ]
  },
  {
   "cell_type": "code",
   "execution_count": 27,
   "metadata": {
    "collapsed": false
   },
   "outputs": [],
   "source": [
    "binaire3 = [\"000\",\"001\",\"010\",\"011\",\"100\",\"101\",\"110\",\"111\"]\n",
    "assert(set(binaire3) == set(getBinaire(3)))\n",
    "assert(len(set(getBinaire(4))) == 16)\n",
    "assert(len(set(getBinaire(5))) == 32)"
   ]
  },
  {
   "cell_type": "markdown",
   "metadata": {},
   "source": [
    "*Remarque pour ceux qui connaissent bien python :* les tests ont été écrits pour passer aussi si vous retournez un générateur (avec yield) au lieu d'une liste. "
   ]
  },
  {
   "cell_type": "markdown",
   "metadata": {},
   "source": [
    "**Sur le même modèle, implanter la fonction suivante. (un peu plus dur)**"
   ]
  },
  {
   "cell_type": "markdown",
   "metadata": {},
   "source": [
    "Posez-vous la question de cette façon : si j'ai un mot de taille n qui termine par 0 et qui contient k 1, combien de 1 contenait le mot taille n-1 à partir duquel il a été créé ? De même s'il termine par 1."
   ]
  },
  {
   "cell_type": "code",
   "execution_count": 12,
   "metadata": {
    "collapsed": false
   },
   "outputs": [],
   "source": [
    "def getBinaireK1(n, k):\n",
    "    \"\"\"\n",
    "    Retourne la liste des mots binaires de taille n contenant exactement k fois 1\n",
    "    Input :\n",
    "        - n, un entier, la taille des mots\n",
    "        - k, un entier, le nombre de 1\n",
    "    \"\"\"\n",
    "    # écrire le code"
   ]
  },
  {
   "cell_type": "code",
   "execution_count": 32,
   "metadata": {
    "collapsed": false
   },
   "outputs": [],
   "source": [
    "assert(len(set(getBinaireK1(0,0))) == 1)\n",
    "assert(len(set(getBinaireK1(0,1))) == 0)\n",
    "assert(set(getBinaireK1(1,1)) == {\"1\"})\n",
    "binaire3_2 = [\"011\",\"101\",\"110\"]\n",
    "assert(set(getBinaireK1(3,2)) == set(binaire3_2))\n",
    "assert(len(set(getBinaireK1(7, 3))) == 35)"
   ]
  },
  {
   "cell_type": "markdown",
   "metadata": {},
   "source": [
    "**Et pour finir (si vous ne voyez pas comment faire, passez à la suite...)**"
   ]
  },
  {
   "cell_type": "code",
   "execution_count": 13,
   "metadata": {
    "collapsed": true
   },
   "outputs": [],
   "source": [
    "def catalan(n, k):\n",
    "    \"\"\"\n",
    "    Retourne la liste des mots binaires de taille n contenant k fois 1\n",
    "    tel que, dans chaque préfixe, le nombre de 1 soit toujours supérieur ou égal au nombre de 0\n",
    "    Input :\n",
    "        - n un entier, la taille\n",
    "        - k un entier, le nombre de 1\n",
    "    Remarque : en particulier, si n-k > k, on retourne la liste vide.\n",
    "    \"\"\"\n",
    "    # écrire le code"
   ]
  },
  {
   "cell_type": "code",
   "execution_count": null,
   "metadata": {
    "collapsed": false
   },
   "outputs": [],
   "source": [
    "assert(len(set(catalan(0,0))) == 1)\n",
    "assert(len(set(catalan(0,1))) == 0)\n",
    "assert(len(set(catalan(1,0))) == 0)\n",
    "assert(set(catalan(1,1)) == {\"1\"})\n",
    "catalan3_2 = [\"110\",\"101\"] \n",
    "assert(set(catalan(3,2)) == set(catalan3_2))\n",
    "assert(len(set(catalan(10,5))) == 42)\n",
    "assert([len(set(catalan(2*n,n))) for n in xrange(6)] == [1,1,2,5,14,42])"
   ]
  },
  {
   "cell_type": "markdown",
   "metadata": {},
   "source": [
    "Exécutez la ligne suivante et copiez la liste de nombre obtenu dans google, vous pouvez vous instruire en lisant les résultat.\n",
    "Êtes vous capable d'écrire un programme qui calcule ces nombres plus rapidement ?"
   ]
  },
  {
   "cell_type": "code",
   "execution_count": null,
   "metadata": {
    "collapsed": false
   },
   "outputs": [],
   "source": [
    "[len(set(catalan(2*n, n))) for n in xrange(8)]"
   ]
  },
  {
   "cell_type": "code",
   "execution_count": null,
   "metadata": {
    "collapsed": true
   },
   "outputs": [],
   "source": []
  },
  {
   "cell_type": "markdown",
   "metadata": {},
   "source": [
    "## Le problème du porte monnaie"
   ]
  },
  {
   "cell_type": "markdown",
   "metadata": {},
   "source": [
    "Le problème est le suivant : je possède un certain ensemble de pièces $s$, puis-je rendre la somme $N$ en utilisant mes pièces ?\n",
    "\n",
    "Par exemple, si je possède les pièces $s= [ 5, 5, 2, 2, 2 ]$, je peux rendre les sommes 9 et 14 mais pas 8 et 15. Notez que $s$ représente *exactement* les pièces que j'ai et pas uniquement la valeur de mes pièces (je ne peux pas utiliser une 3ème pièce 5 pour rendre le nombre 15)\n",
    "\n",
    "Ce problème est typiquement récursif.\n",
    "\n",
    "On cherche à implanter la fonction *rendMonnaie* qui prend en paramètre une liste de pièces et la valeur à rendre. **Lire d'abord l'aide et les rappels syntaxiques**"
   ]
  },
  {
   "cell_type": "markdown",
   "metadata": {},
   "source": [
    "**Aide :** le principe de la récursion est le suivant, on choisis une pièce $p$ de $s$ et on répond aux deux questions suivantes\n",
    "\n",
    "1. puis-je rendre la monnaie en utilisant $p$ ? Si oui, alors je peux rendre la monnaie\n",
    "2. Si non, puis-je rendre la monnaie sans utiliser $p$ ?\n",
    "\n",
    "Si aucune des deux possibilités n'est vérifiée, alors je ne peux pas rendre la monnaie. \n",
    "\n",
    "**Réfléchissez aux questions suivantes puis implantez l'algorithme.**\n",
    "\n",
    "* Que signifie le cas $n = 0$ ? que dois-je répondre ?\n",
    "* Que signigifie le cas où $n \\neq 0$ et $s$ est vide ? que dois-je répondre ?\n",
    "* Si je ne suis dans aucun de ces deux cas alors : $n \\neq 0$ et $s$ n'est pas vide. Je peux choisir une pièce $p$ de $s$ et tester 1. et 2., à chaque fois, quelles seront les nouvelles valeurs de $n$ et $s$ ?\n",
    "\n",
    "** Rappels sur la syntaxe des listes ** (cf ci-dessous)\n",
    "\n",
    "Attention : lorsqu'une une liste est passée en paramètre d'une fonction puis *modifiée*, la liste d'origine est aussi modifiée ! (passage par référence)"
   ]
  },
  {
   "cell_type": "code",
   "execution_count": 14,
   "metadata": {
    "collapsed": false
   },
   "outputs": [
    {
     "name": "stdout",
     "output_type": "stream",
     "text": [
      "[1, 2, 3]\n",
      "3\n",
      "[1, 2]\n",
      "[1, 2, 3]\n"
     ]
    }
   ],
   "source": [
    "L = [1,2,3]\n",
    "print L\n",
    "p = L.pop()\n",
    "print p\n",
    "print L\n",
    "L.append(p)\n",
    "print L"
   ]
  },
  {
   "cell_type": "code",
   "execution_count": 15,
   "metadata": {
    "collapsed": false
   },
   "outputs": [
    {
     "name": "stdout",
     "output_type": "stream",
     "text": [
      "[1, 2, 3]\n",
      "[1, 2, 3, 3]\n"
     ]
    }
   ],
   "source": [
    "def lesListesSontPasseesParRef(l):\n",
    "    l.append(3)\n",
    "\n",
    "L = [1,2,3]\n",
    "print L\n",
    "lesListesSontPasseesParRef(L)\n",
    "print L"
   ]
  },
  {
   "cell_type": "markdown",
   "metadata": {},
   "source": [
    "** La fonction à implanter : **"
   ]
  },
  {
   "cell_type": "code",
   "execution_count": 16,
   "metadata": {
    "collapsed": true
   },
   "outputs": [],
   "source": [
    "def rendreMonnaie(n, s):\n",
    "    \"\"\"\n",
    "    Retourne vrai s'il est possible de rendre le nombre n à partir des pièces contenues dans s\n",
    "    Input :\n",
    "        - n, un entier positif (la valeur)\n",
    "        - s, une liste d'entiers (les pièces)\n",
    "    \"\"\"\n",
    "    # écrire le code"
   ]
  },
  {
   "cell_type": "code",
   "execution_count": 5,
   "metadata": {
    "collapsed": false
   },
   "outputs": [],
   "source": [
    "s = []\n",
    "assert(rendreMonnaie(0,s))\n",
    "assert(not rendreMonnaie(10,s))\n",
    "s = [1]\n",
    "assert(rendreMonnaie(1,s))\n",
    "assert(not rendreMonnaie(2,s))\n",
    "s = [5,5,2,2,2]\n",
    "assert(not rendreMonnaie(8,s))\n",
    "assert(rendreMonnaie(9,s))\n",
    "assert(rendreMonnaie(14,s))\n",
    "assert(not rendreMonnaie(15,s))"
   ]
  },
  {
   "cell_type": "markdown",
   "metadata": {},
   "source": [
    "On adapte un peu la fonction de départ car on veut récupérer la solution sous la forme de la liste des pièces utilisées. **Implanter la variante ci-dessous**."
   ]
  },
  {
   "cell_type": "code",
   "execution_count": 17,
   "metadata": {
    "collapsed": true
   },
   "outputs": [],
   "source": [
    "def rendreMonnaieSolution(n, s):\n",
    "    \"\"\"\n",
    "    Retourne une solution au problème du rendu de monnaie ou `None` s'il n'y a pas de solution.\n",
    "    Input :\n",
    "        - n, un entier positif (la valeur)\n",
    "        - s, une liste d'entiers (les pièces)\n",
    "    OUTPUT :\n",
    "        - la liste des pièces effectivement utilisées.\n",
    "    \"\"\"\n",
    "    # écrire le code"
   ]
  },
  {
   "cell_type": "code",
   "execution_count": 9,
   "metadata": {
    "collapsed": false
   },
   "outputs": [],
   "source": [
    "s = []\n",
    "assert(rendreMonnaieSolution(0,s) == [])\n",
    "assert(rendreMonnaieSolution(10,s) is None)\n",
    "s = [1]\n",
    "assert(rendreMonnaieSolution(1,s) == [1])\n",
    "assert(rendreMonnaieSolution(2,s) is None)\n",
    "s = [5,5,2,2,2]\n",
    "assert(rendreMonnaieSolution(8,s) is None)\n",
    "L = rendreMonnaieSolution(9,s)\n",
    "assert(L is not None and sum(L)==9)\n",
    "L = rendreMonnaieSolution(14,s)\n",
    "assert(L is not None and sum(L)==14)\n",
    "assert(rendreMonnaieSolution(15,s) is None)"
   ]
  },
  {
   "cell_type": "markdown",
   "metadata": {
    "collapsed": false
   },
   "source": [
    "Combien d'appels récursifs sont nécessaires pour résoudre le problème ? **Utiliser une variable globale et modifiez la fonction précédente pour compter le nombre d'appels lors des différents exemples.** (pour utiliser une variable globale $var$ dans une fonction, la charger par l'instruction \"global $var$\")\n",
    "\n",
    "Quelle est la complexité de l'algorithme dans le pire des cas ? *Pour écrire votre réponse, sélectionner le mode Markdown dans le ménu déroulant lorsque vous cliquez sur une cellule.*"
   ]
  },
  {
   "cell_type": "code",
   "execution_count": null,
   "metadata": {
    "collapsed": true
   },
   "outputs": [],
   "source": []
  },
  {
   "cell_type": "code",
   "execution_count": null,
   "metadata": {
    "collapsed": true
   },
   "outputs": [],
   "source": []
  },
  {
   "cell_type": "markdown",
   "metadata": {
    "collapsed": true
   },
   "source": [
    "On cherche à présent à retourner une solution *optimale*, c'est-à-dire en utilisant le moins de pièces possible. Pour cela, on utilise d'abord un algorithme dit *glouton* qui choisit sytématiquement la plus grande pièce et vérfie s'il existe une solution. Si c'est le cas, *on ne teste pas les autres solutions*. \n",
    "\n",
    "**Implanter l'algorithme glouton**"
   ]
  },
  {
   "cell_type": "code",
   "execution_count": 18,
   "metadata": {
    "collapsed": true
   },
   "outputs": [],
   "source": [
    "def rendreMonnaieGlouton(n, s):\n",
    "    \"\"\"\n",
    "    Retourne la solution obtenue par l'algorithme glouton ou 'None' s'il n'y a pas de solution\n",
    "    Input :\n",
    "        - n, un entier positif (la valeur)\n",
    "        - s, une liste d'entiers (les pièces)\n",
    "    OUTPUT :\n",
    "        - la liste des pièces effectivement utilisées.\n",
    "    \"\"\"\n",
    "    # écrire le code"
   ]
  },
  {
   "cell_type": "code",
   "execution_count": 3,
   "metadata": {
    "collapsed": true
   },
   "outputs": [],
   "source": [
    "s = [5,2,2,2,1]\n",
    "assert(rendreMonnaieGlouton(13,s) is None)\n",
    "assert(rendreMonnaieGlouton(5,s) == [5])\n",
    "assert(set(rendreMonnaieGlouton(6,s)) == {5,1})\n",
    "assert(rendreMonnaieGlouton(4,s) == [2,2])"
   ]
  },
  {
   "cell_type": "markdown",
   "metadata": {},
   "source": [
    "Malheureusement, l'algorithme glouton ne donne pas toujours la solution optimale. Observez l'exemple ci-dessous."
   ]
  },
  {
   "cell_type": "code",
   "execution_count": null,
   "metadata": {
    "collapsed": false
   },
   "outputs": [],
   "source": [
    "s = [4,3,3,1,1]\n",
    "rendreMonnaieGlouton(6,s)"
   ]
  },
  {
   "cell_type": "markdown",
   "metadata": {},
   "source": [
    "Pour obtenir une solution optimale à tous les coups, on doit choisir une pièce $p$ et tester la taille de la solution *avec* p et *sans* p et retourner la meilleure des deux.\n",
    "\n",
    "**Implanter l'algorithme rendreMonnaieOptimal ci-dessous**."
   ]
  },
  {
   "cell_type": "code",
   "execution_count": 19,
   "metadata": {
    "collapsed": true
   },
   "outputs": [],
   "source": [
    "def rendreMonnaieOptimale(n, s):\n",
    "    \"\"\"\n",
    "    Retourne la solution optimale au rendu de monnaie ou 'None' s'il n'existe pas de solution\n",
    "    Input :\n",
    "        - n, un entier positif (la valeur)\n",
    "        - s, une liste d'entiers (les pièces)\n",
    "    OUTPUT :\n",
    "        - la liste des pièces effectivement utilisées.\n",
    "    \"\"\"\n",
    "    # écrire le code"
   ]
  },
  {
   "cell_type": "code",
   "execution_count": 3,
   "metadata": {
    "collapsed": false
   },
   "outputs": [],
   "source": [
    "s = [5,2,2,2,1]\n",
    "assert(rendreMonnaieOptimale(13,s) is None)\n",
    "assert(rendreMonnaieOptimale(5,s) == [5])\n",
    "assert(len(rendreMonnaieOptimale(6,s)) == 2)\n",
    "assert(len(rendreMonnaieOptimale(4,s)) == 2)\n",
    "s = [4,3,3,1,1]\n",
    "assert(len(rendreMonnaieOptimale(6,s)) == 2)"
   ]
  },
  {
   "cell_type": "markdown",
   "metadata": {
    "collapsed": true
   },
   "source": [
    "**Quelques questions bonus :**\n",
    "\n",
    "* Traiter le cas où les pièces sont données comme un ensemble de valeurs et où l'on peut donc réutiliser plusieurs fois les mêmes valeurs.\n",
    "\n",
    "* Peut-être avez vous remarqué que vos algorithmes font les mêmes calculs plusieurs fois, en les oubliant au fur et à mesure... Pas convaincu ? Faites un dessin de *l'arbre des appels*!\n",
    "Pour gérer ce problème il faut mémoriser les calculs intermédiaires, par exemple dans un tableau où l'entrée `[i][j]` contiendra `None` ou ce qui est retourné par `votre_fonction(i, j)`.\n",
    "\n",
    "* Plus généralement, ce problème est un exemple typique d'une classe d'algorithmes que nous n'avons pas vu en cours et qu'on appelle *programmation dynamique*.\n",
    "**Informez-vous sur la programmation dynamique et cet algorithme en particulier et essayez de l'implanter**"
   ]
  },
  {
   "cell_type": "code",
   "execution_count": null,
   "metadata": {
    "collapsed": true
   },
   "outputs": [],
   "source": []
  },
  {
   "cell_type": "code",
   "execution_count": null,
   "metadata": {
    "collapsed": true
   },
   "outputs": [],
   "source": []
  },
  {
   "cell_type": "code",
   "execution_count": null,
   "metadata": {
    "collapsed": true
   },
   "outputs": [],
   "source": []
  },
  {
   "cell_type": "code",
   "execution_count": null,
   "metadata": {
    "collapsed": true
   },
   "outputs": [],
   "source": []
  }
 ],
 "metadata": {
  "kernelspec": {
   "display_name": "Python 2 (SageMath)",
   "language": "python",
   "name": "python2"
  },
  "language_info": {
   "codemirror_mode": {
    "name": "ipython",
    "version": 2
   },
   "file_extension": ".py",
   "mimetype": "text/x-python",
   "name": "python",
   "nbconvert_exporter": "python",
   "pygments_lexer": "ipython2",
   "version": "2.7.10"
  },
  "name": "TP3.ipynb"
 },
 "nbformat": 4,
 "nbformat_minor": 0
}
