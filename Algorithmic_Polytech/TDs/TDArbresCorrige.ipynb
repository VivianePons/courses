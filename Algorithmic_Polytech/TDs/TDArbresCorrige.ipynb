{
 "cells": [
  {
   "cell_type": "markdown",
   "metadata": {},
   "source": [
    "# Arbres\n",
    "\n",
    "On utilisera la structure suivante."
   ]
  },
  {
   "cell_type": "code",
   "execution_count": 41,
   "metadata": {
    "collapsed": true
   },
   "outputs": [],
   "source": [
    "class Arbre():\n",
    "    \n",
    "    def __init__(self, x, enfants = None): # constructeur\n",
    "        if enfants is None:\n",
    "            enfants = []\n",
    "        self.valeur = x\n",
    "        self.enfants = enfants\n",
    "        \n",
    "    def __repr__(self): # affichage\n",
    "        s = str(self.valeur) + str(self.enfants)\n",
    "        return s\n",
    "    \n",
    "    # pour afficher joliement\n",
    "    \n",
    "    def _ascii_art_(self): # joli affichage\n",
    "        t_repr = []\n",
    "        if len(self.enfants) == 0:\n",
    "            t_repr.append(str(self.valeur))\n",
    "            self._root = 1\n",
    "            return t_repr\n",
    "        if len(self.enfants) == 1:\n",
    "            child = self.enfants[0]\n",
    "            repr_child = child._ascii_art_()\n",
    "            sep = \" \"*(child._root-1)\n",
    "            t_repr.append(sep + str(self.valeur))\n",
    "            t_repr.append(sep + \"|\")\n",
    "            t_repr.extend(repr_child)\n",
    "            self._root = child._root\n",
    "            return t_repr\n",
    "        # General case\n",
    "        l_repr = [subtree._ascii_art_() for subtree in self.enfants]\n",
    "        acc = l_repr[0]\n",
    "        whitesep = self.enfants[0]._root+1\n",
    "        lf_sep = \" \"*(self.enfants[0]._root+1) + \"_\"*(len(acc[0])-self.enfants[0]._root)\n",
    "        ls_sep = \" \"*(self.enfants[0]._root) + \"/\" + \" \"*(len(acc[0])-self.enfants[0]._root)\n",
    "        for i in range(1, len(l_repr)):\n",
    "            t_repr = l_repr[i]\n",
    "            child = self.enfants[i]\n",
    "            for j in range(len(acc), len(t_repr)):\n",
    "                acc.append(\" \" * len(acc[0]))\n",
    "            for j in range(len(acc)):\n",
    "                add = t_repr[j] if j < len(t_repr) else \" \" * len(t_repr[0])\n",
    "                acc[j] = acc[j] + \" \" + add\n",
    "            if i == len(l_repr)-1:\n",
    "                lf_sep += \"_\" * (child._root + 1)\n",
    "            else:\n",
    "                lf_sep += \"_\" * (len(t_repr[0]) + 1)\n",
    "            ls_sep += \" \"*(child._root) + \"/\" + \" \"*(len(t_repr[0])-child._root)\n",
    "        mid = whitesep + (len(lf_sep) - whitesep) // 2\n",
    "        node = str(self.valeur)\n",
    "        t_repr = [lf_sep[:mid-1] + node + lf_sep[mid+len(node)-1:], ls_sep]\n",
    "        for i in range(len(acc)):\n",
    "            acc[i] = acc[i] + \" \" * (len(t_repr[0]) - len(acc[i]))\n",
    "        t_repr.extend(acc)\n",
    "        self._root = mid\n",
    "        return t_repr\n",
    "    \n",
    "def pretty_print(obj):\n",
    "     print(\"\\n\".join(obj._ascii_art_()))"
   ]
  },
  {
   "cell_type": "code",
   "execution_count": 42,
   "metadata": {},
   "outputs": [
    {
     "data": {
      "text/plain": [
       "4[]"
      ]
     },
     "execution_count": 42,
     "metadata": {},
     "output_type": "execute_result"
    }
   ],
   "source": [
    "A = Arbre(4)\n",
    "A # un arbre avec un seul noeud de valeur 4"
   ]
  },
  {
   "cell_type": "code",
   "execution_count": 43,
   "metadata": {},
   "outputs": [
    {
     "data": {
      "text/plain": [
       "4[2[], 5[], 1[]]"
      ]
     },
     "execution_count": 43,
     "metadata": {},
     "output_type": "execute_result"
    }
   ],
   "source": [
    "A.enfants.append(Arbre(2))\n",
    "A.enfants.append(Arbre(5))\n",
    "A.enfants.append(Arbre(1))\n",
    "A # Un arbre avec une racine et 3 fils"
   ]
  },
  {
   "cell_type": "code",
   "execution_count": 44,
   "metadata": {},
   "outputs": [
    {
     "name": "stdout",
     "output_type": "stream",
     "text": [
      "  _4__\n",
      " / / /\n",
      "2 5 1 \n"
     ]
    }
   ],
   "source": [
    "pretty_print(A)"
   ]
  },
  {
   "cell_type": "code",
   "execution_count": 45,
   "metadata": {},
   "outputs": [
    {
     "data": {
      "text/plain": [
       "4[2[], 5[3[]], 1[]]"
      ]
     },
     "execution_count": 45,
     "metadata": {},
     "output_type": "execute_result"
    }
   ],
   "source": [
    "A.enfants[1].enfants.append(Arbre(3)) # on rajoute un fils au fils du milieu\n",
    "A"
   ]
  },
  {
   "cell_type": "code",
   "execution_count": 46,
   "metadata": {},
   "outputs": [
    {
     "name": "stdout",
     "output_type": "stream",
     "text": [
      "  _4__\n",
      " / / /\n",
      "2 5 1 \n",
      "  |   \n",
      "  3   \n"
     ]
    }
   ],
   "source": [
    "pretty_print(A)"
   ]
  },
  {
   "cell_type": "code",
   "execution_count": 47,
   "metadata": {},
   "outputs": [
    {
     "data": {
      "text/plain": [
       "3[5[2[], 3[]], 4[], 2[7[], 1[], 9[]]]"
      ]
     },
     "execution_count": 47,
     "metadata": {},
     "output_type": "execute_result"
    }
   ],
   "source": [
    "exempleCours = Arbre(3, [Arbre(5, [Arbre(2), Arbre(3)]), Arbre(4), Arbre(2,[Arbre(7), Arbre(1), Arbre(9)])])\n",
    "exempleCours"
   ]
  },
  {
   "cell_type": "code",
   "execution_count": 48,
   "metadata": {},
   "outputs": [
    {
     "name": "stdout",
     "output_type": "stream",
     "text": [
      "    ___3____\n",
      "   /  /    /  \n",
      "  5_ 4   _2__\n",
      " / /    / / /\n",
      "2 3    7 1 9 \n"
     ]
    }
   ],
   "source": [
    "pretty_print(exempleCours)"
   ]
  },
  {
   "cell_type": "markdown",
   "metadata": {},
   "source": [
    "Compléter les fonctions suivantes."
   ]
  },
  {
   "cell_type": "code",
   "execution_count": 9,
   "metadata": {
    "collapsed": true
   },
   "outputs": [],
   "source": [
    "def hauteur(A):\n",
    "    \"\"\"\n",
    "    Renvoie la hauteur de l'arbre\n",
    "    Input : un arbre A\n",
    "    Output : un entier\n",
    "    \"\"\"\n",
    "    # begin solution\n",
    "    h = 0\n",
    "    for f in A.enfants:\n",
    "        hf = hauteur(f)\n",
    "        if hf > h:\n",
    "            h = hf\n",
    "    return h + 1\n",
    "    # end solution"
   ]
  },
  {
   "cell_type": "code",
   "execution_count": 10,
   "metadata": {
    "collapsed": true
   },
   "outputs": [],
   "source": [
    "assert hauteur(Arbre(1)) == 1\n",
    "A = Arbre(4, [Arbre(2), Arbre(5,[Arbre(3)]), Arbre(1)])\n",
    "assert hauteur(A) == 3\n",
    "exempleCours = Arbre(3, [Arbre(5, [Arbre(2), Arbre(3)]), Arbre(4), Arbre(2,[Arbre(7), Arbre(1), Arbre(9)])])\n",
    "assert hauteur(exempleCours) == 3"
   ]
  },
  {
   "cell_type": "code",
   "execution_count": 11,
   "metadata": {
    "collapsed": true
   },
   "outputs": [],
   "source": [
    "def taille(A):\n",
    "    \"\"\"\n",
    "    Renvoie le nombre de noeuds dans l'arbre\n",
    "    Input : un arbre A\n",
    "    Output : un entier\n",
    "    \"\"\"\n",
    "    # begin solution\n",
    "    n = 1\n",
    "    for f in A.enfants:\n",
    "        n += taille(f)\n",
    "    return n\n",
    "    # end solution"
   ]
  },
  {
   "cell_type": "code",
   "execution_count": 12,
   "metadata": {
    "collapsed": true
   },
   "outputs": [],
   "source": [
    "assert taille(Arbre(1)) == 1\n",
    "A = Arbre(4, [Arbre(2), Arbre(5,[Arbre(3)]), Arbre(1)])\n",
    "assert taille(A) == 5\n",
    "exempleCours = Arbre(3, [Arbre(5, [Arbre(2), Arbre(3)]), Arbre(4), Arbre(2,[Arbre(7), Arbre(1), Arbre(9)])])\n",
    "assert taille(exempleCours) == 9"
   ]
  },
  {
   "cell_type": "code",
   "execution_count": 13,
   "metadata": {
    "collapsed": true
   },
   "outputs": [],
   "source": [
    "def valeurMax(A):\n",
    "    \"\"\"\n",
    "    Renvoie la valeur maximale contenue dans les noeuds de l'arbre\n",
    "    Input : un arbre A\n",
    "    Output : un entier\n",
    "    \"\"\"\n",
    "    # begin solution\n",
    "    m = A.valeur\n",
    "    for f in A.enfants:\n",
    "        fmax = valeurMax(f)\n",
    "        if fmax > m:\n",
    "            m = fmax\n",
    "    return m\n",
    "    # end solution"
   ]
  },
  {
   "cell_type": "code",
   "execution_count": 14,
   "metadata": {
    "collapsed": true
   },
   "outputs": [],
   "source": [
    "assert valeurMax(Arbre(1)) == 1\n",
    "A = Arbre(4, [Arbre(2), Arbre(6,[Arbre(3)]), Arbre(1)])\n",
    "assert valeurMax(A) == 6\n",
    "exemple2 = Arbre(3, [Arbre(5, [Arbre(2), Arbre(3)]), Arbre(4), Arbre(2,[Arbre(7), Arbre(1), Arbre(10)])])\n",
    "assert valeurMax(exemple2) == 10"
   ]
  },
  {
   "cell_type": "code",
   "execution_count": 17,
   "metadata": {
    "collapsed": true
   },
   "outputs": [],
   "source": [
    "def sommeArbre(A):\n",
    "    \"\"\"\n",
    "    Renvoie la somme des valeurs de l'arbre\n",
    "    Input : un arbre A\n",
    "    Output : un entier\n",
    "    \"\"\"\n",
    "    # begin solution\n",
    "    s = A.valeur\n",
    "    for f in A.enfants:\n",
    "        s+= sommeArbre(f)\n",
    "    return s\n",
    "    # end solution"
   ]
  },
  {
   "cell_type": "code",
   "execution_count": 18,
   "metadata": {},
   "outputs": [],
   "source": [
    "assert sommeArbre(Arbre(2)) == 2\n",
    "A = Arbre(4, [Arbre(2), Arbre(5,[Arbre(3)]), Arbre(1)])\n",
    "assert sommeArbre(A) == 15\n",
    "exempleCours = Arbre(3, [Arbre(5, [Arbre(2), Arbre(3)]), Arbre(4), Arbre(2,[Arbre(7), Arbre(1), Arbre(9)])])\n",
    "assert sommeArbre(exempleCours) == 36"
   ]
  },
  {
   "cell_type": "code",
   "execution_count": 23,
   "metadata": {
    "collapsed": true
   },
   "outputs": [],
   "source": [
    "def distMinimale(A):\n",
    "    \"\"\"\n",
    "    Renvoie la distance minimale entre une feuille et la racine\n",
    "    Input : un arbre A\n",
    "    Output : un entier\n",
    "    \"\"\"\n",
    "    # begin solution\n",
    "    m = None\n",
    "    for f in A.enfants:\n",
    "        d = distMinimale(f)\n",
    "        if m is None or d < m:\n",
    "            m = d\n",
    "    if m is None:\n",
    "        return 1\n",
    "    return 1 + m\n",
    "    # end solution"
   ]
  },
  {
   "cell_type": "code",
   "execution_count": 25,
   "metadata": {},
   "outputs": [],
   "source": [
    "assert distMinimale(Arbre(1)) == 1\n",
    "A = Arbre(4, [Arbre(2), Arbre(5,[Arbre(3)]), Arbre(1)])\n",
    "assert distMinimale(A) == 2\n",
    "exempleCours = Arbre(3, [Arbre(5, [Arbre(2), Arbre(3)]), Arbre(4), Arbre(2,[Arbre(7), Arbre(1), Arbre(9)])])\n",
    "assert distMinimale(exempleCours) == 2\n",
    "exemple2 = Arbre(3, [Arbre(5, [Arbre(2), Arbre(3)]), Arbre(4, [Arbre(5)]), Arbre(2,[Arbre(7), Arbre(1), Arbre(9)])])\n",
    "assert distMinimale(exemple2) == 3"
   ]
  },
  {
   "cell_type": "code",
   "execution_count": 26,
   "metadata": {},
   "outputs": [],
   "source": [
    "# begin solution\n",
    "def distMinimale(A):\n",
    "    level = [A]\n",
    "    nextlevel = []\n",
    "    h = 1\n",
    "    while True:\n",
    "        for f in level:\n",
    "            if len(f.enfants) == 0:\n",
    "                return h\n",
    "            nextlevel.extend(f.enfants)\n",
    "        h+=1\n",
    "        level = nextlevel\n",
    "        nextlevel = []\n",
    "# end solution"
   ]
  },
  {
   "cell_type": "code",
   "execution_count": 28,
   "metadata": {
    "collapsed": true
   },
   "outputs": [],
   "source": [
    "def nbEnfantsMax(A):\n",
    "    \"\"\"\n",
    "    Renvoie le nombre d'enfants maximal des noeuds de l'arbre\n",
    "    Input : un arbre A\n",
    "    Output : un entier\n",
    "    \"\"\"\n",
    "    # begin solution\n",
    "    m = len(A.enfants)\n",
    "    for f in A.enfants:\n",
    "        mf = nbEnfantsMax(f)\n",
    "        if mf > m:\n",
    "            m = mf\n",
    "    return m\n",
    "    # end solution"
   ]
  },
  {
   "cell_type": "code",
   "execution_count": 31,
   "metadata": {
    "collapsed": true
   },
   "outputs": [],
   "source": [
    "assert nbEnfantsMax(Arbre(1)) == 0\n",
    "A = Arbre(4, [Arbre(2), Arbre(5,[Arbre(3)]), Arbre(1)])\n",
    "assert nbEnfantsMax(A) == 3\n",
    "exempleCours = Arbre(3, [Arbre(5, [Arbre(2), Arbre(3)]), Arbre(4), Arbre(2,[Arbre(7), Arbre(1), Arbre(9)])])\n",
    "assert nbEnfantsMax(exempleCours) == 3\n",
    "exemple2 = Arbre(3, [Arbre(5, [Arbre(2), Arbre(3)]), Arbre(4), Arbre(2,[Arbre(7), Arbre(1), Arbre(9), Arbre(2)])])\n",
    "assert nbEnfantsMax(exemple2) == 4\n",
    "exemple3 = Arbre(3, [Arbre(5, [Arbre(2), Arbre(3)]), Arbre(2,[Arbre(7), Arbre(1, [Arbre(1), Arbre(1), Arbre(1)])])])\n",
    "assert nbEnfantsMax(exemple3) == 3"
   ]
  },
  {
   "cell_type": "markdown",
   "metadata": {},
   "source": [
    "# Arbres binaires"
   ]
  },
  {
   "cell_type": "markdown",
   "metadata": {},
   "source": [
    "On utilisera la classe suivante qui donne une implatantion minimale des arbres binaires."
   ]
  },
  {
   "cell_type": "code",
   "execution_count": 59,
   "metadata": {
    "collapsed": true
   },
   "outputs": [],
   "source": [
    "class ArbreBinaire():\n",
    "    \n",
    "    def __init__(self, x, filsG = None, filsD = None): # constructeur\n",
    "        self.valeur = x\n",
    "        self.filsG = filsG\n",
    "        self.filsD = filsD\n",
    "        \n",
    "    def __repr__(self): # affichage\n",
    "        if self.filsG is None and self.filsD is None:\n",
    "            return str(self.valeur)\n",
    "        s = str(self.valeur) + \"[\" + str(self.filsG) + \", \" + str(self.filsD) + \"]\"\n",
    "        s = s.replace(\"None\",\".\") # pour alléger l'affichage\n",
    "        return s\n",
    "    \n",
    "    # pour afficher joliement\n",
    "    \n",
    "    def _ascii_art_(self): # joli affichage\n",
    "        t_repr = []\n",
    "        if self.filsG is None and self.filsD is None:\n",
    "            t_repr.append(str(self.valeur))\n",
    "            self._root = 1\n",
    "            return t_repr\n",
    "        if self.filsG is None:\n",
    "            node = str(self.valeur)\n",
    "            rr_tree = self.filsD._ascii_art_()\n",
    "            if self.filsD._root > 2:\n",
    "                f_line = \" \" * (self.filsD._root - 3) + node\n",
    "                s_line = \" \" * (len(node) + self.filsD._root - 3) + \"\\\\\"\n",
    "                f_line += \" \" * (len(rr_tree[0]) - len(f_line))\n",
    "                s_line += \" \" * (len(rr_tree[0]) - len(s_line))\n",
    "                t_repr.append(f_line)\n",
    "                t_repr.append(s_line)\n",
    "                t_repr.extend(rr_tree)\n",
    "                self._root = self.filsD._root - 2\n",
    "            else:\n",
    "                f_line = node\n",
    "                s_line = \" \" + \"\\\\\"\n",
    "                t_line = \" \" * (len(node) + 1)\n",
    "                rr_tree = [t_line + l for l in rr_tree]\n",
    "                f_line += \" \" * (len(rr_tree[0]) - len(f_line))\n",
    "                s_line += \" \" * (len(rr_tree[0]) - len(s_line))\n",
    "                t_repr.append(f_line)\n",
    "                t_repr.append(s_line)\n",
    "                t_repr.extend(rr_tree)\n",
    "                self._root = self.filsD._root\n",
    "            return t_repr\n",
    "        if self.filsD is None:\n",
    "            node = str(self.valeur)\n",
    "            lr_tree = self.filsG._ascii_art_()\n",
    "            f_line = \" \" * (self.filsG._root + 1) + node\n",
    "            s_line = \" \" * self.filsG._root + \"/\"\n",
    "            if len(f_line) < len(lr_repr[0]):\n",
    "                f_line += \" \" * (len(lr_repr[0]) - len(fline))\n",
    "                s_line += \" \" * (len(lr_repr[0]) - len(sline))\n",
    "            else:\n",
    "                s_line += \" \" * (len(fline) - len(sline))\n",
    "                lr_tree = [l + \" \" * (len(fline) - len(l)) for l in lr_tree]\n",
    "            t_repr.append(f_line)\n",
    "            t_repr.append(s_line)\n",
    "            t_repr.extend(lr_tree)\n",
    "            self._root = self.filsG._root + 2\n",
    "            return t_repr\n",
    "        node = str(self.valeur)\n",
    "        lr_tree = self.filsG._ascii_art_()\n",
    "        rr_tree = self.filsD._ascii_art_()\n",
    "        nb_ = len(lr_tree[0]) - self.filsG._root + self.filsD._root - 1\n",
    "        nb_L = nb_ // 2\n",
    "        nb_R = nb_L + (nb_ % 2)\n",
    "        f_line = \" \" * (self.filsG._root + 1) + \"_\" * nb_L + node\n",
    "        f_line += \"_\" * nb_R\n",
    "        s_line = \" \" * self.filsG._root + \"/\" + \" \" * (len(node) + self.filsD._root - 1 + (len(lr_tree[0]) - self.filsG._root)) + \"\\\\\"\n",
    "        j = max(len(lr_tree), len(rr_tree))\n",
    "        mid = \" \" * (len(node) + 2)\n",
    "        children = []\n",
    "        for i in range(j):\n",
    "            l = lr_tree[i] if i < len(lr_tree) else \" \" * len(lr_tree[0])\n",
    "            r = rr_tree[i] if i < len(rr_tree) else \" \" * len(rr_tree[0])\n",
    "            children.append(l + mid + r)\n",
    "        f_line += \" \" * (len(children[0]) - len(f_line))\n",
    "        s_line += \" \" * (len(children[0]) - len(s_line))\n",
    "        t_repr.append(f_line)\n",
    "        t_repr.append(s_line)\n",
    "        t_repr.extend(children)\n",
    "        self._root = self.filsG._root + nb_L + 2\n",
    "        return t_repr\n"
   ]
  },
  {
   "cell_type": "markdown",
   "metadata": {},
   "source": [
    "Voilà par exemple la création d'un arbre binaire de racine 3, avec un fils gauche de valeur 1 et un fils droit de valeur 4."
   ]
  },
  {
   "cell_type": "code",
   "execution_count": 60,
   "metadata": {},
   "outputs": [
    {
     "data": {
      "text/plain": [
       "3[1, 4]"
      ]
     },
     "execution_count": 60,
     "metadata": {},
     "output_type": "execute_result"
    }
   ],
   "source": [
    "N1 = ArbreBinaire(1)\n",
    "N4 = ArbreBinaire(4)\n",
    "N3 = ArbreBinaire(3,N1,N4)\n",
    "N3"
   ]
  },
  {
   "cell_type": "code",
   "execution_count": 61,
   "metadata": {},
   "outputs": [
    {
     "name": "stdout",
     "output_type": "stream",
     "text": [
      "  3  \n",
      " / \\ \n",
      "1   4\n"
     ]
    }
   ],
   "source": [
    "pretty_print(N3)"
   ]
  },
  {
   "cell_type": "markdown",
   "metadata": {},
   "source": [
    "En voici un autre, cette fois, 4 a aussi un fil droit de valeur 5."
   ]
  },
  {
   "cell_type": "code",
   "execution_count": 62,
   "metadata": {},
   "outputs": [
    {
     "data": {
      "text/plain": [
       "3[1, 4[., 5]]"
      ]
     },
     "execution_count": 62,
     "metadata": {},
     "output_type": "execute_result"
    }
   ],
   "source": [
    "N1 = ArbreBinaire(1)\n",
    "N5 = ArbreBinaire(5)\n",
    "N4 = ArbreBinaire(4,None,N5)\n",
    "N3 = ArbreBinaire(3,N1,N4)\n",
    "N3"
   ]
  },
  {
   "cell_type": "code",
   "execution_count": 63,
   "metadata": {},
   "outputs": [
    {
     "name": "stdout",
     "output_type": "stream",
     "text": [
      "  3    \n",
      " / \\   \n",
      "1   4  \n",
      "     \\ \n",
      "      5\n"
     ]
    }
   ],
   "source": [
    "pretty_print(N3)"
   ]
  },
  {
   "cell_type": "markdown",
   "metadata": {},
   "source": [
    "On peut accéder aux différents champs de cette façon :"
   ]
  },
  {
   "cell_type": "code",
   "execution_count": 64,
   "metadata": {},
   "outputs": [
    {
     "name": "stdout",
     "output_type": "stream",
     "text": [
      "3\n",
      "1\n",
      "4[., 5]\n"
     ]
    }
   ],
   "source": [
    "print(N3.valeur)\n",
    "print(N3.filsG)\n",
    "print(N3.filsD)"
   ]
  },
  {
   "cell_type": "markdown",
   "metadata": {},
   "source": [
    "**Exercice :** créer l'ABR où l'on a rajouté 2 comme fils droit du sous-arbre enraciné en 1 de l'exemple précédent."
   ]
  },
  {
   "cell_type": "code",
   "execution_count": 66,
   "metadata": {},
   "outputs": [
    {
     "name": "stdout",
     "output_type": "stream",
     "text": [
      "  _3_    \n",
      " /   \\   \n",
      "1     4  \n",
      " \\     \\ \n",
      "  2     5\n"
     ]
    }
   ],
   "source": [
    "# begin solution\n",
    "N2 = ArbreBinaire(2)\n",
    "N1 = ArbreBinaire(1,None,N2)\n",
    "N5 = ArbreBinaire(5)\n",
    "N4 = ArbreBinaire(4,None,N5)\n",
    "N3 = ArbreBinaire(3,N1,N4)\n",
    "pretty_print(N3)\n",
    "# end solution"
   ]
  },
  {
   "cell_type": "markdown",
   "metadata": {},
   "source": [
    "Ecrire un algorithme permettant de tester si deux arbres binaires sont égaux (même forme, même valeur)"
   ]
  },
  {
   "cell_type": "code",
   "execution_count": 67,
   "metadata": {
    "collapsed": true
   },
   "outputs": [],
   "source": [
    "def ABEgaux(A,B):\n",
    "    \"\"\"\n",
    "    Renvoie True si A et B représentent le même arbre binaire\n",
    "    Input : A,B soient des arbres binaire soit None\n",
    "    \"\"\"\n",
    "    # begin solution\n",
    "    if A is None or B is None:\n",
    "        return A == B\n",
    "    if A.valeur != B.valeur:\n",
    "        return False\n",
    "    return ABEgaux(A.filsG, B.filsG) and ABEgaux(A.filsD, B.filsD)\n",
    "    # end solution"
   ]
  },
  {
   "cell_type": "code",
   "execution_count": 69,
   "metadata": {},
   "outputs": [],
   "source": [
    "ab1 = ArbreBinaire(1)\n",
    "ab2 = ArbreBinaire(2)\n",
    "assert not ABEgaux(ab1, ab2)\n",
    "assert not ABEgaux(ab1, None)\n",
    "assert not ABEgaux(None, ab2)\n",
    "assert ABEgaux(None, None)\n",
    "assert ABEgaux(ab1, ArbreBinaire(1))\n",
    "aba = ArbreBinaire(3, ArbreBinaire(1, None, ArbreBinaire(2)), ArbreBinaire(4,None,ArbreBinaire(5)))\n",
    "abb = ArbreBinaire(3, ArbreBinaire(1, None, ArbreBinaire(2)), ArbreBinaire(4,None,ArbreBinaire(5)))\n",
    "abc = ArbreBinaire(3, ArbreBinaire(1, None, ArbreBinaire(2)), ArbreBinaire(4,ArbreBinaire(5),None))\n",
    "assert ABEgaux(aba, abb)\n",
    "assert not ABEgaux(aba, abc)"
   ]
  },
  {
   "cell_type": "markdown",
   "metadata": {},
   "source": [
    "## Insertion\n",
    "\n",
    "On rappelle l'algorithme d'insertion dans un arbre binaire de recherche :\n",
    "* l'insertion dans un noeud vide renvoie l'arbre contenant le noeud à insérer,\n",
    "* sinon, on compare la valeur à insérer à la valeur du noeud, on insère à gauche si la valeur est plus petite ou égale et à droite sinon"
   ]
  },
  {
   "cell_type": "code",
   "execution_count": 70,
   "metadata": {
    "collapsed": true
   },
   "outputs": [],
   "source": [
    "def insertABR(A,v):\n",
    "    \"\"\"\n",
    "    Insertion dans un ABR\n",
    "    Input :\n",
    "        - A, l'arbre binaire de recherche (peut être None)\n",
    "        - v, la valeur à insérer\n",
    "    Output :\n",
    "        la nouvelle racine de l'arbre\n",
    "    \"\"\"\n",
    "    # begin solution\n",
    "    if A is None:\n",
    "        return ArbreBinaire(v)\n",
    "    if v <= A.valeur:\n",
    "        A.filsG = insertABR(A.filsG,v)\n",
    "    else:\n",
    "        A.filsD = insertABR(A.filsD,v)\n",
    "    return A\n",
    "    # end solution"
   ]
  },
  {
   "cell_type": "code",
   "execution_count": 71,
   "metadata": {
    "collapsed": true
   },
   "outputs": [],
   "source": [
    "A = insertABR(None,3)\n",
    "assert str(A) == \"3\"\n",
    "A = insertABR(A,1)\n",
    "assert str(A) == \"3[1, .]\"\n",
    "A = insertABR(A,4)\n",
    "assert str(A) == \"3[1, 4]\"\n",
    "A = insertABR(A,5)\n",
    "assert str(A) == \"3[1, 4[., 5]]\"\n",
    "A = insertABR(A,2)\n",
    "assert str(A) == \"3[1[., 2], 4[., 5]]\"\n",
    "A = insertABR(A,1)\n",
    "assert str(A) == \"3[1[1, 2], 4[., 5]]\""
   ]
  },
  {
   "cell_type": "code",
   "execution_count": 72,
   "metadata": {
    "collapsed": true
   },
   "outputs": [],
   "source": [
    "def insertListABR(L):\n",
    "    \"\"\"\n",
    "    Insertion d'une liste dans un ABR\n",
    "\n",
    "    Input :\n",
    "        - L, une liste de valeurs\n",
    "    Output :\n",
    "        L'arbre binaire obtenu en insérant les éléments un à un\n",
    "    \"\"\"\n",
    "    # begin solution\n",
    "    A = None\n",
    "    for v in L:\n",
    "        A = insertABR(A,v)\n",
    "    return A\n",
    "    # end solution"
   ]
  },
  {
   "cell_type": "code",
   "execution_count": 73,
   "metadata": {
    "collapsed": true
   },
   "outputs": [],
   "source": [
    "A = insertListABR([3,1,4,5,2,1])\n",
    "assert str(A) == \"3[1[1, 2], 4[., 5]]\"\n",
    "A = insertListABR([3,4,5,1,2,1])\n",
    "assert str(A) == \"3[1[1, 2], 4[., 5]]\"\n",
    "A = insertListABR([5,1,4,2,5,8,5,6,7,2,5])\n",
    "assert str(A) == \"5[1[., 4[2[2, .], 5[5[5, .], .]]], 8[6[., 7], .]]\""
   ]
  },
  {
   "cell_type": "markdown",
   "metadata": {},
   "source": [
    "On vous donne la fonction suivante qui permet de récupérer les éléments de l'arbre en ordre infixe et de les mettre dans une liste.\n",
    "\n",
    "Techniquement on utilise le fantastique système de générateurs en Python. On utilise l'instruction *yield* qui permet d'énumérer l'ensemble à générer. L'instruction *yield* agit un peu comme un *return* qui n'arête pas l'exécution du programme, mais le met en pause jusqu'à son prochain appel."
   ]
  },
  {
   "cell_type": "code",
   "execution_count": 74,
   "metadata": {
    "collapsed": true
   },
   "outputs": [],
   "source": [
    "def infixeGenerator(A):\n",
    "    if A is None:\n",
    "        return\n",
    "    for v in infixeGenerator(A.filsG):\n",
    "        yield v\n",
    "    yield A.valeur\n",
    "    for v in infixeGenerator(A.filsD):\n",
    "        yield v\n",
    "        \n",
    "def infixeList(A):\n",
    "    return list(infixeGenerator(A))"
   ]
  },
  {
   "cell_type": "markdown",
   "metadata": {},
   "source": [
    "On peut maintenant vérifier que le tri par ABR... trie bien les valeurs comme escompté!"
   ]
  },
  {
   "cell_type": "code",
   "execution_count": 75,
   "metadata": {
    "collapsed": true
   },
   "outputs": [],
   "source": [
    "A = insertListABR([3,1,4,5,2,1])\n",
    "assert infixeList(A) == [1,1,2,3,4,5]\n",
    "A = insertListABR([3,4,5,1,2,1])\n",
    "assert infixeList(A) == [1,1,2,3,4,5]\n",
    "A = insertListABR([5,1,4,2,5,8,5,6,7,2,5])\n",
    "assert infixeList(A) == [1,2,2,4,5,5,5,5,6,7,8]"
   ]
  },
  {
   "cell_type": "markdown",
   "metadata": {},
   "source": [
    "## Rotations"
   ]
  },
  {
   "cell_type": "markdown",
   "metadata": {},
   "source": [
    "faites l'exercice 5 de la feuille TD5.pdf\n",
    "\n",
    "puis implantez les algorithmes suivant"
   ]
  },
  {
   "cell_type": "code",
   "execution_count": 76,
   "metadata": {
    "collapsed": true
   },
   "outputs": [],
   "source": [
    "def rightRotation(T):\n",
    "    \"\"\"\n",
    "    Rotation droite\n",
    "    Effectue une rotation droite à la racine de l'arbre donné en argument.\n",
    "    Si l'arbre est vide ou si son sous-arbre gauche est vide, la rotation ne fait rien.\n",
    "\n",
    "    Input :\n",
    "        - T un ABR\n",
    "    Output:\n",
    "        La nouvelle racine de l'arbre\n",
    "    \"\"\"\n",
    "    # begin solution\n",
    "    if T is None or T.filsG is None:\n",
    "        return T\n",
    "    x,y = T.filsG,T\n",
    "    x.filsD, y.filsG = y,x.filsD\n",
    "    return x\n",
    "    # end solution"
   ]
  },
  {
   "cell_type": "code",
   "execution_count": 77,
   "metadata": {
    "collapsed": true
   },
   "outputs": [],
   "source": [
    "T = None\n",
    "assert rightRotation(T) == T\n",
    "T = ArbreBinaire(2)\n",
    "assert rightRotation(T) == T\n",
    "T = ArbreBinaire(2,None, ArbreBinaire(3))\n",
    "assert rightRotation(T) == T\n",
    "T = ArbreBinaire(2, ArbreBinaire(1), None)\n",
    "T = rightRotation(T)\n",
    "assert str(T) == \"1[., 2]\"\n",
    "T = insertListABR([5,7,3,4,1,6,2])\n",
    "assert str(T) == \"5[3[1[., 2], 4], 7[6, .]]\"\n",
    "T = rightRotation(T)\n",
    "assert str(T) == \"3[1[., 2], 5[4, 7[6, .]]]\"\n",
    "T = insertListABR([4,5,7,3,2,1,6])\n",
    "assert str(T) == \"4[3[2[1, .], .], 5[., 7[6, .]]]\"\n",
    "T = rightRotation(T)\n",
    "assert str(T) == \"3[2[1, .], 4[., 5[., 7[6, .]]]]\"\n",
    "T = insertListABR([5,2,7,4,3,6,1])\n",
    "assert str(T) == \"5[2[1, 4[3, .]], 7[6, .]]\"\n",
    "T = rightRotation(T)\n",
    "assert str(T) == \"2[1, 5[4[3, .], 7[6, .]]]\""
   ]
  },
  {
   "cell_type": "code",
   "execution_count": 78,
   "metadata": {
    "collapsed": true
   },
   "outputs": [],
   "source": [
    "def leftRotation(T):\n",
    "    \"\"\"\n",
    "    Rotation gauche\n",
    "    Effectue une rotation gauche à la racine de l'arbre donné en argument.\n",
    "    Si l'arbre est vide ou si son sous-arbre droit est vide, la rotation ne fait rien.\n",
    "\n",
    "    Input :\n",
    "        - T un ABR\n",
    "    Output:\n",
    "        La nouvelle racine de l'arbre\n",
    "    \"\"\"\n",
    "    # begin solution\n",
    "    if T is None or T.filsD is None:\n",
    "        return T\n",
    "    x,y = T,T.filsD\n",
    "    x.filsD, y.filsG = y.filsG,x\n",
    "    return y\n",
    "    # end solution"
   ]
  },
  {
   "cell_type": "code",
   "execution_count": 79,
   "metadata": {
    "collapsed": true
   },
   "outputs": [],
   "source": [
    "T = None\n",
    "assert leftRotation(T) == T\n",
    "T = ArbreBinaire(2)\n",
    "assert leftRotation(T) == T\n",
    "T = ArbreBinaire(2,ArbreBinaire(1), None)\n",
    "assert leftRotation(T) == T\n",
    "T = ArbreBinaire(2, None, ArbreBinaire(3))\n",
    "T = leftRotation(T)\n",
    "assert str(T) == \"3[2, .]\"\n",
    "T = insertListABR([3,1,5,2,4,7,6])\n",
    "assert str(T) == \"3[1[., 2], 5[4, 7[6, .]]]\"\n",
    "T = leftRotation(T)\n",
    "assert str(T) == \"5[3[1[., 2], 4], 7[6, .]]\"\n",
    "T = insertListABR([3,4,5,2,7,6,1])\n",
    "assert str(T) == \"3[2[1, .], 4[., 5[., 7[6, .]]]]\"\n",
    "T = leftRotation(T)\n",
    "assert str(T) == \"4[3[2[1, .], .], 5[., 7[6, .]]]\"\n",
    "T = insertListABR([2,5,7,1,6,4,3])\n",
    "assert str(T) == \"2[1, 5[4[3, .], 7[6, .]]]\"\n",
    "T = leftRotation(T)\n",
    "assert str(T) == \"5[2[1, 4[3, .]], 7[6, .]]\""
   ]
  },
  {
   "cell_type": "markdown",
   "metadata": {},
   "source": [
    "## Equilibre"
   ]
  },
  {
   "cell_type": "markdown",
   "metadata": {},
   "source": [
    "On dit qu'un ABR est équilibré si la différence de hauteur à gauche et à droite de tous les noeuds est strictement ingérieure à 2 (donc -1, 0 ou 1).\n",
    "\n",
    "Le but de cette section est d'écrire un algorithme d'insertion dans les arbres équilibrés, qui préserve cet propriété.\n",
    "Pour cela, on va sauvegarder *au niveau de chaque noeud* la hauteur du sous-arbre issu du noeud. Cela permetra de connaitre en temps constant l'état d'équilibre d'un arbre.\n",
    "\n",
    "Dans la littérature, on appelle *AVL* cette classe d'ABR.\n",
    "Le nom *AVL* provient du nom des deux auteurs de l'algorithme: Georgii Adelson-Velsky et Evguenii Landis.\n",
    "\n",
    "On crée une nouvelle classe *AVL* pour les arbres avec paramètres de hauteur."
   ]
  },
  {
   "cell_type": "code",
   "execution_count": 82,
   "metadata": {
    "collapsed": true
   },
   "outputs": [],
   "source": [
    "class AVL():\n",
    "    \n",
    "    def __init__(self, x): # constructeur\n",
    "        self.valeur = x\n",
    "        self.hauteur = 1\n",
    "        self.filsG = None #  On ne permet plus l'initialisation de filsG et filsD\n",
    "        self.filsD = None #  ils ne seront modifés que par l'insertion\n",
    "        \n",
    "    def __repr__(self): # affichage\n",
    "        if self.filsG is None and self.filsD is None:\n",
    "            return str(self.valeur)\n",
    "        s = str(self.valeur) + \"[\" + str(self.filsG) + \", \" + str(self.filsD) + \"]\"\n",
    "        s = s.replace(\"None\",\".\") # pour alléger l'affichage\n",
    "        return s\n",
    "    \n",
    "    def equilibre(self):\n",
    "        \"\"\"\n",
    "        Retourne la valeur d'équilibre de l'arbre en fonction des hauteurs sauvegardées\n",
    "        \"\"\"\n",
    "        hg = 0\n",
    "        if not self.filsG is None:\n",
    "            hg = self.filsG.hauteur\n",
    "        hd = 0\n",
    "        if not self.filsD is None:\n",
    "            hd = self.filsD.hauteur\n",
    "        return hg - hd\n",
    "    \n",
    "    # la méthode suivante va nous permettre de vérifier que le paramètre de hauteur est mis correctement à jour\n",
    "\n",
    "    def checkHauteur(self):\n",
    "        \"\"\"\n",
    "        Calcule récursivement la hauteur et vérifie la cohérence des valeurs sauvegardées\n",
    "        \n",
    "        Output:\n",
    "            - True ou False selon que les valeurs de hauteur correspondent à la vrai hauteur de l'arbre\n",
    "            - la hauteur de l'arbre calculée par l'algorithme\n",
    "        \"\"\"\n",
    "        if not self.filsG is None:\n",
    "            cg, hg = self.filsG.checkHauteur()\n",
    "        else:\n",
    "            cg, hg = True, 0 # fils vide\n",
    "        if not self.filsD is None:\n",
    "            cd, hd = self.filsD.checkHauteur()\n",
    "        else:\n",
    "            cd, hd = True, 0 # fils vide\n",
    "        h = max(hg,hd) +1\n",
    "        if not cg or not cd: # les valeurs sont incohérentes sur les fils\n",
    "            return False, h\n",
    "        if not self.hauteur == h:\n",
    "            return False, h\n",
    "        return True, h\n",
    "    \n",
    "    def checkAVL(self):\n",
    "        \"\"\"\n",
    "        Vérifie que l'arbre est un AVL en utilisant les valeurs des hauteurs stockées.\n",
    "        \"\"\"\n",
    "        return self.equilibre() > -2 and self.equilibre() < 2 and (self.filsG is None or self.filsG.checkAVL()) and (self.filsD is None or self.filsD.checkAVL())\n",
    "    \n",
    "    # pour afficher joliement\n",
    "    \n",
    "    def _ascii_art_(self): # joli affichage\n",
    "        t_repr = []\n",
    "        if self.filsG is None and self.filsD is None:\n",
    "            t_repr.append(str(self.valeur))\n",
    "            self._root = 1\n",
    "            return t_repr\n",
    "        if self.filsG is None:\n",
    "            node = str(self.valeur)\n",
    "            rr_tree = self.filsD._ascii_art_()\n",
    "            if self.filsD._root > 2:\n",
    "                f_line = \" \" * (self.filsD._root - 3) + node\n",
    "                s_line = \" \" * (len(node) + self.filsD._root - 3) + \"\\\\\"\n",
    "                f_line += \" \" * (len(rr_tree[0]) - len(f_line))\n",
    "                s_line += \" \" * (len(rr_tree[0]) - len(s_line))\n",
    "                t_repr.append(f_line)\n",
    "                t_repr.append(s_line)\n",
    "                t_repr.extend(rr_tree)\n",
    "                self._root = self.filsD._root - 2\n",
    "            else:\n",
    "                f_line = node\n",
    "                s_line = \" \" + \"\\\\\"\n",
    "                t_line = \" \" * (len(node) + 1)\n",
    "                rr_tree = [t_line + l for l in rr_tree]\n",
    "                f_line += \" \" * (len(rr_tree[0]) - len(f_line))\n",
    "                s_line += \" \" * (len(rr_tree[0]) - len(s_line))\n",
    "                t_repr.append(f_line)\n",
    "                t_repr.append(s_line)\n",
    "                t_repr.extend(rr_tree)\n",
    "                self._root = self.filsD._root\n",
    "            return t_repr\n",
    "        if self.filsD is None:\n",
    "            node = str(self.valeur)\n",
    "            lr_tree = self.filsG._ascii_art_()\n",
    "            f_line = \" \" * (self.filsG._root + 1) + node\n",
    "            s_line = \" \" * self.filsG._root + \"/\"\n",
    "            if len(f_line) < len(lr_repr[0]):\n",
    "                f_line += \" \" * (len(lr_repr[0]) - len(fline))\n",
    "                s_line += \" \" * (len(lr_repr[0]) - len(sline))\n",
    "            else:\n",
    "                s_line += \" \" * (len(fline) - len(sline))\n",
    "                lr_tree = [l + \" \" * (len(fline) - len(l)) for l in lr_tree]\n",
    "            t_repr.append(f_line)\n",
    "            t_repr.append(s_line)\n",
    "            t_repr.extend(lr_tree)\n",
    "            self._root = self.filsG._root + 2\n",
    "            return t_repr\n",
    "        node = str(self.valeur)\n",
    "        lr_tree = self.filsG._ascii_art_()\n",
    "        rr_tree = self.filsD._ascii_art_()\n",
    "        nb_ = len(lr_tree[0]) - self.filsG._root + self.filsD._root - 1\n",
    "        nb_L = nb_ // 2\n",
    "        nb_R = nb_L + (nb_ % 2)\n",
    "        f_line = \" \" * (self.filsG._root + 1) + \"_\" * nb_L + node\n",
    "        f_line += \"_\" * nb_R\n",
    "        s_line = \" \" * self.filsG._root + \"/\" + \" \" * (len(node) + self.filsD._root - 1 + (len(lr_tree[0]) - self.filsG._root)) + \"\\\\\"\n",
    "        j = max(len(lr_tree), len(rr_tree))\n",
    "        mid = \" \" * (len(node) + 2)\n",
    "        children = []\n",
    "        for i in range(j):\n",
    "            l = lr_tree[i] if i < len(lr_tree) else \" \" * len(lr_tree[0])\n",
    "            r = rr_tree[i] if i < len(rr_tree) else \" \" * len(rr_tree[0])\n",
    "            children.append(l + mid + r)\n",
    "        f_line += \" \" * (len(children[0]) - len(f_line))\n",
    "        s_line += \" \" * (len(children[0]) - len(s_line))\n",
    "        t_repr.append(f_line)\n",
    "        t_repr.append(s_line)\n",
    "        t_repr.extend(children)\n",
    "        self._root = self.filsG._root + nb_L + 2\n",
    "        return t_repr"
   ]
  },
  {
   "cell_type": "markdown",
   "metadata": {},
   "source": [
    "Il faut maintenant modifier légèrement notre algorithme d'insertion pour prendre en compte la mise à jour du paramètre de hauteur. On effectue une insertion classique puis on calcule le nouveau paramètre en fonction de celui des fils.\n",
    "\n",
    " * Dans le cas où l'arbre est vide, je retourne un nouvel objet AVL (la hauteur est donc 1 et correspondant bien au paramaètre hauteur du noeud)\n",
    " * Si j'effectue une insertion : je met à jour le paramètre hauteur du noeud qui doit etre égale aux mximums des hauteurs des fils +1, pour cela j'utilise les PARAMETRES hauteur des noeuds fils (remarque : seule la hauteur du fils dans lequel j'insère est suceptible d'être modifiée)\n",
    " \n",
    "**Remarque** Pour l'instant, on se contente de mettre à jour les hauteur, on ne s'occupe pas de savoir si les arbres sont équilibrés ou non, en particulier, on ne fabrique pas encore de vrais AVL. \n"
   ]
  },
  {
   "cell_type": "code",
   "execution_count": 83,
   "metadata": {
    "collapsed": true
   },
   "outputs": [],
   "source": [
    "def insertHauteur(T, v):\n",
    "    \"\"\"\n",
    "    Insertion avec mise à jour de la hauteur\n",
    "\n",
    "    Input :\n",
    "        - T, un arbre binaire de la classe AVL\n",
    "        - v, la valeur à insérer\n",
    "    \"\"\"\n",
    "    # begin solution\n",
    "    if T is None:\n",
    "        return AVL(v)\n",
    "    if v <= T.valeur:\n",
    "        T.filsG = insertHauteur(T.filsG, v)\n",
    "        if 1+T.filsG.hauteur > T.hauteur:\n",
    "            T.hauteur+=1\n",
    "    else:\n",
    "        T.filsD = insertHauteur(T.filsD, v)\n",
    "        if 1+T.filsD.hauteur > T.hauteur:\n",
    "            T.hauteur+=1\n",
    "    return T\n",
    "    # end solution"
   ]
  },
  {
   "cell_type": "code",
   "execution_count": 84,
   "metadata": {},
   "outputs": [],
   "source": [
    "A = insertHauteur(None,3)\n",
    "assert str(A) == \"3\"\n",
    "assert A.checkHauteur()[0]\n",
    "A = insertHauteur(A,1)\n",
    "assert str(A) == \"3[1, .]\"\n",
    "assert A.checkHauteur()[0]\n",
    "A = insertHauteur(A,4)\n",
    "assert str(A) == \"3[1, 4]\"\n",
    "assert A.checkHauteur()[0]\n",
    "A = insertHauteur(A,5)\n",
    "assert str(A) == \"3[1, 4[., 5]]\"\n",
    "assert A.checkHauteur()[0]\n",
    "A = insertHauteur(A,2)\n",
    "assert str(A) == \"3[1[., 2], 4[., 5]]\"\n",
    "assert A.checkHauteur()[0]\n",
    "A = insertHauteur(A,1)\n",
    "assert str(A) == \"3[1[1, 2], 4[., 5]]\"\n",
    "assert A.checkHauteur()[0]"
   ]
  },
  {
   "cell_type": "code",
   "execution_count": 0,
   "metadata": {
    "collapsed": true
   },
   "outputs": [],
   "source": []
  },
  {
   "cell_type": "code",
   "execution_count": 85,
   "metadata": {
    "collapsed": true
   },
   "outputs": [],
   "source": [
    "def insertListHauteur(L):\n",
    "    \"\"\"\n",
    "    Insertion d'une liste dans un Arbre binaire avec mise à jour des hauteurs\n",
    "\n",
    "    Input :\n",
    "        - L, une liste de valeur\n",
    "    Output :\n",
    "        L'arbre binaire obtenu de classe AVL\n",
    "    \"\"\"\n",
    "    A = None\n",
    "    for v in L:\n",
    "        A = insertHauteur(A,v)\n",
    "    return A"
   ]
  },
  {
   "cell_type": "code",
   "execution_count": 86,
   "metadata": {
    "collapsed": true
   },
   "outputs": [],
   "source": [
    "A = insertListHauteur([3,1,4,5,2,1])\n",
    "assert infixeList(A) == [1,1,2,3,4,5]\n",
    "assert A.checkHauteur()[0]\n",
    "A = insertListHauteur([3,4,5,1,2,1])\n",
    "assert infixeList(A) == [1,1,2,3,4,5]\n",
    "assert A.checkHauteur()[0]\n",
    "A = insertListHauteur([5,1,4,2,5,8,5,6,7,2,5])\n",
    "assert infixeList(A) == [1,2,2,4,5,5,5,5,6,7,8]\n",
    "assert A.checkHauteur()[0]"
   ]
  },
  {
   "cell_type": "markdown",
   "metadata": {},
   "source": [
    "Pour écrire l'algortihme d'insertion dans un AVL tel que l'équilibre des hauteurs soit conservés, on a besoin des rotations gauches et droites.\n",
    "\n",
    "Cependant, il faut faire attention à ce que les rotations modifient les hauteurs des différents noeuds. \n",
    "\n",
    "Reprennez l'algorithme de rotation vu en cours. Vous remarquereez que la hautaur des sous arbres $A$, $B$ et $C$ n'est pas modifiée. Seule la hauteur des sous arbres $x$ et $y$ est suceptible de changer. On fait donc les choses dans cet ordre :\n",
    " * rotation classique\n",
    " * mise à jour des hauteurs de $x$ et $y$ en utilisant les PARAMETRES hauteurs de leurs fils (ou 0 si les fils sont vide). **Attention** à l'ordre étant donné que les hauteurs de $x$ et $y$ dépendent l'une de l'autre.\n",
    "\n"
   ]
  },
  {
   "cell_type": "code",
   "execution_count": 87,
   "metadata": {
    "collapsed": true
   },
   "outputs": [],
   "source": [
    "def rightRotationHauteur(T):\n",
    "    \"\"\"\n",
    "    Rotation droite avec mise à jour des hauteurs\n",
    "    Effectue une rotation droite à la racine de l'arbre donné en argument et met à jour les valeurs de hauteur\n",
    "\n",
    "    Input :\n",
    "        - T un objet de type AVL\n",
    "    Output:\n",
    "        La nouvelle racine de l'arbre\n",
    "    \"\"\"\n",
    "    # end solution\n",
    "    if T is None or T.filsG is None:\n",
    "        return T\n",
    "    x,y = T.filsG,T\n",
    "    A,B,C = x.filsG, x.filsD, y.filsD\n",
    "    hA,hB,hC = 0,0,0\n",
    "    if A != None:\n",
    "        hA = A.hauteur\n",
    "    if B != None:\n",
    "        hB = B.hauteur\n",
    "    if C != None:\n",
    "        hC = C.hauteur\n",
    "    x.filsD = y\n",
    "    y.filsG = B\n",
    "    y.hauteur = max(hB,hC) + 1\n",
    "    x.hauteur = max(hA,y.hauteur) +1\n",
    "    return x\n",
    "    # end solution"
   ]
  },
  {
   "cell_type": "code",
   "execution_count": 88,
   "metadata": {
    "collapsed": true
   },
   "outputs": [],
   "source": [
    "T = insertListHauteur([5,7,3,4,1,6,2])\n",
    "assert str(T) == \"5[3[1[., 2], 4], 7[6, .]]\"\n",
    "T = rightRotationHauteur(T)\n",
    "assert str(T) == \"3[1[., 2], 5[4, 7[6, .]]]\"\n",
    "assert T.checkHauteur()[0]\n",
    "T = insertListHauteur([4,5,7,3,2,1,6])\n",
    "assert str(T) == \"4[3[2[1, .], .], 5[., 7[6, .]]]\"\n",
    "T = rightRotationHauteur(T)\n",
    "assert str(T) == \"3[2[1, .], 4[., 5[., 7[6, .]]]]\"\n",
    "assert T.checkHauteur()[0]\n",
    "T = insertListHauteur([5,2,7,4,3,6,1])\n",
    "assert str(T) == \"5[2[1, 4[3, .]], 7[6, .]]\"\n",
    "T = rightRotationHauteur(T)\n",
    "assert str(T) == \"2[1, 5[4[3, .], 7[6, .]]]\"\n",
    "assert T.checkHauteur()[0]"
   ]
  },
  {
   "cell_type": "code",
   "execution_count": 89,
   "metadata": {
    "collapsed": true
   },
   "outputs": [],
   "source": [
    "def leftRotationHauteur(T):\n",
    "    \"\"\"\n",
    "    Rotation gauche avec mise à jour des hauteurs\n",
    "    Effectue une rotation gauche à la racine de l'arbre donné en argument et met à jour les valeurs de hauteur.\n",
    "    Si l'arbre est vide ou si son sous-arbre droit est vide, la rotation ne fait rien.\n",
    "\n",
    "    Input :\n",
    "        - T un AVL\n",
    "    Output:\n",
    "        La nouvelle racine de l'arbre\n",
    "    \"\"\"\n",
    "    # begin solution\n",
    "    if T is None or T.filsD is None:\n",
    "        return T\n",
    "    x,y = T,T.filsD\n",
    "    A,B,C = x.filsG, y.filsG, y.filsD\n",
    "    hA,hB,hC = 0,0,0\n",
    "    if A != None:\n",
    "        hA = A.hauteur\n",
    "    if B != None:\n",
    "        hB = B.hauteur\n",
    "    if C != None:\n",
    "        hC = C.hauteur\n",
    "    x.filsD = B\n",
    "    y.filsG = x\n",
    "    x.hauteur = max(hA,hB) + 1\n",
    "    y.hauteur = max(x.hauteur,hC) +1\n",
    "    return y\n",
    "    # end solution"
   ]
  },
  {
   "cell_type": "code",
   "execution_count": 90,
   "metadata": {
    "collapsed": true
   },
   "outputs": [],
   "source": [
    "T = insertListHauteur([3,1,5,2,4,7,6])\n",
    "assert str(T) == \"3[1[., 2], 5[4, 7[6, .]]]\"\n",
    "T = leftRotationHauteur(T)\n",
    "assert str(T) == \"5[3[1[., 2], 4], 7[6, .]]\"\n",
    "assert T.checkHauteur()[0]\n",
    "T = insertListHauteur([3,4,5,2,7,6,1])\n",
    "assert str(T) == \"3[2[1, .], 4[., 5[., 7[6, .]]]]\"\n",
    "T = leftRotationHauteur(T)\n",
    "assert str(T) == \"4[3[2[1, .], .], 5[., 7[6, .]]]\"\n",
    "assert T.checkHauteur()[0]\n",
    "T = insertListHauteur([2,5,7,1,6,4,3])\n",
    "assert str(T) == \"2[1, 5[4[3, .], 7[6, .]]]\"\n",
    "T = leftRotationHauteur(T)\n",
    "assert str(T) == \"5[2[1, 4[3, .]], 7[6, .]]\"\n",
    "assert T.checkHauteur()[0]"
   ]
  },
  {
   "cell_type": "markdown",
   "metadata": {},
   "source": [
    "On a maintenant tous les outils pour écrire une vraie insertion AVL, c'est-à-dire, une insertion qui conserve des arbres équilibrés. Le principe est le suivant : on suppose que l'on est sur un noeud $n$ et l'insertion a modifié sa valeur d'équilibre pour l'amener à 2 ou -2, on supose que les sous-arbres ont déjà été rééquilibrés. Plusieurs cas sont possibles :\n",
    "* l'équilibre de $n$ est de 2 et l'équilibre de son fils gauche est de 1 : **on applique une rotation droite sur $n$**\n",
    "* l'équilibre de $n$ est de 2 et l'équilibre de son fils gauche est de -1 : **on applique une rotation gauche sur le fils gauche puis une rotation droite sur $n$**\n",
    "* l'équilibre de $n$ est de -2 et l'équilibre de son fils droit est de -1 : **on applique une rotation gauche sur $n$**\n",
    "* l'équilibre de $n$ est de -2 et l'équilibre de son fils droit est de 1 : **on applique une rotation droite sur le fils droit puis une rotation gauche sur $n$**.\n",
    "\n",
    "Il est possible de montrer que ce sont les **seules possibilités**, vous pouvez essayer de voir vous-même pourquoi (un excellent exercice). Remarquez que lorsqu'on insère, les sous-arbres sont rééquilibrés avant la racine. Donc l'algorithme d'insertion dans un arbre non vide est le suivant :\n",
    "* on insère à gauche ou à droite en fonction de la valeur à insérer,\n",
    "* on met à jour la valeur de hauteur du noeud\n",
    "* si l'arbre obtenu est déséquilibré, on le rééquilibre avec l'algorithme décrit ci-dessus."
   ]
  },
  {
   "cell_type": "code",
   "execution_count": 91,
   "metadata": {
    "collapsed": true
   },
   "outputs": [],
   "source": [
    "def insertAVL(T, v):\n",
    "    \"\"\"\n",
    "    Insertion AVL \n",
    "    insertion d'une valeur dans un AVL avec rééquilibrage\n",
    "\n",
    "    Input :\n",
    "        - T, un arbre binaire de la classe AVL\n",
    "        - v, la valeur à insérer\n",
    "    \"\"\"\n",
    "    # begin solution\n",
    "    if T is None:\n",
    "        return AVL(v)\n",
    "    if v <= T.valeur:\n",
    "        T.filsG = insertAVL(T.filsG, v)\n",
    "        if 1+T.filsG.hauteur > T.hauteur:\n",
    "            T.hauteur+=1\n",
    "    else:\n",
    "        T.filsD = insertAVL(T.filsD, v)\n",
    "        if 1+T.filsD.hauteur > T.hauteur:\n",
    "            T.hauteur+=1\n",
    "    if T.equilibre() == 2:\n",
    "        if T.filsG.equilibre() == -1:\n",
    "            T.filsG = leftRotationHauteur(T.filsG)\n",
    "        return rightRotationHauteur(T)\n",
    "    elif T.equilibre() == -2:\n",
    "        if T.filsD.equilibre() == 1:\n",
    "            T.filsD = rightRotationHauteur(T.filsD)\n",
    "        return leftRotationHauteur(T)\n",
    "    return T\n",
    "    # end solution"
   ]
  },
  {
   "cell_type": "code",
   "execution_count": 92,
   "metadata": {
    "collapsed": true
   },
   "outputs": [],
   "source": [
    "def insertListAVL(L):\n",
    "    \"\"\"\n",
    "    Insertion d'une liste dans un AVL\n",
    "\n",
    "    Input :\n",
    "        - L, une liste de valeur\n",
    "    Output :\n",
    "        L'AVL obtenu \n",
    "    \"\"\"\n",
    "    # begin solution\n",
    "    A = None\n",
    "    for v in L:\n",
    "        A = insertAVL(A,v)\n",
    "    return A\n",
    "    # end solution"
   ]
  },
  {
   "cell_type": "code",
   "execution_count": 93,
   "metadata": {
    "collapsed": true
   },
   "outputs": [],
   "source": [
    "A = insertListAVL([3,1,4,5,2])\n",
    "assert infixeList(A) == [1,2,3,4,5]\n",
    "assert A.checkHauteur()[0]\n",
    "assert A.checkAVL()\n",
    "A = insertListAVL([3,4,5,1,2])\n",
    "assert infixeList(A) == [1,2,3,4,5]\n",
    "assert A.checkHauteur()[0]\n",
    "assert A.checkAVL()\n",
    "A = insertListAVL([1,2,3,4,5,6,7,8,9,10,11])\n",
    "assert infixeList(A) == [1,2,3,4,5,6,7,8,9,10,11]\n",
    "assert A.checkHauteur()[0]\n",
    "assert A.checkAVL()\n",
    "A = insertListAVL([11,10,9,8,7,6,5,4,3,2,1])\n",
    "assert infixeList(A) == [1,2,3,4,5,6,7,8,9,10,11]\n",
    "assert A.checkHauteur()[0]\n",
    "assert A.checkAVL()\n",
    "A = insertListAVL([11,1,10,2,9,3,8,4,7,5,6])\n",
    "assert infixeList(A) == [1,2,3,4,5,6,7,8,9,10,11]\n",
    "assert A.checkHauteur()[0]\n",
    "assert A.checkAVL()"
   ]
  },
  {
   "cell_type": "code",
   "execution_count": 0,
   "metadata": {
    "collapsed": true
   },
   "outputs": [],
   "source": []
  },
  {
   "cell_type": "code",
   "execution_count": 0,
   "metadata": {
    "collapsed": true
   },
   "outputs": [],
   "source": []
  },
  {
   "cell_type": "code",
   "execution_count": 0,
   "metadata": {
    "collapsed": true
   },
   "outputs": [],
   "source": []
  },
  {
   "cell_type": "code",
   "execution_count": 0,
   "metadata": {
    "collapsed": true
   },
   "outputs": [],
   "source": []
  },
  {
   "cell_type": "code",
   "execution_count": 0,
   "metadata": {
    "collapsed": true
   },
   "outputs": [],
   "source": []
  },
  {
   "cell_type": "code",
   "execution_count": 0,
   "metadata": {
    "collapsed": true
   },
   "outputs": [],
   "source": []
  },
  {
   "cell_type": "code",
   "execution_count": 0,
   "metadata": {
    "collapsed": true
   },
   "outputs": [],
   "source": []
  },
  {
   "cell_type": "code",
   "execution_count": 0,
   "metadata": {
    "collapsed": true
   },
   "outputs": [],
   "source": []
  },
  {
   "cell_type": "code",
   "execution_count": 0,
   "metadata": {
    "collapsed": true
   },
   "outputs": [],
   "source": []
  },
  {
   "cell_type": "code",
   "execution_count": 0,
   "metadata": {
    "collapsed": true
   },
   "outputs": [],
   "source": []
  }
 ],
 "metadata": {
  "kernelspec": {
   "display_name": "Python 3",
   "language": "python",
   "name": "python3"
  },
  "language_info": {
   "codemirror_mode": {
    "name": "ipython",
    "version": 3
   },
   "file_extension": ".py",
   "mimetype": "text/x-python",
   "name": "python",
   "nbconvert_exporter": "python",
   "pygments_lexer": "ipython3",
   "version": "3.6.7"
  }
 },
 "nbformat": 4,
 "nbformat_minor": 4
}
