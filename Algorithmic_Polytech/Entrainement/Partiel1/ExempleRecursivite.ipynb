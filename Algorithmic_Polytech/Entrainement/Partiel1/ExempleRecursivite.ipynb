{
 "cells": [
  {
   "cell_type": "code",
   "execution_count": 1,
   "metadata": {
    "collapsed": true
   },
   "outputs": [],
   "source": [
    "import functools\n",
    "\n",
    "def printAppelsFonctions(func):\n",
    "    \"\"\"Print the function signature and return value\"\"\"\n",
    "    @functools.wraps(func)\n",
    "    def wrapper_debug(*args, **kwargs):\n",
    "        args_repr = [repr(a) for a in args]                      \n",
    "        kwargs_repr = [f\"{k}={v!r}\" for k, v in kwargs.items()]  \n",
    "        signature = \", \".join(args_repr + kwargs_repr)           \n",
    "        print(f\"Appel de {func.__name__}({signature})\")\n",
    "        value = func(*args, **kwargs)\n",
    "        print(f\"valeur de retour {value!r}\")\n",
    "        print(f\"Fin de {func.__name__}({signature})\")           \n",
    "        return value\n",
    "    return wrapper_debug"
   ]
  },
  {
   "cell_type": "code",
   "execution_count": 5,
   "metadata": {
    "collapsed": true
   },
   "outputs": [],
   "source": [
    "@printAppelsFonctions\n",
    "def deuxn(n):\n",
    "    if n == 0:\n",
    "        return 1\n",
    "    c = deuxn(n-1)\n",
    "    return c+c"
   ]
  },
  {
   "cell_type": "code",
   "execution_count": 6,
   "metadata": {},
   "outputs": [
    {
     "name": "stdout",
     "output_type": "stream",
     "text": [
      "Appel de deuxn(4)\n",
      "Appel de deuxn(3)\n",
      "Appel de deuxn(2)\n",
      "Appel de deuxn(1)\n",
      "Appel de deuxn(0)\n",
      "valeur de retour 1\n",
      "Fin de deuxn(0)\n",
      "valeur de retour 2\n",
      "Fin de deuxn(1)\n",
      "valeur de retour 4\n",
      "Fin de deuxn(2)\n",
      "valeur de retour 8\n",
      "Fin de deuxn(3)\n",
      "valeur de retour 16\n",
      "Fin de deuxn(4)\n"
     ]
    },
    {
     "data": {
      "text/plain": [
       "16"
      ]
     },
     "execution_count": 6,
     "metadata": {},
     "output_type": "execute_result"
    }
   ],
   "source": [
    "deuxn(4)"
   ]
  },
  {
   "cell_type": "code",
   "execution_count": 7,
   "metadata": {
    "collapsed": true
   },
   "outputs": [],
   "source": [
    "@printAppelsFonctions\n",
    "def deuxn2(n):\n",
    "    if n == 0:\n",
    "        return 1\n",
    "    return deuxn2(n-1) + deuxn2(n-1)"
   ]
  },
  {
   "cell_type": "code",
   "execution_count": 8,
   "metadata": {},
   "outputs": [
    {
     "name": "stdout",
     "output_type": "stream",
     "text": [
      "Appel de deuxn2(4)\n",
      "Appel de deuxn2(3)\n",
      "Appel de deuxn2(2)\n",
      "Appel de deuxn2(1)\n",
      "Appel de deuxn2(0)\n",
      "valeur de retour 1\n",
      "Fin de deuxn2(0)\n",
      "Appel de deuxn2(0)\n",
      "valeur de retour 1\n",
      "Fin de deuxn2(0)\n",
      "valeur de retour 2\n",
      "Fin de deuxn2(1)\n",
      "Appel de deuxn2(1)\n",
      "Appel de deuxn2(0)\n",
      "valeur de retour 1\n",
      "Fin de deuxn2(0)\n",
      "Appel de deuxn2(0)\n",
      "valeur de retour 1\n",
      "Fin de deuxn2(0)\n",
      "valeur de retour 2\n",
      "Fin de deuxn2(1)\n",
      "valeur de retour 4\n",
      "Fin de deuxn2(2)\n",
      "Appel de deuxn2(2)\n",
      "Appel de deuxn2(1)\n",
      "Appel de deuxn2(0)\n",
      "valeur de retour 1\n",
      "Fin de deuxn2(0)\n",
      "Appel de deuxn2(0)\n",
      "valeur de retour 1\n",
      "Fin de deuxn2(0)\n",
      "valeur de retour 2\n",
      "Fin de deuxn2(1)\n",
      "Appel de deuxn2(1)\n",
      "Appel de deuxn2(0)\n",
      "valeur de retour 1\n",
      "Fin de deuxn2(0)\n",
      "Appel de deuxn2(0)\n",
      "valeur de retour 1\n",
      "Fin de deuxn2(0)\n",
      "valeur de retour 2\n",
      "Fin de deuxn2(1)\n",
      "valeur de retour 4\n",
      "Fin de deuxn2(2)\n",
      "valeur de retour 8\n",
      "Fin de deuxn2(3)\n",
      "Appel de deuxn2(3)\n",
      "Appel de deuxn2(2)\n",
      "Appel de deuxn2(1)\n",
      "Appel de deuxn2(0)\n",
      "valeur de retour 1\n",
      "Fin de deuxn2(0)\n",
      "Appel de deuxn2(0)\n",
      "valeur de retour 1\n",
      "Fin de deuxn2(0)\n",
      "valeur de retour 2\n",
      "Fin de deuxn2(1)\n",
      "Appel de deuxn2(1)\n",
      "Appel de deuxn2(0)\n",
      "valeur de retour 1\n",
      "Fin de deuxn2(0)\n",
      "Appel de deuxn2(0)\n",
      "valeur de retour 1\n",
      "Fin de deuxn2(0)\n",
      "valeur de retour 2\n",
      "Fin de deuxn2(1)\n",
      "valeur de retour 4\n",
      "Fin de deuxn2(2)\n",
      "Appel de deuxn2(2)\n",
      "Appel de deuxn2(1)\n",
      "Appel de deuxn2(0)\n",
      "valeur de retour 1\n",
      "Fin de deuxn2(0)\n",
      "Appel de deuxn2(0)\n",
      "valeur de retour 1\n",
      "Fin de deuxn2(0)\n",
      "valeur de retour 2\n",
      "Fin de deuxn2(1)\n",
      "Appel de deuxn2(1)\n",
      "Appel de deuxn2(0)\n",
      "valeur de retour 1\n",
      "Fin de deuxn2(0)\n",
      "Appel de deuxn2(0)\n",
      "valeur de retour 1\n",
      "Fin de deuxn2(0)\n",
      "valeur de retour 2\n",
      "Fin de deuxn2(1)\n",
      "valeur de retour 4\n",
      "Fin de deuxn2(2)\n",
      "valeur de retour 8\n",
      "Fin de deuxn2(3)\n",
      "valeur de retour 16\n",
      "Fin de deuxn2(4)\n"
     ]
    },
    {
     "data": {
      "text/plain": [
       "16"
      ]
     },
     "execution_count": 8,
     "metadata": {},
     "output_type": "execute_result"
    }
   ],
   "source": [
    "deuxn2(4)"
   ]
  },
  {
   "cell_type": "code",
   "execution_count": null,
   "metadata": {
    "collapsed": true
   },
   "outputs": [],
   "source": []
  }
 ],
 "metadata": {
  "kernelspec": {
   "display_name": "Python 3",
   "language": "python",
   "name": "python3"
  },
  "language_info": {
   "codemirror_mode": {
    "name": "ipython",
    "version": 3
   },
   "file_extension": ".py",
   "mimetype": "text/x-python",
   "name": "python",
   "nbconvert_exporter": "python",
   "pygments_lexer": "ipython3",
   "version": "3.6.7"
  }
 },
 "nbformat": 4,
 "nbformat_minor": 2
}
