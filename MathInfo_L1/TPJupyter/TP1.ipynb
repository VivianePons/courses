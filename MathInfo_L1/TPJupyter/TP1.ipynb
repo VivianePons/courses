{
 "cells": [
  {
   "cell_type": "markdown",
   "metadata": {
    "collapsed": false
   },
   "source": [
    "# Projet pluridisciplinaire TP1 : premiers pas avec Sage \n",
    "\n",
    "## Cellules interactives\n",
    "\n",
    "Ceci est un TP interactif utilisant le logiciel mathématique [SageMath](http://www.sagemath.org/). Vous êtes sur un document `Jupyter`, comme au premier semestre, contenant à la fois du texte et des cellules de code que vous pouvez modifier et exécuter. Le code est exécuté par le logiciel Sage : on utilise du ` python` et non plus du `C++`.\n",
    "\n",
    " * **Cliquez sur la cellule ci-dessous contenant une opération puis tapez sur les touches Maj+Entrée.**\n",
    " * **Modifiez l'opération et exécutez de nouveau la cellule en tapant sur Maj+Entrée**\n",
    " * **Cliquez sur la ligne horizontale sous la cellule. Une nouvelle cellule apparait, écrivez et exécutez une nouvelle opération.**"
   ]
  },
  {
   "cell_type": "code",
   "execution_count": 2,
   "metadata": {
    "collapsed": false
   },
   "outputs": [
   ],
   "source": [
    "28 + 2*7"
   ]
  },
  {
   "cell_type": "markdown",
   "metadata": {
    "collapsed": false
   },
   "source": [
    "Les cellules exécutent du code **python**, langage que nous allons découvrir petit à petit lors des séances. La cellule suivante utilise la commande `print`.\n",
    "\n",
    " * **Exécutez la cellule**\n",
    " * **Modifiez la chaine de caractère à afficher et exécutez à nouveau**"
   ]
  },
  {
   "cell_type": "code",
   "execution_count": 3,
   "metadata": {
    "collapsed": false
   },
   "outputs": [
   ],
   "source": [
    "print \"hop\""
   ]
  },
  {
   "cell_type": "markdown",
   "metadata": {
    "collapsed": false
   },
   "source": [
    "## Variables en python\n",
    "\n",
    "**Executez la cellule ci-dessous et observez le résultat. **"
   ]
  },
  {
   "cell_type": "code",
   "execution_count": 4,
   "metadata": {
    "collapsed": false
   },
   "outputs": [
   ],
   "source": [
    "ma_chaine = \"Hop \"\n",
    "print ma_chaine + ma_chaine"
   ]
  },
  {
   "cell_type": "markdown",
   "metadata": {
    "collapsed": false
   },
   "source": [
    "**Exécutez les 3 cellules suivantes puis à nouveau la deuxième cellule. Que remarquez-vous ? **"
   ]
  },
  {
   "cell_type": "code",
   "execution_count": 5,
   "metadata": {
    "collapsed": false
   },
   "outputs": [
   ],
   "source": [
    "a = \"bla\""
   ]
  },
  {
   "cell_type": "code",
   "execution_count": 6,
   "metadata": {
    "collapsed": false
   },
   "outputs": [
   ],
   "source": [
    "print a"
   ]
  },
  {
   "cell_type": "code",
   "execution_count": 7,
   "metadata": {
    "collapsed": false
   },
   "outputs": [
   ],
   "source": [
    "a = \"blo\""
   ]
  },
  {
   "cell_type": "markdown",
   "metadata": {
    "collapsed": false
   },
   "source": [
    "**Remarque** : contrairement au `C++`, on ne déclare pas à priori le type des variables `python`. Cependant, les variables sont bien typées : le typage se fait de façon dynamique à l'exécution du programme. **Exécutez les cellules suivantes pour mettre en évidence ce phénomène.**"
   ]
  },
  {
   "cell_type": "code",
   "execution_count": 8,
   "metadata": {
    "collapsed": false
   },
   "outputs": [
   ],
   "source": [
    "a = \"bla\"\n",
    "type(a)"
   ]
  },
  {
   "cell_type": "code",
   "execution_count": 9,
   "metadata": {
    "collapsed": false
   },
   "outputs": [
   ],
   "source": [
    "a = 5\n",
    "type(a)"
   ]
  },
  {
   "cell_type": "code",
   "execution_count": 10,
   "metadata": {
    "collapsed": false
   },
   "outputs": [
   ],
   "source": [
    "a = 2.12\n",
    "type(a)"
   ]
  },
  {
   "cell_type": "markdown",
   "metadata": {
    "collapsed": false
   },
   "source": [
    "## Commençons à faire des maths...\n",
    "\n",
    "`Sage` est un logiciel pour les mathématiques. Vous pouvez le voir comme une \"grosse\" calculatrice en plus avancé... On peut donc s'en servir pour faire du calcul formel, c'est-à-dire du calcul sur des objets mathématiques.\n",
    "\n",
    "**Exécutez les cellules suivantes.**"
   ]
  },
  {
   "cell_type": "code",
   "execution_count": 11,
   "metadata": {
    "collapsed": false
   },
   "outputs": [
   ],
   "source": [
    "f(x) = x^2 \n",
    "print f"
   ]
  },
  {
   "cell_type": "code",
   "execution_count": 12,
   "metadata": {
    "collapsed": false
   },
   "outputs": [
   ],
   "source": [
    "type(f)"
   ]
  },
  {
   "cell_type": "markdown",
   "metadata": {
    "collapsed": false
   },
   "source": [
    "L'objet $f$ est une expression mathématique. Ce n'est pas une procédure de calcul mais bien un ensemble d'informations représentant un objet mathématique. En particulier, on peut effectuer diverses sortes d'opérations.\n",
    "\n",
    "**Exécutez les cellules suivantes.**\n"
   ]
  },
  {
   "cell_type": "code",
   "execution_count": 13,
   "metadata": {
    "collapsed": false
   },
   "outputs": [
   ],
   "source": [
    "f.derivative()"
   ]
  },
  {
   "cell_type": "code",
   "execution_count": 16,
   "metadata": {
    "collapsed": false
   },
   "outputs": [
   ],
   "source": [
    "f.integral(x)"
   ]
  },
  {
   "cell_type": "code",
   "execution_count": 17,
   "metadata": {
    "collapsed": false
   },
   "outputs": [
   ],
   "source": [
    "f(2)"
   ]
  },
  {
   "cell_type": "code",
   "execution_count": 18,
   "metadata": {
    "collapsed": false
   },
   "outputs": [
   ],
   "source": [
    "f(2*x)"
   ]
  },
  {
   "cell_type": "code",
   "execution_count": 19,
   "metadata": {
    "collapsed": false
   },
   "outputs": [
   ],
   "source": [
    "2*f"
   ]
  },
  {
   "cell_type": "code",
   "execution_count": 20,
   "metadata": {
    "collapsed": false
   },
   "outputs": [
   ],
   "source": [
    "plot(f)"
   ]
  },
  {
   "cell_type": "code",
   "execution_count": 21,
   "metadata": {
    "collapsed": false
   },
   "outputs": [
   ],
   "source": [
    "plot(f, (x,-4,4))"
   ]
  },
  {
   "cell_type": "markdown",
   "metadata": {
    "collapsed": false
   },
   "source": [
    "**Remarque** : dans ce programme, $f$ est un objet, dans Sage la plupart des données sont représentées sont formes d'objets. Les fonctions `derivative` et `integral` sont appelées des méthodes de l'objet $f$. Pour connaître toutes les méthodes de l'objet $f$, tapez `f.` puis tabulation dans une cellule. "
   ]
  },
  {
   "cell_type": "code",
   "execution_count": 0,
   "metadata": {
    "collapsed": false
   },
   "outputs": [
   ],
   "source": [
    "f."
   ]
  },
  {
   "cell_type": "markdown",
   "metadata": {
    "collapsed": false
   },
   "source": [
    "Pour obtenir de l'aide et des exemple sur l'utilisation d'une méthode tapez : `f.methode?` (en remplaçant `methode` par le nom de votre fonction) ou bien `help(f.methode)`. **Affichez et lisez la documentation de la méthode `limit` et calculez la limite de la fonction $\\frac{1}{x}$ en 0.**"
   ]
  },
  {
   "cell_type": "code",
   "execution_count": 0,
   "metadata": {
    "collapsed": false
   },
   "outputs": [
   ],
   "source": [
    "f.limit?"
   ]
  },
  {
   "cell_type": "code",
   "execution_count": 22,
   "metadata": {
    "collapsed": false
   },
   "outputs": [
   ],
   "source": [
    "help(f.limit)"
   ]
  },
  {
   "cell_type": "code",
   "execution_count": 23,
   "metadata": {
    "collapsed": false
   },
   "outputs": [
   ],
   "source": [
   ]
  },
  {
   "cell_type": "markdown",
   "metadata": {
    "collapsed": false
   },
   "source": [
    "**Remarque** : dans l'exemple précédent, $x$ est aussi un objet Sage, c'est une variable symbolique au sens mathématique du terme. Ce n'est PAS la même chose qu'une variable python comme tout à l'heure pour `a` !\n",
    "\n",
    "Sage est utilisé à la fois dans le monde de l'enseignement et de la recherche pour effectuer des calculs mathématiques avancés. Vous trouverez dans le livre en ligne [Calcul mathématiques avec Sage](http://sagebook.gforge.inria.fr/) de nombreux exemples qui pourront vous aider ce semestre. \n",
    "\n",
    "**Définissez une fonction $g(x)$ et calculez sa dérivée et son intégrale. Affichez la fonction à l'aide de `plot` puis affichez aussi sa dérivée et son intégrale.**"
   ]
  },
  {
   "cell_type": "code",
   "execution_count": 1,
   "metadata": {
    "collapsed": false
   },
   "outputs": [
   ],
   "source": [
   ]
  },
  {
   "cell_type": "code",
   "execution_count": 25,
   "metadata": {
    "collapsed": false
   },
   "outputs": [
   ],
   "source": [
   ]
  },
  {
   "cell_type": "code",
   "execution_count": 26,
   "metadata": {
    "collapsed": false
   },
   "outputs": [
   ],
   "source": [
   ]
  },
  {
   "cell_type": "code",
   "execution_count": 27,
   "metadata": {
    "collapsed": false
   },
   "outputs": [
   ],
   "source": [
   ]
  },
  {
   "cell_type": "code",
   "execution_count": 28,
   "metadata": {
    "collapsed": false
   },
   "outputs": [
   ],
   "source": [
   ]
  },
  {
   "cell_type": "code",
   "execution_count": 29,
   "metadata": {
    "collapsed": false
   },
   "outputs": [
   ],
   "source": [
   ]
  },
  {
   "cell_type": "markdown",
   "metadata": {
    "collapsed": false
   },
   "source": [
    "Il est possible d'afficher plusieurs fonctions en même temps. **Regardez l'exemple suivant.**"
   ]
  },
  {
   "cell_type": "code",
   "execution_count": 30,
   "metadata": {
    "collapsed": false
   },
   "outputs": [
   ],
   "source": [
    "plot(f) + plot(f.derivative(), color =\"red\")"
   ]
  },
  {
   "cell_type": "markdown",
   "metadata": {
    "collapsed": false
   },
   "source": [
    "**Affichez ensemble votre fonction $g$, son intégrale et sa dérivée en utilisant des couleurs différentes.**"
   ]
  },
  {
   "cell_type": "code",
   "execution_count": 31,
   "metadata": {
    "collapsed": false
   },
   "outputs": [
   ],
   "source": [
   ]
  },
  {
   "cell_type": "markdown",
   "metadata": {
    "collapsed": false
   },
   "source": [
    "La cellule suivante définit une fonction $h$, **calculez la tangente de $h$ en 0 et affichez ensemble la fonction et sa tangente.**"
   ]
  },
  {
   "cell_type": "code",
   "execution_count": 32,
   "metadata": {
    "collapsed": false
   },
   "outputs": [
   ],
   "source": [
    "h(x) = sin(x)*(x+1) + 2\n",
    "plot(h,(x,-4,4))"
   ]
  },
  {
   "cell_type": "code",
   "execution_count": 33,
   "metadata": {
    "collapsed": false
   },
   "outputs": [
   ],
   "source": [
   ]
  },
  {
   "cell_type": "markdown",
   "metadata": {
    "collapsed": false
   },
   "source": [
    "## Encore plus de plot !\n",
    "\n",
    "En plus des fonctions, il est possible d'afficher de nombreuses formes géométriques.\n",
    "\n",
    "**Exécutez les cellules suivantes en observant attentivement la syntaxe des fonctions.**\n"
   ]
  },
  {
   "cell_type": "code",
   "execution_count": 34,
   "metadata": {
    "collapsed": false
   },
   "outputs": [
   ],
   "source": [
    "point2d((3,4))"
   ]
  },
  {
   "cell_type": "code",
   "execution_count": 35,
   "metadata": {
    "collapsed": false
   },
   "outputs": [
   ],
   "source": [
    "circle((0,0),1)"
   ]
  },
  {
   "cell_type": "code",
   "execution_count": 36,
   "metadata": {
    "collapsed": false
   },
   "outputs": [
   ],
   "source": [
    "line2d([(0,0),(1,1),(2,0)])"
   ]
  },
  {
   "cell_type": "code",
   "execution_count": 37,
   "metadata": {
    "collapsed": false
   },
   "outputs": [
   ],
   "source": [
    "polygon2d([(0,0),(1,0),(1,1),(0,1)])"
   ]
  },
  {
   "cell_type": "markdown",
   "metadata": {
    "collapsed": false
   },
   "source": [
    "Dans le premier exemple, les coordonnées du point sont données par l'objet `(3,4)`, c'est ce qu'on appelle un tuple. Pour dessiner une ligne ou un polygone, on utilise une **liste** de points avec la syntaxe `[p1,p2,...]`. Nous verrons plus en détail ces structures dans la suite du cours.\n",
    "\n",
    "**Affichez un carré dont les coordonnées sont `(-1,-1),(1,-1),(1,1),(-1,1)` **"
   ]
  },
  {
   "cell_type": "code",
   "execution_count": 1,
   "metadata": {
    "collapsed": false
   },
   "outputs": [
   ],
   "source": [
   ]
  },
  {
   "cell_type": "markdown",
   "metadata": {
    "collapsed": false
   },
   "source": [
    "Dans la cellule suivante, on définit 3 points.\n",
    " \n",
    " * **Dessinez le triangle formé de ces trois points**\n",
    " * **Changez la valeur des points et dessinez à nouveau le triangle**\n",
    "\n"
   ]
  },
  {
   "cell_type": "code",
   "execution_count": 2,
   "metadata": {
    "collapsed": false
   },
   "outputs": [
   ],
   "source": [
    "p1 = (-1,1)\n",
    "p2 = (0,-1)\n",
    "p3 = (1,0)"
   ]
  },
  {
   "cell_type": "code",
   "execution_count": 3,
   "metadata": {
    "collapsed": false
   },
   "outputs": [
   ],
   "source": [
   ]
  },
  {
   "cell_type": "markdown",
   "metadata": {
    "collapsed": false
   },
   "source": [
    "**Calculez les coordonées d'un hexagone régulier et tracez-le. Vous pouvez utiliser les fonctions `cos` et `sin` ainsi que la constante `pi`.**"
   ]
  },
  {
   "cell_type": "code",
   "execution_count": 4,
   "metadata": {
    "collapsed": false
   },
   "outputs": [
   ],
   "source": [
   ]
  },
  {
   "cell_type": "markdown",
   "metadata": {
    "collapsed": false
   },
   "source": [
    "**Tracez sur la même image un cercle rouge entourant l'hexagone.**"
   ]
  },
  {
   "cell_type": "code",
   "execution_count": 5,
   "metadata": {
    "collapsed": false
   },
   "outputs": [
   ],
   "source": [
   ]
  },
  {
   "cell_type": "code",
   "execution_count": 0,
   "metadata": {
    "collapsed": false
   },
   "outputs": [
   ],
   "source": [
   ]
  }
 ],
 "metadata": {
  "kernelspec": {
   "display_name": "SageMath 8.1",
   "name": "sage-8.1"
  },
  "language_info": {
   "codemirror_mode": {
    "name": "ipython",
    "version": 2
   },
   "file_extension": ".py",
   "mimetype": "text/x-python",
   "name": "python",
   "nbconvert_exporter": "python",
   "pygments_lexer": "ipython2",
   "version": "2.7.14"
  }
 },
 "nbformat": 4,
 "nbformat_minor": 0
}