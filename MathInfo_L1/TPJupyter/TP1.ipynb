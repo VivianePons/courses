{
 "cells": [
  {
   "cell_type": "markdown",
   "metadata": {},
   "source": [
    "# Projet pluridisciplinaire TP1 : premiers pas avec Sage \n",
    "\n",
    "## Cellules interactives\n",
    "\n",
    "Ceci est un TP interactif utilisant le logiciel mathématique [SageMath](http://www.sagemath.org/). Vous êtes sur un document `Jupyter`, comme au premier semestre, contenant à la fois du texte et des cellules de code que vous pouvez modifier et exécuter. Le code est exécuté par le logiciel Sage : on utilise du ` python` et non plus du `C++`.\n",
    "\n",
    " * **Cliquez sur la cellule ci-dessous contenant une opération puis tapez sur les touches Maj+Entrée.**\n",
    " * **Modifiez l'opération et exécutez de nouveau la cellule en tapant sur Maj+Entrée**\n",
    " * **Cliquez sur la ligne horizontale sous la cellule. Une nouvelle cellule apparait, écrivez et exécutez une nouvelle opération.**"
   ]
  },
  {
   "cell_type": "code",
   "execution_count": 1,
   "metadata": {},
   "outputs": [
    {
     "data": {
      "text/plain": [
       "42"
      ]
     },
     "execution_count": 1,
     "metadata": {},
     "output_type": "execute_result"
    }
   ],
   "source": [
    "28 + 2 * 7"
   ]
  },
  {
   "cell_type": "markdown",
   "metadata": {},
   "source": [
    "Les cellules exécutent du code **python**, langage que nous allons découvrir petit à petit lors des séances. La cellule suivante utilise la commande `print`.\n",
    "\n",
    " * **Exécutez la cellule**\n",
    " * **Modifiez la chaine de caractère à afficher et exécutez à nouveau**"
   ]
  },
  {
   "cell_type": "code",
   "execution_count": 2,
   "metadata": {},
   "outputs": [
    {
     "name": "stdout",
     "output_type": "stream",
     "text": [
      "hop\n"
     ]
    }
   ],
   "source": [
    "print(\"hop\")"
   ]
  },
  {
   "cell_type": "markdown",
   "metadata": {},
   "source": [
    "## Variables en python\n",
    "\n",
    "**Executez la cellule ci-dessous et observez le résultat.**"
   ]
  },
  {
   "cell_type": "code",
   "execution_count": 3,
   "metadata": {},
   "outputs": [
    {
     "name": "stdout",
     "output_type": "stream",
     "text": [
      "Hop Hop \n"
     ]
    }
   ],
   "source": [
    "ma_chaine = \"Hop \"\n",
    "print(ma_chaine + ma_chaine)"
   ]
  },
  {
   "cell_type": "markdown",
   "metadata": {},
   "source": [
    "**Exécutez les 3 cellules suivantes puis à nouveau la deuxième cellule. Que remarquez-vous ?**"
   ]
  },
  {
   "cell_type": "code",
   "execution_count": 4,
   "metadata": {},
   "outputs": [],
   "source": [
    "a = \"bla\""
   ]
  },
  {
   "cell_type": "code",
   "execution_count": 5,
   "metadata": {},
   "outputs": [
    {
     "name": "stdout",
     "output_type": "stream",
     "text": [
      "bla\n"
     ]
    }
   ],
   "source": [
    "print(a)"
   ]
  },
  {
   "cell_type": "code",
   "execution_count": 6,
   "metadata": {},
   "outputs": [],
   "source": [
    "a = \"blo\""
   ]
  },
  {
   "cell_type": "markdown",
   "metadata": {},
   "source": [
    "**Rappel** : contrairement au `C++`, on ne déclare pas à priori le type des variables `python`. Cependant, les variables sont bien typées : le typage se fait de façon dynamique à l'exécution du programme. **Exécutez les cellules suivantes pour mettre en évidence ce phénomène.**"
   ]
  },
  {
   "cell_type": "code",
   "execution_count": 7,
   "metadata": {},
   "outputs": [
    {
     "data": {
      "text/plain": [
       "<class 'str'>"
      ]
     },
     "execution_count": 7,
     "metadata": {},
     "output_type": "execute_result"
    }
   ],
   "source": [
    "a = \"bla\"\n",
    "type(a)"
   ]
  },
  {
   "cell_type": "code",
   "execution_count": 8,
   "metadata": {},
   "outputs": [
    {
     "data": {
      "text/plain": [
       "<class 'sage.rings.integer.Integer'>"
      ]
     },
     "execution_count": 8,
     "metadata": {},
     "output_type": "execute_result"
    }
   ],
   "source": [
    "a = 5\n",
    "type(a)"
   ]
  },
  {
   "cell_type": "code",
   "execution_count": 9,
   "metadata": {},
   "outputs": [
    {
     "data": {
      "text/plain": [
       "<class 'sage.rings.real_mpfr.RealLiteral'>"
      ]
     },
     "execution_count": 9,
     "metadata": {},
     "output_type": "execute_result"
    }
   ],
   "source": [
    "a = 2.12\n",
    "type(a)"
   ]
  },
  {
   "cell_type": "markdown",
   "metadata": {},
   "source": [
    "## Commençons à faire des maths...\n",
    "\n",
    "`Sage` est un logiciel pour les mathématiques. Vous pouvez le voir comme une \"grosse\" calculatrice en plus avancé... On peut donc s'en servir pour faire du calcul formel, c'est-à-dire du calcul sur des objets mathématiques.\n",
    "\n",
    "**Exécutez les cellules suivantes.**"
   ]
  },
  {
   "cell_type": "code",
   "execution_count": 10,
   "metadata": {},
   "outputs": [
    {
     "name": "stdout",
     "output_type": "stream",
     "text": [
      "x |--> x^2\n"
     ]
    }
   ],
   "source": [
    "f(x) = x^2 \n",
    "print(f)"
   ]
  },
  {
   "cell_type": "code",
   "execution_count": 11,
   "metadata": {},
   "outputs": [
    {
     "data": {
      "text/plain": [
       "<class 'sage.symbolic.expression.Expression'>"
      ]
     },
     "execution_count": 11,
     "metadata": {},
     "output_type": "execute_result"
    }
   ],
   "source": [
    "type(f)"
   ]
  },
  {
   "cell_type": "markdown",
   "metadata": {},
   "source": [
    "L'objet $f$ est une expression mathématique. Ce n'est pas une procédure de calcul mais bien un ensemble d'informations représentant un objet mathématique. En particulier, on peut effectuer diverses sortes d'opérations.\n",
    "\n",
    "**Exécutez les cellules suivantes.**\n"
   ]
  },
  {
   "cell_type": "code",
   "execution_count": 12,
   "metadata": {},
   "outputs": [],
   "source": [
    "f.derivative()"
   ]
  },
  {
   "cell_type": "code",
   "execution_count": 13,
   "metadata": {},
   "outputs": [],
   "source": [
    "f.integral(x)"
   ]
  },
  {
   "cell_type": "code",
   "execution_count": 14,
   "metadata": {},
   "outputs": [],
   "source": [
    "f(2)"
   ]
  },
  {
   "cell_type": "code",
   "execution_count": 15,
   "metadata": {},
   "outputs": [],
   "source": [
    "f(2*x)"
   ]
  },
  {
   "cell_type": "code",
   "execution_count": 16,
   "metadata": {},
   "outputs": [],
   "source": [
    "2*f"
   ]
  },
  {
   "cell_type": "code",
   "execution_count": 17,
   "metadata": {},
   "outputs": [],
   "source": [
    "plot(f)"
   ]
  },
  {
   "cell_type": "code",
   "execution_count": 12,
   "metadata": {},
   "outputs": [
    {
     "data": {
      "image/png": "[encoded data removed]",
      "text/plain": [
       "Graphics object consisting of 1 graphics primitive"
      ]
     },
     "execution_count": 12,
     "metadata": {},
     "output_type": "execute_result"
    }
   ],
   "source": [
    "plot(f, (x,-4,4))"
   ]
  },
  {
   "cell_type": "markdown",
   "metadata": {},
   "source": [
    "**Remarque** : dans ce programme, $f$ est un objet, dans Sage la plupart des données sont représentées sont formes d'objets. Les fonctions `derivative` et `integral` sont appelées des méthodes de l'objet $f$. Pour connaître toutes les méthodes de l'objet $f$, tapez `f.` puis tabulation dans une cellule. "
   ]
  },
  {
   "cell_type": "code",
   "execution_count": 20,
   "metadata": {},
   "outputs": [],
   "source": [
    "f."
   ]
  },
  {
   "cell_type": "markdown",
   "metadata": {},
   "source": [
    "Pour obtenir de l'aide et des exemple sur l'utilisation d'une méthode tapez : `f.methode?` (en remplaçant `methode` par le nom de votre fonction) ou bien `help(f.methode)`. **Affichez et lisez la documentation de la méthode `limit` et calculez la limite de la fonction $\\frac{1}{x}$ en 0.**"
   ]
  },
  {
   "cell_type": "code",
   "execution_count": 0,
   "metadata": {},
   "outputs": [],
   "source": [
    "f.limit?"
   ]
  },
  {
   "cell_type": "code",
   "execution_count": 21,
   "metadata": {},
   "outputs": [],
   "source": [
    "help(f.limit)"
   ]
  },
  {
   "cell_type": "code",
   "execution_count": 19,
   "metadata": {},
   "outputs": [],
   "source": []
  },
  {
   "cell_type": "markdown",
   "metadata": {},
   "source": [
    "**Remarque** : dans l'exemple précédent, $x$ est aussi un objet Sage, c'est une variable symbolique au sens mathématique du terme. Ce n'est PAS la même chose qu'une variable python comme tout à l'heure pour `a` !\n",
    "\n",
    "Sage est utilisé à la fois dans le monde de l'enseignement et de la recherche pour effectuer des calculs mathématiques avancés. Vous trouverez dans le livre en ligne [Calcul mathématiques avec Sage](http://sagebook.gforge.inria.fr/) de nombreux exemples qui pourront vous aider ce semestre. \n",
    "\n",
    "**Définissez une fonction $g(x)$ et calculez sa dérivée et son intégrale. Affichez la fonction à l'aide de `plot` puis affichez aussi sa dérivée et son intégrale.**"
   ]
  },
  {
   "cell_type": "code",
   "execution_count": 20,
   "metadata": {},
   "outputs": [],
   "source": []
  },
  {
   "cell_type": "code",
   "execution_count": 21,
   "metadata": {},
   "outputs": [],
   "source": []
  },
  {
   "cell_type": "code",
   "execution_count": 22,
   "metadata": {},
   "outputs": [],
   "source": []
  },
  {
   "cell_type": "code",
   "execution_count": 23,
   "metadata": {},
   "outputs": [],
   "source": []
  },
  {
   "cell_type": "code",
   "execution_count": 24,
   "metadata": {},
   "outputs": [],
   "source": []
  },
  {
   "cell_type": "code",
   "execution_count": 25,
   "metadata": {},
   "outputs": [],
   "source": []
  },
  {
   "cell_type": "markdown",
   "metadata": {},
   "source": [
    "Il est possible d'afficher plusieurs fonctions en même temps. **Regardez l'exemple suivant.**"
   ]
  },
  {
   "cell_type": "code",
   "execution_count": 26,
   "metadata": {},
   "outputs": [],
   "source": [
    "plot(f) + plot(f.derivative(), color =\"red\")"
   ]
  },
  {
   "cell_type": "markdown",
   "metadata": {},
   "source": [
    "**Affichez ensemble votre fonction $g$, son intégrale et sa dérivée en utilisant des couleurs différentes.**"
   ]
  },
  {
   "cell_type": "code",
   "execution_count": 27,
   "metadata": {},
   "outputs": [],
   "source": []
  },
  {
   "cell_type": "markdown",
   "metadata": {},
   "source": [
    "La cellule suivante définit une fonction $h$. **Affichez la valeur de la dérivée de $h$ en 0**. Vous devez trouver 1."
   ]
  },
  {
   "cell_type": "code",
   "execution_count": 28,
   "metadata": {},
   "outputs": [],
   "source": [
    "h(x) = sin(x)*(x+1) + 2"
   ]
  },
  {
   "cell_type": "code",
   "execution_count": 29,
   "metadata": {},
   "outputs": [],
   "source": []
  },
  {
   "cell_type": "markdown",
   "metadata": {},
   "source": [
    "**Calculez la droite tangente de $h$ en 0 et affichez ensemble la fonction et sa droite tangente.**\n",
    "\n",
    "Rappel : La **droite tangente à $h$** est calculée à partir de la dérivée. Retrouvez la formule sur le web si vous l'avez oubliée et utilisez cette formule. **Ce n'est PAS la fonction $tan$**"
   ]
  },
  {
   "cell_type": "code",
   "execution_count": 31,
   "metadata": {},
   "outputs": [],
   "source": []
  },
  {
   "cell_type": "markdown",
   "metadata": {},
   "source": [
    "## Encore plus de plot !\n",
    "\n",
    "En plus des fonctions, il est possible d'afficher de nombreuses formes géométriques.\n",
    "\n",
    "**Exécutez les cellules suivantes en observant attentivement la syntaxe des fonctions.**\n"
   ]
  },
  {
   "cell_type": "code",
   "execution_count": 32,
   "metadata": {},
   "outputs": [],
   "source": [
    "point2d((3,4))"
   ]
  },
  {
   "cell_type": "code",
   "execution_count": 33,
   "metadata": {},
   "outputs": [],
   "source": [
    "circle((0,0),1)"
   ]
  },
  {
   "cell_type": "code",
   "execution_count": 34,
   "metadata": {},
   "outputs": [],
   "source": [
    "line2d([(0,0),(1,1),(2,0)])"
   ]
  },
  {
   "cell_type": "code",
   "execution_count": 35,
   "metadata": {},
   "outputs": [],
   "source": [
    "polygon2d([(0,0),(1,0),(1,1),(0,1)])"
   ]
  },
  {
   "cell_type": "markdown",
   "metadata": {},
   "source": [
    "Dans le premier exemple, les coordonnées du point sont données par l'objet `(3,4)`, c'est ce qu'on appelle un tuple. Pour dessiner une ligne ou un polygone, on utilise une **liste** de points avec la syntaxe `[p1,p2,...]`. Nous verrons plus en détail ces structures dans la suite du cours.\n",
    "\n",
    "**Affichez un carré dont les coordonnées sont `(-1,-1),(1,-1),(1,1),(-1,1)`**"
   ]
  },
  {
   "cell_type": "code",
   "execution_count": 36,
   "metadata": {},
   "outputs": [],
   "source": []
  },
  {
   "cell_type": "markdown",
   "metadata": {},
   "source": [
    "Dans la cellule suivante, on définit 3 points.\n",
    " \n",
    " * **Dessinez le triangle formé de ces trois points**\n",
    " * **Changez la valeur des points et dessinez à nouveau le triangle**\n",
    "\n"
   ]
  },
  {
   "cell_type": "code",
   "execution_count": 37,
   "metadata": {},
   "outputs": [],
   "source": [
    "p1 = (-1,1)\n",
    "p2 = (0,-1)\n",
    "p3 = (1,0)"
   ]
  },
  {
   "cell_type": "code",
   "execution_count": 38,
   "metadata": {},
   "outputs": [],
   "source": []
  },
  {
   "cell_type": "markdown",
   "metadata": {},
   "source": [
    "**Calculez les coordonées d'un hexagone régulier et tracez-le. Vous pouvez utiliser les fonctions `cos` et `sin` ainsi que la constante `pi`.**"
   ]
  },
  {
   "cell_type": "code",
   "execution_count": 39,
   "metadata": {},
   "outputs": [],
   "source": []
  },
  {
   "cell_type": "markdown",
   "metadata": {},
   "source": [
    "**Tracez sur la même image un cercle rouge entourant l'hexagone.**"
   ]
  },
  {
   "cell_type": "code",
   "execution_count": 40,
   "metadata": {},
   "outputs": [],
   "source": []
  },
  {
   "cell_type": "code",
   "execution_count": 0,
   "metadata": {},
   "outputs": [],
   "source": []
  }
 ],
 "metadata": {
  "kernelspec": {
   "display_name": "SageMath 9.2",
   "language": "sage",
   "name": "sagemath"
  },
  "language_info": {
   "codemirror_mode": {
    "name": "ipython",
    "version": 3
   },
   "file_extension": ".py",
   "mimetype": "text/x-python",
   "name": "python",
   "nbconvert_exporter": "python",
   "pygments_lexer": "ipython3",
   "version": "3.8.5"
  }
 },
 "nbformat": 4,
 "nbformat_minor": 1
}
