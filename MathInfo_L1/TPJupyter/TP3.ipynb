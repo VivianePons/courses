{
 "cells": [
  {
   "cell_type": "markdown",
   "metadata": {
    "collapsed": false
   },
   "source": [
    "# Projet pluridisciplinaire TP3 : Les fonctions en Sage et en python\n",
    "\n",
    "Dans ce TP, le but est d'approfondir l'utilisation des **fonctions** en python et en sage. Ce sera l'occasion de voir l'utilisation de quelques commandes spécifique à Sage qui permettent de résoudre de nombreuses équations. \n",
    "\n",
    "## Les fonctions mathématiques Sages\n",
    "\n",
    "Comme nous l'avons vu au 1er TP, Sage permet de définir simplement des fonctions mathématiques à l'aide d'expressions symboliques comme suit :"
   ]
  },
  {
   "cell_type": "code",
   "execution_count": 4,
   "metadata": {
    "collapsed": false
   },
   "outputs": [
   ],
   "source": [
    "f(x) = x^2\n",
    "plot(f)"
   ]
  },
  {
   "cell_type": "markdown",
   "metadata": {
    "collapsed": false
   },
   "source": [
    "Ces fonctions possède un certain nombre de méthodes (comme `integrate`, `derivative`, etc...) listées en utilisant la tapant `f.` et tabulation "
   ]
  },
  {
   "cell_type": "code",
   "execution_count": 2,
   "metadata": {
    "collapsed": false
   },
   "outputs": [
   ],
   "source": [
    "f.integrate(x)"
   ]
  },
  {
   "cell_type": "code",
   "execution_count": 3,
   "metadata": {
    "collapsed": false
   },
   "outputs": [
   ],
   "source": [
    "f.derivative(x)"
   ]
  },
  {
   "cell_type": "markdown",
   "metadata": {
    "collapsed": false
   },
   "source": [
    "En particulier, il est possible d'obtenir le développement de Taylor à l'ordre $N$ d'une fonction à l'aide de la commande `taylor`.\n",
    "\n",
    "**Exécutez la cellule ci-dessous pour obtenir la documentation de la méthode et les exemples d'utilisations**."
   ]
  },
  {
   "cell_type": "code",
   "execution_count": 0,
   "metadata": {
    "collapsed": false
   },
   "outputs": [
   ],
   "source": [
    "f.taylor?"
   ]
  },
  {
   "cell_type": "markdown",
   "metadata": {
    "collapsed": false
   },
   "source": [
    "**Définissez une fonction $g$ non polynomiale, continue et dérivable en 0 (par exemple $sin(x)$). Affichez cette fonction ainsi que son développement limité à l'ordre 1,2 et 3 au voisinage de 0 (avec des couleurs différentes).**"
   ]
  },
  {
   "cell_type": "code",
   "execution_count": 11,
   "metadata": {
    "collapsed": false
   },
   "outputs": [
   ],
   "source": [
   ]
  },
  {
   "cell_type": "markdown",
   "metadata": {
    "collapsed": false
   },
   "source": [
    "## Résolution des équations\n",
    "\n",
    "Sage permet notamment de résoudre de manière exacte de nombreuses équations. Dans l'exemple ci-après, on considère une fonction polynomiale dont on cherche les racines. **Executez cet exemple.**\n"
   ]
  },
  {
   "cell_type": "code",
   "execution_count": 13,
   "metadata": {
    "collapsed": false
   },
   "outputs": [
   ],
   "source": [
    "f(x) = x^4-x^2-x-1\n",
    "solve(f(x)==0,x)"
   ]
  },
  {
   "cell_type": "markdown",
   "metadata": {
    "collapsed": false
   },
   "source": [
    "La fonction `solve` renvoie la liste des solutions de notre équation. Il est également possible de résoudre des systèmes d'équations (même non linéaires) comme suit : "
   ]
  },
  {
   "cell_type": "code",
   "execution_count": 15,
   "metadata": {
    "collapsed": false
   },
   "outputs": [
   ],
   "source": [
    "var('x1 x2 x3')\n",
    "solve([x1+x2-x3 == 0, x2-x3==-3*x1^2+x3, x3==6*x2-x1],x1,x2,x3)"
   ]
  },
  {
   "cell_type": "markdown",
   "metadata": {
    "collapsed": false
   },
   "source": [
    "**Remarque** : L'instruction initiale permet de définir symboliquement `x1`, `x2` et `x3` comme des inconnues. Elle est indispensable pour définir le système qu'on souhaite résoudre.\n",
    "\n",
    "**Donner et résoudre un système permettant de trouver le (ou les) points d'intersections de 2 cercles définis par :**\n",
    " * un cercle de centre $(0,0)$ et de rayon 2\n",
    " * un cercle de centre $(0.5,0.75)$ et de rayon 2.\n",
    "\n",
    "**Tracez ces deux cercles ainsi que les points d'intersection (avec `point2d`) pour vérifier que la solutione st correcte.** "
   ]
  },
  {
   "cell_type": "code",
   "execution_count": 17,
   "metadata": {
    "collapsed": false
   },
   "outputs": [
   ],
   "source": [
   ]
  },
  {
   "cell_type": "code",
   "execution_count": 18,
   "metadata": {
    "collapsed": false
   },
   "outputs": [
   ],
   "source": [
   ]
  },
  {
   "cell_type": "markdown",
   "metadata": {
    "collapsed": false
   },
   "source": [
    "Si maintenant le deuxième cercle a pour centre $(3,5)$ et toujours rayon 2.\n",
    "\n",
    "**Tracez les cercles, voyez-vous un point d'intersection ?**\n",
    "\n",
    "*Remarque : les questions qui ne demandent pas de code sont là pour vous faire réfléchir, pas besoin d'écrire une réponse.*"
   ]
  },
  {
   "cell_type": "code",
   "execution_count": 20,
   "metadata": {
    "collapsed": false
   },
   "outputs": [
   ],
   "source": [
   ]
  },
  {
   "cell_type": "markdown",
   "metadata": {
    "collapsed": false
   },
   "source": [
    "**Résolvez l'équation formelle pour calculer les points d'intersection avec Sage.** Vous devez trouver une solution, pourquoi ne la voit-on pas sur le dessin ?"
   ]
  },
  {
   "cell_type": "code",
   "execution_count": 21,
   "metadata": {
    "collapsed": false
   },
   "outputs": [
   ],
   "source": [
   ]
  },
  {
   "cell_type": "markdown",
   "metadata": {
    "collapsed": false
   },
   "source": [
    "A présent, **remplacez le deuxième cercle par une ellipse** (vous trouverez l'équations ur internet, on vous laisse libre dans le choix des paramètres). Comme tout à l'heure :\n",
    " * **Calculez avec le solveur formel les points d'intersection**\n",
    " * **Dessinez le cercle et l'ellipse ainsi que leurs points d'intersection sur un plot** (Il existe une fonction `ellipse`)"
   ]
  },
  {
   "cell_type": "code",
   "execution_count": 25,
   "metadata": {
    "collapsed": false
   },
   "outputs": [
   ],
   "source": [
   ]
  },
  {
   "cell_type": "code",
   "execution_count": 27,
   "metadata": {
    "collapsed": false
   },
   "outputs": [
   ],
   "source": [
   ]
  },
  {
   "cell_type": "markdown",
   "metadata": {
    "collapsed": false
   },
   "source": [
    "Par ailleurs, lorsque l'on cherche les solutions d'une équation de type $f(x,y) = 0$ , on peut utiliser `implicit_plot` et voir sa solution de façon graphique. \n",
    "\n",
    "Ainsi, l'exemple suivant affiche tous les points $(x,y)$ tels que $x^2 - y^4 + 1 = 0$."
   ]
  },
  {
   "cell_type": "code",
   "execution_count": 13,
   "metadata": {
    "collapsed": false
   },
   "outputs": [
   ],
   "source": [
    "var('y')\n",
    "f(x,y) = x^2 - y^4 + 1\n",
    "implicit_plot(f,(x,-4,4),(y,-4,4))"
   ]
  },
  {
   "cell_type": "markdown",
   "metadata": {
    "collapsed": false
   },
   "source": [
    "**Utilisez `implicit_plot` pour afficher un cercle de rayon 1.**"
   ]
  },
  {
   "cell_type": "code",
   "execution_count": 14,
   "metadata": {
    "collapsed": false
   },
   "outputs": [
   ],
   "source": [
   ]
  },
  {
   "cell_type": "markdown",
   "metadata": {
    "collapsed": false
   },
   "source": [
    "Sage permet aussi de résoudre des équations différentielles. **Exécutez l'exemple suivant.**"
   ]
  },
  {
   "cell_type": "code",
   "execution_count": 17,
   "metadata": {
    "collapsed": false
   },
   "outputs": [
   ],
   "source": [
    "var('t')\n",
    "f = function('f')(t)\n",
    "equation_differentielle = (diff(f,t) == f)\n",
    "sol = desolve(equation_differentielle,f,ics=[0,1])\n",
    "print sol"
   ]
  },
  {
   "cell_type": "markdown",
   "metadata": {
    "collapsed": false
   },
   "source": [
    "Expliquons un peu cet exemple. Ici, on commence par déclarer une variable $t$ et une fonction $f$ dépendant de $t$. La fonction $f(t)$ est ainsi définie symboliquement et on peut l'utiliser pour écrire notre équation différentielle. \n",
    "\n",
    "La fonction `diff(f,t)` permet de dériver $f$ par rapport à $t$. Pour obtenir une dérivée d'ordre supérieur, il suffit d'écrire `diff(f,t,2)` pour l'ordre 2 par exemple. De plus, le terme `ics` correspond à la définition des conditions initiales (Initial Conditions). La première valeur de la liste est la valeur initiale de $t$ et la seconde celle de $f(t)$.\n",
    "\n",
    "**Résoudre l'équation différentielle $f''(t) = 3 f(t) - 4$  avec comme conditions initiales : $t = 0$,  $f(0) =  1$ et $f'(0) =0$.**"
   ]
  },
  {
   "cell_type": "code",
   "execution_count": 36,
   "metadata": {
    "collapsed": false
   },
   "outputs": [
   ],
   "source": [
   ]
  },
  {
   "cell_type": "markdown",
   "metadata": {
    "collapsed": false
   },
   "source": [
    "Nous propopns dans ce petit exercice de résoudre le problème suivant : une masse est accrochée à un ressort selon le schéma suivant \n",
    "\n",
    "|Mur|--/\\/\\/\\/\\/\\--($M$)\n",
    "\n",
    "On note $f(t)$ la possition de la masse à l'instant $t$. Le ressort a les caractéristiques suivantes :\n",
    "\n",
    " * il est au repos lorsque la masse est à une distance $d>0$ du bord\n",
    " * et il possède une raideur $k>0$\n",
    " \n",
    "L'équation modèle vérifiée par $f(t)$, en supposant que la masse glisse parfaitement, est : $f^{''}(t) = -k(f(t)-d)$.\n",
    "\n",
    "**Résoudre cette équation et afficher la solution. À l'aide de la commande `animate`, affichez une animation simple permettant de voir la masse (dessinée par exemple par un cercle) bouger au cours du temps. Pour les paramètres, prendre $d=1$ et $k=1$.**\n",
    "\n",
    "Remarque : que devez-vous choisir comme conditions initiales ?"
   ]
  },
  {
   "cell_type": "code",
   "execution_count": 46,
   "metadata": {
    "collapsed": false
   },
   "outputs": [
   ],
   "source": [
   ]
  },
  {
   "cell_type": "code",
   "execution_count": 50,
   "metadata": {
    "collapsed": false,
    "scrolled": true
   },
   "outputs": [
   ],
   "source": [
   ]
  },
  {
   "cell_type": "markdown",
   "metadata": {
    "collapsed": false
   },
   "source": [
    "## Fonctions pythons\n",
    "\n",
    "Nous venons de (re)voir les fonctions mathématiques en Sage. Dans le TP précédent, nous avons abordé les fonctions pythons. Nous allons revoir un peu ce concept pour voir les différences avec les fonctions Sage (fonctions mathématiques). Commençons par un exemple simple : Ecrivez un appel de la fonction suivante pour qu'elle retourne 13.\n"
   ]
  },
  {
   "cell_type": "code",
   "execution_count": 51,
   "metadata": {
    "collapsed": false
   },
   "outputs": [
   ],
   "source": [
    "def ma_fonction(x,y):\n",
    "    resultat = x+y\n",
    "    return resultat"
   ]
  },
  {
   "cell_type": "code",
   "execution_count": 53,
   "metadata": {
    "collapsed": false
   },
   "outputs": [
   ],
   "source": [
   ]
  },
  {
   "cell_type": "markdown",
   "metadata": {
    "collapsed": false
   },
   "source": [
    "**Définissez une fonction appelée `somme_diff` prenant en argument 2 nombres, et qui retourne**\n",
    " * **la somme des 2 si le premier nombre est pair**\n",
    " * **la différence des 2 si le premier nombre est impair**\n",
    "\n",
    "Indication : On pourra utiliser le symbole `%` pour connaître la parité d'un nombre "
   ]
  },
  {
   "cell_type": "code",
   "execution_count": 54,
   "metadata": {
    "collapsed": false
   },
   "outputs": [
   ],
   "source": [
    "def somme_diff(a,b):\n",
    "    if a%2 == 0:\n",
    "        return a+b\n",
    "    else:\n",
    "        return a-b"
   ]
  },
  {
   "cell_type": "markdown",
   "metadata": {
    "collapsed": false
   },
   "source": [
    "**Vérifiez que vous obtenez le résultat attendu**"
   ]
  },
  {
   "cell_type": "code",
   "execution_count": 55,
   "metadata": {
    "collapsed": false
   },
   "outputs": [
   ],
   "source": [
    "somme_diff(4,2) # doit afficher 6"
   ]
  },
  {
   "cell_type": "code",
   "execution_count": 56,
   "metadata": {
    "collapsed": false
   },
   "outputs": [
   ],
   "source": [
    "somme_diff(5,3) # doit afficher 2"
   ]
  },
  {
   "cell_type": "markdown",
   "metadata": {
    "collapsed": false
   },
   "source": [
    "La cellule suivante est une cellule de test, quand vous l'exécutez, rien ne doit s'afficher !"
   ]
  },
  {
   "cell_type": "code",
   "execution_count": 57,
   "metadata": {
    "collapsed": false
   },
   "outputs": [
   ],
   "source": [
    "assert somme_diff(4,2) == 6\n",
    "assert somme_diff(5,3) == 2\n",
    "assert somme_diff(10,3) == 13\n",
    "assert somme_diff(15,28) == -13"
   ]
  },
  {
   "cell_type": "markdown",
   "metadata": {
    "collapsed": false
   },
   "source": [
    "Voilà ce qui se passe quand un test ne passe pas :"
   ]
  },
  {
   "cell_type": "code",
   "execution_count": 58,
   "metadata": {
    "collapsed": false
   },
   "outputs": [
   ],
   "source": [
    "assert somme_diff(2,4) == -2"
   ]
  },
  {
   "cell_type": "markdown",
   "metadata": {
    "collapsed": false
   },
   "source": [
    "**Corrigez le test ci-dessus**"
   ]
  },
  {
   "cell_type": "markdown",
   "metadata": {
    "collapsed": false
   },
   "source": [
    "Les fonctions python sont fondamentalement différentes des fonctions mathématiques que nous avons vues précédemment. Pour vous en convaincre **executez le code suivant** : "
   ]
  },
  {
   "cell_type": "code",
   "execution_count": 60,
   "metadata": {
    "collapsed": false
   },
   "outputs": [
   ],
   "source": [
    "f(x) = x^2\n",
    "print type(f)\n",
    "print type(ma_fonction)"
   ]
  },
  {
   "cell_type": "markdown",
   "metadata": {
    "collapsed": false
   },
   "source": [
    "L'une des conséquences importante de cette différence est que les fonctions python ne possèdent pas les mêmes méthodes que les expressions symboliques définissant les fonctions Sage. Par conséquent, on ne peut pas utiliser des instructions du type `integrate` ou `diff` sur les fonctions python."
   ]
  },
  {
   "cell_type": "markdown",
   "metadata": {
    "collapsed": false
   },
   "source": [
    "**Écrire une fonction python qui prend en argument une fonction mathématique $f$ et un entier $N$, et qui renvoie le 'plot' du développement de taylor à l'ordre $N$ de $f$ autour de 0. Tester votre code en affichant sur un même graphique $f$ son développement de Taylor.**"
   ]
  },
  {
   "cell_type": "code",
   "execution_count": 65,
   "metadata": {
    "collapsed": false
   },
   "outputs": [
   ],
   "source": [
   ]
  },
  {
   "cell_type": "code",
   "execution_count": 66,
   "metadata": {
    "collapsed": false
   },
   "outputs": [
   ],
   "source": [
   ]
  },
  {
   "cell_type": "markdown",
   "metadata": {
    "collapsed": false
   },
   "source": [
    "On considère une suite d'instructions données par une liste du type `['h','b','g','d']` indiquant une succesion de déplacement 'haut', 'bas', 'gauche' et 'droite'. Une boule placée en $(0,0)$ se déplace selon cette suite d'instructions. On suppose qu'à chaque déplacement, elle bouge d'une distance $1$.\n",
    "\n",
    "Ecrire une fonction `chemin_boule` qui prend en paramètre la liste d'instruction et renvoie **une liste de plot** représentant les différentes positions de la boules.\n",
    "\n",
    "Puis **éxécutez** l'exemple ci-dessous pour voir l'animation correspondante."
   ]
  },
  {
   "cell_type": "code",
   "execution_count": 70,
   "metadata": {
    "collapsed": false
   },
   "outputs": [
   ],
   "source": [
   ]
  },
  {
   "cell_type": "code",
   "execution_count": 0,
   "metadata": {
    "collapsed": false
   },
   "outputs": [
   ],
   "source": [
    "# testez d'abord si la fonction s'exécute et renvoie bien quelque chose\n",
    "chemin_boule([\"h\",\"h\",\"d\",\"b\",\"d\",\"d\",\"h\",\"g\",\"g\",\"b\",\"b\"])"
   ]
  },
  {
   "cell_type": "code",
   "execution_count": 0,
   "metadata": {
    "collapsed": false,
    "scrolled": true
   },
   "outputs": [
   ],
   "source": [
    "# maintenant, testons l'animation\n",
    "animate(chemin_boule([\"h\",\"h\",\"d\",\"b\",\"d\",\"d\",\"h\",\"g\",\"g\",\"b\",\"b\"]))"
   ]
  },
  {
   "cell_type": "markdown",
   "metadata": {
    "collapsed": false
   },
   "source": [
    "## Simulation d'un système à 2 masses oscillantes.\n",
    "\n",
    "Pour finir, revenons à la résolution d'équations différentielles. Jusqu'à présent, nous avons vu comment faire une *résolution exacte* ce qui n'est pas toujours possible. Nous allons voir comment utiliser sage pour faire une *résolution numérique* approchée d'un système d'équation.\n",
    "\n",
    "**Problème**\n",
    "\n",
    "On étudie le cas de 2 masses liées entres elles par deux ressorts comme représentée ci-dessous :\n",
    "\n",
    "|Mur|--/\\/\\/\\/\\/\\--($M_1$)--/\\/\\/\\/\\/\\--($M_2$)\n",
    "\n",
    "On note $x_1(t)$ et $x_2(t)$ les positions des masses $M_1$ et $M_2$. Les deux ressorts ont les caractéristiques suivantes :\n",
    " * le premier ressort à une raideur $k_1$ et est au repos lorsque sa longueur est égale à $d_1$,\n",
    " * le second ressort à une raideur $k_2$ et est au repos lorsque sa longueur est égale à $d_2$.\n",
    " \n",
    "Les équations vérifiées par $x_1$ et $x_2$ sont alors :\n",
    "$$\\begin{cases} x^{''}_1(t) = -k_1 (x_1-d_1)+ k_2 (x_2 - x_1 -d_2)\\\\[8pt] x^{''}_2(t) = -k_2 (x_2 - x_1 -d_2) \\end{cases}$$\n",
    "\n",
    "On cherche à évalualée la position des deux ressorts au cours du temps.\n",
    "\n",
    "**Comment faire ?**\n",
    "\n",
    "Nous allons utiliser la fonction de sage `desolve_system_rk4`. Celle-ci est conçue pour résoudre des systèmes d'équations présentés de la façon suivante\n",
    "\n",
    "$$\\begin{cases} a^{'}_1(t) = \\dots\n",
    "    \\\\[8pt] a^{'}_2(t) = \\dots \n",
    "    \\\\[8pt] a^{'}_3(t) = \\dots\n",
    "    \\\\[8pt] \\dots\\end{cases}$$\n",
    "    \n",
    "Ca ne correspond pas tout à fait à notre système. Le premier travail est donc de *ré-écrire* notre problème différement. On introduit deux nouvelles variables : $v_1 = x_1'$ et $v_2 = x_2'$.\n",
    "\n",
    "**Sur papier**. Posez $a_1 = x_1$, $a_2 = x_2$, $a_3 = v_1$ et $a_4 = v_2$ puis écrivez un système d'équation compatible avec `desolve_system_rk4`. C'est-à-dire :\n",
    "\n",
    "$$\\begin{cases} a^{'}_1(t) = \\dots\n",
    "    \\\\[8pt] a^{'}_2(t) = \\dots \n",
    "    \\\\[8pt] a^{'}_3(t) = \\dots\n",
    "    \\\\[8pt] a^{'}_4(t) = \\dots \\end{cases}$$\n",
    "    \n",
    "où vous n'utilisez dans la partie droite que les variables $a_1$, $a_2$, $a_3$ et $a_4$ (pas le droit d'écrire $a_i'$ ou $a_i''$ dans la partie droite) et les paramètres $k_1, k_2, d_1, d_2$. Remarque : vous avez biensûr besoin de l'équation différentielle présentée au début.\n",
    "\n",
    "**Passons de l'expression sur papier à la résolution sur machine**\n",
    "\n",
    "On commence par définir les variables python dont nous aurons besoin :\n",
    " * $a_1, \\dots a_4$ ainsi que $t$ sont des variables formelles\n",
    " * $k_1,k_2, d_1, d_2$ sont des constantes liées aux ressorts : on les met tous à 1 (il faudrait les initialiser avec les valeurs réelles des ressort qu'on veut modéliser)\n",
    " "
   ]
  },
  {
   "cell_type": "code",
   "execution_count": 93,
   "metadata": {
    "collapsed": false
   },
   "outputs": [
   ],
   "source": [
    "var('a1, a2, a3, a4, t')\n",
    "k1, k2, d1, d2 = 1,1,1,1"
   ]
  },
  {
   "cell_type": "markdown",
   "metadata": {
    "collapsed": false
   },
   "source": [
    "Exécutez la cellule suivante, lisez la documentation de la fonction et essayez d'identifer les différents paramètres."
   ]
  },
  {
   "cell_type": "code",
   "execution_count": 0,
   "metadata": {
    "collapsed": false
   },
   "outputs": [
   ],
   "source": [
    "desolve_system_rk4?"
   ]
  },
  {
   "cell_type": "markdown",
   "metadata": {
    "collapsed": false
   },
   "source": [
    "* le premier paramètre `des` correspond à la partie **droite** du système d'équation. C'est la partie que vous venez de trouver. Ce sera donc une **liste python** dont la première valeur sera **l'expression** de $a_1'$, puis la deuxième l'expression de $a_2'$, etc.\n",
    "* le second paramètre `vars` correspond aux variables de la partie **gauche** du système. Ce sera donc la **liste python** `[a1, a2, a3, a4]`\n",
    "* le paramètre `ivar` sert à déclarer la variable supplémentaire $t$\n",
    "* le paramètre `ics` correspond aux conditions initiales. C'est une **liste python** dont la première valeur est la valeur initiale de $t$, puis de $a_1$, puis $a_2$, etc. On veut que commencer tel que le premier ressort soit à **distance 1** et le second ressort à **distance 3**, les deux ont une vitesse initiale nulle.\n",
    "* le paramètre `end_points` donne la valeur de $t$ à laquelle on arrêtera le calcul. On choisit $t = 10$.\n",
    "* le paramètre `step` donne la taille de chaque pas de calcul, on choisit $0.5$.\n",
    "\n",
    "Ci-dessous, on vous initialise une partie des paramètres, **exécutez-la** . Dans la cellule suivante, **initialisez les paramètres manquant `des` et `ics`** pour que la cellule d'appel à la fonction `desolve_system_rk4` fonctionne."
   ]
  },
  {
   "cell_type": "code",
   "execution_count": 101,
   "metadata": {
    "collapsed": false
   },
   "outputs": [
   ],
   "source": [
    "vars = [a1, a2, a3, a4]\n",
    "ivar = t\n",
    "end_points = 10\n",
    "step = 0.5"
   ]
  },
  {
   "cell_type": "code",
   "execution_count": 102,
   "metadata": {
    "collapsed": false
   },
   "outputs": [
   ],
   "source": [
   ]
  },
  {
   "cell_type": "code",
   "execution_count": 103,
   "metadata": {
    "collapsed": false
   },
   "outputs": [
   ],
   "source": [
    "R = desolve_system_rk4(des = des, vars = vars, ivar = ivar, ics = ics,  end_points = end_points, step = step)"
   ]
  },
  {
   "cell_type": "markdown",
   "metadata": {
    "collapsed": false
   },
   "source": [
    "Vérifiez dans la cellule suivante que `R` est bien une liste de taille 21."
   ]
  },
  {
   "cell_type": "code",
   "execution_count": 106,
   "metadata": {
    "collapsed": false
   },
   "outputs": [
   ],
   "source": [
    "type(R)"
   ]
  },
  {
   "cell_type": "code",
   "execution_count": 107,
   "metadata": {
    "collapsed": false
   },
   "outputs": [
   ],
   "source": [
    "len(R)"
   ]
  },
  {
   "cell_type": "markdown",
   "metadata": {
    "collapsed": false
   },
   "source": [
    "**Que contient `R` ?** On a fait une résolution numérique, on obtient donc pas un résultat exact sous forme de fonction. `R` est une **liste de liste**. Par exemple, on a"
   ]
  },
  {
   "cell_type": "code",
   "execution_count": 109,
   "metadata": {
    "collapsed": false
   },
   "outputs": [
   ],
   "source": [
    "R[0] # au temps 0, a_1 = 1, a_2 = 3, a_3 = 0, a_4 = 0"
   ]
  },
  {
   "cell_type": "code",
   "execution_count": 111,
   "metadata": {
    "collapsed": false
   },
   "outputs": [
   ],
   "source": [
    "R[1] # au temps 0.5, ..."
   ]
  },
  {
   "cell_type": "code",
   "execution_count": 112,
   "metadata": {
    "collapsed": false
   },
   "outputs": [
   ],
   "source": [
    "R[2] # au temps 1, ..."
   ]
  },
  {
   "cell_type": "code",
   "execution_count": 113,
   "metadata": {
    "collapsed": false
   },
   "outputs": [
   ],
   "source": [
    "R[3] # au temps 3,..."
   ]
  },
  {
   "cell_type": "markdown",
   "metadata": {
    "collapsed": false
   },
   "source": [
    "Les valeurs qui nous intéressent sont celles de $x_1$ et $x_2$, c'est-à-dire $a_1$ et $a_2$. On cherche à faire une animation montrant le mouvement des ressorts.\n",
    "\n",
    "**Complétez la fonction python `plots_ressorts`** qui prend en paramètre la liste `R` et renvoie une **liste de plot** où chaque plot est l'affichage du système au temps donné (on affiche les deux ressorts au bon endroit)."
   ]
  },
  {
   "cell_type": "code",
   "execution_count": 114,
   "metadata": {
    "collapsed": false
   },
   "outputs": [
   ],
   "source": [
    "def plots_ressort(R):\n",
    "    \"\"\"\n",
    "    Renvoie la liste de plots affichant les ressorts en fonction du temps\n",
    "    INPUT : \n",
    "        - R : le résultat du solveur\n",
    "    \"\"\"\n"
   ]
  },
  {
   "cell_type": "code",
   "execution_count": 115,
   "metadata": {
    "collapsed": false
   },
   "outputs": [
   ],
   "source": [
    "# vérifions que la fonction s'exécute\n",
    "P = plots_ressort(R)\n",
    "P"
   ]
  },
  {
   "cell_type": "code",
   "execution_count": 116,
   "metadata": {
    "collapsed": false,
    "scrolled": true
   },
   "outputs": [
   ],
   "source": [
    "# et est-ce que l'animation fonctionne ?\n",
    "animate(P)"
   ]
  },
  {
   "cell_type": "code",
   "execution_count": 0,
   "metadata": {
    "collapsed": false
   },
   "outputs": [
   ],
   "source": [
   ]
  },
  {
   "cell_type": "code",
   "execution_count": 0,
   "metadata": {
    "collapsed": false,
    "scrolled": true
   },
   "outputs": [
   ],
   "source": [
   ]
  },
  {
   "cell_type": "code",
   "execution_count": 0,
   "metadata": {
    "collapsed": false
   },
   "outputs": [
   ],
   "source": [
   ]
  },
  {
   "cell_type": "code",
   "execution_count": 0,
   "metadata": {
    "collapsed": false
   },
   "outputs": [
   ],
   "source": [
   ]
  },
  {
   "cell_type": "code",
   "execution_count": 0,
   "metadata": {
    "collapsed": false
   },
   "outputs": [
   ],
   "source": [
   ]
  }
 ],
 "metadata": {
  "kernelspec": {
   "display_name": "SageMath 8.1",
   "name": "sage-8.1"
  },
  "language_info": {
   "codemirror_mode": {
    "name": "ipython",
    "version": 2
   },
   "file_extension": ".py",
   "mimetype": "text/x-python",
   "name": "python",
   "nbconvert_exporter": "python",
   "pygments_lexer": "ipython2",
   "version": "2.7.14"
  }
 },
 "nbformat": 4,
 "nbformat_minor": 0
}