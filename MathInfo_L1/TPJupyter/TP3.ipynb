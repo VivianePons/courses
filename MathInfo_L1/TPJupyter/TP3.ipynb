{
 "cells": [
  {
   "cell_type": "markdown",
   "metadata": {},
   "source": [
    "### Projet pluridisciplinaire\n",
    "\n",
    "# TP3 - Fonctions mathématiques et résolution d'équation\n",
    "\n",
    "Dans ce TP, le but est d'approfondir l'utilisation des **fonctions mathématiques** en Sage et d'étudier des questions de résolutions d'équations\n",
    "\n",
    "## Les fonctions mathématiques dans Sage\n",
    "\n",
    "Comme nous l'avons vu au 1er TP, Sage permet de définir simplement des\n",
    "fonctions mathématiques à l'aide d'expressions symboliques comme suit :"
   ]
  },
  {
   "cell_type": "code",
   "execution_count": 1,
   "metadata": {},
   "outputs": [],
   "source": [
    "f(x) = x^2\n",
    "plot(f)"
   ]
  },
  {
   "cell_type": "markdown",
   "metadata": {},
   "source": [
    "Ces fonctions possèdent un certain nombre de méthodes (comme\n",
    "`integrate`, `derivative`, etc.) listées en tapant `f.` et tabulation."
   ]
  },
  {
   "cell_type": "code",
   "execution_count": 2,
   "metadata": {},
   "outputs": [],
   "source": [
    "f.integrate(x)"
   ]
  },
  {
   "cell_type": "code",
   "execution_count": 3,
   "metadata": {},
   "outputs": [],
   "source": [
    "f.derivative(x)"
   ]
  },
  {
   "cell_type": "markdown",
   "metadata": {},
   "source": [
    "En particulier, il est possible d'obtenir le développement de Taylor à l'ordre $N$ d'une fonction à l'aide de la commande `taylor`.\n",
    "\n",
    "**Exécutez la cellule ci-dessous pour obtenir la documentation de la méthode et les exemples d'utilisations**."
   ]
  },
  {
   "cell_type": "code",
   "execution_count": 4,
   "metadata": {},
   "outputs": [],
   "source": [
    "f.taylor?"
   ]
  },
  {
   "cell_type": "markdown",
   "metadata": {},
   "source": [
    "**Définissez une fonction $g$ non polynomiale, continue et dérivable en 0\n",
    "(par exemple $\\sin(x)$). Tracez cette fonction ainsi que son développement\n",
    "limité à l'ordre 1, 2 et 3 au voisinage de 0 (avec des couleurs différentes).**"
   ]
  },
  {
   "cell_type": "code",
   "execution_count": 5,
   "metadata": {},
   "outputs": [],
   "source": []
  },
  {
   "cell_type": "markdown",
   "metadata": {},
   "source": [
    "## Résolution exacte et points d'intersection\n",
    "\n",
    "Sage permet notamment de résoudre de manière exacte de nombreuses équations.\n",
    "Dans l'exemple ci-après, on considère une fonction polynomiale dont on\n",
    "cherche les racines. **Exécutez cet exemple.**\n"
   ]
  },
  {
   "cell_type": "code",
   "execution_count": 1,
   "metadata": {},
   "outputs": [],
   "source": [
    "f(x) = x^4 - x^2 - x - 1\n",
    "solve(f(x) == 0, x)"
   ]
  },
  {
   "cell_type": "markdown",
   "metadata": {},
   "source": [
    "La fonction `solve` renvoie la liste des solutions de notre équation. Il est également possible de résoudre des systèmes d'équations (même non linéaires) comme suit : "
   ]
  },
  {
   "cell_type": "code",
   "execution_count": 13,
   "metadata": {},
   "outputs": [],
   "source": [
    "var('x1 x2 x3')\n",
    "solve([x1 + x2 - x3 == 0, x2 - x3 == -3 * x1^2 + x3, x3 == 6 * x2 - x1], x1, x2, x3)"
   ]
  },
  {
   "cell_type": "markdown",
   "metadata": {},
   "source": [
    "**Remarque** : L'instruction initiale permet de définir symboliquement `x1`, `x2` et `x3`\n",
    "comme des inconnues. Elle est indispensable pour définir le système qu'on souhaite résoudre.\n",
    "\n",
    "**Donnez un système permettant de trouver le (ou les) points d'intersections de 2 cercles définis par :**\n",
    " * un cercle de centre $(0, 0)$ et de rayon 2\n",
    " * un cercle de centre $(0.5, 0.75)$ et de rayon 2.\n",
    "\n",
    "**Résolvez ce système puis tracez les cercles (en bleu) et leurs points d'intersection (en rouge) (avec `circle` et `poind2d` en faisant un copier coller des valeurs données par sage) pour vérifier votre solution.**"
   ]
  },
  {
   "cell_type": "code",
   "execution_count": 14,
   "metadata": {},
   "outputs": [],
   "source": []
  },
  {
   "cell_type": "code",
   "execution_count": 26,
   "metadata": {},
   "outputs": [],
   "source": []
  },
  {
   "cell_type": "markdown",
   "metadata": {},
   "source": [
    "Si maintenant le deuxième cercle a pour centre $(3, 5)$ et toujours rayon 2,\n",
    "**tracez les cercles; voyez-vous un point d'intersection ?**\n",
    "\n",
    "*Remarque : les questions qui ne demandent pas de code sont là pour vous faire réfléchir,\n",
    "pas besoin d'écrire une réponse.*"
   ]
  },
  {
   "cell_type": "code",
   "execution_count": 9,
   "metadata": {},
   "outputs": [],
   "source": []
  },
  {
   "cell_type": "markdown",
   "metadata": {},
   "source": [
    "**Résolvez l'équation formelle pour calculer les points d'intersection avec Sage.**\n",
    "\n",
    "Sage trouve des solutions, pourquoi ne les voit-on pas sur le dessin ?"
   ]
  },
  {
   "cell_type": "markdown",
   "metadata": {},
   "source": [
    "**Comment faire pour tester et traiter automatiquement les valeurs renvoyées par `solve` ?**\n",
    "\n",
    "En rajoutant un paramètre supplémentaire `solution_dict = True`, on peut récupérer les solutions sous forme de *liste de dictionnaires*"
   ]
  },
  {
   "cell_type": "code",
   "execution_count": 16,
   "metadata": {},
   "outputs": [],
   "source": [
    "D = solve([x1 + x2 - x3 == 0, x2 - x3 == -3 * x1^2 + x3, x3 == 6 * x2 - x1], x1, x2, x3, solution_dict = True)"
   ]
  },
  {
   "cell_type": "code",
   "execution_count": 17,
   "metadata": {},
   "outputs": [],
   "source": [
    "# la taille de D donne le nombre de solution\n",
    "len(D)"
   ]
  },
  {
   "cell_type": "code",
   "execution_count": 18,
   "metadata": {},
   "outputs": [],
   "source": [
    "# D[0] contient la première solution\n",
    "D[0]"
   ]
  },
  {
   "cell_type": "code",
   "execution_count": 27,
   "metadata": {
    "scrolled": false
   },
   "outputs": [],
   "source": [
    "# Voilà la valeur de x1 dans la première solution\n",
    "D[0][x1]"
   ]
  },
  {
   "cell_type": "markdown",
   "metadata": {},
   "source": [
    "Cela permet par exemple de tester si un solution est réelle (et non complexe)"
   ]
  },
  {
   "cell_type": "code",
   "execution_count": 34,
   "metadata": {},
   "outputs": [],
   "source": [
    "if D[0][x1] in RR:\n",
    "    print(\"solution réelle\")"
   ]
  },
  {
   "cell_type": "markdown",
   "metadata": {},
   "source": [
    "**Complétez la fonction suivante qui calcule les points d'intersections entre deux cercles puis renvoie l'affichage des deux cercles et de leurs points d'intersections s'ils sont réels.**\n",
    "\n"
   ]
  },
  {
   "cell_type": "code",
   "execution_count": 41,
   "metadata": {},
   "outputs": [],
   "source": [
    "def cercle_intersection(x1, y1, r1, x2, y2, r2):\n",
    "    \"\"\"\n",
    "    Renvoie l'affichage de deux cercles et de leurs points d'intersections\n",
    "    Input :\n",
    "    - x1, l'abscisse du centre du premier cercle\n",
    "    - y1, l'ordonnée du centre du premier cercle\n",
    "    - r1, le rayon du premier cercle\n",
    "    - x2, l'abscisse du centre du deuxième cercle\n",
    "    - y2, l'ordonnée du centre du deuxième cercle\n",
    "    - r2, le rayon du deuxième cercle\n",
    "    Output :\n",
    "    un plot contenant les deux cercles et leurs points d'inetrsection (s'ils sont dans l'espace réel)\n",
    "    \"\"\"\n",
    "    # votre code ici\n"
   ]
  },
  {
   "cell_type": "code",
   "execution_count": 42,
   "metadata": {},
   "outputs": [],
   "source": [
    "cercle_intersection(0,0,2,0.5,0.75,2)"
   ]
  },
  {
   "cell_type": "code",
   "execution_count": 44,
   "metadata": {
    "scrolled": true
   },
   "outputs": [],
   "source": [
    "cercle_intersection(0,0,2,3,5,2)\n"
   ]
  },
  {
   "cell_type": "markdown",
   "metadata": {},
   "source": [
    "L'interaction suivante permet de tester votre fonction"
   ]
  },
  {
   "cell_type": "code",
   "execution_count": 58,
   "metadata": {},
   "outputs": [],
   "source": [
    "@interact\n",
    "def interact_cercle_intersection(x1 = slider(-5,5), y1 = slider(-5,5), r1 = slider(1,5), x2 = slider(-5,5), y2 = slider(-5,5), r2 = slider(1,5)):\n",
    "    show(cercle_intersection(x1,y1,r1,x2,y2,r2))"
   ]
  },
  {
   "cell_type": "markdown",
   "metadata": {},
   "source": [
    "Il est aussi possible de dessiner des ellipses dans sage."
   ]
  },
  {
   "cell_type": "code",
   "execution_count": 48,
   "metadata": {},
   "outputs": [],
   "source": [
    "ellipse((0,0),2,3)"
   ]
  },
  {
   "cell_type": "markdown",
   "metadata": {},
   "source": [
    "On considère des ellipses dont les axes sont parallèles aux axes du repères. L'ellipse est alors caractérisée par son centre $(x_0, y_0)$ et ses deux rayons $a$, et $b$ par l'équation\n",
    "\n",
    "$$\\frac{(x - x_0)^2}{a^2} + \\frac{(y - y_0)^2}{b^2} = 1$$\n",
    "\n",
    "En particulier, si on a $a = b$, on retrouve l'équation du cercle. "
   ]
  },
  {
   "cell_type": "markdown",
   "metadata": {},
   "source": [
    "**Reprenez l'exercice précédent en remplaçant le deuxième cercle par une ellispe :**\n",
    "\n",
    "* Ecrivez une fonction qui trouve les points d'intersection et dessine le cercle, l'ellipse et les points.\n",
    "* Créez une interaction comme dans l'exemple précédent.\n"
   ]
  },
  {
   "cell_type": "code",
   "execution_count": 53,
   "metadata": {},
   "outputs": [],
   "source": []
  },
  {
   "cell_type": "code",
   "execution_count": 54,
   "metadata": {},
   "outputs": [],
   "source": []
  },
  {
   "cell_type": "code",
   "execution_count": 57,
   "metadata": {},
   "outputs": [],
   "source": []
  },
  {
   "cell_type": "markdown",
   "metadata": {},
   "source": [
    "## Résolution graphique, courbes de niveau\n",
    "\n",
    "Soit $f(x,y)$ une fonction de deux variables. Sage permet d'afficher l'ensemble des points $(a,b)$ tel que $f(a,b) = 0$. \n",
    "\n",
    "L'exemple suivant affiche la courbe $y = x^2$ c'est à dire tous les points $(x,y)$ tel que $x^2 - y = 0$"
   ]
  },
  {
   "cell_type": "code",
   "execution_count": 61,
   "metadata": {},
   "outputs": [],
   "source": [
    "f(x,y) = x^2 - y\n",
    "implicit_plot(f, (x, -4, 4), (y, -4, 4))"
   ]
  },
  {
   "cell_type": "markdown",
   "metadata": {},
   "source": [
    "Cet autre exemple affiche tous les points $(x, y)$ tels que $x^2 - y^4 + 1 = 0$."
   ]
  },
  {
   "cell_type": "code",
   "execution_count": 62,
   "metadata": {},
   "outputs": [],
   "source": [
    "var('y')\n",
    "f(x, y) = x^2 - y^4 + 1\n",
    "implicit_plot(f, (x, -4, 4), (y, -4, 4))"
   ]
  },
  {
   "cell_type": "markdown",
   "metadata": {},
   "source": [
    "**Utilisez `implicit_plot` pour afficher un cercle de rayon 1.**"
   ]
  },
  {
   "cell_type": "code",
   "execution_count": 14,
   "metadata": {},
   "outputs": [],
   "source": []
  },
  {
   "cell_type": "markdown",
   "metadata": {},
   "source": [
    "On peut utiliser implicit plot pour \"se déplacer\" à travers les coupes une surface 3d. Voilà par exemple une sphère (équation $x^2 + y^2 + z^2 - r^2 = 0$)."
   ]
  },
  {
   "cell_type": "code",
   "execution_count": 64,
   "metadata": {},
   "outputs": [],
   "source": [
    "@interact \n",
    "def sphere(r = slider(1,4), z = slider(-4,4)):\n",
    "    show(implicit_plot(x^2 + y^2 + z^2 - r^2, (x,-4,4), (y,-4,4)))"
   ]
  },
  {
   "cell_type": "markdown",
   "metadata": {},
   "source": [
    "Créez une iteractio pour voir les coupes d'un cône d'équation $x^2 + y^2 - z^2 = 0$"
   ]
  },
  {
   "cell_type": "code",
   "execution_count": 67,
   "metadata": {},
   "outputs": [],
   "source": []
  },
  {
   "cell_type": "markdown",
   "metadata": {},
   "source": [
    "Enfin, on peut faire des affichages en 3 dimension."
   ]
  },
  {
   "cell_type": "code",
   "execution_count": 71,
   "metadata": {},
   "outputs": [],
   "source": [
    "var('x y z')\n",
    "implicit_plot3d(x^2 + y^2 + z^2 - 4, (x,-4,4), (y,-4,4), (z,-4,4))"
   ]
  },
  {
   "cell_type": "markdown",
   "metadata": {},
   "source": [
    "Malheureusement, l'affichage 3d n'est pas compatible avec interact !\n",
    "\n",
    "**Affichez un cone d'équation $x^2 + y^2 - z^2 = 0$ ainsi qu'une autre surface avec l'équation de votre choix**"
   ]
  },
  {
   "cell_type": "code",
   "execution_count": 73,
   "metadata": {},
   "outputs": [],
   "source": []
  },
  {
   "cell_type": "code",
   "execution_count": 75,
   "metadata": {},
   "outputs": [],
   "source": []
  },
  {
   "cell_type": "markdown",
   "metadata": {},
   "source": [
    "## Equation différentielle"
   ]
  },
  {
   "cell_type": "markdown",
   "metadata": {},
   "source": [
    "Sage permet aussi de résoudre des équations différentielles. **Exécutez l'exemple suivant.**"
   ]
  },
  {
   "cell_type": "code",
   "execution_count": 76,
   "metadata": {},
   "outputs": [],
   "source": [
    "var('t')\n",
    "f = function('f')(t)\n",
    "equation_differentielle = (diff(f, t) == f)\n",
    "sol = desolve(equation_differentielle, f, ics=[0, 1])\n",
    "print(sol)"
   ]
  },
  {
   "cell_type": "markdown",
   "metadata": {},
   "source": [
    "Expliquons un peu cet exemple. Ici, on commence par déclarer une variable $t$ et une fonction $f$ dépendant de $t$. La fonction $f(t)$ est ainsi définie symboliquement et on peut l'utiliser pour écrire notre équation différentielle. \n",
    "\n",
    "La fonction `diff(f,t)` permet de dériver $f$ par rapport à $t$. Pour obtenir une dérivée d'ordre supérieur, il suffit d'écrire `diff(f,t,2)` pour l'ordre 2 par exemple. De plus, le terme `ics` correspond à la définition des conditions initiales (Initial Conditions). La première valeur de la liste est la valeur initiale de $t$ et la seconde celle de $f(t)$.\n",
    "\n",
    "**Résolvez l'équation différentielle $f''(t) = 3 f(t) - 4$  avec comme conditions initiales : $t = 0$,  $f(0) =  1$ et $f'(0) =0$.**"
   ]
  },
  {
   "cell_type": "code",
   "execution_count": 77,
   "metadata": {},
   "outputs": [],
   "source": []
  },
  {
   "cell_type": "markdown",
   "metadata": {},
   "source": [
    "Nous propopns dans ce petit exercice de résoudre le problème suivant : une masse est accrochée à un ressort selon le schéma suivant \n",
    "\n",
    "|Mur|--/\\/\\/\\/\\/\\--($M$)\n",
    "\n",
    "On note $f(t)$ la position de la masse à l'instant $t$.\n",
    "Le ressort a les caractéristiques suivantes :\n",
    "\n",
    " * il est au repos lorsque la masse est à une distance $d>0$ du bord\n",
    " * et il possède une raideur $k>0$\n",
    "\n",
    "L'équation modèle vérifiée par $f(t)$, en supposant que la masse glisse\n",
    "parfaitement, est : $f^{''}(t) = -k(f(t)-d)$.\n",
    "\n",
    "**Résolvez cette équation et affichez la solution (pour les paramètres, prenez $d=1$ et $k=1$)**\n",
    "\n",
    "**Que choisir pour les conditions initiales ?** La solution que vous allez obtenir va dépendre des conditions initiales choisies. Si vous faites partir le ressort de sa position stable (à distance 1) sans vitesse, alors il restera sur place. **Choisissez des conditions initiales à $t=0$ pour que le ressort bouge, c'est-à-dire `ics = [0, ?, ?]` à vous de choisir les `?` pour que le ressort bouge**\n",
    "\n",
    "Remarque : que devez-vous choisir comme conditions initiales ?"
   ]
  },
  {
   "cell_type": "code",
   "execution_count": 78,
   "metadata": {},
   "outputs": [],
   "source": []
  },
  {
   "cell_type": "markdown",
   "metadata": {},
   "source": [
    "Creez un affichage simple (par exemple en dessinant la masse avec un cercle à l'intérieur d'un cadre plus large) permettant de voir la masse bouger au cours du temps.\n"
   ]
  },
  {
   "cell_type": "code",
   "execution_count": 81,
   "metadata": {
    "scrolled": true
   },
   "outputs": [],
   "source": []
  },
  {
   "cell_type": "markdown",
   "metadata": {},
   "source": [
    "## Simulation d'un système à 2 masses oscillantes.\n",
    "\n",
    "Nous allons voir comment utiliser Sage pour faire une *résolution numérique* approchée\n",
    "d'un système d'équations.\n",
    "\n",
    "**Problème**\n",
    "\n",
    "On étudie le cas de 2 masses liées entres elles par deux ressorts comme représenté ci-dessous :\n",
    "\n",
    "|Mur|--/\\/\\/\\/\\/\\--($M_1$)--/\\/\\/\\/\\/\\--($M_2$)\n",
    "\n",
    "On note $x_1(t)$ et $x_2(t)$ les positions des masses $M_1$ et $M_2$.\n",
    "Les deux ressorts ont les caractéristiques suivantes :\n",
    "* le premier ressort, de raideur $k_1$, est au repos lorsque sa longueur est égale à $d_1$,\n",
    "* le second ressort, de raideur $k_2$, est au repos lorsque sa longueur est égale à $d_2$.\n",
    "\n",
    "Les équations vérifiées par $x_1$ et $x_2$ sont alors :\n",
    "$$\\begin{cases}\n",
    "x''_1(t) = -k_1 (x_1 - d_1) + k_2 (x_2 - x_1 - d_2)\\\\[8pt]\n",
    "x''_2(t) = -k_2 (x_2 - x_1 - d_2)\n",
    "\\end{cases}$$\n",
    "\n",
    "On cherche à évaluer la position des deux ressorts au cours du temps.\n",
    "\n",
    "**Comment faire ?**\n",
    "\n",
    "Nous allons utiliser la fonction de Sage `desolve_system_rk4`. Celle-ci est conçue\n",
    "pour résoudre des systèmes d'équations présentés de la façon suivante :\n",
    "\n",
    "$$\\begin{cases}\n",
    "    a'_1(t) = \\dots \\\\[8pt]\n",
    "    a'_2(t) = \\dots \\\\[8pt]\n",
    "    a'_3(t) = \\dots \\\\[8pt]\n",
    "    \\dots\n",
    "\\end{cases}$$\n",
    "\n",
    "Ça ne correspond pas tout à fait à notre système. Le premier travail est donc\n",
    "de *ré-écrire* notre problème différement. On introduit deux nouvelles variables :\n",
    "$v_1 = x_1'$ et $v_2 = x_2'$.\n",
    "\n",
    "**Sur papier**. Posez $a_1 = x_1$, $a_2 = x_2$, $a_3 = v_1$ et $a_4 = v_2$ puis\n",
    "écrivez un système d'équations compatibles avec `desolve_system_rk4`. C'est-à-dire :\n",
    "\n",
    "$$\n",
    "\\begin{cases}\n",
    "    a'_1(t) = \\dots \\\\[8pt]\n",
    "    a'_2(t) = \\dots \\\\[8pt]\n",
    "    a'_3(t) = \\dots \\\\[8pt]\n",
    "    a'_4(t) = \\dots\n",
    "\\end{cases}\n",
    "$$\n",
    "\n",
    "où vous n'utilisez dans la partie droite que les variables $a_1$, $a_2$, $a_3$ et $a_4$\n",
    "(pas le droit d'écrire $a_i'$ ou $a_i''$ dans la partie droite) et les paramètres\n",
    "$k_1$, $k_2$, $d_1$, $d_2$. Remarque : vous avez bien sûr besoin de l'équation\n",
    "différentielle présentée au début.\n",
    "\n",
    "**Passons de l'expression sur papier à la résolution sur machine**\n",
    "\n",
    "On commence par définir les variables Python dont nous aurons besoin :\n",
    " * $a_1$, $\\dots$, $a_4$ ainsi que $t$ sont des variables formelles ;\n",
    " * $k_1$, $k_2$, $d_1$, $d_2$ sont des constantes liées aux ressorts :\n",
    "   on les met tous à 1 (il faudrait les initialiser avec les valeurs\n",
    "   réelles des ressorts qu'on veut modéliser).\n"
   ]
  },
  {
   "cell_type": "code",
   "execution_count": 84,
   "metadata": {},
   "outputs": [],
   "source": [
    "var('a1, a2, a3, a4, t')\n",
    "k1, k2, d1, d2 = 1, 1, 1, 1"
   ]
  },
  {
   "cell_type": "markdown",
   "metadata": {},
   "source": [
    "Exécutez la cellule suivante, lisez la documentation de la fonction et essayez d'identifer les différents paramètres."
   ]
  },
  {
   "cell_type": "code",
   "execution_count": 85,
   "metadata": {},
   "outputs": [],
   "source": [
    "desolve_system_rk4?"
   ]
  },
  {
   "cell_type": "markdown",
   "metadata": {},
   "source": [
    "* le premier paramètre `des` correspond à la partie **droite**\n",
    "  du système d'équations. C'est la partie que vous venez de trouver.\n",
    "  Ce sera donc une **liste Python** dont la première valeur sera\n",
    "  **l'expression** de $a_1'$, puis la deuxième l'expression de $a_2'$, etc.\n",
    "* le second paramètre `vars` correspond aux variables de la partie\n",
    "  **gauche** du système. Ce sera donc la **liste Python** `[a1, a2, a3, a4]`\n",
    "* le paramètre `ivar` sert à déclarer la variable supplémentaire $t$\n",
    "* le paramètre `ics` correspond aux conditions initiales. C'est une\n",
    "  **liste python** dont la première valeur est la valeur initiale de $t$,\n",
    "  puis de $a_1$, puis $a_2$, etc. On veut que commencer tel que le premier\n",
    "  ressort soit à **distance 1** et le second ressort à **distance 3**,\n",
    "  les deux ont une vitesse initiale nulle.\n",
    "* le paramètre `end_points` donne la valeur de $t$ à laquelle on arrêtera\n",
    "  le calcul. On choisit $t = 10$.\n",
    "* le paramètre `step` donne la taille de chaque pas de calcul, on choisit $0.5$.\n",
    "\n",
    "Ci-dessous, on vous initialise une partie des paramètres, **exécutez-la**.\n",
    "Dans la cellule suivante, **initialisez les paramètres manquants `des` et `ics`**\n",
    "pour que la cellule d'appel à la fonction `desolve_system_rk4` fonctionne."
   ]
  },
  {
   "cell_type": "code",
   "execution_count": 86,
   "metadata": {},
   "outputs": [],
   "source": [
    "vars = [a1, a2, a3, a4]\n",
    "ivar = t\n",
    "end_points = 10\n",
    "step = 0.5"
   ]
  },
  {
   "cell_type": "code",
   "execution_count": 87,
   "metadata": {},
   "outputs": [],
   "source": []
  },
  {
   "cell_type": "code",
   "execution_count": 88,
   "metadata": {},
   "outputs": [],
   "source": [
    "R = desolve_system_rk4(des=des, vars=vars, ivar=ivar, ics=ics,  end_points=end_points, step=step)"
   ]
  },
  {
   "cell_type": "markdown",
   "metadata": {},
   "source": [
    "Vérifiez dans la cellule suivante que `R` est bien une liste de taille 21."
   ]
  },
  {
   "cell_type": "code",
   "execution_count": 89,
   "metadata": {},
   "outputs": [],
   "source": [
    "type(R)"
   ]
  },
  {
   "cell_type": "code",
   "execution_count": 90,
   "metadata": {},
   "outputs": [],
   "source": [
    "len(R)"
   ]
  },
  {
   "cell_type": "markdown",
   "metadata": {},
   "source": [
    "**Que contient `R` ?** On a fait une résolution numérique, on n'obtient donc pas\n",
    "un résultat exact sous forme de fonction. `R` est une **liste de liste**.\n",
    "Par exemple, on a :"
   ]
  },
  {
   "cell_type": "code",
   "execution_count": 91,
   "metadata": {},
   "outputs": [],
   "source": [
    "R[0] # au temps 0, a_1 = 1, a_2 = 3, a_3 = 0, a_4 = 0"
   ]
  },
  {
   "cell_type": "code",
   "execution_count": 92,
   "metadata": {},
   "outputs": [],
   "source": [
    "R[1] # au temps 0.5, ..."
   ]
  },
  {
   "cell_type": "code",
   "execution_count": 41,
   "metadata": {},
   "outputs": [],
   "source": [
    "R[2] # au temps 1, ..."
   ]
  },
  {
   "cell_type": "code",
   "execution_count": 42,
   "metadata": {},
   "outputs": [],
   "source": [
    "R[3] # au temps 3,..."
   ]
  },
  {
   "cell_type": "markdown",
   "metadata": {},
   "source": [
    "Les valeurs qui nous intéressent sont celles de $x_1$ et $x_2$,\n",
    "c'est-à-dire $a_1$ et $a_2$. On cherche à faire une interaction\n",
    "montrant le mouvement des ressorts.\n",
    "\n",
    "**Complétez la fonction Python `dessine_masse`** qui prend en paramètre\n",
    "les positions des deux masses et les dessinent à l'intérieur d'un cadre. \n",
    "\n",
    "Puis **créez une interaction** montrant le mouvement des masses en utilisant la liste $R$ des positions au cours\n",
    "du temps."
   ]
  },
  {
   "cell_type": "code",
   "execution_count": 98,
   "metadata": {},
   "outputs": [],
   "source": [
    "def dessine_masses(x1, x2):\n",
    "    \"\"\"\n",
    "    Dessinent les deux masses à l'intérieur d'un cadre\n",
    "    Input :\n",
    "    - x1 la position de m1\n",
    "    - x2 la position de m2\n",
    "    Output : un dessin représentant les deux masses à l'intérieur d'un cadre\n",
    "    \"\"\"\n",
    "    # votre code\n"
   ]
  },
  {
   "cell_type": "code",
   "execution_count": 99,
   "metadata": {},
   "outputs": [],
   "source": []
  },
  {
   "cell_type": "code",
   "execution_count": 0,
   "metadata": {},
   "outputs": [],
   "source": []
  },
  {
   "cell_type": "code",
   "execution_count": 0,
   "metadata": {
    "scrolled": true
   },
   "outputs": [],
   "source": []
  },
  {
   "cell_type": "code",
   "execution_count": 0,
   "metadata": {},
   "outputs": [],
   "source": []
  },
  {
   "cell_type": "code",
   "execution_count": 0,
   "metadata": {},
   "outputs": [],
   "source": []
  },
  {
   "cell_type": "code",
   "execution_count": 0,
   "metadata": {},
   "outputs": [],
   "source": []
  }
 ],
 "metadata": {
  "kernelspec": {
   "display_name": "SageMath 9.2",
   "language": "sage",
   "name": "sagemath"
  },
  "language_info": {
   "codemirror_mode": {
    "name": "ipython",
    "version": 3
   },
   "file_extension": ".py",
   "mimetype": "text/x-python",
   "name": "python",
   "nbconvert_exporter": "python",
   "pygments_lexer": "ipython3",
   "version": "3.8.5"
  }
 },
 "nbformat": 4,
 "nbformat_minor": 1
}
