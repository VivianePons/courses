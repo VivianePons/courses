{
 "cells": [
  {
   "cell_type": "markdown",
   "metadata": {
    "collapsed": false
   },
   "source": [
    "# Génération récursive de chemins \n",
    "\n",
    "Dans ce TP, nous allons étudier les méthodes récursives de générations d'objets combinatoires, et plus particulièrement, les chemins dans le plan. \n",
    "\n",
    "## Chemins dans le plan\n",
    "\n",
    "On considère des vecteurs à deux coordonées qu'on appelle des \"pas\", par exemple"
   ]
  },
  {
   "cell_type": "code",
   "execution_count": 1,
   "metadata": {
    "collapsed": false
   },
   "outputs": [
   ],
   "source": [
    "step0 = (1,0)\n",
    "step1 = (0,1)"
   ]
  },
  {
   "cell_type": "markdown",
   "metadata": {
    "collapsed": false
   },
   "source": [
    "Un chemin est une liste de pas, par exemple : "
   ]
  },
  {
   "cell_type": "code",
   "execution_count": 2,
   "metadata": {
    "collapsed": false
   },
   "outputs": [
   ],
   "source": [
    "chemin = [step0,step0,step1,step0]\n",
    "chemin"
   ]
  },
  {
   "cell_type": "markdown",
   "metadata": {
    "collapsed": false
   },
   "source": [
    "Pour dessiner un chemin, on part de $(0,0)$ et on se déplace selon les valeurs du vecteur.\n",
    "\n",
    "Par exemple, le premier pas du chemin précédent est le pas *horizontal* $(1,0)$, donc on dessine d'abord un segment de $(0,0)$ à $(1,0)$. Puis on a un second pas horizontal $(1,0)$, on dessine donc un second segment qui part va maitnenant de $(1,0)$ vers $(2,0)$. Ensuite, on a a un pas *vertical* $(0,1)$, qui donne le segment de $(2,0)$ vers $(2,1)$, etc. On obtient la ligne suivante :"
   ]
  },
  {
   "cell_type": "code",
   "execution_count": 3,
   "metadata": {
    "collapsed": false
   },
   "outputs": [
   ],
   "source": [
    "line2d([(0,0),(1,0),(2,0),(2,1),(3,1)])"
   ]
  },
  {
   "cell_type": "markdown",
   "metadata": {
    "collapsed": false
   },
   "source": [
    "**Compléter la fonction suivante qui prend en paramètre un chemin et retourne le *plot* du chemin avec `ligne2d`.**"
   ]
  },
  {
   "cell_type": "code",
   "execution_count": 3,
   "metadata": {
    "collapsed": false
   },
   "outputs": [
   ],
   "source": [
    "def afficheChemin(chemin):\n",
    "    \"\"\"\n",
    "    Renvoie l'affichage d'un chemin donné par une liste de pas\n",
    "    INPUT :\n",
    "        * chemin, uen liste de vecteurs pas\n",
    "    \n",
    "    OUTPUT : un objet graphique représentant le chemin\n",
    "    \"\"\"\n",
    "    # ecrire le code\n"
   ]
  },
  {
   "cell_type": "code",
   "execution_count": 13,
   "metadata": {
    "collapsed": false
   },
   "outputs": [
   ],
   "source": [
    "afficheChemin([(1,0)]) # doit afficher un pas unique horizontal"
   ]
  },
  {
   "cell_type": "code",
   "execution_count": 7,
   "metadata": {
    "collapsed": false
   },
   "outputs": [
   ],
   "source": [
    "afficheChemin([(0,1)]) # doit afficher un pas unique vertical"
   ]
  },
  {
   "cell_type": "code",
   "execution_count": 8,
   "metadata": {
    "collapsed": false
   },
   "outputs": [
   ],
   "source": [
    "afficheChemin([(0,1), (1,0)]) # doit afficher deux pas : un vertical + un horizontal"
   ]
  },
  {
   "cell_type": "code",
   "execution_count": 9,
   "metadata": {
    "collapsed": false
   },
   "outputs": [
   ],
   "source": [
    "afficheChemin([(0,1), (1,0), (0,1), (1,0), (0,1), (1,0), (0,1), (1,0), (0,1), (1,0), (0,1), (1,0), (0,1), (1,0)]) # doit afficher un escalier"
   ]
  },
  {
   "cell_type": "code",
   "execution_count": 31,
   "metadata": {
    "collapsed": false
   },
   "outputs": [
   ],
   "source": [
    "chemin = [(0,-1), (0,-1), (0, -1), (0,-1), (0,-1), (0,-1), (0,-1), (1,-1), (1,-1), (1,-1), (0,-1), (0,-1), (-1,0), (-1,0), (-1,1), (-1,1), (-1,-1), (-1,-1), (-1,-1), (-1,0), (1,0), (-1,1), (0,-1), (-1,0), (0,1), (0,1), (1,-1), (-1,1),(0,1), (-1,0), (0, -1), (1,0),(-1,0), (0,-1), (0,-1), (1,0), (-1,0), (-1,0), (0,1), (1,1), (-1,-1), (-1, -1), (1, 0), (-1,0), (-1,1), (0,1), (-1,0), (-1,0), (-1,0), (-1,0), (1,1), (1,1), (1,1), (1,1), (0,1), (0,1), (0,1), (1,1), (1,1), (1,0), (1,0), (1,0), (-1, -1), (-1, -1), (0,-1), (0,-1), (-1,0), (-1,0), (-1,0), (0,-1), (1,0), (1,0), (-1,-1), (1,-1), (1,0), (0,1), (-1,1), (1,0), (0,1), (0,-1), (1,0), (0,1), (0,1), (0,1), (1,1), (1,1), (-1,0), (1,0), (1,0), (1,0), (1,-1), (1,-1), (0,-1), (0,-1), (-1,0), (-1,0), (-1,0), (-1,0), (-1,0), (-1,0), (0,-1), (1,0), (-1,-1), (0,-1), (1,0), (1,1), (-1,1), (1,0), (1,-1), (1,-1), (1,-1)]\n",
    "afficheChemin(chemin) + circle((-5,-6), 12) # doit afficher Dark Vador"
   ]
  },
  {
   "cell_type": "markdown",
   "metadata": {
    "collapsed": false
   },
   "source": [
    "## Génération de tous les chemins\n",
    "\n",
    "On dit qu'un chemin est de *taille $n$* s'il contient exactement $n$ pas. Le but de ce TP est d'écrire une fonction qui fabrique la liste de tous les chemins de taille $n$ en \"escalier\", c'est-à-dire formés des deux pas : $(1,0)$ et $(0,1)$.\n",
    "\n",
    "Observez les fonctions suivantes :"
   ]
  },
  {
   "cell_type": "code",
   "execution_count": 32,
   "metadata": {
    "collapsed": false
   },
   "outputs": [
   ],
   "source": [
    "def chemins0():\n",
    "    R = []\n",
    "    R.append([]) # un chemin de taille 0 est une liste vide\n",
    "    return R\n",
    "    \n",
    "def chemins1():\n",
    "    R = []\n",
    "    R.append([(1,0)]) # on ajoute les 2 chemins de taile 1 posible\n",
    "    R.append([(0,1)])\n",
    "    return R\n",
    "    \n",
    "def chemins2():\n",
    "    R = []\n",
    "    for chemin in chemins1():\n",
    "        chemin_a = list(chemin)  # on copie le chemin\n",
    "        chemin_a.append((1,0)) # on lui ajoute le pas (1,0)\n",
    "        chemin_b = list(chemin) # on copie le chemin\n",
    "        chemin_b.append((0,1)) # on lui ajoute le pas (0,1)\n",
    "        R.append(chemin_a) # on ajoute les deux chemins  au résultat\n",
    "        R.append(chemin_b)\n",
    "    return R"
   ]
  },
  {
   "cell_type": "code",
   "execution_count": 33,
   "metadata": {
    "collapsed": false
   },
   "outputs": [
   ],
   "source": [
    "chemins2() # la liste des chemins de taille 2"
   ]
  },
  {
   "cell_type": "code",
   "execution_count": 35,
   "metadata": {
    "collapsed": false
   },
   "outputs": [
   ],
   "source": [
    "len(chemins2()) # il y en a 4"
   ]
  },
  {
   "cell_type": "code",
   "execution_count": 36,
   "metadata": {
    "collapsed": false
   },
   "outputs": [
   ],
   "source": [
    "# on peut tous les dessiner\n",
    "for chemin in chemins2():\n",
    "    afficheChemin(chemin).show()"
   ]
  },
  {
   "cell_type": "code",
   "execution_count": 0,
   "metadata": {
    "collapsed": false
   },
   "outputs": [
   ],
   "source": [
    "**En vous inspirant de la fonction `chemins2`, écrivez une fonction `chemins3` qui renvoie la liste des chemins de taille 3.**"
   ]
  },
  {
   "cell_type": "code",
   "execution_count": 4,
   "metadata": {
    "collapsed": false
   },
   "outputs": [
   ],
   "source": [
    "def chemins3():\n",
    "    \"\"\"\n",
    "    Retourne la liste des chemins de taille 3\n",
    "    \"\"\"\n",
    "    # ecrire le code\n"
   ]
  },
  {
   "cell_type": "code",
   "execution_count": 39,
   "metadata": {
    "collapsed": false
   },
   "outputs": [
   ],
   "source": [
    "chemins3()"
   ]
  },
  {
   "cell_type": "code",
   "execution_count": 43,
   "metadata": {
    "collapsed": false
   },
   "outputs": [
   ],
   "source": [
    "# quelques tests que doit valider votre fonction: si tout va bien, rien ne s'affiche !\n",
    "R = chemins3()\n",
    "assert(len(R) == 8)\n",
    "assert([(1,0),(0,1),(0,1)] in R)"
   ]
  },
  {
   "cell_type": "markdown",
   "metadata": {
    "collapsed": false
   },
   "source": [
    "**Sur la même idée, écrivez à présent une fonction `chemins` qui prend en paramètre une taille $n$ et renvoie la liste des chemins de taille $n$.**\n",
    "\n",
    "Indication :\n",
    "\n",
    "* Votre fonction ne doit *pas* utiliser les fonctions précédentes (`chemins1`, `chemins2` et `chemins3`).\n",
    "* Pensez à *séparer* le cas $n=0$ des autres cas."
   ]
  },
  {
   "cell_type": "code",
   "execution_count": 5,
   "metadata": {
    "collapsed": false
   },
   "outputs": [
   ],
   "source": [
    "def chemins(n):\n",
    "    \"\"\"\n",
    "    Retourne la liste des chemins de taille n\n",
    "    \"\"\"\n",
    "    # ecrire le code\n"
   ]
  },
  {
   "cell_type": "code",
   "execution_count": 41,
   "metadata": {
    "collapsed": false
   },
   "outputs": [
   ],
   "source": [
    "chemins(3)"
   ]
  },
  {
   "cell_type": "code",
   "execution_count": 52,
   "metadata": {
    "collapsed": false
   },
   "outputs": [
   ],
   "source": [
    "# testons la fonction, d'abord le cas 0\n",
    "assert(chemins(0) == [[]]) # On doit renvoyer une liste contenant le chemin vide "
   ]
  },
  {
   "cell_type": "code",
   "execution_count": 53,
   "metadata": {
    "collapsed": false
   },
   "outputs": [
   ],
   "source": [
    "# maintenant, les chemins avec un peu plus de pas\n",
    "assert(len(chemins(1)) == 2)\n",
    "assert(len(chemins(2)) == 4)\n",
    "C1 = chemins(3)\n",
    "C2 = chemins3()\n",
    "C1.sort()\n",
    "C2.sort()\n",
    "assert(C1 == C2)\n",
    "assert(len(chemins(4)) == 16)"
   ]
  },
  {
   "cell_type": "markdown",
   "metadata": {
    "collapsed": false
   },
   "source": [
    "Le but est maintenant de compléter la fonction suivante `chemins_end_point` qui doit renvoyer tous les chemins terminant en un point $(a,b)$ du plan (en commençant à $(0,0)$, toujours en utilisant nos deux pas possible. Par exemple, il y a deux chemins qui terminent au point $(1,1)$ :\n",
    "\n",
    "* `[(0,1), (1,0)]`\n",
    "* `[(1,0), (0,1)]`\n",
    "\n",
    "**Compléter la fonction ci-dessous**. Pour vous aider :\n",
    "\n",
    "* Pas besoin d'utiliser les fonctions précédentes\n",
    "* Quelles sont les zones du plan que je ne pourrais jamais atteindre ? Si j'appelle ma fonction sur un point non atteignable, que doit-elle renvoyer ?\n",
    "* Que doit renvoyer ma fonction si je l'appelle sur $(0,0)$ ? \n",
    "* Si je cherche les chemins temrinant en $(a,b)$, où finissait mon chemin juste avant le dernier pas ?"
   ]
  },
  {
   "cell_type": "code",
   "execution_count": 6,
   "metadata": {
    "collapsed": false
   },
   "outputs": [
   ],
   "source": [
    "def chemins_end_point(a,b):\n",
    "    \"\"\"\n",
    "    Retourne la liste des chemins terminant au point (a,b)\n",
    "    \"\"\"\n",
    "    # ecire le code\n"
   ]
  },
  {
   "cell_type": "code",
   "execution_count": 45,
   "metadata": {
    "collapsed": false
   },
   "outputs": [
   ],
   "source": [
    "chemins_end_point(1,1)"
   ]
  },
  {
   "cell_type": "code",
   "execution_count": 46,
   "metadata": {
    "collapsed": false
   },
   "outputs": [
   ],
   "source": [
    "# tout d'abord, testons les conditions limites\n",
    "assert(chemins_end_point(-1,2) == []) # si a < 0, alors il n'y a aucun chemin (liste vide)"
   ]
  },
  {
   "cell_type": "code",
   "execution_count": 47,
   "metadata": {
    "collapsed": false
   },
   "outputs": [
   ],
   "source": [
    "assert(chemins_end_point(2,-2) == []) # si b < 0, alors il n'y a aucun chemin (liste vide)"
   ]
  },
  {
   "cell_type": "code",
   "execution_count": 48,
   "metadata": {
    "collapsed": false
   },
   "outputs": [
   ],
   "source": [
    "assert(chemins_end_point(0,0) == [[]]) # si a = b = 0, alors il y a 1 unique chemin dans la liste : le chemin vide"
   ]
  },
  {
   "cell_type": "code",
   "execution_count": 49,
   "metadata": {
    "collapsed": false
   },
   "outputs": [
   ],
   "source": [
    "# maintenant, testons les chemins avec 1 seul pas\n",
    "assert(chemins_end_point(1,0) == [[(1,0)]])\n",
    "assert(chemins_end_point(0,1) == [[(0,1)]])"
   ]
  },
  {
   "cell_type": "code",
   "execution_count": 51,
   "metadata": {
    "collapsed": false
   },
   "outputs": [
   ],
   "source": [
    "# maintenant, testons les chemins avec plusieurs pas\n",
    "assert(len(chemins_end_point(1,1)) == 2)\n",
    "assert(len(chemins_end_point(3,5)) == binomial(8,3))"
   ]
  },
  {
   "cell_type": "markdown",
   "metadata": {
    "collapsed": false
   },
   "source": [
    "**Vérifier sur plusieurs valeurs de $a$ et $b$ que le nombre de chemins obtenus est égal à `binomial(a+b,a)`.**"
   ]
  },
  {
   "cell_type": "code",
   "execution_count": 0,
   "metadata": {
    "collapsed": false
   },
   "outputs": [
   ],
   "source": [
   ]
  },
  {
   "cell_type": "code",
   "execution_count": 0,
   "metadata": {
    "collapsed": false
   },
   "outputs": [
   ],
   "source": [
   ]
  },
  {
   "cell_type": "code",
   "execution_count": 0,
   "metadata": {
    "collapsed": false
   },
   "outputs": [
   ],
   "source": [
   ]
  },
  {
   "cell_type": "code",
   "execution_count": 0,
   "metadata": {
    "collapsed": false
   },
   "outputs": [
   ],
   "source": [
   ]
  },
  {
   "cell_type": "markdown",
   "metadata": {
    "collapsed": false
   },
   "source": [
    "On complique encore un peu les choses : **écrivez à présent une fonction `chemins_up_end_point` qui renvoie un générateur sur les chemins terminant en $(a,b)$ et tel qu'en tout point le chemin soit au dessus de la diagonale, c'est à dire qu'on doit toujours avoir $y \\geq x$.**\n",
    "\n",
    "Indication :\n",
    "\n",
    "* pas besoin d'utiliser les fonctions précédentes\n",
    "* c'est *presque* la même chose que la fonction précédente, il suffit de rajouter une condition !"
   ]
  },
  {
   "cell_type": "code",
   "execution_count": 7,
   "metadata": {
    "collapsed": false
   },
   "outputs": [
   ],
   "source": [
    "def chemins_up_end_point(a,b):\n",
    "    \"\"\"\n",
    "    Retourne la liste des chemins terminant au point (a,b)\n",
    "    \"\"\"\n",
    "    # ecire le code\n"
   ]
  },
  {
   "cell_type": "code",
   "execution_count": 55,
   "metadata": {
    "collapsed": false
   },
   "outputs": [
   ],
   "source": [
    "chemins_up_end_point(1,1)"
   ]
  },
  {
   "cell_type": "code",
   "execution_count": 56,
   "metadata": {
    "collapsed": false
   },
   "outputs": [
   ],
   "source": [
    "# testons... D'abord les conditions limites\n",
    "assert(chemins_up_end_point(-1,0) == [])\n",
    "assert(chemins_up_end_point(0,-1) == [])\n",
    "assert(chemins_up_end_point(2,1) == []) # comme 1 < 2, il n'y a aucun chemin vérifiant la condition qui termine en (2,1)"
   ]
  },
  {
   "cell_type": "code",
   "execution_count": 57,
   "metadata": {
    "collapsed": false
   },
   "outputs": [
   ],
   "source": [
    "# le cas (0,0) qui doit renvoyer le chemin vide\n",
    "assert(chemins_up_end_point(0,0) == [[]])"
   ]
  },
  {
   "cell_type": "code",
   "execution_count": 58,
   "metadata": {
    "collapsed": false
   },
   "outputs": [
   ],
   "source": [
    "# un cas avec un seul chemin et un seul pas\n",
    "assert(chemins_up_end_point(0,1) == [[(0,1)]])"
   ]
  },
  {
   "cell_type": "code",
   "execution_count": 59,
   "metadata": {
    "collapsed": false
   },
   "outputs": [
   ],
   "source": [
    "# des cas un peu plus gros\n",
    "assert(len(chemins_up_end_point(3,3)) == 5)\n",
    "assert(len(chemins_up_end_point(4,4)) == 14)"
   ]
  },
  {
   "cell_type": "code",
   "execution_count": 0,
   "metadata": {
    "collapsed": false
   },
   "outputs": [
   ],
   "source": [
   ]
  },
  {
   "cell_type": "code",
   "execution_count": 0,
   "metadata": {
    "collapsed": false
   },
   "outputs": [
   ],
   "source": [
   ]
  },
  {
   "cell_type": "markdown",
   "metadata": {
    "collapsed": false
   },
   "source": [
    "**Selon cette contrainte, combien obtenez-vous de chemins qui terminent en (5,5) ?**\n",
    "\n",
    "*The Ultimate Question of Life, the Universe and Everything*"
   ]
  },
  {
   "cell_type": "code",
   "execution_count": 60,
   "metadata": {
    "collapsed": false
   },
   "outputs": [
   ],
   "source": [
   ]
  },
  {
   "cell_type": "markdown",
   "metadata": {
    "collapsed": false
   },
   "source": [
    "**Comptez les chemins qui terminent en $(n,n)$ pour $1 \\leq n \\leq 6$ et cherchez ces nombres sur Google**"
   ]
  },
  {
   "cell_type": "code",
   "execution_count": 61,
   "metadata": {
    "collapsed": false
   },
   "outputs": [
   ],
   "source": [
   ]
  },
  {
   "cell_type": "markdown",
   "metadata": {
    "collapsed": false
   },
   "source": [
    "Les *Nombres de Catalans* sont des objets classiques de la combinatoire. Parcourez [la page wikipedia](https://fr.wikipedia.org/wiki/Nombre_de_Catalan) et voyez si trouvez dans Sage certains des objets décrits.\n",
    "\n",
    "Aller plus loin : vous pouvez continuer les expériences sur les chemins en faisant varier les pas possibles et contraintes. Lorsque vous obtenez une suite de nombres, vous pouvez regarder sur le site [OEIS](http://oeis.org/) si elle correspond à des objets combinatoires connus. "
   ]
  },
  {
   "cell_type": "code",
   "execution_count": 0,
   "metadata": {
    "collapsed": false
   },
   "outputs": [
   ],
   "source": [
   ]
  }
 ],
 "metadata": {
  "kernelspec": {
   "display_name": "SageMath 8.1",
   "name": "sage-8.1"
  },
  "language_info": {
   "codemirror_mode": {
    "name": "ipython",
    "version": 2
   },
   "file_extension": ".py",
   "mimetype": "text/x-python",
   "name": "python",
   "nbconvert_exporter": "python",
   "pygments_lexer": "ipython2",
   "version": "2.7.14"
  }
 },
 "nbformat": 4,
 "nbformat_minor": 0
}