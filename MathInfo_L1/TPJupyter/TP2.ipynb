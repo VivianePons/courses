{
 "cells": [
  {
   "cell_type": "markdown",
   "metadata": {
    "collapsed": false
   },
   "source": [
    "# Projet pluridisciplinaire TP2 : python\n",
    "\n",
    "Le logiciel Sage est basé sur le langage de programmation `python`. Dans ce TP, nous allons apprendre les bases de la syntaxe python et des structures de données tels qu'elles sont utilisées dans Sage.\n",
    "\n",
    "## Les Listes\n",
    "\n",
    "Les **listes** sont une des structures fondamentales du python. Elles sont l'équivalent des tableaux du `C++`.\n",
    "\n",
    "La cellule suivante définit et affiche une liste. Pour cela on utilise les crochets `[` `]`. "
   ]
  },
  {
   "cell_type": "code",
   "execution_count": 1,
   "metadata": {
    "collapsed": false
   },
   "outputs": [
   ],
   "source": [
    "l = [2, 1, 3]\n",
    "l"
   ]
  },
  {
   "cell_type": "markdown",
   "metadata": {
    "collapsed": false
   },
   "source": [
    "Le python est un langage *dynamique*, la **déclaration, allocation et initialisation** se font en une seule commande.\n",
    "\n",
    "On accède aux éléments de la liste de la même façon qu'en `C++`. On peut aussi les modifier.\n"
   ]
  },
  {
   "cell_type": "code",
   "execution_count": 2,
   "metadata": {
    "collapsed": false
   },
   "outputs": [
   ],
   "source": [
    "l[0]"
   ]
  },
  {
   "cell_type": "code",
   "execution_count": 3,
   "metadata": {
    "collapsed": false
   },
   "outputs": [
   ],
   "source": [
    "l[0] = 4\n",
    "l"
   ]
  },
  {
   "cell_type": "markdown",
   "metadata": {
    "collapsed": false
   },
   "source": [
    "**Affichez les 2eme et 3eme élements de la liste.**"
   ]
  },
  {
   "cell_type": "code",
   "execution_count": 4,
   "metadata": {
    "collapsed": false
   },
   "outputs": [
   ],
   "source": [
   ]
  },
  {
   "cell_type": "code",
   "execution_count": 5,
   "metadata": {
    "collapsed": false
   },
   "outputs": [
   ],
   "source": [
   ]
  },
  {
   "cell_type": "markdown",
   "metadata": {
    "collapsed": false
   },
   "source": [
    "Contrairement au `C++`, une liste peut contenir des éléments de type différents. "
   ]
  },
  {
   "cell_type": "code",
   "execution_count": 6,
   "metadata": {
    "collapsed": false
   },
   "outputs": [
   ],
   "source": [
    "liste_mixte = [5,\"bla\",\"bli\",3.2]\n",
    "liste_mixte"
   ]
  },
  {
   "cell_type": "markdown",
   "metadata": {
    "collapsed": false
   },
   "source": [
    "Pour connaître la taille d'une liste, on utilise la fonction `len`. "
   ]
  },
  {
   "cell_type": "code",
   "execution_count": 8,
   "metadata": {
    "collapsed": false
   },
   "outputs": [
   ],
   "source": [
    "print len(l)\n",
    "print len(liste_mixte)"
   ]
  },
  {
   "cell_type": "markdown",
   "metadata": {
    "collapsed": false
   },
   "source": [
    "Pour ajouter un élément à la fin de la liste, on utilise la méthode `append` (équivalent du `push_back` du `C++`) "
   ]
  },
  {
   "cell_type": "code",
   "execution_count": 9,
   "metadata": {
    "collapsed": false
   },
   "outputs": [
   ],
   "source": [
    "l.append(5)\n",
    "l"
   ]
  },
  {
   "cell_type": "markdown",
   "metadata": {
    "collapsed": false
   },
   "source": [
    "Par ailleurs, la méthode `pop` permet de supprimer le dernier élément. "
   ]
  },
  {
   "cell_type": "code",
   "execution_count": 10,
   "metadata": {
    "collapsed": false
   },
   "outputs": [
   ],
   "source": [
    "v = l.pop()\n",
    "print v\n",
    "print l"
   ]
  },
  {
   "cell_type": "markdown",
   "metadata": {
    "collapsed": false
   },
   "source": [
    "**Créez une liste contenant 2, 4 et 6. Puis ajoutez 8 à la fin de la liste en utilisant `append`.**"
   ]
  },
  {
   "cell_type": "code",
   "execution_count": 11,
   "metadata": {
    "collapsed": false
   },
   "outputs": [
   ],
   "source": [
   ]
  },
  {
   "cell_type": "markdown",
   "metadata": {
    "collapsed": false
   },
   "source": [
    "Pour parcourir les éléments d'une liste, on utilise une boucle `for` de la façon suivante : "
   ]
  },
  {
   "cell_type": "code",
   "execution_count": 12,
   "metadata": {
    "collapsed": false
   },
   "outputs": [
   ],
   "source": [
    "l = [2,2,4,3,5]\n",
    "for v in l:\n",
    "    print v"
   ]
  },
  {
   "cell_type": "markdown",
   "metadata": {
    "collapsed": false
   },
   "source": [
    "**Attention !** La syntaxe et la sémantique de la boucle `for` sont très différentes en `python` et en `C++`. En `python`, on parcourt directement les éléments de la liste sans passer par un indice. Pour énumérer les éléments de la liste et leurs indices, on utilise la syntaxe suivante : "
   ]
  },
  {
   "cell_type": "code",
   "execution_count": 13,
   "metadata": {
    "collapsed": false
   },
   "outputs": [
   ],
   "source": [
    "l = [2,2,4,3,5]\n",
    "for i,v in enumerate(l):\n",
    "    print i, v"
   ]
  },
  {
   "cell_type": "code",
   "execution_count": 14,
   "metadata": {
    "collapsed": false
   },
   "outputs": [
   ],
   "source": [
    "l = [2,2,4,3,5]\n",
    "for i,v in enumerate(l):\n",
    "    l[i] = v+1\n",
    "l"
   ]
  },
  {
   "cell_type": "markdown",
   "metadata": {
    "collapsed": false
   },
   "source": [
    "**Exécutez la cellule suivante, puis écrivez une boucle `for` pour afficher le carré des éléments de la liste. Puis écrivez une seconde boucle qui remplace chaque élément par son carré.**"
   ]
  },
  {
   "cell_type": "code",
   "execution_count": 15,
   "metadata": {
    "collapsed": false
   },
   "outputs": [
   ],
   "source": [
    "ma_liste = [2,3,4,5,6]"
   ]
  },
  {
   "cell_type": "code",
   "execution_count": 16,
   "metadata": {
    "collapsed": false
   },
   "outputs": [
   ],
   "source": [
   ]
  },
  {
   "cell_type": "code",
   "execution_count": 17,
   "metadata": {
    "collapsed": false
   },
   "outputs": [
   ],
   "source": [
   ]
  },
  {
   "cell_type": "markdown",
   "metadata": {
    "collapsed": false
   },
   "source": [
    "## Structure de boucles et de contrôle en python \n",
    "\n",
    "Vous avez peut-être remarqué que l'on n'utilise pas d'accolades en python. En effet, pour commencer un bloc de type `if`, `for` ou `while`, on utilise les deux points `:` suivi d'un changement d'indentation. **C'est l'indentation qui marque la fin des blocs.**\n",
    "\n",
    "**Exécutez les exemples suivant**\n"
   ]
  },
  {
   "cell_type": "code",
   "execution_count": 18,
   "metadata": {
    "collapsed": false
   },
   "outputs": [
   ],
   "source": [
    "i = 2\n",
    "while i<=10:\n",
    "    i = i+1\n",
    "    print i"
   ]
  },
  {
   "cell_type": "code",
   "execution_count": 19,
   "metadata": {
    "collapsed": false
   },
   "outputs": [
   ],
   "source": [
    "i = 5\n",
    "while i!=1:\n",
    "    print i\n",
    "    if i%2 == 0:\n",
    "        i = i/2\n",
    "    else:\n",
    "        i = i*3 +1"
   ]
  },
  {
   "cell_type": "code",
   "execution_count": 20,
   "metadata": {
    "collapsed": false
   },
   "outputs": [
   ],
   "source": [
    "ma_liste = [2,3,3,4,5,6,8,9]\n",
    "for v in ma_liste:\n",
    "    if v%2 == 1:\n",
    "        print v"
   ]
  },
  {
   "cell_type": "markdown",
   "metadata": {
    "collapsed": false
   },
   "source": [
    "**La cellule suivante contient une erreur d'indentation. Exécutez-la pour afficher l'erreur puis corrigez et exécutez à nouveau.**"
   ]
  },
  {
   "cell_type": "code",
   "execution_count": 21,
   "metadata": {
    "collapsed": false
   },
   "outputs": [
   ],
   "source": [
    "a = 2\n",
    "while a<=100:\n",
    "    print a\n",
    "  a = 2*a"
   ]
  },
  {
   "cell_type": "markdown",
   "metadata": {
    "collapsed": false
   },
   "source": [
    "**Ecrire une boucle for qui n'affiche que les valeurs de la liste inférieures à 10.**"
   ]
  },
  {
   "cell_type": "code",
   "execution_count": 22,
   "metadata": {
    "collapsed": false
   },
   "outputs": [
   ],
   "source": [
    "ma_liste = [4,12,13,8,6,11,9]"
   ]
  },
  {
   "cell_type": "markdown",
   "metadata": {
    "collapsed": false
   },
   "source": [
    "**Ecrire une boucle qui compte le nombre de valeurs inférieures à 10 dans une variable.**"
   ]
  },
  {
   "cell_type": "code",
   "execution_count": 24,
   "metadata": {
    "collapsed": false
   },
   "outputs": [
   ],
   "source": [
   ]
  },
  {
   "cell_type": "markdown",
   "metadata": {
    "collapsed": false
   },
   "source": [
    "La fonction suivante est très pratique : elle permet de créer une liste d'entiers entre deux valeurs données. **Exécutez les exemples pour comprendre son fonctionnement**"
   ]
  },
  {
   "cell_type": "code",
   "execution_count": 25,
   "metadata": {
    "collapsed": false
   },
   "outputs": [
   ],
   "source": [
    "range(10)"
   ]
  },
  {
   "cell_type": "code",
   "execution_count": 26,
   "metadata": {
    "collapsed": false
   },
   "outputs": [
   ],
   "source": [
    "range(1,23)"
   ]
  },
  {
   "cell_type": "code",
   "execution_count": 27,
   "metadata": {
    "collapsed": false
   },
   "outputs": [
   ],
   "source": [
    "range(2,13,2)"
   ]
  },
  {
   "cell_type": "code",
   "execution_count": 28,
   "metadata": {
    "collapsed": false
   },
   "outputs": [
   ],
   "source": [
    "range(10,0,-1)"
   ]
  },
  {
   "cell_type": "markdown",
   "metadata": {
    "collapsed": false
   },
   "source": [
    "**Utilisez `range` pour afficher les nombres pairs inférieurs à 30**"
   ]
  },
  {
   "cell_type": "code",
   "execution_count": 29,
   "metadata": {
    "collapsed": false
   },
   "outputs": [
   ],
   "source": [
   ]
  },
  {
   "cell_type": "markdown",
   "metadata": {
    "collapsed": false
   },
   "source": [
    "On peut utiliser `range` avec une boucle `for`. "
   ]
  },
  {
   "cell_type": "code",
   "execution_count": 30,
   "metadata": {
    "collapsed": false
   },
   "outputs": [
   ],
   "source": [
    "for i in range(10):\n",
    "    print i"
   ]
  },
  {
   "cell_type": "markdown",
   "metadata": {
    "collapsed": false
   },
   "source": [
    "**Utilisez une boucle `for` avec `range` pour afficher les valeurs $i^2$ pour $1 \\leq i \\leq 10$ .**"
   ]
  },
  {
   "cell_type": "code",
   "execution_count": 31,
   "metadata": {
    "collapsed": false
   },
   "outputs": [
   ],
   "source": [
   ]
  },
  {
   "cell_type": "markdown",
   "metadata": {
    "collapsed": false
   },
   "source": [
    "**Remarque :** Il est très facile de tester si un élément appartient à une liste. "
   ]
  },
  {
   "cell_type": "code",
   "execution_count": 32,
   "metadata": {
    "collapsed": false
   },
   "outputs": [
   ],
   "source": [
    "l = [1,2,3]\n",
    "3 in l"
   ]
  },
  {
   "cell_type": "code",
   "execution_count": 33,
   "metadata": {
    "collapsed": false
   },
   "outputs": [
   ],
   "source": [
    "if 4 in l:\n",
    "    print \"l contient 4\"\n",
    "else:\n",
    "    print \"l ne contient pas 4\""
   ]
  },
  {
   "cell_type": "markdown",
   "metadata": {
    "collapsed": false
   },
   "source": [
    "**Exercice :** dans la cellule suivante, on définit 3 listes `L1`,`L2`,`L_resultat`. Ecrivez une boucle for pour que `L_resultat` contienne les valeurs qui sont **à la fois** dans `L1` et `L2`.\n"
   ]
  },
  {
   "cell_type": "code",
   "execution_count": 35,
   "metadata": {
    "collapsed": false
   },
   "outputs": [
   ],
   "source": [
    "L1 = [2,3,5,6,9,10]\n",
    "L2 = [1,2,3,4,5]\n",
    "L_resultat = []"
   ]
  },
  {
   "cell_type": "code",
   "execution_count": 36,
   "metadata": {
    "collapsed": false
   },
   "outputs": [
   ],
   "source": [
   ]
  },
  {
   "cell_type": "markdown",
   "metadata": {
    "collapsed": false
   },
   "source": [
    "## Autres structures\n",
    "\n",
    "Un **dictionnaire** est un tableau dont les indices peuvent être eux mêmes des objets (par exemple, des chaines de caractères). Par exemple, le dictionnaie suivant associe des notes et des élèves. "
   ]
  },
  {
   "cell_type": "code",
   "execution_count": 37,
   "metadata": {
    "collapsed": false
   },
   "outputs": [
   ],
   "source": [
    "d = dict()\n",
    "d[\"Anna\"] = 4.5\n",
    "d[\"Boris\"] = 18.\n",
    "d[\"Lisa\"] = 18.5\n",
    "d[\"Ahmed\"] = 15.\n",
    "d[\"Lou\"] = 10.\n",
    "d[\"Martin\"] =5.5\n",
    "d"
   ]
  },
  {
   "cell_type": "code",
   "execution_count": 40,
   "metadata": {
    "collapsed": false
   },
   "outputs": [
   ],
   "source": [
    "for nom in d:\n",
    "    print nom"
   ]
  },
  {
   "cell_type": "code",
   "execution_count": 41,
   "metadata": {
    "collapsed": false
   },
   "outputs": [
   ],
   "source": [
    "for nom in d:\n",
    "    print \"L'étudiant(e) \" + nom + \" a obtenu \" + str(d[nom])"
   ]
  },
  {
   "cell_type": "code",
   "execution_count": 42,
   "metadata": {
    "collapsed": false
   },
   "outputs": [
   ],
   "source": [
    "d.values()"
   ]
  },
  {
   "cell_type": "markdown",
   "metadata": {
    "collapsed": false
   },
   "source": [
    "**Exercice :** après avoir observer les exemples précédents. Calculez la moyenne des notes et affichez le nom de l'étudiant ayant eu la meilleure note. "
   ]
  },
  {
   "cell_type": "code",
   "execution_count": 43,
   "metadata": {
    "collapsed": false
   },
   "outputs": [
   ],
   "source": [
   ]
  },
  {
   "cell_type": "code",
   "execution_count": 44,
   "metadata": {
    "collapsed": false
   },
   "outputs": [
   ],
   "source": [
   ]
  },
  {
   "cell_type": "markdown",
   "metadata": {
    "collapsed": false
   },
   "source": [
    "## Listes doubles\n",
    "\n",
    "Tout comme en `C++`, il est possible de faire des listes de listes.\n"
   ]
  },
  {
   "cell_type": "code",
   "execution_count": 0,
   "metadata": {
    "collapsed": false
   },
   "outputs": [
   ],
   "source": [
    "l_double = [[1,2,3],[4,5,6]]\n",
    "l_double"
   ]
  },
  {
   "cell_type": "code",
   "execution_count": 4,
   "metadata": {
    "collapsed": false
   },
   "outputs": [
   ],
   "source": [
    "l_double[0][1]"
   ]
  },
  {
   "cell_type": "markdown",
   "metadata": {
    "collapsed": false
   },
   "source": [
    "**Affichez la valeur 4 en utilisant `l_double`.**"
   ]
  },
  {
   "cell_type": "code",
   "execution_count": 5,
   "metadata": {
    "collapsed": false
   },
   "outputs": [
   ],
   "source": [
   ]
  },
  {
   "cell_type": "markdown",
   "metadata": {
    "collapsed": false
   },
   "source": [
    "Voici un exemple de double boucle `for` qui affiche les valeurs de `l_double`. "
   ]
  },
  {
   "cell_type": "code",
   "execution_count": 6,
   "metadata": {
    "collapsed": false
   },
   "outputs": [
   ],
   "source": [
    "for ligne in l_double:\n",
    "    for v in ligne:\n",
    "        print v"
   ]
  },
  {
   "cell_type": "markdown",
   "metadata": {
    "collapsed": false
   },
   "source": [
    "Voici un exemple qui affiche les lignes de `l_double`"
   ]
  },
  {
   "cell_type": "code",
   "execution_count": 7,
   "metadata": {
    "collapsed": false
   },
   "outputs": [
   ],
   "source": [
    "for ligne in l_double:\n",
    "    print ligne"
   ]
  },
  {
   "cell_type": "markdown",
   "metadata": {
    "collapsed": false
   },
   "source": [
    "Prenons un peu d'avance sur votre programme de mathématiques, et observons des **matrices** qui sont un exemple classique d'utilisation de listes doubles."
   ]
  },
  {
   "cell_type": "code",
   "execution_count": 8,
   "metadata": {
    "collapsed": false
   },
   "outputs": [
   ],
   "source": [
    "m1 = Matrix([[1,1,3],[4,5,5],[6,7,9]])\n",
    "m1"
   ]
  },
  {
   "cell_type": "code",
   "execution_count": 9,
   "metadata": {
    "collapsed": false
   },
   "outputs": [
   ],
   "source": [
    "m1.determinant()"
   ]
  },
  {
   "cell_type": "code",
   "execution_count": 10,
   "metadata": {
    "collapsed": false
   },
   "outputs": [
   ],
   "source": [
    "m1.inverse()"
   ]
  },
  {
   "cell_type": "code",
   "execution_count": 11,
   "metadata": {
    "collapsed": false
   },
   "outputs": [
   ],
   "source": [
    "m1 *m1.inverse()"
   ]
  },
  {
   "cell_type": "markdown",
   "metadata": {
    "collapsed": false
   },
   "source": [
    "**Exercice :** Créez une matrice triangulaire inférieure ne contenant que des 1 (il y a des 1 sur la diagonale et en dessous, les autres valeurs sont des 0). Calculez son inverse et son déterminant."
   ]
  },
  {
   "cell_type": "code",
   "execution_count": 12,
   "metadata": {
    "collapsed": false
   },
   "outputs": [
   ],
   "source": [
   ]
  },
  {
   "cell_type": "markdown",
   "metadata": {
    "collapsed": false
   },
   "source": [
    "## Fonctions\n",
    "\n",
    "Tout comme en `C++`, il est possible de définir des fonctions en `python`. **Exécutez l'exemple ci-dessous.**\n"
   ]
  },
  {
   "cell_type": "code",
   "execution_count": 13,
   "metadata": {
    "collapsed": false
   },
   "outputs": [
   ],
   "source": [
    "def biggest_prime(n):\n",
    "    while n>=1:\n",
    "        if n.is_prime():\n",
    "            return n\n",
    "        n = n-1\n",
    "    return None"
   ]
  },
  {
   "cell_type": "code",
   "execution_count": 14,
   "metadata": {
    "collapsed": false
   },
   "outputs": [
   ],
   "source": [
    "print biggest_prime(100)\n",
    "print biggest_prime(75)"
   ]
  },
  {
   "cell_type": "markdown",
   "metadata": {
    "collapsed": false
   },
   "source": [
    "Ce premier exemple donne la syntaxte d'une fonction. Elle se définit avec le mot clé `def` suivi du nom de la fonction. Ensuite, on donne entre paranthèse les noms des arguments. Comme pour les boucles `for`, on doit écrire le code de la fonction en dessous et de manière indentée ! Enfin, pour retourner un résultat, il faut utiliser la commande `return`.\n",
    "\n",
    "**Attention !** Une fonction python est un ensemble de ligne de code à exécuter, ce n'est pas la même chose que les fonctions mathématiques que nous avons vues dans le TP1.\n",
    "\n",
    "Par ailleurs, vous remarquerez que, contrairement au `C++`, on ne spécifie pas le type des variables. Le python est un langage dynamique et toute la sémantique est donc testée au niveau de l'exécution. **Exécutez la cellule suivante et observez l'erreur de type.**\n"
   ]
  },
  {
   "cell_type": "code",
   "execution_count": 15,
   "metadata": {
    "collapsed": false
   },
   "outputs": [
   ],
   "source": [
    "biggest_prime(\"test\")"
   ]
  },
  {
   "cell_type": "markdown",
   "metadata": {
    "collapsed": false
   },
   "source": [
    "**Observez la fonction suivante et son exemple d'utilisation. Exécutez quelques exemples supplémentaires.**"
   ]
  },
  {
   "cell_type": "code",
   "execution_count": 16,
   "metadata": {
    "collapsed": false
   },
   "outputs": [
   ],
   "source": [
    "def tangente_plot(f,a,xmin,xmax):\n",
    "    t = f.derivative(x)(a)*(x-a)+f(a)\n",
    "    return plot(f,(x,xmin,xmax), color=\"blue\") + plot(t,(x,xmin,xmax),color=\"red\")"
   ]
  },
  {
   "cell_type": "code",
   "execution_count": 17,
   "metadata": {
    "collapsed": false
   },
   "outputs": [
   ],
   "source": [
    "f(x) = sin(x)*x +1\n",
    "tangente_plot(f,2,-4,4)"
   ]
  },
  {
   "cell_type": "code",
   "execution_count": 0,
   "metadata": {
    "collapsed": false
   },
   "outputs": [
   ],
   "source": [
   ]
  },
  {
   "cell_type": "code",
   "execution_count": 0,
   "metadata": {
    "collapsed": false
   },
   "outputs": [
   ],
   "source": [
   ]
  },
  {
   "cell_type": "code",
   "execution_count": 0,
   "metadata": {
    "collapsed": false
   },
   "outputs": [
   ],
   "source": [
   ]
  },
  {
   "cell_type": "markdown",
   "metadata": {
    "collapsed": false
   },
   "source": [
    "**Exercice :** écrire une fonction qui prend en paramètre un nombre $n$ et retroune le plot d'un polygône régulier à $n$ côtés entouré d'un cercle rouge."
   ]
  },
  {
   "cell_type": "code",
   "execution_count": 5,
   "metadata": {
    "collapsed": false
   },
   "outputs": [
   ],
   "source": [
   ]
  },
  {
   "cell_type": "code",
   "execution_count": 6,
   "metadata": {
    "collapsed": false
   },
   "outputs": [
   ],
   "source": [
   ]
  },
  {
   "cell_type": "markdown",
   "metadata": {
    "collapsed": false
   },
   "source": [
    "## Compréhension de listes\n",
    "\n",
    "La syntaxe du python offre beaucoup de souplesse pour la création de listes. **Exécutez les exemples suivants.**\n"
   ]
  },
  {
   "cell_type": "code",
   "execution_count": 20,
   "metadata": {
    "collapsed": false
   },
   "outputs": [
   ],
   "source": [
    "l1 = [i*2 for i in range(5)]\n",
    "l1"
   ]
  },
  {
   "cell_type": "code",
   "execution_count": 21,
   "metadata": {
    "collapsed": false
   },
   "outputs": [
   ],
   "source": [
    "l2 = [i/2 for i in l1]\n",
    "l2"
   ]
  },
  {
   "cell_type": "markdown",
   "metadata": {
    "collapsed": false
   },
   "source": [
    "De la même façon, on peut rajouter des conditions."
   ]
  },
  {
   "cell_type": "code",
   "execution_count": 22,
   "metadata": {
    "collapsed": false
   },
   "outputs": [
   ],
   "source": [
    "l1 = [2,2,15,3,5,1,10,12,4]\n",
    "l1"
   ]
  },
  {
   "cell_type": "code",
   "execution_count": 23,
   "metadata": {
    "collapsed": false
   },
   "outputs": [
   ],
   "source": [
    "l2 = [i for i in l1 if i<10]\n",
    "l2"
   ]
  },
  {
   "cell_type": "markdown",
   "metadata": {
    "collapsed": false
   },
   "source": [
    "**Utilisez une syntaxe similaire pour créer la liste des entiers impaires inférieurs à 20. De même pour les nombres premiers inférieurs à 100. (Remarque, il existe une fonction `is_prime`)**"
   ]
  },
  {
   "cell_type": "code",
   "execution_count": 1,
   "metadata": {
    "collapsed": false
   },
   "outputs": [
   ],
   "source": [
   ]
  },
  {
   "cell_type": "code",
   "execution_count": 2,
   "metadata": {
    "collapsed": false
   },
   "outputs": [
   ],
   "source": [
   ]
  },
  {
   "cell_type": "markdown",
   "metadata": {
    "collapsed": false
   },
   "source": [
    "## Animations\n",
    "\n",
    "Sage permet la création d'animations à partir d'une liste de plots. L'utilisation de la compréhension de liste python rend son utilisation d'autant plus simple. **Exécutez l'exemple suivant.**\n",
    "\n",
    "**Cliquez sur le bouton bleu \"Fetch additional output\" lorsqu'il apparaît pour voir l'animation**.\n"
   ]
  },
  {
   "cell_type": "code",
   "execution_count": 10,
   "metadata": {
    "collapsed": false
   },
   "outputs": [
   ],
   "source": [
    "mes_plots = [circle((0,0),1,color=\"red\") + point2d((cos(t*2*pi/20),sin(t*2*pi/20))) for t in xrange(20)]\n",
    "a = animate(mes_plots)"
   ]
  },
  {
   "cell_type": "code",
   "execution_count": 11,
   "metadata": {
    "collapsed": false
   },
   "outputs": [
   ],
   "source": [
    "a.show()"
   ]
  },
  {
   "cell_type": "markdown",
   "metadata": {
    "collapsed": false
   },
   "source": [
    "**Exercice** Créer une animation représentant des polygônes réguliers à l'intérieur d'un cercle, le nombre de côté des polygônes doit varier entre 3 et 10."
   ]
  },
  {
   "cell_type": "code",
   "execution_count": 7,
   "metadata": {
    "collapsed": false
   },
   "outputs": [
   ],
   "source": [
   ]
  },
  {
   "cell_type": "code",
   "execution_count": 0,
   "metadata": {
    "collapsed": false
   },
   "outputs": [
   ],
   "source": [
   ]
  }
 ],
 "metadata": {
  "kernelspec": {
   "display_name": "SageMath 8.1",
   "name": "sage-8.1"
  },
  "language_info": {
   "codemirror_mode": {
    "name": "ipython",
    "version": 2
   },
   "file_extension": ".py",
   "mimetype": "text/x-python",
   "name": "python",
   "nbconvert_exporter": "python",
   "pygments_lexer": "ipython2",
   "version": "2.7.14"
  }
 },
 "nbformat": 4,
 "nbformat_minor": 0
}