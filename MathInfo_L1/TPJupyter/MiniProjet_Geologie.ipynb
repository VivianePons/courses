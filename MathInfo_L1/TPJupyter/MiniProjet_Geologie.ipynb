{
 "cells": [
  {
   "cell_type": "markdown",
   "metadata": {
    "collapsed": false
   },
   "source": [
    "# Un problème de géologie\n",
    "\n",
    "ous allons modéliser la propagation d'un front d'onde dans le sol. La difficulté sera de tenir compte des inhomogénéités du terrain pour décrire la propagation de l'onde. Ce TP se décomposera en sous 2 parties\n",
    "\n",
    "1. La définition du milieu,\n",
    "2. et le calculs effectifs de la propagation de l'onde.\n",
    "\n",
    "## La définition du milieu\n",
    "\n",
    "Le terrain que nous allons chercher à modéliser sera représenté par une fonction à $2$ coordonnées $x$ et $y$ (la profondeur), qui à chaque position associe une densité. Dans notre modèle, cette densité indiquera la vitesse $v(x,y)$ de propagation des ondes en ce point. On supposera que la vitesse varie entre 0. (aucune propagation) et 1 (vitesse maximale). Par exemple, pour un terrain parfaitement homogène, on définira une fonction comme ci-après :"
   ]
  },
  {
   "cell_type": "code",
   "execution_count": 1,
   "metadata": {
    "collapsed": false
   },
   "outputs": [
   ],
   "source": [
    "def milieu_homogene(x,y):\n",
    "    #milieu parfaitement homogène\n",
    "    return 1.0"
   ]
  },
  {
   "cell_type": "markdown",
   "metadata": {
    "collapsed": false
   },
   "source": [
    "La fonction ci-dessus renvoie pour toutes positions la valeur constante $1$, donc dans tout le milieu l'onde se propage à vitesse constante. Cependant, ce modèle est assez peu réaliste car le sol est généralement structuré par couches. On parle de milieu stratifié.\n",
    "\n",
    "**Écrire une fonction qui définit un milieu contenant $3$ couches dans lesquelles nous avons trois vitesses constantes différentes. On supposera que $y$ varie entre 0 et -1, on découpera l'espace en trois couches égales avec les vitesses :  0.35 (peu profond), 0.75 (profondeur moyenne) et 1 (profond). La vitesse varie donc uniquement selon la profondeur $y$.**"
   ]
  },
  {
   "cell_type": "code",
   "execution_count": 2,
   "metadata": {
    "collapsed": false
   },
   "outputs": [
   ],
   "source": [
    "def milieu_couches(x,y):\n",
    "    \"\"\"\n",
    "    Renvoie la vitesse au point x,y selon un modèle de propagation à 3 couches\n",
    "    \"\"\"\n",
    "    # écrire le code\n"
   ]
  },
  {
   "cell_type": "code",
   "execution_count": 3,
   "metadata": {
    "collapsed": false
   },
   "outputs": [
   ],
   "source": [
    "milieu_couches(2,-0.4)"
   ]
  },
  {
   "cell_type": "code",
   "execution_count": 4,
   "metadata": {
    "collapsed": false
   },
   "outputs": [
   ],
   "source": [
    "# vérifiez que votre fonction passe les tests suivants\n",
    "assert(milieu_couches(0,-0.2) == 0.35)\n",
    "assert(milieu_couches(-2,-0.5) == 0.75)\n",
    "assert(milieu_couches(1,-0.99) == 1)"
   ]
  },
  {
   "cell_type": "markdown",
   "metadata": {
    "collapsed": false
   },
   "source": [
    "Il est possible d'afficher la valeur de la vitesse dans le milieu à l'aide la fonction `density_plot`. Si on exécute la fonction sur le milieu homogène on obtient un restangle uni."
   ]
  },
  {
   "cell_type": "code",
   "execution_count": 5,
   "metadata": {
    "collapsed": false
   },
   "outputs": [
   ],
   "source": [
    "density_plot(milieu_homogene,(-0.5,0.5),(-1,0))"
   ]
  },
  {
   "cell_type": "markdown",
   "metadata": {
    "collapsed": false
   },
   "source": [
    "**Utilisez `density_plot` pour afficher la densité de votre milieu à trois couches.**"
   ]
  },
  {
   "cell_type": "code",
   "execution_count": 6,
   "metadata": {
    "collapsed": false
   },
   "outputs": [
   ],
   "source": [
   ]
  },
  {
   "cell_type": "markdown",
   "metadata": {
    "collapsed": false
   },
   "source": [
    "La fonction `density_plot` peut prendre un argument `cmap` qui permet de faire varier les couleurs utilisées. `cmap` peut prendre les valeurs suivantes."
   ]
  },
  {
   "cell_type": "code",
   "execution_count": 7,
   "metadata": {
    "collapsed": false
   },
   "outputs": [
   ],
   "source": [
    "import matplotlib.cm as cm\n",
    "for k in cm.datad.keys():\n",
    "    print k"
   ]
  },
  {
   "cell_type": "code",
   "execution_count": 8,
   "metadata": {
    "collapsed": false
   },
   "outputs": [
   ],
   "source": [
    "density_plot(milieu_homogene,(-0.5,0.5),(-1,0), cmap = \"Blues\")"
   ]
  },
  {
   "cell_type": "markdown",
   "metadata": {
    "collapsed": false
   },
   "source": [
    "**Testez différentes valeurs pour *cmap* pour afficher votre densité**"
   ]
  },
  {
   "cell_type": "code",
   "execution_count": 9,
   "metadata": {
    "collapsed": false
   },
   "outputs": [
   ],
   "source": [
   ]
  },
  {
   "cell_type": "markdown",
   "metadata": {
    "collapsed": false
   },
   "source": [
    "Une manière de définir un obstacle est de considérer une zone dans laquelle la vitesse de l'onde est nulle. Dans ce cas, l'onde ne se propage plus et est arrêtée par l'obstacle.\n",
    "\n",
    "**Ecrivez deux fonctions `obstacle_rectangle` et `obstacle_rond` qui prennent en argument $x$ et $y$ et retournent `True` si le point est à l'intérieur de l'obstacle et et `False` sinon.** Les obstacles doivent être un rectangle et un rond, la taille et la position est laissée libre mais l'objet doit se trouver dans la fenètre $x \\in [-0.5,0.5]$, $y \\in [-1, 0]$"
   ]
  },
  {
   "cell_type": "code",
   "execution_count": 10,
   "metadata": {
    "collapsed": false
   },
   "outputs": [
   ],
   "source": [
    "def obstacle_rectangle(x,y):\n",
    "    \"\"\"\n",
    "    Renvoie True sur (x,y) appartient à un certain rectangle (au choix du développeur) et faux sinon\n",
    "    \"\"\"\n",
    "    # écrire le code\n",
    "\n",
    "def obstacle_rond(x,y):\n",
    "    \"\"\"\n",
    "    Renvoie True sur (x,y) appartient à un certain cercle (au choix du développeur) et faux sinon\n",
    "    \"\"\"\n",
    "    # écrire le code\n"
   ]
  },
  {
   "cell_type": "code",
   "execution_count": 11,
   "metadata": {
    "collapsed": false
   },
   "outputs": [
   ],
   "source": [
    "# écrire un exemple appelant obstacle_rectangle et qui renvoie True\n"
   ]
  },
  {
   "cell_type": "code",
   "execution_count": 12,
   "metadata": {
    "collapsed": false
   },
   "outputs": [
   ],
   "source": [
    "# écrire un exemple appelant obstacle_rectangle et qui renvoie False\n"
   ]
  },
  {
   "cell_type": "code",
   "execution_count": 13,
   "metadata": {
    "collapsed": false
   },
   "outputs": [
   ],
   "source": [
    "# écrire un exemple appelant obstacle_rond et qui renvoie True\n"
   ]
  },
  {
   "cell_type": "code",
   "execution_count": 14,
   "metadata": {
    "collapsed": false
   },
   "outputs": [
   ],
   "source": [
    "# écrire un exemple appelant obstacle_rectangle et qui renvoie False\n"
   ]
  },
  {
   "cell_type": "markdown",
   "metadata": {
    "collapsed": false
   },
   "source": [
    "**Ecrivez quatre fonctions qui correspondent aux quatre milieux suivants :**\n",
    "  * milieu homogène avec obsctacle rectangle\n",
    "  * milieu homogène avec obsctale rond\n",
    "  * milieu 3 couches avec obstacle rectangle\n",
    "  * milieu 3 couches avec obstacle rond\n",
    "\n",
    "**La vitesse doit être de 0 à l'intérieur de l'obstacle et suivre la règle habituelle du milieu sinon. Pensez à utiliser les fonctions écrites précédemment !!**\n",
    "\n",
    "**Affichez chaque milieu avec `density_plot`**"
   ]
  },
  {
   "cell_type": "code",
   "execution_count": 15,
   "metadata": {
    "collapsed": false
   },
   "outputs": [
   ],
   "source": [
   ]
  },
  {
   "cell_type": "code",
   "execution_count": 16,
   "metadata": {
    "collapsed": false
   },
   "outputs": [
   ],
   "source": [
   ]
  },
  {
   "cell_type": "code",
   "execution_count": 17,
   "metadata": {
    "collapsed": false
   },
   "outputs": [
   ],
   "source": [
   ]
  },
  {
   "cell_type": "code",
   "execution_count": 18,
   "metadata": {
    "collapsed": false
   },
   "outputs": [
   ],
   "source": [
   ]
  },
  {
   "cell_type": "code",
   "execution_count": 19,
   "metadata": {
    "collapsed": false
   },
   "outputs": [
   ],
   "source": [
   ]
  },
  {
   "cell_type": "markdown",
   "metadata": {
    "collapsed": false
   },
   "source": [
    "Soit $f$, une fonction continue de votre choix, tel que\n",
    " * $f(0) = 0$\n",
    " * $f(1) = 1$\n",
    " \n",
    "**Ecrire une fonction `milieu_continu` qui en fonction d'un point fixé $C$ et d'un rayon $r$ de votre choix est défini tel que**\n",
    "\n",
    " * Si $(x,y)$ est à une disance de $C$ supérieure à $r$, alors la vitesse est de 1.\n",
    " * Sinon, la vitesse est donnée par $f(d/r)$ où $d$ est la distance au point $C$.\n",
    " \n",
    "Puis afficher sa densité."
   ]
  },
  {
   "cell_type": "code",
   "execution_count": 3,
   "metadata": {
    "collapsed": false
   },
   "outputs": [
   ],
   "source": [
   ]
  },
  {
   "cell_type": "code",
   "execution_count": 21,
   "metadata": {
    "collapsed": false
   },
   "outputs": [
   ],
   "source": [
    "density_plot(milieu_continu, (-0.5,0.5), (-1,0), cmap=\"Blues\")"
   ]
  },
  {
   "cell_type": "markdown",
   "metadata": {
    "collapsed": false
   },
   "source": [
    "## La propagation d'une onde\n",
    "\n",
    "Nous allons maintenant modéliser la propagation d'une onde dans nos différents domaines. Pour simplifier, on supposera que la position du front d'onde est décrite par : \n",
    "$$(x(t),y(t)) = r(t) (cos(\\theta),sin(\\theta))$$ \n",
    "où l'angle $\\theta$ ne dépend pas de $t$ et $r(t)$ est une distance postivie $r(t)>0$. Comme les ondes se propagent dans le sol, donc vers le bas, on supposera $\\theta \\in [\\pi, 2\\pi]$ (ainsi, la coordonnée $y$ est toujours négative).\n",
    "\n",
    "Dans une direction $\\theta \\in [\\pi,2\\pi]$ fixée, on suppose que la vitesse $v$ vérifie $$r'(t) = v\\left(r(t)cos(\\theta), r(t)sin(\\theta) \\right).$$\n",
    "\n",
    "Ecrire une fonction `vitesse` qui prend en paramètre un angle `theta`, un `milieu` (sous la forme de fonction python) et un rayon `r` et qui retourne la vitesse au point donné.\n",
    "\n"
   ]
  },
  {
   "cell_type": "code",
   "execution_count": 5,
   "metadata": {
    "collapsed": false
   },
   "outputs": [
   ],
   "source": [
    "def vitesse(milieu, r, theta):\n",
    "    \"\"\"\n",
    "    Renvoie la vitesse au point identifié par le rayon `r` et l'angle `theta` selon le milieu `milieu`\n",
    "    \"\"\"\n",
    "    # écrire le code\n"
   ]
  },
  {
   "cell_type": "code",
   "execution_count": 23,
   "metadata": {
    "collapsed": false
   },
   "outputs": [
   ],
   "source": [
    "# exemple\n",
    "vitesse(milieu_homogene, 0.5, 3*pi/2) # doit renvoyer 1"
   ]
  },
  {
   "cell_type": "code",
   "execution_count": 24,
   "metadata": {
    "collapsed": false
   },
   "outputs": [
   ],
   "source": [
    "vitesse(milieu_couches, 0.5, 3*pi/2) # doit renvoyer 0.75"
   ]
  },
  {
   "cell_type": "code",
   "execution_count": 25,
   "metadata": {
    "collapsed": false
   },
   "outputs": [
   ],
   "source": [
    "# exécutez d'autres exemples"
   ]
  },
  {
   "cell_type": "code",
   "execution_count": 0,
   "metadata": {
    "collapsed": false
   },
   "outputs": [
   ],
   "source": [
   ]
  },
  {
   "cell_type": "code",
   "execution_count": 0,
   "metadata": {
    "collapsed": false
   },
   "outputs": [
   ],
   "source": [
   ]
  },
  {
   "cell_type": "code",
   "execution_count": 0,
   "metadata": {
    "collapsed": false
   },
   "outputs": [
   ],
   "source": [
   ]
  },
  {
   "cell_type": "code",
   "execution_count": 0,
   "metadata": {
    "collapsed": false
   },
   "outputs": [
   ],
   "source": [
   ]
  },
  {
   "cell_type": "code",
   "execution_count": 0,
   "metadata": {
    "collapsed": false
   },
   "outputs": [
   ],
   "source": [
   ]
  },
  {
   "cell_type": "markdown",
   "metadata": {
    "collapsed": false
   },
   "source": [
    "Soit $f(r)$ la vitesse au rayon $r$ pour un angle et un milieu donné. L'équation différentielle $r'(t) = f(r)$ ne peut pas être résolue exactement, car la fonction $f$ est a priori quelconque. Nous allons donc utiliser une méthode numérique de résolution. L'idée est d'utiliser l'algorithme suivant :\n",
    "    $$\\dfrac{r(t_{n+1}) - r(t_{n})}{\\delta_t} = f(r(t_n))$$\n",
    " où $t_n = n \\delta_t$, et $\\delta_t>0$ est un paramètre petit. L'idée de la méthode est de remplacer la dérivée $r'(t)$ par un taux d'accroissement. Remarquer que quand $\\delta_t \\rightarrow 0$, ce taux d'accroissement tend vers la dérivée $r'(t_n)$. Dans l'expression ci-dessus, on peut isoler $r(t_{n+1})$ comme suit :\n",
    "    $$r(t_{n+1}) = \\delta_t f(r(t_n)) + r(t_{n}).$$\n",
    "Étant donnée $r(t_0=0)=0$, on peut calculer la suite des $r(t_{n})$ avec l'expression ci-dessus jusque $t_N = T$, où $T$ est un paramètre choisi.\n",
    "\n",
    "**À l'aide de la méthode décrite (méthode d'Euler explicite), écrire une fonction prenant en paramètre le milieu, l'angle theta, le temps $T$ et le pas $\\delta_t$ et qui retourne la liste des valeurs $r(t_n)$ jusqu'à $t = T$.**(Pour le stests, on choisira $T=1$ et $\\delta_t = 0.1$.)"
   ]
  },
  {
   "cell_type": "code",
   "execution_count": 11,
   "metadata": {
    "collapsed": false
   },
   "outputs": [
   ],
   "source": [
    "def rayons(milieu, theta, T, delta):\n",
    "    \"\"\"\n",
    "    Renvoie la liste des rayons r(t_0 = 0)...r(t_n > T) dans la direction theta par la méthode d'Euler explicite selon le milieu donné\n",
    "    \n",
    "    INPUT :\n",
    "        - milieu, une fonction python\n",
    "        - theta une valeur entre pi et 2*pi\n",
    "        - T le temps T maximal\n",
    "        - la variation de temps à chaque étape\n",
    "    \"\"\"\n",
    "    # écrire le code\n"
   ]
  },
  {
   "cell_type": "code",
   "execution_count": 12,
   "metadata": {
    "collapsed": false
   },
   "outputs": [
   ],
   "source": [
    "rayons(milieu_homogene,3*2*pi/4,1.,0.1 ) # doit renvoyer la liste 0, 0.1, 0.2 etc."
   ]
  },
  {
   "cell_type": "code",
   "execution_count": 28,
   "metadata": {
    "collapsed": false
   },
   "outputs": [
   ],
   "source": [
    "# effectuez d'autres tests"
   ]
  },
  {
   "cell_type": "code",
   "execution_count": 0,
   "metadata": {
    "collapsed": false,
    "scrolled": true
   },
   "outputs": [
   ],
   "source": [
   ]
  },
  {
   "cell_type": "code",
   "execution_count": 0,
   "metadata": {
    "collapsed": false
   },
   "outputs": [
   ],
   "source": [
   ]
  },
  {
   "cell_type": "code",
   "execution_count": 0,
   "metadata": {
    "collapsed": false
   },
   "outputs": [
   ],
   "source": [
   ]
  },
  {
   "cell_type": "code",
   "execution_count": 0,
   "metadata": {
    "collapsed": false
   },
   "outputs": [
   ],
   "source": [
   ]
  },
  {
   "cell_type": "code",
   "execution_count": 0,
   "metadata": {
    "collapsed": false
   },
   "outputs": [
   ],
   "source": [
   ]
  },
  {
   "cell_type": "markdown",
   "metadata": {
    "collapsed": false
   },
   "source": [
    "On considère un émetteur placé sur le sol en coordonnée $(0,0)$. Il émet une onde qui va se propager dans toutes les directions $\\theta \\in [\\pi,2\\pi]$. Avec ce que nous avons développé jusqu'ici, le but est de représenter l'onde se propageant dans un milieu choisi.\n",
    "\n",
    "**Écrire une fonction qui prend en argument un `milieu` et un temps $T$ de simulation, et qui renvoie une animation du front d'onde se propageant dans le milieu considéré (tester avec les différents milieux définis).**\n",
    "\n",
    "**Indication :** Pour calculer la solution dans 'toutes' les directions $\\theta$, considérer simplement $50$ valeurs de $\\theta$ reparties équitablement dans l'intervalle $[\\pi,2\\pi]$."
   ]
  },
  {
   "cell_type": "code",
   "execution_count": 16,
   "metadata": {
    "collapsed": false
   },
   "outputs": [
   ],
   "source": [
   ]
  },
  {
   "cell_type": "code",
   "execution_count": 17,
   "metadata": {
    "collapsed": false,
    "scrolled": true
   },
   "outputs": [
   ],
   "source": [
   ]
  },
  {
   "cell_type": "code",
   "execution_count": 18,
   "metadata": {
    "collapsed": false,
    "scrolled": true
   },
   "outputs": [
   ],
   "source": [
   ]
  },
  {
   "cell_type": "code",
   "execution_count": 0,
   "metadata": {
    "collapsed": false
   },
   "outputs": [
   ],
   "source": [
   ]
  }
 ],
 "metadata": {
  "kernelspec": {
   "display_name": "SageMath 8.1",
   "name": "sage-8.1"
  },
  "language_info": {
   "codemirror_mode": {
    "name": "ipython",
    "version": 2
   },
   "file_extension": ".py",
   "mimetype": "text/x-python",
   "name": "python",
   "nbconvert_exporter": "python",
   "pygments_lexer": "ipython2",
   "version": "2.7.14"
  }
 },
 "nbformat": 4,
 "nbformat_minor": 0
}